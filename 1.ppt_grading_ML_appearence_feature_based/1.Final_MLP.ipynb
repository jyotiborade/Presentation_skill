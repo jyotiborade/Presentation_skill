{
 "cells": [
  {
   "cell_type": "code",
   "execution_count": 1,
   "metadata": {},
   "outputs": [],
   "source": [
    "import pandas as pd\n",
    "from matplotlib import pyplot as plt\n",
    "from sklearn import linear_model\n",
    "from sklearn.model_selection import train_test_split\n",
    "from sklearn.metrics import confusion_matrix,classification_report\n",
    "%matplotlib inline\n",
    "from sklearn.model_selection import RepeatedKFold\n",
    "from sklearn.model_selection import cross_val_score"
   ]
  },
  {
   "cell_type": "code",
   "execution_count": 1,
   "metadata": {},
   "outputs": [
    {
     "name": "stdout",
     "output_type": "stream",
     "text": [
      "Tuned Hyperparameters : {'activation': 'relu', 'alpha': 0.05, 'hidden_layer_sizes': (50, 50, 50), 'learning_rate': 'constant', 'solver': 'sgd'}\n",
      "Accuracy : 0.9379446640316205\n"
     ]
    },
    {
     "name": "stderr",
     "output_type": "stream",
     "text": [
      "C:\\Users\\DELL\\anaconda3\\lib\\site-packages\\sklearn\\neural_network\\_multilayer_perceptron.py:692: ConvergenceWarning: Stochastic Optimizer: Maximum iterations (500) reached and the optimization hasn't converged yet.\n",
      "  warnings.warn(\n"
     ]
    }
   ],
   "source": [
    "from sklearn.neural_network import MLPClassifier\n",
    "from numpy import mean\n",
    "from numpy import std\n",
    "from sklearn.discriminant_analysis import LinearDiscriminantAnalysis as LDA\n",
    "import pandas as pd\n",
    "from sklearn import model_selection\n",
    "from sklearn.metrics import confusion_matrix,classification_report\n",
    "from sklearn.model_selection import RepeatedKFold\n",
    "from sklearn.model_selection import cross_validate\n",
    "from sklearn.model_selection import train_test_split\n",
    "from sklearn.metrics import make_scorer \n",
    "from sklearn.metrics import precision_score\n",
    "from sklearn.metrics import recall_score\n",
    "from sklearn.metrics import f1_score\n",
    "from sklearn.metrics import accuracy_score\n",
    "from sklearn.neural_network import MLPClassifier\n",
    "from sklearn.preprocessing import MinMaxScaler\n",
    "df=pd.read_csv(\"E:/4.dataset_150.csv\")\n",
    "X=df.iloc[:,:18]\n",
    "y=df['output_grade']\n",
    "y=y.values.ravel()\n",
    "scaler = MinMaxScaler(feature_range=(0, 1))\n",
    "x= scaler.fit_transform(X)\n",
    "# prepare the cross-validation procedure\n",
    "\n",
    "#cv = RepeatedKFold(n_splits=5, n_repeats=1, random_state=41)\n",
    "lda = LDA(n_components=1)\n",
    "x = lda.fit_transform(x, y)\n",
    "x_train,x_test,y_train,y_test=train_test_split(x,y,test_size=0.25)\n",
    "\n",
    "from sklearn.model_selection import GridSearchCV\n",
    "\n",
    "mlp = MLPClassifier(max_iter=500)\n",
    "\n",
    "parameter_space = {\n",
    "    'hidden_layer_sizes': [(22, 50,25),(25,25,40),(50,50,50), (50,100,50), (100,),(100,100,)],\n",
    "    'activation': ['tanh', 'relu'],\n",
    "    'solver': ['sgd', 'adam','lbfgs'],\n",
    "    'alpha': [0.0001, 0.05],\n",
    "    'learning_rate': ['constant','adaptive'],\n",
    "}\n",
    "clf = GridSearchCV(mlp, parameter_space, n_jobs=-1, cv=5)\n",
    "clf.fit(x_train, y_train)\n",
    "\n",
    "\n",
    "print(\"Tuned Hyperparameters :\", clf.best_params_)\n",
    "print(\"Accuracy :\",clf.best_score_)\n",
    "\n",
    "# Best paramete set\n",
    "#print('Best parameters found:\\n', clf.best_params_)\n",
    "\n",
    "# All results\n",
    "#means = clf.cv_results_['mean_test_score']\n",
    "#stds = clf.cv_results_['std_test_score']\n",
    "#for mean, std, params in zip(means, stds, clf.cv_results_['params']):\n",
    "#    print(\"%0.3f (+/-%0.03f) for %r\" % (mean, std * 2, params))\n",
    "\n"
   ]
  },
  {
   "cell_type": "code",
   "execution_count": null,
   "metadata": {},
   "outputs": [],
   "source": [
    "#Tuned Hyperparameters : {'activation': 'relu', 'alpha': 0.05, 'hidden_layer_sizes': (50, 50, 50), 'learning_rate': 'constant', 'solver': 'sgd'}\n",
    "#Accuracy : 0.9379446640316205"
   ]
  },
  {
   "cell_type": "code",
   "execution_count": 3,
   "metadata": {},
   "outputs": [
    {
     "name": "stderr",
     "output_type": "stream",
     "text": [
      "D:\\PhD\\anaconda38\\lib\\site-packages\\sklearn\\utils\\validation.py:72: DataConversionWarning: A column-vector y was passed when a 1d array was expected. Please change the shape of y to (n_samples, ), for example using ravel().\n",
      "  return f(**kwargs)\n"
     ]
    }
   ],
   "source": [
    "from sklearn.discriminant_analysis import LinearDiscriminantAnalysis as LDA\n",
    "\n",
    "lda = LDA(n_components=1)\n",
    "x = lda.fit_transform(x, y)\n",
    "#x_test = lda.transform(x_test)"
   ]
  },
  {
   "cell_type": "code",
   "execution_count": 21,
   "metadata": {},
   "outputs": [],
   "source": [
    "from sklearn.neural_network import MLPClassifier\n",
    "\n",
    "clf = MLPClassifier(activation='relu',alpha=0.05,solver='sgd', learning_rate= 'constant',\n",
    "                    hidden_layer_sizes=(50,50,50), random_state=1)\n",
    "\n"
   ]
  },
  {
   "cell_type": "code",
   "execution_count": 22,
   "metadata": {},
   "outputs": [],
   "source": [
    "\n",
    "from sklearn.model_selection import train_test_split\n",
    "x_train,x_test,y_train,y_test=train_test_split(x,y,test_size=0.30)\n",
    "\n"
   ]
  },
  {
   "cell_type": "code",
   "execution_count": 23,
   "metadata": {},
   "outputs": [
    {
     "name": "stderr",
     "output_type": "stream",
     "text": [
      "C:\\Users\\DELL\\anaconda3\\lib\\site-packages\\sklearn\\neural_network\\_multilayer_perceptron.py:692: ConvergenceWarning: Stochastic Optimizer: Maximum iterations (200) reached and the optimization hasn't converged yet.\n",
      "  warnings.warn(\n"
     ]
    },
    {
     "data": {
      "text/plain": [
       "array([1, 1, 3, 1, 4, 4, 2, 1, 4, 2, 2, 4, 4, 2, 1, 4, 2, 2, 1, 4, 4, 2,\n",
       "       4, 2, 3, 3, 2, 3, 1, 4, 1, 1, 2, 4, 3, 1, 3, 3, 1, 1, 2, 1, 4, 4,\n",
       "       1], dtype=int64)"
      ]
     },
     "execution_count": 23,
     "metadata": {},
     "output_type": "execute_result"
    }
   ],
   "source": [
    "clf.fit(x_train,y_train)\n",
    "y_pred=clf.predict(x_test)\n",
    "y_pred"
   ]
  },
  {
   "cell_type": "code",
   "execution_count": 24,
   "metadata": {},
   "outputs": [
    {
     "name": "stdout",
     "output_type": "stream",
     "text": [
      "accuracy is:88.89%\n"
     ]
    }
   ],
   "source": [
    "from sklearn.metrics import accuracy_score\n",
    "print(\"accuracy is:{0:.2f}%\".format(accuracy_score(y_test,y_pred)*100))\n"
   ]
  },
  {
   "cell_type": "code",
   "execution_count": 25,
   "metadata": {},
   "outputs": [
    {
     "data": {
      "text/plain": [
       "0.8888888888888888"
      ]
     },
     "execution_count": 25,
     "metadata": {},
     "output_type": "execute_result"
    }
   ],
   "source": [
    "clf.score(x_test,y_test)"
   ]
  },
  {
   "cell_type": "code",
   "execution_count": 26,
   "metadata": {},
   "outputs": [
    {
     "data": {
      "text/plain": [
       "0.8888888888888888"
      ]
     },
     "execution_count": 26,
     "metadata": {},
     "output_type": "execute_result"
    }
   ],
   "source": [
    "from sklearn.metrics import accuracy_score\n",
    "accuracy_score(y_pred,y_test)"
   ]
  },
  {
   "cell_type": "code",
   "execution_count": 27,
   "metadata": {},
   "outputs": [
    {
     "name": "stdout",
     "output_type": "stream",
     "text": [
      "              precision    recall  f1-score   support\n",
      "\n",
      "           1       0.86      1.00      0.92        12\n",
      "           2       0.91      0.77      0.83        13\n",
      "           3       0.86      0.75      0.80         8\n",
      "           4       0.92      1.00      0.96        12\n",
      "\n",
      "    accuracy                           0.89        45\n",
      "   macro avg       0.89      0.88      0.88        45\n",
      "weighted avg       0.89      0.89      0.89        45\n",
      "\n"
     ]
    }
   ],
   "source": [
    "print(classification_report(y_test,y_pred))"
   ]
  },
  {
   "cell_type": "code",
   "execution_count": 28,
   "metadata": {},
   "outputs": [],
   "source": [
    "def accuracy(confusion_matrix):\n",
    "   diagonal_sum = confusion_matrix.trace()\n",
    "   sum_of_all_elements = confusion_matrix.sum()\n",
    "   return diagonal_sum / sum_of_all_elements"
   ]
  },
  {
   "cell_type": "code",
   "execution_count": 29,
   "metadata": {},
   "outputs": [
    {
     "name": "stdout",
     "output_type": "stream",
     "text": [
      "Accuracy of MLPClassifier : ''  0.8888888888888888\n"
     ]
    },
    {
     "data": {
      "image/png": "[encoded data removed]",
      "text/plain": [
       "<Figure size 640x480 with 1 Axes>"
      ]
     },
     "metadata": {},
     "output_type": "display_data"
    }
   ],
   "source": [
    "#cm=confusion_matrix(y_test,y_pred)\n",
    "#cm\n",
    "from sklearn.metrics import confusion_matrix\n",
    "import seaborn as sns\n",
    "#plt.figure(figsize=(10,7))\n",
    "mat = confusion_matrix(y_test,y_pred)\n",
    "sns.heatmap(mat.T, square=True, annot=True, fmt='d', cbar=False)\n",
    "\n",
    "print(\"Accuracy of MLPClassifier : '' \", accuracy(mat))"
   ]
  },
  {
   "cell_type": "code",
   "execution_count": null,
   "metadata": {},
   "outputs": [],
   "source": [
    "#training and validation accuracy"
   ]
  },
  {
   "cell_type": "code",
   "execution_count": 30,
   "metadata": {},
   "outputs": [
    {
     "name": "stdout",
     "output_type": "stream",
     "text": [
      "Accuracy: 87.667 (4.485)\n"
     ]
    }
   ],
   "source": [
    "from sklearn.model_selection import RepeatedKFold\n",
    "from sklearn.model_selection import cross_val_score\n",
    "from numpy import mean\n",
    "from numpy import std\n",
    "# prepare the cross-validation procedure\n",
    "cv = RepeatedKFold(n_splits=5, n_repeats=2, random_state=1)\n",
    "# evaluate model\n",
    "scores = cross_val_score(clf, x, y, scoring='accuracy', cv=cv, n_jobs=-1)\n",
    "# report performance\n",
    "print('Accuracy: %.3f (%.3f)' % (100*mean(scores), 100*std(scores)))"
   ]
  },
  {
   "cell_type": "code",
   "execution_count": 34,
   "metadata": {},
   "outputs": [
    {
     "name": "stdout",
     "output_type": "stream",
     "text": [
      "              precision    recall  f1-score   support\n",
      "\n",
      "           1       0.86      1.00      0.92        12\n",
      "           2       0.91      0.77      0.83        13\n",
      "           3       0.86      0.75      0.80         8\n",
      "           4       0.92      1.00      0.96        12\n",
      "\n",
      "    accuracy                           0.89        45\n",
      "   macro avg       0.89      0.88      0.88        45\n",
      "weighted avg       0.89      0.89      0.89        45\n",
      "\n"
     ]
    },
    {
     "name": "stderr",
     "output_type": "stream",
     "text": [
      "C:\\Users\\DELL\\anaconda3\\lib\\site-packages\\sklearn\\neural_network\\_multilayer_perceptron.py:692: ConvergenceWarning: Stochastic Optimizer: Maximum iterations (200) reached and the optimization hasn't converged yet.\n",
      "  warnings.warn(\n"
     ]
    }
   ],
   "source": [
    "#Test Accuracy\n",
    "clf.fit(x_train, y_train)\n",
    "y_pred=clf.predict(x_test)\n",
    "print(classification_report(y_test,y_pred))"
   ]
  },
  {
   "cell_type": "code",
   "execution_count": 38,
   "metadata": {},
   "outputs": [
    {
     "name": "stdout",
     "output_type": "stream",
     "text": [
      "{'Training Accuracy scores': array([0.89285714, 0.89285714, 0.89285714, 0.9047619 , 0.91666667]), 'Validation Accuracy scores': array([0.85714286, 0.9047619 , 0.9047619 , 0.9047619 , 0.80952381]), 'Training Precision scores': array([0.89285714, 0.89285714, 0.89285714, 0.9047619 , 0.91666667]), 'Validation Precision scores': array([0.85714286, 0.9047619 , 0.9047619 , 0.9047619 , 0.80952381]), 'Training Recall scores': array([0.89285714, 0.89285714, 0.89285714, 0.9047619 , 0.91666667]), 'Validation Recall scores': array([0.85714286, 0.9047619 , 0.9047619 , 0.9047619 , 0.80952381]), 'Training F1 scores': array([0.89285714, 0.89285714, 0.89285714, 0.9047619 , 0.91666667]), 'Validation F1 scores': array([0.85714286, 0.9047619 , 0.9047619 , 0.9047619 , 0.80952381]), 'Mean Training Accuracy': 90.0, 'Mean Validation Accuracy': 87.6190476190476, 'Mean Training Precision': 0.9, 'Mean Validation Precision': 0.8761904761904761, 'Mean Training Recall': 0.9, 'Mean Validation Recall': 0.8761904761904761, 'Mean Training F1 Score': 0.9, 'Mean Validation F1 Score': 0.8761904761904761}\n"
     ]
    }
   ],
   "source": [
    "from numpy import mean\n",
    "from numpy import std\n",
    "from sklearn.discriminant_analysis import LinearDiscriminantAnalysis as LDA\n",
    "import pandas as pd\n",
    "from sklearn import model_selection\n",
    "from sklearn.metrics import confusion_matrix,classification_report\n",
    "from sklearn.model_selection import RepeatedKFold\n",
    "from sklearn.model_selection import cross_validate\n",
    "from sklearn.model_selection import train_test_split\n",
    "from sklearn.metrics import make_scorer \n",
    "from sklearn.metrics import precision_score\n",
    "from sklearn.metrics import recall_score\n",
    "from sklearn.metrics import f1_score\n",
    "from sklearn.metrics import accuracy_score\n",
    "from sklearn.neural_network import MLPClassifier\n",
    "\n",
    "def cross_validation(model,x,y, cv=5):     \n",
    "    scoring={'accuracy': make_scorer(accuracy_score),\n",
    "           'precision': make_scorer(precision_score, average = 'micro'),\n",
    "           'recall': make_scorer(recall_score, average = 'micro'),\n",
    "           'f1_macro': make_scorer(f1_score, average = 'micro'),\n",
    "           #'f1_weighted': make_scorer(f1_score, average = 'weighted')\n",
    "        }    \n",
    "    results = cross_validate(model, x, y, scoring=scoring, cv=cv, n_jobs=-1, return_train_score=True)\n",
    "\n",
    "    return {\"Training Accuracy scores\": results['train_accuracy'],\n",
    "             \"Validation Accuracy scores\": results['test_accuracy'], \n",
    "            \n",
    "              \"Training Precision scores\": results['train_precision'],\n",
    "              \"Validation Precision scores\": results['test_precision'],\n",
    "          \n",
    "              \"Training Recall scores\": results['train_recall'],\n",
    "             \"Validation Recall scores\": results['test_recall'],\n",
    "            \n",
    "              \"Training F1 scores\": results['train_f1_macro'],\n",
    "             \"Validation F1 scores\": results['test_f1_macro'],\n",
    "            \n",
    "             \"Mean Training Accuracy\": results['train_accuracy'].mean()*100,\n",
    "              \"Mean Validation Accuracy\": results['test_accuracy'].mean()*100,\n",
    "              \"Mean Training Precision\": results['train_precision'].mean(),\n",
    "              \"Mean Validation Precision\": results['test_precision'].mean(),\n",
    "              \"Mean Training Recall\": results['train_recall'].mean(),\n",
    "              \"Mean Validation Recall\": results['test_recall'].mean(),\n",
    "              \"Mean Training F1 Score\": results['train_f1_macro'].mean(),\n",
    "              \"Mean Validation F1 Score\": results['test_f1_macro'].mean()\n",
    "                      }\n",
    "\n",
    "\n",
    "\n",
    "result = cross_validation(clf, x_train,y_train, 5)\n",
    "print(result)"
   ]
  },
  {
   "cell_type": "code",
   "execution_count": 39,
   "metadata": {},
   "outputs": [
    {
     "data": {
      "image/png": "[encoded data removed]",
      "text/plain": [
       "<Figure size 800x400 with 1 Axes>"
      ]
     },
     "metadata": {},
     "output_type": "display_data"
    }
   ],
   "source": [
    "import numpy as np\n",
    "import matplotlib.pyplot as plt\n",
    "plt.figure(figsize=(8,4))\n",
    "labels = [\"1st Fold\", \"2nd Fold\", \"3rd Fold\", \"4th Fold\", \"5th Fold\",\"6th Fold\",\"7th Fold\"]\n",
    "X_axis = np.arange(len(labels))\n",
    "plt.xticks(X_axis, labels)  \n",
    "# Function to plot  \n",
    "plt.ylim(0.40000, 1.2)\n",
    "plt.plot(result[\"Training Accuracy scores\"])\n",
    "plt.plot(result[\"Validation Accuracy scores\"])\n",
    "plt.ylabel(\"Accuracy\")  \n",
    "# Function add a legend  \n",
    "plt.legend([\"Training\", \"Validation\"], loc =\"upper right\")\n",
    "  \n",
    "# function to show the plot\n",
    "plt.show()"
   ]
  },
  {
   "cell_type": "code",
   "execution_count": 5,
   "metadata": {},
   "outputs": [
    {
     "name": "stdout",
     "output_type": "stream",
     "text": [
      "Tuned Hyperparameters : {'activation': 'relu', 'alpha': 0.0001, 'hidden_layer_sizes': (100, 100), 'learning_rate': 'constant', 'solver': 'adam'}\n",
      "Accuracy : 0.766403162055336\n"
     ]
    },
    {
     "name": "stderr",
     "output_type": "stream",
     "text": [
      "D:\\PhD\\anaconda38\\lib\\site-packages\\sklearn\\neural_network\\_multilayer_perceptron.py:582: ConvergenceWarning: Stochastic Optimizer: Maximum iterations (500) reached and the optimization hasn't converged yet.\n",
      "  warnings.warn(\n"
     ]
    }
   ],
   "source": []
  },
  {
   "cell_type": "code",
   "execution_count": 51,
   "metadata": {},
   "outputs": [
    {
     "name": "stdout",
     "output_type": "stream",
     "text": [
      "              precision    recall  f1-score   support\n",
      "\n",
      "           1       0.70      1.00      0.82         7\n",
      "           2       0.57      0.57      0.57         7\n",
      "           3       0.50      0.10      0.17        10\n",
      "           4       0.57      0.89      0.70         9\n",
      "\n",
      "    accuracy                           0.61        33\n",
      "   macro avg       0.59      0.64      0.56        33\n",
      "weighted avg       0.58      0.61      0.54        33\n",
      "\n"
     ]
    }
   ],
   "source": [
    "#y_pred=clf.predict(x_test)\n",
    "#print(classification_report(y_test,y_pred))"
   ]
  },
  {
   "cell_type": "code",
   "execution_count": null,
   "metadata": {},
   "outputs": [],
   "source": []
  },
  {
   "cell_type": "code",
   "execution_count": 8,
   "metadata": {},
   "outputs": [],
   "source": [
    "\n",
    "import numpy as np\n",
    "def plot_result(x_label, y_label, plot_title, train_data, val_data):\n",
    "               \n",
    "        # Set size of plot\n",
    "        plt.figure(figsize=(12,6))\n",
    "        labels = [\"1st Fold\", \"2nd Fold\", \"3rd Fold\", \"4th Fold\", \"5th Fold\"]\n",
    "        X_axis = np.arange(len(labels))\n",
    "        ax = plt.gca()\n",
    "        plt.ylim(0.40000, 1)\n",
    "        plt.bar(X_axis-0.2, train_data, 0.2, color='blue', label='Training')\n",
    "        plt.bar(X_axis+0.2, val_data, 0.2, color='red', label='Validation')\n",
    "        plt.title(plot_title, fontsize=30)\n",
    "        plt.xticks(X_axis, labels)\n",
    "        plt.xlabel(x_label, fontsize=14)\n",
    "        plt.ylabel(y_label, fontsize=14)\n",
    "        plt.legend()\n",
    "        plt.grid(True)\n",
    "        plt.show()"
   ]
  },
  {
   "cell_type": "code",
   "execution_count": 9,
   "metadata": {},
   "outputs": [
    {
     "data": {
      "image/png": "[encoded data removed]",
      "text/plain": [
       "<Figure size 864x432 with 1 Axes>"
      ]
     },
     "metadata": {
      "needs_background": "light"
     },
     "output_type": "display_data"
    }
   ],
   "source": [
    "# Plot Accuracy Result\n",
    "from matplotlib import pyplot as plt\n",
    "%matplotlib inline\n",
    "model_name = \"Multilayer Perceptron\"\n",
    "plot_result(model_name,\n",
    "            \"Accuracy\",\n",
    "            \"Accuracy scores in 5 Folds\",\n",
    "            result[\"Training Accuracy scores\"],\n",
    "            result[\"Validation Accuracy scores\"])"
   ]
  },
  {
   "cell_type": "code",
   "execution_count": null,
   "metadata": {},
   "outputs": [],
   "source": []
  },
  {
   "cell_type": "code",
   "execution_count": null,
   "metadata": {},
   "outputs": [],
   "source": []
  },
  {
   "cell_type": "code",
   "execution_count": null,
   "metadata": {},
   "outputs": [],
   "source": []
  }
 ],
 "metadata": {
  "kernelspec": {
   "display_name": "Python 3 (ipykernel)",
   "language": "python",
   "name": "python3"
  },
  "language_info": {
   "codemirror_mode": {
    "name": "ipython",
    "version": 3
   },
   "file_extension": ".py",
   "mimetype": "text/x-python",
   "name": "python",
   "nbconvert_exporter": "python",
   "pygments_lexer": "ipython3",
   "version": "3.9.13"
  }
 },
 "nbformat": 4,
 "nbformat_minor": 2
}
