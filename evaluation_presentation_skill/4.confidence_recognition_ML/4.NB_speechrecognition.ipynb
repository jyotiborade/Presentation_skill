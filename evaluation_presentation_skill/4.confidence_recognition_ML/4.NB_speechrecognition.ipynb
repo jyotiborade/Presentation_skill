{
 "cells": [
  {
   "cell_type": "code",
   "execution_count": 37,
   "metadata": {},
   "outputs": [],
   "source": [
    "import numpy as np\n",
    "import pandas as pd\n",
    "from sklearn.preprocessing import scale\n",
    "from sklearn import model_selection\n",
    "from sklearn.metrics import confusion_matrix,classification_report\n",
    "%matplotlib inline\n",
    "from matplotlib import pyplot as plt\n",
    "from sklearn.metrics import accuracy_score\n",
    "from sklearn.naive_bayes import GaussianNB\n",
    "import librosa\n",
    "import soundfile\n",
    "import os, glob, pickle\n",
    "from sklearn.model_selection import train_test_split\n",
    "import warnings\n",
    "warnings.filterwarnings('ignore')"
   ]
  },
  {
   "cell_type": "code",
   "execution_count": 38,
   "metadata": {},
   "outputs": [],
   "source": [
    "#Extract features (mfcc, chroma, mel) from a sound file\n",
    "#if chroma do short time fourier transform\n",
    "#hstack() stacks arrays in sequence horizontally (in a columnar fashion)\n",
    "#chroma-pertains to 12 pitch class,hstack() stacks arrays in sequence horizontally (in a columnar fashion),\n",
    "#mel: Mel Spectrogram Frequency\n",
    "def extract_feature(file_name, mfcc, chroma, mel):\n",
    "    with soundfile.SoundFile(file_name) as sound_file:\n",
    "        X = sound_file.read(dtype=\"float32\")\n",
    "        sample_rate=sound_file.samplerate\n",
    "        sample_rate\n",
    "        if chroma:\n",
    "            stft=np.abs(librosa.stft(X))\n",
    "        result=np.array([])\n",
    "        if mfcc:\n",
    "            mfccs=np.mean(librosa.feature.mfcc(y=X, sr=sample_rate, n_mfcc=40).T, axis=0)\n",
    "            result=np.hstack((result, mfccs))\n",
    "        if chroma:#frequency domain feature\n",
    "            chroma=np.mean(librosa.feature.chroma_stft(S=stft, sr=sample_rate).T,axis=0)\n",
    "            result=np.hstack((result, chroma))\n",
    "        if mel:\n",
    "            mel=np.mean(librosa.feature.melspectrogram(X, sr=sample_rate).T,axis=0)\n",
    "            result=np.hstack((result, mel))\n",
    "    return result"
   ]
  },
  {
   "cell_type": "code",
   "execution_count": 39,
   "metadata": {},
   "outputs": [],
   "source": [
    "emotions={\n",
    "  '01':'neutral',\n",
    "  '02':'calm',\n",
    "  '03':'happy',\n",
    "  '04':'sad',\n",
    "  '05':'angry',\n",
    "  '06':'fearful',\n",
    "  '07':'disgust',\n",
    "  '08':'surprised'\n",
    "}\n",
    "#DataFlair - Emotions to observe\n",
    "observed_emotions=['neutral', 'calm', 'happy', 'fearful', 'surprised', 'angry']"
   ]
  },
  {
   "cell_type": "code",
   "execution_count": 40,
   "metadata": {},
   "outputs": [],
   "source": [
    "#DataFlair - Load the data and extract features for each sound file\n",
    "def load_data():\n",
    "    x,y=[],[]\n",
    "    for file in glob.glob(\"C:\\\\Users\\COMPUTER\\Desktop\\Speech_Recognition_dataset\\\\Actor_*\\\\*.wav\"):\n",
    "        file_name=os.path.basename(file)\n",
    "        emotion=emotions[file_name.split(\"-\")[2]]\n",
    "        if emotion not in observed_emotions:\n",
    "            continue\n",
    "        feature=extract_feature(file, mfcc=True, chroma=True, mel=True)\n",
    "        x.append(feature)\n",
    "        if emotion=='calm':\n",
    "           emotion='not_confident'\n",
    "        elif emotion=='fearful':\n",
    "           emotion='not_confident'\n",
    "        elif emotion=='neutral':\n",
    "           emotion='not_confident'\n",
    "        else:\n",
    "          emotion='confident'\n",
    "        y.append(emotion)\n",
    "        \n",
    "    return x,y\n"
   ]
  },
  {
   "cell_type": "code",
   "execution_count": 41,
   "metadata": {},
   "outputs": [],
   "source": [
    "\n",
    "X,y=load_data()\n",
    "import numpy\n",
    "x = numpy.array(X)\n",
    "y=numpy.array(y)\n"
   ]
  },
  {
   "cell_type": "code",
   "execution_count": 42,
   "metadata": {},
   "outputs": [],
   "source": [
    "x_train,x_test,y_train,y_test=train_test_split(x,y,test_size=0.25,stratify=y)"
   ]
  },
  {
   "cell_type": "code",
   "execution_count": 43,
   "metadata": {},
   "outputs": [],
   "source": [
    "y_train=np.array(y_train)"
   ]
  },
  {
   "cell_type": "code",
   "execution_count": 44,
   "metadata": {},
   "outputs": [
    {
     "name": "stdout",
     "output_type": "stream",
     "text": [
      "Fitting 5 folds for each of 100 candidates, totalling 500 fits\n",
      "Best parameters found:\n",
      " {'var_smoothing': 0.1873817422860384}\n",
      "Accuracy : 0.7535232383808095\n"
     ]
    }
   ],
   "source": [
    "from sklearn.model_selection import GridSearchCV\n",
    "model = GaussianNB()\n",
    "params_NB = {'var_smoothing': np.logspace(0,-9, num=100)}\n",
    "clf = GridSearchCV(estimator=model, \n",
    "                 param_grid=params_NB, \n",
    "                 cv=5,   # use any cross validation technique \n",
    "                 verbose=1, \n",
    "                 scoring='accuracy') \n",
    "clf.fit(x_train, y_train)\n",
    "\n",
    "#clf.best_params_\n",
    "\n",
    "# Best paramete set\n",
    "print('Best parameters found:\\n', clf.best_params_)\n",
    "print(\"Accuracy :\",clf.best_score_)\n",
    "\n"
   ]
  },
  {
   "cell_type": "code",
   "execution_count": 45,
   "metadata": {},
   "outputs": [
    {
     "name": "stdout",
     "output_type": "stream",
     "text": [
      "Results on the test set:\n",
      "               precision    recall  f1-score   support\n",
      "\n",
      "    confident       0.77      0.78      0.77        96\n",
      "not_confident       0.78      0.76      0.77        96\n",
      "\n",
      "     accuracy                           0.77       192\n",
      "    macro avg       0.77      0.77      0.77       192\n",
      " weighted avg       0.77      0.77      0.77       192\n",
      "\n"
     ]
    }
   ],
   "source": [
    "y_true, y_pred = y_test , clf.predict(x_test)\n",
    "\n",
    "from sklearn.metrics import classification_report\n",
    "print('Results on the test set:')\n",
    "print(classification_report(y_true, y_pred))"
   ]
  },
  {
   "cell_type": "code",
   "execution_count": 46,
   "metadata": {},
   "outputs": [
    {
     "name": "stdout",
     "output_type": "stream",
     "text": [
      "Accuracy: 77.08%\n"
     ]
    }
   ],
   "source": [
    "y_pred=clf.predict(x_test)\n",
    "accuracy=accuracy_score(y_true=y_test, y_pred=y_pred)\n",
    "#DataFlair - Print the accuracy\n",
    "print(\"Accuracy: {:.2f}%\".format(accuracy*100))"
   ]
  },
  {
   "cell_type": "code",
   "execution_count": 47,
   "metadata": {},
   "outputs": [],
   "source": [
    "##############################################the end##########################################################"
   ]
  },
  {
   "cell_type": "code",
   "execution_count": 48,
   "metadata": {},
   "outputs": [
    {
     "name": "stdout",
     "output_type": "stream",
     "text": [
      "               precision    recall  f1-score   support\n",
      "\n",
      "    confident       0.77      0.78      0.77        96\n",
      "not_confident       0.78      0.76      0.77        96\n",
      "\n",
      "     accuracy                           0.77       192\n",
      "    macro avg       0.77      0.77      0.77       192\n",
      " weighted avg       0.77      0.77      0.77       192\n",
      "\n"
     ]
    }
   ],
   "source": [
    "print(classification_report(y_test,y_pred))"
   ]
  },
  {
   "cell_type": "code",
   "execution_count": 49,
   "metadata": {},
   "outputs": [
    {
     "data": {
      "image/png": "[encoded data removed]",
      "text/plain": [
       "<Figure size 432x288 with 1 Axes>"
      ]
     },
     "metadata": {
      "needs_background": "light"
     },
     "output_type": "display_data"
    }
   ],
   "source": [
    "#cm=confusion_matrix(y_test,y_pred)\n",
    "#cm\n",
    "from sklearn.metrics import confusion_matrix\n",
    "import seaborn as sns\n",
    "#plt.figure(figsize=(10,7))\n",
    "mat = confusion_matrix(y_test,y_pred)\n",
    "sns.heatmap(mat.T, square=True, annot=True, fmt='d', cbar=False)\n",
    "plt.xlabel('true label')\n",
    "plt.ylabel('predicted label');\n"
   ]
  },
  {
   "cell_type": "code",
   "execution_count": 50,
   "metadata": {},
   "outputs": [
    {
     "name": "stdout",
     "output_type": "stream",
     "text": [
      "{'Training Accuracy scores': array([0.76086957, 0.74403471, 0.75488069, 0.76572668, 0.76355748]), 'Validation Accuracy scores': array([0.71551724, 0.74782609, 0.73043478, 0.73043478, 0.68695652]), 'Training Precision scores': array([0.7637413 , 0.74449264, 0.75662559, 0.76574499, 0.76500265]), 'Validation Precision scores': array([0.71609538, 0.74969568, 0.73049002, 0.73047821, 0.69047619]), 'Training Recall scores': array([0.76086957, 0.74398645, 0.75479014, 0.76573499, 0.76347638]), 'Validation Recall scores': array([0.71551724, 0.74818512, 0.73049002, 0.73033878, 0.68632789]), 'Training F1 scores': array([0.76021685, 0.74388889, 0.75441847, 0.76572558, 0.76319646]), 'Validation F1 scores': array([0.71532684, 0.74752063, 0.73043478, 0.73035323, 0.68502739]), 'Mean Training Accuracy': 75.78138262755823, 'Mean Validation Accuracy': 72.22338830584707, 'Mean Training Precision': 0.7591214368836503, 'Mean Validation Precision': 0.7234470951047806, 'Mean Training Recall': 0.7577715038584604, 'Mean Validation Recall': 0.7221718088324258, 'Mean Training F1 Score': 0.7574892494796843, 'Mean Validation F1 Score': 0.7217325732066996}\n"
     ]
    }
   ],
   "source": [
    "from numpy import mean\n",
    "from numpy import std\n",
    "from sklearn.discriminant_analysis import LinearDiscriminantAnalysis as LDA\n",
    "import pandas as pd\n",
    "from sklearn import model_selection\n",
    "from sklearn.metrics import confusion_matrix,classification_report\n",
    "from sklearn import tree\n",
    "from sklearn.model_selection import RepeatedKFold\n",
    "from sklearn.model_selection import cross_validate\n",
    "from sklearn.model_selection import train_test_split\n",
    "from sklearn.metrics import make_scorer \n",
    "from sklearn.metrics import precision_score\n",
    "from sklearn.metrics import recall_score\n",
    "from sklearn.metrics import f1_score\n",
    "from sklearn.metrics import accuracy_score\n",
    "\n",
    "def cross_validation(clf,x,y,cv=5):     \n",
    "    scoring={'accuracy': make_scorer(accuracy_score),\n",
    "           'precision': make_scorer(precision_score, average = 'macro'),\n",
    "           'recall': make_scorer(recall_score, average = 'macro'),\n",
    "           'f1_macro': make_scorer(f1_score, average = 'macro'),\n",
    "           #'f1_weighted': make_scorer(f1_score, average = 'weighted')\n",
    "        }    \n",
    "    results = cross_validate(clf, x, y, scoring=scoring, cv=cv, n_jobs=-1, return_train_score=True)\n",
    "\n",
    "    return {\"Training Accuracy scores\": results['train_accuracy'],\n",
    "             \"Validation Accuracy scores\": results['test_accuracy'], \n",
    "            \n",
    "              \"Training Precision scores\": results['train_precision'],\n",
    "              \"Validation Precision scores\": results['test_precision'],\n",
    "          \n",
    "              \"Training Recall scores\": results['train_recall'],\n",
    "             \"Validation Recall scores\": results['test_recall'],\n",
    "            \n",
    "              \"Training F1 scores\": results['train_f1_macro'],\n",
    "             \"Validation F1 scores\": results['test_f1_macro'],\n",
    "            \n",
    "             \"Mean Training Accuracy\": results['train_accuracy'].mean()*100,\n",
    "              \"Mean Validation Accuracy\": results['test_accuracy'].mean()*100,\n",
    "              \"Mean Training Precision\": results['train_precision'].mean(),\n",
    "              \"Mean Validation Precision\": results['test_precision'].mean(),\n",
    "              \"Mean Training Recall\": results['train_recall'].mean(),\n",
    "              \"Mean Validation Recall\": results['test_recall'].mean(),\n",
    "              \"Mean Training F1 Score\": results['train_f1_macro'].mean(),\n",
    "              \"Mean Validation F1 Score\": results['test_f1_macro'].mean()\n",
    "                      }\n",
    "\n",
    "\n",
    "\n",
    "nb_result = cross_validation(clf, x_train,y_train, 5)\n",
    "print(nb_result)\n",
    "\n",
    "# report performance\n",
    "#print('%.3f', 100*scores)\n",
    "#print('Accuracy: %.3f (%.3f)' % (100*mean(scores['accuracy_score']), 100*std(scores['accuracy'])))"
   ]
  },
  {
   "cell_type": "code",
   "execution_count": 51,
   "metadata": {},
   "outputs": [
    {
     "data": {
      "image/png": "[encoded data removed]",
      "text/plain": [
       "<Figure size 576x288 with 1 Axes>"
      ]
     },
     "metadata": {
      "needs_background": "light"
     },
     "output_type": "display_data"
    }
   ],
   "source": [
    "import numpy as np\n",
    "import matplotlib.pyplot as plt\n",
    "plt.figure(figsize=(8,4))\n",
    "labels = [\"1st Fold\", \"2nd Fold\", \"3rd Fold\", \"4th Fold\", \"5th Fold\",\"6th Fold\",\"7th Fold\"]\n",
    "X_axis = np.arange(len(labels))\n",
    "plt.xticks(X_axis, labels)  \n",
    "# Function to plot  \n",
    "plt.ylim(0.40000, 1.2)\n",
    "plt.plot(\n",
    "nb_result[\"Training Accuracy scores\"])\n",
    "plt.plot(\n",
    "nb_result[\"Validation Accuracy scores\"])\n",
    "plt.ylabel(\"Accuracy\")  \n",
    "# Function add a legend  \n",
    "plt.legend([\"Training\", \"Validation\"], loc =\"upper right\")\n",
    "  \n",
    "# function to show the plot\n",
    "plt.show()"
   ]
  },
  {
   "cell_type": "code",
   "execution_count": 54,
   "metadata": {},
   "outputs": [
    {
     "data": {
      "text/plain": [
       "GaussianNB(var_smoothing=0.1873817422860384)"
      ]
     },
     "execution_count": 54,
     "metadata": {},
     "output_type": "execute_result"
    }
   ],
   "source": [
    "from sklearn.discriminant_analysis import LinearDiscriminantAnalysis as LDA\n",
    "x,y=load_data()\n",
    "lda = LDA(n_components=1)\n",
    "x = lda.fit_transform(x, y)\n",
    "#x_test = lda.transform(x_test)\n",
    "x_train,x_test,y_train,y_test=train_test_split(x,y,test_size=0.25,stratify=y)\n",
    "model = GaussianNB(var_smoothing= 0.1873817422860384)\n",
    "model.fit(x_train,y_train)"
   ]
  },
  {
   "cell_type": "code",
   "execution_count": 55,
   "metadata": {},
   "outputs": [
    {
     "name": "stdout",
     "output_type": "stream",
     "text": [
      "Results on the test set:\n",
      "               precision    recall  f1-score   support\n",
      "\n",
      "    confident       0.86      0.78      0.82        96\n",
      "not_confident       0.80      0.88      0.84        96\n",
      "\n",
      "     accuracy                           0.83       192\n",
      "    macro avg       0.83      0.83      0.83       192\n",
      " weighted avg       0.83      0.83      0.83       192\n",
      "\n"
     ]
    }
   ],
   "source": [
    "y_true, y_pred = y_test , model.predict(x_test)\n",
    "\n",
    "from sklearn.metrics import classification_report\n",
    "print('Results on the test set:')\n",
    "print(classification_report(y_true, y_pred))"
   ]
  }
 ],
 "metadata": {
  "kernelspec": {
   "display_name": "Python 3 (ipykernel)",
   "language": "python",
   "name": "python3"
  },
  "language_info": {
   "codemirror_mode": {
    "name": "ipython",
    "version": 3
   },
   "file_extension": ".py",
   "mimetype": "text/x-python",
   "name": "python",
   "nbconvert_exporter": "python",
   "pygments_lexer": "ipython3",
   "version": "3.9.13"
  }
 },
 "nbformat": 4,
 "nbformat_minor": 4
}
