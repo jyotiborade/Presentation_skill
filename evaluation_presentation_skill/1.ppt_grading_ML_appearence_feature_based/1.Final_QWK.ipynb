{
 "cells": [
  {
   "cell_type": "code",
   "execution_count": 1,
   "metadata": {},
   "outputs": [],
   "source": [
    "from sklearn.metrics import cohen_kappa_score, confusion_matrix\n",
    "import numpy as np"
   ]
  },
  {
   "cell_type": "code",
   "execution_count": 2,
   "metadata": {},
   "outputs": [],
   "source": [
    "actuals = np.array([2,4,2,2,3,4,4,2,1,3,4,2,1,2,3])\n",
    "pred1   = np.array([3,4,1,2,4,4,3,2,1,3,4,1,1,3,4])\n",
    "pred2=np.array([1,3,1,1,2,2,3,1,1,2,2,1,1,1,2])"
   ]
  },
  {
   "cell_type": "code",
   "execution_count": 5,
   "metadata": {},
   "outputs": [
    {
     "name": "stdout",
     "output_type": "stream",
     "text": [
      "qwk = 0.5026178010471205 \n"
     ]
    }
   ],
   "source": [
    "qwk = cohen_kappa_score(actuals, pred2, weights=\"quadratic\")\n",
    "print(f'qwk = {qwk} ')"
   ]
  },
  {
   "cell_type": "code",
   "execution_count": 5,
   "metadata": {},
   "outputs": [],
   "source": [
    "actuals=np.array([2,3,3,1,4,3,1,2,1,4,2,2,1, 2,1,1,1,2,4,2,0,0,0])"
   ]
  },
  {
   "cell_type": "code",
   "execution_count": 6,
   "metadata": {},
   "outputs": [],
   "source": [
    "tfidf=np.array([2,3,1,2,4,2,1,2,1,3,2,2,1,2,1,1,1,2,4,2,0,0,0])"
   ]
  },
  {
   "cell_type": "code",
   "execution_count": 7,
   "metadata": {},
   "outputs": [],
   "source": [
    "count=np.array([3,4,2,2,4,3,2,3,1,4,3,3,1,3,2,1,2,2,4,3,1,1,1])"
   ]
  },
  {
   "cell_type": "code",
   "execution_count": 8,
   "metadata": {},
   "outputs": [],
   "source": [
    "bert=np.array([4,4,4,4,4,4,4,4,4,4,4,4,4,4,4,4,4,4,4,4,4,3,4])"
   ]
  },
  {
   "cell_type": "code",
   "execution_count": 9,
   "metadata": {},
   "outputs": [
    {
     "name": "stdout",
     "output_type": "stream",
     "text": [
      "qwk = 0.8844221105527639 \n"
     ]
    }
   ],
   "source": [
    "qwk = cohen_kappa_score(actuals, tfidf, weights=\"quadratic\")\n",
    "print(f'qwk = {qwk} ')"
   ]
  },
  {
   "cell_type": "code",
   "execution_count": 10,
   "metadata": {},
   "outputs": [
    {
     "name": "stdout",
     "output_type": "stream",
     "text": [
      "qwk = 0.7731755424063117 \n"
     ]
    }
   ],
   "source": [
    "qwk = cohen_kappa_score(actuals, count, weights=\"quadratic\")\n",
    "print(f'qwk = {qwk} ')"
   ]
  },
  {
   "cell_type": "code",
   "execution_count": 11,
   "metadata": {},
   "outputs": [
    {
     "name": "stdout",
     "output_type": "stream",
     "text": [
      "qwk = 0.026340545625587852 \n"
     ]
    }
   ],
   "source": [
    "qwk = cohen_kappa_score(actuals, bert, weights=\"quadratic\")\n",
    "print(f'qwk = {qwk} ')"
   ]
  },
  {
   "cell_type": "code",
   "execution_count": null,
   "metadata": {},
   "outputs": [],
   "source": []
  }
 ],
 "metadata": {
  "kernelspec": {
   "display_name": "Python 3 (ipykernel)",
   "language": "python",
   "name": "python3"
  },
  "language_info": {
   "codemirror_mode": {
    "name": "ipython",
    "version": 3
   },
   "file_extension": ".py",
   "mimetype": "text/x-python",
   "name": "python",
   "nbconvert_exporter": "python",
   "pygments_lexer": "ipython3",
   "version": "3.9.13"
  }
 },
 "nbformat": 4,
 "nbformat_minor": 4
}
