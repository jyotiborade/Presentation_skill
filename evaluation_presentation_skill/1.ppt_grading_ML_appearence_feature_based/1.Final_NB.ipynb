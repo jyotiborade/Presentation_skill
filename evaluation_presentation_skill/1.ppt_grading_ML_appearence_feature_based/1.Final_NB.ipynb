{
 "cells": [
  {
   "cell_type": "code",
   "execution_count": 49,
   "metadata": {},
   "outputs": [],
   "source": [
    "import numpy as np\n",
    "import pandas as pd\n",
    "from sklearn.preprocessing import scale\n",
    "from sklearn import model_selection\n",
    "from sklearn.metrics import confusion_matrix,classification_report\n",
    "%matplotlib inline\n",
    "from sklearn.metrics import accuracy_score\n",
    "from sklearn.naive_bayes import GaussianNB"
   ]
  },
  {
   "cell_type": "code",
   "execution_count": 1,
   "metadata": {
    "scrolled": true
   },
   "outputs": [
    {
     "name": "stdout",
     "output_type": "stream",
     "text": [
      "Fitting 5 folds for each of 100 candidates, totalling 500 fits\n"
     ]
    },
    {
     "data": {
      "text/plain": [
       "{'var_smoothing': 0.04328761281083057}"
      ]
     },
     "execution_count": 1,
     "metadata": {},
     "output_type": "execute_result"
    }
   ],
   "source": [
    "from sklearn.model_selection import GridSearchCV\n",
    "from numpy import mean\n",
    "from numpy import std\n",
    "from sklearn.discriminant_analysis import LinearDiscriminantAnalysis as LDA\n",
    "import pandas as pd\n",
    "from sklearn import model_selection\n",
    "from sklearn.metrics import confusion_matrix,classification_report\n",
    "from sklearn.model_selection import RepeatedKFold\n",
    "from sklearn.model_selection import cross_validate\n",
    "from sklearn.model_selection import train_test_split\n",
    "from sklearn.metrics import make_scorer \n",
    "from sklearn.metrics import precision_score\n",
    "from sklearn.metrics import recall_score\n",
    "from sklearn.metrics import f1_score\n",
    "from sklearn.metrics import accuracy_score\n",
    "from sklearn.naive_bayes import GaussianNB\n",
    "import numpy as np\n",
    "from sklearn.preprocessing import MinMaxScaler\n",
    "df=pd.read_csv(\"E:/4.dataset_150.csv\")\n",
    "X=df.iloc[:,:18]\n",
    "y=df['output_grade']\n",
    "y=y.values.ravel()\n",
    "scaler = MinMaxScaler(feature_range=(0, 1))\n",
    "x= scaler.fit_transform(X)\n",
    "# prepare the cross-validation procedure\n",
    "\n",
    "#cv = RepeatedKFold(n_splits=5, n_repeats=1, random_state=41)\n",
    "lda = LDA(n_components=1)\n",
    "x = lda.fit_transform(x, y)\n",
    "x_train,x_test,y_train,y_test=train_test_split(x,y,test_size=0.25)\n",
    "model = GaussianNB()\n",
    "\n",
    "params_NB = {'var_smoothing': np.logspace(0,-9, num=100)}\n",
    "gs_NB = GridSearchCV(estimator=model, \n",
    "                 param_grid=params_NB, \n",
    "                 cv=5,   # use any cross validation technique \n",
    "                 verbose=1, \n",
    "                 scoring='accuracy') \n",
    "gs_NB.fit(x_train, y_train)\n",
    "\n",
    "gs_NB.best_params_"
   ]
  },
  {
   "cell_type": "code",
   "execution_count": null,
   "metadata": {},
   "outputs": [],
   "source": [
    "#{'var_smoothing': 0.04328761281083057}"
   ]
  },
  {
   "cell_type": "code",
   "execution_count": 12,
   "metadata": {},
   "outputs": [
    {
     "name": "stdout",
     "output_type": "stream",
     "text": [
      "GaussianNB(var_smoothing=0.04328761281083057)\n"
     ]
    }
   ],
   "source": [
    "gnb = GaussianNB(var_smoothing= 0.04328761281083057)\n",
    "print(gnb.fit(x,y))"
   ]
  },
  {
   "cell_type": "code",
   "execution_count": 13,
   "metadata": {},
   "outputs": [],
   "source": [
    "from sklearn.model_selection import train_test_split\n",
    "x_train,x_test,y_train,y_test=train_test_split(x,y,test_size=0.30)"
   ]
  },
  {
   "cell_type": "code",
   "execution_count": 14,
   "metadata": {},
   "outputs": [
    {
     "data": {
      "text/plain": [
       "array([3, 1, 2, 2, 1, 3, 1, 3, 2, 1, 1, 2, 3, 2, 2, 1, 4, 1, 3, 2, 3, 2,\n",
       "       4, 4, 1, 4, 1, 4, 2, 2, 3, 2, 3, 1, 3, 3, 1, 4, 3, 2, 3, 1, 4, 4,\n",
       "       3], dtype=int64)"
      ]
     },
     "execution_count": 14,
     "metadata": {},
     "output_type": "execute_result"
    }
   ],
   "source": [
    "y_pred=gnb.predict(x_test)\n",
    "y_pred"
   ]
  },
  {
   "cell_type": "code",
   "execution_count": 15,
   "metadata": {},
   "outputs": [
    {
     "data": {
      "text/plain": [
       "0.9111111111111111"
      ]
     },
     "execution_count": 15,
     "metadata": {},
     "output_type": "execute_result"
    }
   ],
   "source": [
    "\n",
    "accuracy_score(y_pred,y_test) #accuracy"
   ]
  },
  {
   "cell_type": "code",
   "execution_count": 16,
   "metadata": {},
   "outputs": [
    {
     "name": "stdout",
     "output_type": "stream",
     "text": [
      "accuracy is:91.11%\n"
     ]
    }
   ],
   "source": [
    "from sklearn.metrics import accuracy_score\n",
    "print(\"accuracy is:{0:.2f}%\".format(accuracy_score(y_test,y_pred)*100))\n"
   ]
  },
  {
   "cell_type": "code",
   "execution_count": 22,
   "metadata": {
    "scrolled": true
   },
   "outputs": [],
   "source": [
    "#gnb.predict_proba(x_test)"
   ]
  },
  {
   "cell_type": "code",
   "execution_count": 18,
   "metadata": {},
   "outputs": [
    {
     "data": {
      "text/plain": [
       "array([3, 1, 2, 2, 1, 3, 1, 3, 2, 1, 1, 2, 3, 2, 2, 1, 4, 1, 3, 2, 3, 2,\n",
       "       4, 4, 1, 4, 1, 4, 2, 2, 3, 2, 3, 1, 3, 3, 1, 4, 3, 2, 3, 1, 4, 4,\n",
       "       3], dtype=int64)"
      ]
     },
     "execution_count": 18,
     "metadata": {},
     "output_type": "execute_result"
    }
   ],
   "source": [
    "y_pred"
   ]
  },
  {
   "cell_type": "code",
   "execution_count": 19,
   "metadata": {},
   "outputs": [
    {
     "data": {
      "text/plain": [
       "array([3, 1, 2, 2, 1, 3, 1, 4, 2, 1, 1, 3, 3, 2, 2, 1, 4, 1, 3, 2, 3, 2,\n",
       "       4, 4, 1, 4, 1, 4, 3, 2, 3, 2, 3, 1, 3, 3, 1, 4, 3, 2, 3, 1, 4, 4,\n",
       "       2], dtype=int64)"
      ]
     },
     "execution_count": 19,
     "metadata": {},
     "output_type": "execute_result"
    }
   ],
   "source": [
    "y_test"
   ]
  },
  {
   "cell_type": "code",
   "execution_count": 20,
   "metadata": {
    "scrolled": true
   },
   "outputs": [
    {
     "data": {
      "text/plain": [
       "<AxesSubplot:>"
      ]
     },
     "execution_count": 20,
     "metadata": {},
     "output_type": "execute_result"
    },
    {
     "data": {
      "image/png": "[encoded data removed]",
      "text/plain": [
       "<Figure size 640x480 with 1 Axes>"
      ]
     },
     "metadata": {},
     "output_type": "display_data"
    }
   ],
   "source": [
    "#cm=confusion_matrix(y_test,y_pred)\n",
    "#cm\n",
    "from sklearn.metrics import confusion_matrix\n",
    "import seaborn as sns\n",
    "#plt.figure(figsize=(10,7))\n",
    "mat = confusion_matrix(y_test,y_pred)\n",
    "sns.heatmap(mat.T, square=True, annot=True, fmt='d', cbar=False)\n"
   ]
  },
  {
   "cell_type": "code",
   "execution_count": 21,
   "metadata": {
    "scrolled": true
   },
   "outputs": [
    {
     "name": "stdout",
     "output_type": "stream",
     "text": [
      "              precision    recall  f1-score   support\n",
      "\n",
      "           1       1.00      1.00      1.00        12\n",
      "           2       0.83      0.91      0.87        11\n",
      "           3       0.85      0.85      0.85        13\n",
      "           4       1.00      0.89      0.94         9\n",
      "\n",
      "    accuracy                           0.91        45\n",
      "   macro avg       0.92      0.91      0.91        45\n",
      "weighted avg       0.91      0.91      0.91        45\n",
      "\n"
     ]
    }
   ],
   "source": [
    "print(classification_report(y_test,y_pred))"
   ]
  },
  {
   "cell_type": "code",
   "execution_count": null,
   "metadata": {},
   "outputs": [],
   "source": []
  },
  {
   "cell_type": "code",
   "execution_count": null,
   "metadata": {},
   "outputs": [],
   "source": [
    "#training and validation accuracy"
   ]
  },
  {
   "cell_type": "code",
   "execution_count": 23,
   "metadata": {},
   "outputs": [
    {
     "name": "stdout",
     "output_type": "stream",
     "text": [
      "Accuracy: 88.000 (4.000)\n"
     ]
    }
   ],
   "source": [
    "from sklearn.model_selection import RepeatedKFold\n",
    "from sklearn.model_selection import cross_val_score\n",
    "from numpy import mean\n",
    "from numpy import std\n",
    "# prepare the cross-validation procedure\n",
    "cv = RepeatedKFold(n_splits=5, n_repeats=2, random_state=1)\n",
    "# evaluate model\n",
    "scores = cross_val_score(gnb, x, y, scoring='accuracy', cv=cv, n_jobs=-1)\n",
    "# report performance\n",
    "print('Accuracy: %.3f (%.3f)' % (100*mean(scores), 100*std(scores)))"
   ]
  },
  {
   "cell_type": "code",
   "execution_count": 25,
   "metadata": {},
   "outputs": [
    {
     "name": "stdout",
     "output_type": "stream",
     "text": [
      "              precision    recall  f1-score   support\n",
      "\n",
      "           1       1.00      1.00      1.00        12\n",
      "           2       0.83      0.91      0.87        11\n",
      "           3       0.85      0.85      0.85        13\n",
      "           4       1.00      0.89      0.94         9\n",
      "\n",
      "    accuracy                           0.91        45\n",
      "   macro avg       0.92      0.91      0.91        45\n",
      "weighted avg       0.91      0.91      0.91        45\n",
      "\n"
     ]
    }
   ],
   "source": [
    "#Testing Accuracy\n",
    "model.fit(x_train, y_train)\n",
    "y_pred=model.predict(x_test)\n",
    "print(classification_report(y_test,y_pred))"
   ]
  },
  {
   "cell_type": "code",
   "execution_count": 29,
   "metadata": {},
   "outputs": [
    {
     "name": "stdout",
     "output_type": "stream",
     "text": [
      "{'Training Accuracy scores': array([0.89285714, 0.89285714, 0.9047619 , 0.89285714, 0.89285714]), 'Validation Accuracy scores': array([0.9047619 , 0.85714286, 0.9047619 , 0.9047619 , 0.80952381]), 'Training Precision scores': array([0.89285714, 0.89285714, 0.9047619 , 0.89285714, 0.89285714]), 'Validation Precision scores': array([0.9047619 , 0.85714286, 0.9047619 , 0.9047619 , 0.80952381]), 'Training Recall scores': array([0.89285714, 0.89285714, 0.9047619 , 0.89285714, 0.89285714]), 'Validation Recall scores': array([0.9047619 , 0.85714286, 0.9047619 , 0.9047619 , 0.80952381]), 'Training F1 scores': array([0.89285714, 0.89285714, 0.9047619 , 0.89285714, 0.89285714]), 'Validation F1 scores': array([0.9047619 , 0.85714286, 0.9047619 , 0.9047619 , 0.80952381]), 'Mean Training Accuracy': 89.52380952380953, 'Mean Validation Accuracy': 87.6190476190476, 'Mean Training Precision': 0.8952380952380953, 'Mean Validation Precision': 0.8761904761904761, 'Mean Training Recall': 0.8952380952380953, 'Mean Validation Recall': 0.8761904761904761, 'Mean Training F1 Score': 0.8952380952380953, 'Mean Validation F1 Score': 0.8761904761904761}\n"
     ]
    }
   ],
   "source": [
    "from numpy import mean\n",
    "from numpy import std\n",
    "from sklearn.discriminant_analysis import LinearDiscriminantAnalysis as LDA\n",
    "import pandas as pd\n",
    "from sklearn import model_selection\n",
    "from sklearn.metrics import confusion_matrix,classification_report\n",
    "from sklearn.model_selection import RepeatedKFold\n",
    "from sklearn.model_selection import cross_validate\n",
    "from sklearn.model_selection import train_test_split\n",
    "from sklearn.metrics import make_scorer \n",
    "from sklearn.metrics import precision_score\n",
    "from sklearn.metrics import recall_score\n",
    "from sklearn.metrics import f1_score\n",
    "from sklearn.metrics import accuracy_score\n",
    "from sklearn.naive_bayes import GaussianNB\n",
    "\n",
    "\n",
    "def cross_validation(model,x,y, cv=5):     \n",
    "    scoring={'accuracy': make_scorer(accuracy_score),\n",
    "           'precision': make_scorer(precision_score, average = 'micro'),\n",
    "           'recall': make_scorer(recall_score, average = 'micro'),\n",
    "           'f1_macro': make_scorer(f1_score, average = 'micro'),\n",
    "           #'f1_weighted': make_scorer(f1_score, average = 'weighted')\n",
    "        }    \n",
    "    results = cross_validate(model, x, y, scoring=scoring, cv=cv, n_jobs=-1, return_train_score=True)\n",
    "\n",
    "    return {\"Training Accuracy scores\": results['train_accuracy'],\n",
    "             \"Validation Accuracy scores\": results['test_accuracy'], \n",
    "            \n",
    "              \"Training Precision scores\": results['train_precision'],\n",
    "              \"Validation Precision scores\": results['test_precision'],\n",
    "          \n",
    "              \"Training Recall scores\": results['train_recall'],\n",
    "             \"Validation Recall scores\": results['test_recall'],\n",
    "            \n",
    "              \"Training F1 scores\": results['train_f1_macro'],\n",
    "             \"Validation F1 scores\": results['test_f1_macro'],\n",
    "            \n",
    "             \"Mean Training Accuracy\": results['train_accuracy'].mean()*100,\n",
    "              \"Mean Validation Accuracy\": results['test_accuracy'].mean()*100,\n",
    "              \"Mean Training Precision\": results['train_precision'].mean(),\n",
    "              \"Mean Validation Precision\": results['test_precision'].mean(),\n",
    "              \"Mean Training Recall\": results['train_recall'].mean(),\n",
    "              \"Mean Validation Recall\": results['test_recall'].mean(),\n",
    "              \"Mean Training F1 Score\": results['train_f1_macro'].mean(),\n",
    "              \"Mean Validation F1 Score\": results['test_f1_macro'].mean()\n",
    "                      }\n",
    "\n",
    "\n",
    "\n",
    "result = cross_validation(model, x_train,y_train, 5)\n",
    "print(result)"
   ]
  },
  {
   "cell_type": "code",
   "execution_count": 30,
   "metadata": {},
   "outputs": [
    {
     "data": {
      "image/png": "[encoded data removed]",
      "text/plain": [
       "<Figure size 800x400 with 1 Axes>"
      ]
     },
     "metadata": {},
     "output_type": "display_data"
    }
   ],
   "source": [
    "import numpy as np\n",
    "import matplotlib.pyplot as plt\n",
    "plt.figure(figsize=(8,4))\n",
    "labels = [\"1st Fold\", \"2nd Fold\", \"3rd Fold\", \"4th Fold\", \"5th Fold\",\"6th Fold\",\"7th Fold\"]\n",
    "X_axis = np.arange(len(labels))\n",
    "plt.xticks(X_axis, labels)  \n",
    "# Function to plot  \n",
    "plt.ylim(0.40000, 1.2)\n",
    "plt.plot(result[\"Training Accuracy scores\"])\n",
    "plt.plot(result[\"Validation Accuracy scores\"])\n",
    "plt.ylabel(\"Accuracy\")  \n",
    "# Function add a legend  \n",
    "plt.legend([\"Training\", \"Validation\"], loc =\"upper right\")\n",
    "  \n",
    "# function to show the plot\n",
    "plt.show()"
   ]
  },
  {
   "cell_type": "code",
   "execution_count": 2,
   "metadata": {},
   "outputs": [
    {
     "name": "stdout",
     "output_type": "stream",
     "text": [
      "Fitting 5 folds for each of 100 candidates, totalling 500 fits\n"
     ]
    },
    {
     "name": "stderr",
     "output_type": "stream",
     "text": [
      "[Parallel(n_jobs=1)]: Using backend SequentialBackend with 1 concurrent workers.\n",
      "[Parallel(n_jobs=1)]: Done 500 out of 500 | elapsed:    0.5s finished\n"
     ]
    },
    {
     "data": {
      "text/plain": [
       "{'var_smoothing': 0.01873817422860384}"
      ]
     },
     "execution_count": 2,
     "metadata": {},
     "output_type": "execute_result"
    }
   ],
   "source": []
  },
  {
   "cell_type": "code",
   "execution_count": 3,
   "metadata": {},
   "outputs": [],
   "source": [
    "#y_pred=gs_NB.predict(x_test)\n",
    "#print(classification_report(y_test,y_pred))"
   ]
  },
  {
   "cell_type": "code",
   "execution_count": null,
   "metadata": {},
   "outputs": [],
   "source": []
  },
  {
   "cell_type": "code",
   "execution_count": 9,
   "metadata": {},
   "outputs": [],
   "source": [
    "\n",
    "import numpy as np\n",
    "def plot_result(x_label, y_label, plot_title, train_data, val_data):\n",
    "               \n",
    "        # Set size of plot\n",
    "        plt.figure(figsize=(12,6))\n",
    "        labels = [\"1st Fold\", \"2nd Fold\", \"3rd Fold\", \"4th Fold\", \"5th Fold\"]\n",
    "        X_axis = np.arange(len(labels))\n",
    "        ax = plt.gca()\n",
    "        plt.ylim(0.40000, 1)\n",
    "        plt.bar(X_axis-0.2, train_data, 0.2, color='blue', label='Training')\n",
    "        plt.bar(X_axis+0.2, val_data, 0.2, color='red', label='Validation')\n",
    "        plt.title(plot_title, fontsize=30)\n",
    "        plt.xticks(X_axis, labels)\n",
    "        plt.xlabel(x_label, fontsize=14)\n",
    "        plt.ylabel(y_label, fontsize=14)\n",
    "        plt.legend()\n",
    "        plt.grid(True)\n",
    "        plt.show()"
   ]
  },
  {
   "cell_type": "code",
   "execution_count": 10,
   "metadata": {},
   "outputs": [
    {
     "data": {
      "image/png": "[encoded data removed]",
      "text/plain": [
       "<Figure size 864x432 with 1 Axes>"
      ]
     },
     "metadata": {
      "needs_background": "light"
     },
     "output_type": "display_data"
    }
   ],
   "source": [
    "# Plot Accuracy Result\n",
    "from matplotlib import pyplot as plt\n",
    "%matplotlib inline\n",
    "model_name = \"Naive Bayes\"\n",
    "plot_result(model_name,\n",
    "            \"Accuracy\",\n",
    "            \"Accuracy scores in 5 Folds\",\n",
    "            result[\"Training Accuracy scores\"],\n",
    "            result[\"Validation Accuracy scores\"])"
   ]
  },
  {
   "cell_type": "code",
   "execution_count": null,
   "metadata": {},
   "outputs": [],
   "source": []
  },
  {
   "cell_type": "code",
   "execution_count": null,
   "metadata": {},
   "outputs": [],
   "source": []
  },
  {
   "cell_type": "code",
   "execution_count": null,
   "metadata": {},
   "outputs": [],
   "source": []
  }
 ],
 "metadata": {
  "kernelspec": {
   "display_name": "Python 3 (ipykernel)",
   "language": "python",
   "name": "python3"
  },
  "language_info": {
   "codemirror_mode": {
    "name": "ipython",
    "version": 3
   },
   "file_extension": ".py",
   "mimetype": "text/x-python",
   "name": "python",
   "nbconvert_exporter": "python",
   "pygments_lexer": "ipython3",
   "version": "3.9.13"
  }
 },
 "nbformat": 4,
 "nbformat_minor": 2
}
