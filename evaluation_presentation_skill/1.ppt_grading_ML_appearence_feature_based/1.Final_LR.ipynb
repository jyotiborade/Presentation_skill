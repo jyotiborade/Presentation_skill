{
 "cells": [
  {
   "cell_type": "code",
   "execution_count": 300,
   "metadata": {},
   "outputs": [],
   "source": [
    "import numpy as np\n",
    "import pandas as pd\n",
    "from sklearn.preprocessing import scale\n",
    "from sklearn import model_selection\n",
    "from sklearn.metrics import confusion_matrix,classification_report\n",
    "%matplotlib inline\n",
    "from sklearn.decomposition import PCA\n",
    "from sklearn.metrics import accuracy_score"
   ]
  },
  {
   "cell_type": "code",
   "execution_count": 4,
   "metadata": {},
   "outputs": [
    {
     "name": "stdout",
     "output_type": "stream",
     "text": [
      "Tuned Hyperparameters : {'C': 0.1, 'max_iter': 100, 'penalty': 'l2', 'solver': 'newton-cg'}\n",
      "Accuracy : 0.9110671936758894\n"
     ]
    }
   ],
   "source": [
    "from sklearn.model_selection import GridSearchCV\n",
    "import warnings\n",
    "from numpy import std\n",
    "from sklearn.discriminant_analysis import LinearDiscriminantAnalysis as LDA\n",
    "import pandas as pd\n",
    "import numpy as np\n",
    "from sklearn import model_selection\n",
    "from sklearn.metrics import confusion_matrix,classification_report\n",
    "from sklearn import tree\n",
    "from sklearn.model_selection import RepeatedKFold\n",
    "from sklearn.model_selection import cross_validate\n",
    "from sklearn.model_selection import train_test_split\n",
    "from sklearn.metrics import make_scorer \n",
    "from sklearn.metrics import precision_score\n",
    "from sklearn.metrics import recall_score\n",
    "from sklearn.metrics import f1_score\n",
    "from sklearn.metrics import accuracy_score\n",
    "from sklearn.linear_model import LogisticRegression\n",
    "from sklearn.preprocessing import MinMaxScaler\n",
    "df=pd.read_csv(\"E:/4.dataset_150.csv\")\n",
    "X=df.iloc[:,:18]\n",
    "y=df['output_grade']\n",
    "y=y.values.ravel()\n",
    "scaler = MinMaxScaler(feature_range=(0, 1))\n",
    "x= scaler.fit_transform(X)\n",
    "# prepare the cross-validation procedure\n",
    "lda = LDA(n_components=1)\n",
    "x = lda.fit_transform(x, y)\n",
    "#cv = RepeatedKFold(n_splits=5, n_repeats=1, random_state=41)\n",
    "\n",
    "x_train,x_test,y_train,y_test=train_test_split(x,y,test_size=0.25)\n",
    "warnings.filterwarnings('ignore')\n",
    "# parameter grid\n",
    "parameters = {\n",
    "    'penalty' : ['l1','l2'], \n",
    "    'C'       : np.logspace(-3,3,7),\n",
    "    'solver'  : ['newton-cg', 'lbfgs', 'sag','saga'],\n",
    "    'max_iter': [100,200,300,500,1000,1500,10000]\n",
    "}\n",
    "\n",
    "\n",
    "\n",
    "logreg = LogisticRegression(multi_class='multinomial')\n",
    "clf = GridSearchCV(logreg,                    # model\n",
    "                   param_grid = parameters,   # hyperparameters\n",
    "                   scoring='accuracy',        # metric for scoring\n",
    "                   cv=5)                     # number of folds\n",
    "\n",
    "\n",
    "\n",
    "clf.fit(x_train,y_train)\n",
    "\n",
    "\n",
    "print(\"Tuned Hyperparameters :\", clf.best_params_)\n",
    "print(\"Accuracy :\",clf.best_score_)\n"
   ]
  },
  {
   "cell_type": "code",
   "execution_count": null,
   "metadata": {},
   "outputs": [],
   "source": [
    "#Tuned Hyperparameters : {'C': 0.1, 'max_iter': 100, 'penalty': 'l2', 'solver': 'newton-cg'}\n",
    "#Accuracy : 0.9102766798418973"
   ]
  },
  {
   "cell_type": "code",
   "execution_count": 25,
   "metadata": {},
   "outputs": [],
   "source": [
    "from sklearn.discriminant_analysis import LinearDiscriminantAnalysis as LDA\n",
    "\n",
    "lda = LDA(n_components=1)\n",
    "x = lda.fit_transform(x, y)\n",
    "#x_test = lda.transform(x_test)"
   ]
  },
  {
   "cell_type": "code",
   "execution_count": 37,
   "metadata": {},
   "outputs": [],
   "source": [
    "from sklearn.linear_model import LogisticRegression\n",
    "model=LogisticRegression(multi_class='multinomial', C=0.1, max_iter=100, penalty='l2',solver='newton-cg')\n"
   ]
  },
  {
   "cell_type": "code",
   "execution_count": 38,
   "metadata": {},
   "outputs": [
    {
     "name": "stdout",
     "output_type": "stream",
     "text": [
      "LogisticRegression(C=0.1, multi_class='multinomial', solver='newton-cg')\n"
     ]
    }
   ],
   "source": [
    "from sklearn.model_selection import train_test_split\n",
    "x_train,x_test,y_train,y_test=train_test_split(x,y,stratify=y, \n",
    "                                                    test_size=0.30)\n",
    "print(model.fit(x_train,y_train))"
   ]
  },
  {
   "cell_type": "code",
   "execution_count": 39,
   "metadata": {},
   "outputs": [
    {
     "data": {
      "text/plain": [
       "0.7333333333333333"
      ]
     },
     "execution_count": 39,
     "metadata": {},
     "output_type": "execute_result"
    }
   ],
   "source": [
    "y_pred=model.predict(x_test)\n",
    "from sklearn.metrics import accuracy_score\n",
    "accuracy_score(y_pred,y_test)#3very imp"
   ]
  },
  {
   "cell_type": "code",
   "execution_count": 40,
   "metadata": {},
   "outputs": [
    {
     "data": {
      "text/plain": [
       "0.7333333333333333"
      ]
     },
     "execution_count": 40,
     "metadata": {},
     "output_type": "execute_result"
    }
   ],
   "source": [
    "model.score(x_test,y_test) #accuracy"
   ]
  },
  {
   "cell_type": "code",
   "execution_count": 41,
   "metadata": {
    "scrolled": true
   },
   "outputs": [],
   "source": [
    "#model.predict_proba(x_test)"
   ]
  },
  {
   "cell_type": "code",
   "execution_count": null,
   "metadata": {},
   "outputs": [],
   "source": []
  },
  {
   "cell_type": "code",
   "execution_count": null,
   "metadata": {},
   "outputs": [],
   "source": []
  },
  {
   "cell_type": "code",
   "execution_count": 42,
   "metadata": {},
   "outputs": [
    {
     "data": {
      "image/png": "[encoded data removed]",
      "text/plain": [
       "<Figure size 640x480 with 1 Axes>"
      ]
     },
     "metadata": {},
     "output_type": "display_data"
    }
   ],
   "source": [
    "#cm=confusion_matrix(y_test,y_pred)\n",
    "#cm\n",
    "from matplotlib import pyplot as plt\n",
    "from sklearn.metrics import confusion_matrix\n",
    "import seaborn as sns\n",
    "#plt.figure(figsize=(10,7))\n",
    "mat = confusion_matrix(y_test,y_pred)\n",
    "sns.heatmap(mat.T, square=True, annot=True, fmt='d', cbar=False)\n",
    "plt.xlabel('true label')\n",
    "plt.ylabel('predicted label');"
   ]
  },
  {
   "cell_type": "code",
   "execution_count": 43,
   "metadata": {
    "scrolled": true
   },
   "outputs": [
    {
     "name": "stdout",
     "output_type": "stream",
     "text": [
      "              precision    recall  f1-score   support\n",
      "\n",
      "           1       0.89      0.89      0.89         9\n",
      "           2       0.70      0.78      0.74         9\n",
      "           3       0.67      0.46      0.55        13\n",
      "           4       0.71      0.86      0.77        14\n",
      "\n",
      "    accuracy                           0.73        45\n",
      "   macro avg       0.74      0.75      0.74        45\n",
      "weighted avg       0.73      0.73      0.72        45\n",
      "\n"
     ]
    }
   ],
   "source": [
    "print(classification_report(y_test,y_pred))"
   ]
  },
  {
   "cell_type": "code",
   "execution_count": null,
   "metadata": {},
   "outputs": [],
   "source": []
  },
  {
   "cell_type": "code",
   "execution_count": 44,
   "metadata": {},
   "outputs": [
    {
     "name": "stdout",
     "output_type": "stream",
     "text": [
      "Accuracy: 69.782 (10.601)\n"
     ]
    }
   ],
   "source": [
    "from sklearn.model_selection import RepeatedKFold\n",
    "from sklearn.model_selection import cross_val_score\n",
    "from numpy import mean\n",
    "from numpy import std\n",
    "# prepare the cross-validation procedure\n",
    "cv = RepeatedKFold(n_splits=5, n_repeats=2, random_state=1)\n",
    "# evaluate model\n",
    "scores = cross_val_score(model, x, y, scoring='accuracy', cv=cv, n_jobs=-1)\n",
    "# report performance\n",
    "print('Accuracy: %.3f (%.3f)' % (100*mean(scores), 100*std(scores)))"
   ]
  },
  {
   "cell_type": "code",
   "execution_count": 46,
   "metadata": {},
   "outputs": [
    {
     "name": "stdout",
     "output_type": "stream",
     "text": [
      "              precision    recall  f1-score   support\n",
      "\n",
      "           1       0.89      0.89      0.89         9\n",
      "           2       0.70      0.78      0.74         9\n",
      "           3       0.67      0.46      0.55        13\n",
      "           4       0.71      0.86      0.77        14\n",
      "\n",
      "    accuracy                           0.73        45\n",
      "   macro avg       0.74      0.75      0.74        45\n",
      "weighted avg       0.73      0.73      0.72        45\n",
      "\n"
     ]
    }
   ],
   "source": [
    "#Test Accuracy\n",
    "model.fit(x_train, y_train)\n",
    "y_pred=model.predict(x_test)\n",
    "print(classification_report(y_test,y_pred))"
   ]
  },
  {
   "cell_type": "code",
   "execution_count": 50,
   "metadata": {},
   "outputs": [
    {
     "name": "stdout",
     "output_type": "stream",
     "text": [
      "{'Training Accuracy scores': array([0.77108434, 0.74698795, 0.75903614, 0.74698795, 0.79761905]), 'Validation Accuracy scores': array([0.71428571, 0.80952381, 0.80952381, 0.85714286, 0.75      ]), 'Training Precision scores': array([0.78441877, 0.75473699, 0.75917339, 0.77318776, 0.80530303]), 'Validation Precision scores': array([0.76785714, 0.825     , 0.875     , 0.88095238, 0.77291667]), 'Training Recall scores': array([0.7640419 , 0.74230277, 0.75083404, 0.74902245, 0.79513889]), 'Validation Recall scores': array([0.72083333, 0.80416667, 0.83333333, 0.8125    , 0.75833333]), 'Training F1 scores': array([0.75950802, 0.73048048, 0.74472679, 0.73465918, 0.78626407]), 'Validation F1 scores': array([0.69345238, 0.80178571, 0.80310458, 0.78076923, 0.74801587]), 'Mean Training Accuracy': 76.43430866322433, 'Mean Validation Accuracy': 78.80952380952381, 'Mean Training Precision': 0.7753639871618999, 'Mean Validation Precision': 0.8243452380952381, 'Mean Training Recall': 0.7602680121100838, 'Mean Validation Recall': 0.7858333333333334, 'Mean Training F1 Score': 0.7511277086334088, 'Mean Validation F1 Score': 0.7654255548373196}\n"
     ]
    }
   ],
   "source": [
    "from numpy import mean\n",
    "from numpy import std\n",
    "from sklearn.discriminant_analysis import LinearDiscriminantAnalysis as LDA\n",
    "import pandas as pd\n",
    "from sklearn import model_selection\n",
    "from sklearn.metrics import confusion_matrix,classification_report\n",
    "from sklearn import tree\n",
    "from sklearn.model_selection import RepeatedKFold\n",
    "from sklearn.model_selection import StratifiedKFold\n",
    "from sklearn.model_selection import cross_validate\n",
    "from sklearn.model_selection import train_test_split\n",
    "from sklearn.metrics import make_scorer \n",
    "from sklearn.metrics import precision_score\n",
    "from sklearn.metrics import recall_score\n",
    "from sklearn.metrics import f1_score\n",
    "from sklearn.metrics import accuracy_score\n",
    "from sklearn.linear_model import LogisticRegression\n",
    "\n",
    "def cross_validation(model,x,y, cv=5):     \n",
    "    scoring={'accuracy': make_scorer(accuracy_score),\n",
    "           'precision': make_scorer(precision_score, average = 'macro'),\n",
    "           'recall': make_scorer(recall_score, average = 'macro'),\n",
    "           'f1_score': make_scorer(f1_score, average = 'macro'),\n",
    "           #'f1_weighted': make_scorer(f1_score, average = 'weighted')\n",
    "           # 'loss': make_scorer('neg_log_loss')\n",
    "        }  \n",
    "               \n",
    "            \n",
    "    \n",
    "    \n",
    "    \n",
    "    results = cross_validate(model, x, y, scoring=scoring, cv=cv, n_jobs=-1, return_train_score=True)\n",
    "\n",
    "    return {\"Training Accuracy scores\": results['train_accuracy'],\n",
    "             \"Validation Accuracy scores\": results['test_accuracy'], \n",
    "            \n",
    "              \"Training Precision scores\": results['train_precision'],\n",
    "              \"Validation Precision scores\": results['test_precision'],\n",
    "          \n",
    "              \"Training Recall scores\": results['train_recall'],\n",
    "             \"Validation Recall scores\": results['test_recall'],\n",
    "            \n",
    "              \"Training F1 scores\": results['train_f1_score'],\n",
    "             \"Validation F1 scores\": results['test_f1_score'],\n",
    "            \n",
    "             \"Mean Training Accuracy\": results['train_accuracy'].mean()*100,\n",
    "              \"Mean Validation Accuracy\": results['test_accuracy'].mean()*100,\n",
    "              \"Mean Training Precision\": results['train_precision'].mean(),\n",
    "              \"Mean Validation Precision\": results['test_precision'].mean(),\n",
    "              \"Mean Training Recall\": results['train_recall'].mean(),\n",
    "              \"Mean Validation Recall\": results['test_recall'].mean(),\n",
    "              \"Mean Training F1 Score\": results['train_f1_score'].mean(),\n",
    "              \"Mean Validation F1 Score\": results['test_f1_score'].mean()\n",
    "                      }\n",
    "\n",
    "\n",
    "result = cross_validation(model, x_train,y_train, 5)\n",
    "print(result)\n"
   ]
  },
  {
   "cell_type": "code",
   "execution_count": 52,
   "metadata": {},
   "outputs": [
    {
     "data": {
      "image/png": "[encoded data removed]",
      "text/plain": [
       "<Figure size 800x400 with 1 Axes>"
      ]
     },
     "metadata": {},
     "output_type": "display_data"
    }
   ],
   "source": [
    "import numpy as np\n",
    "import matplotlib.pyplot as plt\n",
    "plt.figure(figsize=(8,4))\n",
    "labels = [\"1st Fold\", \"2nd Fold\", \"3rd Fold\", \"4th Fold\", \"5th Fold\",\"6th Fold\",\"7th Fold\"]\n",
    "X_axis = np.arange(len(labels))\n",
    "plt.xticks(X_axis, labels)  \n",
    "# Function to plot  \n",
    "plt.plot(result[\"Training Accuracy scores\"])\n",
    "plt.plot(result[\"Validation Accuracy scores\"])\n",
    "plt.ylabel(\"Accuracy\")  \n",
    "# Function add a legend  \n",
    "plt.legend([\"Training\", \"Validation\"], loc =\"upper right\")\n",
    "  \n",
    "# function to show the plot\n",
    "plt.show()\n",
    "\n",
    "\n",
    "\n",
    "        \n",
    "      \n",
    " \n",
    "    \n",
    "    \n",
    "    \n",
    "    \n",
    "    \n",
    "    "
   ]
  },
  {
   "cell_type": "code",
   "execution_count": null,
   "metadata": {},
   "outputs": [],
   "source": []
  },
  {
   "cell_type": "code",
   "execution_count": null,
   "metadata": {},
   "outputs": [],
   "source": []
  },
  {
   "cell_type": "code",
   "execution_count": 41,
   "metadata": {},
   "outputs": [
    {
     "name": "stdout",
     "output_type": "stream",
     "text": [
      "Tuned Hyperparameters : {'C': 1.0, 'max_iter': 100, 'penalty': 'l1', 'solver': 'saga'}\n",
      "Accuracy : 0.7644268774703559\n"
     ]
    }
   ],
   "source": []
  },
  {
   "cell_type": "code",
   "execution_count": 311,
   "metadata": {},
   "outputs": [],
   "source": [
    "#y_pred=clf.predict(x_test)\n",
    "#print(classification_report(y_test,y_pred))"
   ]
  },
  {
   "cell_type": "code",
   "execution_count": null,
   "metadata": {},
   "outputs": [],
   "source": []
  },
  {
   "cell_type": "code",
   "execution_count": null,
   "metadata": {},
   "outputs": [],
   "source": []
  }
 ],
 "metadata": {
  "kernelspec": {
   "display_name": "Python 3 (ipykernel)",
   "language": "python",
   "name": "python3"
  },
  "language_info": {
   "codemirror_mode": {
    "name": "ipython",
    "version": 3
   },
   "file_extension": ".py",
   "mimetype": "text/x-python",
   "name": "python",
   "nbconvert_exporter": "python",
   "pygments_lexer": "ipython3",
   "version": "3.9.13"
  }
 },
 "nbformat": 4,
 "nbformat_minor": 2
}
