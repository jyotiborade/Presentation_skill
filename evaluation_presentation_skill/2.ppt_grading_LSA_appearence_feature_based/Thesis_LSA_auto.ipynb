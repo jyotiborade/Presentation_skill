{
 "cells": [
  {
   "cell_type": "code",
   "execution_count": 452,
   "metadata": {
    "scrolled": true
   },
   "outputs": [
    {
     "name": "stdout",
     "output_type": "stream",
     "text": [
      "e:\\ppt\\01.pptx\n",
      "\n",
      "slide number1\n",
      "TextShape 1\n"
     ]
    },
    {
     "data": {
      "text/plain": [
       "'Times New Roman'"
      ]
     },
     "metadata": {},
     "output_type": "display_data"
    },
    {
     "data": {
      "text/plain": [
       "32.0"
      ]
     },
     "metadata": {},
     "output_type": "display_data"
    },
    {
     "name": "stdout",
     "output_type": "stream",
     "text": [
      "\n",
      "slide number2\n",
      "0, TITLE (1)\n",
      "Title 1\n"
     ]
    },
    {
     "data": {
      "text/plain": [
       "24.0"
      ]
     },
     "metadata": {},
     "output_type": "display_data"
    },
    {
     "name": "stdout",
     "output_type": "stream",
     "text": [
      "1, OBJECT (7)\n",
      "Content Placeholder 2\n",
      "Content Placeholder 2\n",
      "Content Placeholder 2\n",
      "\n",
      "slide number3\n",
      "0, TITLE (1)\n",
      "Title 1\n",
      "1, OBJECT (7)\n",
      "Content Placeholder 2\n",
      "\n",
      "slide number4\n",
      "0, TITLE (1)\n",
      "Title 1\n"
     ]
    },
    {
     "data": {
      "text/plain": [
       "28.0"
      ]
     },
     "metadata": {},
     "output_type": "display_data"
    },
    {
     "name": "stdout",
     "output_type": "stream",
     "text": [
      "Title 1\n",
      "Title 1\n",
      "1, OBJECT (7)\n",
      "\n",
      "slide number5\n",
      "0, TITLE (1)\n",
      "Title 1\n",
      "1, OBJECT (7)\n",
      "no textframe\n",
      "\n",
      "slide number6\n",
      "0, TITLE (1)\n",
      "Title 1\n"
     ]
    },
    {
     "data": {
      "text/plain": [
       "'+mn-lt'"
      ]
     },
     "metadata": {},
     "output_type": "display_data"
    },
    {
     "name": "stdout",
     "output_type": "stream",
     "text": [
      "1, OBJECT (7)\n",
      "Content Placeholder 2\n",
      "Content Placeholder 2\n"
     ]
    },
    {
     "data": {
      "text/plain": [
       "18.0"
      ]
     },
     "metadata": {},
     "output_type": "display_data"
    },
    {
     "name": "stdout",
     "output_type": "stream",
     "text": [
      "\n",
      "slide number7\n",
      "1, OBJECT (7)\n",
      "Content Placeholder 2\n",
      "Content Placeholder 2\n",
      "\n",
      "slide number8\n",
      "0, TITLE (1)\n",
      "Title 1\n",
      "1, OBJECT (7)\n",
      "Content Placeholder 2\n"
     ]
    },
    {
     "data": {
      "text/plain": [
       "20.0"
      ]
     },
     "metadata": {},
     "output_type": "display_data"
    },
    {
     "name": "stdout",
     "output_type": "stream",
     "text": [
      "Content Placeholder 2\n",
      "Content Placeholder 2\n",
      "Content Placeholder 2\n",
      "\n",
      "slide number9\n",
      "0, TITLE (1)\n",
      "Title 1\n",
      "1, OBJECT (7)\n",
      "Content Placeholder 2\n"
     ]
    },
    {
     "data": {
      "text/plain": [
       "16.0"
      ]
     },
     "metadata": {},
     "output_type": "display_data"
    },
    {
     "name": "stdout",
     "output_type": "stream",
     "text": [
      "Content Placeholder 2\n",
      "Content Placeholder 2\n",
      "Content Placeholder 2\n",
      "Content Placeholder 2\n",
      "Content Placeholder 2\n",
      "Content Placeholder 2\n",
      "Content Placeholder 2\n",
      "Content Placeholder 2\n",
      "Content Placeholder 2\n",
      "Content Placeholder 2\n",
      "Content Placeholder 2\n",
      "Content Placeholder 2\n",
      "\n",
      "slide number10\n",
      "0, TITLE (1)\n",
      "Title 1\n"
     ]
    },
    {
     "data": {
      "text/plain": [
       "72.0"
      ]
     },
     "metadata": {},
     "output_type": "display_data"
    },
    {
     "name": "stdout",
     "output_type": "stream",
     "text": [
      "\n",
      "font name\n",
      "['Times New Roman', '+mn-lt']\n",
      "\n",
      "font size\n",
      "[32.0, 24.0, 28.0, 18.0, 20.0, 16.0, 72.0]\n",
      "\n",
      "hyperlink\n",
      "[]\n",
      "\n",
      "color\n",
      "[(255, 0, 0)]\n",
      "\n",
      "number of font name\n",
      "3\n",
      "\n",
      "number of font size\n",
      "8\n",
      "\n",
      " number of hyperlink\n",
      "0\n",
      "\n",
      " number of color\n",
      "2\n",
      "\n",
      " number of pictures\n",
      "2\n",
      "\n",
      " number of chart\n",
      "0\n",
      "\n",
      " number of tables\n",
      "1\n",
      "\n",
      " maximum font size\n",
      "72.0\n",
      "\n",
      " minimum font size\n",
      "16.0\n",
      "e:\\ppt\\02.pptx\n",
      "\n",
      "slide number1\n",
      "0, CENTER_TITLE (3)\n",
      "Title 1\n",
      "1, SUBTITLE (4)\n",
      "Subtitle 2\n",
      "Subtitle 2\n",
      "Subtitle 2\n",
      "Subtitle 2\n",
      "Subtitle 2\n",
      "Subtitle 2\n",
      "Subtitle 2\n",
      "Subtitle 2\n",
      "Subtitle 2\n",
      "Subtitle 2\n",
      "Subtitle 2\n",
      "Subtitle 2\n",
      "Subtitle 2\n",
      "\n",
      "slide number2\n",
      "0, CENTER_TITLE (3)\n",
      "Title 1\n"
     ]
    },
    {
     "data": {
      "text/plain": [
       "'Algerian'"
      ]
     },
     "metadata": {},
     "output_type": "display_data"
    },
    {
     "data": {
      "text/plain": [
       "66.0"
      ]
     },
     "metadata": {},
     "output_type": "display_data"
    },
    {
     "name": "stdout",
     "output_type": "stream",
     "text": [
      "1, SUBTITLE (4)\n",
      "Subtitle 2\n"
     ]
    },
    {
     "data": {
      "text/plain": [
       "'Agency FB'"
      ]
     },
     "metadata": {},
     "output_type": "display_data"
    },
    {
     "data": {
      "text/plain": [
       "24.0"
      ]
     },
     "metadata": {},
     "output_type": "display_data"
    },
    {
     "name": "stdout",
     "output_type": "stream",
     "text": [
      "Subtitle 2\n",
      "Subtitle 2\n",
      "Subtitle 2\n",
      "Subtitle 2\n",
      "Subtitle 2\n",
      "Subtitle 2\n",
      "\n",
      "slide number3\n",
      "0, CENTER_TITLE (3)\n",
      "Title 1\n"
     ]
    },
    {
     "data": {
      "text/plain": [
       "54.0"
      ]
     },
     "metadata": {},
     "output_type": "display_data"
    },
    {
     "name": "stdout",
     "output_type": "stream",
     "text": [
      "1, SUBTITLE (4)\n",
      "Subtitle 2\n"
     ]
    },
    {
     "data": {
      "text/plain": [
       "64.0"
      ]
     },
     "metadata": {},
     "output_type": "display_data"
    },
    {
     "name": "stdout",
     "output_type": "stream",
     "text": [
      "Subtitle 2\n",
      "\n",
      "slide number4\n",
      "0, TITLE (1)\n",
      "Title 1\n"
     ]
    },
    {
     "data": {
      "text/plain": [
       "44.0"
      ]
     },
     "metadata": {},
     "output_type": "display_data"
    },
    {
     "name": "stdout",
     "output_type": "stream",
     "text": [
      "1, OBJECT (7)\n",
      "no textframe\n",
      "\n",
      "slide number5\n",
      "0, TITLE (1)\n",
      "Title 1\n",
      "1, OBJECT (7)\n",
      "Content Placeholder 2\n"
     ]
    },
    {
     "data": {
      "text/plain": [
       "'Calibri'"
      ]
     },
     "metadata": {},
     "output_type": "display_data"
    },
    {
     "data": {
      "text/plain": [
       "26.0"
      ]
     },
     "metadata": {},
     "output_type": "display_data"
    },
    {
     "name": "stdout",
     "output_type": "stream",
     "text": [
      "Content Placeholder 2\n",
      "Content Placeholder 2\n",
      "Content Placeholder 2\n",
      "Content Placeholder 2\n",
      "Content Placeholder 2\n"
     ]
    },
    {
     "data": {
      "text/plain": [
       "29.0"
      ]
     },
     "metadata": {},
     "output_type": "display_data"
    },
    {
     "name": "stdout",
     "output_type": "stream",
     "text": [
      "Content Placeholder 2\n",
      "Content Placeholder 2\n",
      "Content Placeholder 2\n",
      "Content Placeholder 2\n",
      "Content Placeholder 2\n",
      "\n",
      "slide number6\n",
      "0, TITLE (1)\n",
      "Title 1\n",
      "1, OBJECT (7)\n",
      "Content Placeholder 2\n"
     ]
    },
    {
     "data": {
      "text/plain": [
       "20.0"
      ]
     },
     "metadata": {},
     "output_type": "display_data"
    },
    {
     "name": "stdout",
     "output_type": "stream",
     "text": [
      "Content Placeholder 2\n",
      "Content Placeholder 2\n",
      "Content Placeholder 2\n",
      "Content Placeholder 2\n",
      "Content Placeholder 2\n",
      "\n",
      "slide number7\n",
      "0, TITLE (1)\n",
      "Title 1\n",
      "1, OBJECT (7)\n",
      "Content Placeholder 2\n",
      "Content Placeholder 2\n",
      "\n",
      "slide number8\n",
      "0, TITLE (1)\n",
      "Title 9\n"
     ]
    },
    {
     "data": {
      "text/plain": [
       "48.0"
      ]
     },
     "metadata": {},
     "output_type": "display_data"
    },
    {
     "name": "stdout",
     "output_type": "stream",
     "text": [
      "1, OBJECT (7)\n",
      "\n",
      "slide number9\n",
      "0, TITLE (1)\n",
      "Title 1\n",
      "1, OBJECT (7)\n",
      "Content Placeholder 2\n",
      "Content Placeholder 2\n",
      "Content Placeholder 2\n",
      "Content Placeholder 2\n",
      "Content Placeholder 2\n",
      "\n",
      "slide number10\n",
      "0, TITLE (1)\n",
      "Title 1\n",
      "1, OBJECT (7)\n",
      "Content Placeholder 2\n"
     ]
    },
    {
     "data": {
      "text/plain": [
       "36.0"
      ]
     },
     "metadata": {},
     "output_type": "display_data"
    },
    {
     "name": "stdout",
     "output_type": "stream",
     "text": [
      "Content Placeholder 2\n",
      "Content Placeholder 2\n",
      "Content Placeholder 2\n",
      "Content Placeholder 2\n",
      "Content Placeholder 2\n",
      "Content Placeholder 2\n",
      "Content Placeholder 2\n",
      "Content Placeholder 2\n",
      "Content Placeholder 2\n",
      "Content Placeholder 2\n",
      "Content Placeholder 2\n",
      "Content Placeholder 2\n",
      "Content Placeholder 2\n",
      "Content Placeholder 2\n",
      "Content Placeholder 2\n",
      "Content Placeholder 2\n",
      "Content Placeholder 2\n",
      "Content Placeholder 2\n",
      "Content Placeholder 2\n",
      "Content Placeholder 2\n",
      "Content Placeholder 2\n",
      "Content Placeholder 2\n",
      "Content Placeholder 2\n",
      "Content Placeholder 2\n",
      "Content Placeholder 2\n",
      "Content Placeholder 2\n",
      "Content Placeholder 2\n",
      "\n",
      "slide number11\n",
      "0, CENTER_TITLE (3)\n",
      "Title 1\n",
      "1, SUBTITLE (4)\n",
      "Subtitle 2\n"
     ]
    },
    {
     "data": {
      "text/plain": [
       "'Aharoni'"
      ]
     },
     "metadata": {},
     "output_type": "display_data"
    },
    {
     "data": {
      "text/plain": [
       "40.0"
      ]
     },
     "metadata": {},
     "output_type": "display_data"
    },
    {
     "name": "stdout",
     "output_type": "stream",
     "text": [
      "Subtitle 2\n",
      "Subtitle 2\n",
      "Subtitle 2\n",
      "Subtitle 2\n",
      "Subtitle 2\n",
      "Subtitle 2\n",
      "Subtitle 2\n",
      "Subtitle 2\n",
      "Subtitle 2\n",
      "\n",
      "font name\n",
      "['Algerian', 'Agency FB', 'Calibri', 'Aharoni']\n",
      "\n",
      "font size\n",
      "[66.0, 24.0, 54.0, 64.0, 44.0, 26.0, 29.0, 20.0, 48.0, 36.0, 40.0]\n",
      "\n",
      "hyperlink\n",
      "[]\n",
      "\n",
      "color\n",
      "[]\n",
      "\n",
      "number of font name\n",
      "5\n",
      "\n",
      "number of font size\n",
      "12\n",
      "\n",
      " number of hyperlink\n",
      "0\n",
      "\n",
      " number of color\n",
      "1\n",
      "\n",
      " number of pictures\n",
      "0\n",
      "\n",
      " number of chart\n",
      "0\n",
      "\n",
      " number of tables\n",
      "1\n",
      "\n",
      " maximum font size\n",
      "66.0\n",
      "\n",
      " minimum font size\n",
      "20.0\n",
      "e:\\ppt\\03.pptx\n",
      "\n",
      "slide number1\n",
      "0, CENTER_TITLE (3)\n",
      "Title 1\n"
     ]
    },
    {
     "data": {
      "text/plain": [
       "'Times New Roman'"
      ]
     },
     "metadata": {},
     "output_type": "display_data"
    },
    {
     "data": {
      "text/plain": [
       "24.0"
      ]
     },
     "metadata": {},
     "output_type": "display_data"
    },
    {
     "name": "stdout",
     "output_type": "stream",
     "text": [
      "1, SUBTITLE (4)\n",
      "Subtitle 2\n"
     ]
    },
    {
     "data": {
      "text/plain": [
       "44.0"
      ]
     },
     "metadata": {},
     "output_type": "display_data"
    },
    {
     "name": "stdout",
     "output_type": "stream",
     "text": [
      "\n",
      "slide number2\n",
      "0, TITLE (1)\n",
      "Title 1\n"
     ]
    },
    {
     "data": {
      "text/plain": [
       "28.0"
      ]
     },
     "metadata": {},
     "output_type": "display_data"
    },
    {
     "name": "stdout",
     "output_type": "stream",
     "text": [
      "1, OBJECT (7)\n",
      "Content Placeholder 2\n"
     ]
    },
    {
     "data": {
      "text/plain": [
       "20.0"
      ]
     },
     "metadata": {},
     "output_type": "display_data"
    },
    {
     "name": "stdout",
     "output_type": "stream",
     "text": [
      "Content Placeholder 2\n",
      "Content Placeholder 2\n",
      "Content Placeholder 2\n",
      "Content Placeholder 2\n",
      "Content Placeholder 2\n",
      "14, DATE (16)\n",
      "15, SLIDE_NUMBER (13)\n",
      "16, FOOTER (15)\n",
      "Footer Placeholder 5\n",
      "\n",
      "slide number3\n",
      "0, TITLE (1)\n",
      "Title 1\n",
      "Title 1\n",
      "Title 1\n",
      "1, OBJECT (7)\n",
      "Content Placeholder 2\n",
      "14, DATE (16)\n",
      "15, SLIDE_NUMBER (13)\n",
      "16, FOOTER (15)\n",
      "Footer Placeholder 5\n",
      "\n",
      "slide number4\n",
      "0, TITLE (1)\n",
      "Title 1\n",
      "1, OBJECT (7)\n",
      "Content Placeholder 2\n",
      "Content Placeholder 2\n",
      "Content Placeholder 2\n",
      "Content Placeholder 2\n",
      "Content Placeholder 2\n",
      "Content Placeholder 2\n",
      "Content Placeholder 2\n",
      "Content Placeholder 2\n",
      "Content Placeholder 2\n",
      "Content Placeholder 2\n",
      "14, DATE (16)\n",
      "15, SLIDE_NUMBER (13)\n",
      "16, FOOTER (15)\n",
      "Footer Placeholder 5\n",
      "\n",
      "slide number5\n",
      "0, TITLE (1)\n",
      "Title 1\n",
      "1, OBJECT (7)\n",
      "Content Placeholder 2\n",
      "Content Placeholder 2\n",
      "14, DATE (16)\n",
      "15, SLIDE_NUMBER (13)\n",
      "16, FOOTER (15)\n",
      "Footer Placeholder 5\n",
      "\n",
      "slide number6\n",
      "0, TITLE (1)\n",
      "Title 1\n",
      "1, OBJECT (7)\n",
      "Content Placeholder 2\n",
      "Content Placeholder 2\n",
      "Content Placeholder 2\n",
      "Content Placeholder 2\n",
      "Content Placeholder 2\n",
      "14, DATE (16)\n",
      "15, SLIDE_NUMBER (13)\n",
      "16, FOOTER (15)\n",
      "Footer Placeholder 5\n",
      "\n",
      "slide number7\n",
      "0, TITLE (1)\n",
      "Title 1\n",
      "Title 1\n",
      "Title 1\n",
      "1, OBJECT (7)\n",
      "no textframe\n",
      "14, DATE (16)\n",
      "15, SLIDE_NUMBER (13)\n",
      "16, FOOTER (15)\n",
      "Footer Placeholder 5\n",
      "\n",
      "slide number8\n",
      "0, CENTER_TITLE (3)\n",
      "Title 1\n",
      "Title 1\n",
      "Title 1\n",
      "1, SUBTITLE (4)\n",
      "\n",
      "slide number9\n",
      "0, TITLE (1)\n",
      "Title 1\n",
      "1, OBJECT (7)\n",
      "14, DATE (16)\n",
      "15, SLIDE_NUMBER (13)\n",
      "16, FOOTER (15)\n",
      "Footer Placeholder 6\n",
      "\n",
      "slide number10\n",
      "0, TITLE (1)\n",
      "Title 1\n",
      "1, OBJECT (7)\n",
      "14, DATE (16)\n",
      "15, SLIDE_NUMBER (13)\n",
      "16, FOOTER (15)\n",
      "Footer Placeholder 6\n",
      "\n",
      "slide number11\n",
      "0, TITLE (1)\n",
      "Title 1\n",
      "1, OBJECT (7)\n",
      "Content Placeholder 2\n",
      "14, DATE (16)\n",
      "15, SLIDE_NUMBER (13)\n",
      "16, FOOTER (15)\n",
      "Footer Placeholder 5\n",
      "\n",
      "slide number12\n",
      "0, TITLE (1)\n",
      "Title 1\n",
      "1, OBJECT (7)\n",
      "Content Placeholder 2\n"
     ]
    },
    {
     "data": {
      "text/plain": [
       "18.0"
      ]
     },
     "metadata": {},
     "output_type": "display_data"
    },
    {
     "name": "stdout",
     "output_type": "stream",
     "text": [
      "Content Placeholder 2\n",
      "Content Placeholder 2\n",
      "Content Placeholder 2\n",
      "Content Placeholder 2\n",
      "Content Placeholder 2\n",
      "Content Placeholder 2\n",
      "Content Placeholder 2\n",
      "14, DATE (16)\n",
      "15, SLIDE_NUMBER (13)\n",
      "16, FOOTER (15)\n",
      "Footer Placeholder 5\n",
      "\n",
      "font name\n",
      "['Times New Roman']\n",
      "\n",
      "font size\n",
      "[24.0, 44.0, 28.0, 20.0, 18.0]\n",
      "\n",
      "hyperlink\n",
      "[]\n",
      "\n",
      "color\n",
      "[(255, 0, 0)]\n",
      "\n",
      "number of font name\n",
      "2\n",
      "\n",
      "number of font size\n",
      "6\n",
      "\n",
      " number of hyperlink\n",
      "0\n",
      "\n",
      " number of color\n",
      "2\n",
      "\n",
      " number of pictures\n",
      "0\n",
      "\n",
      " number of chart\n",
      "0\n",
      "\n",
      " number of tables\n",
      "3\n",
      "\n",
      " maximum font size\n",
      "44.0\n",
      "\n",
      " minimum font size\n",
      "18.0\n",
      "e:\\ppt\\06.pptx\n",
      "\n",
      "slide number1\n",
      "0, CENTER_TITLE (3)\n",
      "Title 1\n"
     ]
    },
    {
     "data": {
      "text/plain": [
       "'Times New Roman'"
      ]
     },
     "metadata": {},
     "output_type": "display_data"
    },
    {
     "name": "stdout",
     "output_type": "stream",
     "text": [
      "1, SUBTITLE (4)\n",
      "Subtitle 2\n",
      "Subtitle 2\n"
     ]
    },
    {
     "data": {
      "text/plain": [
       "24.0"
      ]
     },
     "metadata": {},
     "output_type": "display_data"
    },
    {
     "name": "stdout",
     "output_type": "stream",
     "text": [
      "Subtitle 2\n",
      "Subtitle 2\n",
      "Subtitle 2\n",
      "Subtitle 2\n",
      "\n",
      "slide number2\n",
      "0, TITLE (1)\n",
      "Title 1\n"
     ]
    },
    {
     "data": {
      "text/plain": [
       "44.0"
      ]
     },
     "metadata": {},
     "output_type": "display_data"
    },
    {
     "name": "stdout",
     "output_type": "stream",
     "text": [
      "1, OBJECT (7)\n",
      "Content Placeholder 2\n",
      "Content Placeholder 2\n",
      "Content Placeholder 2\n",
      "Content Placeholder 2\n",
      "Content Placeholder 2\n",
      "Content Placeholder 2\n",
      "Content Placeholder 2\n",
      "10, DATE (16)\n",
      "11, FOOTER (15)\n",
      "Footer Placeholder 4\n",
      "\n",
      "slide number3\n",
      "0, TITLE (1)\n",
      "Title 1\n",
      "1, OBJECT (7)\n",
      "Content Placeholder 2\n",
      "Content Placeholder 2\n",
      "Content Placeholder 2\n",
      "10, DATE (16)\n",
      "11, FOOTER (15)\n",
      "Footer Placeholder 4\n",
      "\n",
      "slide number4\n",
      "0, TITLE (1)\n",
      "Title 1\n",
      "Title 1\n",
      "Title 1\n",
      "1, OBJECT (7)\n",
      "no textframe\n",
      "10, DATE (16)\n",
      "11, FOOTER (15)\n",
      "Footer Placeholder 5\n",
      "\n",
      "slide number5\n",
      "1, OBJECT (7)\n",
      "no textframe\n",
      "10, DATE (16)\n",
      "11, FOOTER (15)\n",
      "Footer Placeholder 3\n",
      "\n",
      "slide number6\n",
      "0, TITLE (1)\n",
      "Title 1\n",
      "1, OBJECT (7)\n",
      "no textframe\n",
      "10, DATE (16)\n",
      "11, FOOTER (15)\n",
      "Footer Placeholder 4\n",
      "\n",
      "slide number7\n",
      "0, TITLE (1)\n",
      "Title 1\n",
      "1, OBJECT (7)\n",
      "Content Placeholder 2\n"
     ]
    },
    {
     "data": {
      "text/plain": [
       "16.0"
      ]
     },
     "metadata": {},
     "output_type": "display_data"
    },
    {
     "name": "stdout",
     "output_type": "stream",
     "text": [
      "Content Placeholder 2\n"
     ]
    },
    {
     "data": {
      "text/plain": [
       "14.0"
      ]
     },
     "metadata": {},
     "output_type": "display_data"
    },
    {
     "name": "stdout",
     "output_type": "stream",
     "text": [
      "Content Placeholder 2\n",
      "Content Placeholder 2\n",
      "Content Placeholder 2\n",
      "Content Placeholder 2\n",
      "Content Placeholder 2\n",
      "Content Placeholder 2\n",
      "Content Placeholder 2\n",
      "Content Placeholder 2\n",
      "Content Placeholder 2\n",
      "Content Placeholder 2\n",
      "Content Placeholder 2\n",
      "Content Placeholder 2\n"
     ]
    },
    {
     "data": {
      "text/plain": [
       "20.0"
      ]
     },
     "metadata": {},
     "output_type": "display_data"
    },
    {
     "name": "stdout",
     "output_type": "stream",
     "text": [
      "10, DATE (16)\n",
      "11, FOOTER (15)\n",
      "Footer Placeholder 4\n",
      "\n",
      "slide number8\n",
      "1, OBJECT (7)\n",
      "Content Placeholder 2\n",
      "Content Placeholder 2\n",
      "Content Placeholder 2\n",
      "10, DATE (16)\n",
      "11, FOOTER (15)\n",
      "Footer Placeholder 7\n",
      "\n",
      "slide number9\n",
      "0, TITLE (1)\n",
      "Title 1\n",
      "1, OBJECT (7)\n",
      "Content Placeholder 2\n",
      "Content Placeholder 2\n",
      "Content Placeholder 2\n",
      "10, DATE (16)\n",
      "11, FOOTER (15)\n",
      "Footer Placeholder 4\n",
      "\n",
      "slide number10\n",
      "0, TITLE (1)\n",
      "Title 1\n"
     ]
    },
    {
     "data": {
      "text/plain": [
       "40.0"
      ]
     },
     "metadata": {},
     "output_type": "display_data"
    },
    {
     "name": "stdout",
     "output_type": "stream",
     "text": [
      "1, OBJECT (7)\n",
      "Content Placeholder 2\n"
     ]
    },
    {
     "data": {
      "text/plain": [
       "12.0"
      ]
     },
     "metadata": {},
     "output_type": "display_data"
    },
    {
     "name": "stdout",
     "output_type": "stream",
     "text": [
      "Content Placeholder 2\n",
      "Content Placeholder 2\n",
      "Content Placeholder 2\n",
      "Content Placeholder 2\n",
      "Content Placeholder 2\n",
      "Content Placeholder 2\n",
      "Content Placeholder 2\n",
      "Content Placeholder 2\n",
      "Content Placeholder 2\n",
      "Content Placeholder 2\n",
      "Content Placeholder 2\n",
      "Content Placeholder 2\n",
      "Content Placeholder 2\n",
      "Content Placeholder 2\n",
      "Content Placeholder 2\n",
      "Content Placeholder 2\n",
      "Content Placeholder 2\n",
      "Content Placeholder 2\n",
      "Content Placeholder 2\n",
      "Content Placeholder 2\n",
      "Content Placeholder 2\n",
      "Content Placeholder 2\n",
      "Content Placeholder 2\n",
      "Content Placeholder 2\n",
      "Content Placeholder 2\n",
      "Content Placeholder 2\n",
      "Content Placeholder 2\n",
      "Content Placeholder 2\n",
      "Content Placeholder 2\n",
      "Content Placeholder 2\n",
      "Content Placeholder 2\n",
      "Content Placeholder 2\n",
      "Content Placeholder 2\n",
      "Content Placeholder 2\n",
      "Content Placeholder 2\n",
      "10, DATE (16)\n",
      "11, FOOTER (15)\n",
      "Footer Placeholder 4\n",
      "\n",
      "slide number11\n",
      "1, OBJECT (7)\n",
      "Content Placeholder 2\n",
      "Content Placeholder 2\n",
      "Content Placeholder 2\n",
      "Content Placeholder 2\n",
      "Content Placeholder 2\n",
      "Content Placeholder 2\n",
      "Content Placeholder 2\n",
      "Content Placeholder 2\n",
      "Content Placeholder 2\n",
      "Content Placeholder 2\n",
      "Content Placeholder 2\n",
      "Content Placeholder 2\n",
      "Content Placeholder 2\n",
      "Content Placeholder 2\n",
      "Content Placeholder 2\n",
      "Content Placeholder 2\n",
      "Content Placeholder 2\n",
      "Content Placeholder 2\n",
      "Content Placeholder 2\n",
      "Content Placeholder 2\n",
      "Content Placeholder 2\n",
      "Content Placeholder 2\n",
      "Content Placeholder 2\n",
      "Content Placeholder 2\n",
      "Content Placeholder 2\n",
      "Content Placeholder 2\n",
      "Content Placeholder 2\n",
      "Content Placeholder 2\n",
      "Content Placeholder 2\n",
      "Content Placeholder 2\n",
      "Content Placeholder 2\n",
      "Content Placeholder 2\n",
      "Content Placeholder 2\n",
      "Content Placeholder 2\n",
      "Content Placeholder 2\n",
      "Content Placeholder 2\n",
      "Content Placeholder 2\n",
      "Content Placeholder 2\n",
      "Content Placeholder 2\n",
      "Content Placeholder 2\n",
      "Content Placeholder 2\n",
      "Content Placeholder 2\n",
      "Content Placeholder 2\n",
      "Content Placeholder 2\n",
      "Content Placeholder 2\n",
      "Content Placeholder 2\n",
      "Content Placeholder 2\n",
      "Content Placeholder 2\n",
      "Content Placeholder 2\n",
      "Content Placeholder 2\n",
      "Content Placeholder 2\n",
      "Content Placeholder 2\n",
      "10, DATE (16)\n",
      "11, FOOTER (15)\n",
      "Footer Placeholder 4\n",
      "\n",
      "font name\n",
      "['Times New Roman']\n",
      "\n",
      "font size\n",
      "[24.0, 44.0, 16.0, 14.0, 20.0, 40.0, 12.0]\n",
      "\n",
      "hyperlink\n",
      "[]\n",
      "\n",
      "color\n",
      "[(0, 176, 80)]\n",
      "\n",
      "number of font name\n",
      "2\n",
      "\n",
      "number of font size\n",
      "8\n",
      "\n",
      " number of hyperlink\n",
      "0\n",
      "\n",
      " number of color\n",
      "2\n",
      "\n",
      " number of pictures\n",
      "2\n",
      "\n",
      " number of chart\n",
      "0\n",
      "\n",
      " number of tables\n",
      "0\n",
      "\n",
      " maximum font size\n",
      "44.0\n",
      "\n",
      " minimum font size\n",
      "12.0\n",
      "e:\\ppt\\10.pptx\n",
      "\n",
      "slide number1\n",
      "0, CENTER_TITLE (3)\n",
      "Title 1\n"
     ]
    },
    {
     "data": {
      "text/plain": [
       "'Times New Roman'"
      ]
     },
     "metadata": {},
     "output_type": "display_data"
    },
    {
     "data": {
      "text/plain": [
       "44.0"
      ]
     },
     "metadata": {},
     "output_type": "display_data"
    },
    {
     "name": "stdout",
     "output_type": "stream",
     "text": [
      "1, SUBTITLE (4)\n",
      "Subtitle 2\n",
      "Subtitle 2\n",
      "Subtitle 2\n",
      "Subtitle 2\n",
      "\n",
      "slide number2\n",
      "1, OBJECT (7)\n",
      "Content Placeholder 1\n",
      "Content Placeholder 1\n",
      "Content Placeholder 1\n",
      "Content Placeholder 1\n",
      "Content Placeholder 1\n",
      "Content Placeholder 1\n",
      "Content Placeholder 1\n",
      "Content Placeholder 1\n",
      "0, TITLE (1)\n",
      "Title 2\n",
      "\n",
      "slide number3\n",
      "0, TITLE (1)\n",
      "Title 1\n",
      "1, OBJECT (7)\n",
      "Content Placeholder 2\n",
      "Content Placeholder 2\n",
      "Content Placeholder 2\n",
      "Content Placeholder 2\n",
      "\n",
      "slide number4\n",
      "0, TITLE (1)\n",
      "Title 1\n",
      "\n",
      "slide number5\n",
      "0, TITLE (1)\n",
      "Title 1\n",
      "TextBox 44\n"
     ]
    },
    {
     "data": {
      "text/plain": [
       "16.0"
      ]
     },
     "metadata": {},
     "output_type": "display_data"
    },
    {
     "name": "stdout",
     "output_type": "stream",
     "text": [
      "TextBox 45\n",
      "TextBox 47\n",
      "TextBox 48\n",
      "TextBox 49\n",
      "TextBox 52\n",
      "\n",
      "slide number6\n",
      "0, TITLE (1)\n",
      "Title 1\n"
     ]
    },
    {
     "data": {
      "text/plain": [
       "40.0"
      ]
     },
     "metadata": {},
     "output_type": "display_data"
    },
    {
     "name": "stdout",
     "output_type": "stream",
     "text": [
      "\n",
      "font name\n",
      "['Times New Roman']\n",
      "\n",
      "font size\n",
      "[44.0, 16.0, 40.0]\n",
      "\n",
      "hyperlink\n",
      "[]\n",
      "\n",
      "color\n",
      "[(0, 0, 0)]\n",
      "\n",
      "number of font name\n",
      "2\n",
      "\n",
      "number of font size\n",
      "4\n",
      "\n",
      " number of hyperlink\n",
      "0\n",
      "\n",
      " number of color\n",
      "2\n",
      "\n",
      " number of pictures\n",
      "4\n",
      "\n",
      " number of chart\n",
      "0\n",
      "\n",
      " number of tables\n",
      "1\n",
      "\n",
      " maximum font size\n",
      "44.0\n",
      "\n",
      " minimum font size\n",
      "16.0\n",
      "e:\\ppt\\100.pptx\n",
      "\n",
      "slide number1\n",
      "0, CENTER_TITLE (3)\n",
      "Title 1\n",
      "1, SUBTITLE (4)\n",
      "Subtitle 2\n",
      "\n",
      "slide number2\n",
      "0, TITLE (1)\n",
      "Title 1\n"
     ]
    },
    {
     "data": {
      "text/plain": [
       "'Times New Roman'"
      ]
     },
     "metadata": {},
     "output_type": "display_data"
    },
    {
     "data": {
      "text/plain": [
       "20.0"
      ]
     },
     "metadata": {},
     "output_type": "display_data"
    },
    {
     "name": "stdout",
     "output_type": "stream",
     "text": [
      "Title 1\n"
     ]
    },
    {
     "data": {
      "text/plain": [
       "28.0"
      ]
     },
     "metadata": {},
     "output_type": "display_data"
    },
    {
     "name": "stdout",
     "output_type": "stream",
     "text": [
      "Title 1\n",
      "Title 1\n"
     ]
    },
    {
     "data": {
      "text/plain": [
       "24.0"
      ]
     },
     "metadata": {},
     "output_type": "display_data"
    },
    {
     "name": "stdout",
     "output_type": "stream",
     "text": [
      "Title 1\n",
      "Title 1\n",
      "Title 1\n",
      "Title 1\n",
      "Title 1\n",
      "Title 1\n",
      "Title 1\n",
      "Title 1\n",
      "Title 1\n",
      "Title 1\n",
      "Title 1\n",
      "Title 1\n",
      "Title 1\n",
      "Title 1\n",
      "Title 1\n",
      "Title 1\n",
      "Title 1\n",
      "Title 1\n",
      "Title 1\n",
      "Title 1\n",
      "\n",
      "slide number3\n",
      "0, TITLE (1)\n",
      "Title 1\n",
      "Title 1\n",
      "1, OBJECT (7)\n",
      "Content Placeholder 5\n",
      "Content Placeholder 5\n",
      "Content Placeholder 5\n",
      "Content Placeholder 5\n",
      "Content Placeholder 5\n",
      "Content Placeholder 5\n",
      "Content Placeholder 5\n",
      "Content Placeholder 5\n",
      "Content Placeholder 5\n",
      "Content Placeholder 5\n",
      "\n",
      "slide number4\n",
      "0, TITLE (1)\n",
      "Title 1\n",
      "1, OBJECT (7)\n",
      "Content Placeholder 2\n",
      "Content Placeholder 2\n",
      "Content Placeholder 2\n",
      "Content Placeholder 2\n",
      "Content Placeholder 2\n",
      "Content Placeholder 2\n",
      "Content Placeholder 2\n",
      "Content Placeholder 2\n",
      "Content Placeholder 2\n",
      "\n",
      "slide number5\n",
      "0, TITLE (1)\n",
      "Title 1\n",
      "Title 1\n",
      "1, OBJECT (7)\n",
      "Content Placeholder 2\n",
      "Content Placeholder 2\n",
      "Content Placeholder 2\n",
      "Content Placeholder 2\n",
      "Content Placeholder 2\n",
      "Content Placeholder 2\n",
      "Content Placeholder 2\n",
      "Content Placeholder 2\n",
      "Content Placeholder 2\n",
      "Content Placeholder 2\n",
      "Content Placeholder 2\n",
      "Content Placeholder 2\n",
      "Content Placeholder 2\n",
      "Content Placeholder 2\n",
      "Content Placeholder 2\n",
      "Content Placeholder 2\n",
      "Content Placeholder 2\n",
      "Content Placeholder 2\n",
      "Content Placeholder 2\n",
      "Content Placeholder 2\n",
      "\n",
      "slide number6\n",
      "0, TITLE (1)\n",
      "Title 1\n"
     ]
    },
    {
     "data": {
      "text/plain": [
       "22.0"
      ]
     },
     "metadata": {},
     "output_type": "display_data"
    },
    {
     "name": "stdout",
     "output_type": "stream",
     "text": [
      "Title 1\n",
      "1, OBJECT (7)\n",
      "Content Placeholder 6\n"
     ]
    },
    {
     "data": {
      "text/plain": [
       "23.0"
      ]
     },
     "metadata": {},
     "output_type": "display_data"
    },
    {
     "name": "stdout",
     "output_type": "stream",
     "text": [
      "Content Placeholder 6\n",
      "Content Placeholder 6\n",
      "Content Placeholder 6\n",
      "Content Placeholder 6\n",
      "Content Placeholder 6\n",
      "Content Placeholder 6\n",
      "\n",
      "slide number7\n",
      "TextBox 1\n",
      "TextBox 2\n",
      "TextBox 3\n",
      "TextBox 3\n",
      "TextBox 3\n",
      "\n",
      "slide number8\n",
      "TextBox 1\n",
      "TextBox 3\n",
      "TextBox 3\n",
      "TextBox 3\n"
     ]
    },
    {
     "data": {
      "text/plain": [
       "'Arial'"
      ]
     },
     "metadata": {},
     "output_type": "display_data"
    },
    {
     "name": "stdout",
     "output_type": "stream",
     "text": [
      "TextBox 3\n",
      "TextBox 3\n",
      "TextBox 3\n",
      "TextBox 3\n",
      "TextBox 3\n",
      "TextBox 3\n",
      "\n",
      "slide number9\n",
      "TextBox 1\n",
      "TextBox 4\n",
      "TextBox 4\n",
      "TextBox 4\n",
      "TextBox 4\n",
      "TextBox 4\n",
      "TextBox 4\n",
      "\n",
      "slide number10\n",
      "TextBox 1\n",
      "TextBox 4\n",
      "TextBox 4\n",
      "TextBox 4\n",
      "TextBox 4\n",
      "\n",
      "slide number11\n",
      "0, TITLE (1)\n",
      "Title 1\n",
      "TextBox 3\n",
      "TextBox 3\n",
      "TextBox 3\n",
      "TextBox 3\n",
      "TextBox 3\n",
      "TextBox 3\n",
      "TextBox 3\n",
      "\n",
      "slide number12\n",
      "0, TITLE (1)\n",
      "Title 1\n",
      "Title 1\n",
      "Title 1\n"
     ]
    },
    {
     "data": {
      "text/plain": [
       "18.0"
      ]
     },
     "metadata": {},
     "output_type": "display_data"
    },
    {
     "name": "stdout",
     "output_type": "stream",
     "text": [
      "Title 1\n",
      "Title 1\n",
      "Title 1\n",
      "Title 1\n",
      "Title 1\n",
      "Title 1\n",
      "Title 1\n",
      "Title 1\n",
      "Title 1\n",
      "Title 1\n",
      "Title 1\n",
      "Title 1\n",
      "Title 1\n",
      "Title 1\n",
      "Title 1\n",
      "Title 1\n",
      "\n",
      "slide number13\n",
      "\n",
      "slide number14\n",
      "TextBox 1\n",
      "TextBox 3\n",
      "TextBox 3\n",
      "TextBox 3\n",
      "TextBox 3\n",
      "TextBox 3\n",
      "TextBox 3\n",
      "TextBox 3\n",
      "TextBox 3\n",
      "\n",
      "slide number15\n",
      "TextBox 1\n",
      "TextBox 2\n",
      "TextBox 2\n",
      "TextBox 2\n",
      "TextBox 2\n",
      "TextBox 2\n",
      "TextBox 2\n",
      "TextBox 2\n",
      "TextBox 2\n",
      "\n",
      "slide number16\n",
      "\n",
      "slide number17\n",
      "TextBox 1\n",
      "\n",
      "slide number18\n",
      "\n",
      "slide number19\n",
      "\n",
      "slide number20\n",
      "\n",
      "slide number21\n",
      "\n",
      "font name\n",
      "['Times New Roman', 'Arial']\n",
      "\n",
      "font size\n",
      "[20.0, 28.0, 24.0, 22.0, 23.0, 18.0]\n",
      "\n",
      "hyperlink\n",
      "[]\n",
      "\n",
      "color\n",
      "[(0, 32, 96), (0, 0, 0)]\n",
      "\n",
      "number of font name\n",
      "3\n",
      "\n",
      "number of font size\n",
      "7\n",
      "\n",
      " number of hyperlink\n",
      "0\n",
      "\n",
      " number of color\n",
      "3\n",
      "\n",
      " number of pictures\n",
      "8\n",
      "\n",
      " number of chart\n",
      "0\n",
      "\n",
      " number of tables\n",
      "0\n",
      "\n",
      " maximum font size\n",
      "28.0\n",
      "\n",
      " minimum font size\n",
      "18.0\n",
      "e:\\ppt\\101.pptx\n",
      "\n",
      "slide number1\n",
      "0, CENTER_TITLE (3)\n",
      "1, SUBTITLE (4)\n",
      "object 3\n"
     ]
    },
    {
     "data": {
      "text/plain": [
       "'Arial'"
      ]
     },
     "metadata": {},
     "output_type": "display_data"
    },
    {
     "data": {
      "text/plain": [
       "77.0"
      ]
     },
     "metadata": {},
     "output_type": "display_data"
    },
    {
     "name": "stdout",
     "output_type": "stream",
     "text": [
      "object 3\n",
      "object 3\n",
      "object 3\n",
      "object 3\n",
      "object 4\n"
     ]
    },
    {
     "data": {
      "text/plain": [
       "22.0"
      ]
     },
     "metadata": {},
     "output_type": "display_data"
    },
    {
     "name": "stdout",
     "output_type": "stream",
     "text": [
      "object 4\n",
      "object 4\n",
      "object 4\n",
      "object 4\n",
      "object 4\n",
      "object 4\n",
      "object 4\n",
      "object 4\n",
      "object 4\n",
      "object 4\n",
      "object 4\n",
      "object 4\n",
      "object 4\n",
      "object 4\n",
      "object 4\n",
      "object 4\n",
      "object 4\n",
      "object 4\n",
      "object 4\n",
      "TextBox 5\n",
      "TextBox 5\n",
      "TextBox 5\n",
      "TextBox 5\n",
      "\n",
      "slide number2\n",
      "object 3\n"
     ]
    },
    {
     "data": {
      "text/plain": [
       "14.0"
      ]
     },
     "metadata": {},
     "output_type": "display_data"
    },
    {
     "name": "stdout",
     "output_type": "stream",
     "text": [
      "object 3\n",
      "object 3\n",
      "object 3\n",
      "object 3\n",
      "object 3\n",
      "object 3\n",
      "object 3\n",
      "object 3\n",
      "object 3\n",
      "object 3\n",
      "object 3\n",
      "object 3\n",
      "object 3\n",
      "object 3\n",
      "object 3\n",
      "object 3\n",
      "object 3\n",
      "object 3\n",
      "object 3\n",
      "object 3\n",
      "object 3\n",
      "object 3\n",
      "object 3\n",
      "object 3\n",
      "object 3\n",
      "object 3\n",
      "object 3\n",
      "object 3\n",
      "object 3\n",
      "object 3\n",
      "object 3\n",
      "object 3\n",
      "object 3\n",
      "object 3\n",
      "object 3\n",
      "object 3\n",
      "object 3\n",
      "object 3\n",
      "object 3\n",
      "object 3\n",
      "object 3\n",
      "object 3\n",
      "object 3\n",
      "object 3\n",
      "object 3\n",
      "object 3\n",
      "object 3\n",
      "object 3\n",
      "object 3\n",
      "object 3\n",
      "object 3\n",
      "object 3\n",
      "object 3\n",
      "object 3\n",
      "object 3\n",
      "object 10\n"
     ]
    },
    {
     "data": {
      "text/plain": [
       "48.0"
      ]
     },
     "metadata": {},
     "output_type": "display_data"
    },
    {
     "name": "stdout",
     "output_type": "stream",
     "text": [
      "object 10\n",
      "object 10\n",
      "object 10\n",
      "object 10\n",
      "object 10\n",
      "object 10\n"
     ]
    },
    {
     "data": {
      "text/plain": [
       "13.5"
      ]
     },
     "metadata": {},
     "output_type": "display_data"
    },
    {
     "name": "stdout",
     "output_type": "stream",
     "text": [
      "object 10\n",
      "object 10\n",
      "object 10\n",
      "object 10\n",
      "object 10\n",
      "object 10\n",
      "object 10\n",
      "object 10\n",
      "\n",
      "slide number3\n",
      "object 8\n"
     ]
    },
    {
     "data": {
      "text/plain": [
       "20.0"
      ]
     },
     "metadata": {},
     "output_type": "display_data"
    },
    {
     "name": "stdout",
     "output_type": "stream",
     "text": [
      "object 8\n",
      "object 8\n",
      "object 8\n",
      "object 8\n",
      "object 8\n",
      "object 8\n",
      "object 8\n",
      "object 8\n",
      "object 8\n",
      "object 8\n",
      "object 8\n",
      "object 8\n",
      "object 8\n",
      "object 8\n",
      "object 8\n",
      "object 8\n",
      "object 8\n",
      "object 8\n",
      "object 8\n",
      "object 8\n",
      "object 8\n",
      "object 8\n",
      "object 8\n",
      "object 8\n",
      "object 8\n",
      "object 8\n",
      "object 8\n",
      "object 8\n",
      "object 8\n",
      "object 8\n",
      "object 8\n",
      "object 8\n",
      "object 8\n",
      "object 8\n",
      "object 8\n",
      "object 8\n",
      "object 9\n"
     ]
    },
    {
     "data": {
      "text/plain": [
       "15.0"
      ]
     },
     "metadata": {},
     "output_type": "display_data"
    },
    {
     "name": "stdout",
     "output_type": "stream",
     "text": [
      "object 9\n",
      "object 9\n",
      "object 9\n",
      "object 9\n",
      "object 9\n",
      "object 9\n",
      "object 9\n",
      "object 9\n",
      "object 9\n",
      "object 9\n",
      "object 9\n",
      "object 9\n",
      "object 9\n",
      "object 9\n",
      "object 9\n",
      "object 9\n",
      "object 9\n",
      "object 10\n",
      "object 10\n",
      "object 10\n",
      "object 10\n",
      "object 10\n",
      "object 10\n",
      "object 10\n",
      "object 10\n",
      "object 10\n",
      "object 10\n",
      "object 10\n",
      "object 10\n",
      "object 10\n",
      "object 10\n",
      "object 10\n",
      "object 10\n",
      "object 10\n",
      "object 11\n",
      "object 11\n",
      "object 11\n",
      "object 11\n",
      "object 11\n",
      "object 11\n",
      "object 11\n",
      "object 11\n",
      "object 11\n",
      "object 11\n",
      "object 11\n",
      "object 11\n",
      "object 11\n",
      "object 11\n",
      "object 11\n",
      "object 11\n",
      "object 11\n",
      "object 11\n",
      "object 11\n",
      "object 11\n",
      "object 11\n",
      "object 11\n",
      "object 11\n",
      "object 11\n",
      "object 12\n",
      "object 12\n",
      "object 12\n",
      "object 12\n",
      "object 12\n",
      "object 12\n",
      "object 12\n",
      "object 12\n",
      "object 12\n",
      "object 12\n",
      "object 12\n",
      "object 12\n",
      "object 12\n",
      "object 12\n",
      "object 12\n",
      "object 12\n",
      "object 12\n",
      "0, TITLE (1)\n",
      "object 13\n"
     ]
    },
    {
     "data": {
      "text/plain": [
       "36.0"
      ]
     },
     "metadata": {},
     "output_type": "display_data"
    },
    {
     "name": "stdout",
     "output_type": "stream",
     "text": [
      "object 13\n",
      "object 13\n",
      "object 13\n",
      "object 13\n",
      "object 13\n",
      "object 13\n",
      "object 13\n",
      "object 13\n",
      "object 13\n",
      "object 13\n",
      "object 13\n",
      "\n",
      "slide number4\n",
      "object 4\n"
     ]
    },
    {
     "data": {
      "text/plain": [
       "16.0"
      ]
     },
     "metadata": {},
     "output_type": "display_data"
    },
    {
     "name": "stdout",
     "output_type": "stream",
     "text": [
      "object 5\n",
      "object 6\n",
      "object 9\n"
     ]
    },
    {
     "data": {
      "text/plain": [
       "18.0"
      ]
     },
     "metadata": {},
     "output_type": "display_data"
    },
    {
     "name": "stdout",
     "output_type": "stream",
     "text": [
      "object 9\n",
      "object 11\n",
      "object 11\n",
      "object 11\n",
      "object 11\n",
      "object 13\n",
      "object 13\n",
      "object 15\n",
      "object 15\n",
      "object 16\n",
      "object 17\n",
      "object 17\n",
      "object 17\n",
      "object 17\n",
      "object 17\n",
      "object 17\n",
      "object 17\n",
      "object 17\n",
      "object 17\n",
      "object 17\n",
      "object 17\n",
      "object 17\n",
      "object 17\n",
      "object 17\n",
      "object 17\n",
      "object 17\n",
      "object 17\n",
      "object 17\n",
      "object 17\n",
      "object 17\n",
      "object 17\n",
      "object 17\n",
      "object 17\n",
      "object 17\n",
      "object 17\n",
      "object 17\n",
      "object 17\n",
      "object 17\n",
      "object 17\n",
      "object 17\n",
      "object 17\n",
      "object 17\n",
      "object 19\n"
     ]
    },
    {
     "data": {
      "text/plain": [
       "10.0"
      ]
     },
     "metadata": {},
     "output_type": "display_data"
    },
    {
     "name": "stdout",
     "output_type": "stream",
     "text": [
      "object 20\n",
      "object 20\n",
      "object 20\n",
      "object 20\n",
      "object 20\n",
      "object 20\n",
      "object 20\n",
      "object 20\n",
      "object 20\n",
      "object 20\n",
      "object 20\n",
      "object 20\n",
      "object 20\n",
      "object 20\n",
      "object 20\n",
      "object 20\n",
      "object 20\n",
      "object 20\n",
      "object 20\n",
      "object 20\n",
      "object 20\n",
      "object 20\n",
      "object 20\n",
      "object 20\n",
      "object 20\n",
      "object 20\n",
      "object 20\n",
      "object 20\n",
      "object 21\n",
      "object 21\n",
      "object 21\n",
      "object 21\n",
      "object 21\n",
      "object 21\n",
      "object 21\n",
      "object 21\n",
      "object 21\n",
      "object 22\n",
      "object 22\n",
      "object 22\n",
      "object 22\n",
      "object 22\n",
      "object 22\n",
      "object 22\n",
      "object 22\n",
      "object 22\n",
      "object 23\n",
      "object 23\n",
      "object 23\n",
      "\n",
      "slide number5\n",
      "0, TITLE (1)\n",
      "object 2\n",
      "object 2\n",
      "object 2\n",
      "object 2\n",
      "object 2\n",
      "object 2\n",
      "object 2\n",
      "object 2\n",
      "object 2\n",
      "object 2\n",
      "object 2\n",
      "object 2\n",
      "object 2\n",
      "object 2\n",
      "object 2\n",
      "object 2\n",
      "object 2\n",
      "object 2\n",
      "object 2\n",
      "object 2\n",
      "object 2\n",
      "object 2\n",
      "object 2\n",
      "object 2\n",
      "object 2\n",
      "object 2\n",
      "object 2\n",
      "object 2\n",
      "object 2\n",
      "object 2\n",
      "object 2\n",
      "object 2\n",
      "object 2\n",
      "object 2\n",
      "object 2\n",
      "object 2\n",
      "object 2\n",
      "object 2\n",
      "object 2\n",
      "object 2\n",
      "object 2\n",
      "object 2\n",
      "object 2\n",
      "object 2\n",
      "object 2\n",
      "object 2\n",
      "object 2\n",
      "object 2\n",
      "object 2\n",
      "object 2\n",
      "object 2\n",
      "object 2\n",
      "object 2\n",
      "object 2\n",
      "object 9\n"
     ]
    },
    {
     "data": {
      "text/plain": [
       "12.0"
      ]
     },
     "metadata": {},
     "output_type": "display_data"
    },
    {
     "name": "stdout",
     "output_type": "stream",
     "text": [
      "object 9\n",
      "object 9\n",
      "object 9\n",
      "object 9\n",
      "object 9\n",
      "object 9\n",
      "object 9\n",
      "object 9\n",
      "object 9\n",
      "object 9\n",
      "object 9\n",
      "object 9\n",
      "object 17\n",
      "object 17\n",
      "object 17\n",
      "object 17\n",
      "object 17\n",
      "object 17\n",
      "object 17\n",
      "object 17\n",
      "object 17\n",
      "object 17\n",
      "object 17\n",
      "object 17\n",
      "object 17\n",
      "object 17\n",
      "object 17\n",
      "object 17\n",
      "object 17\n",
      "object 17\n",
      "object 17\n",
      "object 17\n",
      "object 17\n",
      "object 17\n",
      "object 17\n",
      "object 17\n",
      "object 17\n",
      "object 17\n",
      "object 17\n",
      "object 17\n",
      "object 17\n",
      "object 17\n",
      "object 17\n",
      "object 17\n",
      "object 17\n",
      "object 17\n",
      "object 17\n",
      "object 17\n",
      "object 17\n",
      "object 17\n",
      "object 17\n",
      "object 17\n",
      "object 17\n",
      "object 17\n",
      "object 17\n",
      "object 17\n",
      "object 17\n",
      "object 17\n",
      "object 17\n",
      "object 17\n",
      "object 17\n",
      "object 17\n",
      "object 17\n",
      "object 17\n",
      "object 17\n",
      "object 17\n",
      "object 17\n",
      "object 17\n",
      "object 17\n",
      "object 17\n",
      "object 17\n",
      "object 17\n",
      "object 18\n",
      "object 18\n",
      "object 18\n",
      "object 18\n",
      "object 19\n",
      "object 19\n",
      "object 19\n",
      "object 19\n",
      "object 19\n",
      "object 19\n",
      "\n",
      "slide number6\n",
      "object 2\n"
     ]
    },
    {
     "data": {
      "text/plain": [
       "28.0"
      ]
     },
     "metadata": {},
     "output_type": "display_data"
    },
    {
     "name": "stdout",
     "output_type": "stream",
     "text": [
      "object 2\n",
      "object 2\n",
      "object 2\n",
      "object 2\n",
      "object 2\n",
      "object 2\n",
      "object 2\n",
      "object 2\n",
      "object 2\n",
      "object 2\n",
      "object 2\n",
      "object 2\n",
      "object 2\n",
      "object 2\n",
      "object 2\n",
      "0, TITLE (1)\n",
      "object 3\n",
      "object 3\n",
      "object 3\n",
      "object 3\n",
      "object 3\n",
      "object 3\n",
      "object 3\n",
      "object 3\n",
      "object 3\n",
      "object 3\n",
      "object 3\n",
      "object 3\n",
      "object 3\n",
      "object 3\n",
      "object 3\n",
      "object 3\n",
      "object 3\n",
      "object 3\n",
      "object 3\n",
      "object 3\n",
      "object 3\n",
      "object 3\n",
      "object 3\n",
      "object 3\n",
      "object 3\n",
      "object 3\n",
      "object 3\n",
      "object 4\n",
      "object 4\n",
      "object 4\n",
      "object 4\n",
      "object 4\n",
      "object 4\n",
      "object 4\n",
      "object 4\n",
      "object 4\n",
      "object 4\n",
      "object 4\n",
      "object 4\n",
      "object 4\n",
      "object 4\n",
      "object 4\n",
      "object 4\n",
      "object 4\n",
      "object 4\n",
      "object 4\n",
      "object 4\n",
      "object 4\n",
      "object 4\n",
      "object 4\n",
      "object 4\n",
      "object 25\n",
      "object 25\n",
      "object 25\n",
      "object 26\n",
      "object 26\n",
      "object 27\n",
      "object 27\n",
      "object 27\n",
      "object 28\n",
      "object 28\n",
      "object 29\n",
      "object 29\n",
      "object 30\n",
      "object 30\n",
      "object 31\n",
      "object 32\n",
      "object 32\n",
      "object 33\n",
      "object 34\n",
      "object 34\n",
      "object 34\n",
      "object 34\n",
      "object 35\n",
      "object 35\n",
      "object 35\n",
      "object 36\n",
      "object 36\n",
      "object 36\n",
      "object 36\n",
      "object 37\n",
      "object 37\n",
      "object 37\n",
      "object 37\n",
      "object 37\n",
      "object 37\n",
      "object 38\n",
      "object 38\n",
      "object 38\n",
      "object 38\n",
      "object 38\n",
      "object 39\n",
      "object 39\n",
      "object 39\n",
      "object 39\n",
      "object 39\n",
      "object 41\n",
      "object 41\n",
      "object 41\n",
      "object 41\n",
      "object 41\n",
      "object 41\n",
      "object 45\n",
      "object 45\n",
      "object 45\n",
      "object 45\n",
      "object 45\n",
      "object 45\n",
      "object 45\n",
      "object 45\n",
      "object 45\n",
      "\n",
      "slide number7\n",
      "0, TITLE (1)\n",
      "object 2\n",
      "object 2\n",
      "object 2\n",
      "object 2\n",
      "object 2\n",
      "object 2\n",
      "object 2\n",
      "object 2\n",
      "object 2\n",
      "object 2\n",
      "object 2\n",
      "object 2\n",
      "object 2\n",
      "object 2\n",
      "object 2\n",
      "object 2\n",
      "object 2\n",
      "object 2\n",
      "object 2\n",
      "object 2\n",
      "object 2\n",
      "object 3\n",
      "object 3\n",
      "object 3\n",
      "object 3\n",
      "object 3\n",
      "object 3\n",
      "object 3\n",
      "object 3\n",
      "object 3\n",
      "object 3\n",
      "object 3\n",
      "object 3\n",
      "object 3\n",
      "object 3\n",
      "object 3\n",
      "object 3\n",
      "object 3\n",
      "object 3\n",
      "object 3\n",
      "object 3\n",
      "object 3\n",
      "object 3\n",
      "object 3\n",
      "object 3\n",
      "object 3\n",
      "object 3\n",
      "object 3\n",
      "object 3\n",
      "object 3\n",
      "object 3\n",
      "object 3\n",
      "object 3\n",
      "object 3\n",
      "object 4\n",
      "object 4\n",
      "object 4\n",
      "object 4\n",
      "object 4\n",
      "object 4\n",
      "object 4\n",
      "object 4\n",
      "object 4\n",
      "object 4\n",
      "object 4\n",
      "object 4\n",
      "object 4\n",
      "object 4\n",
      "object 4\n",
      "object 4\n",
      "object 4\n",
      "object 4\n",
      "object 4\n",
      "object 5\n",
      "object 5\n",
      "object 5\n",
      "object 5\n",
      "object 5\n",
      "object 5\n",
      "object 5\n",
      "object 5\n",
      "object 5\n",
      "object 5\n",
      "object 5\n",
      "object 5\n",
      "object 5\n",
      "object 5\n",
      "7, SLIDE_NUMBER (13)\n",
      "\n",
      "slide number8\n",
      "0, TITLE (1)\n",
      "object 3\n",
      "object 3\n",
      "object 3\n",
      "object 3\n",
      "object 3\n",
      "object 3\n",
      "object 3\n",
      "object 3\n",
      "object 3\n",
      "object 3\n",
      "object 3\n",
      "object 3\n",
      "object 3\n",
      "object 3\n",
      "object 3\n",
      "object 3\n",
      "object 3\n",
      "object 3\n",
      "object 4\n",
      "object 4\n",
      "object 4\n",
      "object 4\n",
      "object 4\n",
      "object 4\n",
      "object 4\n",
      "object 4\n",
      "object 4\n",
      "object 4\n",
      "object 4\n",
      "object 4\n",
      "object 4\n",
      "object 4\n",
      "object 4\n",
      "object 4\n",
      "object 4\n",
      "object 4\n",
      "object 4\n",
      "object 4\n",
      "object 4\n",
      "object 4\n",
      "object 4\n",
      "object 5\n",
      "object 5\n",
      "object 5\n",
      "object 5\n",
      "object 5\n",
      "object 5\n",
      "object 5\n",
      "object 5\n",
      "object 5\n",
      "object 5\n",
      "object 5\n",
      "object 5\n",
      "object 5\n",
      "object 5\n",
      "object 5\n",
      "object 5\n",
      "object 5\n",
      "object 5\n",
      "object 5\n",
      "object 5\n",
      "object 6\n",
      "object 6\n",
      "object 6\n",
      "object 6\n",
      "object 6\n",
      "object 6\n",
      "object 6\n",
      "object 6\n",
      "object 6\n",
      "object 6\n",
      "object 6\n",
      "object 6\n",
      "object 6\n",
      "object 6\n",
      "object 6\n",
      "object 6\n",
      "object 6\n",
      "object 6\n",
      "object 6\n",
      "object 6\n",
      "object 6\n",
      "object 6\n",
      "object 6\n",
      "object 6\n",
      "object 6\n",
      "object 6\n",
      "object 6\n",
      "object 6\n",
      "object 6\n",
      "object 6\n",
      "object 6\n",
      "object 6\n",
      "object 6\n",
      "7, SLIDE_NUMBER (13)\n",
      "\n",
      "slide number9\n",
      "object 6\n"
     ]
    },
    {
     "data": {
      "text/plain": [
       "45.0"
      ]
     },
     "metadata": {},
     "output_type": "display_data"
    },
    {
     "name": "stdout",
     "output_type": "stream",
     "text": [
      "object 6\n",
      "object 6\n",
      "object 6\n",
      "object 6\n",
      "object 6\n",
      "object 6\n",
      "object 6\n",
      "object 6\n",
      "object 6\n",
      "object 6\n",
      "object 6\n",
      "object 6\n",
      "object 6\n",
      "object 6\n",
      "object 6\n",
      "7, SLIDE_NUMBER (13)\n",
      "object 7\n",
      "object 7\n",
      "object 7\n",
      "object 7\n",
      "object 7\n",
      "object 7\n",
      "object 7\n",
      "object 7\n",
      "object 7\n",
      "object 7\n",
      "object 7\n",
      "object 7\n",
      "object 7\n",
      "object 7\n",
      "object 7\n",
      "object 7\n",
      "object 7\n",
      "object 7\n",
      "object 7\n",
      "object 7\n",
      "object 7\n",
      "object 7\n",
      "object 7\n",
      "object 7\n",
      "object 7\n",
      "object 7\n",
      "object 7\n",
      "object 7\n",
      "object 7\n",
      "object 7\n",
      "object 7\n",
      "object 7\n",
      "object 7\n",
      "object 7\n",
      "object 7\n",
      "object 7\n",
      "object 7\n",
      "object 7\n",
      "object 7\n",
      "object 7\n",
      "object 7\n",
      "object 7\n",
      "object 7\n",
      "object 7\n",
      "object 7\n",
      "object 7\n",
      "object 7\n",
      "object 7\n",
      "object 7\n",
      "object 7\n",
      "object 7\n",
      "object 7\n",
      "object 7\n",
      "object 7\n",
      "object 7\n",
      "object 7\n",
      "object 7\n",
      "object 7\n",
      "object 7\n",
      "object 7\n",
      "object 7\n",
      "object 7\n",
      "object 7\n",
      "object 7\n",
      "object 7\n",
      "object 7\n",
      "object 7\n",
      "object 7\n",
      "object 7\n",
      "object 7\n",
      "object 7\n",
      "object 7\n",
      "object 7\n",
      "0, TITLE (1)\n",
      "object 8\n",
      "object 8\n",
      "object 8\n",
      "object 8\n",
      "object 8\n",
      "object 8\n",
      "object 8\n",
      "object 8\n",
      "object 8\n",
      "object 8\n",
      "object 8\n",
      "object 9\n",
      "object 9\n",
      "object 9\n",
      "object 9\n",
      "object 9\n",
      "object 9\n",
      "object 9\n",
      "object 9\n",
      "object 9\n",
      "object 9\n",
      "object 9\n",
      "object 9\n",
      "object 9\n",
      "object 9\n",
      "object 9\n",
      "object 9\n",
      "object 9\n",
      "object 9\n",
      "\n",
      "slide number10\n",
      "7, SLIDE_NUMBER (13)\n",
      "object 3\n",
      "object 3\n",
      "object 3\n",
      "object 3\n",
      "object 3\n",
      "object 3\n",
      "object 3\n",
      "object 3\n",
      "object 3\n",
      "object 3\n",
      "\n",
      "slide number11\n",
      "7, SLIDE_NUMBER (13)\n",
      "object 2\n",
      "object 2\n",
      "object 2\n",
      "object 2\n",
      "object 2\n",
      "object 2\n",
      "object 2\n",
      "object 2\n",
      "object 2\n",
      "object 2\n",
      "object 2\n",
      "object 2\n",
      "object 2\n",
      "object 2\n",
      "object 2\n",
      "object 2\n",
      "object 2\n",
      "object 2\n",
      "object 2\n",
      "object 2\n",
      "object 2\n",
      "object 2\n",
      "object 2\n",
      "object 2\n",
      "object 2\n",
      "object 2\n",
      "object 2\n",
      "object 2\n",
      "object 2\n",
      "object 2\n",
      "object 2\n",
      "object 2\n",
      "object 2\n",
      "object 2\n",
      "object 2\n",
      "object 2\n",
      "object 2\n",
      "object 2\n",
      "object 2\n",
      "object 2\n",
      "object 2\n",
      "object 2\n",
      "object 2\n",
      "object 2\n",
      "object 2\n",
      "object 2\n",
      "object 2\n",
      "object 2\n",
      "object 2\n",
      "object 2\n",
      "object 2\n",
      "object 2\n",
      "object 2\n",
      "object 2\n",
      "object 2\n",
      "object 2\n",
      "object 2\n",
      "object 2\n",
      "object 2\n",
      "object 2\n",
      "object 2\n",
      "object 2\n",
      "object 2\n",
      "object 2\n",
      "object 2\n",
      "object 2\n",
      "object 2\n",
      "object 2\n",
      "object 2\n",
      "object 2\n",
      "object 2\n",
      "object 2\n",
      "object 2\n",
      "object 2\n",
      "object 2\n",
      "object 2\n",
      "object 2\n",
      "object 2\n",
      "object 2\n",
      "object 2\n",
      "object 2\n",
      "object 2\n",
      "object 2\n",
      "object 2\n",
      "object 2\n",
      "object 2\n",
      "object 2\n",
      "object 2\n",
      "object 3\n",
      "object 3\n",
      "object 3\n",
      "object 3\n",
      "object 3\n",
      "object 3\n",
      "object 3\n",
      "object 3\n",
      "object 3\n",
      "object 3\n",
      "object 3\n",
      "object 3\n",
      "object 4\n"
     ]
    },
    {
     "data": {
      "text/plain": [
       "88.0"
      ]
     },
     "metadata": {},
     "output_type": "display_data"
    },
    {
     "name": "stdout",
     "output_type": "stream",
     "text": [
      "\n",
      "slide number12\n",
      "7, SLIDE_NUMBER (13)\n",
      "object 2\n",
      "object 2\n",
      "object 2\n",
      "object 2\n",
      "object 2\n",
      "object 2\n",
      "object 2\n",
      "object 2\n",
      "object 2\n",
      "object 2\n",
      "object 2\n",
      "object 2\n",
      "object 2\n",
      "object 2\n",
      "object 2\n",
      "object 2\n",
      "object 2\n",
      "object 2\n",
      "object 2\n",
      "object 2\n",
      "object 2\n",
      "object 2\n",
      "object 2\n",
      "object 2\n",
      "object 2\n",
      "object 2\n",
      "object 2\n",
      "object 2\n",
      "object 2\n",
      "object 2\n",
      "object 2\n",
      "object 2\n",
      "object 2\n",
      "object 2\n",
      "object 2\n",
      "object 2\n",
      "object 2\n",
      "object 2\n",
      "object 2\n",
      "object 2\n",
      "object 2\n",
      "object 2\n",
      "object 2\n",
      "object 2\n",
      "object 2\n",
      "object 2\n",
      "object 2\n",
      "object 2\n",
      "object 2\n",
      "object 2\n",
      "object 2\n",
      "object 2\n",
      "object 2\n",
      "object 2\n",
      "object 2\n",
      "object 2\n",
      "object 2\n",
      "object 2\n",
      "object 2\n",
      "object 2\n",
      "object 2\n",
      "object 2\n",
      "object 2\n",
      "object 2\n",
      "object 2\n",
      "object 2\n",
      "object 2\n",
      "object 2\n",
      "object 2\n",
      "object 2\n",
      "object 2\n",
      "object 2\n",
      "object 2\n",
      "object 2\n",
      "object 2\n",
      "object 2\n",
      "object 2\n",
      "object 2\n",
      "object 2\n",
      "object 2\n",
      "object 2\n",
      "object 2\n",
      "object 2\n",
      "object 2\n",
      "object 2\n",
      "object 2\n",
      "object 2\n",
      "object 2\n",
      "object 2\n",
      "object 2\n",
      "object 2\n",
      "object 2\n",
      "object 2\n",
      "object 2\n",
      "object 2\n",
      "object 2\n",
      "object 2\n",
      "object 2\n",
      "object 2\n",
      "object 2\n",
      "object 2\n",
      "object 2\n",
      "object 2\n",
      "object 2\n",
      "object 2\n",
      "object 2\n",
      "object 2\n",
      "object 2\n",
      "object 2\n",
      "object 2\n",
      "object 2\n",
      "object 2\n",
      "object 2\n",
      "object 2\n",
      "object 2\n",
      "object 2\n",
      "object 2\n",
      "object 2\n",
      "object 2\n",
      "object 2\n",
      "object 2\n",
      "object 2\n",
      "object 2\n",
      "object 2\n",
      "object 2\n",
      "object 2\n",
      "object 2\n",
      "object 2\n",
      "object 2\n",
      "object 2\n",
      "object 2\n",
      "object 2\n",
      "object 2\n",
      "object 2\n",
      "object 2\n",
      "object 2\n",
      "object 2\n",
      "object 2\n",
      "object 2\n",
      "object 3\n",
      "object 3\n",
      "object 3\n",
      "object 3\n",
      "object 3\n",
      "object 3\n",
      "object 3\n",
      "object 3\n",
      "object 3\n",
      "object 3\n",
      "object 3\n",
      "object 3\n",
      "object 3\n",
      "object 3\n",
      "object 3\n",
      "object 3\n",
      "object 3\n",
      "object 3\n",
      "object 3\n",
      "object 3\n",
      "object 3\n",
      "object 3\n",
      "object 3\n",
      "object 3\n",
      "object 3\n",
      "object 3\n",
      "object 3\n",
      "object 3\n",
      "object 3\n",
      "object 3\n",
      "object 3\n",
      "object 3\n",
      "object 4\n",
      "\n",
      "slide number13\n",
      "7, SLIDE_NUMBER (13)\n",
      "object 2\n",
      "object 2\n",
      "object 2\n",
      "object 2\n",
      "object 2\n",
      "object 2\n",
      "object 2\n",
      "object 2\n",
      "object 2\n",
      "object 2\n",
      "object 2\n",
      "object 2\n",
      "object 2\n",
      "object 2\n",
      "object 2\n",
      "object 2\n",
      "object 2\n",
      "object 2\n",
      "object 2\n",
      "object 2\n",
      "object 2\n",
      "object 2\n",
      "object 2\n",
      "object 2\n",
      "object 2\n",
      "object 2\n",
      "object 2\n",
      "object 2\n",
      "object 2\n",
      "object 2\n",
      "object 2\n",
      "object 2\n",
      "object 2\n",
      "object 2\n",
      "object 2\n",
      "object 2\n",
      "object 2\n",
      "object 2\n",
      "object 2\n",
      "object 2\n",
      "object 2\n",
      "object 2\n",
      "object 2\n",
      "object 2\n",
      "object 2\n",
      "object 2\n",
      "object 2\n",
      "object 2\n",
      "object 2\n",
      "object 2\n",
      "object 2\n",
      "object 2\n",
      "object 2\n",
      "object 2\n",
      "object 2\n",
      "object 2\n",
      "object 2\n",
      "object 2\n",
      "object 2\n",
      "object 2\n",
      "object 2\n",
      "object 2\n",
      "object 2\n",
      "object 2\n",
      "object 3\n",
      "object 3\n",
      "object 3\n",
      "object 3\n",
      "object 3\n",
      "object 3\n",
      "object 3\n",
      "object 3\n",
      "object 3\n",
      "object 3\n",
      "object 3\n",
      "object 3\n",
      "object 3\n",
      "object 3\n",
      "object 3\n",
      "object 3\n",
      "object 3\n",
      "object 3\n",
      "object 4\n",
      "\n",
      "slide number14\n",
      "7, SLIDE_NUMBER (13)\n",
      "object 2\n",
      "object 2\n",
      "object 2\n",
      "object 2\n",
      "object 2\n",
      "object 2\n",
      "object 2\n",
      "object 2\n",
      "object 2\n",
      "object 2\n",
      "object 2\n",
      "object 2\n",
      "object 2\n",
      "object 2\n",
      "object 2\n",
      "object 2\n",
      "object 2\n",
      "object 2\n",
      "object 2\n",
      "object 2\n",
      "object 2\n",
      "object 2\n",
      "object 2\n",
      "object 2\n",
      "object 2\n",
      "object 2\n",
      "object 2\n",
      "object 2\n",
      "object 2\n",
      "object 2\n",
      "object 2\n",
      "object 2\n",
      "object 2\n",
      "object 2\n",
      "object 2\n",
      "object 2\n",
      "object 2\n",
      "object 2\n",
      "object 2\n",
      "object 2\n",
      "object 2\n",
      "object 2\n",
      "object 2\n",
      "object 2\n",
      "object 2\n",
      "object 2\n",
      "object 2\n",
      "object 2\n",
      "object 2\n",
      "object 2\n",
      "object 2\n",
      "object 2\n",
      "object 2\n",
      "object 2\n",
      "object 2\n",
      "object 2\n",
      "object 2\n",
      "object 2\n",
      "object 2\n",
      "object 2\n",
      "object 2\n",
      "object 2\n",
      "object 2\n",
      "object 2\n",
      "object 2\n",
      "object 2\n",
      "object 2\n",
      "object 2\n",
      "object 2\n",
      "object 2\n",
      "object 2\n",
      "object 2\n",
      "object 2\n",
      "object 2\n",
      "object 2\n",
      "object 2\n",
      "object 2\n",
      "object 2\n",
      "object 2\n",
      "object 2\n",
      "object 2\n",
      "object 2\n",
      "object 2\n",
      "object 2\n",
      "object 2\n",
      "object 2\n",
      "object 2\n",
      "object 2\n",
      "object 2\n",
      "object 2\n",
      "object 2\n",
      "object 2\n",
      "object 2\n",
      "object 2\n",
      "object 2\n",
      "object 2\n",
      "object 2\n",
      "object 2\n",
      "object 2\n",
      "object 2\n",
      "object 2\n",
      "object 2\n",
      "object 2\n",
      "object 2\n",
      "object 2\n",
      "object 2\n",
      "object 2\n",
      "object 2\n",
      "object 2\n",
      "object 2\n",
      "object 2\n",
      "object 2\n",
      "object 2\n",
      "object 2\n",
      "object 2\n",
      "object 2\n",
      "object 2\n",
      "object 2\n",
      "object 2\n",
      "object 2\n",
      "object 2\n",
      "0, TITLE (1)\n",
      "object 3\n"
     ]
    },
    {
     "data": {
      "text/plain": [
       "132.0"
      ]
     },
     "metadata": {},
     "output_type": "display_data"
    },
    {
     "name": "stdout",
     "output_type": "stream",
     "text": [
      "object 3\n",
      "object 3\n",
      "object 3\n",
      "object 3\n",
      "object 3\n",
      "object 3\n",
      "object 3\n",
      "object 3\n",
      "object 3\n",
      "object 3\n",
      "object 3\n",
      "object 3\n",
      "object 3\n",
      "object 3\n",
      "object 3\n",
      "object 3\n",
      "object 3\n",
      "object 3\n",
      "object 3\n",
      "object 3\n",
      "object 3\n",
      "object 3\n",
      "object 3\n",
      "\n",
      "slide number15\n",
      "0, TITLE (1)\n",
      "object 5\n"
     ]
    },
    {
     "data": {
      "text/plain": [
       "'Candara'"
      ]
     },
     "metadata": {},
     "output_type": "display_data"
    },
    {
     "name": "stdout",
     "output_type": "stream",
     "text": [
      "object 5\n",
      "object 5\n",
      "object 5\n",
      "\n",
      "font name\n",
      "['Arial', 'Candara']\n",
      "\n",
      "font size\n",
      "[77.0, 22.0, 14.0, 48.0, 13.5, 20.0, 15.0, 36.0, 16.0, 18.0, 10.0, 12.0, 28.0, 45.0, 88.0, 132.0]\n",
      "\n",
      "hyperlink\n",
      "[]\n",
      "\n",
      "color\n",
      "[(255, 255, 255), (0, 185, 255), (112, 48, 160), (160, 0, 255)]\n",
      "\n",
      "number of font name\n",
      "3\n",
      "\n",
      "number of font size\n",
      "17\n",
      "\n",
      " number of hyperlink\n",
      "0\n",
      "\n",
      " number of color\n",
      "5\n",
      "\n",
      " number of pictures\n",
      "0\n",
      "\n",
      " number of chart\n",
      "0\n",
      "\n",
      " number of tables\n",
      "9\n",
      "\n",
      " maximum font size\n",
      "132.0\n",
      "\n",
      " minimum font size\n",
      "10.0\n",
      "e:\\ppt\\102.pptx\n",
      "\n",
      "slide number1\n",
      "0, CENTER_TITLE (3)\n",
      "Title 1\n"
     ]
    },
    {
     "data": {
      "text/plain": [
       "60.0"
      ]
     },
     "metadata": {},
     "output_type": "display_data"
    },
    {
     "name": "stdout",
     "output_type": "stream",
     "text": [
      "1, SUBTITLE (4)\n",
      "Subtitle 2\n",
      "Subtitle 2\n",
      "Subtitle 2\n",
      "Subtitle 2\n",
      "10, DATE (16)\n",
      "12, SLIDE_NUMBER (13)\n",
      "\n",
      "slide number2\n",
      "0, TITLE (1)\n",
      "Title 1\n",
      "TextBox 2\n",
      "TextBox 2\n",
      "TextBox 2\n",
      "TextBox 2\n",
      "TextBox 2\n",
      "TextBox 2\n",
      "TextBox 2\n",
      "TextBox 2\n",
      "TextBox 2\n",
      "10, DATE (16)\n",
      "12, SLIDE_NUMBER (13)\n",
      "\n",
      "slide number3\n",
      "0, TITLE (1)\n",
      "Title 1\n",
      "TextBox 2\n"
     ]
    },
    {
     "data": {
      "text/plain": [
       "24.0"
      ]
     },
     "metadata": {},
     "output_type": "display_data"
    },
    {
     "name": "stdout",
     "output_type": "stream",
     "text": [
      "TextBox 2\n",
      "TextBox 2\n",
      "TextBox 2\n",
      "TextBox 2\n",
      "TextBox 2\n",
      "TextBox 2\n",
      "TextBox 2\n",
      "TextBox 2\n",
      "TextBox 2\n",
      "10, DATE (16)\n",
      "12, SLIDE_NUMBER (13)\n",
      "\n",
      "slide number4\n",
      "0, TITLE (1)\n",
      "Title 1\n",
      "TextBox 2\n",
      "TextBox 2\n",
      "TextBox 2\n",
      "TextBox 2\n",
      "TextBox 2\n",
      "TextBox 2\n",
      "TextBox 2\n",
      "TextBox 2\n",
      "10, DATE (16)\n",
      "12, SLIDE_NUMBER (13)\n",
      "\n",
      "slide number5\n",
      "0, TITLE (1)\n",
      "Title 1\n",
      "TextBox 2\n",
      "TextBox 2\n",
      "TextBox 2\n",
      "TextBox 2\n",
      "TextBox 2\n",
      "TextBox 5\n"
     ]
    },
    {
     "data": {
      "text/plain": [
       "9.0"
      ]
     },
     "metadata": {},
     "output_type": "display_data"
    },
    {
     "name": "stdout",
     "output_type": "stream",
     "text": [
      "TextBox 5\n",
      "TextBox 5\n",
      "10, DATE (16)\n",
      "12, SLIDE_NUMBER (13)\n",
      "\n",
      "slide number6\n",
      "0, TITLE (1)\n",
      "Title 1\n",
      "TextBox 3\n",
      "TextBox 3\n",
      "TextBox 3\n",
      "TextBox 3\n",
      "TextBox 3\n",
      "TextBox 3\n",
      "TextBox 3\n",
      "TextBox 6\n",
      "TextBox 6\n",
      "TextBox 6\n",
      "10, DATE (16)\n",
      "12, SLIDE_NUMBER (13)\n",
      "\n",
      "slide number7\n",
      "0, TITLE (1)\n",
      "Title 1\n",
      "TextBox 3\n",
      "TextBox 3\n",
      "TextBox 3\n",
      "TextBox 3\n",
      "TextBox 3\n",
      "TextBox 3\n",
      "TextBox 3\n",
      "10, DATE (16)\n",
      "12, SLIDE_NUMBER (13)\n",
      "\n",
      "slide number8\n",
      "0, TITLE (1)\n",
      "Title 1\n",
      "TextBox 4\n",
      "TextBox 4\n",
      "TextBox 4\n",
      "TextBox 4\n",
      "TextBox 4\n",
      "TextBox 4\n",
      "10, DATE (16)\n",
      "12, SLIDE_NUMBER (13)\n",
      "\n",
      "slide number9\n",
      "0, TITLE (1)\n",
      "Title 1\n",
      "TextBox 4\n",
      "TextBox 4\n",
      "TextBox 4\n",
      "TextBox 4\n",
      "TextBox 4\n",
      "TextBox 4\n",
      "TextBox 10\n",
      "TextBox 10\n",
      "TextBox 10\n",
      "10, DATE (16)\n",
      "12, SLIDE_NUMBER (13)\n",
      "\n",
      "slide number10\n",
      "0, TITLE (1)\n",
      "Title 1\n",
      "TextBox 2\n",
      "TextBox 2\n",
      "TextBox 2\n",
      "TextBox 2\n",
      "TextBox 2\n",
      "10, DATE (16)\n",
      "12, SLIDE_NUMBER (13)\n",
      "\n",
      "slide number11\n",
      "0, TITLE (1)\n",
      "Title 1\n",
      "10, DATE (16)\n",
      "12, SLIDE_NUMBER (13)\n",
      "\n",
      "slide number12\n",
      "0, TITLE (1)\n",
      "Title 1\n",
      "TextBox 2\n",
      "TextBox 2\n",
      "TextBox 2\n",
      "10, DATE (16)\n",
      "12, SLIDE_NUMBER (13)\n",
      "\n",
      "slide number13\n",
      "0, TITLE (1)\n",
      "Title 1\n",
      "TextBox 2\n",
      "TextBox 2\n",
      "TextBox 2\n",
      "TextBox 2\n",
      "TextBox 2\n",
      "TextBox 2\n",
      "TextBox 2\n",
      "10, DATE (16)\n",
      "12, SLIDE_NUMBER (13)\n",
      "\n",
      "slide number14\n",
      "0, TITLE (1)\n",
      "Title 1\n",
      "TextBox 2\n",
      "TextBox 2\n",
      "TextBox 2\n",
      "TextBox 2\n",
      "TextBox 2\n",
      "10, DATE (16)\n",
      "12, SLIDE_NUMBER (13)\n",
      "\n",
      "slide number15\n",
      "0, TITLE (1)\n",
      "Title 1\n",
      "TextBox 2\n",
      "TextBox 2\n",
      "TextBox 2\n",
      "TextBox 2\n",
      "TextBox 2\n",
      "TextBox 2\n",
      "TextBox 2\n",
      "10, DATE (16)\n",
      "12, SLIDE_NUMBER (13)\n",
      "\n",
      "slide number16\n",
      "10, DATE (16)\n",
      "12, SLIDE_NUMBER (13)\n",
      "\n",
      "slide number17\n",
      "0, TITLE (1)\n",
      "Title 1\n",
      "1, BODY (2)\n",
      "Text Placeholder 2\n",
      "2, OBJECT (7)\n",
      "Content Placeholder 3\n"
     ]
    },
    {
     "data": {
      "text/plain": [
       "20.0"
      ]
     },
     "metadata": {},
     "output_type": "display_data"
    },
    {
     "name": "stdout",
     "output_type": "stream",
     "text": [
      "Content Placeholder 3\n",
      "Content Placeholder 3\n",
      "Content Placeholder 3\n",
      "3, BODY (2)\n",
      "Text Placeholder 4\n",
      "4, OBJECT (7)\n",
      "Content Placeholder 5\n",
      "Content Placeholder 5\n",
      "Content Placeholder 5\n",
      "10, DATE (16)\n",
      "12, SLIDE_NUMBER (13)\n",
      "\n",
      "slide number18\n",
      "10, DATE (16)\n",
      "12, SLIDE_NUMBER (13)\n",
      "\n",
      "slide number19\n",
      "0, TITLE (1)\n",
      "Title 1\n",
      "TextBox 2\n"
     ]
    },
    {
     "data": {
      "text/plain": [
       "'Calibri'"
      ]
     },
     "metadata": {},
     "output_type": "display_data"
    },
    {
     "data": {
      "text/plain": [
       "18.0"
      ]
     },
     "metadata": {},
     "output_type": "display_data"
    },
    {
     "name": "stdout",
     "output_type": "stream",
     "text": [
      "TextBox 2\n",
      "TextBox 2\n",
      "TextBox 2\n",
      "TextBox 2\n",
      "TextBox 2\n",
      "10, DATE (16)\n",
      "12, SLIDE_NUMBER (13)\n",
      "\n",
      "slide number20\n",
      "10, DATE (16)\n",
      "12, SLIDE_NUMBER (13)\n",
      "\n",
      "font name\n",
      "['Calibri']\n",
      "\n",
      "font size\n",
      "[60.0, 24.0, 9.0, 20.0, 18.0]\n",
      "\n",
      "hyperlink\n",
      "['https://www.etechwall.com/2019/08/the-evaluation-of-mobile-networks-4g-vs-5g/', 'https://creativecommons.org/licenses/by-nd/3.0/', 'https://en.wikipedia.org/wiki/Advanced_Mobile_Phone_System', 'https://creativecommons.org/licenses/by-sa/3.0/', 'https://geobrava.wordpress.com/2013/09/10/how-4g-adoption-drives-mobile-internet-use-in-the-uk/', '102.pptx']\n",
      "\n",
      "color\n",
      "[(255, 255, 255), (0, 0, 0)]\n",
      "\n",
      "number of font name\n",
      "2\n",
      "\n",
      "number of font size\n",
      "6\n",
      "\n",
      " number of hyperlink\n",
      "6\n",
      "\n",
      " number of color\n",
      "3\n",
      "\n",
      " number of pictures\n",
      "12\n",
      "\n",
      " number of chart\n",
      "0\n",
      "\n",
      " number of tables\n",
      "0\n",
      "\n",
      " maximum font size\n",
      "60.0\n",
      "\n",
      " minimum font size\n",
      "9.0\n",
      "e:\\ppt\\103.pptx\n",
      "\n",
      "slide number1\n",
      "0, CENTER_TITLE (3)\n",
      "Title 1\n",
      "TextBox 6\n",
      "TextBox 6\n",
      "TextBox 7\n",
      "TextBox 7\n",
      "10, DATE (16)\n",
      "12, SLIDE_NUMBER (13)\n",
      "\n",
      "slide number2\n",
      "0, TITLE (1)\n",
      "Title 1\n"
     ]
    },
    {
     "data": {
      "text/plain": [
       "'Charter'"
      ]
     },
     "metadata": {},
     "output_type": "display_data"
    },
    {
     "name": "stdout",
     "output_type": "stream",
     "text": [
      "10, DATE (16)\n",
      "12, SLIDE_NUMBER (13)\n",
      "\n",
      "slide number3\n",
      "0, TITLE (1)\n",
      "Title 1\n"
     ]
    },
    {
     "data": {
      "text/plain": [
       "40.0"
      ]
     },
     "metadata": {},
     "output_type": "display_data"
    },
    {
     "name": "stdout",
     "output_type": "stream",
     "text": [
      "1, OBJECT (7)\n",
      "Content Placeholder 2\n"
     ]
    },
    {
     "data": {
      "text/plain": [
       "28.0"
      ]
     },
     "metadata": {},
     "output_type": "display_data"
    },
    {
     "name": "stdout",
     "output_type": "stream",
     "text": [
      "Content Placeholder 2\n",
      "Content Placeholder 2\n",
      "Content Placeholder 2\n",
      "Content Placeholder 2\n",
      "Content Placeholder 2\n",
      "Content Placeholder 2\n",
      "Content Placeholder 2\n",
      "Content Placeholder 2\n",
      "Content Placeholder 2\n",
      "Content Placeholder 2\n",
      "Content Placeholder 2\n",
      "10, DATE (16)\n",
      "12, SLIDE_NUMBER (13)\n",
      "\n",
      "slide number4\n",
      "0, TITLE (1)\n",
      "Title 1\n",
      "1, OBJECT (7)\n",
      "Content Placeholder 2\n"
     ]
    },
    {
     "data": {
      "text/plain": [
       "24.0"
      ]
     },
     "metadata": {},
     "output_type": "display_data"
    },
    {
     "name": "stdout",
     "output_type": "stream",
     "text": [
      "Content Placeholder 2\n",
      "10, DATE (16)\n",
      "12, SLIDE_NUMBER (13)\n",
      "\n",
      "slide number5\n",
      "0, TITLE (1)\n",
      "Title 1\n",
      "1, OBJECT (7)\n",
      "Content Placeholder 2\n",
      "Content Placeholder 2\n",
      "Content Placeholder 2\n",
      "Content Placeholder 2\n",
      "Content Placeholder 2\n",
      "Content Placeholder 2\n",
      "10, DATE (16)\n",
      "12, SLIDE_NUMBER (13)\n",
      "\n",
      "slide number6\n",
      "0, TITLE (1)\n",
      "Title 4\n",
      "1, OBJECT (7)\n",
      "Content Placeholder 6\n",
      "Content Placeholder 6\n",
      "Content Placeholder 6\n",
      "Content Placeholder 6\n",
      "Content Placeholder 6\n"
     ]
    },
    {
     "data": {
      "text/plain": [
       "20.0"
      ]
     },
     "metadata": {},
     "output_type": "display_data"
    },
    {
     "name": "stdout",
     "output_type": "stream",
     "text": [
      "10, DATE (16)\n",
      "12, SLIDE_NUMBER (13)\n",
      "\n",
      "slide number7\n",
      "0, TITLE (1)\n",
      "Title 1\n",
      "1, OBJECT (7)\n",
      "Content Placeholder 4\n",
      "Content Placeholder 4\n",
      "Content Placeholder 4\n",
      "Content Placeholder 4\n",
      "Content Placeholder 4\n",
      "Content Placeholder 4\n",
      "Content Placeholder 4\n",
      "Content Placeholder 4\n",
      "10, DATE (16)\n",
      "12, SLIDE_NUMBER (13)\n",
      "\n",
      "slide number8\n",
      "0, TITLE (1)\n",
      "Title 1\n",
      "Title 1\n",
      "1, OBJECT (7)\n",
      "Content Placeholder 4\n",
      "Content Placeholder 4\n",
      "Content Placeholder 4\n",
      "Content Placeholder 4\n",
      "Content Placeholder 4\n",
      "Content Placeholder 4\n",
      "Content Placeholder 4\n"
     ]
    },
    {
     "data": {
      "text/plain": [
       "22.0"
      ]
     },
     "metadata": {},
     "output_type": "display_data"
    },
    {
     "name": "stdout",
     "output_type": "stream",
     "text": [
      "Content Placeholder 4\n",
      "Content Placeholder 4\n",
      "Content Placeholder 4\n",
      "Content Placeholder 4\n",
      "10, DATE (16)\n",
      "12, SLIDE_NUMBER (13)\n",
      "\n",
      "slide number9\n",
      "0, TITLE (1)\n",
      "Title 1\n",
      "1, OBJECT (7)\n",
      "Content Placeholder 2\n",
      "Content Placeholder 2\n",
      "Content Placeholder 2\n",
      "Content Placeholder 2\n",
      "Content Placeholder 2\n",
      "Content Placeholder 2\n",
      "10, DATE (16)\n",
      "12, SLIDE_NUMBER (13)\n",
      "\n",
      "slide number10\n",
      "0, TITLE (1)\n",
      "Title 1\n",
      "1, OBJECT (7)\n",
      "Content Placeholder 2\n",
      "Content Placeholder 2\n",
      "Content Placeholder 2\n",
      "Content Placeholder 2\n",
      "Content Placeholder 2\n",
      "Content Placeholder 2\n",
      "Content Placeholder 2\n",
      "10, DATE (16)\n",
      "12, SLIDE_NUMBER (13)\n",
      "\n",
      "slide number11\n",
      "0, TITLE (1)\n",
      "Title 1\n",
      "1, OBJECT (7)\n",
      "Content Placeholder 2\n",
      "Content Placeholder 2\n",
      "Content Placeholder 2\n",
      "Content Placeholder 2\n",
      "Content Placeholder 2\n",
      "Content Placeholder 2\n",
      "Content Placeholder 2\n",
      "Content Placeholder 2\n",
      "10, DATE (16)\n",
      "12, SLIDE_NUMBER (13)\n",
      "\n",
      "slide number12\n",
      "0, TITLE (1)\n",
      "Title 1\n",
      "1, OBJECT (7)\n",
      "Content Placeholder 2\n",
      "Content Placeholder 2\n",
      "Content Placeholder 2\n",
      "Content Placeholder 2\n",
      "Content Placeholder 2\n",
      "Content Placeholder 2\n",
      "Content Placeholder 2\n",
      "Content Placeholder 2\n",
      "10, DATE (16)\n",
      "12, SLIDE_NUMBER (13)\n",
      "\n",
      "slide number13\n",
      "1, OBJECT (7)\n",
      "no textframe\n",
      "10, DATE (16)\n",
      "12, SLIDE_NUMBER (13)\n",
      "\n",
      "slide number14\n",
      "0, TITLE (1)\n",
      "Title 1\n",
      "1, OBJECT (7)\n",
      "Content Placeholder 2\n",
      "Content Placeholder 2\n",
      "Content Placeholder 2\n",
      "Content Placeholder 2\n",
      "10, DATE (16)\n",
      "12, SLIDE_NUMBER (13)\n",
      "\n",
      "slide number15\n",
      "1, OBJECT (7)\n",
      "Content Placeholder 2\n"
     ]
    },
    {
     "data": {
      "text/plain": [
       "44.0"
      ]
     },
     "metadata": {},
     "output_type": "display_data"
    },
    {
     "name": "stdout",
     "output_type": "stream",
     "text": [
      "10, DATE (16)\n",
      "12, SLIDE_NUMBER (13)\n",
      "\n",
      "font name\n",
      "['Charter']\n",
      "\n",
      "font size\n",
      "[40.0, 28.0, 24.0, 20.0, 22.0, 44.0]\n",
      "\n",
      "hyperlink\n",
      "['103.pptx']\n",
      "\n",
      "color\n",
      "[(153, 202, 60), (112, 48, 160), (0, 112, 192)]\n",
      "\n",
      "number of font name\n",
      "2\n",
      "\n",
      "number of font size\n",
      "7\n",
      "\n",
      " number of hyperlink\n",
      "1\n",
      "\n",
      " number of color\n",
      "4\n",
      "\n",
      " number of pictures\n",
      "11\n",
      "\n",
      " number of chart\n",
      "0\n",
      "\n",
      " number of tables\n",
      "0\n",
      "\n",
      " maximum font size\n",
      "44.0\n",
      "\n",
      " minimum font size\n",
      "20.0\n",
      "e:\\ppt\\104.pptx\n",
      "\n",
      "slide number1\n",
      "0, CENTER_TITLE (3)\n",
      "Title 1\n"
     ]
    },
    {
     "data": {
      "text/plain": [
       "40.0"
      ]
     },
     "metadata": {},
     "output_type": "display_data"
    },
    {
     "name": "stdout",
     "output_type": "stream",
     "text": [
      "1, SUBTITLE (4)\n",
      "Subtitle 2\n",
      "\n",
      "slide number2\n",
      "0, TITLE (1)\n",
      "Title 3\n"
     ]
    },
    {
     "data": {
      "text/plain": [
       "36.0"
      ]
     },
     "metadata": {},
     "output_type": "display_data"
    },
    {
     "name": "stdout",
     "output_type": "stream",
     "text": [
      "1, BODY (2)\n",
      "Text Placeholder 4\n",
      "Text Placeholder 4\n",
      "Text Placeholder 4\n",
      "Text Placeholder 4\n",
      "Text Placeholder 4\n",
      "Text Placeholder 4\n",
      "Text Placeholder 4\n",
      "Text Placeholder 4\n",
      "Text Placeholder 4\n",
      "Text Placeholder 4\n",
      "Text Placeholder 4\n",
      "12, SLIDE_NUMBER (13)\n",
      "Slide Number Placeholder 1\n",
      "\n",
      "slide number3\n",
      "0, TITLE (1)\n",
      "Title 6\n",
      "13, BODY (2)\n",
      "Text Placeholder 9\n",
      "Text Placeholder 9\n",
      "Text Placeholder 9\n",
      "Text Placeholder 9\n",
      "Text Placeholder 9\n",
      "Text Placeholder 9\n",
      "12, SLIDE_NUMBER (13)\n",
      "Slide Number Placeholder 1\n",
      "\n",
      "slide number4\n",
      "0, TITLE (1)\n",
      "Title 3\n",
      "12, SLIDE_NUMBER (13)\n",
      "Slide Number Placeholder 1\n",
      "2, BODY (2)\n",
      "Text Placeholder 7\n",
      "Text Placeholder 7\n",
      "Text Placeholder 7\n",
      "Text Placeholder 7\n",
      "4, BODY (2)\n",
      "Text Placeholder 5\n",
      "Text Placeholder 5\n",
      "Text Placeholder 5\n",
      "Text Placeholder 5\n",
      "\n",
      "slide number5\n",
      "0, TITLE (1)\n",
      "Title 3\n",
      "12, SLIDE_NUMBER (13)\n",
      "Slide Number Placeholder 1\n",
      "2, BODY (2)\n",
      "Text Placeholder 7\n",
      "Text Placeholder 7\n",
      "Text Placeholder 7\n",
      "Text Placeholder 7\n",
      "Text Placeholder 7\n",
      "4, BODY (2)\n",
      "Text Placeholder 5\n",
      "Text Placeholder 5\n",
      "Text Placeholder 5\n",
      "Text Placeholder 5\n",
      "\n",
      "slide number6\n",
      "0, TITLE (1)\n",
      "Title 3\n",
      "12, SLIDE_NUMBER (13)\n",
      "Slide Number Placeholder 1\n",
      "2, BODY (2)\n",
      "Text Placeholder 7\n"
     ]
    },
    {
     "data": {
      "text/plain": [
       "24.0"
      ]
     },
     "metadata": {},
     "output_type": "display_data"
    },
    {
     "name": "stdout",
     "output_type": "stream",
     "text": [
      "Text Placeholder 7\n",
      "Text Placeholder 7\n",
      "Text Placeholder 7\n",
      "Text Placeholder 7\n",
      "Text Placeholder 7\n",
      "4, BODY (2)\n",
      "Text Placeholder 5\n",
      "Text Placeholder 5\n",
      "Text Placeholder 5\n",
      "Text Placeholder 5\n",
      "Text Placeholder 5\n",
      "Text Placeholder 5\n",
      "Text Placeholder 5\n",
      "\n",
      "slide number7\n",
      "0, TITLE (1)\n",
      "Title 3\n",
      "12, SLIDE_NUMBER (13)\n",
      "Slide Number Placeholder 1\n",
      "2, BODY (2)\n",
      "Text Placeholder 7\n",
      "Text Placeholder 7\n"
     ]
    },
    {
     "data": {
      "text/plain": [
       "20.0"
      ]
     },
     "metadata": {},
     "output_type": "display_data"
    },
    {
     "name": "stdout",
     "output_type": "stream",
     "text": [
      "Text Placeholder 7\n",
      "Text Placeholder 7\n",
      "Text Placeholder 7\n",
      "Text Placeholder 7\n",
      "Text Placeholder 7\n",
      "4, BODY (2)\n",
      "Text Placeholder 5\n"
     ]
    },
    {
     "data": {
      "text/plain": [
       "28.0"
      ]
     },
     "metadata": {},
     "output_type": "display_data"
    },
    {
     "name": "stdout",
     "output_type": "stream",
     "text": [
      "Text Placeholder 5\n",
      "Text Placeholder 5\n",
      "Text Placeholder 5\n",
      "Text Placeholder 5\n",
      "\n",
      "slide number8\n",
      "0, TITLE (1)\n",
      "Title 3\n",
      "12, SLIDE_NUMBER (13)\n",
      "Slide Number Placeholder 1\n",
      "2, BODY (2)\n",
      "Text Placeholder 7\n",
      "Text Placeholder 7\n",
      "Text Placeholder 7\n",
      "Text Placeholder 7\n",
      "Text Placeholder 7\n",
      "Text Placeholder 7\n",
      "Text Placeholder 7\n",
      "\n",
      "slide number9\n",
      "0, TITLE (1)\n",
      "Title 3\n",
      "12, SLIDE_NUMBER (13)\n",
      "Slide Number Placeholder 1\n",
      "2, BODY (2)\n",
      "Text Placeholder 7\n",
      "Text Placeholder 7\n"
     ]
    },
    {
     "data": {
      "text/plain": [
       "22.0"
      ]
     },
     "metadata": {},
     "output_type": "display_data"
    },
    {
     "name": "stdout",
     "output_type": "stream",
     "text": [
      "Text Placeholder 7\n",
      "Text Placeholder 7\n",
      "Text Placeholder 7\n",
      "Text Placeholder 7\n",
      "Text Placeholder 7\n",
      "Text Placeholder 7\n",
      "Text Placeholder 7\n",
      "Text Placeholder 7\n",
      "Text Placeholder 7\n",
      "Text Placeholder 7\n",
      "Text Placeholder 7\n",
      "Text Placeholder 7\n",
      "Text Placeholder 7\n",
      "\n",
      "slide number10\n",
      "0, TITLE (1)\n",
      "Title 6\n",
      "13, BODY (2)\n",
      "Text Placeholder 9\n",
      "Text Placeholder 9\n",
      "Text Placeholder 9\n",
      "Text Placeholder 9\n",
      "Text Placeholder 9\n",
      "Text Placeholder 9\n",
      "Text Placeholder 9\n",
      "12, SLIDE_NUMBER (13)\n",
      "Slide Number Placeholder 1\n",
      "\n",
      "slide number11\n",
      "0, TITLE (1)\n",
      "Title 3\n",
      "12, SLIDE_NUMBER (13)\n",
      "Slide Number Placeholder 1\n",
      "2, BODY (2)\n",
      "Text Placeholder 7\n",
      "Text Placeholder 7\n",
      "Text Placeholder 7\n",
      "Text Placeholder 7\n",
      "Text Placeholder 7\n",
      "\n",
      "slide number12\n",
      "0, TITLE (1)\n",
      "Title 3\n",
      "12, SLIDE_NUMBER (13)\n",
      "Slide Number Placeholder 1\n",
      "2, BODY (2)\n",
      "Text Placeholder 7\n",
      "Text Placeholder 7\n",
      "Text Placeholder 7\n",
      "Text Placeholder 7\n",
      "Text Placeholder 7\n",
      "Text Placeholder 7\n",
      "\n",
      "slide number13\n",
      "0, TITLE (1)\n",
      "Title 3\n",
      "12, SLIDE_NUMBER (13)\n",
      "Slide Number Placeholder 1\n",
      "2, BODY (2)\n",
      "Text Placeholder 7\n",
      "Text Placeholder 7\n",
      "Text Placeholder 7\n",
      "Text Placeholder 7\n",
      "Text Placeholder 7\n",
      "Text Placeholder 7\n",
      "Text Placeholder 7\n",
      "Text Placeholder 7\n",
      "Text Placeholder 7\n",
      "Text Placeholder 7\n",
      "Text Placeholder 7\n",
      "Text Placeholder 7\n",
      "Text Placeholder 7\n",
      "Text Placeholder 7\n",
      "Text Placeholder 7\n",
      "\n",
      "slide number14\n",
      "0, TITLE (1)\n",
      "Title 6\n",
      "13, BODY (2)\n",
      "Text Placeholder 9\n"
     ]
    },
    {
     "data": {
      "text/plain": [
       "18.0"
      ]
     },
     "metadata": {},
     "output_type": "display_data"
    },
    {
     "name": "stdout",
     "output_type": "stream",
     "text": [
      "Text Placeholder 9\n",
      "12, SLIDE_NUMBER (13)\n",
      "Slide Number Placeholder 1\n",
      "\n",
      "slide number15\n",
      "0, CENTER_TITLE (3)\n",
      "Title 1\n",
      "\n",
      "font name\n",
      "[]\n",
      "\n",
      "font size\n",
      "[40.0, 36.0, 24.0, 20.0, 28.0, 22.0, 18.0]\n",
      "\n",
      "hyperlink\n",
      "[]\n",
      "\n",
      "color\n",
      "[]\n",
      "\n",
      "number of font name\n",
      "1\n",
      "\n",
      "number of font size\n",
      "8\n",
      "\n",
      " number of hyperlink\n",
      "0\n",
      "\n",
      " number of color\n",
      "1\n",
      "\n",
      " number of pictures\n",
      "2\n",
      "\n",
      " number of chart\n",
      "0\n",
      "\n",
      " number of tables\n",
      "0\n",
      "\n",
      " maximum font size\n",
      "40.0\n",
      "\n",
      " minimum font size\n",
      "18.0\n",
      "e:\\ppt\\105.pptx\n",
      "\n",
      "slide number1\n",
      "TextBox 4\n"
     ]
    },
    {
     "data": {
      "text/plain": [
       "'Arial'"
      ]
     },
     "metadata": {},
     "output_type": "display_data"
    },
    {
     "data": {
      "text/plain": [
       "96.0"
      ]
     },
     "metadata": {},
     "output_type": "display_data"
    },
    {
     "name": "stdout",
     "output_type": "stream",
     "text": [
      "TextBox 5\n"
     ]
    },
    {
     "data": {
      "text/plain": [
       "40.0"
      ]
     },
     "metadata": {},
     "output_type": "display_data"
    },
    {
     "name": "stdout",
     "output_type": "stream",
     "text": [
      "TextBox 6\n"
     ]
    },
    {
     "data": {
      "text/plain": [
       "'Abhaya Libre Regular'"
      ]
     },
     "metadata": {},
     "output_type": "display_data"
    },
    {
     "data": {
      "text/plain": [
       "36.0"
      ]
     },
     "metadata": {},
     "output_type": "display_data"
    },
    {
     "name": "stdout",
     "output_type": "stream",
     "text": [
      "TextBox 6\n"
     ]
    },
    {
     "data": {
      "text/plain": [
       "24.0"
      ]
     },
     "metadata": {},
     "output_type": "display_data"
    },
    {
     "name": "stdout",
     "output_type": "stream",
     "text": [
      "TextBox 6\n"
     ]
    },
    {
     "data": {
      "text/plain": [
       "'Pathway Gothic One'"
      ]
     },
     "metadata": {},
     "output_type": "display_data"
    },
    {
     "data": {
      "text/plain": [
       "32.0"
      ]
     },
     "metadata": {},
     "output_type": "display_data"
    },
    {
     "name": "stdout",
     "output_type": "stream",
     "text": [
      "TextBox 6\n"
     ]
    },
    {
     "data": {
      "text/plain": [
       "20.0"
      ]
     },
     "metadata": {},
     "output_type": "display_data"
    },
    {
     "name": "stdout",
     "output_type": "stream",
     "text": [
      "\n",
      "slide number2\n",
      "TextBox 2\n"
     ]
    },
    {
     "data": {
      "text/plain": [
       "28.0"
      ]
     },
     "metadata": {},
     "output_type": "display_data"
    },
    {
     "name": "stdout",
     "output_type": "stream",
     "text": [
      "TextBox 2\n",
      "TextBox 2\n",
      "TextBox 3\n",
      "TextBox 3\n",
      "TextBox 4\n"
     ]
    },
    {
     "data": {
      "text/plain": [
       "60.0"
      ]
     },
     "metadata": {},
     "output_type": "display_data"
    },
    {
     "name": "stdout",
     "output_type": "stream",
     "text": [
      "TextBox 5\n",
      "TextBox 6\n",
      "TextBox 7\n",
      "TextBox 8\n",
      "TextBox 9\n",
      "TextBox 11\n",
      "TextBox 12\n",
      "TextBox 13\n",
      "TextBox 14\n",
      "\n",
      "slide number3\n",
      "TextBox 7\n",
      "TextBox 8\n",
      "TextBox 8\n",
      "TextBox 8\n",
      "TextBox 9\n",
      "TextBox 9\n",
      "TextBox 9\n",
      "\n",
      "slide number4\n",
      "TextBox 4\n",
      "TextBox 4\n",
      "TextBox 4\n",
      "TextBox 5\n",
      "TextBox 6\n"
     ]
    },
    {
     "data": {
      "text/plain": [
       "'Montserrat'"
      ]
     },
     "metadata": {},
     "output_type": "display_data"
    },
    {
     "data": {
      "text/plain": [
       "70.23"
      ]
     },
     "metadata": {},
     "output_type": "display_data"
    },
    {
     "name": "stdout",
     "output_type": "stream",
     "text": [
      "TextBox 8\n",
      "TextBox 8\n",
      "\n",
      "slide number5\n",
      "TextBox 7\n",
      "\n",
      "slide number6\n",
      "TextBox 3\n",
      "TextBox 4\n",
      "TextBox 5\n",
      "TextBox 5\n",
      "\n",
      "slide number7\n",
      "TextBox 3\n",
      "TextBox 4\n",
      "TextBox 4\n",
      "TextBox 4\n",
      "\n",
      "slide number8\n",
      "TextBox 5\n",
      "TextBox 9\n",
      "TextBox 9\n",
      "TextBox 9\n",
      "TextBox 9\n",
      "\n",
      "slide number9\n",
      "TextBox 7\n",
      "\n",
      "slide number10\n",
      "TextBox 4\n",
      "TextBox 5\n"
     ]
    },
    {
     "data": {
      "text/plain": [
       "54.0"
      ]
     },
     "metadata": {},
     "output_type": "display_data"
    },
    {
     "name": "stdout",
     "output_type": "stream",
     "text": [
      "TextBox 6\n",
      "TextBox 6\n",
      "TextBox 6\n",
      "\n",
      "slide number11\n",
      "TextBox 4\n"
     ]
    },
    {
     "data": {
      "text/plain": [
       "40.1"
      ]
     },
     "metadata": {},
     "output_type": "display_data"
    },
    {
     "name": "stdout",
     "output_type": "stream",
     "text": [
      "TextBox 5\n"
     ]
    },
    {
     "data": {
      "text/plain": [
       "44.0"
      ]
     },
     "metadata": {},
     "output_type": "display_data"
    },
    {
     "name": "stdout",
     "output_type": "stream",
     "text": [
      "TextBox 5\n"
     ]
    },
    {
     "data": {
      "text/plain": [
       "47.23"
      ]
     },
     "metadata": {},
     "output_type": "display_data"
    },
    {
     "name": "stdout",
     "output_type": "stream",
     "text": [
      "TextBox 6\n",
      "TextBox 6\n",
      "TextBox 6\n",
      "TextBox 6\n",
      "TextBox 6\n",
      "\n",
      "slide number12\n",
      "TextBox 6\n",
      "TextBox 7\n",
      "TextBox 8\n",
      "\n",
      "slide number13\n",
      "TextBox 4\n",
      "TextBox 5\n",
      "\n",
      "font name\n",
      "['Arial', 'Abhaya Libre Regular', 'Pathway Gothic One', 'Montserrat']\n",
      "\n",
      "font size\n",
      "[96.0, 40.0, 36.0, 24.0, 32.0, 20.0, 28.0, 60.0, 70.23, 54.0, 40.1, 44.0, 47.23]\n",
      "\n",
      "hyperlink\n",
      "[]\n",
      "\n",
      "color\n",
      "[(255, 255, 255), (255, 67, 27), (0, 0, 0)]\n",
      "\n",
      "number of font name\n",
      "5\n",
      "\n",
      "number of font size\n",
      "14\n",
      "\n",
      " number of hyperlink\n",
      "0\n",
      "\n",
      " number of color\n",
      "4\n",
      "\n",
      " number of pictures\n",
      "29\n",
      "\n",
      " number of chart\n",
      "0\n",
      "\n",
      " number of tables\n",
      "0\n",
      "\n",
      " maximum font size\n",
      "96.0\n",
      "\n",
      " minimum font size\n",
      "20.0\n",
      "e:\\ppt\\106.pptx\n",
      "\n",
      "slide number1\n",
      "TextBox 4\n"
     ]
    },
    {
     "data": {
      "text/plain": [
       "'Times New Roman'"
      ]
     },
     "metadata": {},
     "output_type": "display_data"
    },
    {
     "data": {
      "text/plain": [
       "24.0"
      ]
     },
     "metadata": {},
     "output_type": "display_data"
    },
    {
     "name": "stdout",
     "output_type": "stream",
     "text": [
      "TextBox 7\n"
     ]
    },
    {
     "data": {
      "text/plain": [
       "32.0"
      ]
     },
     "metadata": {},
     "output_type": "display_data"
    },
    {
     "name": "stdout",
     "output_type": "stream",
     "text": [
      "TextBox 8\n",
      "TextBox 8\n",
      "TextBox 8\n",
      "TextBox 8\n",
      "TextBox 8\n",
      "TextBox 8\n",
      "TextBox 8\n",
      "TextBox 8\n",
      "TextBox 8\n",
      "TextBox 8\n",
      "TextBox 8\n",
      "TextBox 8\n",
      "TextBox 8\n",
      "TextBox 9\n",
      "TextBox 9\n",
      "TextBox 9\n",
      "TextBox 9\n",
      "TextBox 9\n",
      "TextBox 9\n",
      "10, DATE (16)\n",
      "12, SLIDE_NUMBER (13)\n",
      "\n",
      "slide number2\n",
      "0, TITLE (1)\n",
      "Title 1\n"
     ]
    },
    {
     "data": {
      "text/plain": [
       "28.0"
      ]
     },
     "metadata": {},
     "output_type": "display_data"
    },
    {
     "name": "stdout",
     "output_type": "stream",
     "text": [
      "Title 1\n",
      "1, OBJECT (7)\n",
      "Content Placeholder 2\n"
     ]
    },
    {
     "data": {
      "text/plain": [
       "20.0"
      ]
     },
     "metadata": {},
     "output_type": "display_data"
    },
    {
     "name": "stdout",
     "output_type": "stream",
     "text": [
      "Content Placeholder 2\n",
      "Content Placeholder 2\n",
      "Content Placeholder 2\n",
      "Content Placeholder 2\n",
      "Content Placeholder 2\n",
      "Content Placeholder 2\n",
      "Content Placeholder 2\n",
      "10, DATE (16)\n",
      "12, SLIDE_NUMBER (13)\n",
      "\n",
      "slide number3\n",
      "0, TITLE (1)\n",
      "Title 1\n",
      "1, OBJECT (7)\n",
      "Content Placeholder 2\n",
      "Content Placeholder 2\n",
      "Content Placeholder 2\n",
      "Content Placeholder 2\n",
      "Content Placeholder 2\n",
      "Content Placeholder 2\n",
      "Content Placeholder 2\n",
      "Content Placeholder 2\n",
      "2, BODY (2)\n",
      "10, DATE (16)\n",
      "12, SLIDE_NUMBER (13)\n",
      "\n",
      "slide number4\n",
      "0, TITLE (1)\n",
      "Title 4\n",
      "Title 4\n",
      "Title 4\n",
      "Title 4\n",
      "1, OBJECT (7)\n",
      "Content Placeholder 5\n",
      "Content Placeholder 5\n",
      "Content Placeholder 5\n",
      "Content Placeholder 5\n",
      "Content Placeholder 5\n",
      "Content Placeholder 5\n",
      "Content Placeholder 5\n",
      "Content Placeholder 5\n",
      "Content Placeholder 5\n",
      "Content Placeholder 5\n",
      "Content Placeholder 5\n",
      "Content Placeholder 5\n",
      "Content Placeholder 5\n",
      "Content Placeholder 5\n",
      "Content Placeholder 5\n",
      "Content Placeholder 5\n",
      "Content Placeholder 5\n",
      "Content Placeholder 5\n",
      "Content Placeholder 5\n",
      "10, DATE (16)\n",
      "12, SLIDE_NUMBER (13)\n",
      "\n",
      "slide number5\n",
      "0, TITLE (1)\n",
      "Title 1\n"
     ]
    },
    {
     "data": {
      "text/plain": [
       "31.0"
      ]
     },
     "metadata": {},
     "output_type": "display_data"
    },
    {
     "name": "stdout",
     "output_type": "stream",
     "text": [
      "Title 1\n",
      "Title 1\n",
      "1, OBJECT (7)\n",
      "Content Placeholder 2\n",
      "Content Placeholder 2\n",
      "Content Placeholder 2\n",
      "Content Placeholder 2\n",
      "Content Placeholder 2\n",
      "Content Placeholder 2\n",
      "Content Placeholder 2\n",
      "Content Placeholder 2\n",
      "Content Placeholder 2\n",
      "Content Placeholder 2\n",
      "Content Placeholder 2\n",
      "Content Placeholder 2\n",
      "Content Placeholder 2\n",
      "10, DATE (16)\n",
      "12, SLIDE_NUMBER (13)\n",
      "\n",
      "slide number6\n",
      "0, TITLE (1)\n",
      "Title 1\n",
      "Title 1\n",
      "Title 1\n",
      "Title 1\n",
      "1, OBJECT (7)\n",
      "Content Placeholder 2\n",
      "Content Placeholder 2\n",
      "Content Placeholder 2\n",
      "Content Placeholder 2\n",
      "10, DATE (16)\n",
      "12, SLIDE_NUMBER (13)\n",
      "\n",
      "slide number7\n",
      "0, TITLE (1)\n",
      "Title 1\n",
      "Title 1\n",
      "Title 1\n",
      "1, OBJECT (7)\n",
      "Content Placeholder 2\n",
      "Content Placeholder 2\n",
      "Content Placeholder 2\n",
      "Content Placeholder 2\n",
      "Content Placeholder 2\n",
      "Content Placeholder 2\n",
      "Content Placeholder 2\n",
      "Content Placeholder 2\n",
      "Content Placeholder 2\n",
      "Content Placeholder 2\n",
      "Content Placeholder 2\n",
      "Content Placeholder 2\n",
      "10, DATE (16)\n",
      "12, SLIDE_NUMBER (13)\n",
      "\n",
      "slide number8\n",
      "0, TITLE (1)\n",
      "Title 1\n",
      "1, OBJECT (7)\n",
      "Content Placeholder 2\n",
      "Content Placeholder 2\n",
      "Content Placeholder 2\n",
      "Content Placeholder 2\n",
      "Content Placeholder 2\n",
      "Content Placeholder 2\n",
      "Content Placeholder 2\n",
      "Content Placeholder 2\n",
      "Content Placeholder 2\n",
      "Content Placeholder 2\n",
      "10, DATE (16)\n",
      "12, SLIDE_NUMBER (13)\n",
      "\n",
      "slide number9\n",
      "0, TITLE (1)\n",
      "Title 1\n",
      "1, OBJECT (7)\n",
      "Content Placeholder 2\n",
      "Content Placeholder 2\n",
      "Content Placeholder 2\n",
      "10, DATE (16)\n",
      "12, SLIDE_NUMBER (13)\n",
      "\n",
      "slide number10\n",
      "0, TITLE (1)\n",
      "Title 1\n",
      "1, OBJECT (7)\n",
      "Content Placeholder 2\n",
      "Content Placeholder 2\n",
      "Content Placeholder 2\n",
      "Content Placeholder 2\n",
      "10, DATE (16)\n",
      "12, SLIDE_NUMBER (13)\n",
      "\n",
      "slide number11\n",
      "0, TITLE (1)\n",
      "Title 1\n",
      "1, OBJECT (7)\n",
      "Content Placeholder 2\n",
      "Content Placeholder 2\n",
      "Content Placeholder 2\n"
     ]
    },
    {
     "data": {
      "text/plain": [
       "'Calibri'"
      ]
     },
     "metadata": {},
     "output_type": "display_data"
    },
    {
     "data": {
      "text/plain": [
       "18.0"
      ]
     },
     "metadata": {},
     "output_type": "display_data"
    },
    {
     "name": "stdout",
     "output_type": "stream",
     "text": [
      "Content Placeholder 2\n",
      "Content Placeholder 2\n",
      "Content Placeholder 2\n",
      "Content Placeholder 2\n",
      "Content Placeholder 2\n",
      "Content Placeholder 2\n",
      "Content Placeholder 2\n",
      "Content Placeholder 2\n",
      "Content Placeholder 2\n",
      "Content Placeholder 2\n",
      "10, DATE (16)\n",
      "12, SLIDE_NUMBER (13)\n",
      "\n",
      "slide number12\n",
      "0, TITLE (1)\n",
      "Title 1\n",
      "1, OBJECT (7)\n",
      "Content Placeholder 2\n",
      "Content Placeholder 2\n",
      "Content Placeholder 2\n",
      "Content Placeholder 2\n",
      "Content Placeholder 2\n",
      "Content Placeholder 2\n",
      "Content Placeholder 2\n",
      "Content Placeholder 2\n",
      "10, DATE (16)\n",
      "12, SLIDE_NUMBER (13)\n",
      "\n",
      "slide number13\n",
      "0, TITLE (1)\n",
      "Title 1\n",
      "1, OBJECT (7)\n",
      "Content Placeholder 2\n",
      "Content Placeholder 2\n",
      "Content Placeholder 2\n",
      "Content Placeholder 2\n",
      "10, DATE (16)\n",
      "12, SLIDE_NUMBER (13)\n",
      "\n",
      "slide number14\n",
      "0, TITLE (1)\n",
      "Title 1\n",
      "1, OBJECT (7)\n",
      "Content Placeholder 2\n",
      "Content Placeholder 2\n",
      "Content Placeholder 2\n",
      "Content Placeholder 2\n",
      "Content Placeholder 2\n",
      "Content Placeholder 2\n",
      "10, DATE (16)\n",
      "12, SLIDE_NUMBER (13)\n",
      "\n",
      "slide number15\n",
      "0, TITLE (1)\n",
      "Title 1\n",
      "1, OBJECT (7)\n",
      "Content Placeholder 2\n",
      "Content Placeholder 2\n",
      "Content Placeholder 2\n",
      "Content Placeholder 2\n",
      "Content Placeholder 2\n",
      "Content Placeholder 2\n",
      "Content Placeholder 2\n",
      "Content Placeholder 2\n",
      "Content Placeholder 2\n",
      "10, DATE (16)\n",
      "12, SLIDE_NUMBER (13)\n",
      "\n",
      "slide number16\n",
      "10, DATE (16)\n",
      "12, SLIDE_NUMBER (13)\n",
      "\n",
      "font name\n",
      "['Times New Roman', 'Calibri']\n",
      "\n",
      "font size\n",
      "[24.0, 32.0, 28.0, 20.0, 31.0, 18.0]\n",
      "\n",
      "hyperlink\n",
      "[]\n",
      "\n",
      "color\n",
      "[(255, 0, 0), (0, 176, 80), (0, 176, 240), (255, 192, 0), (0, 112, 192), (112, 48, 160)]\n",
      "\n",
      "number of font name\n",
      "3\n",
      "\n",
      "number of font size\n",
      "7\n",
      "\n",
      " number of hyperlink\n",
      "0\n",
      "\n",
      " number of color\n",
      "7\n",
      "\n",
      " number of pictures\n",
      "9\n",
      "\n",
      " number of chart\n",
      "0\n",
      "\n",
      " number of tables\n",
      "0\n",
      "\n",
      " maximum font size\n",
      "32.0\n",
      "\n",
      " minimum font size\n",
      "18.0\n",
      "e:\\ppt\\107.pptx\n",
      "\n",
      "slide number1\n",
      "0, CENTER_TITLE (3)\n",
      "Title 1\n",
      "1, SUBTITLE (4)\n",
      "Subtitle 2\n"
     ]
    },
    {
     "data": {
      "text/plain": [
       "'Times New Roman'"
      ]
     },
     "metadata": {},
     "output_type": "display_data"
    },
    {
     "data": {
      "text/plain": [
       "24.0"
      ]
     },
     "metadata": {},
     "output_type": "display_data"
    },
    {
     "name": "stdout",
     "output_type": "stream",
     "text": [
      "Subtitle 2\n",
      "TextBox 7\n"
     ]
    },
    {
     "data": {
      "text/plain": [
       "20.0"
      ]
     },
     "metadata": {},
     "output_type": "display_data"
    },
    {
     "name": "stdout",
     "output_type": "stream",
     "text": [
      "TextBox 7\n",
      "TextBox 7\n",
      "TextBox 7\n",
      "10, DATE (16)\n",
      "12, SLIDE_NUMBER (13)\n",
      "\n",
      "slide number2\n",
      "TextBox 2\n"
     ]
    },
    {
     "data": {
      "text/plain": [
       "44.0"
      ]
     },
     "metadata": {},
     "output_type": "display_data"
    },
    {
     "name": "stdout",
     "output_type": "stream",
     "text": [
      "TextBox 3\n",
      "TextBox 3\n",
      "TextBox 3\n",
      "TextBox 3\n",
      "TextBox 3\n",
      "TextBox 3\n",
      "TextBox 3\n",
      "TextBox 3\n",
      "TextBox 3\n",
      "TextBox 3\n",
      "10, DATE (16)\n",
      "12, SLIDE_NUMBER (13)\n",
      "\n",
      "slide number3\n",
      "TextBox 4\n"
     ]
    },
    {
     "data": {
      "text/plain": [
       "32.0"
      ]
     },
     "metadata": {},
     "output_type": "display_data"
    },
    {
     "name": "stdout",
     "output_type": "stream",
     "text": [
      "TextBox 5\n",
      "TextBox 5\n",
      "TextBox 5\n",
      "TextBox 5\n",
      "10, DATE (16)\n",
      "12, SLIDE_NUMBER (13)\n",
      "\n",
      "slide number4\n",
      "TextBox 2\n",
      "TextBox 3\n",
      "TextBox 3\n",
      "TextBox 3\n",
      "TextBox 3\n",
      "TextBox 3\n",
      "TextBox 3\n",
      "10, DATE (16)\n",
      "12, SLIDE_NUMBER (13)\n",
      "\n",
      "slide number5\n",
      "TextBox 2\n",
      "TextBox 2\n",
      "TextBox 2\n",
      "TextBox 2\n",
      "TextBox 2\n",
      "TextBox 2\n",
      "TextBox 2\n",
      "10, DATE (16)\n",
      "12, SLIDE_NUMBER (13)\n",
      "\n",
      "slide number6\n",
      "TextBox 2\n",
      "TextBox 2\n",
      "TextBox 2\n",
      "TextBox 2\n",
      "TextBox 2\n",
      "10, DATE (16)\n",
      "12, SLIDE_NUMBER (13)\n",
      "\n",
      "slide number7\n",
      "TextBox 2\n"
     ]
    },
    {
     "data": {
      "text/plain": [
       "'Helvetica Neue'"
      ]
     },
     "metadata": {},
     "output_type": "display_data"
    },
    {
     "name": "stdout",
     "output_type": "stream",
     "text": [
      "TextBox 2\n",
      "TextBox 2\n",
      "TextBox 2\n",
      "TextBox 2\n",
      "10, DATE (16)\n",
      "12, SLIDE_NUMBER (13)\n",
      "\n",
      "slide number8\n",
      "TextBox 2\n",
      "10, DATE (16)\n",
      "12, SLIDE_NUMBER (13)\n",
      "\n",
      "slide number9\n",
      "TextBox 2\n",
      "TextBox 2\n",
      "TextBox 2\n",
      "TextBox 2\n",
      "10, DATE (16)\n",
      "12, SLIDE_NUMBER (13)\n",
      "\n",
      "slide number10\n",
      "TextBox 2\n",
      "TextBox 3\n",
      "TextBox 3\n",
      "TextBox 3\n",
      "TextBox 3\n",
      "10, DATE (16)\n",
      "12, SLIDE_NUMBER (13)\n",
      "\n",
      "slide number11\n",
      "TextBox 2\n",
      "TextBox 3\n",
      "TextBox 3\n",
      "TextBox 3\n",
      "TextBox 3\n",
      "10, DATE (16)\n",
      "12, SLIDE_NUMBER (13)\n",
      "\n",
      "slide number12\n",
      "TextBox 2\n",
      "TextBox 2\n",
      "TextBox 2\n",
      "TextBox 2\n",
      "TextBox 2\n",
      "TextBox 2\n",
      "TextBox 2\n",
      "TextBox 2\n",
      "TextBox 2\n",
      "10, DATE (16)\n",
      "12, SLIDE_NUMBER (13)\n",
      "\n",
      "slide number13\n",
      "TextBox 2\n",
      "10, DATE (16)\n",
      "12, SLIDE_NUMBER (13)\n",
      "\n",
      "font name\n",
      "['Times New Roman', 'Helvetica Neue']\n",
      "\n",
      "font size\n",
      "[24.0, 20.0, 44.0, 32.0]\n",
      "\n",
      "hyperlink\n",
      "[]\n",
      "\n",
      "color\n",
      "[(59, 56, 53)]\n",
      "\n",
      "number of font name\n",
      "3\n",
      "\n",
      "number of font size\n",
      "5\n",
      "\n",
      " number of hyperlink\n",
      "0\n",
      "\n",
      " number of color\n",
      "2\n",
      "\n",
      " number of pictures\n",
      "4\n",
      "\n",
      " number of chart\n",
      "0\n",
      "\n",
      " number of tables\n",
      "0\n",
      "\n",
      " maximum font size\n",
      "44.0\n",
      "\n",
      " minimum font size\n",
      "20.0\n",
      "e:\\ppt\\108.pptx\n",
      "\n",
      "slide number1\n",
      "1, SUBTITLE (4)\n",
      "Subtitle 2\n"
     ]
    },
    {
     "data": {
      "text/plain": [
       "'Times New Roman'"
      ]
     },
     "metadata": {},
     "output_type": "display_data"
    },
    {
     "data": {
      "text/plain": [
       "32.0"
      ]
     },
     "metadata": {},
     "output_type": "display_data"
    },
    {
     "name": "stdout",
     "output_type": "stream",
     "text": [
      "Subtitle 2\n",
      "Subtitle 2\n",
      "Subtitle 2\n"
     ]
    },
    {
     "data": {
      "text/plain": [
       "24.0"
      ]
     },
     "metadata": {},
     "output_type": "display_data"
    },
    {
     "name": "stdout",
     "output_type": "stream",
     "text": [
      "Subtitle 2\n",
      "Subtitle 2\n",
      "Subtitle 2\n",
      "Subtitle 2\n",
      "Subtitle 2\n",
      "Subtitle 2\n",
      "\n",
      "slide number2\n",
      "0, TITLE (1)\n",
      "Title 1\n"
     ]
    },
    {
     "data": {
      "text/plain": [
       "36.0"
      ]
     },
     "metadata": {},
     "output_type": "display_data"
    },
    {
     "name": "stdout",
     "output_type": "stream",
     "text": [
      "1, OBJECT (7)\n",
      "Content Placeholder 2\n",
      "Content Placeholder 2\n",
      "Content Placeholder 2\n",
      "Content Placeholder 2\n",
      "\n",
      "slide number3\n",
      "0, TITLE (1)\n",
      "Title 1\n",
      "1, OBJECT (7)\n",
      "Content Placeholder 2\n",
      "Content Placeholder 2\n",
      "Content Placeholder 2\n",
      "Content Placeholder 2\n",
      "\n",
      "slide number4\n",
      "0, TITLE (1)\n",
      "Title 1\n",
      "1, OBJECT (7)\n",
      "Content Placeholder 2\n",
      "\n",
      "slide number5\n",
      "0, TITLE (1)\n",
      "Title 1\n",
      "1, OBJECT (7)\n",
      "Content Placeholder 2\n",
      "Content Placeholder 2\n",
      "Content Placeholder 2\n",
      "Content Placeholder 2\n",
      "\n",
      "slide number6\n",
      "0, TITLE (1)\n",
      "Title 1\n",
      "1, OBJECT (7)\n",
      "Content Placeholder 2\n"
     ]
    },
    {
     "data": {
      "text/plain": [
       "20.0"
      ]
     },
     "metadata": {},
     "output_type": "display_data"
    },
    {
     "name": "stdout",
     "output_type": "stream",
     "text": [
      "Content Placeholder 2\n",
      "Content Placeholder 2\n",
      "Content Placeholder 2\n",
      "Content Placeholder 2\n",
      "Content Placeholder 2\n",
      "Content Placeholder 2\n",
      "Content Placeholder 2\n",
      "\n",
      "slide number7\n",
      "0, TITLE (1)\n",
      "Title 1\n",
      "1, OBJECT (7)\n",
      "Content Placeholder 2\n"
     ]
    },
    {
     "data": {
      "text/plain": [
       "28.0"
      ]
     },
     "metadata": {},
     "output_type": "display_data"
    },
    {
     "name": "stdout",
     "output_type": "stream",
     "text": [
      "Content Placeholder 2\n",
      "Content Placeholder 2\n",
      "Content Placeholder 2\n",
      "Content Placeholder 2\n",
      "Content Placeholder 2\n",
      "Content Placeholder 2\n",
      "Content Placeholder 2\n",
      "Content Placeholder 2\n",
      "Content Placeholder 2\n",
      "Content Placeholder 2\n",
      "Content Placeholder 2\n",
      "Content Placeholder 2\n",
      "Content Placeholder 2\n",
      "Content Placeholder 2\n",
      "Content Placeholder 2\n",
      "Content Placeholder 2\n",
      "Content Placeholder 2\n",
      "Content Placeholder 2\n",
      "\n",
      "slide number8\n",
      "0, TITLE (1)\n",
      "Title 1\n",
      "1, OBJECT (7)\n",
      "Content Placeholder 2\n",
      "Content Placeholder 2\n",
      "Content Placeholder 2\n",
      "Content Placeholder 2\n",
      "\n",
      "slide number9\n",
      "0, TITLE (1)\n",
      "Title 1\n",
      "1, OBJECT (7)\n",
      "Content Placeholder 2\n",
      "Content Placeholder 2\n",
      "Content Placeholder 2\n",
      "Content Placeholder 2\n",
      "Content Placeholder 2\n",
      "Content Placeholder 2\n",
      "Content Placeholder 2\n",
      "Content Placeholder 2\n",
      "Content Placeholder 2\n",
      "Content Placeholder 2\n",
      "Content Placeholder 2\n",
      "Content Placeholder 2\n",
      "Content Placeholder 2\n",
      "Content Placeholder 2\n",
      "\n",
      "slide number10\n",
      "0, TITLE (1)\n",
      "Title 1\n",
      "1, OBJECT (7)\n",
      "Content Placeholder 2\n",
      "Content Placeholder 2\n",
      "Content Placeholder 2\n",
      "Content Placeholder 2\n",
      "Content Placeholder 2\n",
      "\n",
      "slide number11\n",
      "0, TITLE (1)\n",
      "Title 1\n",
      "1, OBJECT (7)\n",
      "Content Placeholder 2\n",
      "Content Placeholder 2\n",
      "Content Placeholder 2\n",
      "Content Placeholder 2\n",
      "Content Placeholder 2\n",
      "Content Placeholder 2\n",
      "Content Placeholder 2\n",
      "Content Placeholder 2\n",
      "Content Placeholder 2\n",
      "Content Placeholder 2\n",
      "\n",
      "slide number12\n",
      "0, TITLE (1)\n",
      "Title 1\n",
      "1, OBJECT (7)\n",
      "Content Placeholder 2\n",
      "Content Placeholder 2\n",
      "Content Placeholder 2\n",
      "Content Placeholder 2\n",
      "Content Placeholder 2\n",
      "Content Placeholder 2\n",
      "Content Placeholder 2\n",
      "Content Placeholder 2\n",
      "Content Placeholder 2\n",
      "Content Placeholder 2\n",
      "Content Placeholder 2\n",
      "Content Placeholder 2\n",
      "Content Placeholder 2\n",
      "\n",
      "slide number13\n",
      "0, TITLE (1)\n",
      "Title 1\n",
      "1, OBJECT (7)\n",
      "Content Placeholder 2\n",
      "Content Placeholder 2\n",
      "Content Placeholder 2\n",
      "Content Placeholder 2\n",
      "Content Placeholder 2\n",
      "Content Placeholder 2\n",
      "Content Placeholder 2\n",
      "Content Placeholder 2\n",
      "Content Placeholder 2\n",
      "Content Placeholder 2\n",
      "\n",
      "slide number14\n",
      "1, OBJECT (7)\n",
      "Content Placeholder 2\n",
      "Content Placeholder 2\n",
      "Content Placeholder 2\n",
      "Content Placeholder 2\n",
      "Content Placeholder 2\n",
      "Content Placeholder 2\n",
      "Content Placeholder 2\n"
     ]
    },
    {
     "data": {
      "text/plain": [
       "'Arial'"
      ]
     },
     "metadata": {},
     "output_type": "display_data"
    },
    {
     "name": "stdout",
     "output_type": "stream",
     "text": [
      "Content Placeholder 2\n",
      "0, TITLE (1)\n",
      "Title 1\n",
      "\n",
      "slide number15\n",
      "1, OBJECT (7)\n",
      "Content Placeholder 2\n",
      "Content Placeholder 2\n",
      "Content Placeholder 2\n",
      "Content Placeholder 2\n",
      "Content Placeholder 2\n",
      "Content Placeholder 2\n",
      "Content Placeholder 2\n",
      "Content Placeholder 2\n",
      "Content Placeholder 2\n",
      "Content Placeholder 2\n",
      "\n",
      "slide number16\n",
      "0, TITLE (1)\n",
      "Title 1\n",
      "1, OBJECT (7)\n",
      "Content Placeholder 8\n",
      "Content Placeholder 8\n",
      "Content Placeholder 8\n",
      "Content Placeholder 8\n",
      "Content Placeholder 8\n",
      "Content Placeholder 8\n",
      "Content Placeholder 8\n",
      "Content Placeholder 8\n",
      "\n",
      "slide number17\n",
      "1, OBJECT (7)\n",
      "Content Placeholder 2\n"
     ]
    },
    {
     "data": {
      "text/plain": [
       "26.0"
      ]
     },
     "metadata": {},
     "output_type": "display_data"
    },
    {
     "name": "stdout",
     "output_type": "stream",
     "text": [
      "Content Placeholder 2\n"
     ]
    },
    {
     "data": {
      "text/plain": [
       "30.0"
      ]
     },
     "metadata": {},
     "output_type": "display_data"
    },
    {
     "name": "stdout",
     "output_type": "stream",
     "text": [
      "Content Placeholder 2\n",
      "Content Placeholder 2\n",
      "Content Placeholder 2\n",
      "Content Placeholder 2\n",
      "Content Placeholder 2\n",
      "Content Placeholder 2\n",
      "Content Placeholder 2\n",
      "Content Placeholder 2\n",
      "\n",
      "slide number18\n",
      "1, OBJECT (7)\n",
      "Content Placeholder 2\n",
      "Content Placeholder 2\n",
      "Content Placeholder 2\n",
      "Content Placeholder 2\n",
      "Content Placeholder 2\n",
      "Content Placeholder 2\n",
      "Content Placeholder 2\n",
      "Content Placeholder 2\n",
      "\n",
      "slide number19\n",
      "0, TITLE (1)\n",
      "Title 1\n",
      "1, OBJECT (7)\n",
      "Content Placeholder 2\n",
      "Content Placeholder 2\n",
      "Content Placeholder 2\n",
      "Content Placeholder 2\n",
      "Content Placeholder 2\n",
      "Content Placeholder 2\n",
      "Content Placeholder 2\n",
      "\n",
      "slide number20\n",
      "1, OBJECT (7)\n",
      "Content Placeholder 2\n",
      "Content Placeholder 2\n"
     ]
    },
    {
     "data": {
      "text/plain": [
       "22.0"
      ]
     },
     "metadata": {},
     "output_type": "display_data"
    },
    {
     "name": "stdout",
     "output_type": "stream",
     "text": [
      "Content Placeholder 2\n",
      "Content Placeholder 2\n",
      "Content Placeholder 2\n",
      "Content Placeholder 2\n",
      "Content Placeholder 2\n",
      "Content Placeholder 2\n",
      "\n",
      "slide number21\n",
      "1, OBJECT (7)\n",
      "Content Placeholder 2\n",
      "Content Placeholder 2\n",
      "Content Placeholder 2\n",
      "Content Placeholder 2\n",
      "Content Placeholder 2\n",
      "Content Placeholder 2\n",
      "\n",
      "slide number22\n",
      "0, TITLE (1)\n",
      "Title 1\n",
      "1, OBJECT (7)\n",
      "Content Placeholder 2\n",
      "Content Placeholder 2\n",
      "\n",
      "slide number23\n",
      "0, TITLE (1)\n",
      "Title 1\n",
      "1, OBJECT (7)\n",
      "Content Placeholder 2\n",
      "Content Placeholder 2\n",
      "Content Placeholder 2\n",
      "Content Placeholder 2\n",
      "Content Placeholder 2\n",
      "\n",
      "slide number24\n",
      "0, TITLE (1)\n",
      "Title 1\n",
      "1, OBJECT (7)\n",
      "Content Placeholder 2\n",
      "Content Placeholder 2\n",
      "Content Placeholder 2\n",
      "Content Placeholder 2\n",
      "\n",
      "slide number25\n",
      "0, TITLE (1)\n",
      "Title 1\n",
      "\n",
      "font name\n",
      "['Times New Roman', 'Arial']\n",
      "\n",
      "font size\n",
      "[32.0, 24.0, 36.0, 20.0, 28.0, 26.0, 30.0, 22.0]\n",
      "\n",
      "hyperlink\n",
      "[]\n",
      "\n",
      "color\n",
      "[(0, 0, 0)]\n",
      "\n",
      "number of font name\n",
      "3\n",
      "\n",
      "number of font size\n",
      "9\n",
      "\n",
      " number of hyperlink\n",
      "0\n",
      "\n",
      " number of color\n",
      "2\n",
      "\n",
      " number of pictures\n",
      "4\n",
      "\n",
      " number of chart\n",
      "0\n",
      "\n",
      " number of tables\n",
      "0\n",
      "\n",
      " maximum font size\n",
      "36.0\n",
      "\n",
      " minimum font size\n",
      "20.0\n",
      "e:\\ppt\\109.pptx\n",
      "\n",
      "slide number1\n",
      "1, SUBTITLE (4)\n",
      "Google Shape;455;p23\n"
     ]
    },
    {
     "data": {
      "text/plain": [
       "'Share Tech'"
      ]
     },
     "metadata": {},
     "output_type": "display_data"
    },
    {
     "name": "stdout",
     "output_type": "stream",
     "text": [
      "Google Shape;455;p23\n",
      "0, CENTER_TITLE (3)\n",
      "Google Shape;456;p23\n"
     ]
    },
    {
     "data": {
      "text/plain": [
       "38.0"
      ]
     },
     "metadata": {},
     "output_type": "display_data"
    },
    {
     "name": "stdout",
     "output_type": "stream",
     "text": [
      "Google Shape;456;p23\n",
      "\n",
      "slide number2\n",
      "1, BODY (2)\n",
      "Google Shape;461;p24\n"
     ]
    },
    {
     "data": {
      "text/plain": [
       "18.0"
      ]
     },
     "metadata": {},
     "output_type": "display_data"
    },
    {
     "name": "stdout",
     "output_type": "stream",
     "text": [
      "Google Shape;461;p24\n",
      "Google Shape;461;p24\n",
      "Google Shape;461;p24\n",
      "Google Shape;461;p24\n",
      "Google Shape;461;p24\n",
      "Google Shape;461;p24\n",
      "Google Shape;461;p24\n",
      "Google Shape;461;p24\n",
      "0, CENTER_TITLE (3)\n",
      "Google Shape;462;p24\n"
     ]
    },
    {
     "data": {
      "text/plain": [
       "32.0"
      ]
     },
     "metadata": {},
     "output_type": "display_data"
    },
    {
     "name": "stdout",
     "output_type": "stream",
     "text": [
      "\n",
      "slide number3\n",
      "1, BODY (2)\n",
      "Google Shape;467;p25\n",
      "Google Shape;467;p25\n",
      "Google Shape;467;p25\n",
      "Google Shape;467;p25\n",
      "Google Shape;467;p25\n",
      "0, CENTER_TITLE (3)\n",
      "Google Shape;468;p25\n",
      "\n",
      "slide number4\n",
      "4, CENTER_TITLE (3)\n",
      "Google Shape;479;p26\n",
      "\n",
      "slide number5\n",
      "8, CENTER_TITLE (3)\n",
      "Google Shape;487;p27\n",
      "Google Shape;501;p27\n",
      "Google Shape;503;p27\n",
      "Google Shape;505;p27\n",
      "Google Shape;507;p27\n",
      "Google Shape;511;p27\n",
      "Google Shape;512;p27\n",
      "Google Shape;513;p27\n",
      "\n",
      "slide number6\n",
      "8, CENTER_TITLE (3)\n",
      "Google Shape;518;p28\n",
      "\n",
      "slide number7\n",
      "0, CENTER_TITLE (3)\n",
      "Google Shape;525;p29\n",
      "\n",
      "slide number8\n",
      "0, CENTER_TITLE (3)\n",
      "Google Shape;532;p30\n",
      "Google Shape;533;p30\n",
      "Google Shape;533;p30\n",
      "Google Shape;533;p30\n",
      "\n",
      "slide number9\n",
      "0, CENTER_TITLE (3)\n",
      "Google Shape;540;p31\n",
      "Google Shape;541;p31\n",
      "Google Shape;541;p31\n",
      "Google Shape;541;p31\n",
      "Google Shape;541;p31\n",
      "Google Shape;541;p31\n",
      "Google Shape;541;p31\n",
      "Google Shape;541;p31\n",
      "\n",
      "slide number10\n",
      "0, CENTER_TITLE (3)\n",
      "Google Shape;548;p32\n",
      "Google Shape;549;p32\n",
      "\n",
      "slide number11\n",
      "0, CENTER_TITLE (3)\n",
      "Google Shape;557;p33\n",
      "Google Shape;558;p33\n",
      "Google Shape;558;p33\n",
      "\n",
      "slide number12\n",
      "0, CENTER_TITLE (3)\n",
      "Google Shape;566;p34\n",
      "Google Shape;567;p34\n",
      "Google Shape;567;p34\n",
      "Google Shape;567;p34\n",
      "Google Shape;567;p34\n",
      "Google Shape;567;p34\n",
      "Google Shape;567;p34\n",
      "Google Shape;567;p34\n",
      "\n",
      "slide number13\n",
      "0, CENTER_TITLE (3)\n",
      "Google Shape;574;p35\n",
      "Google Shape;575;p35\n",
      "Google Shape;575;p35\n",
      "Google Shape;575;p35\n",
      "\n",
      "slide number14\n",
      "0, CENTER_TITLE (3)\n",
      "Google Shape;582;p36\n"
     ]
    },
    {
     "data": {
      "text/plain": [
       "43.0"
      ]
     },
     "metadata": {},
     "output_type": "display_data"
    },
    {
     "name": "stdout",
     "output_type": "stream",
     "text": [
      "\n",
      "font name\n",
      "['Share Tech']\n",
      "\n",
      "font size\n",
      "[38.0, 18.0, 32.0, 43.0]\n",
      "\n",
      "hyperlink\n",
      "[]\n",
      "\n",
      "color\n",
      "[]\n",
      "\n",
      "number of font name\n",
      "2\n",
      "\n",
      "number of font size\n",
      "5\n",
      "\n",
      " number of hyperlink\n",
      "0\n",
      "\n",
      " number of color\n",
      "1\n",
      "\n",
      " number of pictures\n",
      "11\n",
      "\n",
      " number of chart\n",
      "0\n",
      "\n",
      " number of tables\n",
      "1\n",
      "\n",
      " maximum font size\n",
      "43.0\n",
      "\n",
      " minimum font size\n",
      "18.0\n",
      "e:\\ppt\\11.pptx\n",
      "\n",
      "slide number1\n",
      "0, CENTER_TITLE (3)\n",
      "Title 1\n",
      "Title 1\n",
      "1, SUBTITLE (4)\n",
      "Subtitle 2\n"
     ]
    },
    {
     "data": {
      "text/plain": [
       "56.0"
      ]
     },
     "metadata": {},
     "output_type": "display_data"
    },
    {
     "name": "stdout",
     "output_type": "stream",
     "text": [
      "Subtitle 2\n",
      "Subtitle 2\n",
      "Subtitle 2\n",
      "Subtitle 2\n",
      "Subtitle 2\n",
      "Subtitle 2\n",
      "Subtitle 2\n",
      "Subtitle 2\n",
      "Subtitle 2\n",
      "Subtitle 2\n",
      "Subtitle 2\n",
      "Subtitle 2\n",
      "Subtitle 2\n",
      "Subtitle 2\n",
      "Subtitle 2\n",
      "Subtitle 2\n",
      "\n",
      "slide number2\n",
      "0, TITLE (1)\n",
      "Title 1\n",
      "Title 1\n"
     ]
    },
    {
     "data": {
      "text/plain": [
       "44.0"
      ]
     },
     "metadata": {},
     "output_type": "display_data"
    },
    {
     "name": "stdout",
     "output_type": "stream",
     "text": [
      "Title 1\n",
      "1, OBJECT (7)\n",
      "Content Placeholder 2\n",
      "Content Placeholder 2\n",
      "Content Placeholder 2\n",
      "10, DATE (16)\n",
      "12, SLIDE_NUMBER (13)\n",
      "11, FOOTER (15)\n",
      "Footer Placeholder 5\n",
      "\n",
      "slide number3\n",
      "0, TITLE (1)\n",
      "Title 1\n",
      "Title 1\n",
      "Title 1\n",
      "1, OBJECT (7)\n",
      "Content Placeholder 2\n",
      "Content Placeholder 2\n",
      "Content Placeholder 2\n",
      "Content Placeholder 2\n",
      "Content Placeholder 2\n",
      "10, DATE (16)\n",
      "12, SLIDE_NUMBER (13)\n",
      "11, FOOTER (15)\n",
      "Footer Placeholder 5\n",
      "\n",
      "slide number4\n",
      "0, TITLE (1)\n",
      "Title 1\n"
     ]
    },
    {
     "data": {
      "text/plain": [
       "48.0"
      ]
     },
     "metadata": {},
     "output_type": "display_data"
    },
    {
     "name": "stdout",
     "output_type": "stream",
     "text": [
      "Title 1\n",
      "1, OBJECT (7)\n",
      "no textframe\n",
      "10, DATE (16)\n",
      "12, SLIDE_NUMBER (13)\n",
      "11, FOOTER (15)\n",
      "Footer Placeholder 5\n",
      "\n",
      "slide number5\n",
      "0, TITLE (1)\n",
      "Title 1\n",
      "Title 1\n",
      "1, OBJECT (7)\n",
      "no textframe\n",
      "10, DATE (16)\n",
      "12, SLIDE_NUMBER (13)\n",
      "11, FOOTER (15)\n",
      "Footer Placeholder 5\n",
      "\n",
      "slide number6\n",
      "0, TITLE (1)\n",
      "Title 1\n",
      "Title 1\n",
      "1, OBJECT (7)\n",
      "Content Placeholder 2\n",
      "Content Placeholder 2\n",
      "Content Placeholder 2\n",
      "Content Placeholder 2\n",
      "Content Placeholder 2\n",
      "Content Placeholder 2\n",
      "Content Placeholder 2\n",
      "Content Placeholder 2\n",
      "Content Placeholder 2\n",
      "Content Placeholder 2\n",
      "Content Placeholder 2\n",
      "Content Placeholder 2\n",
      "Content Placeholder 2\n",
      "Content Placeholder 2\n",
      "Content Placeholder 2\n",
      "Content Placeholder 2\n",
      "Content Placeholder 2\n",
      "Content Placeholder 2\n",
      "Content Placeholder 2\n",
      "Content Placeholder 2\n",
      "Content Placeholder 2\n",
      "Content Placeholder 2\n",
      "Content Placeholder 2\n",
      "10, DATE (16)\n",
      "12, SLIDE_NUMBER (13)\n",
      "11, FOOTER (15)\n",
      "Footer Placeholder 5\n",
      "\n",
      "font name\n",
      "[]\n",
      "\n",
      "font size\n",
      "[56.0, 44.0, 48.0]\n",
      "\n",
      "hyperlink\n",
      "[]\n",
      "\n",
      "color\n",
      "[]\n",
      "\n",
      "number of font name\n",
      "1\n",
      "\n",
      "number of font size\n",
      "4\n",
      "\n",
      " number of hyperlink\n",
      "0\n",
      "\n",
      " number of color\n",
      "1\n",
      "\n",
      " number of pictures\n",
      "0\n",
      "\n",
      " number of chart\n",
      "0\n",
      "\n",
      " number of tables\n",
      "0\n",
      "\n",
      " maximum font size\n",
      "56.0\n",
      "\n",
      " minimum font size\n",
      "44.0\n",
      "e:\\ppt\\13.pptx\n",
      "\n",
      "slide number1\n",
      "0, CENTER_TITLE (3)\n",
      "Title 3\n"
     ]
    },
    {
     "data": {
      "text/plain": [
       "'Times New Roman'"
      ]
     },
     "metadata": {},
     "output_type": "display_data"
    },
    {
     "name": "stdout",
     "output_type": "stream",
     "text": [
      "10, PICTURE (18)\n",
      "no textframe\n",
      "\n",
      "slide number2\n",
      "0, CENTER_TITLE (3)\n",
      "Title 3\n"
     ]
    },
    {
     "data": {
      "text/plain": [
       "40.0"
      ]
     },
     "metadata": {},
     "output_type": "display_data"
    },
    {
     "name": "stdout",
     "output_type": "stream",
     "text": [
      "1, SUBTITLE (4)\n",
      "Subtitle 4\n"
     ]
    },
    {
     "data": {
      "text/plain": [
       "24.0"
      ]
     },
     "metadata": {},
     "output_type": "display_data"
    },
    {
     "name": "stdout",
     "output_type": "stream",
     "text": [
      "Subtitle 4\n",
      "Subtitle 4\n",
      "Subtitle 4\n",
      "Subtitle 4\n",
      "14, SLIDE_NUMBER (13)\n",
      "10, PICTURE (18)\n",
      "no textframe\n",
      "\n",
      "slide number3\n",
      "0, TITLE (1)\n",
      "Title 1\n",
      "1, OBJECT (7)\n",
      "Content Placeholder 3\n"
     ]
    },
    {
     "data": {
      "text/plain": [
       "19.0"
      ]
     },
     "metadata": {},
     "output_type": "display_data"
    },
    {
     "name": "stdout",
     "output_type": "stream",
     "text": [
      "Content Placeholder 3\n",
      "Content Placeholder 3\n",
      "Content Placeholder 3\n",
      "Content Placeholder 3\n",
      "Content Placeholder 3\n",
      "Content Placeholder 3\n",
      "Content Placeholder 3\n",
      "13, PICTURE (18)\n",
      "no textframe\n",
      "15, SLIDE_NUMBER (13)\n",
      "\n",
      "slide number4\n",
      "0, TITLE (1)\n",
      "Title 1\n",
      "16, SLIDE_NUMBER (13)\n",
      "\n",
      "slide number5\n",
      "11, SLIDE_NUMBER (13)\n",
      "TextBox 10\n"
     ]
    },
    {
     "data": {
      "text/plain": [
       "32.0"
      ]
     },
     "metadata": {},
     "output_type": "display_data"
    },
    {
     "name": "stdout",
     "output_type": "stream",
     "text": [
      "\n",
      "slide number6\n",
      "0, TITLE (1)\n",
      "Title 11\n"
     ]
    },
    {
     "data": {
      "text/plain": [
       "36.0"
      ]
     },
     "metadata": {},
     "output_type": "display_data"
    },
    {
     "name": "stdout",
     "output_type": "stream",
     "text": [
      "1, OBJECT (7)\n",
      "Content Placeholder 12\n",
      "Content Placeholder 12\n",
      "Content Placeholder 12\n",
      "Content Placeholder 12\n",
      "Content Placeholder 12\n",
      "Content Placeholder 12\n",
      "Content Placeholder 12\n",
      "Content Placeholder 12\n",
      "14, SLIDE_NUMBER (13)\n",
      "\n",
      "slide number7\n",
      "0, TITLE (1)\n",
      "Title 1\n",
      "Title 1\n",
      "Title 1\n",
      "Title 1\n",
      "14, SLIDE_NUMBER (13)\n",
      "\n",
      "slide number8\n",
      "0, TITLE (1)\n",
      "Title 1\n",
      "Title 1\n",
      "Title 1\n",
      "Title 1\n",
      "Title 1\n",
      "Title 1\n",
      "14, SLIDE_NUMBER (13)\n",
      "\n",
      "slide number9\n",
      "0, TITLE (1)\n",
      "Title 1\n",
      "Title 1\n",
      "Title 1\n",
      "14, SLIDE_NUMBER (13)\n",
      "\n",
      "slide number10\n",
      "0, TITLE (1)\n",
      "Title 1\n",
      "Title 1\n",
      "Title 1\n",
      "14, SLIDE_NUMBER (13)\n",
      "\n",
      "slide number11\n",
      "0, TITLE (1)\n",
      "Title 11\n",
      "1, OBJECT (7)\n",
      "Content Placeholder 12\n",
      "Content Placeholder 12\n",
      "Content Placeholder 12\n",
      "Content Placeholder 12\n",
      "Content Placeholder 12\n",
      "14, SLIDE_NUMBER (13)\n",
      "\n",
      "slide number12\n",
      "12, BODY (2)\n",
      "Text Placeholder 4\n",
      "1, OBJECT (7)\n",
      "Content Placeholder 2\n",
      "Content Placeholder 2\n",
      "Content Placeholder 2\n",
      "Content Placeholder 2\n",
      "Content Placeholder 2\n",
      "Content Placeholder 2\n",
      "Content Placeholder 2\n",
      "Content Placeholder 2\n",
      "Content Placeholder 2\n",
      "Content Placeholder 2\n",
      "Content Placeholder 2\n",
      "Content Placeholder 2\n",
      "Content Placeholder 2\n",
      "Content Placeholder 2\n",
      "Content Placeholder 2\n",
      "Content Placeholder 2\n",
      "Content Placeholder 2\n",
      "Content Placeholder 2\n",
      "Content Placeholder 2\n",
      "Content Placeholder 2\n",
      "Content Placeholder 2\n",
      "Content Placeholder 2\n",
      "Content Placeholder 2\n",
      "Content Placeholder 2\n",
      "Content Placeholder 2\n",
      "Content Placeholder 2\n",
      "Content Placeholder 2\n",
      "Content Placeholder 2\n",
      "Content Placeholder 2\n",
      "Content Placeholder 2\n",
      "Content Placeholder 2\n",
      "14, SLIDE_NUMBER (13)\n",
      "\n",
      "slide number13\n",
      "0, CENTER_TITLE (3)\n",
      "Title 2\n",
      "14, PICTURE (18)\n",
      "no textframe\n",
      "\n",
      "font name\n",
      "['Times New Roman']\n",
      "\n",
      "font size\n",
      "[40.0, 24.0, 19.0, 32.0, 36.0]\n",
      "\n",
      "hyperlink\n",
      "[]\n",
      "\n",
      "color\n",
      "[]\n",
      "\n",
      "number of font name\n",
      "2\n",
      "\n",
      "number of font size\n",
      "6\n",
      "\n",
      " number of hyperlink\n",
      "0\n",
      "\n",
      " number of color\n",
      "1\n",
      "\n",
      " number of pictures\n",
      "6\n",
      "\n",
      " number of chart\n",
      "0\n",
      "\n",
      " number of tables\n",
      "1\n",
      "\n",
      " maximum font size\n",
      "40.0\n",
      "\n",
      " minimum font size\n",
      "19.0\n",
      "e:\\ppt\\14.pptx\n",
      "\n",
      "slide number1\n",
      "0, CENTER_TITLE (3)\n",
      "Title 1\n",
      "1, SUBTITLE (4)\n",
      "\n",
      "slide number2\n",
      "0, TITLE (1)\n",
      "Title 1\n",
      "1, OBJECT (7)\n",
      "Content Placeholder 2\n"
     ]
    },
    {
     "data": {
      "text/plain": [
       "24.0"
      ]
     },
     "metadata": {},
     "output_type": "display_data"
    },
    {
     "name": "stdout",
     "output_type": "stream",
     "text": [
      "Content Placeholder 2\n",
      "Content Placeholder 2\n",
      "Content Placeholder 2\n",
      "Content Placeholder 2\n",
      "\n",
      "slide number3\n",
      "0, TITLE (1)\n",
      "Title 1\n",
      "1, OBJECT (7)\n",
      "Content Placeholder 2\n",
      "\n",
      "slide number4\n",
      "0, TITLE (1)\n",
      "Title 1\n",
      "1, OBJECT (7)\n",
      "Content Placeholder 2\n",
      "Content Placeholder 2\n",
      "\n",
      "slide number5\n",
      "0, TITLE (1)\n",
      "Title 1\n",
      "1, OBJECT (7)\n",
      "Content Placeholder 2\n",
      "Content Placeholder 2\n",
      "Content Placeholder 2\n",
      "\n",
      "slide number6\n",
      "0, TITLE (1)\n",
      "Title 1\n",
      "1, OBJECT (7)\n",
      "Content Placeholder 2\n",
      "Content Placeholder 2\n",
      "Content Placeholder 2\n",
      "\n",
      "slide number7\n",
      "0, TITLE (1)\n",
      "Title 1\n",
      "1, OBJECT (7)\n",
      "no textframe\n",
      "\n",
      "slide number8\n",
      "0, TITLE (1)\n",
      "Title 1\n",
      "1, OBJECT (7)\n",
      "no textframe\n",
      "\n",
      "slide number9\n",
      "0, CENTER_TITLE (3)\n",
      "Title 1\n"
     ]
    },
    {
     "data": {
      "text/plain": [
       "32.0"
      ]
     },
     "metadata": {},
     "output_type": "display_data"
    },
    {
     "name": "stdout",
     "output_type": "stream",
     "text": [
      "1, SUBTITLE (4)\n",
      "\n",
      "slide number10\n",
      "0, TITLE (1)\n",
      "Title 1\n"
     ]
    },
    {
     "data": {
      "text/plain": [
       "28.0"
      ]
     },
     "metadata": {},
     "output_type": "display_data"
    },
    {
     "name": "stdout",
     "output_type": "stream",
     "text": [
      "1, OBJECT (7)\n",
      "\n",
      "slide number11\n",
      "0, TITLE (1)\n",
      "Title 1\n",
      "1, OBJECT (7)\n",
      "\n",
      "slide number12\n",
      "0, TITLE (1)\n",
      "Title 1\n",
      "1, OBJECT (7)\n",
      "\n",
      "slide number13\n",
      "0, TITLE (1)\n",
      "Title 1\n",
      "1, OBJECT (7)\n",
      "Content Placeholder 2\n",
      "Content Placeholder 2\n",
      "Content Placeholder 2\n",
      "Content Placeholder 2\n",
      "\n",
      "font name\n",
      "[]\n",
      "\n",
      "font size\n",
      "[24.0, 32.0, 28.0]\n",
      "\n",
      "hyperlink\n",
      "[]\n",
      "\n",
      "color\n",
      "[]\n",
      "\n",
      "number of font name\n",
      "1\n",
      "\n",
      "number of font size\n",
      "4\n",
      "\n",
      " number of hyperlink\n",
      "0\n",
      "\n",
      " number of color\n",
      "1\n",
      "\n",
      " number of pictures\n",
      "0\n",
      "\n",
      " number of chart\n",
      "0\n",
      "\n",
      " number of tables\n",
      "4\n",
      "\n",
      " maximum font size\n",
      "32.0\n",
      "\n",
      " minimum font size\n",
      "24.0\n",
      "e:\\ppt\\16.pptx\n",
      "\n",
      "slide number1\n",
      "0, CENTER_TITLE (3)\n",
      "Title 1\n"
     ]
    },
    {
     "data": {
      "text/plain": [
       "'Times New Roman'"
      ]
     },
     "metadata": {},
     "output_type": "display_data"
    },
    {
     "data": {
      "text/plain": [
       "32.0"
      ]
     },
     "metadata": {},
     "output_type": "display_data"
    },
    {
     "name": "stdout",
     "output_type": "stream",
     "text": [
      "1, SUBTITLE (4)\n",
      "Subtitle 2\n"
     ]
    },
    {
     "data": {
      "text/plain": [
       "20.0"
      ]
     },
     "metadata": {},
     "output_type": "display_data"
    },
    {
     "name": "stdout",
     "output_type": "stream",
     "text": [
      "Subtitle 2\n",
      "Subtitle 2\n",
      "Subtitle 2\n",
      "Subtitle 2\n",
      "TextBox 6\n",
      "TextBox 6\n",
      "\n",
      "slide number2\n",
      "1, OBJECT (7)\n",
      "Content Placeholder 2\n",
      "Content Placeholder 2\n",
      "Content Placeholder 2\n",
      "Content Placeholder 2\n"
     ]
    },
    {
     "data": {
      "text/plain": [
       "24.0"
      ]
     },
     "metadata": {},
     "output_type": "display_data"
    },
    {
     "name": "stdout",
     "output_type": "stream",
     "text": [
      "Content Placeholder 2\n",
      "Content Placeholder 2\n",
      "Content Placeholder 2\n",
      "Content Placeholder 2\n",
      "Content Placeholder 2\n",
      "Content Placeholder 2\n",
      "0, TITLE (1)\n",
      "Title 1\n",
      "Title 1\n",
      "\n",
      "slide number3\n",
      "1, OBJECT (7)\n",
      "Content Placeholder 2\n",
      "Content Placeholder 2\n",
      "Content Placeholder 2\n",
      "Content Placeholder 2\n",
      "0, TITLE (1)\n",
      "Title 1\n",
      "\n",
      "slide number4\n",
      "1, OBJECT (7)\n",
      "0, TITLE (1)\n",
      "Title 1\n",
      "\n",
      "slide number5\n",
      "1, OBJECT (7)\n",
      "0, TITLE (1)\n",
      "Title 1\n",
      "\n",
      "slide number6\n",
      "1, OBJECT (7)\n",
      "no textframe\n",
      "0, TITLE (1)\n",
      "Title 1\n",
      "\n",
      "slide number7\n",
      "1, OBJECT (7)\n",
      "Content Placeholder 2\n"
     ]
    },
    {
     "data": {
      "text/plain": [
       "18.0"
      ]
     },
     "metadata": {},
     "output_type": "display_data"
    },
    {
     "name": "stdout",
     "output_type": "stream",
     "text": [
      "Content Placeholder 2\n",
      "Content Placeholder 2\n",
      "Content Placeholder 2\n",
      "Content Placeholder 2\n",
      "Content Placeholder 2\n",
      "Content Placeholder 2\n",
      "Content Placeholder 2\n",
      "Content Placeholder 2\n",
      "Content Placeholder 2\n",
      "Content Placeholder 2\n",
      "Content Placeholder 2\n",
      "0, TITLE (1)\n",
      "Title 1\n",
      "Title 1\n",
      "\n",
      "font name\n",
      "['Times New Roman']\n",
      "\n",
      "font size\n",
      "[32.0, 20.0, 24.0, 18.0]\n",
      "\n",
      "hyperlink\n",
      "[]\n",
      "\n",
      "color\n",
      "[]\n",
      "\n",
      "number of font name\n",
      "2\n",
      "\n",
      "number of font size\n",
      "5\n",
      "\n",
      " number of hyperlink\n",
      "0\n",
      "\n",
      " number of color\n",
      "1\n",
      "\n",
      " number of pictures\n",
      "0\n",
      "\n",
      " number of chart\n",
      "0\n",
      "\n",
      " number of tables\n",
      "2\n",
      "\n",
      " maximum font size\n",
      "32.0\n",
      "\n",
      " minimum font size\n",
      "18.0\n",
      "e:\\ppt\\17.pptx\n",
      "\n",
      "slide number1\n",
      "0, TITLE (1)\n",
      "1, OBJECT (7)\n",
      "no textframe\n",
      "10, DATE (16)\n",
      "12, SLIDE_NUMBER (13)\n",
      "11, FOOTER (15)\n",
      "Footer Placeholder 10\n",
      "\n",
      "slide number2\n",
      "TextBox 2\n"
     ]
    },
    {
     "data": {
      "text/plain": [
       "24.0"
      ]
     },
     "metadata": {},
     "output_type": "display_data"
    },
    {
     "name": "stdout",
     "output_type": "stream",
     "text": [
      "TextBox 2\n",
      "TextBox 2\n",
      "TextBox 2\n",
      "TextBox 2\n",
      "TextBox 2\n",
      "TextBox 2\n",
      "10, DATE (16)\n",
      "12, SLIDE_NUMBER (13)\n",
      "11, FOOTER (15)\n",
      "Footer Placeholder 5\n",
      "\n",
      "slide number3\n",
      "1, OBJECT (7)\n",
      "Content Placeholder 2\n",
      "Content Placeholder 2\n",
      "Content Placeholder 2\n",
      "Content Placeholder 2\n",
      "Content Placeholder 2\n",
      "10, DATE (16)\n",
      "12, SLIDE_NUMBER (13)\n",
      "11, FOOTER (15)\n",
      "Footer Placeholder 6\n",
      "\n",
      "slide number4\n",
      "10, DATE (16)\n",
      "12, SLIDE_NUMBER (13)\n",
      "11, FOOTER (15)\n",
      "Footer Placeholder 7\n",
      "\n",
      "slide number5\n",
      "TextBox 2\n",
      "TextBox 2\n",
      "TextBox 2\n",
      "TextBox 2\n",
      "TextBox 2\n",
      "TextBox 2\n",
      "10, DATE (16)\n",
      "12, SLIDE_NUMBER (13)\n",
      "11, FOOTER (15)\n",
      "Footer Placeholder 6\n",
      "\n",
      "slide number6\n",
      "10, DATE (16)\n",
      "12, SLIDE_NUMBER (13)\n",
      "11, FOOTER (15)\n",
      "Footer Placeholder 6\n",
      "\n",
      "slide number7\n",
      "10, DATE (16)\n",
      "12, SLIDE_NUMBER (13)\n",
      "11, FOOTER (15)\n",
      "Footer Placeholder 6\n",
      "\n",
      "slide number8\n",
      "10, DATE (16)\n",
      "12, SLIDE_NUMBER (13)\n",
      "11, FOOTER (15)\n",
      "Footer Placeholder 5\n",
      "\n",
      "slide number9\n",
      "10, DATE (16)\n",
      "12, SLIDE_NUMBER (13)\n",
      "11, FOOTER (15)\n",
      "Footer Placeholder 31\n",
      "\n",
      "slide number10\n",
      "1, OBJECT (7)\n",
      "Content Placeholder 2\n",
      "Content Placeholder 2\n",
      "Content Placeholder 2\n",
      "10, DATE (16)\n",
      "12, SLIDE_NUMBER (13)\n",
      "11, FOOTER (15)\n",
      "Footer Placeholder 6\n",
      "\n",
      "slide number11\n",
      "1, OBJECT (7)\n",
      "Content Placeholder 2\n",
      "Content Placeholder 2\n",
      "Content Placeholder 2\n",
      "10, DATE (16)\n",
      "12, SLIDE_NUMBER (13)\n",
      "11, FOOTER (15)\n",
      "Footer Placeholder 6\n",
      "\n",
      "slide number12\n",
      "TextBox 2\n",
      "TextBox 2\n",
      "TextBox 2\n",
      "TextBox 2\n",
      "TextBox 2\n",
      "TextBox 2\n",
      "TextBox 2\n",
      "TextBox 2\n",
      "10, DATE (16)\n",
      "12, SLIDE_NUMBER (13)\n",
      "11, FOOTER (15)\n",
      "Footer Placeholder 5\n",
      "\n",
      "font name\n",
      "[]\n",
      "\n",
      "font size\n",
      "[24.0]\n",
      "\n",
      "hyperlink\n",
      "[]\n",
      "\n",
      "color\n",
      "[]\n",
      "\n",
      "number of font name\n",
      "1\n",
      "\n",
      "number of font size\n",
      "2\n",
      "\n",
      " number of hyperlink\n",
      "0\n",
      "\n",
      " number of color\n",
      "1\n",
      "\n",
      " number of pictures\n",
      "1\n",
      "\n",
      " number of chart\n",
      "0\n",
      "\n",
      " number of tables\n",
      "4\n",
      "\n",
      " maximum font size\n",
      "24.0\n",
      "\n",
      " minimum font size\n",
      "24.0\n",
      "e:\\ppt\\18.pptx\n",
      "\n",
      "slide number1\n",
      "0, CENTER_TITLE (3)\n",
      "Title 3\n"
     ]
    },
    {
     "data": {
      "text/plain": [
       "'Times New Roman'"
      ]
     },
     "metadata": {},
     "output_type": "display_data"
    },
    {
     "data": {
      "text/plain": [
       "66.0"
      ]
     },
     "metadata": {},
     "output_type": "display_data"
    },
    {
     "name": "stdout",
     "output_type": "stream",
     "text": [
      "1, SUBTITLE (4)\n",
      "Subtitle 4\n",
      "Subtitle 4\n",
      "Subtitle 4\n",
      "Subtitle 4\n",
      "Subtitle 4\n",
      "Subtitle 4\n",
      "Subtitle 4\n",
      "Subtitle 4\n",
      "\n",
      "slide number2\n",
      "0, CENTER_TITLE (3)\n",
      "Title 3\n",
      "1, SUBTITLE (4)\n",
      "Subtitle 4\n"
     ]
    },
    {
     "data": {
      "text/plain": [
       "18.0"
      ]
     },
     "metadata": {},
     "output_type": "display_data"
    },
    {
     "name": "stdout",
     "output_type": "stream",
     "text": [
      "Subtitle 4\n",
      "\n",
      "slide number3\n",
      "0, CENTER_TITLE (3)\n",
      "Title 3\n",
      "1, SUBTITLE (4)\n",
      "Subtitle 4\n",
      "Subtitle 4\n",
      "Subtitle 4\n",
      "Subtitle 4\n",
      "Subtitle 4\n",
      "\n",
      "slide number4\n",
      "0, CENTER_TITLE (3)\n",
      "Title 3\n",
      "1, SUBTITLE (4)\n",
      "Subtitle 4\n",
      "Subtitle 4\n",
      "Subtitle 4\n",
      "\n",
      "slide number5\n",
      "0, CENTER_TITLE (3)\n",
      "Title 3\n"
     ]
    },
    {
     "data": {
      "text/plain": [
       "54.0"
      ]
     },
     "metadata": {},
     "output_type": "display_data"
    },
    {
     "name": "stdout",
     "output_type": "stream",
     "text": [
      "1, SUBTITLE (4)\n",
      "\n",
      "slide number6\n",
      "0, TITLE (1)\n",
      "Title 1\n",
      "1, OBJECT (7)\n",
      "no textframe\n",
      "\n",
      "slide number7\n",
      "0, CENTER_TITLE (3)\n",
      "Title 3\n"
     ]
    },
    {
     "data": {
      "text/plain": [
       "24.0"
      ]
     },
     "metadata": {},
     "output_type": "display_data"
    },
    {
     "name": "stdout",
     "output_type": "stream",
     "text": [
      "1, SUBTITLE (4)\n",
      "Subtitle 4\n",
      "\n",
      "slide number8\n",
      "\n",
      "slide number9\n",
      "\n",
      "slide number10\n",
      "\n",
      "font name\n",
      "['Times New Roman']\n",
      "\n",
      "font size\n",
      "[66.0, 18.0, 54.0, 24.0]\n",
      "\n",
      "hyperlink\n",
      "[]\n",
      "\n",
      "color\n",
      "[(255, 192, 0)]\n",
      "\n",
      "number of font name\n",
      "2\n",
      "\n",
      "number of font size\n",
      "5\n",
      "\n",
      " number of hyperlink\n",
      "0\n",
      "\n",
      " number of color\n",
      "2\n",
      "\n",
      " number of pictures\n",
      "8\n",
      "\n",
      " number of chart\n",
      "0\n",
      "\n",
      " number of tables\n",
      "1\n",
      "\n",
      " maximum font size\n",
      "66.0\n",
      "\n",
      " minimum font size\n",
      "18.0\n",
      "e:\\ppt\\19.pptx\n",
      "\n",
      "slide number1\n",
      "0, TITLE (1)\n",
      "Title 3\n",
      "Title 3\n",
      "Title 3\n",
      "Title 3\n",
      "Title 3\n",
      "Title 3\n",
      "Title 3\n",
      "Title 3\n",
      "Title 3\n",
      "Title 3\n",
      "Title 3\n",
      "Title 3\n"
     ]
    },
    {
     "data": {
      "text/plain": [
       "22.0"
      ]
     },
     "metadata": {},
     "output_type": "display_data"
    },
    {
     "name": "stdout",
     "output_type": "stream",
     "text": [
      "Title 3\n",
      "Title 3\n",
      "Title 3\n",
      "Title 3\n",
      "TextBox 1\n",
      "TextBox 1\n",
      "TextBox 1\n",
      "TextBox 1\n",
      "TextBox 1\n",
      "TextBox 1\n",
      "TextBox 1\n",
      "TextBox 1\n",
      "TextBox 1\n",
      "TextBox 1\n",
      "TextBox 1\n",
      "TextBox 1\n",
      "TextBox 1\n",
      "\n",
      "slide number2\n",
      "0, TITLE (1)\n",
      "Title 2\n",
      "1, OBJECT (7)\n",
      "Content Placeholder 3\n"
     ]
    },
    {
     "data": {
      "text/plain": [
       "'Times New Roman'"
      ]
     },
     "metadata": {},
     "output_type": "display_data"
    },
    {
     "name": "stdout",
     "output_type": "stream",
     "text": [
      "Content Placeholder 3\n",
      "Content Placeholder 3\n",
      "Content Placeholder 3\n",
      "Content Placeholder 3\n",
      "Content Placeholder 3\n",
      "Content Placeholder 3\n",
      "Content Placeholder 3\n",
      "Content Placeholder 3\n",
      "Content Placeholder 3\n",
      "Content Placeholder 3\n",
      "\n",
      "slide number3\n",
      "0, TITLE (1)\n",
      "Title 1\n",
      "1, OBJECT (7)\n",
      "Content Placeholder 2\n",
      "Content Placeholder 2\n"
     ]
    },
    {
     "data": {
      "text/plain": [
       "20.0"
      ]
     },
     "metadata": {},
     "output_type": "display_data"
    },
    {
     "name": "stdout",
     "output_type": "stream",
     "text": [
      "Content Placeholder 2\n",
      "Content Placeholder 2\n",
      "\n",
      "slide number4\n",
      "0, TITLE (1)\n",
      "Title 1\n",
      "1, OBJECT (7)\n",
      "Content Placeholder 2\n",
      "Content Placeholder 2\n",
      "Content Placeholder 2\n",
      "Content Placeholder 2\n",
      "Content Placeholder 2\n",
      "\n",
      "slide number5\n",
      "0, TITLE (1)\n",
      "Title 1\n",
      "\n",
      "slide number6\n",
      "0, TITLE (1)\n",
      "Title 1\n",
      "1, BODY (2)\n",
      "Text Placeholder 5\n",
      "2, OBJECT (7)\n",
      "Content Placeholder 6\n",
      "Content Placeholder 6\n",
      "Content Placeholder 6\n",
      "Content Placeholder 6\n",
      "Content Placeholder 6\n",
      "Content Placeholder 6\n",
      "\n",
      "slide number7\n",
      "\n",
      "slide number8\n",
      "TextBox 1\n",
      "\n",
      "slide number9\n",
      "TextBox 2\n"
     ]
    },
    {
     "data": {
      "text/plain": [
       "24.0"
      ]
     },
     "metadata": {},
     "output_type": "display_data"
    },
    {
     "name": "stdout",
     "output_type": "stream",
     "text": [
      "\n",
      "slide number10\n",
      "\n",
      "slide number11\n",
      "TextBox 1\n"
     ]
    },
    {
     "data": {
      "text/plain": [
       "54.0"
      ]
     },
     "metadata": {},
     "output_type": "display_data"
    },
    {
     "name": "stdout",
     "output_type": "stream",
     "text": [
      "\n",
      "font name\n",
      "['Times New Roman']\n",
      "\n",
      "font size\n",
      "[22.0, 20.0, 24.0, 54.0]\n",
      "\n",
      "hyperlink\n",
      "[]\n",
      "\n",
      "color\n",
      "[]\n",
      "\n",
      "number of font name\n",
      "2\n",
      "\n",
      "number of font size\n",
      "5\n",
      "\n",
      " number of hyperlink\n",
      "0\n",
      "\n",
      " number of color\n",
      "1\n",
      "\n",
      " number of pictures\n",
      "3\n",
      "\n",
      " number of chart\n",
      "0\n",
      "\n",
      " number of tables\n",
      "1\n",
      "\n",
      " maximum font size\n",
      "54.0\n",
      "\n",
      " minimum font size\n",
      "20.0\n",
      "e:\\ppt\\20.pptx\n",
      "\n",
      "slide number1\n",
      "0, CENTER_TITLE (3)\n",
      "Title 1\n"
     ]
    },
    {
     "data": {
      "text/plain": [
       "'Times New Roman'"
      ]
     },
     "metadata": {},
     "output_type": "display_data"
    },
    {
     "name": "stdout",
     "output_type": "stream",
     "text": [
      "1, SUBTITLE (4)\n",
      "Subtitle 2\n",
      "Subtitle 2\n",
      "Subtitle 2\n",
      "Subtitle 2\n",
      "Subtitle 2\n",
      "Subtitle 2\n",
      "Subtitle 2\n",
      "Subtitle 2\n",
      "Subtitle 2\n",
      "Subtitle 2\n",
      "Subtitle 2\n",
      "Subtitle 2\n",
      "Subtitle 2\n",
      "Subtitle 2\n",
      "Subtitle 2\n",
      "Subtitle 2\n",
      "\n",
      "slide number2\n",
      "0, TITLE (1)\n",
      "Title 1\n"
     ]
    },
    {
     "data": {
      "text/plain": [
       "36.0"
      ]
     },
     "metadata": {},
     "output_type": "display_data"
    },
    {
     "name": "stdout",
     "output_type": "stream",
     "text": [
      "1, OBJECT (7)\n",
      "Content Placeholder 2\n"
     ]
    },
    {
     "data": {
      "text/plain": [
       "22.0"
      ]
     },
     "metadata": {},
     "output_type": "display_data"
    },
    {
     "name": "stdout",
     "output_type": "stream",
     "text": [
      "Content Placeholder 2\n",
      "Content Placeholder 2\n",
      "Content Placeholder 2\n",
      "Content Placeholder 2\n",
      "Content Placeholder 2\n",
      "Content Placeholder 2\n",
      "Content Placeholder 2\n",
      "Content Placeholder 2\n",
      "Content Placeholder 2\n",
      "Content Placeholder 2\n",
      "Content Placeholder 2\n",
      "Content Placeholder 2\n",
      "Content Placeholder 2\n",
      "Content Placeholder 2\n",
      "Content Placeholder 2\n",
      "\n",
      "slide number3\n",
      "0, TITLE (1)\n",
      "Title 1\n",
      "1, OBJECT (7)\n",
      "Content Placeholder 2\n",
      "Content Placeholder 2\n",
      "Content Placeholder 2\n",
      "Content Placeholder 2\n",
      "Content Placeholder 2\n",
      "Content Placeholder 2\n",
      "Content Placeholder 2\n",
      "Content Placeholder 2\n",
      "Content Placeholder 2\n",
      "Content Placeholder 2\n",
      "Content Placeholder 2\n",
      "Content Placeholder 2\n",
      "Content Placeholder 2\n",
      "Content Placeholder 2\n",
      "Content Placeholder 2\n",
      "Content Placeholder 2\n",
      "Content Placeholder 2\n",
      "Content Placeholder 2\n",
      "Content Placeholder 2\n",
      "Content Placeholder 2\n",
      "Content Placeholder 2\n",
      "Content Placeholder 2\n",
      "Content Placeholder 2\n",
      "Content Placeholder 2\n",
      "Content Placeholder 2\n",
      "Content Placeholder 2\n",
      "Content Placeholder 2\n",
      "Content Placeholder 2\n",
      "Content Placeholder 2\n",
      "\n",
      "slide number4\n",
      "0, TITLE (1)\n",
      "Title 1\n"
     ]
    },
    {
     "data": {
      "text/plain": [
       "32.0"
      ]
     },
     "metadata": {},
     "output_type": "display_data"
    },
    {
     "name": "stdout",
     "output_type": "stream",
     "text": [
      "Title 1\n",
      "Title 1\n",
      "Title 1\n",
      "1, OBJECT (7)\n",
      "Content Placeholder 2\n",
      "Content Placeholder 2\n",
      "Content Placeholder 2\n",
      "Content Placeholder 2\n",
      "Content Placeholder 2\n"
     ]
    },
    {
     "data": {
      "text/plain": [
       "24.0"
      ]
     },
     "metadata": {},
     "output_type": "display_data"
    },
    {
     "name": "stdout",
     "output_type": "stream",
     "text": [
      "Content Placeholder 2\n",
      "Content Placeholder 2\n",
      "Content Placeholder 2\n",
      "Content Placeholder 2\n",
      "Content Placeholder 2\n",
      "Content Placeholder 2\n",
      "Content Placeholder 2\n",
      "Content Placeholder 2\n",
      "Content Placeholder 2\n",
      "\n",
      "slide number5\n",
      "0, TITLE (1)\n",
      "Title 3\n",
      "\n",
      "slide number6\n",
      "0, TITLE (1)\n",
      "Title 3\n",
      "\n",
      "slide number7\n",
      "0, TITLE (1)\n",
      "Title 1\n",
      "1, OBJECT (7)\n",
      "Content Placeholder 2\n",
      "Content Placeholder 2\n",
      "Content Placeholder 2\n",
      "Content Placeholder 2\n",
      "Content Placeholder 2\n",
      "Content Placeholder 2\n",
      "Content Placeholder 2\n",
      "Content Placeholder 2\n",
      "\n",
      "slide number8\n",
      "0, TITLE (1)\n",
      "Title 1\n",
      "Title 1\n",
      "1, OBJECT (7)\n",
      "Content Placeholder 2\n",
      "Content Placeholder 2\n",
      "Content Placeholder 2\n",
      "Content Placeholder 2\n",
      "Content Placeholder 2\n",
      "Content Placeholder 2\n",
      "Content Placeholder 2\n",
      "Content Placeholder 2\n",
      "Content Placeholder 2\n",
      "Content Placeholder 2\n",
      "Content Placeholder 2\n",
      "Content Placeholder 2\n",
      "Content Placeholder 2\n",
      "Content Placeholder 2\n",
      "Content Placeholder 2\n",
      "Content Placeholder 2\n",
      "Content Placeholder 2\n",
      "Content Placeholder 2\n",
      "Content Placeholder 2\n",
      "Content Placeholder 2\n",
      "Content Placeholder 2\n",
      "Content Placeholder 2\n",
      "Content Placeholder 2\n",
      "Content Placeholder 2\n",
      "Content Placeholder 2\n",
      "Content Placeholder 2\n",
      "Content Placeholder 2\n",
      "\n",
      "slide number9\n",
      "0, TITLE (1)\n",
      "Title 3\n",
      "\n",
      "slide number10\n",
      "\n",
      "slide number11\n",
      "0, TITLE (1)\n",
      "Title 1\n",
      "Title 1\n",
      "1, OBJECT (7)\n",
      "Content Placeholder 2\n",
      "Content Placeholder 2\n",
      "Content Placeholder 2\n",
      "Content Placeholder 2\n",
      "Content Placeholder 2\n",
      "Content Placeholder 2\n",
      "Content Placeholder 2\n",
      "Content Placeholder 2\n",
      "Content Placeholder 2\n",
      "Content Placeholder 2\n",
      "\n",
      "slide number12\n",
      "0, TITLE (1)\n",
      "Title 1\n"
     ]
    },
    {
     "data": {
      "text/plain": [
       "88.0"
      ]
     },
     "metadata": {},
     "output_type": "display_data"
    },
    {
     "name": "stdout",
     "output_type": "stream",
     "text": [
      "Title 1\n",
      "\n",
      "font name\n",
      "['Times New Roman']\n",
      "\n",
      "font size\n",
      "[36.0, 22.0, 32.0, 24.0, 88.0]\n",
      "\n",
      "hyperlink\n",
      "[]\n",
      "\n",
      "color\n",
      "[]\n",
      "\n",
      "number of font name\n",
      "2\n",
      "\n",
      "number of font size\n",
      "6\n",
      "\n",
      " number of hyperlink\n",
      "0\n",
      "\n",
      " number of color\n",
      "1\n",
      "\n",
      " number of pictures\n",
      "10\n",
      "\n",
      " number of chart\n",
      "0\n",
      "\n",
      " number of tables\n",
      "0\n",
      "\n",
      " maximum font size\n",
      "88.0\n",
      "\n",
      " minimum font size\n",
      "22.0\n",
      "e:\\ppt\\21.pptx\n",
      "\n",
      "slide number1\n",
      "0, CENTER_TITLE (3)\n",
      "Title 1\n"
     ]
    },
    {
     "data": {
      "text/plain": [
       "'Times New Roman'"
      ]
     },
     "metadata": {},
     "output_type": "display_data"
    },
    {
     "name": "stdout",
     "output_type": "stream",
     "text": [
      "1, SUBTITLE (4)\n",
      "Subtitle 2\n"
     ]
    },
    {
     "data": {
      "text/plain": [
       "20.0"
      ]
     },
     "metadata": {},
     "output_type": "display_data"
    },
    {
     "name": "stdout",
     "output_type": "stream",
     "text": [
      "Subtitle 2\n",
      "Subtitle 2\n",
      "Subtitle 2\n",
      "Subtitle 2\n",
      "Subtitle 2\n",
      "Subtitle 2\n",
      "Subtitle 2\n",
      "Subtitle 2\n",
      "Subtitle 2\n",
      "\n",
      "slide number2\n",
      "0, TITLE (1)\n",
      "Title 1\n",
      "1, OBJECT (7)\n",
      "Content Placeholder 2\n",
      "Content Placeholder 2\n",
      "Content Placeholder 2\n",
      "Content Placeholder 2\n",
      "Content Placeholder 2\n",
      "Content Placeholder 2\n",
      "Content Placeholder 2\n",
      "Content Placeholder 2\n",
      "Content Placeholder 2\n",
      "Content Placeholder 2\n",
      "Content Placeholder 2\n",
      "Content Placeholder 2\n",
      "Content Placeholder 2\n",
      "Content Placeholder 2\n",
      "Content Placeholder 2\n",
      "Content Placeholder 2\n",
      "Content Placeholder 2\n",
      "Content Placeholder 2\n",
      "Content Placeholder 2\n",
      "Content Placeholder 2\n",
      "Content Placeholder 2\n",
      "Content Placeholder 2\n",
      "Content Placeholder 2\n",
      "Content Placeholder 2\n",
      "Content Placeholder 2\n",
      "Content Placeholder 2\n",
      "Content Placeholder 2\n",
      "Content Placeholder 2\n",
      "10, DATE (16)\n",
      "12, SLIDE_NUMBER (13)\n",
      "11, FOOTER (15)\n",
      "Footer Placeholder 5\n",
      "\n",
      "slide number3\n",
      "0, TITLE (1)\n",
      "Title 1\n",
      "1, OBJECT (7)\n",
      "Content Placeholder 2\n",
      "Content Placeholder 2\n",
      "Content Placeholder 2\n",
      "Content Placeholder 2\n",
      "Content Placeholder 2\n",
      "Content Placeholder 2\n",
      "Content Placeholder 2\n",
      "Content Placeholder 2\n",
      "Content Placeholder 2\n",
      "Content Placeholder 2\n",
      "Content Placeholder 2\n",
      "Content Placeholder 2\n",
      "Content Placeholder 2\n",
      "Content Placeholder 2\n",
      "10, DATE (16)\n",
      "12, SLIDE_NUMBER (13)\n",
      "11, FOOTER (15)\n",
      "Footer Placeholder 5\n",
      "\n",
      "slide number4\n",
      "0, TITLE (1)\n",
      "Title 1\n",
      "1, OBJECT (7)\n",
      "10, DATE (16)\n",
      "12, SLIDE_NUMBER (13)\n",
      "11, FOOTER (15)\n",
      "Footer Placeholder 6\n",
      "\n",
      "slide number5\n",
      "0, TITLE (1)\n",
      "Title 1\n",
      "Title 1\n",
      "1, OBJECT (7)\n",
      "Content Placeholder 2\n"
     ]
    },
    {
     "data": {
      "text/plain": [
       "18.0"
      ]
     },
     "metadata": {},
     "output_type": "display_data"
    },
    {
     "name": "stdout",
     "output_type": "stream",
     "text": [
      "Content Placeholder 2\n",
      "Content Placeholder 2\n",
      "Content Placeholder 2\n",
      "Content Placeholder 2\n",
      "Content Placeholder 2\n",
      "Content Placeholder 2\n",
      "10, DATE (16)\n",
      "12, SLIDE_NUMBER (13)\n",
      "11, FOOTER (15)\n",
      "Footer Placeholder 5\n",
      "\n",
      "slide number6\n",
      "0, TITLE (1)\n",
      "Title 1\n",
      "1, OBJECT (7)\n",
      "no textframe\n",
      "10, DATE (16)\n",
      "12, SLIDE_NUMBER (13)\n",
      "11, FOOTER (15)\n",
      "Footer Placeholder 6\n",
      "\n",
      "slide number7\n",
      "0, TITLE (1)\n",
      "Title 1\n",
      "1, OBJECT (7)\n",
      "10, DATE (16)\n",
      "12, SLIDE_NUMBER (13)\n",
      "11, FOOTER (15)\n",
      "Footer Placeholder 7\n",
      "\n",
      "slide number8\n",
      "0, TITLE (1)\n",
      "Title 1\n",
      "1, OBJECT (7)\n",
      "10, DATE (16)\n",
      "12, SLIDE_NUMBER (13)\n",
      "11, FOOTER (15)\n",
      "Footer Placeholder 6\n",
      "\n",
      "slide number9\n",
      "0, TITLE (1)\n",
      "Title 1\n",
      "1, OBJECT (7)\n",
      "no textframe\n",
      "10, DATE (16)\n",
      "12, SLIDE_NUMBER (13)\n",
      "11, FOOTER (15)\n",
      "Footer Placeholder 6\n",
      "\n",
      "slide number10\n",
      "0, TITLE (1)\n",
      "Title 1\n",
      "1, OBJECT (7)\n",
      "no textframe\n",
      "10, DATE (16)\n",
      "12, SLIDE_NUMBER (13)\n",
      "11, FOOTER (15)\n",
      "Footer Placeholder 6\n",
      "\n",
      "slide number11\n",
      "0, TITLE (1)\n",
      "Title 1\n",
      "1, OBJECT (7)\n",
      "no textframe\n",
      "10, DATE (16)\n",
      "12, SLIDE_NUMBER (13)\n",
      "11, FOOTER (15)\n",
      "Footer Placeholder 6\n",
      "\n",
      "slide number12\n",
      "0, TITLE (1)\n",
      "Title 1\n",
      "1, OBJECT (7)\n",
      "Content Placeholder 3\n",
      "10, DATE (16)\n",
      "12, SLIDE_NUMBER (13)\n",
      "11, FOOTER (15)\n",
      "Footer Placeholder 7\n",
      "\n",
      "slide number13\n",
      "0, TITLE (1)\n",
      "Title 1\n"
     ]
    },
    {
     "data": {
      "text/plain": [
       "36.0"
      ]
     },
     "metadata": {},
     "output_type": "display_data"
    },
    {
     "name": "stdout",
     "output_type": "stream",
     "text": [
      "1, OBJECT (7)\n",
      "Content Placeholder 2\n",
      "10, DATE (16)\n",
      "12, SLIDE_NUMBER (13)\n",
      "11, FOOTER (15)\n",
      "Footer Placeholder 6\n",
      "\n",
      "slide number14\n",
      "0, TITLE (1)\n",
      "Title 1\n",
      "1, OBJECT (7)\n",
      "Content Placeholder 2\n",
      "10, DATE (16)\n",
      "12, SLIDE_NUMBER (13)\n",
      "11, FOOTER (15)\n",
      "Footer Placeholder 6\n",
      "\n",
      "slide number15\n",
      "0, TITLE (1)\n",
      "Title 1\n",
      "1, OBJECT (7)\n",
      "10, DATE (16)\n",
      "12, SLIDE_NUMBER (13)\n",
      "11, FOOTER (15)\n",
      "Footer Placeholder 8\n",
      "\n",
      "slide number16\n",
      "0, TITLE (1)\n",
      "Title 1\n",
      "1, OBJECT (7)\n",
      "no textframe\n",
      "10, DATE (16)\n",
      "12, SLIDE_NUMBER (13)\n",
      "11, FOOTER (15)\n",
      "Footer Placeholder 5\n",
      "\n",
      "slide number17\n",
      "0, TITLE (1)\n",
      "Title 1\n",
      "1, OBJECT (7)\n",
      "no textframe\n",
      "10, DATE (16)\n",
      "12, SLIDE_NUMBER (13)\n",
      "11, FOOTER (15)\n",
      "Footer Placeholder 5\n",
      "\n",
      "slide number18\n",
      "0, TITLE (1)\n",
      "Title 1\n",
      "1, OBJECT (7)\n",
      "no textframe\n",
      "10, DATE (16)\n",
      "12, SLIDE_NUMBER (13)\n",
      "11, FOOTER (15)\n",
      "Footer Placeholder 5\n",
      "\n",
      "slide number19\n",
      "0, TITLE (1)\n",
      "Title 1\n",
      "1, OBJECT (7)\n",
      "no textframe\n",
      "10, DATE (16)\n",
      "12, SLIDE_NUMBER (13)\n",
      "11, FOOTER (15)\n",
      "Footer Placeholder 5\n",
      "\n",
      "slide number20\n",
      "0, TITLE (1)\n",
      "Title 1\n",
      "1, OBJECT (7)\n",
      "no textframe\n",
      "10, DATE (16)\n",
      "12, SLIDE_NUMBER (13)\n",
      "11, FOOTER (15)\n",
      "Footer Placeholder 5\n",
      "\n",
      "slide number21\n",
      "0, TITLE (1)\n",
      "Title 1\n",
      "1, OBJECT (7)\n",
      "no textframe\n",
      "10, DATE (16)\n",
      "12, SLIDE_NUMBER (13)\n",
      "11, FOOTER (15)\n",
      "Footer Placeholder 5\n",
      "\n",
      "slide number22\n",
      "0, TITLE (1)\n",
      "Title 1\n",
      "1, OBJECT (7)\n",
      "no textframe\n",
      "10, DATE (16)\n",
      "12, SLIDE_NUMBER (13)\n",
      "11, FOOTER (15)\n",
      "Footer Placeholder 5\n",
      "\n",
      "slide number23\n",
      "0, TITLE (1)\n",
      "Title 1\n",
      "1, OBJECT (7)\n",
      "no textframe\n",
      "10, DATE (16)\n",
      "12, SLIDE_NUMBER (13)\n",
      "11, FOOTER (15)\n",
      "Footer Placeholder 5\n",
      "\n",
      "slide number24\n",
      "0, TITLE (1)\n",
      "Title 1\n",
      "1, OBJECT (7)\n",
      "no textframe\n",
      "10, DATE (16)\n",
      "12, SLIDE_NUMBER (13)\n",
      "11, FOOTER (15)\n",
      "Footer Placeholder 5\n",
      "\n",
      "slide number25\n",
      "0, TITLE (1)\n",
      "Title 1\n",
      "1, OBJECT (7)\n",
      "no textframe\n",
      "10, DATE (16)\n",
      "12, SLIDE_NUMBER (13)\n",
      "11, FOOTER (15)\n",
      "Footer Placeholder 5\n",
      "\n",
      "slide number26\n",
      "0, TITLE (1)\n",
      "Title 1\n",
      "1, OBJECT (7)\n",
      "no textframe\n",
      "10, DATE (16)\n",
      "12, SLIDE_NUMBER (13)\n",
      "11, FOOTER (15)\n",
      "Footer Placeholder 5\n",
      "\n",
      "slide number27\n",
      "0, TITLE (1)\n",
      "Title 1\n",
      "1, OBJECT (7)\n",
      "10, DATE (16)\n",
      "12, SLIDE_NUMBER (13)\n",
      "11, FOOTER (15)\n",
      "Footer Placeholder 6\n",
      "\n",
      "slide number28\n",
      "0, TITLE (1)\n",
      "Title 1\n",
      "10, DATE (16)\n",
      "12, SLIDE_NUMBER (13)\n",
      "11, FOOTER (15)\n",
      "Footer Placeholder 4\n",
      "\n",
      "font name\n",
      "['Times New Roman']\n",
      "\n",
      "font size\n",
      "[20.0, 18.0, 36.0]\n",
      "\n",
      "hyperlink\n",
      "[]\n",
      "\n",
      "color\n",
      "[]\n",
      "\n",
      "number of font name\n",
      "2\n",
      "\n",
      "number of font size\n",
      "4\n",
      "\n",
      " number of hyperlink\n",
      "0\n",
      "\n",
      " number of color\n",
      "1\n",
      "\n",
      " number of pictures\n",
      "4\n",
      "\n",
      " number of chart\n",
      "0\n",
      "\n",
      " number of tables\n",
      "5\n",
      "\n",
      " maximum font size\n",
      "36.0\n",
      "\n",
      " minimum font size\n",
      "18.0\n",
      "e:\\ppt\\22.pptx\n",
      "\n",
      "slide number1\n",
      "0, CENTER_TITLE (3)\n",
      "Title 1\n"
     ]
    },
    {
     "data": {
      "text/plain": [
       "35.0"
      ]
     },
     "metadata": {},
     "output_type": "display_data"
    },
    {
     "name": "stdout",
     "output_type": "stream",
     "text": [
      "1, SUBTITLE (4)\n",
      "Subtitle 2\n",
      "Subtitle 2\n",
      "Subtitle 2\n",
      "Subtitle 2\n",
      "Subtitle 2\n",
      "\n",
      "slide number2\n",
      "0, TITLE (1)\n",
      "Title 1\n",
      "1, OBJECT (7)\n",
      "Content Placeholder 2\n"
     ]
    },
    {
     "data": {
      "text/plain": [
       "24.0"
      ]
     },
     "metadata": {},
     "output_type": "display_data"
    },
    {
     "name": "stdout",
     "output_type": "stream",
     "text": [
      "Content Placeholder 2\n",
      "Content Placeholder 2\n",
      "\n",
      "slide number3\n",
      "0, TITLE (1)\n",
      "Title 1\n",
      "1, OBJECT (7)\n",
      "Content Placeholder 2\n"
     ]
    },
    {
     "data": {
      "text/plain": [
       "'Times New Roman'"
      ]
     },
     "metadata": {},
     "output_type": "display_data"
    },
    {
     "name": "stdout",
     "output_type": "stream",
     "text": [
      "Content Placeholder 2\n",
      "Content Placeholder 2\n",
      "\n",
      "slide number4\n",
      "0, TITLE (1)\n",
      "Title 1\n",
      "1, OBJECT (7)\n",
      "\n",
      "slide number5\n",
      "0, TITLE (1)\n",
      "1, OBJECT (7)\n",
      "\n",
      "slide number6\n",
      "0, TITLE (1)\n",
      "1, OBJECT (7)\n",
      "\n",
      "slide number7\n",
      "0, TITLE (1)\n",
      "1, OBJECT (7)\n",
      "\n",
      "slide number8\n",
      "0, TITLE (1)\n",
      "1, OBJECT (7)\n",
      "\n",
      "slide number9\n",
      "0, TITLE (1)\n",
      "Title 1\n",
      "1, OBJECT (7)\n",
      "\n",
      "slide number10\n",
      "0, TITLE (1)\n",
      "Title 1\n",
      "1, OBJECT (7)\n",
      "no textframe\n",
      "\n",
      "slide number11\n",
      "0, TITLE (1)\n",
      "Title 1\n",
      "1, OBJECT (7)\n",
      "Content Placeholder 2\n",
      "Content Placeholder 2\n"
     ]
    },
    {
     "data": {
      "text/plain": [
       "18.0"
      ]
     },
     "metadata": {},
     "output_type": "display_data"
    },
    {
     "name": "stdout",
     "output_type": "stream",
     "text": [
      "Content Placeholder 2\n",
      "Content Placeholder 2\n",
      "Content Placeholder 2\n",
      "Content Placeholder 2\n",
      "Content Placeholder 2\n",
      "Content Placeholder 2\n",
      "Content Placeholder 2\n",
      "Content Placeholder 2\n",
      "Content Placeholder 2\n",
      "Content Placeholder 2\n",
      "\n",
      "slide number12\n",
      "0, TITLE (1)\n",
      "1, OBJECT (7)\n",
      "Content Placeholder 2\n",
      "Content Placeholder 2\n",
      "Content Placeholder 2\n",
      "Content Placeholder 2\n",
      "Content Placeholder 2\n",
      "Content Placeholder 2\n",
      "Content Placeholder 2\n",
      "Content Placeholder 2\n",
      "Content Placeholder 2\n",
      "Content Placeholder 2\n",
      "Content Placeholder 2\n",
      "\n",
      "slide number13\n",
      "0, TITLE (1)\n",
      "Title 1\n",
      "1, OBJECT (7)\n",
      "Content Placeholder 2\n",
      "Content Placeholder 2\n",
      "Content Placeholder 2\n",
      "Content Placeholder 2\n",
      "Content Placeholder 2\n",
      "Content Placeholder 2\n",
      "Content Placeholder 2\n",
      "Content Placeholder 2\n",
      "\n",
      "slide number14\n",
      "0, TITLE (1)\n",
      "Title 1\n",
      "1, OBJECT (7)\n",
      "Content Placeholder 2\n",
      "Content Placeholder 2\n",
      "Content Placeholder 2\n",
      "\n",
      "slide number15\n",
      "0, TITLE (1)\n",
      "1, OBJECT (7)\n",
      "Content Placeholder 2\n",
      "Content Placeholder 2\n",
      "Content Placeholder 2\n",
      "Content Placeholder 2\n",
      "\n",
      "slide number16\n",
      "0, TITLE (1)\n",
      "1, OBJECT (7)\n",
      "Content Placeholder 2\n",
      "Content Placeholder 2\n",
      "Content Placeholder 2\n",
      "\n",
      "slide number17\n",
      "0, TITLE (1)\n",
      "1, OBJECT (7)\n",
      "Content Placeholder 2\n",
      "Content Placeholder 2\n",
      "Content Placeholder 2\n",
      "Content Placeholder 2\n",
      "Content Placeholder 2\n",
      "\n",
      "slide number18\n",
      "0, TITLE (1)\n",
      "Title 1\n",
      "1, OBJECT (7)\n",
      "Content Placeholder 2\n",
      "Content Placeholder 2\n",
      "Content Placeholder 2\n",
      "\n",
      "slide number19\n",
      "0, TITLE (1)\n",
      "Title 1\n",
      "1, OBJECT (7)\n",
      "Content Placeholder 2\n",
      "Content Placeholder 2\n",
      "Content Placeholder 2\n",
      "Content Placeholder 2\n",
      "\n",
      "slide number20\n",
      "0, TITLE (1)\n",
      "1, OBJECT (7)\n",
      "Content Placeholder 2\n",
      "Content Placeholder 2\n",
      "\n",
      "font name\n",
      "['Times New Roman']\n",
      "\n",
      "font size\n",
      "[35.0, 24.0, 18.0]\n",
      "\n",
      "hyperlink\n",
      "[]\n",
      "\n",
      "color\n",
      "[]\n",
      "\n",
      "number of font name\n",
      "2\n",
      "\n",
      "number of font size\n",
      "4\n",
      "\n",
      " number of hyperlink\n",
      "0\n",
      "\n",
      " number of color\n",
      "1\n",
      "\n",
      " number of pictures\n",
      "0\n",
      "\n",
      " number of chart\n",
      "0\n",
      "\n",
      " number of tables\n",
      "6\n",
      "\n",
      " maximum font size\n",
      "35.0\n",
      "\n",
      " minimum font size\n",
      "18.0\n",
      "e:\\ppt\\23.pptx\n",
      "\n",
      "slide number1\n",
      "0, TITLE (1)\n",
      "Title 3\n"
     ]
    },
    {
     "data": {
      "text/plain": [
       "'Berlin Sans FB Demi'"
      ]
     },
     "metadata": {},
     "output_type": "display_data"
    },
    {
     "data": {
      "text/plain": [
       "96.0"
      ]
     },
     "metadata": {},
     "output_type": "display_data"
    },
    {
     "name": "stdout",
     "output_type": "stream",
     "text": [
      "TextBox 8\n"
     ]
    },
    {
     "data": {
      "text/plain": [
       "'Agency FB'"
      ]
     },
     "metadata": {},
     "output_type": "display_data"
    },
    {
     "data": {
      "text/plain": [
       "32.0"
      ]
     },
     "metadata": {},
     "output_type": "display_data"
    },
    {
     "name": "stdout",
     "output_type": "stream",
     "text": [
      "TextBox 8\n"
     ]
    },
    {
     "data": {
      "text/plain": [
       "24.0"
      ]
     },
     "metadata": {},
     "output_type": "display_data"
    },
    {
     "name": "stdout",
     "output_type": "stream",
     "text": [
      "TextBox 8\n",
      "TextBox 8\n",
      "TextBox 8\n"
     ]
    },
    {
     "data": {
      "text/plain": [
       "28.0"
      ]
     },
     "metadata": {},
     "output_type": "display_data"
    },
    {
     "name": "stdout",
     "output_type": "stream",
     "text": [
      "TextBox 9\n"
     ]
    },
    {
     "data": {
      "text/plain": [
       "36.0"
      ]
     },
     "metadata": {},
     "output_type": "display_data"
    },
    {
     "name": "stdout",
     "output_type": "stream",
     "text": [
      "TextBox 9\n"
     ]
    },
    {
     "data": {
      "text/plain": [
       "14.0"
      ]
     },
     "metadata": {},
     "output_type": "display_data"
    },
    {
     "name": "stdout",
     "output_type": "stream",
     "text": [
      "TextBox 10\n",
      "TextBox 10\n",
      "\n",
      "slide number2\n",
      "0, TITLE (1)\n",
      "Title 1\n"
     ]
    },
    {
     "data": {
      "text/plain": [
       "40.0"
      ]
     },
     "metadata": {},
     "output_type": "display_data"
    },
    {
     "name": "stdout",
     "output_type": "stream",
     "text": [
      "TextBox 9\n",
      "TextBox 9\n",
      "TextBox 9\n",
      "\n",
      "slide number3\n",
      "0, TITLE (1)\n",
      "Title 1\n",
      "\n",
      "slide number4\n",
      "0, TITLE (1)\n",
      "Title 1\n",
      "TextBox 3\n"
     ]
    },
    {
     "data": {
      "text/plain": [
       "'Times New Roman'"
      ]
     },
     "metadata": {},
     "output_type": "display_data"
    },
    {
     "name": "stdout",
     "output_type": "stream",
     "text": [
      "\n",
      "slide number5\n",
      "TextBox 3\n",
      "TextBox 3\n",
      "TextBox 3\n",
      "TextBox 3\n",
      "TextBox 3\n",
      "TextBox 3\n",
      "TextBox 3\n",
      "TextBox 3\n",
      "TextBox 3\n",
      "\n",
      "slide number6\n",
      "0, TITLE (1)\n",
      "Title 1\n",
      "\n",
      "slide number7\n",
      "\n",
      "slide number8\n",
      "0, TITLE (1)\n",
      "Title 1\n",
      "Title 1\n",
      "2, BODY (2)\n",
      "Text Placeholder 2\n",
      "Text Placeholder 2\n"
     ]
    },
    {
     "data": {
      "text/plain": [
       "35.0"
      ]
     },
     "metadata": {},
     "output_type": "display_data"
    },
    {
     "name": "stdout",
     "output_type": "stream",
     "text": [
      "Text Placeholder 2\n",
      "Text Placeholder 2\n",
      "Text Placeholder 2\n",
      "Text Placeholder 2\n",
      "Text Placeholder 2\n",
      "Text Placeholder 2\n",
      "Text Placeholder 2\n",
      "Text Placeholder 2\n",
      "Text Placeholder 2\n",
      "Text Placeholder 2\n",
      "Text Placeholder 2\n",
      "Text Placeholder 2\n",
      "Text Placeholder 2\n",
      "Text Placeholder 2\n",
      "Text Placeholder 2\n",
      "Text Placeholder 2\n",
      "\n",
      "slide number9\n",
      "\n",
      "slide number10\n",
      "\n",
      "slide number11\n",
      "0, TITLE (1)\n",
      "Title 1\n",
      "TextBox 3\n",
      "TextBox 3\n",
      "TextBox 3\n",
      "TextBox 3\n",
      "TextBox 3\n",
      "TextBox 3\n",
      "TextBox 3\n",
      "TextBox 3\n",
      "TextBox 3\n",
      "TextBox 3\n",
      "TextBox 3\n",
      "TextBox 3\n",
      "TextBox 3\n",
      "TextBox 3\n",
      "TextBox 3\n",
      "TextBox 3\n",
      "TextBox 3\n",
      "TextBox 3\n",
      "\n",
      "slide number12\n",
      "TextBox 3\n",
      "\n",
      "slide number13\n",
      "0, TITLE (1)\n",
      "Title 1\n",
      "TextBox 2\n",
      "TextBox 2\n",
      "TextBox 2\n",
      "TextBox 2\n",
      "TextBox 2\n",
      "TextBox 2\n",
      "TextBox 2\n",
      "TextBox 2\n",
      "TextBox 2\n",
      "TextBox 2\n",
      "TextBox 2\n",
      "\n",
      "slide number14\n",
      "0, TITLE (1)\n",
      "Title 1\n",
      "TextBox 4\n",
      "TextBox 4\n",
      "TextBox 4\n",
      "TextBox 4\n",
      "TextBox 4\n",
      "TextBox 4\n",
      "TextBox 4\n",
      "TextBox 4\n",
      "TextBox 4\n",
      "\n",
      "slide number15\n",
      "TextBox 5\n"
     ]
    },
    {
     "data": {
      "text/plain": [
       "20.0"
      ]
     },
     "metadata": {},
     "output_type": "display_data"
    },
    {
     "name": "stdout",
     "output_type": "stream",
     "text": [
      "\n",
      "slide number16\n",
      "TextBox 1\n"
     ]
    },
    {
     "data": {
      "text/plain": [
       "'+mj-lt'"
      ]
     },
     "metadata": {},
     "output_type": "display_data"
    },
    {
     "name": "stdout",
     "output_type": "stream",
     "text": [
      "\n",
      "slide number17\n",
      "TextBox 1\n",
      "\n",
      "slide number18\n",
      "TextBox 1\n",
      "\n",
      "slide number19\n",
      "Title 1\n",
      "Title 1\n",
      "Title 1\n",
      "\n",
      "slide number20\n",
      "\n",
      "slide number21\n",
      "\n",
      "slide number22\n",
      "\n",
      "slide number23\n",
      "\n",
      "slide number24\n",
      "Title 1\n",
      "Title 1\n",
      "Title 1\n",
      "\n",
      "slide number25\n",
      "Title 1\n",
      "Title 1\n",
      "Title 1\n",
      "Title 1\n",
      "TextBox 7\n",
      "\n",
      "slide number26\n",
      "0, TITLE (1)\n",
      "Title 1\n"
     ]
    },
    {
     "data": {
      "text/plain": [
       "'+mn-lt'"
      ]
     },
     "metadata": {},
     "output_type": "display_data"
    },
    {
     "name": "stdout",
     "output_type": "stream",
     "text": [
      "\n",
      "slide number27\n",
      "Title 1\n",
      "Title 1\n",
      "Title 1\n",
      "\n",
      "slide number28\n",
      "Title 1\n",
      "Title 1\n",
      "Title 1\n",
      "\n",
      "slide number29\n",
      "Title 1\n",
      "Title 1\n",
      "Title 1\n",
      "TextBox 4\n",
      "\n",
      "slide number30\n",
      "0, TITLE (1)\n",
      "Title 1\n",
      "Title 1\n",
      "\n",
      "slide number31\n",
      "Title 1\n",
      "Title 1\n",
      "Title 1\n",
      "TextBox 4\n",
      "TextBox 4\n",
      "TextBox 4\n",
      "TextBox 4\n",
      "TextBox 4\n",
      "TextBox 4\n",
      "TextBox 4\n",
      "TextBox 4\n",
      "TextBox 4\n",
      "TextBox 4\n",
      "TextBox 4\n",
      "TextBox 4\n",
      "TextBox 4\n",
      "TextBox 4\n",
      "TextBox 4\n",
      "TextBox 4\n",
      "TextBox 4\n",
      "TextBox 4\n",
      "TextBox 4\n",
      "TextBox 4\n",
      "TextBox 4\n",
      "TextBox 4\n",
      "TextBox 4\n",
      "TextBox 4\n",
      "TextBox 4\n",
      "TextBox 4\n",
      "TextBox 4\n",
      "TextBox 4\n",
      "TextBox 4\n",
      "TextBox 4\n",
      "TextBox 4\n",
      "TextBox 4\n",
      "TextBox 4\n",
      "TextBox 4\n",
      "TextBox 4\n",
      "TextBox 4\n",
      "TextBox 4\n",
      "TextBox 4\n",
      "TextBox 4\n",
      "TextBox 4\n",
      "TextBox 4\n",
      "TextBox 4\n",
      "TextBox 4\n",
      "\n",
      "slide number32\n",
      "TextBox 4\n"
     ]
    },
    {
     "data": {
      "text/plain": [
       "80.0"
      ]
     },
     "metadata": {},
     "output_type": "display_data"
    },
    {
     "name": "stdout",
     "output_type": "stream",
     "text": [
      "TextBox 4\n"
     ]
    },
    {
     "data": {
      "text/plain": [
       "'Bahnschrift'"
      ]
     },
     "metadata": {},
     "output_type": "display_data"
    },
    {
     "name": "stdout",
     "output_type": "stream",
     "text": [
      "\n",
      "font name\n",
      "['Berlin Sans FB Demi', 'Agency FB', 'Times New Roman', '+mj-lt', '+mn-lt', 'Bahnschrift']\n",
      "\n",
      "font size\n",
      "[96.0, 32.0, 24.0, 28.0, 36.0, 14.0, 40.0, 35.0, 20.0, 80.0]\n",
      "\n",
      "hyperlink\n",
      "['https://ieeexplore.ieee.org/stamp/stamp.jsp?tp=&arnumber=8124463&isnumber=8124414', 'https://ieeexplore.ieee.org/stamp/stamp.jsp?tp=&arnumber=6997578&isnumber=6997537', 'https://ieeexplore.ieee.org/stamp/stamp.jsp?tp=&arnumber=8632703&isnumber=8632697', 'https://ieeexplore.ieee.org/stamp/stamp.jsp?tp=&arnumber=5522813&isnumber=5522297', 'https://www.tinkercad.com/circuits']\n",
      "\n",
      "color\n",
      "[(255, 255, 255)]\n",
      "\n",
      "number of font name\n",
      "7\n",
      "\n",
      "number of font size\n",
      "11\n",
      "\n",
      " number of hyperlink\n",
      "5\n",
      "\n",
      " number of color\n",
      "2\n",
      "\n",
      " number of pictures\n",
      "35\n",
      "\n",
      " number of chart\n",
      "0\n",
      "\n",
      " number of tables\n",
      "5\n",
      "\n",
      " maximum font size\n",
      "96.0\n",
      "\n",
      " minimum font size\n",
      "14.0\n",
      "e:\\ppt\\24.pptx\n",
      "\n",
      "slide number1\n",
      "0, CENTER_TITLE (3)\n",
      "Title 1\n"
     ]
    },
    {
     "data": {
      "text/plain": [
       "'Times New Roman'"
      ]
     },
     "metadata": {},
     "output_type": "display_data"
    },
    {
     "data": {
      "text/plain": [
       "32.0"
      ]
     },
     "metadata": {},
     "output_type": "display_data"
    },
    {
     "name": "stdout",
     "output_type": "stream",
     "text": [
      "1, SUBTITLE (4)\n",
      "Subtitle 2\n",
      "Subtitle 2\n",
      "Subtitle 2\n",
      "Subtitle 2\n",
      "Subtitle 2\n",
      "\n",
      "slide number2\n",
      "0, TITLE (1)\n",
      "Title 1\n",
      "1, OBJECT (7)\n",
      "Content Placeholder 2\n"
     ]
    },
    {
     "data": {
      "text/plain": [
       "18.0"
      ]
     },
     "metadata": {},
     "output_type": "display_data"
    },
    {
     "name": "stdout",
     "output_type": "stream",
     "text": [
      "Content Placeholder 2\n",
      "Content Placeholder 2\n",
      "Content Placeholder 2\n",
      "Content Placeholder 2\n",
      "Content Placeholder 2\n",
      "Content Placeholder 2\n",
      "Content Placeholder 2\n",
      "Content Placeholder 2\n",
      "Content Placeholder 2\n",
      "Content Placeholder 2\n",
      "Content Placeholder 2\n",
      "\n",
      "slide number3\n",
      "0, TITLE (1)\n",
      "Title 1\n"
     ]
    },
    {
     "data": {
      "text/plain": [
       "28.0"
      ]
     },
     "metadata": {},
     "output_type": "display_data"
    },
    {
     "name": "stdout",
     "output_type": "stream",
     "text": [
      "Title 1\n",
      "1, OBJECT (7)\n",
      "Content Placeholder 2\n"
     ]
    },
    {
     "data": {
      "text/plain": [
       "19.0"
      ]
     },
     "metadata": {},
     "output_type": "display_data"
    },
    {
     "name": "stdout",
     "output_type": "stream",
     "text": [
      "Content Placeholder 2\n",
      "Content Placeholder 2\n",
      "Content Placeholder 2\n",
      "Content Placeholder 2\n",
      "Content Placeholder 2\n",
      "Content Placeholder 2\n",
      "Content Placeholder 2\n",
      "Content Placeholder 2\n",
      "Content Placeholder 2\n",
      "\n",
      "slide number4\n",
      "0, TITLE (1)\n",
      "Title 1\n",
      "Title 1\n",
      "1, OBJECT (7)\n",
      "\n",
      "slide number5\n",
      "0, TITLE (1)\n",
      "1, OBJECT (7)\n",
      "\n",
      "slide number6\n",
      "0, TITLE (1)\n",
      "Title 1\n",
      "\n",
      "slide number7\n",
      "0, TITLE (1)\n",
      "Title 1\n",
      "Title 1\n"
     ]
    },
    {
     "data": {
      "text/plain": [
       "36.0"
      ]
     },
     "metadata": {},
     "output_type": "display_data"
    },
    {
     "name": "stdout",
     "output_type": "stream",
     "text": [
      "1, OBJECT (7)\n",
      "Content Placeholder 3\n"
     ]
    },
    {
     "data": {
      "text/plain": [
       "64.0"
      ]
     },
     "metadata": {},
     "output_type": "display_data"
    },
    {
     "name": "stdout",
     "output_type": "stream",
     "text": [
      "Content Placeholder 3\n",
      "Content Placeholder 3\n",
      "Content Placeholder 3\n",
      "Content Placeholder 3\n",
      "Content Placeholder 3\n",
      "Content Placeholder 3\n",
      "Content Placeholder 3\n",
      "Content Placeholder 3\n",
      "Content Placeholder 3\n",
      "Content Placeholder 3\n",
      "Content Placeholder 3\n",
      "Content Placeholder 3\n",
      "Content Placeholder 3\n",
      "Content Placeholder 3\n",
      "Content Placeholder 3\n",
      "Content Placeholder 3\n",
      "Content Placeholder 3\n",
      "Content Placeholder 3\n",
      "\n",
      "slide number8\n",
      "0, TITLE (1)\n",
      "Title 1\n",
      "1, OBJECT (7)\n",
      "Content Placeholder 2\n"
     ]
    },
    {
     "data": {
      "text/plain": [
       "20.0"
      ]
     },
     "metadata": {},
     "output_type": "display_data"
    },
    {
     "name": "stdout",
     "output_type": "stream",
     "text": [
      "Content Placeholder 2\n"
     ]
    },
    {
     "data": {
      "text/plain": [
       "14.0"
      ]
     },
     "metadata": {},
     "output_type": "display_data"
    },
    {
     "name": "stdout",
     "output_type": "stream",
     "text": [
      "Content Placeholder 2\n",
      "Content Placeholder 2\n",
      "Content Placeholder 2\n",
      "Content Placeholder 2\n",
      "Content Placeholder 2\n",
      "Content Placeholder 2\n",
      "Content Placeholder 2\n",
      "Content Placeholder 2\n",
      "\n",
      "slide number9\n",
      "0, TITLE (1)\n",
      "Title 1\n",
      "\n",
      "slide number10\n",
      "0, TITLE (1)\n",
      "Title 1\n",
      "\n",
      "slide number11\n",
      "0, TITLE (1)\n",
      "Title 1\n",
      "\n",
      "slide number12\n",
      "0, TITLE (1)\n",
      "Title 1\n",
      "\n",
      "slide number13\n",
      "0, TITLE (1)\n",
      "Title 1\n",
      "Title 1\n",
      "1, OBJECT (7)\n",
      "Content Placeholder 2\n"
     ]
    },
    {
     "data": {
      "text/plain": [
       "16.0"
      ]
     },
     "metadata": {},
     "output_type": "display_data"
    },
    {
     "name": "stdout",
     "output_type": "stream",
     "text": [
      "\n",
      "slide number14\n",
      "0, TITLE (1)\n",
      "Title 1\n",
      "\n",
      "font name\n",
      "['Times New Roman']\n",
      "\n",
      "font size\n",
      "[32.0, 18.0, 28.0, 19.0, 36.0, 64.0, 20.0, 14.0, 16.0]\n",
      "\n",
      "hyperlink\n",
      "[]\n",
      "\n",
      "color\n",
      "[]\n",
      "\n",
      "number of font name\n",
      "2\n",
      "\n",
      "number of font size\n",
      "10\n",
      "\n",
      " number of hyperlink\n",
      "0\n",
      "\n",
      " number of color\n",
      "1\n",
      "\n",
      " number of pictures\n",
      "5\n",
      "\n",
      " number of chart\n",
      "0\n",
      "\n",
      " number of tables\n",
      "2\n",
      "\n",
      " maximum font size\n",
      "64.0\n",
      "\n",
      " minimum font size\n",
      "14.0\n",
      "e:\\ppt\\25.pptx\n",
      "\n",
      "slide number1\n",
      "0, CENTER_TITLE (3)\n",
      "Title 1\n",
      "1, SUBTITLE (4)\n",
      "Subtitle 2\n",
      "Subtitle 2\n",
      "Subtitle 2\n",
      "Subtitle 2\n",
      "Subtitle 2\n",
      "\n",
      "slide number2\n",
      "0, TITLE (1)\n",
      "Title 1\n",
      "1, OBJECT (7)\n",
      "Content Placeholder 2\n",
      "Content Placeholder 2\n"
     ]
    },
    {
     "data": {
      "text/plain": [
       "24.0"
      ]
     },
     "metadata": {},
     "output_type": "display_data"
    },
    {
     "name": "stdout",
     "output_type": "stream",
     "text": [
      "Content Placeholder 2\n",
      "Content Placeholder 2\n",
      "Content Placeholder 2\n",
      "Content Placeholder 2\n",
      "Content Placeholder 2\n",
      "10, DATE (16)\n",
      "12, SLIDE_NUMBER (13)\n",
      "11, FOOTER (15)\n",
      "Footer Placeholder 5\n",
      "\n",
      "slide number3\n",
      "0, TITLE (1)\n",
      "Title 1\n",
      "1, OBJECT (7)\n",
      "Content Placeholder 2\n",
      "Content Placeholder 2\n",
      "Content Placeholder 2\n",
      "Content Placeholder 2\n",
      "Content Placeholder 2\n",
      "10, DATE (16)\n",
      "12, SLIDE_NUMBER (13)\n",
      "11, FOOTER (15)\n",
      "Footer Placeholder 5\n",
      "\n",
      "slide number4\n",
      "0, TITLE (1)\n",
      "Title 1\n",
      "1, OBJECT (7)\n",
      "10, DATE (16)\n",
      "12, SLIDE_NUMBER (13)\n",
      "11, FOOTER (15)\n",
      "Footer Placeholder 6\n",
      "\n",
      "slide number5\n",
      "0, TITLE (1)\n",
      "Title 1\n",
      "1, OBJECT (7)\n",
      "Content Placeholder 2\n",
      "Content Placeholder 2\n",
      "Content Placeholder 2\n",
      "Content Placeholder 2\n",
      "Content Placeholder 2\n",
      "Content Placeholder 2\n",
      "Content Placeholder 2\n",
      "Content Placeholder 2\n",
      "Content Placeholder 2\n",
      "10, DATE (16)\n",
      "12, SLIDE_NUMBER (13)\n",
      "11, FOOTER (15)\n",
      "Footer Placeholder 5\n",
      "\n",
      "slide number6\n",
      "0, TITLE (1)\n",
      "Title 3\n",
      "1, OBJECT (7)\n",
      "no textframe\n",
      "2, OBJECT (7)\n",
      "no textframe\n",
      "10, DATE (16)\n",
      "12, SLIDE_NUMBER (13)\n",
      "11, FOOTER (15)\n",
      "Footer Placeholder 6\n",
      "\n",
      "slide number7\n",
      "0, TITLE (1)\n",
      "Title 1\n",
      "Title 1\n",
      "1, OBJECT (7)\n",
      "Content Placeholder 2\n",
      "Content Placeholder 2\n",
      "Content Placeholder 2\n",
      "Content Placeholder 2\n",
      "Content Placeholder 2\n",
      "Content Placeholder 2\n",
      "10, DATE (16)\n",
      "12, SLIDE_NUMBER (13)\n",
      "11, FOOTER (15)\n",
      "Footer Placeholder 5\n",
      "\n",
      "slide number8\n",
      "0, TITLE (1)\n",
      "Title 1\n",
      "1, OBJECT (7)\n",
      "Content Placeholder 2\n",
      "Content Placeholder 2\n",
      "Content Placeholder 2\n",
      "Content Placeholder 2\n",
      "Content Placeholder 2\n",
      "Content Placeholder 2\n",
      "Content Placeholder 2\n",
      "Content Placeholder 2\n",
      "Content Placeholder 2\n",
      "Content Placeholder 2\n",
      "Content Placeholder 2\n",
      "10, DATE (16)\n",
      "12, SLIDE_NUMBER (13)\n",
      "11, FOOTER (15)\n",
      "Footer Placeholder 5\n",
      "\n",
      "slide number9\n",
      "0, TITLE (1)\n",
      "Title 1\n",
      "1, OBJECT (7)\n",
      "Content Placeholder 2\n",
      "Content Placeholder 2\n",
      "Content Placeholder 2\n",
      "10, DATE (16)\n",
      "12, SLIDE_NUMBER (13)\n",
      "11, FOOTER (15)\n",
      "Footer Placeholder 7\n",
      "\n",
      "slide number10\n",
      "0, TITLE (1)\n",
      "Title 1\n",
      "Title 1\n",
      "1, OBJECT (7)\n",
      "Content Placeholder 2\n",
      "Content Placeholder 2\n",
      "Content Placeholder 2\n",
      "Content Placeholder 2\n",
      "Content Placeholder 2\n",
      "10, DATE (16)\n",
      "12, SLIDE_NUMBER (13)\n",
      "11, FOOTER (15)\n",
      "Footer Placeholder 5\n",
      "\n",
      "slide number11\n",
      "0, TITLE (1)\n",
      "Title 1\n",
      "1, OBJECT (7)\n",
      "Content Placeholder 2\n",
      "Content Placeholder 2\n",
      "Content Placeholder 2\n",
      "10, DATE (16)\n",
      "12, SLIDE_NUMBER (13)\n",
      "11, FOOTER (15)\n",
      "Footer Placeholder 5\n",
      "\n",
      "slide number12\n",
      "0, TITLE (1)\n",
      "Title 3\n",
      "1, OBJECT (7)\n",
      "no textframe\n",
      "2, OBJECT (7)\n",
      "no textframe\n",
      "10, DATE (16)\n",
      "12, SLIDE_NUMBER (13)\n",
      "11, FOOTER (15)\n",
      "Footer Placeholder 6\n",
      "\n",
      "slide number13\n",
      "0, TITLE (1)\n",
      "Title 3\n",
      "1, OBJECT (7)\n",
      "no textframe\n",
      "10, DATE (16)\n",
      "12, SLIDE_NUMBER (13)\n",
      "11, FOOTER (15)\n",
      "Footer Placeholder 7\n",
      "\n",
      "slide number14\n",
      "0, TITLE (1)\n",
      "Title 4\n",
      "1, OBJECT (7)\n",
      "Content Placeholder 5\n",
      "Content Placeholder 5\n",
      "Content Placeholder 5\n",
      "Content Placeholder 5\n",
      "Content Placeholder 5\n",
      "Content Placeholder 5\n",
      "Content Placeholder 5\n",
      "Content Placeholder 5\n",
      "Content Placeholder 5\n",
      "Content Placeholder 5\n",
      "Content Placeholder 5\n",
      "10, DATE (16)\n",
      "12, SLIDE_NUMBER (13)\n",
      "11, FOOTER (15)\n",
      "Footer Placeholder 7\n",
      "\n",
      "slide number15\n",
      "1, OBJECT (7)\n",
      "Content Placeholder 2\n"
     ]
    },
    {
     "data": {
      "text/plain": [
       "150.0"
      ]
     },
     "metadata": {},
     "output_type": "display_data"
    },
    {
     "name": "stdout",
     "output_type": "stream",
     "text": [
      "10, DATE (16)\n",
      "12, SLIDE_NUMBER (13)\n",
      "11, FOOTER (15)\n",
      "Footer Placeholder 5\n",
      "\n",
      "font name\n",
      "[]\n",
      "\n",
      "font size\n",
      "[24.0, 150.0]\n",
      "\n",
      "hyperlink\n",
      "[]\n",
      "\n",
      "color\n",
      "[]\n",
      "\n",
      "number of font name\n",
      "1\n",
      "\n",
      "number of font size\n",
      "3\n",
      "\n",
      " number of hyperlink\n",
      "0\n",
      "\n",
      " number of color\n",
      "1\n",
      "\n",
      " number of pictures\n",
      "1\n",
      "\n",
      " number of chart\n",
      "0\n",
      "\n",
      " number of tables\n",
      "1\n",
      "\n",
      " maximum font size\n",
      "150.0\n",
      "\n",
      " minimum font size\n",
      "24.0\n",
      "e:\\ppt\\32.pptx\n",
      "\n",
      "slide number1\n",
      "0, CENTER_TITLE (3)\n",
      "Title 1\n",
      "Title 1\n",
      "Title 1\n",
      "1, SUBTITLE (4)\n",
      "\n",
      "slide number2\n",
      "0, TITLE (1)\n",
      "Title 1\n",
      "1, OBJECT (7)\n",
      "Content Placeholder 2\n",
      "Content Placeholder 2\n",
      "Content Placeholder 2\n",
      "12, SLIDE_NUMBER (13)\n",
      "11, FOOTER (15)\n",
      "Footer Placeholder 5\n",
      "\n",
      "slide number3\n",
      "0, TITLE (1)\n",
      "Title 1\n",
      "1, OBJECT (7)\n",
      "Content Placeholder 2\n",
      "Content Placeholder 2\n",
      "Content Placeholder 2\n",
      "Content Placeholder 2\n",
      "TextBox 5\n",
      "TextBox 6\n",
      "12, SLIDE_NUMBER (13)\n",
      "11, FOOTER (15)\n",
      "Footer Placeholder 9\n",
      "\n",
      "slide number4\n",
      "0, TITLE (1)\n",
      "Title 1\n",
      "1, OBJECT (7)\n",
      "Content Placeholder 2\n",
      "Content Placeholder 2\n",
      "Content Placeholder 2\n",
      "Content Placeholder 2\n",
      "Content Placeholder 2\n",
      "Content Placeholder 2\n",
      "Content Placeholder 2\n",
      "Content Placeholder 2\n",
      "Content Placeholder 2\n",
      "Content Placeholder 2\n",
      "12, SLIDE_NUMBER (13)\n",
      "11, FOOTER (15)\n",
      "Footer Placeholder 5\n",
      "\n",
      "slide number5\n",
      "TextBox 11\n",
      "TextBox 12\n",
      "TextBox 13\n",
      "TextBox 14\n",
      "12, SLIDE_NUMBER (13)\n",
      "11, FOOTER (15)\n",
      "Footer Placeholder 17\n",
      "\n",
      "slide number6\n",
      "0, TITLE (1)\n",
      "Title 1\n",
      "TextBox 4\n",
      "12, SLIDE_NUMBER (13)\n",
      "11, FOOTER (15)\n",
      "Footer Placeholder 7\n",
      "\n",
      "slide number7\n",
      "0, TITLE (1)\n",
      "Title 1\n",
      "12, SLIDE_NUMBER (13)\n",
      "11, FOOTER (15)\n",
      "Footer Placeholder 6\n",
      "\n",
      "slide number8\n",
      "0, TITLE (1)\n",
      "Title 1\n",
      "1, OBJECT (7)\n",
      "Content Placeholder 2\n",
      "Content Placeholder 2\n",
      "Content Placeholder 2\n",
      "Content Placeholder 2\n",
      "12, SLIDE_NUMBER (13)\n",
      "11, FOOTER (15)\n",
      "Footer Placeholder 7\n",
      "\n",
      "slide number9\n",
      "0, TITLE (1)\n",
      "Title 1\n",
      "1, OBJECT (7)\n",
      "Content Placeholder 2\n",
      "Content Placeholder 2\n",
      "Content Placeholder 2\n",
      "Content Placeholder 2\n",
      "12, SLIDE_NUMBER (13)\n",
      "11, FOOTER (15)\n",
      "Footer Placeholder 9\n",
      "\n",
      "slide number10\n",
      "0, CENTER_TITLE (3)\n",
      "Title 3\n",
      "1, SUBTITLE (4)\n",
      "Subtitle 4\n",
      "\n",
      "slide number11\n",
      "0, TITLE (1)\n",
      "Title 1\n",
      "1, OBJECT (7)\n",
      "Content Placeholder 2\n",
      "Content Placeholder 2\n",
      "Content Placeholder 2\n",
      "Content Placeholder 2\n",
      "Content Placeholder 2\n",
      "Content Placeholder 2\n",
      "Content Placeholder 2\n",
      "Content Placeholder 2\n",
      "Content Placeholder 2\n",
      "Content Placeholder 2\n",
      "Content Placeholder 2\n",
      "Content Placeholder 2\n",
      "Content Placeholder 2\n",
      "Content Placeholder 2\n",
      "Content Placeholder 2\n",
      "Content Placeholder 2\n",
      "Content Placeholder 2\n",
      "Content Placeholder 2\n",
      "Content Placeholder 2\n",
      "Content Placeholder 2\n",
      "Content Placeholder 2\n",
      "12, SLIDE_NUMBER (13)\n",
      "11, FOOTER (15)\n",
      "Footer Placeholder 8\n",
      "\n",
      "slide number12\n",
      "0, TITLE (1)\n",
      "Title 1\n",
      "1, OBJECT (7)\n",
      "Content Placeholder 2\n",
      "Content Placeholder 2\n",
      "Content Placeholder 2\n",
      "Content Placeholder 2\n",
      "Content Placeholder 2\n",
      "Content Placeholder 2\n",
      "12, SLIDE_NUMBER (13)\n",
      "11, FOOTER (15)\n",
      "Footer Placeholder 5\n",
      "\n",
      "slide number13\n",
      "0, TITLE (1)\n",
      "Title 1\n",
      "1, OBJECT (7)\n",
      "Content Placeholder 2\n",
      "Content Placeholder 2\n"
     ]
    },
    {
     "data": {
      "text/plain": [
       "24.0"
      ]
     },
     "metadata": {},
     "output_type": "display_data"
    },
    {
     "name": "stdout",
     "output_type": "stream",
     "text": [
      "Content Placeholder 2\n",
      "Content Placeholder 2\n",
      "Content Placeholder 2\n",
      "Content Placeholder 2\n",
      "Content Placeholder 2\n",
      "12, SLIDE_NUMBER (13)\n",
      "11, FOOTER (15)\n",
      "Footer Placeholder 5\n",
      "\n",
      "slide number14\n",
      "0, TITLE (1)\n",
      "Title 1\n",
      "1, OBJECT (7)\n",
      "Content Placeholder 2\n",
      "Content Placeholder 2\n",
      "Content Placeholder 2\n",
      "Content Placeholder 2\n",
      "12, SLIDE_NUMBER (13)\n",
      "11, FOOTER (15)\n",
      "Footer Placeholder 10\n",
      "\n",
      "slide number15\n",
      "0, TITLE (1)\n",
      "Title 1\n",
      "Title 1\n",
      "1, OBJECT (7)\n",
      "Content Placeholder 2\n",
      "Content Placeholder 2\n",
      "Content Placeholder 2\n",
      "Content Placeholder 2\n",
      "12, SLIDE_NUMBER (13)\n",
      "11, FOOTER (15)\n",
      "Footer Placeholder 7\n",
      "\n",
      "slide number16\n",
      "0, TITLE (1)\n",
      "Title 1\n",
      "12, SLIDE_NUMBER (13)\n",
      "11, FOOTER (15)\n",
      "Footer Placeholder 8\n",
      "\n",
      "slide number17\n",
      "0, TITLE (1)\n",
      "Title 1\n",
      "Title 1\n",
      "1, OBJECT (7)\n",
      "Content Placeholder 2\n",
      "Content Placeholder 2\n",
      "Content Placeholder 2\n",
      "12, SLIDE_NUMBER (13)\n",
      "11, FOOTER (15)\n",
      "Footer Placeholder 7\n",
      "\n",
      "slide number18\n",
      "0, TITLE (1)\n",
      "Title 1\n",
      "Title 1\n",
      "1, OBJECT (7)\n",
      "Content Placeholder 2\n",
      "Content Placeholder 2\n",
      "Content Placeholder 2\n",
      "12, SLIDE_NUMBER (13)\n",
      "11, FOOTER (15)\n",
      "Footer Placeholder 7\n",
      "\n",
      "slide number19\n",
      "0, TITLE (1)\n",
      "Title 1\n",
      "Title 1\n",
      "Title 1\n",
      "1, OBJECT (7)\n",
      "Content Placeholder 2\n",
      "Content Placeholder 2\n",
      "12, SLIDE_NUMBER (13)\n",
      "11, FOOTER (15)\n",
      "Footer Placeholder 7\n",
      "\n",
      "slide number20\n",
      "0, TITLE (1)\n",
      "Title 1\n",
      "Title 1\n",
      "1, OBJECT (7)\n",
      "Content Placeholder 2\n",
      "Content Placeholder 2\n",
      "Content Placeholder 2\n",
      "12, SLIDE_NUMBER (13)\n",
      "11, FOOTER (15)\n",
      "Footer Placeholder 7\n",
      "\n",
      "slide number21\n",
      "0, TITLE (1)\n",
      "Title 1\n",
      "Title 1\n",
      "1, OBJECT (7)\n",
      "Content Placeholder 2\n",
      "12, SLIDE_NUMBER (13)\n",
      "11, FOOTER (15)\n",
      "Footer Placeholder 7\n",
      "\n",
      "slide number22\n",
      "0, TITLE (1)\n",
      "Title 1\n",
      "1, OBJECT (7)\n",
      "Content Placeholder 2\n",
      "Content Placeholder 2\n",
      "Content Placeholder 2\n",
      "Content Placeholder 2\n",
      "Content Placeholder 2\n",
      "Content Placeholder 2\n",
      "Content Placeholder 2\n",
      "Content Placeholder 2\n",
      "Content Placeholder 2\n",
      "Content Placeholder 2\n",
      "12, SLIDE_NUMBER (13)\n",
      "11, FOOTER (15)\n",
      "Footer Placeholder 5\n",
      "\n",
      "slide number23\n",
      "0, TITLE (1)\n",
      "Title 1\n",
      "1, OBJECT (7)\n",
      "Content Placeholder 2\n",
      "Content Placeholder 2\n",
      "Content Placeholder 2\n",
      "12, SLIDE_NUMBER (13)\n",
      "11, FOOTER (15)\n",
      "Footer Placeholder 5\n",
      "\n",
      "slide number24\n",
      "0, TITLE (1)\n",
      "Title 1\n",
      "1, OBJECT (7)\n",
      "Content Placeholder 2\n",
      "Content Placeholder 2\n",
      "Content Placeholder 2\n",
      "12, SLIDE_NUMBER (13)\n",
      "11, FOOTER (15)\n",
      "Footer Placeholder 6\n",
      "\n",
      "slide number25\n",
      "0, TITLE (1)\n",
      "Title 1\n",
      "1, OBJECT (7)\n",
      "Content Placeholder 2\n",
      "Content Placeholder 2\n",
      "12, SLIDE_NUMBER (13)\n",
      "11, FOOTER (15)\n",
      "Footer Placeholder 8\n",
      "\n",
      "slide number26\n",
      "0, TITLE (1)\n",
      "Title 1\n"
     ]
    },
    {
     "data": {
      "text/plain": [
       "60.0"
      ]
     },
     "metadata": {},
     "output_type": "display_data"
    },
    {
     "name": "stdout",
     "output_type": "stream",
     "text": [
      "12, SLIDE_NUMBER (13)\n",
      "11, FOOTER (15)\n",
      "Footer Placeholder 4\n",
      "\n",
      "slide number27\n",
      "0, TITLE (1)\n",
      "Title 1\n",
      "12, SLIDE_NUMBER (13)\n",
      "11, FOOTER (15)\n",
      "Footer Placeholder 4\n",
      "\n",
      "font name\n",
      "[]\n",
      "\n",
      "font size\n",
      "[24.0, 60.0]\n",
      "\n",
      "hyperlink\n",
      "[]\n",
      "\n",
      "color\n",
      "[]\n",
      "\n",
      "number of font name\n",
      "1\n",
      "\n",
      "number of font size\n",
      "3\n",
      "\n",
      " number of hyperlink\n",
      "0\n",
      "\n",
      " number of color\n",
      "1\n",
      "\n",
      " number of pictures\n",
      "37\n",
      "\n",
      " number of chart\n",
      "0\n",
      "\n",
      " number of tables\n",
      "0\n",
      "\n",
      " maximum font size\n",
      "60.0\n",
      "\n",
      " minimum font size\n",
      "24.0\n",
      "e:\\ppt\\39.pptx\n",
      "\n",
      "slide number1\n",
      "0, CENTER_TITLE (3)\n",
      "Title 1\n",
      "Title 1\n",
      "Title 1\n"
     ]
    },
    {
     "data": {
      "text/plain": [
       "49.0"
      ]
     },
     "metadata": {},
     "output_type": "display_data"
    },
    {
     "name": "stdout",
     "output_type": "stream",
     "text": [
      "Title 1\n",
      "1, SUBTITLE (4)\n",
      "Subtitle 2\n",
      "Subtitle 2\n",
      "Subtitle 2\n",
      "Subtitle 2\n",
      "Subtitle 2\n",
      "Subtitle 2\n",
      "Subtitle 2\n",
      "Subtitle 2\n",
      "10, DATE (16)\n",
      "12, SLIDE_NUMBER (13)\n",
      "\n",
      "slide number2\n",
      "0, TITLE (1)\n",
      "Title 1\n",
      "1, OBJECT (7)\n",
      "Content Placeholder 2\n"
     ]
    },
    {
     "data": {
      "text/plain": [
       "'Times New Roman'"
      ]
     },
     "metadata": {},
     "output_type": "display_data"
    },
    {
     "data": {
      "text/plain": [
       "96.0"
      ]
     },
     "metadata": {},
     "output_type": "display_data"
    },
    {
     "name": "stdout",
     "output_type": "stream",
     "text": [
      "Content Placeholder 2\n",
      "Content Placeholder 2\n",
      "Content Placeholder 2\n",
      "Content Placeholder 2\n",
      "Content Placeholder 2\n",
      "Content Placeholder 2\n",
      "Content Placeholder 2\n",
      "Content Placeholder 2\n",
      "Content Placeholder 2\n",
      "Content Placeholder 2\n",
      "Content Placeholder 2\n",
      "Content Placeholder 2\n",
      "Content Placeholder 2\n",
      "Content Placeholder 2\n",
      "Content Placeholder 2\n",
      "Content Placeholder 2\n",
      "10, DATE (16)\n",
      "12, SLIDE_NUMBER (13)\n",
      "\n",
      "slide number3\n",
      "0, TITLE (1)\n",
      "Title 1\n",
      "1, OBJECT (7)\n",
      "Content Placeholder 2\n",
      "Content Placeholder 2\n",
      "Content Placeholder 2\n",
      "Content Placeholder 2\n",
      "10, DATE (16)\n",
      "12, SLIDE_NUMBER (13)\n",
      "\n",
      "slide number4\n",
      "0, TITLE (1)\n",
      "Title 1\n",
      "1, OBJECT (7)\n",
      "Content Placeholder 2\n",
      "Content Placeholder 2\n",
      "Content Placeholder 2\n",
      "Content Placeholder 2\n",
      "Content Placeholder 2\n",
      "Content Placeholder 2\n",
      "Content Placeholder 2\n",
      "Content Placeholder 2\n",
      "Content Placeholder 2\n",
      "Content Placeholder 2\n",
      "10, DATE (16)\n",
      "12, SLIDE_NUMBER (13)\n",
      "\n",
      "slide number5\n",
      "0, TITLE (1)\n",
      "Title 1\n",
      "Title 1\n",
      "1, OBJECT (7)\n",
      "no textframe\n",
      "10, DATE (16)\n",
      "12, SLIDE_NUMBER (13)\n",
      "\n",
      "slide number6\n",
      "0, TITLE (1)\n",
      "Title 1\n",
      "Title 1\n",
      "1, OBJECT (7)\n",
      "10, DATE (16)\n",
      "12, SLIDE_NUMBER (13)\n",
      "\n",
      "slide number7\n",
      "0, TITLE (1)\n",
      "Title 1\n",
      "1, OBJECT (7)\n",
      "Content Placeholder 2\n"
     ]
    },
    {
     "data": {
      "text/plain": [
       "24.0"
      ]
     },
     "metadata": {},
     "output_type": "display_data"
    },
    {
     "name": "stdout",
     "output_type": "stream",
     "text": [
      "Content Placeholder 2\n",
      "Content Placeholder 2\n",
      "Content Placeholder 2\n",
      "10, DATE (16)\n",
      "12, SLIDE_NUMBER (13)\n",
      "\n",
      "slide number8\n",
      "0, TITLE (1)\n",
      "Title 1\n",
      "Title 1\n",
      "1, OBJECT (7)\n",
      "no textframe\n",
      "10, DATE (16)\n",
      "12, SLIDE_NUMBER (13)\n",
      "\n",
      "slide number9\n",
      "0, TITLE (1)\n",
      "Title 1\n",
      "Title 1\n",
      "Title 1\n",
      "1, OBJECT (7)\n",
      "Content Placeholder 2\n",
      "Content Placeholder 2\n",
      "Content Placeholder 2\n",
      "Content Placeholder 2\n",
      "Content Placeholder 2\n",
      "Content Placeholder 2\n",
      "Content Placeholder 2\n",
      "Content Placeholder 2\n",
      "Content Placeholder 2\n",
      "Content Placeholder 2\n",
      "Content Placeholder 2\n",
      "Content Placeholder 2\n",
      "Content Placeholder 2\n",
      "10, DATE (16)\n",
      "12, SLIDE_NUMBER (13)\n",
      "\n",
      "slide number10\n",
      "0, TITLE (1)\n",
      "Title 1\n",
      "1, OBJECT (7)\n",
      "Content Placeholder 2\n",
      "Content Placeholder 2\n",
      "Content Placeholder 2\n",
      "10, DATE (16)\n",
      "12, SLIDE_NUMBER (13)\n",
      "\n",
      "slide number11\n",
      "0, TITLE (1)\n",
      "Title 1\n",
      "Title 1\n",
      "1, OBJECT (7)\n",
      "Content Placeholder 2\n",
      "Content Placeholder 2\n",
      "Content Placeholder 2\n",
      "Content Placeholder 2\n",
      "Content Placeholder 2\n",
      "Content Placeholder 2\n",
      "10, DATE (16)\n",
      "12, SLIDE_NUMBER (13)\n",
      "\n",
      "slide number12\n",
      "0, TITLE (1)\n",
      "Title 1\n",
      "1, OBJECT (7)\n",
      "Content Placeholder 2\n",
      "Content Placeholder 2\n",
      "10, DATE (16)\n",
      "12, SLIDE_NUMBER (13)\n",
      "\n",
      "slide number13\n",
      "0, TITLE (1)\n",
      "Title 1\n",
      "1, OBJECT (7)\n",
      "Content Placeholder 2\n"
     ]
    },
    {
     "data": {
      "text/plain": [
       "28.0"
      ]
     },
     "metadata": {},
     "output_type": "display_data"
    },
    {
     "name": "stdout",
     "output_type": "stream",
     "text": [
      "Content Placeholder 2\n",
      "Content Placeholder 2\n",
      "10, DATE (16)\n",
      "12, SLIDE_NUMBER (13)\n",
      "\n",
      "slide number14\n",
      "0, TITLE (1)\n",
      "Title 1\n",
      "1, OBJECT (7)\n",
      "Content Placeholder 2\n",
      "Content Placeholder 2\n",
      "Content Placeholder 2\n",
      "Content Placeholder 2\n",
      "10, DATE (16)\n",
      "12, SLIDE_NUMBER (13)\n",
      "\n",
      "slide number15\n",
      "0, TITLE (1)\n",
      "Title 1\n",
      "1, OBJECT (7)\n",
      "Content Placeholder 2\n",
      "Content Placeholder 2\n",
      "Content Placeholder 2\n",
      "Content Placeholder 2\n",
      "Content Placeholder 2\n",
      "Content Placeholder 2\n",
      "Content Placeholder 2\n",
      "Content Placeholder 2\n",
      "Content Placeholder 2\n",
      "Content Placeholder 2\n",
      "Content Placeholder 2\n",
      "10, DATE (16)\n",
      "12, SLIDE_NUMBER (13)\n",
      "\n",
      "font name\n",
      "['Times New Roman']\n",
      "\n",
      "font size\n",
      "[49.0, 96.0, 24.0, 28.0]\n",
      "\n",
      "hyperlink\n",
      "['http://teleinfobd.blogspot.in/2012/01/what-is-lifi.html']\n",
      "\n",
      "color\n",
      "[]\n",
      "\n",
      "number of font name\n",
      "2\n",
      "\n",
      "number of font size\n",
      "5\n",
      "\n",
      " number of hyperlink\n",
      "1\n",
      "\n",
      " number of color\n",
      "1\n",
      "\n",
      " number of pictures\n",
      "1\n",
      "\n",
      " number of chart\n",
      "0\n",
      "\n",
      " number of tables\n",
      "3\n",
      "\n",
      " maximum font size\n",
      "96.0\n",
      "\n",
      " minimum font size\n",
      "24.0\n",
      "e:\\ppt\\40.pptx\n",
      "\n",
      "slide number1\n",
      "TextBox 3\n"
     ]
    },
    {
     "data": {
      "text/plain": [
       "'Arial Rounded MT Bold'"
      ]
     },
     "metadata": {},
     "output_type": "display_data"
    },
    {
     "data": {
      "text/plain": [
       "54.0"
      ]
     },
     "metadata": {},
     "output_type": "display_data"
    },
    {
     "name": "stdout",
     "output_type": "stream",
     "text": [
      "\n",
      "slide number2\n",
      "TextBox 1\n"
     ]
    },
    {
     "data": {
      "text/plain": [
       "32.0"
      ]
     },
     "metadata": {},
     "output_type": "display_data"
    },
    {
     "name": "stdout",
     "output_type": "stream",
     "text": [
      "TextBox 1\n"
     ]
    },
    {
     "data": {
      "text/plain": [
       "28.0"
      ]
     },
     "metadata": {},
     "output_type": "display_data"
    },
    {
     "name": "stdout",
     "output_type": "stream",
     "text": [
      "TextBox 1\n",
      "TextBox 1\n",
      "TextBox 1\n",
      "TextBox 1\n",
      "TextBox 1\n",
      "TextBox 1\n",
      "TextBox 1\n",
      "TextBox 1\n",
      "TextBox 1\n",
      "\n",
      "slide number3\n",
      "TextBox 1\n"
     ]
    },
    {
     "data": {
      "text/plain": [
       "40.0"
      ]
     },
     "metadata": {},
     "output_type": "display_data"
    },
    {
     "name": "stdout",
     "output_type": "stream",
     "text": [
      "TextBox 1\n"
     ]
    },
    {
     "data": {
      "text/plain": [
       "20.0"
      ]
     },
     "metadata": {},
     "output_type": "display_data"
    },
    {
     "name": "stdout",
     "output_type": "stream",
     "text": [
      "TextBox 1\n",
      "TextBox 1\n",
      "TextBox 1\n",
      "TextBox 1\n",
      "TextBox 1\n",
      "TextBox 1\n",
      "TextBox 1\n",
      "TextBox 1\n",
      "TextBox 1\n",
      "TextBox 1\n",
      "TextBox 1\n",
      "TextBox 1\n",
      "TextBox 1\n",
      "TextBox 1\n",
      "TextBox 1\n"
     ]
    },
    {
     "data": {
      "text/plain": [
       "24.0"
      ]
     },
     "metadata": {},
     "output_type": "display_data"
    },
    {
     "name": "stdout",
     "output_type": "stream",
     "text": [
      "TextBox 1\n",
      "TextBox 1\n",
      "TextBox 1\n",
      "\n",
      "slide number4\n",
      "TextBox 1\n",
      "TextBox 1\n",
      "TextBox 1\n",
      "TextBox 1\n",
      "TextBox 1\n",
      "TextBox 1\n",
      "TextBox 1\n",
      "TextBox 1\n",
      "\n",
      "slide number5\n",
      "TextBox 1\n",
      "TextBox 1\n",
      "TextBox 1\n",
      "\n",
      "slide number6\n",
      "TextBox 1\n",
      "\n",
      "slide number7\n",
      "TextBox 2\n",
      "TextBox 2\n",
      "TextBox 2\n",
      "TextBox 2\n",
      "TextBox 2\n",
      "TextBox 2\n",
      "TextBox 2\n",
      "\n",
      "slide number8\n",
      "TextBox 2\n",
      "TextBox 2\n",
      "TextBox 2\n",
      "TextBox 2\n",
      "\n",
      "slide number9\n",
      "TextBox 1\n",
      "TextBox 1\n",
      "\n",
      "slide number10\n",
      "TextBox 1\n",
      "TextBox 2\n",
      "TextBox 2\n",
      "TextBox 2\n",
      "TextBox 2\n",
      "TextBox 2\n",
      "TextBox 2\n",
      "TextBox 2\n",
      "\n",
      "slide number11\n",
      "TextBox 1\n",
      "TextBox 2\n",
      "TextBox 2\n",
      "\n",
      "slide number12\n",
      "TextBox 1\n",
      "TextBox 3\n",
      "TextBox 3\n",
      "TextBox 3\n",
      "TextBox 3\n",
      "TextBox 3\n",
      "TextBox 3\n",
      "TextBox 3\n",
      "TextBox 3\n",
      "TextBox 3\n",
      "TextBox 3\n",
      "TextBox 3\n",
      "TextBox 3\n",
      "TextBox 3\n",
      "TextBox 3\n",
      "TextBox 3\n",
      "\n",
      "slide number13\n",
      "TextBox 1\n"
     ]
    },
    {
     "data": {
      "text/plain": [
       "36.0"
      ]
     },
     "metadata": {},
     "output_type": "display_data"
    },
    {
     "name": "stdout",
     "output_type": "stream",
     "text": [
      "TextBox 1\n",
      "TextBox 1\n",
      "TextBox 1\n",
      "TextBox 1\n",
      "\n",
      "slide number14\n",
      "TextBox 1\n",
      "TextBox 1\n",
      "TextBox 1\n",
      "TextBox 1\n",
      "TextBox 1\n",
      "TextBox 1\n",
      "TextBox 1\n",
      "TextBox 1\n",
      "\n",
      "slide number15\n",
      "TextBox 1\n"
     ]
    },
    {
     "data": {
      "text/plain": [
       "120.0"
      ]
     },
     "metadata": {},
     "output_type": "display_data"
    },
    {
     "name": "stdout",
     "output_type": "stream",
     "text": [
      "\n",
      "font name\n",
      "['Arial Rounded MT Bold']\n",
      "\n",
      "font size\n",
      "[54.0, 32.0, 28.0, 40.0, 20.0, 24.0, 36.0, 120.0]\n",
      "\n",
      "hyperlink\n",
      "['https://en.wikipedia.org/wiki/Computer_science', 'https://en.wikipedia.org/wiki/Intelligence', 'https://en.wikipedia.org/wiki/Machine', 'https://en.wikipedia.org/wiki/Intelligent_agent', 'https://en.wikipedia.org/wiki/Human_mind', 'https://svn.bmj.com/content/2/4/230#F3', 'https://svn.bmj.com/content/2/4/230', 'https://en.wikipedia.org/wiki/Artificial_intelligence_in_healthcare', 'https://www.edureka.co/blog/artificial-intelligence-in-healthcare/', 'https://www.asianhhm.com/technology-equipment/artificial-intelligence', 'https://www.cbinsights.com/reports/CB-Insights-Artificial-Intelligence-Webinar.pdf']\n",
      "\n",
      "color\n",
      "[]\n",
      "\n",
      "number of font name\n",
      "2\n",
      "\n",
      "number of font size\n",
      "9\n",
      "\n",
      " number of hyperlink\n",
      "11\n",
      "\n",
      " number of color\n",
      "1\n",
      "\n",
      " number of pictures\n",
      "5\n",
      "\n",
      " number of chart\n",
      "0\n",
      "\n",
      " number of tables\n",
      "0\n",
      "\n",
      " maximum font size\n",
      "120.0\n",
      "\n",
      " minimum font size\n",
      "20.0\n",
      "e:\\ppt\\41.pptx\n",
      "\n",
      "slide number1\n",
      "0, CENTER_TITLE (3)\n",
      "Title 1\n",
      "1, SUBTITLE (4)\n",
      "Subtitle 2\n"
     ]
    },
    {
     "data": {
      "text/plain": [
       "18.0"
      ]
     },
     "metadata": {},
     "output_type": "display_data"
    },
    {
     "name": "stdout",
     "output_type": "stream",
     "text": [
      "Subtitle 2\n",
      "Subtitle 2\n",
      "Subtitle 2\n",
      "Subtitle 2\n",
      "Subtitle 2\n",
      "Subtitle 2\n",
      "\n",
      "slide number2\n",
      "1, OBJECT (7)\n",
      "Content Placeholder 2\n",
      "Content Placeholder 2\n",
      "Content Placeholder 2\n",
      "Content Placeholder 2\n",
      "Content Placeholder 2\n",
      "0, TITLE (1)\n",
      "Title 1\n",
      "\n",
      "slide number3\n",
      "1, OBJECT (7)\n",
      "0, TITLE (1)\n",
      "Title 2\n",
      "\n",
      "slide number4\n",
      "0, TITLE (1)\n",
      "Title 2\n",
      "1, OBJECT (7)\n",
      "no textframe\n",
      "TextBox 8\n",
      "TextBox 8\n",
      "\n",
      "slide number5\n",
      "1, OBJECT (7)\n",
      "0, TITLE (1)\n",
      "Title 2\n",
      "\n",
      "slide number6\n",
      "1, OBJECT (7)\n",
      "no textframe\n",
      "0, TITLE (1)\n",
      "Title 2\n",
      "TextBox 11\n",
      "TextBox 11\n",
      "TextBox 11\n",
      "TextBox 11\n",
      "TextBox 11\n",
      "TextBox 11\n",
      "TextBox 11\n",
      "\n",
      "slide number7\n",
      "0, TITLE (1)\n",
      "Title 2\n",
      "1, OBJECT (7)\n",
      "\n",
      "slide number8\n",
      "0, TITLE (1)\n",
      "Title 2\n",
      "1, OBJECT (7)\n",
      "no textframe\n",
      "TextBox 7\n",
      "TextBox 7\n",
      "TextBox 7\n",
      "TextBox 7\n",
      "TextBox 7\n",
      "TextBox 7\n",
      "TextBox 7\n",
      "TextBox 7\n",
      "\n",
      "slide number9\n",
      "1, OBJECT (7)\n",
      "no textframe\n",
      "0, TITLE (1)\n",
      "Title 2\n",
      "TextBox 5\n",
      "\n",
      "slide number10\n",
      "0, TITLE (1)\n",
      "Title 2\n"
     ]
    },
    {
     "data": {
      "text/plain": [
       "54.0"
      ]
     },
     "metadata": {},
     "output_type": "display_data"
    },
    {
     "name": "stdout",
     "output_type": "stream",
     "text": [
      "1, OBJECT (7)\n",
      "no textframe\n",
      "TextBox 7\n",
      "TextBox 7\n",
      "TextBox 7\n",
      "\n",
      "slide number11\n",
      "1, OBJECT (7)\n",
      "no textframe\n",
      "0, TITLE (1)\n",
      "Title 2\n",
      "TextBox 5\n",
      "\n",
      "slide number12\n",
      "0, TITLE (1)\n",
      "Title 2\n",
      "TextBox 5\n",
      "1, OBJECT (7)\n",
      "\n",
      "slide number13\n",
      "0, TITLE (1)\n",
      "Title 2\n",
      "1, OBJECT (7)\n",
      "no textframe\n",
      "\n",
      "slide number14\n",
      "1, OBJECT (7)\n",
      "0, TITLE (1)\n",
      "Title 2\n",
      "TextBox 5\n",
      "TextBox 5\n",
      "TextBox 5\n",
      "TextBox 5\n",
      "TextBox 5\n",
      "TextBox 5\n",
      "TextBox 5\n",
      "TextBox 5\n",
      "TextBox 5\n",
      "TextBox 5\n",
      "TextBox 5\n",
      "TextBox 5\n",
      "\n",
      "slide number15\n",
      "0, TITLE (1)\n",
      "Title 2\n",
      "TextBox 5\n"
     ]
    },
    {
     "data": {
      "text/plain": [
       "20.0"
      ]
     },
     "metadata": {},
     "output_type": "display_data"
    },
    {
     "name": "stdout",
     "output_type": "stream",
     "text": [
      "TextBox 5\n",
      "\n",
      "slide number16\n",
      "0, TITLE (1)\n",
      "Title 1\n",
      "TextBox 4\n",
      "TextBox 4\n",
      "TextBox 4\n",
      "TextBox 4\n",
      "TextBox 4\n",
      "\n",
      "slide number17\n",
      "0, TITLE (1)\n",
      "Title 1\n",
      "TextBox 4\n",
      "\n",
      "slide number18\n",
      "0, TITLE (1)\n",
      "Title 1\n",
      "TextBox 4\n",
      "\n",
      "slide number19\n",
      "1, OBJECT (7)\n",
      "0, TITLE (1)\n",
      "Title 2\n"
     ]
    },
    {
     "data": {
      "text/plain": [
       "44.0"
      ]
     },
     "metadata": {},
     "output_type": "display_data"
    },
    {
     "name": "stdout",
     "output_type": "stream",
     "text": [
      "Title 2\n",
      "\n",
      "slide number20\n",
      "1, OBJECT (7)\n",
      "0, TITLE (1)\n",
      "Title 2\n",
      "\n",
      "slide number21\n",
      "1, OBJECT (7)\n",
      "no textframe\n",
      "0, TITLE (1)\n",
      "Title 2\n",
      "TextBox 4\n"
     ]
    },
    {
     "data": {
      "text/plain": [
       "24.0"
      ]
     },
     "metadata": {},
     "output_type": "display_data"
    },
    {
     "name": "stdout",
     "output_type": "stream",
     "text": [
      "TextBox 4\n",
      "TextBox 6\n",
      "TextBox 6\n",
      "TextBox 6\n",
      "TextBox 6\n",
      "TextBox 6\n",
      "\n",
      "slide number22\n",
      "1, OBJECT (7)\n",
      "no textframe\n",
      "0, TITLE (1)\n",
      "Title 2\n",
      "TextBox 7\n",
      "TextBox 7\n",
      "TextBox 8\n",
      "TextBox 8\n",
      "TextBox 8\n",
      "TextBox 8\n",
      "\n",
      "slide number23\n",
      "0, TITLE (1)\n",
      "Title 1\n",
      "\n",
      "slide number24\n",
      "1, OBJECT (7)\n",
      "no textframe\n",
      "0, TITLE (1)\n",
      "Title 2\n",
      "TextBox 5\n",
      "\n",
      "slide number25\n",
      "1, OBJECT (7)\n",
      "no textframe\n",
      "TextBox 7\n",
      "TextBox 10\n",
      "TextBox 12\n",
      "TextBox 13\n",
      "\n",
      "slide number26\n",
      "1, OBJECT (7)\n",
      "no textframe\n",
      "0, TITLE (1)\n",
      "Title 2\n",
      "\n",
      "slide number27\n",
      "1, OBJECT (7)\n",
      "0, TITLE (1)\n",
      "Title 2\n",
      "TextBox 5\n",
      "TextBox 5\n",
      "TextBox 5\n",
      "TextBox 5\n",
      "TextBox 5\n",
      "TextBox 6\n",
      "TextBox 6\n",
      "TextBox 6\n",
      "TextBox 6\n",
      "TextBox 6\n",
      "TextBox 6\n",
      "TextBox 6\n",
      "TextBox 6\n",
      "\n",
      "slide number28\n",
      "0, TITLE (1)\n",
      "Title 1\n",
      "TextBox 4\n",
      "TextBox 4\n",
      "TextBox 4\n",
      "TextBox 4\n",
      "\n",
      "slide number29\n",
      "0, TITLE (1)\n",
      "Title 1\n",
      "TextBox 4\n",
      "TextBox 4\n",
      "TextBox 4\n",
      "TextBox 4\n",
      "TextBox 4\n",
      "TextBox 4\n",
      "TextBox 4\n",
      "TextBox 4\n",
      "TextBox 5\n",
      "TextBox 5\n",
      "TextBox 5\n",
      "TextBox 5\n",
      "TextBox 5\n",
      "TextBox 5\n",
      "\n",
      "slide number30\n",
      "0, TITLE (1)\n",
      "Title 1\n",
      "TextBox 4\n",
      "TextBox 4\n",
      "TextBox 4\n",
      "TextBox 4\n",
      "TextBox 4\n",
      "TextBox 4\n",
      "TextBox 5\n",
      "TextBox 5\n",
      "TextBox 5\n",
      "\n",
      "slide number31\n",
      "0, TITLE (1)\n",
      "Title 1\n",
      "\n",
      "font name\n",
      "[]\n",
      "\n",
      "font size\n",
      "[18.0, 54.0, 20.0, 44.0, 24.0]\n",
      "\n",
      "hyperlink\n",
      "[]\n",
      "\n",
      "color\n",
      "[]\n",
      "\n",
      "number of font name\n",
      "1\n",
      "\n",
      "number of font size\n",
      "6\n",
      "\n",
      " number of hyperlink\n",
      "0\n",
      "\n",
      " number of color\n",
      "1\n",
      "\n",
      " number of pictures\n",
      "10\n",
      "\n",
      " number of chart\n",
      "0\n",
      "\n",
      " number of tables\n",
      "1\n",
      "\n",
      " maximum font size\n",
      "54.0\n",
      "\n",
      " minimum font size\n",
      "18.0\n",
      "e:\\ppt\\42.pptx\n",
      "\n",
      "slide number1\n",
      "0, CENTER_TITLE (3)\n",
      "Title 1\n",
      "Title 1\n",
      "Title 1\n",
      "\n",
      "slide number2\n",
      "0, TITLE (1)\n",
      "Title 1\n",
      "1, OBJECT (7)\n",
      "Content Placeholder 2\n"
     ]
    },
    {
     "data": {
      "text/plain": [
       "'Arial'"
      ]
     },
     "metadata": {},
     "output_type": "display_data"
    },
    {
     "name": "stdout",
     "output_type": "stream",
     "text": [
      "Content Placeholder 2\n",
      "Content Placeholder 2\n",
      "\n",
      "slide number3\n",
      "0, TITLE (1)\n",
      "Title 1\n",
      "1, OBJECT (7)\n",
      "Content Placeholder 2\n",
      "Content Placeholder 2\n",
      "Content Placeholder 2\n",
      "Content Placeholder 2\n",
      "Content Placeholder 2\n",
      "Content Placeholder 2\n",
      "Content Placeholder 2\n",
      "Content Placeholder 2\n",
      "Content Placeholder 2\n",
      "Content Placeholder 2\n",
      "Content Placeholder 2\n",
      "Content Placeholder 2\n",
      "\n",
      "slide number4\n",
      "0, TITLE (1)\n",
      "Title 1\n",
      "1, OBJECT (7)\n",
      "Content Placeholder 2\n",
      "Content Placeholder 2\n",
      "\n",
      "slide number5\n",
      "TextBox 4\n"
     ]
    },
    {
     "data": {
      "text/plain": [
       "9.0"
      ]
     },
     "metadata": {},
     "output_type": "display_data"
    },
    {
     "name": "stdout",
     "output_type": "stream",
     "text": [
      "TextBox 4\n",
      "TextBox 4\n",
      "TextBox 7\n",
      "TextBox 7\n",
      "TextBox 7\n",
      "TextBox 18\n"
     ]
    },
    {
     "data": {
      "text/plain": [
       "32.0"
      ]
     },
     "metadata": {},
     "output_type": "display_data"
    },
    {
     "name": "stdout",
     "output_type": "stream",
     "text": [
      "TextBox 19\n",
      "TextBox 22\n",
      "TextBox 33\n",
      "\n",
      "slide number6\n",
      "TextBox 2\n",
      "TextBox 2\n",
      "TextBox 2\n",
      "TextBox 4\n",
      "TextBox 4\n",
      "TextBox 4\n",
      "TextBox 15\n",
      "TextBox 16\n",
      "TextBox 18\n",
      "TextBox 30\n"
     ]
    },
    {
     "data": {
      "text/plain": [
       "24.0"
      ]
     },
     "metadata": {},
     "output_type": "display_data"
    },
    {
     "name": "stdout",
     "output_type": "stream",
     "text": [
      "TextBox 30\n",
      "TextBox 33\n",
      "TextBox 33\n",
      "TextBox 40\n",
      "TextBox 40\n",
      "TextBox 42\n",
      "TextBox 42\n",
      "\n",
      "slide number7\n",
      "\n",
      "slide number8\n",
      "TextBox 368\n",
      "TextBox 368\n",
      "TextBox 368\n",
      "TextBox 40\n"
     ]
    },
    {
     "data": {
      "text/plain": [
       "20.0"
      ]
     },
     "metadata": {},
     "output_type": "display_data"
    },
    {
     "name": "stdout",
     "output_type": "stream",
     "text": [
      "TextBox 426\n",
      "TextBox 427\n",
      "TextBox 428\n",
      "TextBox 429\n",
      "TextBox 430\n",
      "TextBox 264\n",
      "TextBox 264\n",
      "TextBox 265\n",
      "TextBox 265\n",
      "TextBox 266\n",
      "\n",
      "slide number9\n",
      "Title 1\n",
      "TextBox 14\n"
     ]
    },
    {
     "data": {
      "text/plain": [
       "28.0"
      ]
     },
     "metadata": {},
     "output_type": "display_data"
    },
    {
     "name": "stdout",
     "output_type": "stream",
     "text": [
      "TextBox 14\n",
      "TextBox 14\n",
      "TextBox 49\n",
      "TextBox 49\n",
      "TextBox 50\n",
      "TextBox 50\n",
      "TextBox 51\n",
      "TextBox 51\n",
      "TextBox 52\n",
      "TextBox 52\n",
      "TextBox 53\n",
      "TextBox 53\n",
      "TextBox 54\n",
      "TextBox 54\n",
      "\n",
      "slide number10\n",
      "TextBox 120\n",
      "Title 1\n",
      "TextBox 125\n",
      "TextBox 125\n",
      "TextBox 126\n",
      "TextBox 126\n",
      "TextBox 127\n",
      "TextBox 127\n",
      "TextBox 134\n",
      "TextBox 134\n",
      "TextBox 135\n",
      "TextBox 135\n",
      "\n",
      "slide number11\n",
      "1, OBJECT (7)\n",
      "Content Placeholder 2\n"
     ]
    },
    {
     "data": {
      "text/plain": [
       "40.0"
      ]
     },
     "metadata": {},
     "output_type": "display_data"
    },
    {
     "name": "stdout",
     "output_type": "stream",
     "text": [
      "\n",
      "slide number12\n",
      "\n",
      "slide number13\n",
      "\n",
      "slide number14\n",
      "1, OBJECT (7)\n",
      "Content Placeholder 2\n"
     ]
    },
    {
     "data": {
      "text/plain": [
       "36.0"
      ]
     },
     "metadata": {},
     "output_type": "display_data"
    },
    {
     "name": "stdout",
     "output_type": "stream",
     "text": [
      "Content Placeholder 2\n",
      "Content Placeholder 3\n",
      "Content Placeholder 3\n",
      "\n",
      "slide number15\n",
      "TextBox 2\n",
      "TextBox 10\n",
      "TextBox 10\n",
      "TextBox 11\n",
      "\n",
      "slide number16\n",
      "TextBox 139\n",
      "TextBox 141\n",
      "TextBox 143\n",
      "TextBox 145\n",
      "TextBox 147\n",
      "TextBox 152\n",
      "TextBox 152\n",
      "\n",
      "slide number17\n",
      "TextBox 111\n",
      "TextBox 211\n",
      "TextBox 212\n",
      "TextBox 213\n",
      "TextBox 214\n",
      "TextBox 216\n",
      "TextBox 221\n",
      "TextBox 221\n",
      "TextBox 243\n",
      "\n",
      "slide number18\n",
      "TextBox 111\n",
      "TextBox 211\n",
      "TextBox 212\n",
      "TextBox 213\n",
      "TextBox 214\n",
      "TextBox 216\n",
      "TextBox 221\n",
      "TextBox 221\n",
      "TextBox 221\n",
      "\n",
      "slide number19\n",
      "TextBox 111\n",
      "TextBox 211\n",
      "TextBox 212\n",
      "TextBox 213\n",
      "TextBox 214\n",
      "TextBox 216\n",
      "TextBox 221\n",
      "TextBox 221\n",
      "TextBox 221\n",
      "TextBox 221\n",
      "\n",
      "slide number20\n",
      "TextBox 111\n",
      "TextBox 211\n",
      "TextBox 212\n",
      "TextBox 213\n",
      "TextBox 214\n",
      "TextBox 221\n",
      "TextBox 221\n",
      "TextBox 221\n",
      "TextBox 221\n",
      "\n",
      "slide number21\n",
      "0, TITLE (1)\n",
      "Title 1\n",
      "1, OBJECT (7)\n",
      "Content Placeholder 2\n",
      "Content Placeholder 2\n",
      "Content Placeholder 2\n",
      "Content Placeholder 2\n",
      "Content Placeholder 2\n",
      "Content Placeholder 2\n",
      "\n",
      "slide number22\n",
      "0, TITLE (1)\n",
      "Title 1\n"
     ]
    },
    {
     "data": {
      "text/plain": [
       "88.0"
      ]
     },
     "metadata": {},
     "output_type": "display_data"
    },
    {
     "name": "stdout",
     "output_type": "stream",
     "text": [
      "Title 1\n",
      "\n",
      "font name\n",
      "['Arial']\n",
      "\n",
      "font size\n",
      "[9.0, 32.0, 24.0, 20.0, 28.0, 40.0, 36.0, 88.0]\n",
      "\n",
      "hyperlink\n",
      "['https://commons.wikimedia.org/wiki/File:Crystal_Clear_kdm_user_female.svg', 'https://creativecommons.org/licenses/by-sa/3.0/']\n",
      "\n",
      "color\n",
      "[(146, 208, 80), (255, 192, 0)]\n",
      "\n",
      "number of font name\n",
      "2\n",
      "\n",
      "number of font size\n",
      "9\n",
      "\n",
      " number of hyperlink\n",
      "2\n",
      "\n",
      " number of color\n",
      "3\n",
      "\n",
      " number of pictures\n",
      "39\n",
      "\n",
      " number of chart\n",
      "0\n",
      "\n",
      " number of tables\n",
      "1\n",
      "\n",
      " maximum font size\n",
      "88.0\n",
      "\n",
      " minimum font size\n",
      "9.0\n",
      "e:\\ppt\\43.pptx\n",
      "\n",
      "slide number1\n",
      "0, TITLE (1)\n",
      "Title 1\n",
      "Title 1\n",
      "Title 1\n",
      "1, OBJECT (7)\n",
      "Content Placeholder 2\n",
      "Content Placeholder 2\n"
     ]
    },
    {
     "data": {
      "text/plain": [
       "44.0"
      ]
     },
     "metadata": {},
     "output_type": "display_data"
    },
    {
     "name": "stdout",
     "output_type": "stream",
     "text": [
      "Content Placeholder 2\n",
      "Content Placeholder 2\n",
      "Content Placeholder 2\n"
     ]
    },
    {
     "data": {
      "text/plain": [
       "32.0"
      ]
     },
     "metadata": {},
     "output_type": "display_data"
    },
    {
     "name": "stdout",
     "output_type": "stream",
     "text": [
      "Content Placeholder 2\n",
      "Content Placeholder 2\n",
      "Content Placeholder 2\n",
      "Content Placeholder 2\n",
      "10, DATE (16)\n",
      "12, SLIDE_NUMBER (13)\n",
      "\n",
      "slide number2\n",
      "0, CENTER_TITLE (3)\n",
      "Title 1\n"
     ]
    },
    {
     "data": {
      "text/plain": [
       "'Algerian'"
      ]
     },
     "metadata": {},
     "output_type": "display_data"
    },
    {
     "data": {
      "text/plain": [
       "36.0"
      ]
     },
     "metadata": {},
     "output_type": "display_data"
    },
    {
     "name": "stdout",
     "output_type": "stream",
     "text": [
      "1, SUBTITLE (4)\n",
      "Subtitle 2\n",
      "Subtitle 2\n",
      "Subtitle 2\n",
      "Subtitle 2\n",
      "Subtitle 2\n",
      "Subtitle 2\n",
      "10, DATE (16)\n",
      "12, SLIDE_NUMBER (13)\n",
      "\n",
      "slide number3\n",
      "0, TITLE (1)\n",
      "Title 1\n",
      "1, OBJECT (7)\n",
      "Content Placeholder 2\n",
      "Content Placeholder 2\n",
      "10, DATE (16)\n",
      "12, SLIDE_NUMBER (13)\n",
      "\n",
      "slide number4\n",
      "0, TITLE (1)\n",
      "Title 1\n",
      "1, OBJECT (7)\n",
      "Content Placeholder 2\n",
      "Content Placeholder 2\n",
      "Content Placeholder 2\n",
      "Content Placeholder 2\n",
      "Content Placeholder 2\n",
      "Content Placeholder 2\n",
      "10, DATE (16)\n",
      "12, SLIDE_NUMBER (13)\n",
      "\n",
      "slide number5\n",
      "0, TITLE (1)\n",
      "Title 1\n",
      "1, OBJECT (7)\n",
      "Content Placeholder 2\n",
      "Content Placeholder 2\n",
      "Content Placeholder 2\n",
      "Content Placeholder 2\n",
      "Content Placeholder 2\n",
      "Content Placeholder 2\n",
      "Content Placeholder 2\n",
      "10, DATE (16)\n",
      "12, SLIDE_NUMBER (13)\n",
      "\n",
      "slide number6\n",
      "0, TITLE (1)\n",
      "Title 1\n"
     ]
    },
    {
     "data": {
      "text/plain": [
       "20.0"
      ]
     },
     "metadata": {},
     "output_type": "display_data"
    },
    {
     "name": "stdout",
     "output_type": "stream",
     "text": [
      "Title 1\n",
      "1, OBJECT (7)\n",
      "no textframe\n",
      "2, OBJECT (7)\n",
      "no textframe\n",
      "10, DATE (16)\n",
      "12, SLIDE_NUMBER (13)\n",
      "\n",
      "slide number7\n",
      "0, TITLE (1)\n",
      "Title 1\n",
      "Title 1\n",
      "1, OBJECT (7)\n",
      "no textframe\n",
      "2, OBJECT (7)\n",
      "no textframe\n",
      "10, DATE (16)\n",
      "12, SLIDE_NUMBER (13)\n",
      "\n",
      "slide number8\n",
      "0, TITLE (1)\n",
      "Title 1\n",
      "1, OBJECT (7)\n",
      "no textframe\n",
      "10, DATE (16)\n",
      "12, SLIDE_NUMBER (13)\n",
      "\n",
      "slide number9\n",
      "0, TITLE (1)\n",
      "Title 1\n",
      "1, OBJECT (7)\n",
      "no textframe\n",
      "10, DATE (16)\n",
      "12, SLIDE_NUMBER (13)\n",
      "\n",
      "slide number10\n",
      "0, TITLE (1)\n",
      "Title 1\n",
      "1, OBJECT (7)\n",
      "Content Placeholder 2\n",
      "Content Placeholder 2\n",
      "Content Placeholder 2\n",
      "Content Placeholder 2\n",
      "Content Placeholder 2\n",
      "Content Placeholder 2\n",
      "Content Placeholder 2\n",
      "Content Placeholder 2\n",
      "Content Placeholder 2\n",
      "Content Placeholder 2\n",
      "Content Placeholder 2\n",
      "Content Placeholder 2\n",
      "10, DATE (16)\n",
      "12, SLIDE_NUMBER (13)\n",
      "\n",
      "slide number11\n",
      "0, TITLE (1)\n",
      "Title 1\n",
      "1, OBJECT (7)\n",
      "Content Placeholder 2\n",
      "Content Placeholder 2\n",
      "Content Placeholder 2\n",
      "Content Placeholder 2\n",
      "Content Placeholder 2\n",
      "10, DATE (16)\n",
      "12, SLIDE_NUMBER (13)\n",
      "\n",
      "slide number12\n",
      "0, TITLE (1)\n",
      "Title 1\n"
     ]
    },
    {
     "data": {
      "text/plain": [
       "28.0"
      ]
     },
     "metadata": {},
     "output_type": "display_data"
    },
    {
     "name": "stdout",
     "output_type": "stream",
     "text": [
      "Title 1\n",
      "Title 1\n",
      "1, OBJECT (7)\n",
      "Content Placeholder 2\n",
      "Content Placeholder 2\n",
      "Content Placeholder 2\n",
      "Content Placeholder 2\n",
      "Content Placeholder 2\n",
      "Content Placeholder 2\n",
      "10, DATE (16)\n",
      "12, SLIDE_NUMBER (13)\n",
      "\n",
      "slide number13\n",
      "0, TITLE (1)\n",
      "Title 1\n",
      "1, OBJECT (7)\n",
      "Content Placeholder 2\n",
      "Content Placeholder 2\n",
      "Content Placeholder 2\n",
      "Content Placeholder 2\n",
      "Content Placeholder 2\n",
      "Content Placeholder 2\n",
      "Content Placeholder 2\n",
      "10, DATE (16)\n",
      "12, SLIDE_NUMBER (13)\n",
      "\n",
      "slide number14\n",
      "0, TITLE (1)\n",
      "Title 1\n",
      "1, OBJECT (7)\n",
      "Content Placeholder 2\n",
      "Content Placeholder 2\n",
      "Content Placeholder 2\n",
      "Content Placeholder 2\n",
      "Content Placeholder 2\n",
      "10, DATE (16)\n",
      "12, SLIDE_NUMBER (13)\n",
      "\n",
      "slide number15\n",
      "0, TITLE (1)\n",
      "Title 1\n",
      "1, OBJECT (7)\n",
      "Content Placeholder 2\n",
      "Content Placeholder 2\n",
      "Content Placeholder 2\n",
      "10, DATE (16)\n",
      "12, SLIDE_NUMBER (13)\n",
      "\n",
      "slide number16\n",
      "0, TITLE (1)\n",
      "Title 1\n",
      "Title 1\n"
     ]
    },
    {
     "data": {
      "text/plain": [
       "60.0"
      ]
     },
     "metadata": {},
     "output_type": "display_data"
    },
    {
     "name": "stdout",
     "output_type": "stream",
     "text": [
      "Title 1\n",
      "1, BODY (2)\n",
      "10, DATE (16)\n",
      "12, SLIDE_NUMBER (13)\n",
      "\n",
      "font name\n",
      "['Algerian']\n",
      "\n",
      "font size\n",
      "[44.0, 32.0, 36.0, 20.0, 28.0, 60.0]\n",
      "\n",
      "hyperlink\n",
      "[]\n",
      "\n",
      "color\n",
      "[(255, 0, 0)]\n",
      "\n",
      "number of font name\n",
      "2\n",
      "\n",
      "number of font size\n",
      "7\n",
      "\n",
      " number of hyperlink\n",
      "0\n",
      "\n",
      " number of color\n",
      "2\n",
      "\n",
      " number of pictures\n",
      "0\n",
      "\n",
      " number of chart\n",
      "0\n",
      "\n",
      " number of tables\n",
      "0\n",
      "\n",
      " maximum font size\n",
      "60.0\n",
      "\n",
      " minimum font size\n",
      "20.0\n",
      "e:\\ppt\\44.pptx\n",
      "\n",
      "slide number1\n",
      "0, CENTER_TITLE (3)\n",
      "Title 1\n",
      "Title 1\n"
     ]
    },
    {
     "data": {
      "text/plain": [
       "'Arial'"
      ]
     },
     "metadata": {},
     "output_type": "display_data"
    },
    {
     "name": "stdout",
     "output_type": "stream",
     "text": [
      "TextBox 4\n"
     ]
    },
    {
     "data": {
      "text/plain": [
       "'Baskerville Old Face'"
      ]
     },
     "metadata": {},
     "output_type": "display_data"
    },
    {
     "data": {
      "text/plain": [
       "24.0"
      ]
     },
     "metadata": {},
     "output_type": "display_data"
    },
    {
     "name": "stdout",
     "output_type": "stream",
     "text": [
      "TextBox 4\n",
      "\n",
      "slide number2\n",
      "0, TITLE (1)\n",
      "Title 1\n"
     ]
    },
    {
     "data": {
      "text/plain": [
       "36.0"
      ]
     },
     "metadata": {},
     "output_type": "display_data"
    },
    {
     "name": "stdout",
     "output_type": "stream",
     "text": [
      "1, OBJECT (7)\n",
      "Content Placeholder 2\n"
     ]
    },
    {
     "data": {
      "text/plain": [
       "26.0"
      ]
     },
     "metadata": {},
     "output_type": "display_data"
    },
    {
     "name": "stdout",
     "output_type": "stream",
     "text": [
      "Content Placeholder 2\n",
      "Content Placeholder 2\n",
      "Content Placeholder 2\n",
      "Content Placeholder 2\n",
      "Content Placeholder 2\n",
      "Content Placeholder 2\n",
      "\n",
      "slide number3\n",
      "1, OBJECT (7)\n",
      "Content Placeholder 2\n",
      "Content Placeholder 2\n",
      "Content Placeholder 2\n",
      "Content Placeholder 2\n",
      "Content Placeholder 2\n",
      "Content Placeholder 2\n",
      "Content Placeholder 2\n",
      "Content Placeholder 2\n",
      "Content Placeholder 2\n",
      "TextBox 3\n",
      "\n",
      "slide number4\n",
      "0, TITLE (1)\n",
      "Title 1\n",
      "1, OBJECT (7)\n",
      "no textframe\n",
      "\n",
      "slide number5\n",
      "1, OBJECT (7)\n",
      "no textframe\n",
      "TextBox 2\n"
     ]
    },
    {
     "data": {
      "text/plain": [
       "20.0"
      ]
     },
     "metadata": {},
     "output_type": "display_data"
    },
    {
     "name": "stdout",
     "output_type": "stream",
     "text": [
      "TextBox 2\n",
      "\n",
      "slide number6\n",
      "0, TITLE (1)\n",
      "Title 1\n",
      "Title 1\n",
      "1, OBJECT (7)\n",
      "Content Placeholder 2\n",
      "\n",
      "slide number7\n",
      "0, TITLE (1)\n",
      "Title 1\n",
      "1, OBJECT (7)\n",
      "Content Placeholder 2\n",
      "Content Placeholder 2\n",
      "Content Placeholder 2\n",
      "Content Placeholder 2\n",
      "Content Placeholder 2\n",
      "Content Placeholder 2\n",
      "\n",
      "slide number8\n",
      "1, OBJECT (7)\n",
      "no textframe\n",
      "2, OBJECT (7)\n",
      "no textframe\n",
      "TextBox 11\n",
      "TextBox 11\n",
      "TextBox 11\n",
      "TextBox 11\n",
      "TextBox 11\n",
      "TextBox 11\n",
      "TextBox 11\n",
      "TextBox 12\n",
      "TextBox 12\n",
      "TextBox 12\n",
      "TextBox 12\n",
      "TextBox 12\n",
      "TextBox 12\n",
      "\n",
      "slide number9\n",
      "0, TITLE (1)\n",
      "Title 1\n",
      "1, OBJECT (7)\n",
      "Content Placeholder 2\n"
     ]
    },
    {
     "data": {
      "text/plain": [
       "'+mj-lt'"
      ]
     },
     "metadata": {},
     "output_type": "display_data"
    },
    {
     "name": "stdout",
     "output_type": "stream",
     "text": [
      "Content Placeholder 2\n",
      "Content Placeholder 2\n",
      "Content Placeholder 2\n",
      "\n",
      "slide number10\n",
      "0, TITLE (1)\n",
      "Title 1\n",
      "1, OBJECT (7)\n",
      "Content Placeholder 2\n",
      "Content Placeholder 2\n",
      "Content Placeholder 2\n",
      "Content Placeholder 2\n",
      "Content Placeholder 2\n",
      "\n",
      "slide number11\n",
      "0, TITLE (1)\n",
      "Title 1\n"
     ]
    },
    {
     "data": {
      "text/plain": [
       "'Bleeding Cowboys'"
      ]
     },
     "metadata": {},
     "output_type": "display_data"
    },
    {
     "data": {
      "text/plain": [
       "48.0"
      ]
     },
     "metadata": {},
     "output_type": "display_data"
    },
    {
     "name": "stdout",
     "output_type": "stream",
     "text": [
      "\n",
      "font name\n",
      "['Arial', 'Baskerville Old Face', '+mj-lt', 'Bleeding Cowboys']\n",
      "\n",
      "font size\n",
      "[24.0, 36.0, 26.0, 20.0, 48.0]\n",
      "\n",
      "hyperlink\n",
      "[]\n",
      "\n",
      "color\n",
      "[]\n",
      "\n",
      "number of font name\n",
      "5\n",
      "\n",
      "number of font size\n",
      "6\n",
      "\n",
      " number of hyperlink\n",
      "0\n",
      "\n",
      " number of color\n",
      "1\n",
      "\n",
      " number of pictures\n",
      "5\n",
      "\n",
      " number of chart\n",
      "0\n",
      "\n",
      " number of tables\n",
      "0\n",
      "\n",
      " maximum font size\n",
      "48.0\n",
      "\n",
      " minimum font size\n",
      "20.0\n",
      "e:\\ppt\\45.pptx\n",
      "\n",
      "slide number1\n",
      "0, CENTER_TITLE (3)\n",
      "Title 1\n"
     ]
    },
    {
     "data": {
      "text/plain": [
       "'Times New Roman'"
      ]
     },
     "metadata": {},
     "output_type": "display_data"
    },
    {
     "data": {
      "text/plain": [
       "60.0"
      ]
     },
     "metadata": {},
     "output_type": "display_data"
    },
    {
     "name": "stdout",
     "output_type": "stream",
     "text": [
      "Title 1\n",
      "Title 1\n",
      "1, SUBTITLE (4)\n",
      "Subtitle 2\n",
      "Subtitle 2\n",
      "Subtitle 2\n",
      "TextBox 4\n",
      "\n",
      "slide number2\n",
      "0, TITLE (1)\n",
      "Title 1\n",
      "1, OBJECT (7)\n",
      "Content Placeholder 2\n",
      "Content Placeholder 2\n",
      "Content Placeholder 2\n",
      "Content Placeholder 2\n",
      "Content Placeholder 2\n",
      "Content Placeholder 2\n",
      "Content Placeholder 2\n",
      "Content Placeholder 2\n",
      "Content Placeholder 2\n",
      "Content Placeholder 2\n",
      "Content Placeholder 2\n",
      "Content Placeholder 2\n",
      "Content Placeholder 2\n",
      "\n",
      "slide number3\n",
      "0, TITLE (1)\n",
      "Title 1\n",
      "Title 1\n",
      "1, BODY (2)\n",
      "Text Placeholder 2\n"
     ]
    },
    {
     "data": {
      "text/plain": [
       "16.0"
      ]
     },
     "metadata": {},
     "output_type": "display_data"
    },
    {
     "name": "stdout",
     "output_type": "stream",
     "text": [
      "Text Placeholder 2\n",
      "Text Placeholder 2\n",
      "Text Placeholder 2\n",
      "Text Placeholder 2\n",
      "Text Placeholder 2\n",
      "Text Placeholder 2\n",
      "Text Placeholder 2\n",
      "\n",
      "slide number4\n",
      "0, TITLE (1)\n",
      "Title 1\n",
      "1, OBJECT (7)\n",
      "Content Placeholder 2\n",
      "Content Placeholder 2\n",
      "Content Placeholder 2\n",
      "Content Placeholder 2\n",
      "Content Placeholder 2\n",
      "Content Placeholder 2\n",
      "Content Placeholder 2\n",
      "Content Placeholder 2\n",
      "Content Placeholder 2\n",
      "Content Placeholder 2\n",
      "Content Placeholder 2\n",
      "Content Placeholder 2\n",
      "Content Placeholder 2\n",
      "\n",
      "slide number5\n",
      "0, TITLE (1)\n",
      "Title 1\n",
      "1, OBJECT (7)\n",
      "Content Placeholder 2\n",
      "Content Placeholder 2\n",
      "Content Placeholder 2\n",
      "\n",
      "slide number6\n",
      "0, TITLE (1)\n",
      "Title 1\n",
      "1, OBJECT (7)\n",
      "Content Placeholder 2\n",
      "Content Placeholder 2\n",
      "Content Placeholder 2\n",
      "Content Placeholder 2\n",
      "Content Placeholder 2\n",
      "Content Placeholder 2\n",
      "Content Placeholder 2\n",
      "Content Placeholder 2\n",
      "Content Placeholder 2\n",
      "Content Placeholder 2\n",
      "Content Placeholder 2\n",
      "\n",
      "slide number7\n",
      "0, TITLE (1)\n",
      "Title 1\n",
      "Title 1\n",
      "1, BODY (2)\n",
      "Text Placeholder 2\n",
      "Text Placeholder 2\n",
      "Text Placeholder 2\n",
      "Text Placeholder 2\n",
      "Text Placeholder 2\n",
      "Text Placeholder 2\n",
      "Text Placeholder 2\n",
      "Text Placeholder 2\n",
      "Text Placeholder 2\n",
      "Text Placeholder 2\n",
      "Text Placeholder 2\n",
      "\n",
      "slide number8\n",
      "0, TITLE (1)\n",
      "Title 1\n",
      "TextBox 3\n",
      "\n",
      "slide number9\n",
      "TextBox 3\n",
      "TextBox 4\n",
      "\n",
      "slide number10\n",
      "0, TITLE (1)\n",
      "Title 1\n",
      "1, OBJECT (7)\n",
      "Content Placeholder 2\n",
      "Content Placeholder 2\n",
      "Content Placeholder 2\n",
      "2, OBJECT (7)\n",
      "Content Placeholder 3\n",
      "Content Placeholder 3\n",
      "Content Placeholder 3\n",
      "\n",
      "slide number11\n",
      "0, TITLE (1)\n",
      "Title 1\n",
      "1, OBJECT (7)\n",
      "Content Placeholder 2\n",
      "Content Placeholder 2\n",
      "Content Placeholder 2\n",
      "Content Placeholder 2\n",
      "Content Placeholder 2\n",
      "2, OBJECT (7)\n",
      "Content Placeholder 3\n",
      "Content Placeholder 3\n",
      "Content Placeholder 3\n",
      "Content Placeholder 3\n",
      "\n",
      "slide number12\n",
      "0, TITLE (1)\n",
      "Title 1\n",
      "1, OBJECT (7)\n",
      "Content Placeholder 2\n",
      "Content Placeholder 2\n",
      "Content Placeholder 2\n",
      "Content Placeholder 2\n",
      "Content Placeholder 2\n",
      "Content Placeholder 2\n",
      "Content Placeholder 2\n",
      "Content Placeholder 2\n",
      "Content Placeholder 2\n",
      "Content Placeholder 2\n",
      "Content Placeholder 2\n",
      "Content Placeholder 2\n",
      "Content Placeholder 2\n",
      "Content Placeholder 2\n",
      "\n",
      "slide number13\n",
      "0, TITLE (1)\n",
      "Title 1\n",
      "1, OBJECT (7)\n",
      "Content Placeholder 2\n",
      "Content Placeholder 2\n",
      "Content Placeholder 2\n",
      "Content Placeholder 2\n",
      "Content Placeholder 2\n",
      "Content Placeholder 2\n",
      "Content Placeholder 2\n",
      "Content Placeholder 2\n",
      "Content Placeholder 2\n",
      "Content Placeholder 2\n",
      "Content Placeholder 2\n",
      "Content Placeholder 2\n",
      "Content Placeholder 2\n",
      "Content Placeholder 2\n",
      "Content Placeholder 2\n",
      "Content Placeholder 2\n",
      "Content Placeholder 2\n",
      "Content Placeholder 2\n",
      "Content Placeholder 2\n",
      "Content Placeholder 2\n",
      "Content Placeholder 2\n",
      "Content Placeholder 2\n",
      "Content Placeholder 2\n",
      "\n",
      "slide number14\n",
      "0, TITLE (1)\n",
      "Title 1\n",
      "1, OBJECT (7)\n",
      "Content Placeholder 2\n",
      "Content Placeholder 2\n",
      "Content Placeholder 2\n",
      "Content Placeholder 2\n",
      "Content Placeholder 2\n",
      "Content Placeholder 2\n",
      "Content Placeholder 2\n",
      "Content Placeholder 2\n",
      "Content Placeholder 2\n",
      "Content Placeholder 2\n",
      "Content Placeholder 2\n",
      "Content Placeholder 2\n",
      "Content Placeholder 2\n",
      "Content Placeholder 2\n",
      "Content Placeholder 2\n",
      "Content Placeholder 2\n",
      "\n",
      "slide number15\n",
      "0, CENTER_TITLE (3)\n",
      "Title 1\n",
      "\n",
      "font name\n",
      "['Times New Roman']\n",
      "\n",
      "font size\n",
      "[60.0, 16.0]\n",
      "\n",
      "hyperlink\n",
      "[]\n",
      "\n",
      "color\n",
      "[]\n",
      "\n",
      "number of font name\n",
      "2\n",
      "\n",
      "number of font size\n",
      "3\n",
      "\n",
      " number of hyperlink\n",
      "0\n",
      "\n",
      " number of color\n",
      "1\n",
      "\n",
      " number of pictures\n",
      "13\n",
      "\n",
      " number of chart\n",
      "0\n",
      "\n",
      " number of tables\n",
      "0\n",
      "\n",
      " maximum font size\n",
      "60.0\n",
      "\n",
      " minimum font size\n",
      "16.0\n",
      "e:\\ppt\\46.pptx\n",
      "\n",
      "slide number1\n",
      "\n",
      "slide number2\n",
      "\n",
      "slide number3\n",
      "TextBox 2\n"
     ]
    },
    {
     "data": {
      "text/plain": [
       "'Arimo'"
      ]
     },
     "metadata": {},
     "output_type": "display_data"
    },
    {
     "data": {
      "text/plain": [
       "40.0"
      ]
     },
     "metadata": {},
     "output_type": "display_data"
    },
    {
     "name": "stdout",
     "output_type": "stream",
     "text": [
      "TextBox 2\n"
     ]
    },
    {
     "data": {
      "text/plain": [
       "'Open Sans Extra Bold'"
      ]
     },
     "metadata": {},
     "output_type": "display_data"
    },
    {
     "name": "stdout",
     "output_type": "stream",
     "text": [
      "TextBox 3\n"
     ]
    },
    {
     "data": {
      "text/plain": [
       "'League Spartan'"
      ]
     },
     "metadata": {},
     "output_type": "display_data"
    },
    {
     "data": {
      "text/plain": [
       "28.0"
      ]
     },
     "metadata": {},
     "output_type": "display_data"
    },
    {
     "name": "stdout",
     "output_type": "stream",
     "text": [
      "TextBox 3\n",
      "TextBox 4\n",
      "TextBox 4\n"
     ]
    },
    {
     "data": {
      "text/plain": [
       "27.93"
      ]
     },
     "metadata": {},
     "output_type": "display_data"
    },
    {
     "name": "stdout",
     "output_type": "stream",
     "text": [
      "TextBox 5\n",
      "TextBox 5\n",
      "TextBox 5\n",
      "TextBox 6\n",
      "TextBox 6\n"
     ]
    },
    {
     "data": {
      "text/plain": [
       "24.6"
      ]
     },
     "metadata": {},
     "output_type": "display_data"
    },
    {
     "name": "stdout",
     "output_type": "stream",
     "text": [
      "\n",
      "slide number4\n",
      "TextBox 5\n"
     ]
    },
    {
     "data": {
      "text/plain": [
       "'Gothic A1 Light'"
      ]
     },
     "metadata": {},
     "output_type": "display_data"
    },
    {
     "data": {
      "text/plain": [
       "18.0"
      ]
     },
     "metadata": {},
     "output_type": "display_data"
    },
    {
     "name": "stdout",
     "output_type": "stream",
     "text": [
      "TextBox 5\n",
      "TextBox 5\n",
      "\n",
      "slide number5\n",
      "\n",
      "slide number6\n",
      "TextBox 5\n"
     ]
    },
    {
     "data": {
      "text/plain": [
       "'HK Modular'"
      ]
     },
     "metadata": {},
     "output_type": "display_data"
    },
    {
     "data": {
      "text/plain": [
       "30.54"
      ]
     },
     "metadata": {},
     "output_type": "display_data"
    },
    {
     "name": "stdout",
     "output_type": "stream",
     "text": [
      "TextBox 6\n"
     ]
    },
    {
     "data": {
      "text/plain": [
       "56.92"
      ]
     },
     "metadata": {},
     "output_type": "display_data"
    },
    {
     "name": "stdout",
     "output_type": "stream",
     "text": [
      "TextBox 7\n"
     ]
    },
    {
     "data": {
      "text/plain": [
       "56.89"
      ]
     },
     "metadata": {},
     "output_type": "display_data"
    },
    {
     "name": "stdout",
     "output_type": "stream",
     "text": [
      "\n",
      "slide number7\n",
      "TextBox 3\n"
     ]
    },
    {
     "data": {
      "text/plain": [
       "'HK Modular Bold Italics'"
      ]
     },
     "metadata": {},
     "output_type": "display_data"
    },
    {
     "data": {
      "text/plain": [
       "72.04"
      ]
     },
     "metadata": {},
     "output_type": "display_data"
    },
    {
     "name": "stdout",
     "output_type": "stream",
     "text": [
      "TextBox 4\n"
     ]
    },
    {
     "data": {
      "text/plain": [
       "'Raleway'"
      ]
     },
     "metadata": {},
     "output_type": "display_data"
    },
    {
     "data": {
      "text/plain": [
       "21.0"
      ]
     },
     "metadata": {},
     "output_type": "display_data"
    },
    {
     "name": "stdout",
     "output_type": "stream",
     "text": [
      "TextBox 5\n"
     ]
    },
    {
     "data": {
      "text/plain": [
       "'Open Sans Light'"
      ]
     },
     "metadata": {},
     "output_type": "display_data"
    },
    {
     "name": "stdout",
     "output_type": "stream",
     "text": [
      "TextBox 6\n",
      "\n",
      "slide number8\n",
      "\n",
      "slide number9\n",
      "\n",
      "slide number10\n",
      "\n",
      "slide number11\n",
      "\n",
      "slide number12\n",
      "TextBox 9\n"
     ]
    },
    {
     "data": {
      "text/plain": [
       "'League Spartan Bold'"
      ]
     },
     "metadata": {},
     "output_type": "display_data"
    },
    {
     "data": {
      "text/plain": [
       "56.0"
      ]
     },
     "metadata": {},
     "output_type": "display_data"
    },
    {
     "name": "stdout",
     "output_type": "stream",
     "text": [
      "\n",
      "slide number13\n",
      "TextBox 5\n",
      "\n",
      "slide number14\n",
      "TextBox 5\n",
      "\n",
      "slide number15\n",
      "TextBox 2\n",
      "\n",
      "font name\n",
      "['Arimo', 'Open Sans Extra Bold', 'League Spartan', 'Gothic A1 Light', 'HK Modular', 'HK Modular Bold Italics', 'Raleway', 'Open Sans Light', 'League Spartan Bold']\n",
      "\n",
      "font size\n",
      "[40.0, 28.0, 27.93, 24.6, 18.0, 30.54, 56.92, 56.89, 72.04, 21.0, 56.0]\n",
      "\n",
      "hyperlink\n",
      "[]\n",
      "\n",
      "color\n",
      "[(255, 255, 255), (112, 173, 71), (35, 31, 29), (114, 189, 13)]\n",
      "\n",
      "number of font name\n",
      "10\n",
      "\n",
      "number of font size\n",
      "12\n",
      "\n",
      " number of hyperlink\n",
      "0\n",
      "\n",
      " number of color\n",
      "5\n",
      "\n",
      " number of pictures\n",
      "6\n",
      "\n",
      " number of chart\n",
      "0\n",
      "\n",
      " number of tables\n",
      "0\n",
      "\n",
      " maximum font size\n",
      "72.04\n",
      "\n",
      " minimum font size\n",
      "18.0\n",
      "e:\\ppt\\47.pptx\n",
      "\n",
      "slide number1\n",
      "0, TITLE (1)\n",
      "Title 1\n"
     ]
    },
    {
     "data": {
      "text/plain": [
       "'Copperplate Gothic Bold'"
      ]
     },
     "metadata": {},
     "output_type": "display_data"
    },
    {
     "name": "stdout",
     "output_type": "stream",
     "text": [
      "Title 1\n",
      "Title 1\n",
      "Title 1\n",
      "Title 1\n"
     ]
    },
    {
     "data": {
      "text/plain": [
       "'Times New Roman'"
      ]
     },
     "metadata": {},
     "output_type": "display_data"
    },
    {
     "data": {
      "text/plain": [
       "22.0"
      ]
     },
     "metadata": {},
     "output_type": "display_data"
    },
    {
     "name": "stdout",
     "output_type": "stream",
     "text": [
      "Title 1\n",
      "Title 1\n",
      "Title 1\n",
      "Title 1\n",
      "Title 1\n",
      "\n",
      "slide number2\n",
      "\n",
      "slide number3\n",
      "0, TITLE (1)\n",
      "Title 1\n",
      "\n",
      "slide number4\n",
      "\n",
      "slide number5\n",
      "0, TITLE (1)\n",
      "Title 1\n",
      "\n",
      "slide number6\n",
      "0, TITLE (1)\n",
      "Title 1\n",
      "\n",
      "slide number7\n",
      "\n",
      "slide number8\n",
      "0, TITLE (1)\n",
      "Title 1\n",
      "\n",
      "slide number9\n",
      "0, TITLE (1)\n",
      "Title 1\n",
      "\n",
      "slide number10\n",
      "0, TITLE (1)\n",
      "Title 1\n",
      "\n",
      "slide number11\n",
      "0, TITLE (1)\n",
      "Title 1\n",
      "\n",
      "slide number12\n",
      "0, TITLE (1)\n",
      "Title 1\n"
     ]
    },
    {
     "data": {
      "text/plain": [
       "25.0"
      ]
     },
     "metadata": {},
     "output_type": "display_data"
    },
    {
     "name": "stdout",
     "output_type": "stream",
     "text": [
      "\n",
      "slide number13\n",
      "\n",
      "slide number14\n",
      "0, TITLE (1)\n",
      "Title 1\n",
      "1, OBJECT (7)\n",
      "Content Placeholder 2\n",
      "\n",
      "slide number15\n",
      "0, TITLE (1)\n",
      "Title 1\n",
      "1, OBJECT (7)\n",
      "Content Placeholder 2\n",
      "Content Placeholder 2\n",
      "Content Placeholder 2\n",
      "Content Placeholder 2\n",
      "Content Placeholder 2\n",
      "Content Placeholder 2\n",
      "Content Placeholder 2\n",
      "Content Placeholder 2\n",
      "Content Placeholder 2\n",
      "Content Placeholder 2\n",
      "Content Placeholder 2\n",
      "Content Placeholder 2\n",
      "Content Placeholder 2\n",
      "Content Placeholder 2\n",
      "Content Placeholder 2\n",
      "Content Placeholder 2\n",
      "Content Placeholder 2\n",
      "Content Placeholder 2\n",
      "Content Placeholder 2\n",
      "Content Placeholder 2\n",
      "Content Placeholder 2\n",
      "\n",
      "font name\n",
      "['Copperplate Gothic Bold', 'Times New Roman']\n",
      "\n",
      "font size\n",
      "[22.0, 25.0]\n",
      "\n",
      "hyperlink\n",
      "[]\n",
      "\n",
      "color\n",
      "[]\n",
      "\n",
      "number of font name\n",
      "3\n",
      "\n",
      "number of font size\n",
      "3\n",
      "\n",
      " number of hyperlink\n",
      "0\n",
      "\n",
      " number of color\n",
      "1\n",
      "\n",
      " number of pictures\n",
      "16\n",
      "\n",
      " number of chart\n",
      "0\n",
      "\n",
      " number of tables\n",
      "0\n",
      "\n",
      " maximum font size\n",
      "25.0\n",
      "\n",
      " minimum font size\n",
      "22.0\n",
      "e:\\ppt\\48.pptx\n",
      "\n",
      "slide number1\n",
      "0, CENTER_TITLE (3)\n",
      "Title 3\n"
     ]
    },
    {
     "data": {
      "text/plain": [
       "'Times New Roman'"
      ]
     },
     "metadata": {},
     "output_type": "display_data"
    },
    {
     "data": {
      "text/plain": [
       "18.0"
      ]
     },
     "metadata": {},
     "output_type": "display_data"
    },
    {
     "name": "stdout",
     "output_type": "stream",
     "text": [
      "Title 3\n",
      "Title 3\n",
      "Title 3\n",
      "Title 3\n",
      "Title 3\n",
      "Title 3\n",
      "Title 3\n",
      "Title 3\n",
      "Title 3\n",
      "Title 3\n",
      "10, DATE (16)\n",
      "12, SLIDE_NUMBER (13)\n",
      "\n",
      "slide number2\n",
      "0, TITLE (1)\n",
      "Title 1\n",
      "1, OBJECT (7)\n",
      "Content Placeholder 2\n",
      "Content Placeholder 2\n",
      "Content Placeholder 2\n",
      "Content Placeholder 2\n",
      "Content Placeholder 2\n",
      "Content Placeholder 2\n",
      "Content Placeholder 2\n",
      "Content Placeholder 2\n",
      "Content Placeholder 2\n",
      "Content Placeholder 2\n",
      "Content Placeholder 2\n",
      "Content Placeholder 2\n",
      "Content Placeholder 2\n",
      "10, DATE (16)\n",
      "12, SLIDE_NUMBER (13)\n",
      "\n",
      "slide number3\n",
      "0, TITLE (1)\n",
      "Title 1\n",
      "Title 1\n"
     ]
    },
    {
     "data": {
      "text/plain": [
       "16.0"
      ]
     },
     "metadata": {},
     "output_type": "display_data"
    },
    {
     "name": "stdout",
     "output_type": "stream",
     "text": [
      "Title 1\n",
      "Title 1\n"
     ]
    },
    {
     "data": {
      "text/plain": [
       "14.0"
      ]
     },
     "metadata": {},
     "output_type": "display_data"
    },
    {
     "name": "stdout",
     "output_type": "stream",
     "text": [
      "Title 1\n",
      "Title 1\n",
      "Title 1\n",
      "1, OBJECT (7)\n",
      "no textframe\n",
      "10, DATE (16)\n",
      "12, SLIDE_NUMBER (13)\n",
      "\n",
      "slide number4\n",
      "0, TITLE (1)\n",
      "Title 1\n"
     ]
    },
    {
     "data": {
      "text/plain": [
       "24.0"
      ]
     },
     "metadata": {},
     "output_type": "display_data"
    },
    {
     "name": "stdout",
     "output_type": "stream",
     "text": [
      "1, OBJECT (7)\n",
      "Content Placeholder 2\n",
      "Content Placeholder 2\n",
      "Content Placeholder 2\n",
      "Content Placeholder 2\n",
      "Content Placeholder 2\n",
      "Content Placeholder 2\n",
      "Content Placeholder 2\n",
      "Content Placeholder 2\n",
      "10, DATE (16)\n",
      "12, SLIDE_NUMBER (13)\n",
      "\n",
      "slide number5\n",
      "0, TITLE (1)\n",
      "Title 1\n",
      "Title 1\n",
      "Title 1\n",
      "Title 1\n",
      "Title 1\n",
      "Title 1\n",
      "Title 1\n",
      "Title 1\n",
      "Title 1\n",
      "1, OBJECT (7)\n",
      "no textframe\n",
      "10, DATE (16)\n",
      "12, SLIDE_NUMBER (13)\n",
      "\n",
      "slide number6\n",
      "0, TITLE (1)\n",
      "Title 1\n"
     ]
    },
    {
     "data": {
      "text/plain": [
       "28.0"
      ]
     },
     "metadata": {},
     "output_type": "display_data"
    },
    {
     "name": "stdout",
     "output_type": "stream",
     "text": [
      "1, OBJECT (7)\n",
      "Content Placeholder 2\n",
      "Content Placeholder 2\n",
      "Content Placeholder 2\n",
      "Content Placeholder 2\n",
      "Content Placeholder 2\n",
      "Content Placeholder 2\n",
      "Content Placeholder 2\n",
      "Content Placeholder 2\n",
      "Content Placeholder 2\n",
      "Content Placeholder 2\n",
      "10, DATE (16)\n",
      "12, SLIDE_NUMBER (13)\n",
      "\n",
      "slide number7\n",
      "0, TITLE (1)\n",
      "Title 1\n",
      "1, OBJECT (7)\n",
      "no textframe\n",
      "10, DATE (16)\n",
      "12, SLIDE_NUMBER (13)\n",
      "\n",
      "slide number8\n",
      "0, TITLE (1)\n",
      "Title 1\n",
      "Title 1\n",
      "Title 1\n",
      "Title 1\n",
      "Title 1\n",
      "Title 1\n",
      "Title 1\n",
      "Title 1\n",
      "Title 1\n",
      "Title 1\n",
      "Title 1\n",
      "Title 1\n",
      "Title 1\n",
      "Title 1\n",
      "Title 1\n",
      "1, OBJECT (7)\n",
      "no textframe\n",
      "10, DATE (16)\n",
      "12, SLIDE_NUMBER (13)\n",
      "\n",
      "slide number9\n",
      "0, TITLE (1)\n",
      "Title 1\n",
      "Title 1\n",
      "1, OBJECT (7)\n",
      "no textframe\n",
      "10, DATE (16)\n",
      "12, SLIDE_NUMBER (13)\n",
      "\n",
      "slide number10\n",
      "0, TITLE (1)\n",
      "Title 1\n",
      "1, OBJECT (7)\n",
      "Content Placeholder 2\n"
     ]
    },
    {
     "data": {
      "text/plain": [
       "20.0"
      ]
     },
     "metadata": {},
     "output_type": "display_data"
    },
    {
     "name": "stdout",
     "output_type": "stream",
     "text": [
      "Content Placeholder 2\n",
      "Content Placeholder 2\n",
      "Content Placeholder 2\n",
      "Content Placeholder 2\n",
      "Content Placeholder 2\n",
      "Content Placeholder 2\n",
      "Content Placeholder 2\n",
      "Content Placeholder 2\n",
      "Content Placeholder 2\n",
      "Content Placeholder 2\n",
      "Content Placeholder 2\n",
      "10, DATE (16)\n",
      "12, SLIDE_NUMBER (13)\n",
      "\n",
      "slide number11\n",
      "0, TITLE (1)\n",
      "Title 1\n",
      "1, OBJECT (7)\n",
      "Content Placeholder 2\n",
      "Content Placeholder 2\n",
      "Content Placeholder 2\n",
      "10, DATE (16)\n",
      "12, SLIDE_NUMBER (13)\n",
      "\n",
      "slide number12\n",
      "0, TITLE (1)\n",
      "Title 1\n",
      "1, OBJECT (7)\n",
      "Content Placeholder 6\n",
      "Content Placeholder 6\n",
      "Content Placeholder 6\n",
      "10, DATE (16)\n",
      "12, SLIDE_NUMBER (13)\n",
      "\n",
      "slide number13\n",
      "0, TITLE (1)\n",
      "Title 1\n",
      "1, OBJECT (7)\n",
      "no textframe\n",
      "10, DATE (16)\n",
      "12, SLIDE_NUMBER (13)\n",
      "\n",
      "slide number14\n",
      "0, TITLE (1)\n",
      "Title 1\n",
      "1, OBJECT (7)\n",
      "Content Placeholder 2\n",
      "Content Placeholder 2\n",
      "Content Placeholder 2\n",
      "Content Placeholder 2\n",
      "Content Placeholder 2\n",
      "Content Placeholder 2\n",
      "Content Placeholder 2\n",
      "Content Placeholder 2\n",
      "10, DATE (16)\n",
      "12, SLIDE_NUMBER (13)\n",
      "\n",
      "slide number15\n",
      "0, TITLE (1)\n",
      "Title 1\n"
     ]
    },
    {
     "data": {
      "text/plain": [
       "32.0"
      ]
     },
     "metadata": {},
     "output_type": "display_data"
    },
    {
     "name": "stdout",
     "output_type": "stream",
     "text": [
      "1, OBJECT (7)\n",
      "Content Placeholder 2\n",
      "Content Placeholder 2\n",
      "10, DATE (16)\n",
      "12, SLIDE_NUMBER (13)\n",
      "\n",
      "slide number16\n",
      "0, TITLE (1)\n",
      "Title 1\n",
      "1, OBJECT (7)\n",
      "Content Placeholder 2\n",
      "Content Placeholder 2\n",
      "Content Placeholder 2\n",
      "Content Placeholder 2\n",
      "10, DATE (16)\n",
      "12, SLIDE_NUMBER (13)\n",
      "\n",
      "slide number17\n",
      "0, TITLE (1)\n",
      "Title 1\n",
      "10, DATE (16)\n",
      "12, SLIDE_NUMBER (13)\n",
      "\n",
      "font name\n",
      "['Times New Roman']\n",
      "\n",
      "font size\n",
      "[18.0, 16.0, 14.0, 24.0, 28.0, 20.0, 32.0]\n",
      "\n",
      "hyperlink\n",
      "['https://searchsecurity.techtarget.com/definition/cryptography', 'https://en.wikipedia.org/wiki/Cryptography']\n",
      "\n",
      "color\n",
      "[(112, 48, 160), (0, 176, 80), (255, 0, 0), (0, 176, 240), (146, 208, 80)]\n",
      "\n",
      "number of font name\n",
      "2\n",
      "\n",
      "number of font size\n",
      "8\n",
      "\n",
      " number of hyperlink\n",
      "2\n",
      "\n",
      " number of color\n",
      "6\n",
      "\n",
      " number of pictures\n",
      "0\n",
      "\n",
      " number of chart\n",
      "0\n",
      "\n",
      " number of tables\n",
      "0\n",
      "\n",
      " maximum font size\n",
      "32.0\n",
      "\n",
      " minimum font size\n",
      "14.0\n",
      "e:\\ppt\\49.pptx\n",
      "\n",
      "slide number1\n",
      "0, TITLE (1)\n",
      "Title 1\n"
     ]
    },
    {
     "data": {
      "text/plain": [
       "88.0"
      ]
     },
     "metadata": {},
     "output_type": "display_data"
    },
    {
     "name": "stdout",
     "output_type": "stream",
     "text": [
      "TextBox 2\n",
      "TextBox 5\n",
      "TextBox 5\n",
      "TextBox 5\n",
      "TextBox 5\n",
      "TextBox 5\n",
      "TextBox 5\n",
      "TextBox 5\n",
      "10, DATE (16)\n",
      "12, SLIDE_NUMBER (13)\n",
      "\n",
      "slide number2\n",
      "TextBox 1\n"
     ]
    },
    {
     "data": {
      "text/plain": [
       "'Algerian'"
      ]
     },
     "metadata": {},
     "output_type": "display_data"
    },
    {
     "data": {
      "text/plain": [
       "28.0"
      ]
     },
     "metadata": {},
     "output_type": "display_data"
    },
    {
     "name": "stdout",
     "output_type": "stream",
     "text": [
      "TextBox 1\n",
      "TextBox 1\n",
      "TextBox 1\n",
      "TextBox 1\n",
      "TextBox 1\n",
      "TextBox 1\n",
      "TextBox 1\n",
      "10, DATE (16)\n",
      "12, SLIDE_NUMBER (13)\n",
      "\n",
      "slide number3\n",
      "TextBox 1\n",
      "TextBox 1\n",
      "TextBox 1\n",
      "TextBox 1\n",
      "TextBox 1\n",
      "10, DATE (16)\n",
      "12, SLIDE_NUMBER (13)\n",
      "\n",
      "slide number4\n",
      "TextBox 1\n",
      "TextBox 1\n",
      "TextBox 1\n",
      "TextBox 1\n",
      "TextBox 1\n",
      "TextBox 1\n",
      "10, DATE (16)\n",
      "12, SLIDE_NUMBER (13)\n",
      "\n",
      "slide number5\n",
      "TextBox 1\n",
      "TextBox 1\n",
      "TextBox 1\n",
      "TextBox 1\n",
      "TextBox 1\n",
      "TextBox 1\n",
      "TextBox 1\n",
      "TextBox 1\n",
      "TextBox 1\n",
      "TextBox 1\n",
      "TextBox 1\n",
      "TextBox 6\n"
     ]
    },
    {
     "data": {
      "text/plain": [
       "14.0"
      ]
     },
     "metadata": {},
     "output_type": "display_data"
    },
    {
     "name": "stdout",
     "output_type": "stream",
     "text": [
      "TextBox 7\n",
      "TextBox 7\n",
      "10, DATE (16)\n",
      "12, SLIDE_NUMBER (13)\n",
      "\n",
      "slide number6\n",
      "TextBox 14\n",
      "TextBox 15\n",
      "10, DATE (16)\n",
      "12, SLIDE_NUMBER (13)\n",
      "\n",
      "slide number7\n",
      "TextBox 2\n",
      "TextBox 2\n",
      "TextBox 2\n",
      "TextBox 2\n",
      "10, DATE (16)\n",
      "12, SLIDE_NUMBER (13)\n",
      "\n",
      "slide number8\n",
      "TextBox 2\n",
      "TextBox 2\n",
      "TextBox 2\n",
      "10, DATE (16)\n",
      "12, SLIDE_NUMBER (13)\n",
      "\n",
      "slide number9\n",
      "TextBox 2\n",
      "TextBox 2\n",
      "TextBox 2\n",
      "10, DATE (16)\n",
      "12, SLIDE_NUMBER (13)\n",
      "\n",
      "slide number10\n",
      "TextBox 2\n",
      "TextBox 2\n"
     ]
    },
    {
     "data": {
      "text/plain": [
       "20.0"
      ]
     },
     "metadata": {},
     "output_type": "display_data"
    },
    {
     "name": "stdout",
     "output_type": "stream",
     "text": [
      "TextBox 2\n",
      "TextBox 2\n",
      "TextBox 2\n",
      "TextBox 2\n",
      "TextBox 2\n",
      "TextBox 2\n",
      "TextBox 2\n",
      "TextBox 2\n",
      "10, DATE (16)\n",
      "12, SLIDE_NUMBER (13)\n",
      "\n",
      "slide number11\n",
      "TextBox 1\n",
      "TextBox 1\n",
      "TextBox 1\n",
      "TextBox 1\n",
      "TextBox 1\n",
      "TextBox 1\n",
      "TextBox 1\n"
     ]
    },
    {
     "data": {
      "text/plain": [
       "24.0"
      ]
     },
     "metadata": {},
     "output_type": "display_data"
    },
    {
     "name": "stdout",
     "output_type": "stream",
     "text": [
      "TextBox 1\n",
      "TextBox 1\n",
      "10, DATE (16)\n",
      "12, SLIDE_NUMBER (13)\n",
      "\n",
      "slide number12\n",
      "TextBox 1\n"
     ]
    },
    {
     "data": {
      "text/plain": [
       "'Arial'"
      ]
     },
     "metadata": {},
     "output_type": "display_data"
    },
    {
     "data": {
      "text/plain": [
       "80.0"
      ]
     },
     "metadata": {},
     "output_type": "display_data"
    },
    {
     "name": "stdout",
     "output_type": "stream",
     "text": [
      "10, DATE (16)\n",
      "12, SLIDE_NUMBER (13)\n",
      "\n",
      "font name\n",
      "['Algerian', 'Arial']\n",
      "\n",
      "font size\n",
      "[88.0, 28.0, 14.0, 20.0, 24.0, 80.0]\n",
      "\n",
      "hyperlink\n",
      "[]\n",
      "\n",
      "color\n",
      "[(255, 255, 0), (0, 176, 80), (0, 176, 240)]\n",
      "\n",
      "number of font name\n",
      "3\n",
      "\n",
      "number of font size\n",
      "7\n",
      "\n",
      " number of hyperlink\n",
      "0\n",
      "\n",
      " number of color\n",
      "4\n",
      "\n",
      " number of pictures\n",
      "8\n",
      "\n",
      " number of chart\n",
      "0\n",
      "\n",
      " number of tables\n",
      "0\n",
      "\n",
      " maximum font size\n",
      "88.0\n",
      "\n",
      " minimum font size\n",
      "14.0\n",
      "e:\\ppt\\50.pptx\n",
      "\n",
      "slide number1\n",
      "0, CENTER_TITLE (3)\n",
      "Title 1\n"
     ]
    },
    {
     "data": {
      "text/plain": [
       "66.0"
      ]
     },
     "metadata": {},
     "output_type": "display_data"
    },
    {
     "name": "stdout",
     "output_type": "stream",
     "text": [
      "1, SUBTITLE (4)\n",
      "Subtitle 2\n"
     ]
    },
    {
     "data": {
      "text/plain": [
       "32.0"
      ]
     },
     "metadata": {},
     "output_type": "display_data"
    },
    {
     "name": "stdout",
     "output_type": "stream",
     "text": [
      "Subtitle 2\n",
      "10, DATE (16)\n",
      "12, SLIDE_NUMBER (13)\n",
      "\n",
      "slide number2\n",
      "0, TITLE (1)\n",
      "Title 1\n",
      "1, OBJECT (7)\n",
      "Content Placeholder 2\n"
     ]
    },
    {
     "data": {
      "text/plain": [
       "20.0"
      ]
     },
     "metadata": {},
     "output_type": "display_data"
    },
    {
     "name": "stdout",
     "output_type": "stream",
     "text": [
      "Content Placeholder 2\n",
      "Content Placeholder 2\n",
      "Content Placeholder 2\n",
      "Content Placeholder 2\n",
      "Content Placeholder 2\n",
      "Content Placeholder 2\n",
      "Content Placeholder 2\n",
      "Content Placeholder 2\n",
      "Content Placeholder 2\n",
      "Content Placeholder 2\n",
      "Content Placeholder 2\n",
      "10, DATE (16)\n",
      "12, SLIDE_NUMBER (13)\n",
      "\n",
      "slide number3\n",
      "0, TITLE (1)\n",
      "Title 1\n",
      "1, OBJECT (7)\n",
      "Content Placeholder 2\n"
     ]
    },
    {
     "data": {
      "text/plain": [
       "18.0"
      ]
     },
     "metadata": {},
     "output_type": "display_data"
    },
    {
     "name": "stdout",
     "output_type": "stream",
     "text": [
      "Content Placeholder 2\n",
      "Content Placeholder 2\n",
      "Content Placeholder 2\n",
      "Content Placeholder 2\n",
      "10, DATE (16)\n",
      "12, SLIDE_NUMBER (13)\n",
      "\n",
      "slide number4\n",
      "0, TITLE (1)\n",
      "Title 1\n",
      "1, OBJECT (7)\n",
      "Content Placeholder 2\n",
      "Content Placeholder 2\n",
      "Content Placeholder 2\n",
      "Content Placeholder 2\n",
      "Content Placeholder 2\n",
      "Content Placeholder 2\n",
      "Content Placeholder 2\n",
      "Content Placeholder 2\n",
      "10, DATE (16)\n",
      "12, SLIDE_NUMBER (13)\n",
      "\n",
      "slide number5\n",
      "0, TITLE (1)\n",
      "Title 1\n",
      "1, OBJECT (7)\n",
      "Content Placeholder 2\n",
      "Content Placeholder 2\n",
      "10, DATE (16)\n",
      "12, SLIDE_NUMBER (13)\n",
      "\n",
      "slide number6\n",
      "1, OBJECT (7)\n",
      "Content Placeholder 2\n",
      "Content Placeholder 2\n",
      "Content Placeholder 2\n",
      "10, DATE (16)\n",
      "12, SLIDE_NUMBER (13)\n",
      "\n",
      "slide number7\n",
      "0, TITLE (1)\n",
      "Title 1\n",
      "1, OBJECT (7)\n",
      "no textframe\n",
      "10, DATE (16)\n",
      "12, SLIDE_NUMBER (13)\n",
      "\n",
      "slide number8\n",
      "1, OBJECT (7)\n",
      "Content Placeholder 2\n",
      "Content Placeholder 2\n",
      "Content Placeholder 2\n",
      "Content Placeholder 2\n",
      "Content Placeholder 2\n",
      "Content Placeholder 2\n",
      "Content Placeholder 2\n",
      "Content Placeholder 2\n",
      "Content Placeholder 2\n",
      "Content Placeholder 2\n",
      "Content Placeholder 2\n",
      "Content Placeholder 2\n",
      "10, DATE (16)\n",
      "12, SLIDE_NUMBER (13)\n",
      "\n",
      "slide number9\n",
      "1, OBJECT (7)\n",
      "Content Placeholder 2\n",
      "Content Placeholder 2\n",
      "Content Placeholder 2\n",
      "Content Placeholder 2\n",
      "Content Placeholder 2\n",
      "Content Placeholder 2\n",
      "Content Placeholder 2\n",
      "Content Placeholder 2\n",
      "Content Placeholder 2\n",
      "Content Placeholder 2\n",
      "Content Placeholder 2\n",
      "Content Placeholder 2\n",
      "Content Placeholder 2\n",
      "10, DATE (16)\n",
      "12, SLIDE_NUMBER (13)\n",
      "\n",
      "slide number10\n",
      "0, TITLE (1)\n",
      "Title 1\n",
      "1, OBJECT (7)\n",
      "Content Placeholder 2\n",
      "Content Placeholder 2\n",
      "Content Placeholder 2\n"
     ]
    },
    {
     "data": {
      "text/plain": [
       "19.0"
      ]
     },
     "metadata": {},
     "output_type": "display_data"
    },
    {
     "name": "stdout",
     "output_type": "stream",
     "text": [
      "Content Placeholder 2\n",
      "Content Placeholder 2\n",
      "Content Placeholder 2\n",
      "Content Placeholder 2\n",
      "Content Placeholder 2\n",
      "Content Placeholder 2\n",
      "Content Placeholder 2\n",
      "Content Placeholder 2\n",
      "10, DATE (16)\n",
      "12, SLIDE_NUMBER (13)\n",
      "\n",
      "slide number11\n",
      "1, OBJECT (7)\n",
      "Content Placeholder 2\n",
      "Content Placeholder 2\n",
      "Content Placeholder 2\n",
      "Content Placeholder 2\n",
      "Content Placeholder 2\n",
      "Content Placeholder 2\n",
      "10, DATE (16)\n",
      "12, SLIDE_NUMBER (13)\n",
      "\n",
      "slide number12\n",
      "0, TITLE (1)\n",
      "Title 1\n",
      "Title 1\n",
      "Title 1\n",
      "1, OBJECT (7)\n",
      "no textframe\n",
      "10, DATE (16)\n",
      "12, SLIDE_NUMBER (13)\n",
      "\n",
      "slide number13\n",
      "1, OBJECT (7)\n",
      "Content Placeholder 2\n",
      "Content Placeholder 2\n",
      "Content Placeholder 2\n",
      "Content Placeholder 2\n",
      "Content Placeholder 2\n",
      "Content Placeholder 2\n",
      "Content Placeholder 2\n",
      "Content Placeholder 2\n",
      "Content Placeholder 2\n",
      "Content Placeholder 2\n",
      "Content Placeholder 2\n",
      "10, DATE (16)\n",
      "12, SLIDE_NUMBER (13)\n",
      "\n",
      "slide number14\n",
      "0, TITLE (1)\n",
      "Title 1\n",
      "1, OBJECT (7)\n",
      "Content Placeholder 2\n",
      "Content Placeholder 2\n",
      "Content Placeholder 2\n",
      "Content Placeholder 2\n",
      "Content Placeholder 2\n",
      "10, DATE (16)\n",
      "12, SLIDE_NUMBER (13)\n",
      "\n",
      "slide number15\n",
      "0, TITLE (1)\n",
      "Title 1\n",
      "1, OBJECT (7)\n",
      "Content Placeholder 2\n",
      "Content Placeholder 2\n",
      "Content Placeholder 2\n",
      "Content Placeholder 2\n",
      "Content Placeholder 2\n",
      "Content Placeholder 2\n",
      "Content Placeholder 2\n",
      "Content Placeholder 2\n",
      "Content Placeholder 2\n",
      "Content Placeholder 2\n",
      "Content Placeholder 2\n",
      "Content Placeholder 2\n",
      "Content Placeholder 2\n",
      "10, DATE (16)\n",
      "12, SLIDE_NUMBER (13)\n",
      "\n",
      "slide number16\n",
      "1, OBJECT (7)\n",
      "Content Placeholder 2\n",
      "Content Placeholder 2\n",
      "Content Placeholder 2\n",
      "Content Placeholder 2\n",
      "Content Placeholder 2\n",
      "10, DATE (16)\n",
      "12, SLIDE_NUMBER (13)\n",
      "\n",
      "slide number17\n",
      "1, OBJECT (7)\n",
      "Content Placeholder 2\n",
      "Content Placeholder 2\n",
      "Content Placeholder 2\n",
      "Content Placeholder 2\n",
      "10, DATE (16)\n",
      "12, SLIDE_NUMBER (13)\n",
      "\n",
      "slide number18\n",
      "0, TITLE (1)\n",
      "Title 1\n",
      "1, OBJECT (7)\n",
      "Content Placeholder 2\n",
      "Content Placeholder 2\n",
      "Content Placeholder 2\n",
      "Content Placeholder 2\n",
      "Content Placeholder 2\n",
      "Content Placeholder 2\n",
      "Content Placeholder 2\n",
      "Content Placeholder 2\n",
      "Content Placeholder 2\n",
      "Content Placeholder 2\n",
      "Content Placeholder 2\n",
      "Content Placeholder 2\n",
      "Content Placeholder 2\n",
      "Content Placeholder 2\n",
      "10, DATE (16)\n",
      "12, SLIDE_NUMBER (13)\n",
      "\n",
      "slide number19\n",
      "0, TITLE (1)\n",
      "Title 1\n",
      "1, OBJECT (7)\n",
      "Content Placeholder 2\n",
      "Content Placeholder 2\n",
      "Content Placeholder 2\n",
      "Content Placeholder 2\n",
      "Content Placeholder 2\n",
      "Content Placeholder 2\n",
      "Content Placeholder 2\n",
      "Content Placeholder 2\n",
      "Content Placeholder 2\n",
      "Content Placeholder 2\n",
      "Content Placeholder 2\n",
      "10, DATE (16)\n",
      "12, SLIDE_NUMBER (13)\n",
      "\n",
      "slide number20\n",
      "0, TITLE (1)\n",
      "Title 1\n",
      "1, OBJECT (7)\n",
      "Content Placeholder 2\n",
      "Content Placeholder 2\n",
      "Content Placeholder 2\n",
      "Content Placeholder 2\n",
      "Content Placeholder 2\n",
      "Content Placeholder 2\n",
      "Content Placeholder 2\n",
      "10, DATE (16)\n",
      "12, SLIDE_NUMBER (13)\n",
      "\n",
      "slide number21\n",
      "0, TITLE (1)\n",
      "Title 1\n",
      "1, OBJECT (7)\n",
      "Content Placeholder 2\n",
      "Content Placeholder 2\n",
      "Content Placeholder 2\n",
      "Content Placeholder 2\n",
      "10, DATE (16)\n",
      "12, SLIDE_NUMBER (13)\n",
      "\n",
      "slide number22\n",
      "1, OBJECT (7)\n",
      "Content Placeholder 2\n"
     ]
    },
    {
     "data": {
      "text/plain": [
       "80.0"
      ]
     },
     "metadata": {},
     "output_type": "display_data"
    },
    {
     "name": "stdout",
     "output_type": "stream",
     "text": [
      "10, DATE (16)\n",
      "12, SLIDE_NUMBER (13)\n",
      "\n",
      "font name\n",
      "[]\n",
      "\n",
      "font size\n",
      "[66.0, 32.0, 20.0, 18.0, 19.0, 80.0]\n",
      "\n",
      "hyperlink\n",
      "[]\n",
      "\n",
      "color\n",
      "[(59, 56, 53)]\n",
      "\n",
      "number of font name\n",
      "1\n",
      "\n",
      "number of font size\n",
      "7\n",
      "\n",
      " number of hyperlink\n",
      "0\n",
      "\n",
      " number of color\n",
      "2\n",
      "\n",
      " number of pictures\n",
      "35\n",
      "\n",
      " number of chart\n",
      "0\n",
      "\n",
      " number of tables\n",
      "1\n",
      "\n",
      " maximum font size\n",
      "80.0\n",
      "\n",
      " minimum font size\n",
      "18.0\n",
      "e:\\ppt\\52.pptx\n",
      "\n",
      "slide number1\n",
      "object 3\n"
     ]
    },
    {
     "data": {
      "text/plain": [
       "'Calibri'"
      ]
     },
     "metadata": {},
     "output_type": "display_data"
    },
    {
     "data": {
      "text/plain": [
       "24.0"
      ]
     },
     "metadata": {},
     "output_type": "display_data"
    },
    {
     "name": "stdout",
     "output_type": "stream",
     "text": [
      "object 3\n",
      "object 3\n",
      "object 3\n",
      "object 3\n",
      "object 3\n",
      "object 3\n",
      "object 3\n",
      "object 3\n",
      "object 3\n",
      "6, DATE (16)\n",
      "7, SLIDE_NUMBER (13)\n",
      "\n",
      "slide number2\n",
      "6, DATE (16)\n",
      "7, SLIDE_NUMBER (13)\n",
      "\n",
      "slide number3\n",
      "6, DATE (16)\n",
      "7, SLIDE_NUMBER (13)\n",
      "\n",
      "slide number4\n",
      "6, DATE (16)\n",
      "7, SLIDE_NUMBER (13)\n",
      "\n",
      "slide number5\n",
      "6, DATE (16)\n",
      "7, SLIDE_NUMBER (13)\n",
      "\n",
      "slide number6\n",
      "6, DATE (16)\n",
      "7, SLIDE_NUMBER (13)\n",
      "\n",
      "slide number7\n",
      "6, DATE (16)\n",
      "7, SLIDE_NUMBER (13)\n",
      "\n",
      "slide number8\n",
      "6, DATE (16)\n",
      "7, SLIDE_NUMBER (13)\n",
      "\n",
      "slide number9\n",
      "6, DATE (16)\n",
      "7, SLIDE_NUMBER (13)\n",
      "\n",
      "slide number10\n",
      "6, DATE (16)\n",
      "7, SLIDE_NUMBER (13)\n",
      "\n",
      "slide number11\n",
      "6, DATE (16)\n",
      "7, SLIDE_NUMBER (13)\n",
      "\n",
      "slide number12\n",
      "6, DATE (16)\n",
      "7, SLIDE_NUMBER (13)\n",
      "\n",
      "slide number13\n",
      "6, DATE (16)\n",
      "7, SLIDE_NUMBER (13)\n",
      "\n",
      "slide number14\n",
      "6, DATE (16)\n",
      "7, SLIDE_NUMBER (13)\n",
      "\n",
      "slide number15\n",
      "6, DATE (16)\n",
      "7, SLIDE_NUMBER (13)\n",
      "\n",
      "slide number16\n",
      "6, DATE (16)\n",
      "7, SLIDE_NUMBER (13)\n",
      "\n",
      "font name\n",
      "['Calibri']\n",
      "\n",
      "font size\n",
      "[24.0]\n",
      "\n",
      "hyperlink\n",
      "[]\n",
      "\n",
      "color\n",
      "[]\n",
      "\n",
      "number of font name\n",
      "2\n",
      "\n",
      "number of font size\n",
      "2\n",
      "\n",
      " number of hyperlink\n",
      "0\n",
      "\n",
      " number of color\n",
      "1\n",
      "\n",
      " number of pictures\n",
      "0\n",
      "\n",
      " number of chart\n",
      "0\n",
      "\n",
      " number of tables\n",
      "0\n",
      "\n",
      " maximum font size\n",
      "24.0\n",
      "\n",
      " minimum font size\n",
      "24.0\n",
      "e:\\ppt\\53.pptx\n",
      "\n",
      "slide number1\n",
      "\n",
      "slide number2\n",
      "\n",
      "slide number3\n",
      "\n",
      "slide number4\n",
      "\n",
      "slide number5\n",
      "\n",
      "slide number6\n",
      "\n",
      "slide number7\n",
      "\n",
      "slide number8\n",
      "\n",
      "slide number9\n",
      "\n",
      "slide number10\n",
      "\n",
      "slide number11\n",
      "\n",
      "slide number12\n",
      "\n",
      "slide number13\n",
      "\n",
      "slide number14\n",
      "\n",
      "slide number15\n",
      "\n",
      "slide number16\n",
      "\n",
      "slide number17\n",
      "\n",
      "font name\n",
      "[]\n",
      "\n",
      "font size\n",
      "[]\n",
      "\n",
      "hyperlink\n",
      "[]\n",
      "\n",
      "color\n",
      "[]\n",
      "\n",
      "number of font name\n",
      "1\n",
      "\n",
      "number of font size\n",
      "1\n",
      "\n",
      " number of hyperlink\n",
      "0\n",
      "\n",
      " number of color\n",
      "1\n",
      "\n",
      " number of pictures\n",
      "13\n",
      "\n",
      " number of chart\n",
      "0\n",
      "\n",
      " number of tables\n",
      "0\n",
      "\n",
      " maximum font size\n",
      "1\n",
      "\n",
      " minimum font size\n",
      "200\n",
      "e:\\ppt\\54.pptx\n",
      "\n",
      "slide number1\n",
      "0, CENTER_TITLE (3)\n",
      "Title 1\n"
     ]
    },
    {
     "data": {
      "text/plain": [
       "'Times New Roman'"
      ]
     },
     "metadata": {},
     "output_type": "display_data"
    },
    {
     "data": {
      "text/plain": [
       "60.0"
      ]
     },
     "metadata": {},
     "output_type": "display_data"
    },
    {
     "name": "stdout",
     "output_type": "stream",
     "text": [
      "Title 1\n",
      "Title 1\n",
      "1, SUBTITLE (4)\n",
      "Subtitle 2\n",
      "Subtitle 2\n",
      "Subtitle 2\n",
      "TextBox 4\n",
      "\n",
      "slide number2\n",
      "0, TITLE (1)\n",
      "Title 1\n",
      "1, OBJECT (7)\n",
      "Content Placeholder 2\n",
      "Content Placeholder 2\n",
      "Content Placeholder 2\n",
      "Content Placeholder 2\n",
      "Content Placeholder 2\n",
      "Content Placeholder 2\n",
      "Content Placeholder 2\n",
      "Content Placeholder 2\n",
      "Content Placeholder 2\n",
      "Content Placeholder 2\n",
      "Content Placeholder 2\n",
      "Content Placeholder 2\n",
      "Content Placeholder 2\n",
      "\n",
      "slide number3\n",
      "0, TITLE (1)\n",
      "Title 1\n",
      "Title 1\n",
      "1, BODY (2)\n",
      "Text Placeholder 2\n"
     ]
    },
    {
     "data": {
      "text/plain": [
       "16.0"
      ]
     },
     "metadata": {},
     "output_type": "display_data"
    },
    {
     "name": "stdout",
     "output_type": "stream",
     "text": [
      "Text Placeholder 2\n",
      "Text Placeholder 2\n",
      "Text Placeholder 2\n",
      "Text Placeholder 2\n",
      "Text Placeholder 2\n",
      "Text Placeholder 2\n",
      "Text Placeholder 2\n",
      "\n",
      "slide number4\n",
      "0, TITLE (1)\n",
      "Title 1\n",
      "1, OBJECT (7)\n",
      "Content Placeholder 2\n",
      "Content Placeholder 2\n",
      "Content Placeholder 2\n",
      "Content Placeholder 2\n",
      "Content Placeholder 2\n",
      "Content Placeholder 2\n",
      "Content Placeholder 2\n",
      "Content Placeholder 2\n",
      "Content Placeholder 2\n",
      "Content Placeholder 2\n",
      "Content Placeholder 2\n",
      "Content Placeholder 2\n",
      "Content Placeholder 2\n",
      "\n",
      "slide number5\n",
      "0, TITLE (1)\n",
      "Title 1\n",
      "1, OBJECT (7)\n",
      "Content Placeholder 2\n",
      "Content Placeholder 2\n",
      "Content Placeholder 2\n",
      "\n",
      "slide number6\n",
      "0, TITLE (1)\n",
      "Title 1\n",
      "1, OBJECT (7)\n",
      "Content Placeholder 2\n",
      "Content Placeholder 2\n",
      "Content Placeholder 2\n",
      "Content Placeholder 2\n",
      "Content Placeholder 2\n",
      "Content Placeholder 2\n",
      "Content Placeholder 2\n",
      "Content Placeholder 2\n",
      "Content Placeholder 2\n",
      "Content Placeholder 2\n",
      "Content Placeholder 2\n",
      "\n",
      "slide number7\n",
      "0, TITLE (1)\n",
      "Title 1\n",
      "Title 1\n",
      "1, BODY (2)\n",
      "Text Placeholder 2\n",
      "Text Placeholder 2\n",
      "Text Placeholder 2\n",
      "Text Placeholder 2\n",
      "Text Placeholder 2\n",
      "Text Placeholder 2\n",
      "Text Placeholder 2\n",
      "Text Placeholder 2\n",
      "Text Placeholder 2\n",
      "Text Placeholder 2\n",
      "Text Placeholder 2\n",
      "\n",
      "slide number8\n",
      "0, TITLE (1)\n",
      "Title 1\n",
      "TextBox 3\n",
      "\n",
      "slide number9\n",
      "TextBox 3\n",
      "TextBox 4\n",
      "\n",
      "slide number10\n",
      "0, TITLE (1)\n",
      "Title 1\n",
      "1, OBJECT (7)\n",
      "Content Placeholder 2\n",
      "Content Placeholder 2\n",
      "Content Placeholder 2\n",
      "2, OBJECT (7)\n",
      "Content Placeholder 3\n",
      "Content Placeholder 3\n",
      "Content Placeholder 3\n",
      "\n",
      "slide number11\n",
      "0, TITLE (1)\n",
      "Title 1\n",
      "1, OBJECT (7)\n",
      "Content Placeholder 2\n",
      "Content Placeholder 2\n",
      "Content Placeholder 2\n",
      "Content Placeholder 2\n",
      "Content Placeholder 2\n",
      "2, OBJECT (7)\n",
      "Content Placeholder 3\n",
      "Content Placeholder 3\n",
      "Content Placeholder 3\n",
      "Content Placeholder 3\n",
      "\n",
      "slide number12\n",
      "0, TITLE (1)\n",
      "Title 1\n",
      "1, OBJECT (7)\n",
      "Content Placeholder 2\n",
      "Content Placeholder 2\n",
      "Content Placeholder 2\n",
      "Content Placeholder 2\n",
      "Content Placeholder 2\n",
      "Content Placeholder 2\n",
      "Content Placeholder 2\n",
      "Content Placeholder 2\n",
      "Content Placeholder 2\n",
      "Content Placeholder 2\n",
      "Content Placeholder 2\n",
      "Content Placeholder 2\n",
      "Content Placeholder 2\n",
      "Content Placeholder 2\n",
      "\n",
      "slide number13\n",
      "0, TITLE (1)\n",
      "Title 1\n",
      "1, OBJECT (7)\n",
      "Content Placeholder 2\n",
      "Content Placeholder 2\n",
      "Content Placeholder 2\n",
      "Content Placeholder 2\n",
      "Content Placeholder 2\n",
      "Content Placeholder 2\n",
      "Content Placeholder 2\n",
      "Content Placeholder 2\n",
      "Content Placeholder 2\n",
      "Content Placeholder 2\n",
      "Content Placeholder 2\n",
      "Content Placeholder 2\n",
      "Content Placeholder 2\n",
      "Content Placeholder 2\n",
      "Content Placeholder 2\n",
      "Content Placeholder 2\n",
      "Content Placeholder 2\n",
      "Content Placeholder 2\n",
      "Content Placeholder 2\n",
      "Content Placeholder 2\n",
      "Content Placeholder 2\n",
      "Content Placeholder 2\n",
      "Content Placeholder 2\n",
      "\n",
      "slide number14\n",
      "0, TITLE (1)\n",
      "Title 1\n",
      "1, OBJECT (7)\n",
      "Content Placeholder 2\n",
      "Content Placeholder 2\n",
      "Content Placeholder 2\n",
      "Content Placeholder 2\n",
      "Content Placeholder 2\n",
      "Content Placeholder 2\n",
      "Content Placeholder 2\n",
      "Content Placeholder 2\n",
      "Content Placeholder 2\n",
      "Content Placeholder 2\n",
      "Content Placeholder 2\n",
      "Content Placeholder 2\n",
      "Content Placeholder 2\n",
      "Content Placeholder 2\n",
      "Content Placeholder 2\n",
      "Content Placeholder 2\n",
      "\n",
      "slide number15\n",
      "0, CENTER_TITLE (3)\n",
      "Title 1\n",
      "\n",
      "font name\n",
      "['Times New Roman']\n",
      "\n",
      "font size\n",
      "[60.0, 16.0]\n",
      "\n",
      "hyperlink\n",
      "[]\n",
      "\n",
      "color\n",
      "[]\n",
      "\n",
      "number of font name\n",
      "2\n",
      "\n",
      "number of font size\n",
      "3\n",
      "\n",
      " number of hyperlink\n",
      "0\n",
      "\n",
      " number of color\n",
      "1\n",
      "\n",
      " number of pictures\n",
      "13\n",
      "\n",
      " number of chart\n",
      "0\n",
      "\n",
      " number of tables\n",
      "0\n",
      "\n",
      " maximum font size\n",
      "60.0\n",
      "\n",
      " minimum font size\n",
      "16.0\n",
      "e:\\ppt\\55.pptx\n",
      "\n",
      "slide number1\n",
      "0, CENTER_TITLE (3)\n",
      "Title 1\n"
     ]
    },
    {
     "data": {
      "text/plain": [
       "36.0"
      ]
     },
     "metadata": {},
     "output_type": "display_data"
    },
    {
     "name": "stdout",
     "output_type": "stream",
     "text": [
      "1, SUBTITLE (4)\n",
      "Subtitle 2\n"
     ]
    },
    {
     "data": {
      "text/plain": [
       "18.0"
      ]
     },
     "metadata": {},
     "output_type": "display_data"
    },
    {
     "name": "stdout",
     "output_type": "stream",
     "text": [
      "Subtitle 2\n",
      "Subtitle 2\n",
      "Subtitle 2\n",
      "Subtitle 2\n",
      "Subtitle 2\n"
     ]
    },
    {
     "data": {
      "text/plain": [
       "14.0"
      ]
     },
     "metadata": {},
     "output_type": "display_data"
    },
    {
     "name": "stdout",
     "output_type": "stream",
     "text": [
      "Subtitle 2\n",
      "\n",
      "slide number2\n",
      "0, TITLE (1)\n",
      "Title 1\n"
     ]
    },
    {
     "data": {
      "text/plain": [
       "24.0"
      ]
     },
     "metadata": {},
     "output_type": "display_data"
    },
    {
     "name": "stdout",
     "output_type": "stream",
     "text": [
      "1, OBJECT (7)\n",
      "Content Placeholder 2\n"
     ]
    },
    {
     "data": {
      "text/plain": [
       "'Helvetica Neue'"
      ]
     },
     "metadata": {},
     "output_type": "display_data"
    },
    {
     "name": "stdout",
     "output_type": "stream",
     "text": [
      "Content Placeholder 2\n",
      "Content Placeholder 2\n",
      "Content Placeholder 2\n",
      "Content Placeholder 2\n",
      "Content Placeholder 2\n",
      "Content Placeholder 2\n",
      "\n",
      "slide number3\n",
      "0, TITLE (1)\n",
      "Title 1\n"
     ]
    },
    {
     "data": {
      "text/plain": [
       "32.0"
      ]
     },
     "metadata": {},
     "output_type": "display_data"
    },
    {
     "name": "stdout",
     "output_type": "stream",
     "text": [
      "1, OBJECT (7)\n",
      "Content Placeholder 2\n",
      "Content Placeholder 2\n"
     ]
    },
    {
     "data": {
      "text/plain": [
       "'Open Sans'"
      ]
     },
     "metadata": {},
     "output_type": "display_data"
    },
    {
     "name": "stdout",
     "output_type": "stream",
     "text": [
      "Content Placeholder 2\n",
      "Content Placeholder 2\n",
      "Content Placeholder 2\n",
      "Content Placeholder 2\n",
      "Content Placeholder 2\n",
      "\n",
      "slide number4\n",
      "0, TITLE (1)\n",
      "Title 1\n"
     ]
    },
    {
     "data": {
      "text/plain": [
       "28.0"
      ]
     },
     "metadata": {},
     "output_type": "display_data"
    },
    {
     "name": "stdout",
     "output_type": "stream",
     "text": [
      "1, OBJECT (7)\n",
      "Content Placeholder 2\n",
      "Content Placeholder 2\n",
      "Content Placeholder 2\n",
      "Content Placeholder 2\n",
      "Content Placeholder 2\n",
      "Content Placeholder 2\n",
      "Content Placeholder 2\n",
      "Content Placeholder 2\n",
      "Content Placeholder 2\n",
      "Content Placeholder 2\n",
      "Content Placeholder 2\n",
      "Content Placeholder 2\n",
      "Content Placeholder 2\n",
      "Content Placeholder 2\n",
      "\n",
      "slide number5\n",
      "0, TITLE (1)\n",
      "Title 1\n",
      "1, OBJECT (7)\n",
      "no textframe\n",
      "\n",
      "slide number6\n",
      "0, TITLE (1)\n",
      "Title 1\n",
      "1, OBJECT (7)\n",
      "Content Placeholder 2\n",
      "Content Placeholder 2\n",
      "Content Placeholder 2\n",
      "Content Placeholder 2\n",
      "Content Placeholder 2\n",
      "Content Placeholder 2\n",
      "Content Placeholder 2\n",
      "\n",
      "slide number7\n",
      "0, TITLE (1)\n",
      "Title 1\n",
      "1, OBJECT (7)\n",
      "Content Placeholder 2\n",
      "Content Placeholder 2\n",
      "Content Placeholder 2\n",
      "Content Placeholder 2\n",
      "Content Placeholder 2\n",
      "Content Placeholder 2\n",
      "Content Placeholder 2\n",
      "Content Placeholder 2\n",
      "Content Placeholder 2\n",
      "Content Placeholder 2\n",
      "Content Placeholder 2\n",
      "Content Placeholder 2\n",
      "Content Placeholder 2\n",
      "Content Placeholder 2\n",
      "\n",
      "slide number8\n",
      "TextBox 2\n"
     ]
    },
    {
     "data": {
      "text/plain": [
       "20.0"
      ]
     },
     "metadata": {},
     "output_type": "display_data"
    },
    {
     "name": "stdout",
     "output_type": "stream",
     "text": [
      "TextBox 2\n",
      "TextBox 2\n",
      "TextBox 2\n",
      "TextBox 2\n",
      "TextBox 2\n",
      "\n",
      "slide number9\n",
      "\n",
      "slide number10\n",
      "0, TITLE (1)\n",
      "Title 1\n",
      "1, OBJECT (7)\n",
      "Content Placeholder 2\n",
      "Content Placeholder 2\n",
      "Content Placeholder 2\n",
      "Content Placeholder 2\n",
      "Content Placeholder 2\n",
      "Content Placeholder 2\n",
      "Content Placeholder 2\n",
      "Content Placeholder 2\n",
      "Content Placeholder 2\n",
      "Content Placeholder 2\n",
      "Content Placeholder 2\n",
      "Content Placeholder 2\n",
      "Content Placeholder 2\n",
      "Content Placeholder 2\n",
      "Content Placeholder 2\n",
      "\n",
      "slide number11\n",
      "0, TITLE (1)\n",
      "Title 1\n",
      "1, OBJECT (7)\n",
      "no textframe\n",
      "\n",
      "slide number12\n",
      "0, TITLE (1)\n",
      "Title 1\n",
      "1, OBJECT (7)\n",
      "Content Placeholder 2\n",
      "Content Placeholder 2\n",
      "Content Placeholder 2\n",
      "Content Placeholder 2\n",
      "Content Placeholder 2\n",
      "Content Placeholder 2\n",
      "Content Placeholder 2\n",
      "\n",
      "slide number13\n",
      "0, TITLE (1)\n",
      "Title 1\n",
      "1, OBJECT (7)\n",
      "Content Placeholder 2\n",
      "Content Placeholder 2\n",
      "Content Placeholder 2\n",
      "Content Placeholder 2\n",
      "\n",
      "slide number14\n",
      "0, TITLE (1)\n",
      "Title 1\n",
      "1, OBJECT (7)\n",
      "Content Placeholder 2\n",
      "Content Placeholder 2\n",
      "Content Placeholder 2\n",
      "Content Placeholder 2\n",
      "Content Placeholder 2\n",
      "Content Placeholder 2\n",
      "Content Placeholder 2\n",
      "Content Placeholder 2\n",
      "Content Placeholder 2\n",
      "\n",
      "slide number15\n",
      "0, TITLE (1)\n",
      "Title 1\n",
      "1, OBJECT (7)\n",
      "Content Placeholder 2\n",
      "Content Placeholder 2\n",
      "Content Placeholder 2\n",
      "Content Placeholder 2\n",
      "Content Placeholder 2\n",
      "Content Placeholder 2\n",
      "Content Placeholder 2\n",
      "Content Placeholder 2\n",
      "Content Placeholder 2\n",
      "Content Placeholder 2\n",
      "Content Placeholder 2\n",
      "Content Placeholder 2\n",
      "Content Placeholder 2\n",
      "Content Placeholder 2\n",
      "\n",
      "slide number16\n",
      "0, TITLE (1)\n",
      "Title 1\n",
      "1, OBJECT (7)\n",
      "Content Placeholder 2\n",
      "Content Placeholder 2\n",
      "Content Placeholder 2\n",
      "Content Placeholder 2\n",
      "Content Placeholder 2\n",
      "Content Placeholder 2\n",
      "Content Placeholder 2\n",
      "Content Placeholder 2\n",
      "Content Placeholder 2\n",
      "Content Placeholder 2\n",
      "Content Placeholder 2\n",
      "Content Placeholder 2\n",
      "Content Placeholder 2\n",
      "Content Placeholder 2\n",
      "\n",
      "slide number17\n",
      "0, TITLE (1)\n",
      "Title 1\n",
      "1, OBJECT (7)\n",
      "Content Placeholder 2\n",
      "Content Placeholder 2\n",
      "Content Placeholder 2\n",
      "Content Placeholder 2\n",
      "Content Placeholder 2\n",
      "Content Placeholder 2\n",
      "Content Placeholder 2\n",
      "Content Placeholder 2\n",
      "\n",
      "slide number18\n",
      "0, TITLE (1)\n",
      "1, OBJECT (7)\n",
      "Content Placeholder 2\n",
      "Content Placeholder 2\n",
      "Content Placeholder 2\n",
      "Content Placeholder 2\n",
      "Content Placeholder 2\n",
      "Content Placeholder 2\n",
      "Content Placeholder 2\n",
      "\n",
      "slide number19\n",
      "0, TITLE (1)\n",
      "1, OBJECT (7)\n",
      "Content Placeholder 2\n",
      "\n",
      "font name\n",
      "['Helvetica Neue', 'Open Sans']\n",
      "\n",
      "font size\n",
      "[36.0, 18.0, 14.0, 24.0, 32.0, 28.0, 20.0]\n",
      "\n",
      "hyperlink\n",
      "[]\n",
      "\n",
      "color\n",
      "[(59, 56, 53)]\n",
      "\n",
      "number of font name\n",
      "3\n",
      "\n",
      "number of font size\n",
      "8\n",
      "\n",
      " number of hyperlink\n",
      "0\n",
      "\n",
      " number of color\n",
      "2\n",
      "\n",
      " number of pictures\n",
      "1\n",
      "\n",
      " number of chart\n",
      "0\n",
      "\n",
      " number of tables\n",
      "0\n",
      "\n",
      " maximum font size\n",
      "36.0\n",
      "\n",
      " minimum font size\n",
      "14.0\n",
      "e:\\ppt\\56.pptx\n",
      "\n",
      "slide number1\n",
      "0, CENTER_TITLE (3)\n",
      "Title 1\n"
     ]
    },
    {
     "data": {
      "text/plain": [
       "'Bookman Old Style'"
      ]
     },
     "metadata": {},
     "output_type": "display_data"
    },
    {
     "data": {
      "text/plain": [
       "80.0"
      ]
     },
     "metadata": {},
     "output_type": "display_data"
    },
    {
     "name": "stdout",
     "output_type": "stream",
     "text": [
      "1, SUBTITLE (4)\n",
      "Subtitle 2\n"
     ]
    },
    {
     "data": {
      "text/plain": [
       "'Corbel Light'"
      ]
     },
     "metadata": {},
     "output_type": "display_data"
    },
    {
     "data": {
      "text/plain": [
       "18.0"
      ]
     },
     "metadata": {},
     "output_type": "display_data"
    },
    {
     "name": "stdout",
     "output_type": "stream",
     "text": [
      "TextBox 5\n"
     ]
    },
    {
     "data": {
      "text/plain": [
       "'Palatino Linotype'"
      ]
     },
     "metadata": {},
     "output_type": "display_data"
    },
    {
     "name": "stdout",
     "output_type": "stream",
     "text": [
      "\n",
      "slide number2\n",
      "0, TITLE (1)\n",
      "Title 1\n"
     ]
    },
    {
     "data": {
      "text/plain": [
       "'Cambria'"
      ]
     },
     "metadata": {},
     "output_type": "display_data"
    },
    {
     "data": {
      "text/plain": [
       "54.0"
      ]
     },
     "metadata": {},
     "output_type": "display_data"
    },
    {
     "name": "stdout",
     "output_type": "stream",
     "text": [
      "TextBox 11\n"
     ]
    },
    {
     "data": {
      "text/plain": [
       "'Bahnschrift Condensed'"
      ]
     },
     "metadata": {},
     "output_type": "display_data"
    },
    {
     "data": {
      "text/plain": [
       "24.0"
      ]
     },
     "metadata": {},
     "output_type": "display_data"
    },
    {
     "name": "stdout",
     "output_type": "stream",
     "text": [
      "\n",
      "slide number3\n",
      "TextBox 1\n",
      "TextBox 1\n",
      "\n",
      "slide number4\n",
      "1, OBJECT (7)\n",
      "no textframe\n",
      "\n",
      "slide number5\n",
      "TextBox 8\n"
     ]
    },
    {
     "data": {
      "text/plain": [
       "16.0"
      ]
     },
     "metadata": {},
     "output_type": "display_data"
    },
    {
     "name": "stdout",
     "output_type": "stream",
     "text": [
      "\n",
      "slide number6\n",
      "\n",
      "slide number7\n",
      "TextBox 1\n",
      "TextBox 1\n",
      "\n",
      "slide number8\n",
      "\n",
      "slide number9\n",
      "TextBox 1\n"
     ]
    },
    {
     "data": {
      "text/plain": [
       "36.0"
      ]
     },
     "metadata": {},
     "output_type": "display_data"
    },
    {
     "name": "stdout",
     "output_type": "stream",
     "text": [
      "TextBox 1\n",
      "\n",
      "slide number10\n",
      "TextBox 1\n"
     ]
    },
    {
     "data": {
      "text/plain": [
       "'Bahnschrift SemiLight Condensed'"
      ]
     },
     "metadata": {},
     "output_type": "display_data"
    },
    {
     "name": "stdout",
     "output_type": "stream",
     "text": [
      "TextBox 2\n",
      "\n",
      "slide number11\n",
      "TextBox 3\n",
      "\n",
      "slide number12\n",
      "\n",
      "slide number13\n",
      "TextBox 4\n",
      "TextBox 4\n",
      "TextBox 4\n",
      "TextBox 4\n",
      "\n",
      "slide number14\n",
      "TextBox 3\n",
      "TextBox 3\n",
      "TextBox 3\n",
      "TextBox 3\n",
      "\n",
      "slide number15\n",
      "TextBox 1\n"
     ]
    },
    {
     "data": {
      "text/plain": [
       "'Times New Roman'"
      ]
     },
     "metadata": {},
     "output_type": "display_data"
    },
    {
     "data": {
      "text/plain": [
       "32.0"
      ]
     },
     "metadata": {},
     "output_type": "display_data"
    },
    {
     "name": "stdout",
     "output_type": "stream",
     "text": [
      "TextBox 1\n",
      "\n",
      "slide number16\n",
      "\n",
      "font name\n",
      "['Bookman Old Style', 'Corbel Light', 'Palatino Linotype', 'Cambria', 'Bahnschrift Condensed', 'Bahnschrift SemiLight Condensed', 'Times New Roman']\n",
      "\n",
      "font size\n",
      "[80.0, 18.0, 54.0, 24.0, 16.0, 36.0, 32.0]\n",
      "\n",
      "hyperlink\n",
      "[]\n",
      "\n",
      "color\n",
      "[]\n",
      "\n",
      "number of font name\n",
      "8\n",
      "\n",
      "number of font size\n",
      "8\n",
      "\n",
      " number of hyperlink\n",
      "0\n",
      "\n",
      " number of color\n",
      "1\n",
      "\n",
      " number of pictures\n",
      "14\n",
      "\n",
      " number of chart\n",
      "0\n",
      "\n",
      " number of tables\n",
      "0\n",
      "\n",
      " maximum font size\n",
      "80.0\n",
      "\n",
      " minimum font size\n",
      "16.0\n",
      "e:\\ppt\\57.pptx\n",
      "\n",
      "slide number1\n",
      "0, CENTER_TITLE (3)\n",
      "Title 1\n",
      "Subtitle 2\n"
     ]
    },
    {
     "data": {
      "text/plain": [
       "'Bahnschrift'"
      ]
     },
     "metadata": {},
     "output_type": "display_data"
    },
    {
     "data": {
      "text/plain": [
       "28.0"
      ]
     },
     "metadata": {},
     "output_type": "display_data"
    },
    {
     "name": "stdout",
     "output_type": "stream",
     "text": [
      "Subtitle 2\n",
      "10, DATE (16)\n",
      "11, FOOTER (15)\n",
      "12, SLIDE_NUMBER (13)\n",
      "\n",
      "slide number2\n",
      "0, CENTER_TITLE (3)\n",
      "Title 1\n"
     ]
    },
    {
     "data": {
      "text/plain": [
       "'Arial Rounded MT Bold'"
      ]
     },
     "metadata": {},
     "output_type": "display_data"
    },
    {
     "name": "stdout",
     "output_type": "stream",
     "text": [
      "Title 1\n",
      "1, SUBTITLE (4)\n",
      "10, DATE (16)\n",
      "11, FOOTER (15)\n",
      "12, SLIDE_NUMBER (13)\n",
      "\n",
      "slide number3\n",
      "0, TITLE (1)\n",
      "Title 1\n",
      "1, OBJECT (7)\n",
      "Content Placeholder 2\n",
      "Content Placeholder 2\n",
      "Content Placeholder 2\n",
      "Content Placeholder 2\n",
      "Content Placeholder 2\n",
      "Content Placeholder 2\n",
      "Content Placeholder 2\n",
      "14, DATE (16)\n",
      "16, FOOTER (15)\n",
      "15, SLIDE_NUMBER (13)\n",
      "\n",
      "slide number4\n",
      "0, TITLE (1)\n",
      "Title 1\n",
      "1, OBJECT (7)\n",
      "Content Placeholder 2\n"
     ]
    },
    {
     "data": {
      "text/plain": [
       "20.0"
      ]
     },
     "metadata": {},
     "output_type": "display_data"
    },
    {
     "name": "stdout",
     "output_type": "stream",
     "text": [
      "Content Placeholder 2\n",
      "Content Placeholder 2\n",
      "Content Placeholder 2\n",
      "Content Placeholder 2\n",
      "14, DATE (16)\n",
      "16, FOOTER (15)\n",
      "15, SLIDE_NUMBER (13)\n",
      "\n",
      "slide number5\n",
      "0, TITLE (1)\n",
      "Title 1\n",
      "1, OBJECT (7)\n",
      "Content Placeholder 2\n",
      "Content Placeholder 2\n",
      "Content Placeholder 2\n",
      "Content Placeholder 2\n",
      "Content Placeholder 2\n",
      "Content Placeholder 2\n",
      "Content Placeholder 2\n",
      "Content Placeholder 2\n",
      "Content Placeholder 2\n",
      "Content Placeholder 2\n",
      "Content Placeholder 2\n",
      "Content Placeholder 2\n",
      "Content Placeholder 2\n"
     ]
    },
    {
     "data": {
      "text/plain": [
       "22.0"
      ]
     },
     "metadata": {},
     "output_type": "display_data"
    },
    {
     "name": "stdout",
     "output_type": "stream",
     "text": [
      "Content Placeholder 2\n",
      "Content Placeholder 2\n",
      "14, DATE (16)\n",
      "16, FOOTER (15)\n",
      "15, SLIDE_NUMBER (13)\n",
      "\n",
      "slide number6\n",
      "1, OBJECT (7)\n",
      "Content Placeholder 2\n",
      "Content Placeholder 2\n",
      "Content Placeholder 2\n",
      "Content Placeholder 2\n",
      "Content Placeholder 2\n",
      "14, DATE (16)\n",
      "16, FOOTER (15)\n",
      "15, SLIDE_NUMBER (13)\n",
      "\n",
      "slide number7\n",
      "0, TITLE (1)\n",
      "Title 1\n",
      "1, OBJECT (7)\n",
      "Content Placeholder 2\n",
      "Content Placeholder 2\n",
      "Content Placeholder 2\n",
      "Content Placeholder 2\n",
      "Content Placeholder 2\n",
      "Content Placeholder 2\n",
      "Content Placeholder 2\n",
      "Content Placeholder 2\n"
     ]
    },
    {
     "data": {
      "text/plain": [
       "29.0"
      ]
     },
     "metadata": {},
     "output_type": "display_data"
    },
    {
     "name": "stdout",
     "output_type": "stream",
     "text": [
      "Content Placeholder 2\n",
      "14, DATE (16)\n",
      "16, FOOTER (15)\n",
      "15, SLIDE_NUMBER (13)\n",
      "\n",
      "slide number8\n",
      "0, TITLE (1)\n",
      "Title 1\n"
     ]
    },
    {
     "data": {
      "text/plain": [
       "'Bahnschrift SemiBold'"
      ]
     },
     "metadata": {},
     "output_type": "display_data"
    },
    {
     "name": "stdout",
     "output_type": "stream",
     "text": [
      "1, OBJECT (7)\n",
      "Content Placeholder 2\n",
      "Content Placeholder 2\n",
      "Content Placeholder 2\n",
      "Content Placeholder 2\n",
      "Content Placeholder 2\n",
      "Content Placeholder 2\n",
      "Content Placeholder 2\n",
      "Content Placeholder 2\n",
      "Content Placeholder 2\n",
      "Content Placeholder 2\n",
      "Content Placeholder 2\n",
      "Content Placeholder 2\n",
      "Content Placeholder 2\n",
      "Content Placeholder 2\n",
      "Content Placeholder 2\n",
      "Content Placeholder 2\n",
      "14, DATE (16)\n",
      "16, FOOTER (15)\n",
      "15, SLIDE_NUMBER (13)\n",
      "\n",
      "slide number9\n",
      "0, TITLE (1)\n",
      "Title 1\n",
      "1, OBJECT (7)\n",
      "Content Placeholder 2\n",
      "Content Placeholder 2\n",
      "Content Placeholder 2\n",
      "Content Placeholder 2\n",
      "Content Placeholder 2\n",
      "Content Placeholder 2\n",
      "Content Placeholder 2\n",
      "Content Placeholder 2\n",
      "Content Placeholder 2\n",
      "Content Placeholder 2\n",
      "Content Placeholder 2\n",
      "Content Placeholder 2\n",
      "Content Placeholder 2\n",
      "14, DATE (16)\n",
      "16, FOOTER (15)\n",
      "15, SLIDE_NUMBER (13)\n",
      "\n",
      "slide number10\n",
      "0, TITLE (1)\n",
      "Title 1\n",
      "Title 1\n",
      "1, OBJECT (7)\n",
      "Content Placeholder 2\n",
      "Content Placeholder 2\n",
      "Content Placeholder 2\n",
      "Content Placeholder 2\n",
      "Content Placeholder 2\n",
      "Content Placeholder 2\n",
      "Content Placeholder 2\n",
      "Content Placeholder 2\n",
      "Content Placeholder 2\n",
      "14, DATE (16)\n",
      "16, FOOTER (15)\n",
      "15, SLIDE_NUMBER (13)\n",
      "\n",
      "slide number11\n",
      "0, TITLE (1)\n",
      "Title 1\n",
      "1, OBJECT (7)\n",
      "Content Placeholder 2\n",
      "Content Placeholder 2\n",
      "Content Placeholder 2\n",
      "Content Placeholder 2\n",
      "Content Placeholder 2\n",
      "Content Placeholder 2\n",
      "Content Placeholder 2\n",
      "14, DATE (16)\n",
      "16, FOOTER (15)\n",
      "15, SLIDE_NUMBER (13)\n",
      "\n",
      "slide number12\n",
      "0, TITLE (1)\n",
      "Title 1\n",
      "1, OBJECT (7)\n",
      "Content Placeholder 2\n",
      "Content Placeholder 2\n",
      "Content Placeholder 2\n",
      "Content Placeholder 2\n",
      "Content Placeholder 2\n",
      "Content Placeholder 2\n",
      "Content Placeholder 2\n",
      "14, DATE (16)\n",
      "16, FOOTER (15)\n",
      "15, SLIDE_NUMBER (13)\n",
      "\n",
      "slide number13\n",
      "0, TITLE (1)\n",
      "Title 4\n",
      "1, OBJECT (7)\n",
      "Content Placeholder 2\n",
      "Content Placeholder 2\n",
      "Content Placeholder 2\n",
      "Content Placeholder 2\n",
      "Title 4\n"
     ]
    },
    {
     "data": {
      "text/plain": [
       "30.0"
      ]
     },
     "metadata": {},
     "output_type": "display_data"
    },
    {
     "name": "stdout",
     "output_type": "stream",
     "text": [
      "14, DATE (16)\n",
      "16, FOOTER (15)\n",
      "15, SLIDE_NUMBER (13)\n",
      "\n",
      "slide number14\n",
      "0, TITLE (1)\n",
      "Title 1\n",
      "1, OBJECT (7)\n",
      "Content Placeholder 2\n",
      "Content Placeholder 2\n",
      "Content Placeholder 2\n",
      "Content Placeholder 2\n",
      "14, DATE (16)\n",
      "16, FOOTER (15)\n",
      "15, SLIDE_NUMBER (13)\n",
      "\n",
      "slide number15\n",
      "0, TITLE (1)\n",
      "Title 1\n",
      "1, OBJECT (7)\n",
      "Content Placeholder 2\n"
     ]
    },
    {
     "data": {
      "text/plain": [
       "32.0"
      ]
     },
     "metadata": {},
     "output_type": "display_data"
    },
    {
     "name": "stdout",
     "output_type": "stream",
     "text": [
      "Content Placeholder 2\n",
      "Content Placeholder 2\n",
      "Content Placeholder 2\n",
      "14, DATE (16)\n",
      "16, FOOTER (15)\n",
      "15, SLIDE_NUMBER (13)\n",
      "\n",
      "slide number16\n",
      "1, OBJECT (7)\n",
      "Content Placeholder 2\n",
      "Content Placeholder 2\n",
      "Content Placeholder 2\n"
     ]
    },
    {
     "data": {
      "text/plain": [
       "21.0"
      ]
     },
     "metadata": {},
     "output_type": "display_data"
    },
    {
     "name": "stdout",
     "output_type": "stream",
     "text": [
      "Content Placeholder 2\n",
      "Content Placeholder 2\n",
      "Content Placeholder 2\n",
      "Content Placeholder 2\n",
      "14, DATE (16)\n",
      "16, FOOTER (15)\n",
      "15, SLIDE_NUMBER (13)\n",
      "\n",
      "slide number17\n",
      "0, TITLE (1)\n",
      "Title 1\n",
      "1, OBJECT (7)\n",
      "Content Placeholder 2\n",
      "Content Placeholder 2\n",
      "Content Placeholder 2\n",
      "Content Placeholder 2\n",
      "Content Placeholder 2\n",
      "Content Placeholder 2\n",
      "Content Placeholder 2\n",
      "Content Placeholder 2\n",
      "14, DATE (16)\n",
      "16, FOOTER (15)\n",
      "15, SLIDE_NUMBER (13)\n",
      "\n",
      "slide number18\n",
      "0, TITLE (1)\n",
      "Title 1\n",
      "1, OBJECT (7)\n",
      "Content Placeholder 2\n",
      "Content Placeholder 2\n",
      "Content Placeholder 2\n",
      "Content Placeholder 2\n",
      "Content Placeholder 2\n",
      "14, DATE (16)\n",
      "16, FOOTER (15)\n",
      "15, SLIDE_NUMBER (13)\n",
      "\n",
      "slide number19\n",
      "1, OBJECT (7)\n",
      "no textframe\n",
      "14, DATE (16)\n",
      "16, FOOTER (15)\n",
      "15, SLIDE_NUMBER (13)\n",
      "\n",
      "slide number20\n",
      "1, OBJECT (7)\n",
      "Content Placeholder 2\n"
     ]
    },
    {
     "data": {
      "text/plain": [
       "'Bahnschrift SemiLight'"
      ]
     },
     "metadata": {},
     "output_type": "display_data"
    },
    {
     "data": {
      "text/plain": [
       "80.0"
      ]
     },
     "metadata": {},
     "output_type": "display_data"
    },
    {
     "name": "stdout",
     "output_type": "stream",
     "text": [
      "Content Placeholder 2\n",
      "14, DATE (16)\n",
      "16, FOOTER (15)\n",
      "15, SLIDE_NUMBER (13)\n",
      "\n",
      "font name\n",
      "['Bahnschrift', 'Arial Rounded MT Bold', 'Bahnschrift SemiBold', 'Bahnschrift SemiLight']\n",
      "\n",
      "font size\n",
      "[28.0, 20.0, 22.0, 29.0, 30.0, 32.0, 21.0, 80.0]\n",
      "\n",
      "hyperlink\n",
      "[]\n",
      "\n",
      "color\n",
      "[(112, 48, 160)]\n",
      "\n",
      "number of font name\n",
      "5\n",
      "\n",
      "number of font size\n",
      "9\n",
      "\n",
      " number of hyperlink\n",
      "0\n",
      "\n",
      " number of color\n",
      "2\n",
      "\n",
      " number of pictures\n",
      "22\n",
      "\n",
      " number of chart\n",
      "0\n",
      "\n",
      " number of tables\n",
      "0\n",
      "\n",
      " maximum font size\n",
      "80.0\n",
      "\n",
      " minimum font size\n",
      "20.0\n",
      "e:\\ppt\\58.pptx\n",
      "\n",
      "slide number1\n",
      "0, CENTER_TITLE (3)\n",
      "Title 1\n"
     ]
    },
    {
     "data": {
      "text/plain": [
       "'Bookman Old Style'"
      ]
     },
     "metadata": {},
     "output_type": "display_data"
    },
    {
     "data": {
      "text/plain": [
       "40.0"
      ]
     },
     "metadata": {},
     "output_type": "display_data"
    },
    {
     "name": "stdout",
     "output_type": "stream",
     "text": [
      "Title 1\n",
      "TextBox 4\n"
     ]
    },
    {
     "data": {
      "text/plain": [
       "24.0"
      ]
     },
     "metadata": {},
     "output_type": "display_data"
    },
    {
     "name": "stdout",
     "output_type": "stream",
     "text": [
      "TextBox 4\n",
      "TextBox 4\n",
      "TextBox 4\n",
      "TextBox 4\n",
      "TextBox 4\n",
      "TextBox 4\n",
      "TextBox 4\n",
      "10, DATE (16)\n",
      "12, SLIDE_NUMBER (13)\n",
      "\n",
      "slide number2\n",
      "TextBox 3\n"
     ]
    },
    {
     "data": {
      "text/plain": [
       "28.0"
      ]
     },
     "metadata": {},
     "output_type": "display_data"
    },
    {
     "name": "stdout",
     "output_type": "stream",
     "text": [
      "TextBox 3\n"
     ]
    },
    {
     "data": {
      "text/plain": [
       "20.0"
      ]
     },
     "metadata": {},
     "output_type": "display_data"
    },
    {
     "name": "stdout",
     "output_type": "stream",
     "text": [
      "TextBox 3\n",
      "TextBox 3\n",
      "TextBox 3\n",
      "TextBox 3\n",
      "TextBox 3\n",
      "TextBox 3\n",
      "TextBox 3\n",
      "TextBox 3\n",
      "TextBox 3\n",
      "TextBox 3\n",
      "TextBox 3\n",
      "TextBox 3\n",
      "TextBox 3\n",
      "TextBox 3\n",
      "TextBox 3\n",
      "TextBox 3\n",
      "TextBox 3\n",
      "TextBox 3\n",
      "10, DATE (16)\n",
      "12, SLIDE_NUMBER (13)\n",
      "\n",
      "slide number3\n",
      "TextBox 4\n",
      "TextBox 4\n",
      "TextBox 4\n",
      "TextBox 4\n",
      "TextBox 4\n",
      "TextBox 4\n",
      "TextBox 4\n",
      "TextBox 4\n",
      "TextBox 4\n",
      "TextBox 4\n",
      "TextBox 4\n",
      "TextBox 4\n",
      "TextBox 4\n",
      "TextBox 4\n",
      "TextBox 4\n",
      "TextBox 4\n",
      "TextBox 4\n",
      "TextBox 4\n",
      "TextBox 4\n",
      "TextBox 4\n",
      "TextBox 4\n",
      "TextBox 4\n",
      "TextBox 4\n",
      "TextBox 4\n",
      "TextBox 4\n",
      "10, DATE (16)\n",
      "12, SLIDE_NUMBER (13)\n",
      "\n",
      "slide number4\n",
      "TextBox 4\n",
      "TextBox 4\n",
      "TextBox 4\n",
      "TextBox 4\n",
      "TextBox 4\n",
      "TextBox 4\n",
      "TextBox 4\n",
      "TextBox 4\n",
      "TextBox 4\n",
      "TextBox 4\n",
      "TextBox 4\n",
      "TextBox 4\n",
      "TextBox 4\n",
      "TextBox 4\n",
      "TextBox 4\n",
      "TextBox 4\n",
      "TextBox 4\n",
      "TextBox 4\n",
      "TextBox 4\n",
      "TextBox 4\n",
      "10, DATE (16)\n",
      "12, SLIDE_NUMBER (13)\n",
      "\n",
      "slide number5\n",
      "TextBox 3\n",
      "TextBox 3\n",
      "TextBox 3\n",
      "TextBox 3\n",
      "TextBox 3\n",
      "TextBox 3\n",
      "TextBox 3\n",
      "TextBox 3\n",
      "TextBox 3\n",
      "TextBox 3\n",
      "TextBox 3\n",
      "TextBox 3\n",
      "TextBox 3\n",
      "TextBox 3\n",
      "TextBox 3\n",
      "TextBox 3\n",
      "10, DATE (16)\n",
      "12, SLIDE_NUMBER (13)\n",
      "\n",
      "slide number6\n",
      "1, OBJECT (7)\n",
      "no textframe\n",
      "10, DATE (16)\n",
      "12, SLIDE_NUMBER (13)\n",
      "\n",
      "slide number7\n",
      "1, OBJECT (7)\n",
      "no textframe\n",
      "10, DATE (16)\n",
      "12, SLIDE_NUMBER (13)\n",
      "\n",
      "slide number8\n",
      "1, OBJECT (7)\n",
      "no textframe\n",
      "10, DATE (16)\n",
      "12, SLIDE_NUMBER (13)\n",
      "\n",
      "slide number9\n",
      "TextBox 4\n",
      "TextBox 4\n",
      "TextBox 4\n",
      "TextBox 4\n",
      "TextBox 4\n",
      "TextBox 4\n",
      "TextBox 5\n",
      "10, DATE (16)\n",
      "12, SLIDE_NUMBER (13)\n",
      "\n",
      "slide number10\n",
      "10, DATE (16)\n",
      "12, SLIDE_NUMBER (13)\n",
      "\n",
      "slide number11\n",
      "10, DATE (16)\n",
      "12, SLIDE_NUMBER (13)\n",
      "\n",
      "slide number12\n",
      "0, TITLE (1)\n",
      "Title 1\n"
     ]
    },
    {
     "data": {
      "text/plain": [
       "'Segoe UI'"
      ]
     },
     "metadata": {},
     "output_type": "display_data"
    },
    {
     "name": "stdout",
     "output_type": "stream",
     "text": [
      "Title 1\n",
      "Title 1\n",
      "Title 1\n",
      "1, OBJECT (7)\n",
      "Content Placeholder 2\n"
     ]
    },
    {
     "data": {
      "text/plain": [
       "32.0"
      ]
     },
     "metadata": {},
     "output_type": "display_data"
    },
    {
     "name": "stdout",
     "output_type": "stream",
     "text": [
      "Content Placeholder 2\n"
     ]
    },
    {
     "data": {
      "text/plain": [
       "'Segoe UI Semilight'"
      ]
     },
     "metadata": {},
     "output_type": "display_data"
    },
    {
     "name": "stdout",
     "output_type": "stream",
     "text": [
      "Content Placeholder 2\n",
      "Content Placeholder 2\n",
      "Content Placeholder 2\n",
      "Content Placeholder 2\n",
      "Content Placeholder 2\n",
      "Content Placeholder 2\n",
      "10, DATE (16)\n",
      "12, SLIDE_NUMBER (13)\n",
      "\n",
      "slide number13\n",
      "10, DATE (16)\n",
      "12, SLIDE_NUMBER (13)\n",
      "\n",
      "slide number14\n",
      "TextBox 3\n",
      "TextBox 3\n",
      "TextBox 3\n",
      "TextBox 3\n",
      "TextBox 3\n",
      "TextBox 3\n",
      "TextBox 3\n",
      "TextBox 3\n",
      "TextBox 3\n",
      "TextBox 3\n",
      "TextBox 3\n",
      "TextBox 3\n",
      "TextBox 3\n",
      "10, DATE (16)\n",
      "12, SLIDE_NUMBER (13)\n",
      "\n",
      "slide number15\n",
      "0, TITLE (1)\n",
      "Title 1\n",
      "1, OBJECT (7)\n",
      "Content Placeholder 2\n",
      "Content Placeholder 2\n",
      "Content Placeholder 2\n",
      "Content Placeholder 2\n",
      "Content Placeholder 2\n",
      "Content Placeholder 2\n",
      "Content Placeholder 2\n",
      "Content Placeholder 2\n",
      "Content Placeholder 2\n",
      "Content Placeholder 2\n",
      "Content Placeholder 2\n",
      "Content Placeholder 2\n",
      "Content Placeholder 2\n",
      "10, DATE (16)\n",
      "12, SLIDE_NUMBER (13)\n",
      "\n",
      "slide number16\n",
      "1, OBJECT (7)\n",
      "Content Placeholder 2\n"
     ]
    },
    {
     "data": {
      "text/plain": [
       "115.0"
      ]
     },
     "metadata": {},
     "output_type": "display_data"
    },
    {
     "name": "stdout",
     "output_type": "stream",
     "text": [
      "10, DATE (16)\n",
      "12, SLIDE_NUMBER (13)\n",
      "\n",
      "font name\n",
      "['Bookman Old Style', 'Segoe UI', 'Segoe UI Semilight']\n",
      "\n",
      "font size\n",
      "[40.0, 24.0, 28.0, 20.0, 32.0, 115.0]\n",
      "\n",
      "hyperlink\n",
      "[]\n",
      "\n",
      "color\n",
      "[(0, 155, 223), (80, 80, 80)]\n",
      "\n",
      "number of font name\n",
      "4\n",
      "\n",
      "number of font size\n",
      "7\n",
      "\n",
      " number of hyperlink\n",
      "0\n",
      "\n",
      " number of color\n",
      "3\n",
      "\n",
      " number of pictures\n",
      "10\n",
      "\n",
      " number of chart\n",
      "0\n",
      "\n",
      " number of tables\n",
      "0\n",
      "\n",
      " maximum font size\n",
      "115.0\n",
      "\n",
      " minimum font size\n",
      "20.0\n",
      "e:\\ppt\\59.pptx\n",
      "\n",
      "slide number1\n",
      "0, CENTER_TITLE (3)\n",
      "1, SUBTITLE (4)\n",
      "\n",
      "slide number2\n",
      "0, TITLE (1)\n",
      "Title 1\n",
      "1, OBJECT (7)\n",
      "Content Placeholder 2\n",
      "Content Placeholder 2\n",
      "Content Placeholder 2\n",
      "Content Placeholder 2\n",
      "\n",
      "slide number3\n",
      "0, TITLE (1)\n",
      "Title 1\n",
      "1, OBJECT (7)\n",
      "Content Placeholder 2\n",
      "Content Placeholder 2\n",
      "Content Placeholder 2\n",
      "\n",
      "slide number4\n",
      "0, TITLE (1)\n",
      "Title 1\n",
      "1, OBJECT (7)\n",
      "Content Placeholder 2\n",
      "Content Placeholder 2\n",
      "Content Placeholder 2\n",
      "Content Placeholder 2\n",
      "\n",
      "slide number5\n",
      "0, TITLE (1)\n",
      "Title 1\n",
      "1, OBJECT (7)\n",
      "Content Placeholder 2\n",
      "Content Placeholder 2\n",
      "Content Placeholder 2\n",
      "Content Placeholder 2\n",
      "Content Placeholder 2\n",
      "Content Placeholder 2\n",
      "\n",
      "slide number6\n",
      "0, TITLE (1)\n",
      "1, OBJECT (7)\n",
      "Content Placeholder 2\n",
      "Content Placeholder 2\n",
      "Content Placeholder 2\n",
      "Content Placeholder 2\n",
      "Content Placeholder 2\n",
      "\n",
      "slide number7\n",
      "0, TITLE (1)\n",
      "Title 1\n",
      "1, OBJECT (7)\n",
      "Content Placeholder 2\n",
      "Content Placeholder 2\n",
      "\n",
      "slide number8\n",
      "0, TITLE (1)\n",
      "Title 1\n",
      "1, OBJECT (7)\n",
      "Content Placeholder 2\n",
      "Content Placeholder 2\n",
      "Content Placeholder 2\n",
      "Content Placeholder 2\n",
      "Content Placeholder 2\n",
      "Content Placeholder 2\n",
      "Content Placeholder 2\n",
      "Content Placeholder 2\n",
      "Content Placeholder 2\n",
      "Content Placeholder 2\n",
      "\n",
      "slide number9\n",
      "0, TITLE (1)\n",
      "Title 1\n",
      "1, OBJECT (7)\n",
      "Content Placeholder 2\n",
      "Content Placeholder 2\n",
      "Content Placeholder 2\n",
      "Content Placeholder 2\n",
      "Content Placeholder 2\n",
      "Content Placeholder 2\n",
      "Content Placeholder 2\n",
      "\n",
      "slide number10\n",
      "0, TITLE (1)\n",
      "Title 1\n",
      "1, OBJECT (7)\n",
      "Content Placeholder 2\n",
      "\n",
      "slide number11\n",
      "0, TITLE (1)\n",
      "Title 1\n",
      "1, OBJECT (7)\n",
      "Content Placeholder 2\n",
      "Content Placeholder 2\n",
      "Content Placeholder 2\n",
      "Content Placeholder 2\n",
      "Content Placeholder 2\n",
      "Content Placeholder 2\n",
      "Content Placeholder 2\n",
      "Content Placeholder 2\n",
      "\n",
      "slide number12\n",
      "0, TITLE (1)\n",
      "Title 1\n",
      "1, OBJECT (7)\n",
      "Content Placeholder 2\n",
      "Content Placeholder 2\n",
      "Content Placeholder 2\n",
      "Content Placeholder 2\n",
      "Content Placeholder 2\n",
      "Content Placeholder 2\n",
      "Content Placeholder 2\n",
      "\n",
      "slide number13\n",
      "0, TITLE (1)\n",
      "1, OBJECT (7)\n",
      "Content Placeholder 2\n",
      "Content Placeholder 2\n",
      "Content Placeholder 2\n",
      "Content Placeholder 2\n",
      "Content Placeholder 2\n",
      "\n",
      "slide number14\n",
      "0, TITLE (1)\n",
      "Title 1\n",
      "1, OBJECT (7)\n",
      "Content Placeholder 2\n",
      "Content Placeholder 2\n",
      "Content Placeholder 2\n",
      "Content Placeholder 2\n",
      "Content Placeholder 2\n",
      "\n",
      "slide number15\n",
      "0, TITLE (1)\n",
      "Title 1\n",
      "1, OBJECT (7)\n",
      "Content Placeholder 2\n",
      "Content Placeholder 2\n",
      "Content Placeholder 2\n",
      "\n",
      "slide number16\n",
      "0, TITLE (1)\n",
      "Title 1\n",
      "1, OBJECT (7)\n",
      "Content Placeholder 2\n",
      "Content Placeholder 2\n",
      "Content Placeholder 2\n",
      "Content Placeholder 2\n",
      "Content Placeholder 2\n",
      "Content Placeholder 2\n",
      "\n",
      "font name\n",
      "[]\n",
      "\n",
      "font size\n",
      "[]\n",
      "\n",
      "hyperlink\n",
      "[]\n",
      "\n",
      "color\n",
      "[]\n",
      "\n",
      "number of font name\n",
      "1\n",
      "\n",
      "number of font size\n",
      "1\n",
      "\n",
      " number of hyperlink\n",
      "0\n",
      "\n",
      " number of color\n",
      "1\n",
      "\n",
      " number of pictures\n",
      "0\n",
      "\n",
      " number of chart\n",
      "0\n",
      "\n",
      " number of tables\n",
      "0\n",
      "\n",
      " maximum font size\n",
      "1\n",
      "\n",
      " minimum font size\n",
      "200\n",
      "e:\\ppt\\60.pptx\n",
      "\n",
      "slide number1\n",
      "0, CENTER_TITLE (3)\n",
      "Title 1\n",
      "1, SUBTITLE (4)\n",
      "Subtitle 2\n"
     ]
    },
    {
     "data": {
      "text/plain": [
       "'Bahnschrift'"
      ]
     },
     "metadata": {},
     "output_type": "display_data"
    },
    {
     "name": "stdout",
     "output_type": "stream",
     "text": [
      "Subtitle 2\n",
      "10, DATE (16)\n",
      "12, SLIDE_NUMBER (13)\n",
      "\n",
      "slide number2\n",
      "0, TITLE (1)\n",
      "Title 1\n",
      "1, OBJECT (7)\n",
      "no textframe\n",
      "10, DATE (16)\n",
      "12, SLIDE_NUMBER (13)\n",
      "\n",
      "slide number3\n",
      "0, TITLE (1)\n",
      "Title 1\n",
      "1, OBJECT (7)\n",
      "Content Placeholder 2\n",
      "Content Placeholder 2\n",
      "Content Placeholder 2\n",
      "Content Placeholder 2\n",
      "Content Placeholder 2\n",
      "Content Placeholder 2\n",
      "Content Placeholder 2\n",
      "Content Placeholder 2\n",
      "Content Placeholder 2\n",
      "Content Placeholder 2\n",
      "Content Placeholder 2\n",
      "Content Placeholder 2\n",
      "10, DATE (16)\n",
      "12, SLIDE_NUMBER (13)\n",
      "\n",
      "slide number4\n",
      "0, TITLE (1)\n",
      "Title 1\n",
      "1, OBJECT (7)\n",
      "Content Placeholder 2\n",
      "Content Placeholder 2\n",
      "Content Placeholder 2\n",
      "Content Placeholder 2\n",
      "10, DATE (16)\n",
      "12, SLIDE_NUMBER (13)\n",
      "\n",
      "slide number5\n",
      "0, TITLE (1)\n",
      "Title 1\n",
      "1, OBJECT (7)\n",
      "Content Placeholder 2\n",
      "Content Placeholder 2\n",
      "Content Placeholder 2\n",
      "10, DATE (16)\n",
      "12, SLIDE_NUMBER (13)\n",
      "\n",
      "slide number6\n",
      "0, TITLE (1)\n",
      "Title 1\n",
      "1, OBJECT (7)\n",
      "Content Placeholder 2\n",
      "Content Placeholder 2\n",
      "10, DATE (16)\n",
      "12, SLIDE_NUMBER (13)\n",
      "\n",
      "slide number7\n",
      "0, TITLE (1)\n",
      "Title 1\n",
      "1, OBJECT (7)\n",
      "Content Placeholder 2\n",
      "Content Placeholder 2\n",
      "Content Placeholder 2\n",
      "Content Placeholder 2\n",
      "10, DATE (16)\n",
      "12, SLIDE_NUMBER (13)\n",
      "\n",
      "slide number8\n",
      "0, TITLE (1)\n",
      "1, OBJECT (7)\n",
      "Content Placeholder 2\n",
      "Content Placeholder 2\n",
      "Content Placeholder 2\n",
      "Content Placeholder 2\n",
      "Content Placeholder 2\n",
      "10, DATE (16)\n",
      "12, SLIDE_NUMBER (13)\n",
      "\n",
      "slide number9\n",
      "0, TITLE (1)\n",
      "Title 1\n",
      "1, OBJECT (7)\n",
      "Content Placeholder 2\n",
      "Content Placeholder 2\n",
      "10, DATE (16)\n",
      "12, SLIDE_NUMBER (13)\n",
      "\n",
      "slide number10\n",
      "0, TITLE (1)\n",
      "Title 1\n",
      "1, OBJECT (7)\n",
      "Content Placeholder 2\n",
      "Content Placeholder 2\n",
      "Content Placeholder 2\n",
      "Content Placeholder 2\n",
      "Content Placeholder 2\n",
      "Content Placeholder 2\n",
      "Content Placeholder 2\n",
      "Content Placeholder 2\n",
      "10, DATE (16)\n",
      "12, SLIDE_NUMBER (13)\n",
      "\n",
      "slide number11\n",
      "0, TITLE (1)\n",
      "Title 1\n",
      "1, OBJECT (7)\n",
      "Content Placeholder 2\n",
      "Content Placeholder 2\n",
      "Content Placeholder 2\n",
      "Content Placeholder 2\n",
      "Content Placeholder 2\n",
      "Content Placeholder 2\n",
      "Content Placeholder 2\n",
      "10, DATE (16)\n",
      "12, SLIDE_NUMBER (13)\n",
      "\n",
      "slide number12\n",
      "0, TITLE (1)\n",
      "Title 1\n",
      "1, OBJECT (7)\n",
      "no textframe\n",
      "10, DATE (16)\n",
      "12, SLIDE_NUMBER (13)\n",
      "\n",
      "slide number13\n",
      "0, TITLE (1)\n",
      "Title 1\n",
      "1, OBJECT (7)\n",
      "Content Placeholder 2\n",
      "10, DATE (16)\n",
      "12, SLIDE_NUMBER (13)\n",
      "\n",
      "slide number14\n",
      "0, TITLE (1)\n",
      "Title 1\n",
      "1, OBJECT (7)\n",
      "no textframe\n",
      "TextBox 3\n",
      "TextBox 3\n",
      "10, DATE (16)\n",
      "12, SLIDE_NUMBER (13)\n",
      "\n",
      "slide number15\n",
      "0, TITLE (1)\n",
      "Title 1\n",
      "1, OBJECT (7)\n",
      "Content Placeholder 2\n",
      "Content Placeholder 2\n",
      "Content Placeholder 2\n",
      "Content Placeholder 2\n",
      "Content Placeholder 2\n",
      "Content Placeholder 2\n",
      "10, DATE (16)\n",
      "12, SLIDE_NUMBER (13)\n",
      "\n",
      "slide number16\n",
      "0, TITLE (1)\n",
      "Title 1\n",
      "1, OBJECT (7)\n",
      "Content Placeholder 2\n",
      "Content Placeholder 2\n",
      "Content Placeholder 2\n",
      "Content Placeholder 2\n",
      "Content Placeholder 2\n",
      "10, DATE (16)\n",
      "12, SLIDE_NUMBER (13)\n",
      "\n",
      "slide number17\n",
      "0, TITLE (1)\n",
      "1, OBJECT (7)\n",
      "Content Placeholder 2\n",
      "Content Placeholder 2\n",
      "Content Placeholder 2\n",
      "Content Placeholder 2\n",
      "Content Placeholder 2\n",
      "10, DATE (16)\n",
      "12, SLIDE_NUMBER (13)\n",
      "\n",
      "slide number18\n",
      "0, TITLE (1)\n",
      "Title 1\n",
      "1, OBJECT (7)\n",
      "Content Placeholder 2\n",
      "Content Placeholder 2\n",
      "Content Placeholder 2\n",
      "Content Placeholder 2\n",
      "Content Placeholder 2\n",
      "10, DATE (16)\n",
      "12, SLIDE_NUMBER (13)\n",
      "\n",
      "slide number19\n",
      "0, TITLE (1)\n",
      "Title 1\n",
      "1, OBJECT (7)\n",
      "Content Placeholder 2\n",
      "Content Placeholder 2\n",
      "Content Placeholder 2\n",
      "10, DATE (16)\n",
      "12, SLIDE_NUMBER (13)\n",
      "\n",
      "slide number20\n",
      "0, TITLE (1)\n",
      "Title 1\n",
      "1, OBJECT (7)\n",
      "Content Placeholder 2\n",
      "Content Placeholder 2\n",
      "Content Placeholder 2\n",
      "Content Placeholder 2\n",
      "Content Placeholder 2\n",
      "Content Placeholder 2\n",
      "10, DATE (16)\n",
      "12, SLIDE_NUMBER (13)\n",
      "\n",
      "slide number21\n",
      "1, OBJECT (7)\n",
      "Content Placeholder 2\n"
     ]
    },
    {
     "data": {
      "text/plain": [
       "54.0"
      ]
     },
     "metadata": {},
     "output_type": "display_data"
    },
    {
     "name": "stdout",
     "output_type": "stream",
     "text": [
      "10, DATE (16)\n",
      "12, SLIDE_NUMBER (13)\n",
      "\n",
      "font name\n",
      "['Bahnschrift']\n",
      "\n",
      "font size\n",
      "[54.0]\n",
      "\n",
      "hyperlink\n",
      "[]\n",
      "\n",
      "color\n",
      "[(255, 0, 0), (0, 176, 80), (0, 112, 192), (0, 32, 96)]\n",
      "\n",
      "number of font name\n",
      "2\n",
      "\n",
      "number of font size\n",
      "2\n",
      "\n",
      " number of hyperlink\n",
      "0\n",
      "\n",
      " number of color\n",
      "5\n",
      "\n",
      " number of pictures\n",
      "6\n",
      "\n",
      " number of chart\n",
      "0\n",
      "\n",
      " number of tables\n",
      "0\n",
      "\n",
      " maximum font size\n",
      "54.0\n",
      "\n",
      " minimum font size\n",
      "54.0\n",
      "e:\\ppt\\61.pptx\n",
      "\n",
      "slide number1\n",
      "0, CENTER_TITLE (3)\n",
      "Title 5\n",
      "TextBox 7\n"
     ]
    },
    {
     "data": {
      "text/plain": [
       "'Dosis ExtraLight'"
      ]
     },
     "metadata": {},
     "output_type": "display_data"
    },
    {
     "data": {
      "text/plain": [
       "20.0"
      ]
     },
     "metadata": {},
     "output_type": "display_data"
    },
    {
     "name": "stdout",
     "output_type": "stream",
     "text": [
      "TextBox 7\n",
      "\n",
      "slide number2\n",
      "12, SLIDE_NUMBER (13)\n",
      "Google Shape;3841;p14\n"
     ]
    },
    {
     "data": {
      "text/plain": [
       "36.0"
      ]
     },
     "metadata": {},
     "output_type": "display_data"
    },
    {
     "name": "stdout",
     "output_type": "stream",
     "text": [
      "TextBox 5\n"
     ]
    },
    {
     "data": {
      "text/plain": [
       "'Titillium Web Light'"
      ]
     },
     "metadata": {},
     "output_type": "display_data"
    },
    {
     "data": {
      "text/plain": [
       "11.0"
      ]
     },
     "metadata": {},
     "output_type": "display_data"
    },
    {
     "name": "stdout",
     "output_type": "stream",
     "text": [
      "TextBox 5\n",
      "TextBox 5\n",
      "TextBox 5\n",
      "TextBox 5\n",
      "TextBox 5\n",
      "TextBox 5\n",
      "TextBox 5\n",
      "TextBox 5\n",
      "\n",
      "slide number3\n",
      "0, TITLE (1)\n",
      "Google Shape;3841;p14\n"
     ]
    },
    {
     "data": {
      "text/plain": [
       "'Times New Roman'"
      ]
     },
     "metadata": {},
     "output_type": "display_data"
    },
    {
     "name": "stdout",
     "output_type": "stream",
     "text": [
      "1, BODY (2)\n",
      "Text Placeholder 6\n"
     ]
    },
    {
     "data": {
      "text/plain": [
       "12.0"
      ]
     },
     "metadata": {},
     "output_type": "display_data"
    },
    {
     "name": "stdout",
     "output_type": "stream",
     "text": [
      "Text Placeholder 6\n",
      "Text Placeholder 6\n",
      "Text Placeholder 6\n",
      "12, SLIDE_NUMBER (13)\n",
      "\n",
      "slide number4\n",
      "0, TITLE (1)\n",
      "Title 9\n",
      "1, BODY (2)\n",
      "Text Placeholder 10\n",
      "Text Placeholder 10\n",
      "2, BODY (2)\n",
      "Text Placeholder 11\n",
      "Text Placeholder 11\n",
      "12, SLIDE_NUMBER (13)\n",
      "TextBox 12\n"
     ]
    },
    {
     "data": {
      "text/plain": [
       "18.0"
      ]
     },
     "metadata": {},
     "output_type": "display_data"
    },
    {
     "name": "stdout",
     "output_type": "stream",
     "text": [
      "TextBox 13\n",
      "\n",
      "slide number5\n",
      "1, BODY (2)\n",
      "Google Shape;3864;p17\n",
      "Google Shape;3864;p17\n",
      "Google Shape;3864;p17\n",
      "12, SLIDE_NUMBER (13)\n",
      "\n",
      "slide number6\n",
      "0, TITLE (1)\n",
      "Google Shape;3870;p18\n",
      "12, SLIDE_NUMBER (13)\n",
      "TextBox 6\n",
      "TextBox 6\n",
      "TextBox 6\n",
      "\n",
      "slide number7\n",
      "12, SLIDE_NUMBER (13)\n",
      "TextBox 20\n"
     ]
    },
    {
     "data": {
      "text/plain": [
       "24.0"
      ]
     },
     "metadata": {},
     "output_type": "display_data"
    },
    {
     "name": "stdout",
     "output_type": "stream",
     "text": [
      "TextBox 21\n",
      "TextBox 25\n",
      "TextBox 31\n",
      "TextBox 38\n",
      "TextBox 42\n",
      "TextBox 56\n",
      "\n",
      "slide number8\n",
      "0, TITLE (1)\n",
      "Google Shape;3898;p20\n",
      "12, SLIDE_NUMBER (13)\n",
      "TextBox 7\n"
     ]
    },
    {
     "data": {
      "text/plain": [
       "16.0"
      ]
     },
     "metadata": {},
     "output_type": "display_data"
    },
    {
     "name": "stdout",
     "output_type": "stream",
     "text": [
      "TextBox 7\n",
      "TextBox 9\n",
      "TextBox 9\n",
      "TextBox 9\n",
      "TextBox 9\n",
      "TextBox 9\n",
      "TextBox 9\n",
      "TextBox 9\n",
      "TextBox 9\n",
      "TextBox 9\n",
      "\n",
      "slide number9\n",
      "12, SLIDE_NUMBER (13)\n",
      "TextBox 7\n",
      "TextBox 7\n",
      "TextBox 11\n",
      "TextBox 11\n",
      "TextBox 11\n",
      "TextBox 11\n",
      "TextBox 11\n",
      "TextBox 11\n",
      "TextBox 11\n",
      "TextBox 11\n",
      "\n",
      "slide number10\n",
      "12, SLIDE_NUMBER (13)\n",
      "TextBox 7\n",
      "TextBox 7\n",
      "TextBox 8\n",
      "TextBox 8\n",
      "TextBox 8\n",
      "TextBox 8\n",
      "TextBox 8\n",
      "\n",
      "slide number11\n",
      "0, TITLE (1)\n",
      "Google Shape;3898;p20\n",
      "12, SLIDE_NUMBER (13)\n",
      "TextBox 8\n",
      "TextBox 8\n",
      "TextBox 8\n",
      "\n",
      "slide number12\n",
      "0, TITLE (1)\n",
      "Google Shape;3898;p20\n",
      "12, SLIDE_NUMBER (13)\n",
      "TextBox 7\n",
      "TextBox 7\n",
      "TextBox 7\n",
      "TextBox 7\n",
      "TextBox 7\n",
      "TextBox 7\n",
      "TextBox 7\n",
      "TextBox 7\n",
      "TextBox 7\n",
      "\n",
      "slide number13\n",
      "12, SLIDE_NUMBER (13)\n",
      "Google Shape;3898;p20\n",
      "TextBox 8\n",
      "TextBox 8\n",
      "TextBox 8\n",
      "TextBox 8\n",
      "\n",
      "slide number14\n",
      "12, SLIDE_NUMBER (13)\n",
      "Google Shape;3898;p20\n",
      "TextBox 9\n",
      "\n",
      "slide number15\n",
      "0, CENTER_TITLE (3)\n",
      "Title 11\n",
      "4294967295, SLIDE_NUMBER (13)\n",
      "\n",
      "font name\n",
      "['Dosis ExtraLight', 'Titillium Web Light', 'Times New Roman']\n",
      "\n",
      "font size\n",
      "[20.0, 36.0, 11.0, 12.0, 18.0, 24.0, 16.0]\n",
      "\n",
      "hyperlink\n",
      "[]\n",
      "\n",
      "color\n",
      "[(128, 191, 183), (0, 59, 85), (11, 135, 161)]\n",
      "\n",
      "number of font name\n",
      "4\n",
      "\n",
      "number of font size\n",
      "8\n",
      "\n",
      " number of hyperlink\n",
      "0\n",
      "\n",
      " number of color\n",
      "4\n",
      "\n",
      " number of pictures\n",
      "4\n",
      "\n",
      " number of chart\n",
      "0\n",
      "\n",
      " number of tables\n",
      "0\n",
      "\n",
      " maximum font size\n",
      "36.0\n",
      "\n",
      " minimum font size\n",
      "11.0\n",
      "e:\\ppt\\63.pptx\n",
      "\n",
      "slide number1\n",
      "0, CENTER_TITLE (3)\n",
      "Google Shape;128;p13\n"
     ]
    },
    {
     "data": {
      "text/plain": [
       "40.0"
      ]
     },
     "metadata": {},
     "output_type": "display_data"
    },
    {
     "name": "stdout",
     "output_type": "stream",
     "text": [
      "1, SUBTITLE (4)\n",
      "Google Shape;129;p13\n"
     ]
    },
    {
     "data": {
      "text/plain": [
       "'Nunito'"
      ]
     },
     "metadata": {},
     "output_type": "display_data"
    },
    {
     "data": {
      "text/plain": [
       "14.0"
      ]
     },
     "metadata": {},
     "output_type": "display_data"
    },
    {
     "name": "stdout",
     "output_type": "stream",
     "text": [
      "Google Shape;129;p13\n"
     ]
    },
    {
     "data": {
      "text/plain": [
       "15.0"
      ]
     },
     "metadata": {},
     "output_type": "display_data"
    },
    {
     "name": "stdout",
     "output_type": "stream",
     "text": [
      "1, SUBTITLE (4)\n",
      "Google Shape;130;p13\n"
     ]
    },
    {
     "data": {
      "text/plain": [
       "'Times New Roman'"
      ]
     },
     "metadata": {},
     "output_type": "display_data"
    },
    {
     "name": "stdout",
     "output_type": "stream",
     "text": [
      "Google Shape;130;p13\n",
      "Google Shape;130;p13\n",
      "12, SLIDE_NUMBER (13)\n",
      "\n",
      "slide number2\n",
      "1, BODY (2)\n",
      "Google Shape;136;p14\n",
      "Google Shape;136;p14\n",
      "Google Shape;136;p14\n",
      "Google Shape;136;p14\n",
      "Google Shape;136;p14\n",
      "Google Shape;136;p14\n",
      "Google Shape;136;p14\n",
      "Google Shape;136;p14\n",
      "Google Shape;136;p14\n",
      "Google Shape;136;p14\n",
      "Google Shape;136;p14\n",
      "Google Shape;136;p14\n",
      "Google Shape;136;p14\n",
      "Google Shape;136;p14\n",
      "0, TITLE (1)\n",
      "Google Shape;137;p14\n"
     ]
    },
    {
     "data": {
      "text/plain": [
       "27.0"
      ]
     },
     "metadata": {},
     "output_type": "display_data"
    },
    {
     "name": "stdout",
     "output_type": "stream",
     "text": [
      "12, SLIDE_NUMBER (13)\n",
      "\n",
      "slide number3\n",
      "0, TITLE (1)\n",
      "Google Shape;142;p15\n",
      "1, BODY (2)\n",
      "Google Shape;143;p15\n",
      "Google Shape;143;p15\n",
      "Google Shape;143;p15\n",
      "Google Shape;143;p15\n",
      "12, SLIDE_NUMBER (13)\n",
      "\n",
      "slide number4\n",
      "0, TITLE (1)\n",
      "Google Shape;148;p16\n",
      "1, BODY (2)\n",
      "Google Shape;149;p16\n",
      "Google Shape;149;p16\n"
     ]
    },
    {
     "data": {
      "text/plain": [
       "'Arial'"
      ]
     },
     "metadata": {},
     "output_type": "display_data"
    },
    {
     "name": "stdout",
     "output_type": "stream",
     "text": [
      "Google Shape;149;p16\n",
      "12, SLIDE_NUMBER (13)\n",
      "\n",
      "slide number5\n",
      "0, TITLE (1)\n",
      "Google Shape;155;p17\n",
      "1, BODY (2)\n",
      "12, SLIDE_NUMBER (13)\n",
      "\n",
      "slide number6\n",
      "0, TITLE (1)\n",
      "Google Shape;162;p18\n",
      "1, BODY (2)\n",
      "12, SLIDE_NUMBER (13)\n",
      "\n",
      "slide number7\n",
      "0, TITLE (1)\n",
      "Google Shape;169;p19\n",
      "Google Shape;169;p19\n",
      "Google Shape;169;p19\n",
      "Google Shape;169;p19\n",
      "Google Shape;169;p19\n",
      "Google Shape;169;p19\n",
      "Google Shape;169;p19\n",
      "12, SLIDE_NUMBER (13)\n",
      "\n",
      "slide number8\n",
      "0, TITLE (1)\n",
      "Google Shape;174;p20\n",
      "1, BODY (2)\n",
      "12, SLIDE_NUMBER (13)\n",
      "\n",
      "slide number9\n",
      "0, TITLE (1)\n",
      "Google Shape;181;p21\n",
      "1, BODY (2)\n",
      "Google Shape;182;p21\n",
      "Google Shape;182;p21\n",
      "Google Shape;182;p21\n",
      "Google Shape;182;p21\n",
      "Google Shape;182;p21\n",
      "Google Shape;182;p21\n",
      "Google Shape;182;p21\n",
      "Google Shape;182;p21\n",
      "Google Shape;182;p21\n",
      "Google Shape;182;p21\n",
      "Google Shape;182;p21\n",
      "Google Shape;182;p21\n",
      "Google Shape;182;p21\n",
      "Google Shape;182;p21\n",
      "Google Shape;182;p21\n",
      "Google Shape;182;p21\n",
      "Google Shape;182;p21\n",
      "Google Shape;182;p21\n",
      "Google Shape;182;p21\n",
      "12, SLIDE_NUMBER (13)\n",
      "\n",
      "slide number10\n",
      "0, TITLE (1)\n",
      "Google Shape;187;p22\n",
      "1, BODY (2)\n",
      "Google Shape;188;p22\n",
      "12, SLIDE_NUMBER (13)\n",
      "\n",
      "slide number11\n",
      "0, TITLE (1)\n",
      "Google Shape;195;p23\n",
      "1, BODY (2)\n",
      "Google Shape;196;p23\n",
      "Google Shape;196;p23\n",
      "Google Shape;196;p23\n",
      "Google Shape;196;p23\n",
      "Google Shape;196;p23\n",
      "Google Shape;196;p23\n",
      "Google Shape;196;p23\n",
      "Google Shape;196;p23\n",
      "Google Shape;196;p23\n",
      "Google Shape;196;p23\n",
      "Google Shape;196;p23\n",
      "12, SLIDE_NUMBER (13)\n",
      "\n",
      "slide number12\n",
      "0, TITLE (1)\n",
      "Google Shape;201;p24\n",
      "1, BODY (2)\n",
      "Google Shape;202;p24\n",
      "Google Shape;202;p24\n",
      "Google Shape;202;p24\n",
      "Google Shape;202;p24\n",
      "Google Shape;202;p24\n",
      "Google Shape;202;p24\n",
      "Google Shape;202;p24\n",
      "Google Shape;202;p24\n",
      "Google Shape;202;p24\n",
      "12, SLIDE_NUMBER (13)\n",
      "\n",
      "slide number13\n",
      "0, TITLE (1)\n",
      "Google Shape;207;p25\n",
      "4294967295, BODY (2)\n",
      "Google Shape;208;p25\n",
      "Google Shape;208;p25\n",
      "Google Shape;208;p25\n",
      "Google Shape;208;p25\n",
      "Google Shape;208;p25\n",
      "Google Shape;208;p25\n",
      "Google Shape;208;p25\n",
      "Google Shape;208;p25\n",
      "Google Shape;208;p25\n",
      "Google Shape;208;p25\n",
      "12, SLIDE_NUMBER (13)\n",
      "\n",
      "slide number14\n",
      "0, TITLE (1)\n",
      "Google Shape;213;p26\n"
     ]
    },
    {
     "data": {
      "text/plain": [
       "24.0"
      ]
     },
     "metadata": {},
     "output_type": "display_data"
    },
    {
     "name": "stdout",
     "output_type": "stream",
     "text": [
      "12, SLIDE_NUMBER (13)\n",
      "\n",
      "slide number15\n",
      "0, TITLE (1)\n",
      "Google Shape;219;p27\n",
      "1, BODY (2)\n",
      "Google Shape;220;p27\n",
      "Google Shape;220;p27\n",
      "Google Shape;220;p27\n",
      "Google Shape;220;p27\n",
      "Google Shape;220;p27\n",
      "Google Shape;220;p27\n",
      "Google Shape;220;p27\n",
      "Google Shape;220;p27\n",
      "Google Shape;220;p27\n",
      "Google Shape;220;p27\n",
      "Google Shape;220;p27\n",
      "Google Shape;220;p27\n",
      "Google Shape;220;p27\n",
      "12, SLIDE_NUMBER (13)\n",
      "\n",
      "slide number16\n",
      "0, TITLE (1)\n",
      "Google Shape;225;p28\n",
      "1, BODY (2)\n",
      "Google Shape;226;p28\n",
      "Google Shape;226;p28\n",
      "Google Shape;226;p28\n",
      "Google Shape;226;p28\n",
      "12, SLIDE_NUMBER (13)\n",
      "\n",
      "slide number17\n",
      "0, TITLE (1)\n",
      "Google Shape;231;p29\n",
      "Google Shape;231;p29\n",
      "Google Shape;231;p29\n",
      "12, SLIDE_NUMBER (13)\n",
      "\n",
      "font name\n",
      "['Nunito', 'Times New Roman', 'Arial']\n",
      "\n",
      "font size\n",
      "[40.0, 14.0, 15.0, 27.0, 24.0]\n",
      "\n",
      "hyperlink\n",
      "['https://www.blockchain.com/', 'https://www.blockchain-council.org/certifications/certified-solidity-developer/']\n",
      "\n",
      "color\n",
      "[(0, 0, 0), (180, 95, 6), (112, 48, 160), (255, 0, 0), (0, 176, 80), (0, 176, 240), (51, 51, 51)]\n",
      "\n",
      "number of font name\n",
      "4\n",
      "\n",
      "number of font size\n",
      "6\n",
      "\n",
      " number of hyperlink\n",
      "2\n",
      "\n",
      " number of color\n",
      "8\n",
      "\n",
      " number of pictures\n",
      "7\n",
      "\n",
      " number of chart\n",
      "0\n",
      "\n",
      " number of tables\n",
      "0\n",
      "\n",
      " maximum font size\n",
      "40.0\n",
      "\n",
      " minimum font size\n",
      "14.0\n",
      "e:\\ppt\\65.pptx\n",
      "\n",
      "slide number1\n",
      "0, CENTER_TITLE (3)\n",
      "Title 1\n"
     ]
    },
    {
     "data": {
      "text/plain": [
       "40.0"
      ]
     },
     "metadata": {},
     "output_type": "display_data"
    },
    {
     "name": "stdout",
     "output_type": "stream",
     "text": [
      "1, SUBTITLE (4)\n",
      "Subtitle 2\n"
     ]
    },
    {
     "data": {
      "text/plain": [
       "22.0"
      ]
     },
     "metadata": {},
     "output_type": "display_data"
    },
    {
     "name": "stdout",
     "output_type": "stream",
     "text": [
      "Subtitle 2\n",
      "10, DATE (16)\n",
      "11, FOOTER (15)\n",
      "Footer Placeholder 5\n",
      "12, SLIDE_NUMBER (13)\n",
      "\n",
      "slide number2\n",
      "0, TITLE (1)\n",
      "Title 1\n"
     ]
    },
    {
     "data": {
      "text/plain": [
       "36.0"
      ]
     },
     "metadata": {},
     "output_type": "display_data"
    },
    {
     "name": "stdout",
     "output_type": "stream",
     "text": [
      "1, OBJECT (7)\n",
      "Content Placeholder 2\n",
      "Content Placeholder 2\n",
      "Content Placeholder 2\n",
      "Content Placeholder 2\n",
      "Content Placeholder 2\n",
      "Content Placeholder 2\n",
      "Content Placeholder 2\n",
      "Content Placeholder 2\n",
      "Content Placeholder 2\n",
      "10, DATE (16)\n",
      "11, FOOTER (15)\n",
      "Footer Placeholder 5\n",
      "12, SLIDE_NUMBER (13)\n",
      "\n",
      "slide number3\n",
      "0, TITLE (1)\n",
      "Title 1\n",
      "1, OBJECT (7)\n",
      "10, DATE (16)\n",
      "11, FOOTER (15)\n",
      "Footer Placeholder 5\n",
      "12, SLIDE_NUMBER (13)\n",
      "\n",
      "slide number4\n",
      "0, TITLE (1)\n",
      "Title 1\n",
      "1, OBJECT (7)\n",
      "no textframe\n",
      "10, DATE (16)\n",
      "11, FOOTER (15)\n",
      "Footer Placeholder 3\n",
      "12, SLIDE_NUMBER (13)\n",
      "\n",
      "slide number5\n",
      "0, TITLE (1)\n",
      "1, OBJECT (7)\n",
      "Content Placeholder 2\n",
      "Content Placeholder 2\n",
      "Content Placeholder 2\n",
      "Content Placeholder 2\n",
      "Content Placeholder 2\n",
      "10, DATE (16)\n",
      "11, FOOTER (15)\n",
      "Footer Placeholder 5\n",
      "12, SLIDE_NUMBER (13)\n",
      "\n",
      "slide number6\n",
      "0, TITLE (1)\n",
      "Title 1\n",
      "1, OBJECT (7)\n",
      "Content Placeholder 2\n",
      "Content Placeholder 2\n",
      "Content Placeholder 2\n",
      "Content Placeholder 2\n",
      "Content Placeholder 2\n",
      "Content Placeholder 2\n",
      "Content Placeholder 2\n",
      "10, DATE (16)\n",
      "11, FOOTER (15)\n",
      "Footer Placeholder 5\n",
      "12, SLIDE_NUMBER (13)\n",
      "\n",
      "slide number7\n",
      "0, TITLE (1)\n",
      "1, OBJECT (7)\n",
      "Content Placeholder 2\n",
      "Content Placeholder 2\n",
      "Content Placeholder 2\n",
      "Content Placeholder 2\n",
      "Content Placeholder 2\n",
      "Content Placeholder 2\n",
      "Content Placeholder 2\n",
      "Content Placeholder 2\n",
      "Content Placeholder 2\n",
      "Content Placeholder 2\n",
      "10, DATE (16)\n",
      "11, FOOTER (15)\n",
      "Footer Placeholder 5\n",
      "12, SLIDE_NUMBER (13)\n",
      "\n",
      "slide number8\n",
      "0, TITLE (1)\n",
      "1, OBJECT (7)\n",
      "Content Placeholder 2\n"
     ]
    },
    {
     "data": {
      "text/plain": [
       "20.0"
      ]
     },
     "metadata": {},
     "output_type": "display_data"
    },
    {
     "name": "stdout",
     "output_type": "stream",
     "text": [
      "Content Placeholder 2\n",
      "Content Placeholder 2\n",
      "Content Placeholder 2\n",
      "Content Placeholder 2\n",
      "Content Placeholder 2\n",
      "Content Placeholder 2\n",
      "Content Placeholder 2\n",
      "10, DATE (16)\n",
      "11, FOOTER (15)\n",
      "Footer Placeholder 5\n",
      "12, SLIDE_NUMBER (13)\n",
      "\n",
      "slide number9\n",
      "0, TITLE (1)\n",
      "Title 1\n",
      "1, OBJECT (7)\n",
      "Content Placeholder 2\n",
      "Content Placeholder 2\n",
      "Content Placeholder 2\n",
      "Content Placeholder 2\n",
      "10, DATE (16)\n",
      "11, FOOTER (15)\n",
      "Footer Placeholder 5\n",
      "12, SLIDE_NUMBER (13)\n",
      "\n",
      "slide number10\n",
      "0, TITLE (1)\n",
      "1, OBJECT (7)\n",
      "Content Placeholder 2\n",
      "Content Placeholder 2\n",
      "Content Placeholder 2\n",
      "10, DATE (16)\n",
      "11, FOOTER (15)\n",
      "Footer Placeholder 5\n",
      "12, SLIDE_NUMBER (13)\n",
      "\n",
      "slide number11\n",
      "0, TITLE (1)\n",
      "Title 1\n"
     ]
    },
    {
     "data": {
      "text/plain": [
       "32.0"
      ]
     },
     "metadata": {},
     "output_type": "display_data"
    },
    {
     "name": "stdout",
     "output_type": "stream",
     "text": [
      "Title 1\n",
      "1, OBJECT (7)\n",
      "Content Placeholder 2\n",
      "Content Placeholder 2\n",
      "Content Placeholder 2\n",
      "Content Placeholder 2\n",
      "Content Placeholder 2\n",
      "10, DATE (16)\n",
      "11, FOOTER (15)\n",
      "Footer Placeholder 5\n",
      "12, SLIDE_NUMBER (13)\n",
      "\n",
      "slide number12\n",
      "0, TITLE (1)\n",
      "1, OBJECT (7)\n",
      "Content Placeholder 2\n",
      "Content Placeholder 2\n",
      "Content Placeholder 2\n",
      "Content Placeholder 2\n",
      "Content Placeholder 2\n",
      "Content Placeholder 2\n",
      "10, DATE (16)\n",
      "11, FOOTER (15)\n",
      "Footer Placeholder 5\n",
      "12, SLIDE_NUMBER (13)\n",
      "\n",
      "slide number13\n",
      "0, TITLE (1)\n",
      "Title 1\n",
      "1, OBJECT (7)\n",
      "no textframe\n",
      "10, DATE (16)\n",
      "11, FOOTER (15)\n",
      "Footer Placeholder 5\n",
      "12, SLIDE_NUMBER (13)\n",
      "\n",
      "slide number14\n",
      "0, TITLE (1)\n",
      "Title 1\n",
      "1, OBJECT (7)\n",
      "Content Placeholder 2\n",
      "Content Placeholder 2\n",
      "Content Placeholder 2\n",
      "Content Placeholder 2\n",
      "Content Placeholder 2\n",
      "Content Placeholder 2\n",
      "Content Placeholder 2\n",
      "Content Placeholder 2\n",
      "10, DATE (16)\n",
      "11, FOOTER (15)\n",
      "Footer Placeholder 5\n",
      "12, SLIDE_NUMBER (13)\n",
      "\n",
      "slide number15\n",
      "0, TITLE (1)\n",
      "1, OBJECT (7)\n",
      "Content Placeholder 2\n",
      "Content Placeholder 2\n",
      "Content Placeholder 2\n",
      "Content Placeholder 2\n",
      "Content Placeholder 2\n",
      "Content Placeholder 2\n",
      "10, DATE (16)\n",
      "11, FOOTER (15)\n",
      "Footer Placeholder 5\n",
      "12, SLIDE_NUMBER (13)\n",
      "\n",
      "slide number16\n",
      "0, TITLE (1)\n",
      "Title 1\n",
      "1, OBJECT (7)\n",
      "Content Placeholder 2\n",
      "Content Placeholder 2\n",
      "Content Placeholder 2\n",
      "Content Placeholder 2\n",
      "Content Placeholder 2\n",
      "Content Placeholder 2\n",
      "Content Placeholder 2\n",
      "Content Placeholder 2\n",
      "10, DATE (16)\n",
      "11, FOOTER (15)\n",
      "Footer Placeholder 5\n",
      "12, SLIDE_NUMBER (13)\n",
      "\n",
      "slide number17\n",
      "0, CENTER_TITLE (3)\n",
      "Title 1\n",
      "1, SUBTITLE (4)\n",
      "Subtitle 2\n",
      "Subtitle 2\n",
      "10, DATE (16)\n",
      "11, FOOTER (15)\n",
      "Footer Placeholder 4\n",
      "12, SLIDE_NUMBER (13)\n",
      "\n",
      "font name\n",
      "[]\n",
      "\n",
      "font size\n",
      "[40.0, 22.0, 36.0, 20.0, 32.0]\n",
      "\n",
      "hyperlink\n",
      "[]\n",
      "\n",
      "color\n",
      "[(0, 176, 240), (0, 176, 80), (112, 48, 160)]\n",
      "\n",
      "number of font name\n",
      "1\n",
      "\n",
      "number of font size\n",
      "6\n",
      "\n",
      " number of hyperlink\n",
      "0\n",
      "\n",
      " number of color\n",
      "4\n",
      "\n",
      " number of pictures\n",
      "16\n",
      "\n",
      " number of chart\n",
      "0\n",
      "\n",
      " number of tables\n",
      "1\n",
      "\n",
      " maximum font size\n",
      "40.0\n",
      "\n",
      " minimum font size\n",
      "20.0\n",
      "e:\\ppt\\66.pptx\n",
      "\n",
      "slide number1\n",
      "0, TITLE (1)\n",
      "Title 1\n"
     ]
    },
    {
     "data": {
      "text/plain": [
       "'Times New Roman'"
      ]
     },
     "metadata": {},
     "output_type": "display_data"
    },
    {
     "data": {
      "text/plain": [
       "54.0"
      ]
     },
     "metadata": {},
     "output_type": "display_data"
    },
    {
     "name": "stdout",
     "output_type": "stream",
     "text": [
      "1, BODY (2)\n",
      "Text Placeholder 2\n"
     ]
    },
    {
     "data": {
      "text/plain": [
       "44.0"
      ]
     },
     "metadata": {},
     "output_type": "display_data"
    },
    {
     "name": "stdout",
     "output_type": "stream",
     "text": [
      "Text Placeholder 2\n",
      "TextBox 9\n"
     ]
    },
    {
     "data": {
      "text/plain": [
       "'BatmanForeverAlternate'"
      ]
     },
     "metadata": {},
     "output_type": "display_data"
    },
    {
     "data": {
      "text/plain": [
       "24.0"
      ]
     },
     "metadata": {},
     "output_type": "display_data"
    },
    {
     "name": "stdout",
     "output_type": "stream",
     "text": [
      "TextBox 9\n",
      "TextBox 9\n",
      "TextBox 9\n",
      "TextBox 9\n",
      "TextBox 9\n",
      "TextBox 9\n",
      "6, DATE (16)\n",
      "7, SLIDE_NUMBER (13)\n",
      "\n",
      "slide number2\n",
      "0, TITLE (1)\n",
      "object 3\n"
     ]
    },
    {
     "data": {
      "text/plain": [
       "40.0"
      ]
     },
     "metadata": {},
     "output_type": "display_data"
    },
    {
     "name": "stdout",
     "output_type": "stream",
     "text": [
      "object 3\n",
      "object 3\n",
      "object 5\n"
     ]
    },
    {
     "data": {
      "text/plain": [
       "'Arial'"
      ]
     },
     "metadata": {},
     "output_type": "display_data"
    },
    {
     "data": {
      "text/plain": [
       "21.0"
      ]
     },
     "metadata": {},
     "output_type": "display_data"
    },
    {
     "name": "stdout",
     "output_type": "stream",
     "text": [
      "object 5\n",
      "object 5\n",
      "object 5\n",
      "object 5\n",
      "object 5\n",
      "object 5\n",
      "object 5\n",
      "object 5\n",
      "object 5\n",
      "object 5\n",
      "object 5\n",
      "object 5\n",
      "object 5\n",
      "object 5\n",
      "object 5\n",
      "object 5\n"
     ]
    },
    {
     "data": {
      "text/plain": [
       "'Verdana'"
      ]
     },
     "metadata": {},
     "output_type": "display_data"
    },
    {
     "data": {
      "text/plain": [
       "19.0"
      ]
     },
     "metadata": {},
     "output_type": "display_data"
    },
    {
     "name": "stdout",
     "output_type": "stream",
     "text": [
      "object 5\n",
      "object 5\n",
      "object 5\n",
      "object 5\n",
      "object 5\n",
      "object 5\n",
      "object 5\n",
      "object 5\n",
      "object 5\n",
      "object 5\n",
      "object 5\n",
      "object 5\n",
      "object 5\n",
      "object 5\n",
      "object 5\n",
      "object 5\n",
      "object 5\n",
      "object 5\n",
      "object 5\n",
      "object 5\n",
      "object 5\n",
      "object 5\n",
      "object 5\n",
      "object 5\n",
      "object 5\n",
      "object 5\n",
      "object 5\n",
      "object 5\n",
      "object 5\n",
      "object 5\n",
      "object 5\n",
      "object 5\n",
      "object 5\n",
      "object 5\n",
      "object 5\n",
      "object 5\n",
      "object 5\n",
      "object 5\n",
      "object 5\n",
      "object 5\n",
      "object 5\n",
      "object 5\n",
      "object 5\n",
      "object 5\n",
      "object 5\n",
      "object 5\n",
      "object 5\n",
      "6, DATE (16)\n",
      "7, SLIDE_NUMBER (13)\n",
      "\n",
      "slide number3\n",
      "0, TITLE (1)\n",
      "object 3\n",
      "object 3\n",
      "object 3\n",
      "object 5\n"
     ]
    },
    {
     "data": {
      "text/plain": [
       "18.0"
      ]
     },
     "metadata": {},
     "output_type": "display_data"
    },
    {
     "name": "stdout",
     "output_type": "stream",
     "text": [
      "object 5\n",
      "object 5\n",
      "object 5\n",
      "object 5\n",
      "object 5\n",
      "object 5\n",
      "object 5\n",
      "object 5\n",
      "6, DATE (16)\n",
      "7, SLIDE_NUMBER (13)\n",
      "\n",
      "slide number4\n",
      "0, TITLE (1)\n",
      "object 3\n"
     ]
    },
    {
     "data": {
      "text/plain": [
       "35.0"
      ]
     },
     "metadata": {},
     "output_type": "display_data"
    },
    {
     "name": "stdout",
     "output_type": "stream",
     "text": [
      "object 3\n",
      "object 3\n",
      "object 5\n"
     ]
    },
    {
     "data": {
      "text/plain": [
       "20.0"
      ]
     },
     "metadata": {},
     "output_type": "display_data"
    },
    {
     "name": "stdout",
     "output_type": "stream",
     "text": [
      "object 5\n",
      "object 5\n",
      "object 5\n",
      "object 5\n",
      "object 5\n",
      "object 5\n",
      "object 5\n",
      "object 5\n",
      "object 5\n",
      "object 5\n",
      "object 5\n",
      "object 5\n",
      "object 5\n",
      "object 5\n",
      "object 5\n",
      "object 5\n",
      "object 5\n",
      "object 5\n",
      "object 5\n",
      "object 5\n",
      "object 5\n",
      "object 5\n",
      "object 5\n",
      "object 5\n",
      "object 5\n",
      "object 5\n",
      "object 5\n",
      "object 5\n",
      "object 5\n",
      "object 5\n",
      "object 5\n",
      "object 5\n",
      "object 5\n",
      "object 5\n",
      "object 5\n",
      "object 5\n",
      "object 5\n",
      "object 5\n",
      "object 5\n",
      "object 5\n",
      "object 5\n",
      "object 5\n",
      "object 5\n",
      "object 5\n",
      "object 5\n",
      "object 5\n",
      "object 5\n",
      "object 5\n",
      "object 5\n",
      "object 5\n",
      "object 5\n",
      "object 5\n",
      "object 5\n",
      "object 5\n",
      "object 5\n",
      "object 5\n",
      "object 5\n",
      "object 5\n",
      "6, DATE (16)\n",
      "7, SLIDE_NUMBER (13)\n",
      "\n",
      "slide number5\n",
      "0, TITLE (1)\n",
      "object 3\n",
      "object 3\n",
      "object 3\n",
      "object 3\n",
      "object 3\n",
      "object 3\n",
      "6, DATE (16)\n",
      "7, SLIDE_NUMBER (13)\n",
      "\n",
      "slide number6\n",
      "0, TITLE (1)\n",
      "object 3\n",
      "object 3\n",
      "object 3\n",
      "object 3\n",
      "object 5\n"
     ]
    },
    {
     "data": {
      "text/plain": [
       "'Gothic Uralic'"
      ]
     },
     "metadata": {},
     "output_type": "display_data"
    },
    {
     "name": "stdout",
     "output_type": "stream",
     "text": [
      "object 5\n",
      "object 5\n",
      "object 6\n",
      "object 6\n",
      "object 6\n",
      "object 6\n",
      "object 6\n",
      "object 6\n",
      "object 6\n",
      "object 6\n",
      "object 6\n",
      "object 6\n",
      "object 6\n",
      "object 6\n",
      "object 6\n",
      "object 6\n",
      "object 6\n",
      "object 6\n",
      "object 6\n",
      "object 6\n",
      "object 6\n",
      "object 8\n",
      "object 8\n",
      "object 8\n",
      "object 8\n",
      "object 10\n",
      "object 10\n",
      "object 10\n",
      "object 10\n",
      "6, DATE (16)\n",
      "7, SLIDE_NUMBER (13)\n",
      "\n",
      "slide number7\n",
      "0, TITLE (1)\n",
      "object 3\n",
      "object 3\n",
      "object 3\n",
      "object 3\n",
      "6, DATE (16)\n",
      "7, SLIDE_NUMBER (13)\n",
      "\n",
      "slide number8\n",
      "0, TITLE (1)\n",
      "object 3\n",
      "object 3\n",
      "object 3\n",
      "object 3\n",
      "1, BODY (2)\n",
      "object 5\n",
      "object 5\n",
      "object 5\n",
      "object 5\n",
      "object 5\n",
      "object 5\n",
      "object 5\n",
      "object 5\n",
      "object 5\n",
      "object 5\n",
      "object 5\n",
      "object 5\n",
      "object 5\n",
      "object 5\n",
      "object 5\n",
      "object 5\n",
      "object 5\n",
      "object 5\n",
      "object 5\n",
      "object 5\n",
      "object 5\n",
      "object 5\n",
      "object 5\n",
      "object 5\n",
      "object 5\n",
      "object 5\n",
      "object 5\n",
      "object 5\n",
      "object 5\n",
      "object 5\n",
      "object 5\n",
      "object 5\n",
      "object 5\n",
      "object 5\n",
      "object 5\n",
      "object 5\n",
      "object 5\n",
      "object 5\n",
      "object 5\n",
      "object 5\n",
      "object 5\n",
      "object 5\n",
      "object 5\n",
      "object 5\n",
      "object 5\n",
      "object 5\n",
      "object 5\n",
      "object 5\n",
      "object 5\n",
      "object 5\n",
      "object 5\n",
      "object 5\n",
      "object 5\n",
      "object 5\n",
      "object 5\n",
      "object 5\n",
      "object 5\n",
      "object 5\n",
      "object 5\n",
      "object 5\n",
      "object 5\n",
      "object 5\n",
      "object 5\n",
      "object 5\n",
      "object 5\n",
      "object 5\n",
      "object 5\n",
      "object 5\n",
      "object 5\n",
      "object 5\n",
      "object 5\n",
      "object 5\n",
      "object 5\n",
      "object 5\n",
      "object 5\n",
      "object 5\n",
      "object 5\n",
      "object 5\n",
      "object 5\n",
      "object 5\n",
      "object 5\n",
      "object 5\n",
      "object 5\n",
      "object 5\n",
      "object 5\n",
      "object 5\n",
      "object 5\n",
      "object 5\n",
      "object 5\n",
      "object 5\n",
      "object 5\n",
      "object 5\n",
      "object 5\n",
      "object 5\n",
      "object 5\n",
      "object 5\n",
      "object 5\n",
      "object 5\n",
      "object 5\n",
      "object 5\n",
      "object 5\n",
      "object 5\n",
      "object 5\n",
      "object 5\n",
      "object 5\n",
      "object 5\n",
      "object 5\n",
      "object 5\n",
      "6, DATE (16)\n",
      "7, SLIDE_NUMBER (13)\n",
      "\n",
      "slide number9\n",
      "0, TITLE (1)\n",
      "object 3\n",
      "object 3\n",
      "object 3\n",
      "object 3\n",
      "object 3\n",
      "object 3\n",
      "object 3\n",
      "object 3\n",
      "object 3\n",
      "object 5\n"
     ]
    },
    {
     "data": {
      "text/plain": [
       "17.0"
      ]
     },
     "metadata": {},
     "output_type": "display_data"
    },
    {
     "name": "stdout",
     "output_type": "stream",
     "text": [
      "object 5\n",
      "object 5\n",
      "object 5\n",
      "object 5\n",
      "object 5\n",
      "object 5\n",
      "object 5\n",
      "object 5\n",
      "object 5\n",
      "object 5\n",
      "object 5\n",
      "object 5\n",
      "object 5\n",
      "object 5\n",
      "object 5\n",
      "object 5\n",
      "object 5\n",
      "object 5\n",
      "object 5\n",
      "object 5\n",
      "object 5\n",
      "object 5\n",
      "object 5\n",
      "object 5\n",
      "object 5\n",
      "object 5\n",
      "object 5\n",
      "object 5\n",
      "object 5\n",
      "object 5\n",
      "object 5\n",
      "object 5\n",
      "object 5\n",
      "object 5\n",
      "object 5\n",
      "object 5\n",
      "object 5\n",
      "object 5\n",
      "object 5\n",
      "object 5\n",
      "object 5\n",
      "object 5\n",
      "object 5\n",
      "object 5\n",
      "object 5\n",
      "object 5\n",
      "object 5\n",
      "object 5\n",
      "object 5\n",
      "object 5\n",
      "object 5\n",
      "object 5\n",
      "object 5\n",
      "object 5\n",
      "object 5\n",
      "object 5\n",
      "object 5\n",
      "object 5\n",
      "object 5\n",
      "object 5\n",
      "object 5\n",
      "object 5\n",
      "object 5\n",
      "object 5\n",
      "object 5\n",
      "object 5\n",
      "object 5\n",
      "object 5\n",
      "object 5\n",
      "object 5\n",
      "object 5\n",
      "object 5\n",
      "object 5\n",
      "object 5\n",
      "object 5\n",
      "object 5\n",
      "object 5\n",
      "object 5\n",
      "object 5\n",
      "object 5\n",
      "object 5\n",
      "object 5\n",
      "object 5\n",
      "object 5\n",
      "object 5\n",
      "object 5\n",
      "object 5\n",
      "object 5\n",
      "object 5\n",
      "object 5\n",
      "object 5\n",
      "object 5\n",
      "object 5\n",
      "object 5\n",
      "object 5\n",
      "object 5\n",
      "object 5\n",
      "object 5\n",
      "6, DATE (16)\n",
      "7, SLIDE_NUMBER (13)\n",
      "\n",
      "slide number10\n",
      "0, TITLE (1)\n",
      "object 3\n",
      "object 3\n",
      "object 3\n",
      "object 5\n",
      "object 5\n",
      "object 5\n",
      "object 5\n",
      "object 5\n",
      "object 5\n",
      "object 5\n",
      "object 5\n",
      "object 5\n",
      "object 5\n",
      "object 5\n",
      "object 5\n",
      "object 5\n",
      "object 5\n",
      "object 5\n",
      "object 5\n",
      "object 5\n",
      "object 5\n",
      "object 5\n",
      "object 5\n",
      "object 5\n",
      "object 5\n",
      "object 5\n",
      "object 5\n",
      "object 5\n",
      "object 5\n",
      "object 5\n",
      "object 5\n",
      "object 5\n",
      "object 5\n",
      "object 5\n",
      "object 5\n",
      "object 5\n",
      "object 5\n",
      "object 5\n",
      "object 5\n",
      "object 5\n",
      "object 5\n",
      "object 5\n",
      "object 5\n",
      "object 5\n",
      "object 5\n",
      "object 5\n",
      "object 5\n",
      "object 5\n",
      "object 5\n",
      "object 5\n",
      "object 5\n",
      "object 5\n",
      "object 5\n",
      "object 5\n",
      "object 5\n",
      "object 5\n",
      "object 5\n",
      "object 5\n",
      "object 5\n",
      "object 5\n",
      "object 5\n",
      "object 5\n",
      "6, DATE (16)\n",
      "7, SLIDE_NUMBER (13)\n",
      "\n",
      "slide number11\n",
      "0, TITLE (1)\n",
      "object 3\n"
     ]
    },
    {
     "data": {
      "text/plain": [
       "30.0"
      ]
     },
     "metadata": {},
     "output_type": "display_data"
    },
    {
     "name": "stdout",
     "output_type": "stream",
     "text": [
      "object 3\n",
      "object 3\n",
      "object 5\n",
      "object 5\n",
      "object 5\n",
      "object 5\n",
      "object 5\n",
      "object 5\n",
      "object 5\n",
      "object 5\n",
      "object 5\n",
      "object 5\n",
      "object 5\n",
      "object 5\n",
      "object 5\n",
      "object 5\n",
      "object 5\n",
      "object 5\n",
      "object 5\n",
      "object 5\n",
      "object 5\n",
      "object 5\n",
      "object 5\n",
      "object 5\n",
      "object 5\n",
      "object 5\n",
      "object 5\n",
      "object 5\n",
      "object 5\n",
      "object 5\n",
      "object 5\n",
      "object 5\n",
      "object 5\n",
      "object 5\n",
      "object 5\n",
      "object 5\n",
      "object 5\n",
      "object 5\n",
      "object 5\n",
      "object 5\n",
      "object 5\n",
      "object 5\n",
      "object 5\n",
      "object 5\n",
      "object 5\n",
      "object 5\n",
      "object 5\n",
      "object 5\n",
      "object 5\n",
      "object 5\n",
      "object 5\n",
      "object 5\n",
      "object 5\n",
      "object 5\n",
      "object 5\n",
      "object 5\n",
      "object 5\n",
      "object 5\n",
      "object 5\n",
      "object 5\n",
      "object 5\n",
      "object 5\n",
      "object 5\n",
      "object 5\n",
      "object 5\n",
      "object 5\n",
      "object 5\n",
      "object 5\n",
      "object 5\n",
      "object 5\n",
      "object 5\n",
      "object 5\n",
      "object 5\n",
      "object 5\n",
      "object 5\n",
      "object 5\n",
      "object 5\n",
      "object 5\n",
      "6, DATE (16)\n",
      "7, SLIDE_NUMBER (13)\n",
      "\n",
      "slide number12\n",
      "0, TITLE (1)\n",
      "object 3\n",
      "object 3\n",
      "object 3\n",
      "object 3\n",
      "object 3\n",
      "object 5\n",
      "object 5\n",
      "object 5\n",
      "object 5\n",
      "object 5\n",
      "object 5\n",
      "object 5\n",
      "object 5\n",
      "object 5\n",
      "object 5\n",
      "object 5\n",
      "object 5\n",
      "object 5\n",
      "object 5\n",
      "object 5\n",
      "object 5\n",
      "object 5\n",
      "object 5\n",
      "object 5\n",
      "object 5\n",
      "object 5\n",
      "object 5\n",
      "object 5\n",
      "object 5\n",
      "object 5\n",
      "object 5\n",
      "object 5\n",
      "object 5\n",
      "object 5\n",
      "object 5\n",
      "object 5\n",
      "object 5\n",
      "object 5\n",
      "object 5\n",
      "object 5\n",
      "object 5\n",
      "object 5\n",
      "object 5\n",
      "object 5\n",
      "object 5\n",
      "object 5\n",
      "object 5\n",
      "object 5\n",
      "object 5\n",
      "object 5\n",
      "object 5\n",
      "object 5\n",
      "object 5\n",
      "object 5\n",
      "object 5\n",
      "object 5\n",
      "object 5\n",
      "object 5\n",
      "object 5\n",
      "object 5\n",
      "object 5\n",
      "object 5\n",
      "object 5\n",
      "object 5\n",
      "object 5\n",
      "object 5\n",
      "object 5\n",
      "object 5\n",
      "object 5\n",
      "object 5\n",
      "object 5\n",
      "object 5\n",
      "object 5\n",
      "object 5\n",
      "object 5\n",
      "object 5\n",
      "object 5\n",
      "object 5\n",
      "object 5\n",
      "object 5\n",
      "object 5\n",
      "object 5\n",
      "object 5\n",
      "object 5\n",
      "object 5\n",
      "object 5\n",
      "object 5\n",
      "object 5\n",
      "object 5\n",
      "object 5\n",
      "object 5\n",
      "object 5\n",
      "object 5\n",
      "object 5\n",
      "object 5\n",
      "object 5\n",
      "object 5\n",
      "object 5\n",
      "object 5\n",
      "object 5\n",
      "object 5\n",
      "object 5\n",
      "object 5\n",
      "object 5\n",
      "object 5\n",
      "object 5\n",
      "object 5\n",
      "object 5\n",
      "object 5\n",
      "object 5\n",
      "object 5\n",
      "object 5\n",
      "object 5\n",
      "object 5\n",
      "object 5\n",
      "object 5\n",
      "object 5\n",
      "object 5\n",
      "object 5\n",
      "object 5\n",
      "object 5\n",
      "object 5\n",
      "object 5\n",
      "object 5\n",
      "object 5\n",
      "6, DATE (16)\n",
      "7, SLIDE_NUMBER (13)\n",
      "\n",
      "slide number13\n",
      "0, TITLE (1)\n",
      "object 3\n",
      "object 3\n",
      "object 3\n",
      "object 5\n",
      "object 5\n",
      "object 5\n",
      "object 5\n",
      "object 5\n",
      "object 5\n",
      "object 5\n",
      "object 5\n",
      "object 5\n",
      "object 5\n",
      "object 5\n",
      "object 5\n",
      "object 5\n",
      "object 5\n",
      "object 5\n",
      "object 5\n",
      "object 5\n",
      "object 5\n",
      "object 5\n",
      "object 5\n",
      "object 5\n",
      "object 5\n",
      "object 5\n",
      "object 5\n",
      "object 5\n",
      "object 5\n",
      "object 5\n",
      "object 5\n",
      "object 5\n",
      "object 5\n",
      "object 5\n",
      "object 5\n",
      "object 5\n",
      "object 5\n",
      "object 5\n",
      "object 5\n",
      "object 5\n",
      "object 5\n",
      "object 5\n",
      "object 5\n",
      "object 5\n",
      "object 5\n",
      "object 5\n",
      "object 5\n",
      "object 5\n",
      "object 5\n"
     ]
    },
    {
     "data": {
      "text/plain": [
       "16.0"
      ]
     },
     "metadata": {},
     "output_type": "display_data"
    },
    {
     "name": "stdout",
     "output_type": "stream",
     "text": [
      "object 5\n",
      "object 5\n",
      "object 5\n",
      "object 5\n",
      "object 5\n",
      "object 5\n",
      "object 5\n",
      "object 5\n",
      "object 5\n",
      "object 5\n",
      "object 5\n",
      "object 5\n",
      "object 5\n",
      "object 5\n",
      "object 5\n",
      "object 5\n",
      "object 5\n",
      "object 5\n",
      "object 5\n",
      "object 5\n",
      "object 5\n",
      "object 5\n",
      "object 5\n",
      "object 5\n",
      "object 5\n",
      "object 5\n",
      "object 5\n",
      "object 5\n",
      "object 5\n",
      "object 5\n",
      "object 5\n",
      "object 5\n",
      "object 5\n",
      "object 5\n",
      "object 5\n",
      "object 5\n",
      "object 5\n",
      "object 5\n",
      "object 5\n",
      "object 5\n",
      "object 5\n",
      "object 5\n",
      "object 5\n",
      "object 5\n",
      "object 5\n",
      "object 5\n",
      "object 5\n",
      "object 5\n",
      "object 5\n",
      "object 5\n",
      "object 5\n",
      "object 5\n",
      "object 5\n",
      "object 5\n",
      "object 5\n",
      "object 5\n",
      "object 5\n",
      "object 5\n",
      "object 5\n",
      "object 5\n",
      "object 5\n",
      "object 5\n",
      "object 5\n",
      "object 5\n",
      "object 5\n",
      "object 5\n",
      "object 5\n",
      "object 5\n",
      "object 5\n",
      "object 5\n",
      "object 5\n",
      "object 5\n",
      "object 5\n",
      "object 5\n",
      "object 5\n",
      "object 5\n",
      "object 5\n",
      "object 5\n",
      "object 5\n",
      "object 5\n",
      "object 5\n",
      "object 5\n",
      "object 5\n",
      "object 5\n",
      "object 5\n",
      "object 5\n",
      "object 5\n",
      "object 5\n",
      "object 5\n",
      "6, DATE (16)\n",
      "7, SLIDE_NUMBER (13)\n",
      "\n",
      "slide number14\n",
      "0, TITLE (1)\n",
      "object 3\n",
      "object 5\n",
      "object 5\n",
      "object 5\n",
      "object 5\n",
      "object 5\n",
      "object 5\n",
      "object 5\n",
      "object 5\n",
      "object 5\n",
      "object 5\n",
      "object 5\n",
      "object 5\n",
      "object 5\n",
      "object 5\n",
      "object 5\n",
      "object 5\n",
      "object 5\n",
      "object 5\n",
      "object 5\n",
      "object 5\n",
      "object 5\n",
      "object 5\n",
      "object 5\n",
      "object 5\n",
      "object 5\n",
      "object 5\n",
      "object 5\n",
      "object 5\n",
      "object 5\n",
      "object 5\n",
      "object 5\n",
      "object 5\n",
      "object 5\n",
      "object 5\n",
      "object 5\n",
      "object 5\n",
      "object 5\n",
      "object 5\n",
      "object 5\n",
      "object 5\n",
      "object 5\n",
      "object 5\n",
      "object 5\n",
      "object 5\n",
      "object 5\n",
      "object 5\n",
      "object 5\n",
      "object 5\n",
      "object 5\n",
      "object 5\n",
      "object 5\n",
      "object 5\n",
      "object 5\n",
      "object 5\n",
      "object 5\n",
      "object 5\n",
      "object 5\n",
      "object 5\n",
      "object 5\n",
      "object 5\n",
      "object 5\n",
      "object 5\n",
      "object 5\n",
      "object 5\n",
      "object 5\n",
      "object 5\n",
      "object 5\n",
      "object 5\n",
      "object 5\n",
      "object 5\n",
      "object 5\n",
      "object 5\n",
      "object 5\n",
      "object 5\n",
      "object 5\n",
      "object 5\n",
      "object 5\n",
      "object 5\n",
      "object 5\n",
      "object 5\n",
      "object 5\n",
      "object 5\n",
      "object 5\n",
      "object 5\n",
      "object 5\n",
      "object 5\n",
      "object 5\n",
      "object 5\n",
      "object 5\n",
      "object 5\n",
      "object 5\n",
      "object 5\n",
      "object 5\n",
      "object 5\n",
      "object 5\n",
      "object 5\n",
      "object 5\n",
      "object 5\n",
      "object 5\n",
      "object 5\n",
      "object 6\n",
      "object 6\n",
      "object 6\n",
      "object 6\n",
      "object 6\n",
      "object 6\n",
      "object 6\n",
      "object 6\n",
      "object 6\n",
      "object 6\n",
      "object 6\n",
      "object 6\n",
      "object 6\n",
      "object 6\n",
      "object 6\n",
      "object 6\n",
      "object 6\n",
      "object 6\n",
      "object 6\n",
      "object 6\n",
      "object 6\n",
      "object 6\n",
      "object 6\n",
      "object 6\n",
      "object 6\n",
      "object 6\n",
      "object 6\n",
      "object 6\n",
      "object 6\n",
      "object 6\n",
      "object 6\n",
      "object 6\n",
      "object 6\n",
      "object 6\n",
      "object 6\n",
      "object 6\n",
      "object 6\n",
      "object 6\n",
      "object 6\n",
      "object 6\n",
      "object 6\n",
      "object 6\n",
      "object 6\n",
      "6, DATE (16)\n",
      "7, SLIDE_NUMBER (13)\n",
      "\n",
      "slide number15\n",
      "6, DATE (16)\n",
      "7, SLIDE_NUMBER (13)\n",
      "\n",
      "font name\n",
      "['Times New Roman', 'BatmanForeverAlternate', 'Arial', 'Verdana', 'Gothic Uralic']\n",
      "\n",
      "font size\n",
      "[54.0, 44.0, 24.0, 40.0, 21.0, 19.0, 18.0, 35.0, 20.0, 17.0, 30.0, 16.0]\n",
      "\n",
      "hyperlink\n",
      "['http://source.android.com/', 'http://www.gnu.org/', 'http://opensource.org/licenses', 'http://opensource.org/', 'http://sourceforge.net/', 'http://github.com/']\n",
      "\n",
      "color\n",
      "[(255, 255, 255), (0, 197, 186), (255, 0, 0), (143, 143, 143)]\n",
      "\n",
      "number of font name\n",
      "6\n",
      "\n",
      "number of font size\n",
      "13\n",
      "\n",
      " number of hyperlink\n",
      "6\n",
      "\n",
      " number of color\n",
      "5\n",
      "\n",
      " number of pictures\n",
      "2\n",
      "\n",
      " number of chart\n",
      "0\n",
      "\n",
      " number of tables\n",
      "1\n",
      "\n",
      " maximum font size\n",
      "54.0\n",
      "\n",
      " minimum font size\n",
      "16.0\n",
      "e:\\ppt\\67.pptx\n",
      "\n",
      "slide number1\n",
      "0, CENTER_TITLE (3)\n",
      "Title 1\n"
     ]
    },
    {
     "data": {
      "text/plain": [
       "108.0"
      ]
     },
     "metadata": {},
     "output_type": "display_data"
    },
    {
     "name": "stdout",
     "output_type": "stream",
     "text": [
      "1, SUBTITLE (4)\n",
      "Subtitle 2\n"
     ]
    },
    {
     "data": {
      "text/plain": [
       "32.0"
      ]
     },
     "metadata": {},
     "output_type": "display_data"
    },
    {
     "name": "stdout",
     "output_type": "stream",
     "text": [
      "TextBox 4\n"
     ]
    },
    {
     "data": {
      "text/plain": [
       "24.0"
      ]
     },
     "metadata": {},
     "output_type": "display_data"
    },
    {
     "name": "stdout",
     "output_type": "stream",
     "text": [
      "TextBox 4\n",
      "10, DATE (16)\n",
      "12, SLIDE_NUMBER (13)\n",
      "\n",
      "slide number2\n",
      "0, CENTER_TITLE (3)\n",
      "Title 1\n",
      "Title 1\n"
     ]
    },
    {
     "data": {
      "text/plain": [
       "18.0"
      ]
     },
     "metadata": {},
     "output_type": "display_data"
    },
    {
     "name": "stdout",
     "output_type": "stream",
     "text": [
      "Title 1\n",
      "Title 1\n",
      "1, SUBTITLE (4)\n",
      "Subtitle 2\n"
     ]
    },
    {
     "data": {
      "text/plain": [
       "'The Serif Hand Black'"
      ]
     },
     "metadata": {},
     "output_type": "display_data"
    },
    {
     "data": {
      "text/plain": [
       "72.0"
      ]
     },
     "metadata": {},
     "output_type": "display_data"
    },
    {
     "name": "stdout",
     "output_type": "stream",
     "text": [
      "Subtitle 2\n",
      "Subtitle 2\n",
      "TextBox 13\n",
      "10, DATE (16)\n",
      "12, SLIDE_NUMBER (13)\n",
      "\n",
      "slide number3\n",
      "0, TITLE (1)\n",
      "Title 1\n",
      "1, OBJECT (7)\n",
      "Content Placeholder 7\n",
      "Content Placeholder 7\n",
      "Content Placeholder 7\n",
      "Content Placeholder 7\n",
      "Content Placeholder 7\n",
      "2, OBJECT (7)\n",
      "Content Placeholder 4\n",
      "Content Placeholder 4\n",
      "Content Placeholder 4\n",
      "Content Placeholder 4\n",
      "Content Placeholder 4\n",
      "Content Placeholder 4\n",
      "Content Placeholder 4\n",
      "10, DATE (16)\n",
      "12, SLIDE_NUMBER (13)\n",
      "\n",
      "slide number4\n",
      "10, DATE (16)\n",
      "12, SLIDE_NUMBER (13)\n",
      "\n",
      "slide number5\n",
      "TextBox 1\n",
      "TextBox 1\n",
      "TextBox 1\n",
      "TextBox 1\n",
      "TextBox 1\n",
      "TextBox 1\n",
      "TextBox 1\n",
      "TextBox 1\n",
      "TextBox 4\n"
     ]
    },
    {
     "data": {
      "text/plain": [
       "88.0"
      ]
     },
     "metadata": {},
     "output_type": "display_data"
    },
    {
     "name": "stdout",
     "output_type": "stream",
     "text": [
      "10, DATE (16)\n",
      "12, SLIDE_NUMBER (13)\n",
      "\n",
      "slide number6\n",
      "TextBox 3\n"
     ]
    },
    {
     "data": {
      "text/plain": [
       "'+mj-lt'"
      ]
     },
     "metadata": {},
     "output_type": "display_data"
    },
    {
     "data": {
      "text/plain": [
       "96.0"
      ]
     },
     "metadata": {},
     "output_type": "display_data"
    },
    {
     "name": "stdout",
     "output_type": "stream",
     "text": [
      "TextBox 5\n",
      "TextBox 5\n",
      "TextBox 5\n",
      "TextBox 5\n",
      "TextBox 5\n",
      "10, DATE (16)\n",
      "12, SLIDE_NUMBER (13)\n",
      "\n",
      "slide number7\n",
      "TextBox 1\n",
      "TextBox 5\n",
      "TextBox 5\n",
      "TextBox 5\n",
      "TextBox 5\n",
      "TextBox 5\n",
      "TextBox 5\n",
      "TextBox 5\n",
      "TextBox 5\n",
      "10, DATE (16)\n",
      "12, SLIDE_NUMBER (13)\n",
      "\n",
      "slide number8\n",
      "TextBox 1\n"
     ]
    },
    {
     "data": {
      "text/plain": [
       "66.0"
      ]
     },
     "metadata": {},
     "output_type": "display_data"
    },
    {
     "name": "stdout",
     "output_type": "stream",
     "text": [
      "TextBox 10\n",
      "TextBox 10\n",
      "TextBox 10\n",
      "10, DATE (16)\n",
      "12, SLIDE_NUMBER (13)\n",
      "\n",
      "slide number9\n",
      "TextBox 1\n"
     ]
    },
    {
     "data": {
      "text/plain": [
       "34.0"
      ]
     },
     "metadata": {},
     "output_type": "display_data"
    },
    {
     "name": "stdout",
     "output_type": "stream",
     "text": [
      "TextBox 2\n"
     ]
    },
    {
     "data": {
      "text/plain": [
       "20.0"
      ]
     },
     "metadata": {},
     "output_type": "display_data"
    },
    {
     "name": "stdout",
     "output_type": "stream",
     "text": [
      "TextBox 2\n",
      "TextBox 2\n",
      "TextBox 2\n",
      "10, DATE (16)\n",
      "12, SLIDE_NUMBER (13)\n",
      "\n",
      "slide number10\n",
      "TextBox 1\n",
      "TextBox 3\n",
      "TextBox 3\n",
      "TextBox 4\n",
      "TextBox 4\n",
      "TextBox 4\n",
      "10, DATE (16)\n",
      "12, SLIDE_NUMBER (13)\n",
      "\n",
      "slide number11\n",
      "TextBox 1\n",
      "TextBox 3\n",
      "TextBox 3\n",
      "TextBox 3\n",
      "TextBox 3\n",
      "10, DATE (16)\n",
      "12, SLIDE_NUMBER (13)\n",
      "\n",
      "slide number12\n",
      "TextBox 1\n",
      "TextBox 8\n",
      "TextBox 10\n"
     ]
    },
    {
     "data": {
      "text/plain": [
       "28.0"
      ]
     },
     "metadata": {},
     "output_type": "display_data"
    },
    {
     "name": "stdout",
     "output_type": "stream",
     "text": [
      "TextBox 10\n",
      "TextBox 12\n",
      "TextBox 12\n",
      "10, DATE (16)\n",
      "12, SLIDE_NUMBER (13)\n",
      "\n",
      "slide number13\n",
      "TextBox 1\n",
      "TextBox 5\n",
      "TextBox 5\n",
      "TextBox 5\n",
      "TextBox 5\n",
      "TextBox 5\n",
      "TextBox 5\n",
      "TextBox 5\n",
      "10, DATE (16)\n",
      "12, SLIDE_NUMBER (13)\n",
      "\n",
      "slide number14\n",
      "TextBox 1\n",
      "TextBox 3\n",
      "TextBox 3\n",
      "TextBox 3\n",
      "TextBox 3\n",
      "TextBox 3\n",
      "TextBox 3\n",
      "10, DATE (16)\n",
      "12, SLIDE_NUMBER (13)\n",
      "\n",
      "slide number15\n",
      "TextBox 1\n"
     ]
    },
    {
     "data": {
      "text/plain": [
       "52.0"
      ]
     },
     "metadata": {},
     "output_type": "display_data"
    },
    {
     "name": "stdout",
     "output_type": "stream",
     "text": [
      "TextBox 3\n",
      "TextBox 3\n",
      "TextBox 3\n",
      "TextBox 3\n",
      "10, DATE (16)\n",
      "12, SLIDE_NUMBER (13)\n",
      "\n",
      "slide number16\n",
      "0, TITLE (1)\n",
      "Title 1\n",
      "1, OBJECT (7)\n",
      "Content Placeholder 7\n",
      "Content Placeholder 7\n",
      "Content Placeholder 7\n",
      "10, DATE (16)\n",
      "12, SLIDE_NUMBER (13)\n",
      "\n",
      "slide number17\n",
      "10, DATE (16)\n",
      "12, SLIDE_NUMBER (13)\n",
      "\n",
      "font name\n",
      "['The Serif Hand Black', '+mj-lt']\n",
      "\n",
      "font size\n",
      "[108.0, 32.0, 24.0, 18.0, 72.0, 88.0, 96.0, 66.0, 34.0, 20.0, 28.0, 52.0]\n",
      "\n",
      "hyperlink\n",
      "[]\n",
      "\n",
      "color\n",
      "[(255, 255, 255), (251, 249, 246)]\n",
      "\n",
      "number of font name\n",
      "3\n",
      "\n",
      "number of font size\n",
      "13\n",
      "\n",
      " number of hyperlink\n",
      "0\n",
      "\n",
      " number of color\n",
      "3\n",
      "\n",
      " number of pictures\n",
      "22\n",
      "\n",
      " number of chart\n",
      "0\n",
      "\n",
      " number of tables\n",
      "0\n",
      "\n",
      " maximum font size\n",
      "108.0\n",
      "\n",
      " minimum font size\n",
      "18.0\n",
      "e:\\ppt\\68.pptx\n",
      "\n",
      "slide number1\n",
      "1, OBJECT (7)\n",
      "Content Placeholder 2\n"
     ]
    },
    {
     "data": {
      "text/plain": [
       "'Times New Roman'"
      ]
     },
     "metadata": {},
     "output_type": "display_data"
    },
    {
     "data": {
      "text/plain": [
       "24.0"
      ]
     },
     "metadata": {},
     "output_type": "display_data"
    },
    {
     "name": "stdout",
     "output_type": "stream",
     "text": [
      "Content Placeholder 2\n",
      "TextBox 8\n"
     ]
    },
    {
     "data": {
      "text/plain": [
       "20.0"
      ]
     },
     "metadata": {},
     "output_type": "display_data"
    },
    {
     "name": "stdout",
     "output_type": "stream",
     "text": [
      "TextBox 8\n",
      "TextBox 8\n",
      "TextBox 8\n",
      "TextBox 8\n",
      "TextBox 8\n",
      "TextBox 8\n",
      "TextBox 8\n",
      "TextBox 8\n",
      "TextBox 8\n",
      "TextBox 8\n",
      "TextBox 8\n",
      "TextBox 8\n",
      "TextBox 9\n",
      "TextBox 9\n",
      "TextBox 9\n",
      "TextBox 9\n",
      "TextBox 9\n",
      "10, DATE (16)\n",
      "12, SLIDE_NUMBER (13)\n",
      "\n",
      "slide number2\n",
      "0, TITLE (1)\n",
      "Title 4\n",
      "1, OBJECT (7)\n",
      "Content Placeholder 5\n"
     ]
    },
    {
     "data": {
      "text/plain": [
       "19.0"
      ]
     },
     "metadata": {},
     "output_type": "display_data"
    },
    {
     "name": "stdout",
     "output_type": "stream",
     "text": [
      "Content Placeholder 5\n",
      "Content Placeholder 5\n",
      "Content Placeholder 5\n",
      "Content Placeholder 5\n",
      "Content Placeholder 5\n",
      "Content Placeholder 5\n",
      "Content Placeholder 5\n",
      "Content Placeholder 5\n",
      "Content Placeholder 5\n",
      "Content Placeholder 5\n",
      "Content Placeholder 5\n",
      "10, DATE (16)\n",
      "12, SLIDE_NUMBER (13)\n",
      "\n",
      "slide number3\n",
      "0, TITLE (1)\n",
      "Title 1\n",
      "1, OBJECT (7)\n",
      "Content Placeholder 2\n",
      "Content Placeholder 2\n",
      "Content Placeholder 2\n",
      "Content Placeholder 2\n",
      "Content Placeholder 2\n",
      "Content Placeholder 2\n",
      "Content Placeholder 2\n",
      "Content Placeholder 2\n",
      "Content Placeholder 2\n",
      "10, DATE (16)\n",
      "12, SLIDE_NUMBER (13)\n",
      "\n",
      "slide number4\n",
      "0, TITLE (1)\n",
      "Title 1\n",
      "1, OBJECT (7)\n",
      "Content Placeholder 2\n",
      "Content Placeholder 2\n",
      "Content Placeholder 2\n",
      "Content Placeholder 2\n",
      "Content Placeholder 2\n",
      "Content Placeholder 2\n",
      "Content Placeholder 2\n",
      "Content Placeholder 2\n",
      "Content Placeholder 2\n",
      "Content Placeholder 2\n",
      "Content Placeholder 2\n",
      "Content Placeholder 2\n",
      "Content Placeholder 2\n",
      "2, OBJECT (7)\n",
      "no textframe\n",
      "10, DATE (16)\n",
      "12, SLIDE_NUMBER (13)\n",
      "\n",
      "slide number5\n",
      "0, TITLE (1)\n",
      "Title 1\n",
      "1, OBJECT (7)\n",
      "Content Placeholder 2\n",
      "Content Placeholder 2\n",
      "Content Placeholder 2\n",
      "Content Placeholder 2\n",
      "Content Placeholder 2\n",
      "Content Placeholder 2\n",
      "Content Placeholder 2\n",
      "Content Placeholder 2\n",
      "Content Placeholder 2\n",
      "Content Placeholder 2\n",
      "2, OBJECT (7)\n",
      "no textframe\n",
      "10, DATE (16)\n",
      "12, SLIDE_NUMBER (13)\n",
      "\n",
      "slide number6\n",
      "1, OBJECT (7)\n",
      "Content Placeholder 5\n"
     ]
    },
    {
     "data": {
      "text/plain": [
       "22.0"
      ]
     },
     "metadata": {},
     "output_type": "display_data"
    },
    {
     "name": "stdout",
     "output_type": "stream",
     "text": [
      "Content Placeholder 5\n",
      "Content Placeholder 5\n",
      "Content Placeholder 5\n",
      "Content Placeholder 5\n",
      "Content Placeholder 5\n",
      "Content Placeholder 5\n",
      "Content Placeholder 5\n",
      "Content Placeholder 5\n",
      "Content Placeholder 5\n",
      "Content Placeholder 5\n",
      "Content Placeholder 5\n",
      "Content Placeholder 5\n",
      "Content Placeholder 5\n",
      "Content Placeholder 5\n",
      "Content Placeholder 5\n",
      "Content Placeholder 5\n",
      "Content Placeholder 5\n",
      "Content Placeholder 5\n",
      "Content Placeholder 5\n",
      "Content Placeholder 5\n",
      "Content Placeholder 5\n",
      "Content Placeholder 5\n",
      "Content Placeholder 5\n",
      "Content Placeholder 5\n",
      "Content Placeholder 5\n",
      "Content Placeholder 5\n",
      "Content Placeholder 5\n",
      "Content Placeholder 5\n",
      "Content Placeholder 5\n",
      "2, OBJECT (7)\n",
      "no textframe\n",
      "10, DATE (16)\n",
      "12, SLIDE_NUMBER (13)\n",
      "\n",
      "slide number7\n",
      "1, OBJECT (7)\n",
      "Content Placeholder 5\n",
      "Content Placeholder 5\n",
      "Content Placeholder 5\n",
      "Content Placeholder 5\n",
      "Content Placeholder 5\n",
      "Content Placeholder 5\n",
      "Content Placeholder 5\n",
      "Content Placeholder 5\n",
      "Content Placeholder 5\n",
      "Content Placeholder 5\n",
      "2, OBJECT (7)\n",
      "no textframe\n",
      "10, DATE (16)\n",
      "12, SLIDE_NUMBER (13)\n",
      "\n",
      "slide number8\n",
      "0, TITLE (1)\n",
      "Title 1\n",
      "1, OBJECT (7)\n",
      "Content Placeholder 2\n",
      "Content Placeholder 2\n",
      "Content Placeholder 2\n",
      "Content Placeholder 2\n",
      "2, OBJECT (7)\n",
      "no textframe\n",
      "10, DATE (16)\n",
      "12, SLIDE_NUMBER (13)\n",
      "\n",
      "slide number9\n",
      "0, TITLE (1)\n",
      "Title 4\n",
      "1, OBJECT (7)\n",
      "Content Placeholder 5\n",
      "Content Placeholder 5\n",
      "Content Placeholder 5\n",
      "Content Placeholder 5\n",
      "Content Placeholder 5\n",
      "Content Placeholder 5\n",
      "Content Placeholder 5\n",
      "2, OBJECT (7)\n",
      "no textframe\n",
      "10, DATE (16)\n",
      "12, SLIDE_NUMBER (13)\n",
      "\n",
      "slide number10\n",
      "1, OBJECT (7)\n",
      "Content Placeholder 2\n",
      "Content Placeholder 2\n",
      "2, OBJECT (7)\n",
      "no textframe\n",
      "10, DATE (16)\n",
      "12, SLIDE_NUMBER (13)\n",
      "\n",
      "slide number11\n",
      "0, TITLE (1)\n",
      "Title 1\n",
      "1, OBJECT (7)\n",
      "Content Placeholder 2\n"
     ]
    },
    {
     "data": {
      "text/plain": [
       "23.0"
      ]
     },
     "metadata": {},
     "output_type": "display_data"
    },
    {
     "name": "stdout",
     "output_type": "stream",
     "text": [
      "Content Placeholder 2\n",
      "Content Placeholder 2\n",
      "Content Placeholder 2\n",
      "Content Placeholder 2\n",
      "2, OBJECT (7)\n",
      "no textframe\n",
      "10, DATE (16)\n",
      "12, SLIDE_NUMBER (13)\n",
      "\n",
      "slide number12\n",
      "0, TITLE (1)\n",
      "Title 1\n",
      "1, OBJECT (7)\n",
      "Content Placeholder 2\n",
      "Content Placeholder 2\n",
      "Content Placeholder 2\n",
      "Content Placeholder 2\n",
      "Content Placeholder 2\n",
      "Content Placeholder 2\n",
      "Content Placeholder 2\n",
      "Content Placeholder 2\n",
      "10, DATE (16)\n",
      "12, SLIDE_NUMBER (13)\n",
      "\n",
      "slide number13\n",
      "0, TITLE (1)\n",
      "Title 1\n",
      "1, OBJECT (7)\n",
      "Content Placeholder 2\n",
      "Content Placeholder 2\n",
      "Content Placeholder 2\n",
      "Content Placeholder 2\n",
      "10, DATE (16)\n",
      "12, SLIDE_NUMBER (13)\n",
      "\n",
      "slide number14\n",
      "0, TITLE (1)\n",
      "Title 1\n",
      "1, OBJECT (7)\n",
      "Content Placeholder 2\n",
      "Content Placeholder 2\n",
      "Content Placeholder 2\n",
      "Content Placeholder 2\n",
      "10, DATE (16)\n",
      "12, SLIDE_NUMBER (13)\n",
      "\n",
      "slide number15\n",
      "0, TITLE (1)\n",
      "Title 1\n",
      "1, OBJECT (7)\n",
      "Content Placeholder 2\n",
      "Content Placeholder 2\n",
      "Content Placeholder 2\n",
      "Content Placeholder 2\n",
      "Content Placeholder 2\n",
      "Content Placeholder 2\n",
      "Content Placeholder 2\n",
      "10, DATE (16)\n",
      "12, SLIDE_NUMBER (13)\n",
      "\n",
      "slide number16\n",
      "1, OBJECT (7)\n",
      "Content Placeholder 2\n",
      "10, DATE (16)\n",
      "12, SLIDE_NUMBER (13)\n",
      "\n",
      "font name\n",
      "['Times New Roman']\n",
      "\n",
      "font size\n",
      "[24.0, 20.0, 19.0, 22.0, 23.0]\n",
      "\n",
      "hyperlink\n",
      "[]\n",
      "\n",
      "color\n",
      "[(255, 192, 0), (0, 176, 240), (0, 176, 80), (112, 48, 160), (0, 112, 192)]\n",
      "\n",
      "number of font name\n",
      "2\n",
      "\n",
      "number of font size\n",
      "6\n",
      "\n",
      " number of hyperlink\n",
      "0\n",
      "\n",
      " number of color\n",
      "6\n",
      "\n",
      " number of pictures\n",
      "1\n",
      "\n",
      " number of chart\n",
      "0\n",
      "\n",
      " number of tables\n",
      "0\n",
      "\n",
      " maximum font size\n",
      "24.0\n",
      "\n",
      " minimum font size\n",
      "19.0\n",
      "e:\\ppt\\69.pptx\n",
      "\n",
      "slide number1\n",
      "0, TITLE (1)\n",
      "object 2\n"
     ]
    },
    {
     "data": {
      "text/plain": [
       "'Myanmar Text'"
      ]
     },
     "metadata": {},
     "output_type": "display_data"
    },
    {
     "name": "stdout",
     "output_type": "stream",
     "text": [
      "object 2\n",
      "object 2\n",
      "object 2\n",
      "object 3\n"
     ]
    },
    {
     "data": {
      "text/plain": [
       "40.0"
      ]
     },
     "metadata": {},
     "output_type": "display_data"
    },
    {
     "name": "stdout",
     "output_type": "stream",
     "text": [
      "object 3\n",
      "object 3\n",
      "object 3\n",
      "object 3\n",
      "object 3\n",
      "object 3\n"
     ]
    },
    {
     "data": {
      "text/plain": [
       "32.0"
      ]
     },
     "metadata": {},
     "output_type": "display_data"
    },
    {
     "name": "stdout",
     "output_type": "stream",
     "text": [
      "object 3\n",
      "object 3\n",
      "object 3\n",
      "object 3\n",
      "object 3\n",
      "object 3\n",
      "object 3\n"
     ]
    },
    {
     "data": {
      "text/plain": [
       "31.5"
      ]
     },
     "metadata": {},
     "output_type": "display_data"
    },
    {
     "name": "stdout",
     "output_type": "stream",
     "text": [
      "object 3\n",
      "object 3\n",
      "object 3\n",
      "\n",
      "slide number2\n",
      "0, TITLE (1)\n",
      "object 2\n"
     ]
    },
    {
     "data": {
      "text/plain": [
       "36.0"
      ]
     },
     "metadata": {},
     "output_type": "display_data"
    },
    {
     "name": "stdout",
     "output_type": "stream",
     "text": [
      "object 2\n",
      "object 2\n",
      "object 2\n",
      "object 2\n",
      "object 3\n"
     ]
    },
    {
     "data": {
      "text/plain": [
       "'Microsoft YaHei UI Light'"
      ]
     },
     "metadata": {},
     "output_type": "display_data"
    },
    {
     "name": "stdout",
     "output_type": "stream",
     "text": [
      "object 3\n",
      "object 3\n",
      "object 3\n",
      "object 3\n",
      "object 3\n",
      "object 3\n",
      "object 3\n",
      "object 3\n",
      "object 3\n",
      "object 3\n",
      "object 3\n",
      "object 3\n",
      "\n",
      "slide number3\n",
      "0, TITLE (1)\n",
      "object 2\n"
     ]
    },
    {
     "data": {
      "text/plain": [
       "28.0"
      ]
     },
     "metadata": {},
     "output_type": "display_data"
    },
    {
     "name": "stdout",
     "output_type": "stream",
     "text": [
      "object 3\n"
     ]
    },
    {
     "data": {
      "text/plain": [
       "24.0"
      ]
     },
     "metadata": {},
     "output_type": "display_data"
    },
    {
     "name": "stdout",
     "output_type": "stream",
     "text": [
      "object 3\n",
      "object 3\n",
      "object 3\n",
      "object 3\n",
      "object 3\n",
      "object 3\n",
      "object 3\n",
      "object 3\n",
      "object 3\n",
      "object 3\n",
      "object 3\n",
      "object 3\n",
      "object 3\n",
      "object 3\n",
      "object 3\n",
      "object 3\n",
      "object 3\n",
      "object 3\n",
      "object 3\n",
      "object 3\n",
      "object 3\n",
      "object 3\n",
      "object 3\n",
      "object 3\n",
      "object 3\n",
      "object 3\n",
      "object 3\n",
      "object 3\n",
      "object 3\n",
      "object 3\n",
      "object 3\n",
      "object 3\n",
      "object 3\n",
      "object 3\n",
      "object 3\n",
      "object 3\n",
      "object 3\n",
      "object 3\n",
      "object 3\n",
      "object 3\n",
      "object 3\n",
      "object 3\n",
      "object 3\n",
      "object 3\n",
      "object 3\n",
      "object 3\n",
      "object 3\n",
      "object 3\n",
      "object 3\n",
      "object 3\n",
      "object 3\n",
      "object 3\n",
      "object 3\n",
      "object 3\n",
      "object 3\n",
      "object 3\n",
      "object 3\n",
      "object 3\n",
      "object 3\n",
      "object 3\n",
      "object 3\n",
      "object 3\n",
      "object 3\n",
      "object 3\n",
      "object 3\n",
      "object 3\n",
      "object 3\n",
      "object 3\n",
      "object 3\n",
      "object 3\n",
      "object 3\n",
      "object 3\n",
      "object 3\n",
      "object 3\n",
      "object 3\n",
      "object 3\n",
      "object 3\n",
      "object 3\n",
      "object 3\n",
      "object 3\n",
      "object 3\n",
      "object 3\n",
      "object 3\n",
      "object 3\n",
      "object 3\n",
      "object 3\n",
      "object 3\n",
      "\n",
      "slide number4\n",
      "0, TITLE (1)\n",
      "object 3\n",
      "object 4\n"
     ]
    },
    {
     "data": {
      "text/plain": [
       "20.0"
      ]
     },
     "metadata": {},
     "output_type": "display_data"
    },
    {
     "name": "stdout",
     "output_type": "stream",
     "text": [
      "object 4\n",
      "object 4\n",
      "object 4\n",
      "object 4\n",
      "object 4\n",
      "object 4\n",
      "\n",
      "slide number5\n",
      "object 2\n",
      "object 2\n",
      "object 2\n",
      "object 2\n",
      "object 2\n",
      "object 2\n",
      "object 2\n",
      "object 2\n",
      "object 2\n",
      "object 2\n",
      "object 2\n",
      "object 2\n",
      "object 2\n",
      "object 2\n",
      "object 2\n",
      "object 2\n",
      "object 2\n",
      "object 2\n",
      "object 2\n",
      "object 2\n",
      "object 2\n",
      "object 2\n",
      "object 2\n",
      "object 2\n",
      "object 2\n",
      "object 2\n",
      "object 2\n",
      "object 2\n",
      "object 2\n",
      "object 2\n",
      "object 2\n",
      "object 2\n",
      "object 2\n",
      "object 2\n",
      "object 2\n",
      "object 2\n",
      "object 2\n",
      "object 2\n",
      "object 2\n",
      "object 2\n",
      "object 2\n",
      "object 2\n",
      "object 2\n",
      "object 2\n",
      "object 2\n",
      "object 2\n",
      "object 2\n",
      "object 2\n",
      "object 2\n",
      "object 2\n",
      "object 2\n",
      "object 2\n",
      "object 2\n",
      "object 2\n",
      "object 2\n",
      "object 2\n",
      "object 2\n",
      "object 2\n",
      "object 2\n",
      "object 2\n",
      "object 2\n",
      "object 2\n",
      "object 2\n",
      "object 2\n",
      "object 2\n",
      "object 2\n",
      "object 2\n",
      "object 2\n",
      "object 2\n",
      "object 2\n",
      "object 2\n",
      "object 2\n",
      "object 2\n",
      "object 2\n",
      "object 2\n",
      "object 2\n",
      "object 2\n",
      "object 2\n",
      "object 2\n",
      "object 2\n",
      "object 2\n",
      "object 2\n",
      "object 2\n",
      "object 2\n",
      "object 2\n",
      "object 2\n",
      "object 2\n",
      "object 2\n",
      "object 2\n",
      "object 2\n",
      "object 2\n",
      "object 2\n",
      "object 2\n",
      "object 2\n",
      "object 2\n",
      "object 2\n",
      "object 2\n",
      "object 2\n",
      "object 2\n",
      "object 2\n",
      "object 2\n",
      "object 2\n",
      "object 2\n",
      "object 2\n",
      "object 2\n",
      "object 2\n",
      "object 2\n",
      "object 2\n",
      "object 2\n",
      "object 2\n",
      "object 2\n",
      "object 2\n",
      "object 2\n",
      "object 2\n",
      "object 2\n",
      "object 2\n",
      "object 2\n",
      "\n",
      "slide number6\n",
      "0, TITLE (1)\n",
      "object 2\n"
     ]
    },
    {
     "data": {
      "text/plain": [
       "'Arial'"
      ]
     },
     "metadata": {},
     "output_type": "display_data"
    },
    {
     "name": "stdout",
     "output_type": "stream",
     "text": [
      "object 2\n",
      "object 2\n",
      "object 2\n",
      "object 4\n",
      "object 4\n",
      "object 4\n",
      "object 4\n",
      "object 4\n",
      "object 4\n",
      "object 4\n",
      "object 4\n",
      "object 4\n",
      "object 4\n",
      "object 4\n",
      "object 4\n",
      "object 4\n",
      "object 4\n",
      "object 4\n",
      "object 4\n",
      "object 4\n",
      "object 4\n",
      "object 4\n",
      "object 4\n",
      "object 4\n",
      "object 4\n",
      "object 4\n",
      "object 4\n",
      "object 4\n",
      "object 4\n",
      "object 4\n",
      "object 4\n",
      "object 4\n",
      "object 4\n",
      "object 4\n",
      "object 4\n",
      "object 4\n",
      "object 4\n",
      "object 4\n",
      "object 4\n",
      "object 4\n",
      "object 4\n",
      "object 4\n",
      "object 4\n",
      "object 4\n",
      "object 4\n",
      "object 4\n",
      "object 4\n",
      "object 4\n",
      "object 4\n",
      "object 4\n",
      "object 4\n",
      "object 4\n",
      "object 4\n",
      "object 4\n",
      "object 4\n",
      "object 4\n",
      "\n",
      "slide number7\n",
      "0, TITLE (1)\n",
      "object 2\n",
      "object 2\n",
      "object 2\n",
      "object 2\n",
      "object 3\n",
      "object 3\n",
      "object 3\n",
      "object 3\n",
      "object 3\n",
      "object 3\n",
      "object 3\n",
      "object 3\n",
      "object 3\n",
      "object 3\n",
      "object 3\n",
      "object 3\n",
      "object 3\n",
      "object 3\n",
      "object 3\n",
      "object 3\n",
      "object 3\n",
      "object 3\n",
      "object 3\n",
      "object 3\n",
      "object 3\n",
      "object 3\n",
      "object 3\n",
      "object 3\n",
      "object 3\n",
      "object 3\n",
      "object 3\n",
      "object 3\n",
      "object 3\n",
      "object 3\n",
      "object 3\n",
      "object 3\n",
      "object 3\n",
      "object 3\n",
      "object 3\n",
      "object 3\n",
      "object 3\n",
      "object 3\n",
      "object 3\n",
      "object 3\n",
      "object 3\n",
      "object 3\n",
      "object 3\n",
      "object 3\n",
      "object 3\n",
      "object 3\n",
      "object 3\n",
      "object 3\n",
      "object 3\n",
      "object 3\n",
      "object 3\n",
      "object 3\n",
      "object 3\n",
      "object 3\n",
      "object 3\n",
      "object 3\n",
      "object 3\n",
      "object 3\n",
      "object 3\n",
      "object 3\n",
      "object 3\n",
      "object 3\n",
      "object 3\n",
      "object 3\n",
      "object 3\n",
      "object 3\n",
      "object 3\n",
      "object 3\n",
      "object 3\n",
      "object 3\n",
      "object 3\n",
      "object 3\n",
      "object 3\n",
      "object 3\n",
      "object 3\n",
      "object 3\n",
      "object 3\n",
      "object 3\n",
      "object 3\n",
      "object 3\n",
      "object 3\n",
      "object 3\n",
      "object 3\n",
      "object 3\n",
      "object 3\n",
      "object 3\n",
      "\n",
      "slide number8\n",
      "0, TITLE (1)\n",
      "object 2\n",
      "object 3\n",
      "object 3\n",
      "object 3\n",
      "object 3\n",
      "object 3\n",
      "object 3\n",
      "object 3\n",
      "object 3\n",
      "object 3\n",
      "object 3\n",
      "object 3\n",
      "object 3\n",
      "object 3\n",
      "object 3\n",
      "object 3\n",
      "object 3\n",
      "object 3\n",
      "object 3\n",
      "object 3\n",
      "object 3\n",
      "object 3\n",
      "object 3\n",
      "object 3\n"
     ]
    },
    {
     "data": {
      "text/plain": [
       "18.0"
      ]
     },
     "metadata": {},
     "output_type": "display_data"
    },
    {
     "name": "stdout",
     "output_type": "stream",
     "text": [
      "object 3\n",
      "object 3\n",
      "object 3\n",
      "object 3\n",
      "object 3\n",
      "object 3\n",
      "object 3\n",
      "object 3\n",
      "object 3\n",
      "object 3\n",
      "object 3\n",
      "object 3\n",
      "object 3\n",
      "object 3\n",
      "object 3\n",
      "object 3\n",
      "object 3\n",
      "object 3\n",
      "object 3\n",
      "object 3\n",
      "object 3\n",
      "object 3\n",
      "object 3\n",
      "object 3\n",
      "object 3\n",
      "object 3\n",
      "object 3\n",
      "object 3\n",
      "object 3\n",
      "object 3\n",
      "object 3\n",
      "object 3\n",
      "object 3\n",
      "object 3\n",
      "object 3\n",
      "object 3\n",
      "object 3\n",
      "object 3\n",
      "object 3\n",
      "object 3\n",
      "object 3\n",
      "object 3\n",
      "object 3\n",
      "object 3\n",
      "object 3\n",
      "object 3\n",
      "object 3\n",
      "object 3\n",
      "object 3\n",
      "object 3\n",
      "object 3\n",
      "object 3\n",
      "object 3\n",
      "object 3\n",
      "object 3\n",
      "object 3\n",
      "object 3\n",
      "object 3\n",
      "object 3\n",
      "object 3\n",
      "object 3\n",
      "object 3\n",
      "object 3\n",
      "object 3\n",
      "object 3\n",
      "object 3\n",
      "object 3\n",
      "object 3\n",
      "object 3\n",
      "object 3\n",
      "object 3\n",
      "object 3\n",
      "object 3\n",
      "object 3\n",
      "object 3\n",
      "object 3\n",
      "object 3\n",
      "object 3\n",
      "object 3\n",
      "object 3\n",
      "object 3\n",
      "object 3\n",
      "object 3\n",
      "object 3\n",
      "object 3\n",
      "object 3\n",
      "object 3\n",
      "object 3\n",
      "object 3\n",
      "object 3\n",
      "object 3\n",
      "object 3\n",
      "object 3\n",
      "\n",
      "slide number9\n",
      "0, TITLE (1)\n",
      "object 2\n",
      "1, OBJECT (7)\n",
      "object 3\n",
      "object 3\n",
      "object 3\n",
      "object 3\n",
      "object 3\n",
      "object 3\n",
      "object 3\n",
      "object 3\n",
      "object 3\n",
      "object 3\n",
      "object 3\n",
      "object 3\n",
      "object 3\n",
      "object 3\n",
      "object 3\n",
      "object 3\n",
      "object 3\n",
      "object 3\n",
      "object 3\n",
      "object 3\n",
      "object 3\n",
      "object 3\n",
      "object 3\n",
      "object 3\n",
      "object 3\n",
      "object 3\n",
      "object 3\n",
      "object 3\n",
      "object 3\n",
      "object 3\n",
      "object 3\n",
      "object 3\n",
      "object 3\n",
      "object 3\n",
      "object 3\n",
      "object 3\n",
      "object 3\n",
      "object 3\n",
      "object 3\n",
      "object 3\n",
      "object 3\n",
      "object 3\n",
      "object 3\n",
      "object 3\n",
      "object 3\n",
      "object 3\n",
      "object 3\n",
      "object 3\n",
      "object 3\n",
      "object 3\n",
      "object 3\n",
      "object 3\n",
      "object 3\n",
      "object 3\n",
      "object 3\n",
      "object 3\n",
      "object 3\n",
      "object 3\n",
      "object 3\n",
      "object 3\n",
      "object 3\n",
      "object 3\n",
      "object 3\n",
      "object 3\n",
      "object 3\n",
      "object 3\n",
      "object 3\n",
      "object 3\n",
      "object 3\n",
      "object 3\n",
      "\n",
      "slide number10\n",
      "0, TITLE (1)\n",
      "object 2\n",
      "object 2\n",
      "object 2\n",
      "object 2\n",
      "object 2\n",
      "object 3\n",
      "object 3\n",
      "object 3\n",
      "object 3\n",
      "object 3\n",
      "object 3\n",
      "object 3\n",
      "object 3\n",
      "object 3\n",
      "object 3\n",
      "object 3\n",
      "object 3\n",
      "object 3\n",
      "object 3\n",
      "object 3\n",
      "object 3\n",
      "object 3\n",
      "object 3\n",
      "object 3\n",
      "object 3\n",
      "object 3\n",
      "object 3\n",
      "object 3\n",
      "object 3\n",
      "object 3\n",
      "object 3\n",
      "object 3\n",
      "object 3\n",
      "object 3\n",
      "object 3\n",
      "object 3\n",
      "object 3\n",
      "\n",
      "slide number11\n",
      "0, TITLE (1)\n",
      "object 2\n",
      "object 3\n",
      "object 3\n",
      "object 3\n",
      "object 3\n",
      "object 3\n",
      "object 3\n",
      "object 3\n",
      "object 3\n",
      "object 3\n",
      "object 3\n",
      "object 3\n",
      "object 3\n",
      "object 3\n",
      "object 3\n",
      "object 3\n",
      "object 3\n",
      "object 3\n",
      "object 3\n",
      "object 3\n",
      "object 3\n",
      "object 3\n",
      "object 3\n",
      "object 3\n",
      "object 3\n",
      "object 3\n",
      "object 3\n",
      "object 3\n",
      "object 3\n",
      "object 3\n",
      "object 3\n",
      "object 3\n",
      "object 3\n",
      "object 3\n",
      "object 3\n",
      "object 3\n",
      "object 3\n",
      "object 3\n",
      "object 3\n",
      "object 3\n",
      "object 3\n",
      "object 3\n",
      "object 3\n",
      "object 3\n",
      "object 3\n",
      "object 3\n",
      "object 3\n",
      "object 3\n",
      "object 3\n",
      "object 3\n",
      "object 3\n",
      "object 3\n",
      "object 3\n",
      "object 3\n",
      "object 3\n",
      "object 3\n",
      "object 3\n",
      "object 3\n",
      "object 3\n",
      "object 3\n",
      "object 3\n",
      "object 3\n",
      "object 3\n",
      "object 3\n",
      "object 3\n",
      "object 3\n",
      "object 3\n",
      "object 3\n",
      "object 3\n",
      "object 3\n",
      "object 3\n",
      "object 3\n",
      "object 3\n",
      "object 3\n",
      "object 3\n",
      "object 3\n",
      "object 3\n",
      "\n",
      "slide number12\n",
      "0, TITLE (1)\n",
      "object 2\n"
     ]
    },
    {
     "data": {
      "text/plain": [
       "115.0"
      ]
     },
     "metadata": {},
     "output_type": "display_data"
    },
    {
     "name": "stdout",
     "output_type": "stream",
     "text": [
      "object 2\n",
      "object 2\n",
      "\n",
      "font name\n",
      "['Myanmar Text', 'Microsoft YaHei UI Light', 'Arial']\n",
      "\n",
      "font size\n",
      "[40.0, 32.0, 31.5, 36.0, 28.0, 24.0, 20.0, 18.0, 115.0]\n",
      "\n",
      "hyperlink\n",
      "['http://www.smartcities.gov.in/']\n",
      "\n",
      "color\n",
      "[(255, 255, 255)]\n",
      "\n",
      "number of font name\n",
      "4\n",
      "\n",
      "number of font size\n",
      "10\n",
      "\n",
      " number of hyperlink\n",
      "1\n",
      "\n",
      " number of color\n",
      "2\n",
      "\n",
      " number of pictures\n",
      "0\n",
      "\n",
      " number of chart\n",
      "0\n",
      "\n",
      " number of tables\n",
      "0\n",
      "\n",
      " maximum font size\n",
      "115.0\n",
      "\n",
      " minimum font size\n",
      "18.0\n",
      "e:\\ppt\\70.pptx\n",
      "\n",
      "slide number1\n",
      "10, PICTURE (18)\n",
      "no textframe\n",
      "TextBox 3\n"
     ]
    },
    {
     "data": {
      "text/plain": [
       "'Times New Roman'"
      ]
     },
     "metadata": {},
     "output_type": "display_data"
    },
    {
     "data": {
      "text/plain": [
       "24.0"
      ]
     },
     "metadata": {},
     "output_type": "display_data"
    },
    {
     "name": "stdout",
     "output_type": "stream",
     "text": [
      "TextBox 9\n",
      "TextBox 10\n",
      "TextBox 10\n",
      "TextBox 10\n",
      "TextBox 10\n",
      "TextBox 10\n",
      "TextBox 10\n",
      "TextBox 10\n",
      "TextBox 10\n",
      "\n",
      "slide number2\n",
      "0, TITLE (1)\n",
      "Title 7\n",
      "1, OBJECT (7)\n",
      "Content Placeholder 8\n"
     ]
    },
    {
     "data": {
      "text/plain": [
       "18.0"
      ]
     },
     "metadata": {},
     "output_type": "display_data"
    },
    {
     "name": "stdout",
     "output_type": "stream",
     "text": [
      "Content Placeholder 8\n",
      "Content Placeholder 8\n",
      "Content Placeholder 8\n",
      "Content Placeholder 8\n",
      "Content Placeholder 8\n",
      "Content Placeholder 8\n",
      "\n",
      "slide number3\n",
      "4, SLIDE_NUMBER (13)\n",
      "0, TITLE (1)\n",
      "Title 7\n",
      "\n",
      "slide number4\n",
      "10, PICTURE (18)\n",
      "no textframe\n",
      "0, TITLE (1)\n",
      "Title 7\n",
      "TextBox 14\n",
      "TextBox 14\n",
      "\n",
      "slide number5\n",
      "10, PICTURE (18)\n",
      "no textframe\n",
      "0, TITLE (1)\n",
      "Title 7\n",
      "TextBox 14\n",
      "TextBox 14\n",
      "TextBox 14\n",
      "TextBox 14\n",
      "TextBox 14\n",
      "\n",
      "slide number6\n",
      "\n",
      "slide number7\n",
      "0, TITLE (1)\n",
      "Title 7\n"
     ]
    },
    {
     "data": {
      "text/plain": [
       "36.0"
      ]
     },
     "metadata": {},
     "output_type": "display_data"
    },
    {
     "name": "stdout",
     "output_type": "stream",
     "text": [
      "TextBox 10\n",
      "TextBox 10\n",
      "TextBox 10\n",
      "TextBox 10\n",
      "TextBox 10\n",
      "TextBox 10\n",
      "\n",
      "slide number8\n",
      "\n",
      "slide number9\n",
      "TextBox 42\n",
      "TextBox 43\n"
     ]
    },
    {
     "data": {
      "text/plain": [
       "28.0"
      ]
     },
     "metadata": {},
     "output_type": "display_data"
    },
    {
     "name": "stdout",
     "output_type": "stream",
     "text": [
      "TextBox 43\n",
      "TextBox 43\n",
      "TextBox 43\n",
      "TextBox 43\n",
      "TextBox 43\n",
      "\n",
      "font name\n",
      "['Times New Roman']\n",
      "\n",
      "font size\n",
      "[24.0, 18.0, 36.0, 28.0]\n",
      "\n",
      "hyperlink\n",
      "[]\n",
      "\n",
      "color\n",
      "[]\n",
      "\n",
      "number of font name\n",
      "2\n",
      "\n",
      "number of font size\n",
      "5\n",
      "\n",
      " number of hyperlink\n",
      "0\n",
      "\n",
      " number of color\n",
      "1\n",
      "\n",
      " number of pictures\n",
      "5\n",
      "\n",
      " number of chart\n",
      "0\n",
      "\n",
      " number of tables\n",
      "1\n",
      "\n",
      " maximum font size\n",
      "36.0\n",
      "\n",
      " minimum font size\n",
      "18.0\n",
      "e:\\ppt\\71.pptx\n",
      "\n",
      "slide number1\n",
      "TextBox 2\n"
     ]
    },
    {
     "data": {
      "text/plain": [
       "'Muli Black Bold'"
      ]
     },
     "metadata": {},
     "output_type": "display_data"
    },
    {
     "data": {
      "text/plain": [
       "121.99"
      ]
     },
     "metadata": {},
     "output_type": "display_data"
    },
    {
     "name": "stdout",
     "output_type": "stream",
     "text": [
      "TextBox 3\n"
     ]
    },
    {
     "data": {
      "text/plain": [
       "'Roboto Mono Regular'"
      ]
     },
     "metadata": {},
     "output_type": "display_data"
    },
    {
     "data": {
      "text/plain": [
       "29.99"
      ]
     },
     "metadata": {},
     "output_type": "display_data"
    },
    {
     "name": "stdout",
     "output_type": "stream",
     "text": [
      "TextBox 4\n"
     ]
    },
    {
     "data": {
      "text/plain": [
       "'Open Sans Light'"
      ]
     },
     "metadata": {},
     "output_type": "display_data"
    },
    {
     "data": {
      "text/plain": [
       "34.0"
      ]
     },
     "metadata": {},
     "output_type": "display_data"
    },
    {
     "name": "stdout",
     "output_type": "stream",
     "text": [
      "\n",
      "slide number2\n",
      "TextBox 2\n"
     ]
    },
    {
     "data": {
      "text/plain": [
       "'Open Sans Extra Bold'"
      ]
     },
     "metadata": {},
     "output_type": "display_data"
    },
    {
     "data": {
      "text/plain": [
       "90.0"
      ]
     },
     "metadata": {},
     "output_type": "display_data"
    },
    {
     "name": "stdout",
     "output_type": "stream",
     "text": [
      "TextBox 3\n"
     ]
    },
    {
     "data": {
      "text/plain": [
       "'Open Sans'"
      ]
     },
     "metadata": {},
     "output_type": "display_data"
    },
    {
     "data": {
      "text/plain": [
       "52.0"
      ]
     },
     "metadata": {},
     "output_type": "display_data"
    },
    {
     "name": "stdout",
     "output_type": "stream",
     "text": [
      "TextBox 4\n",
      "TextBox 5\n",
      "\n",
      "slide number3\n",
      "TextBox 3\n",
      "TextBox 4\n",
      "TextBox 5\n",
      "TextBox 6\n",
      "TextBox 7\n",
      "\n",
      "slide number4\n",
      "TextBox 2\n"
     ]
    },
    {
     "data": {
      "text/plain": [
       "35.86"
      ]
     },
     "metadata": {},
     "output_type": "display_data"
    },
    {
     "name": "stdout",
     "output_type": "stream",
     "text": [
      "TextBox 2\n",
      "TextBox 3\n",
      "\n",
      "slide number5\n",
      "TextBox 2\n",
      "TextBox 4\n",
      "\n",
      "slide number6\n",
      "TextBox 3\n",
      "TextBox 4\n",
      "TextBox 5\n",
      "TextBox 6\n",
      "\n",
      "slide number7\n",
      "TextBox 3\n",
      "TextBox 4\n",
      "\n",
      "slide number8\n",
      "TextBox 2\n",
      "TextBox 3\n",
      "TextBox 4\n",
      "\n",
      "slide number9\n",
      "TextBox 3\n",
      "TextBox 4\n",
      "TextBox 5\n",
      "\n",
      "slide number10\n",
      "TextBox 2\n",
      "TextBox 3\n",
      "TextBox 4\n",
      "TextBox 5\n",
      "TextBox 6\n",
      "TextBox 7\n",
      "\n",
      "font name\n",
      "['Muli Black Bold', 'Roboto Mono Regular', 'Open Sans Light', 'Open Sans Extra Bold', 'Open Sans']\n",
      "\n",
      "font size\n",
      "[121.99, 29.99, 34.0, 90.0, 52.0, 35.86]\n",
      "\n",
      "hyperlink\n",
      "[]\n",
      "\n",
      "color\n",
      "[(255, 255, 255)]\n",
      "\n",
      "number of font name\n",
      "6\n",
      "\n",
      "number of font size\n",
      "7\n",
      "\n",
      " number of hyperlink\n",
      "0\n",
      "\n",
      " number of color\n",
      "2\n",
      "\n",
      " number of pictures\n",
      "6\n",
      "\n",
      " number of chart\n",
      "0\n",
      "\n",
      " number of tables\n",
      "0\n",
      "\n",
      " maximum font size\n",
      "121.99\n",
      "\n",
      " minimum font size\n",
      "29.99\n",
      "e:\\ppt\\72.pptx\n",
      "\n",
      "slide number1\n",
      "0, CENTER_TITLE (3)\n",
      "Title 1\n"
     ]
    },
    {
     "data": {
      "text/plain": [
       "54.0"
      ]
     },
     "metadata": {},
     "output_type": "display_data"
    },
    {
     "name": "stdout",
     "output_type": "stream",
     "text": [
      "Title 1\n"
     ]
    },
    {
     "data": {
      "text/plain": [
       "36.0"
      ]
     },
     "metadata": {},
     "output_type": "display_data"
    },
    {
     "name": "stdout",
     "output_type": "stream",
     "text": [
      "1, SUBTITLE (4)\n",
      "Subtitle 2\n"
     ]
    },
    {
     "data": {
      "text/plain": [
       "'Times New Roman'"
      ]
     },
     "metadata": {},
     "output_type": "display_data"
    },
    {
     "data": {
      "text/plain": [
       "24.0"
      ]
     },
     "metadata": {},
     "output_type": "display_data"
    },
    {
     "name": "stdout",
     "output_type": "stream",
     "text": [
      "Subtitle 2\n",
      "Subtitle 2\n",
      "\n",
      "slide number2\n",
      "0, TITLE (1)\n",
      "Title 1\n"
     ]
    },
    {
     "data": {
      "text/plain": [
       "44.0"
      ]
     },
     "metadata": {},
     "output_type": "display_data"
    },
    {
     "name": "stdout",
     "output_type": "stream",
     "text": [
      "1, OBJECT (7)\n",
      "Content Placeholder 2\n",
      "Content Placeholder 2\n"
     ]
    },
    {
     "data": {
      "text/plain": [
       "20.0"
      ]
     },
     "metadata": {},
     "output_type": "display_data"
    },
    {
     "name": "stdout",
     "output_type": "stream",
     "text": [
      "Content Placeholder 2\n"
     ]
    },
    {
     "data": {
      "text/plain": [
       "18.0"
      ]
     },
     "metadata": {},
     "output_type": "display_data"
    },
    {
     "name": "stdout",
     "output_type": "stream",
     "text": [
      "Content Placeholder 2\n",
      "Content Placeholder 2\n",
      "Content Placeholder 2\n",
      "\n",
      "slide number3\n",
      "0, TITLE (1)\n",
      "Title 1\n",
      "1, OBJECT (7)\n",
      "Content Placeholder 2\n",
      "Content Placeholder 2\n",
      "Content Placeholder 2\n",
      "Content Placeholder 2\n",
      "Content Placeholder 2\n",
      "\n",
      "slide number4\n",
      "0, TITLE (1)\n",
      "Title 1\n",
      "1, OBJECT (7)\n",
      "Content Placeholder 2\n",
      "Content Placeholder 2\n",
      "Content Placeholder 2\n",
      "Content Placeholder 2\n",
      "Content Placeholder 2\n",
      "Content Placeholder 2\n",
      "Content Placeholder 2\n",
      "Content Placeholder 2\n",
      "Content Placeholder 2\n",
      "Content Placeholder 2\n",
      "Content Placeholder 2\n",
      "Content Placeholder 2\n",
      "Content Placeholder 2\n",
      "Content Placeholder 2\n",
      "Content Placeholder 2\n",
      "\n",
      "slide number5\n",
      "\n",
      "slide number6\n",
      "1, OBJECT (7)\n",
      "Content Placeholder 2\n",
      "Content Placeholder 2\n",
      "Content Placeholder 2\n",
      "Content Placeholder 2\n",
      "Content Placeholder 2\n",
      "Content Placeholder 2\n",
      "Content Placeholder 2\n",
      "Content Placeholder 2\n",
      "Content Placeholder 2\n",
      "Content Placeholder 2\n",
      "Content Placeholder 2\n"
     ]
    },
    {
     "data": {
      "text/plain": [
       "16.0"
      ]
     },
     "metadata": {},
     "output_type": "display_data"
    },
    {
     "name": "stdout",
     "output_type": "stream",
     "text": [
      "Content Placeholder 2\n",
      "\n",
      "slide number7\n",
      "1, OBJECT (7)\n",
      "Content Placeholder 2\n",
      "Content Placeholder 2\n",
      "Content Placeholder 2\n",
      "Content Placeholder 2\n",
      "\n",
      "slide number8\n",
      "1, OBJECT (7)\n",
      "Content Placeholder 2\n",
      "Content Placeholder 2\n",
      "Content Placeholder 2\n",
      "Content Placeholder 2\n",
      "Content Placeholder 2\n",
      "Content Placeholder 2\n",
      "\n",
      "slide number9\n",
      "1, OBJECT (7)\n",
      "Content Placeholder 2\n",
      "Content Placeholder 2\n",
      "Content Placeholder 2\n",
      "Content Placeholder 2\n",
      "Content Placeholder 2\n",
      "Content Placeholder 2\n",
      "\n",
      "slide number10\n",
      "1, OBJECT (7)\n",
      "Content Placeholder 2\n",
      "Content Placeholder 2\n",
      "Content Placeholder 2\n",
      "Content Placeholder 2\n",
      "Content Placeholder 2\n",
      "Content Placeholder 2\n",
      "Content Placeholder 2\n",
      "Content Placeholder 2\n",
      "\n",
      "slide number11\n",
      "1, OBJECT (7)\n",
      "Content Placeholder 2\n",
      "Content Placeholder 2\n",
      "Content Placeholder 2\n",
      "Content Placeholder 2\n",
      "Content Placeholder 2\n",
      "\n",
      "slide number12\n",
      "0, TITLE (1)\n",
      "Title 1\n"
     ]
    },
    {
     "data": {
      "text/plain": [
       "40.0"
      ]
     },
     "metadata": {},
     "output_type": "display_data"
    },
    {
     "name": "stdout",
     "output_type": "stream",
     "text": [
      "1, OBJECT (7)\n",
      "Content Placeholder 2\n",
      "Content Placeholder 2\n",
      "Content Placeholder 2\n",
      "Content Placeholder 2\n",
      "Content Placeholder 2\n",
      "\n",
      "slide number13\n",
      "0, TITLE (1)\n",
      "Title 1\n",
      "1, OBJECT (7)\n",
      "Content Placeholder 2\n",
      "Content Placeholder 2\n",
      "Content Placeholder 2\n",
      "Content Placeholder 2\n",
      "Content Placeholder 2\n",
      "Content Placeholder 2\n",
      "Content Placeholder 2\n",
      "Content Placeholder 2\n",
      "\n",
      "slide number14\n",
      "0, TITLE (1)\n",
      "Title 1\n",
      "1, OBJECT (7)\n",
      "Content Placeholder 2\n",
      "Content Placeholder 2\n",
      "Content Placeholder 2\n",
      "Content Placeholder 2\n",
      "Content Placeholder 2\n",
      "Content Placeholder 2\n",
      "Content Placeholder 2\n",
      "Content Placeholder 2\n",
      "Content Placeholder 2\n",
      "\n",
      "slide number15\n",
      "0, TITLE (1)\n",
      "Title 1\n",
      "Title 1\n",
      "1, OBJECT (7)\n",
      "Content Placeholder 2\n",
      "Content Placeholder 2\n",
      "Content Placeholder 2\n",
      "Content Placeholder 2\n",
      "Content Placeholder 2\n",
      "Content Placeholder 2\n",
      "Content Placeholder 2\n",
      "Content Placeholder 2\n",
      "Content Placeholder 2\n",
      "Content Placeholder 2\n",
      "Content Placeholder 2\n",
      "Content Placeholder 2\n",
      "Content Placeholder 2\n",
      "Content Placeholder 2\n",
      "\n",
      "slide number16\n",
      "0, TITLE (1)\n",
      "Title 1\n",
      "\n",
      "font name\n",
      "['Times New Roman']\n",
      "\n",
      "font size\n",
      "[54.0, 36.0, 24.0, 44.0, 20.0, 18.0, 16.0, 40.0]\n",
      "\n",
      "hyperlink\n",
      "[]\n",
      "\n",
      "color\n",
      "[]\n",
      "\n",
      "number of font name\n",
      "2\n",
      "\n",
      "number of font size\n",
      "9\n",
      "\n",
      " number of hyperlink\n",
      "0\n",
      "\n",
      " number of color\n",
      "1\n",
      "\n",
      " number of pictures\n",
      "1\n",
      "\n",
      " number of chart\n",
      "0\n",
      "\n",
      " number of tables\n",
      "0\n",
      "\n",
      " maximum font size\n",
      "54.0\n",
      "\n",
      " minimum font size\n",
      "16.0\n",
      "e:\\ppt\\73.pptx\n",
      "\n",
      "slide number1\n",
      "TextBox 1\n"
     ]
    },
    {
     "data": {
      "text/plain": [
       "24.0"
      ]
     },
     "metadata": {},
     "output_type": "display_data"
    },
    {
     "name": "stdout",
     "output_type": "stream",
     "text": [
      "TextBox 1\n",
      "10, DATE (16)\n",
      "12, SLIDE_NUMBER (13)\n",
      "\n",
      "slide number2\n",
      "0, CENTER_TITLE (3)\n",
      "Title 1\n"
     ]
    },
    {
     "data": {
      "text/plain": [
       "'Bodoni MT'"
      ]
     },
     "metadata": {},
     "output_type": "display_data"
    },
    {
     "data": {
      "text/plain": [
       "44.0"
      ]
     },
     "metadata": {},
     "output_type": "display_data"
    },
    {
     "name": "stdout",
     "output_type": "stream",
     "text": [
      "1, SUBTITLE (4)\n",
      "Subtitle 2\n",
      "Subtitle 2\n",
      "Subtitle 2\n",
      "Subtitle 2\n",
      "Subtitle 2\n",
      "Subtitle 2\n",
      "Subtitle 2\n",
      "Subtitle 2\n",
      "Subtitle 2\n",
      "TextBox 4\n",
      "TextBox 4\n",
      "TextBox 6\n",
      "TextBox 18\n",
      "10, DATE (16)\n",
      "12, SLIDE_NUMBER (13)\n",
      "\n",
      "slide number3\n",
      "0, TITLE (1)\n",
      "Title 4\n",
      "10, DATE (16)\n",
      "12, SLIDE_NUMBER (13)\n",
      "\n",
      "slide number4\n",
      "0, TITLE (1)\n",
      "Title 1\n",
      "10, DATE (16)\n",
      "12, SLIDE_NUMBER (13)\n",
      "\n",
      "slide number5\n",
      "0, CENTER_TITLE (3)\n",
      "Title 1\n"
     ]
    },
    {
     "data": {
      "text/plain": [
       "40.0"
      ]
     },
     "metadata": {},
     "output_type": "display_data"
    },
    {
     "name": "stdout",
     "output_type": "stream",
     "text": [
      "1, SUBTITLE (4)\n",
      "Subtitle 2\n",
      "Subtitle 2\n",
      "Subtitle 2\n",
      "Subtitle 2\n",
      "Subtitle 2\n",
      "Subtitle 2\n",
      "Subtitle 2\n",
      "10, DATE (16)\n",
      "12, SLIDE_NUMBER (13)\n",
      "\n",
      "slide number6\n",
      "0, CENTER_TITLE (3)\n",
      "Title 1\n"
     ]
    },
    {
     "data": {
      "text/plain": [
       "53.0"
      ]
     },
     "metadata": {},
     "output_type": "display_data"
    },
    {
     "name": "stdout",
     "output_type": "stream",
     "text": [
      "1, SUBTITLE (4)\n",
      "Subtitle 2\n",
      "Subtitle 2\n",
      "Subtitle 2\n",
      "Subtitle 2\n",
      "10, DATE (16)\n",
      "12, SLIDE_NUMBER (13)\n",
      "\n",
      "slide number7\n",
      "0, TITLE (1)\n",
      "Title 1\n",
      "1, OBJECT (7)\n",
      "Content Placeholder 2\n",
      "Content Placeholder 2\n",
      "Content Placeholder 2\n",
      "Content Placeholder 2\n",
      "Content Placeholder 2\n",
      "Content Placeholder 2\n",
      "Content Placeholder 2\n",
      "10, DATE (16)\n",
      "12, SLIDE_NUMBER (13)\n",
      "\n",
      "slide number8\n",
      "0, CENTER_TITLE (3)\n",
      "Title 1\n"
     ]
    },
    {
     "data": {
      "text/plain": [
       "48.0"
      ]
     },
     "metadata": {},
     "output_type": "display_data"
    },
    {
     "name": "stdout",
     "output_type": "stream",
     "text": [
      "1, SUBTITLE (4)\n",
      "Subtitle 7\n",
      "Subtitle 7\n",
      "Subtitle 7\n",
      "10, DATE (16)\n",
      "12, SLIDE_NUMBER (13)\n",
      "\n",
      "slide number9\n",
      "0, CENTER_TITLE (3)\n",
      "Title 1\n",
      "1, SUBTITLE (4)\n",
      "Subtitle 2\n"
     ]
    },
    {
     "data": {
      "text/plain": [
       "'Calibri'"
      ]
     },
     "metadata": {},
     "output_type": "display_data"
    },
    {
     "name": "stdout",
     "output_type": "stream",
     "text": [
      "Subtitle 2\n",
      "Subtitle 2\n",
      "Subtitle 2\n",
      "Subtitle 2\n",
      "Subtitle 2\n",
      "Subtitle 2\n",
      "Subtitle 2\n",
      "Subtitle 2\n",
      "Subtitle 2\n",
      "10, DATE (16)\n",
      "12, SLIDE_NUMBER (13)\n",
      "\n",
      "slide number10\n",
      "0, TITLE (1)\n",
      "Title 1\n",
      "1, OBJECT (7)\n",
      "Content Placeholder 2\n",
      "Content Placeholder 2\n",
      "10, DATE (16)\n",
      "12, SLIDE_NUMBER (13)\n",
      "\n",
      "slide number11\n",
      "0, TITLE (1)\n",
      "Title 1\n",
      "1, OBJECT (7)\n",
      "Content Placeholder 2\n",
      "Content Placeholder 2\n",
      "Content Placeholder 2\n",
      "Content Placeholder 2\n",
      "Content Placeholder 2\n",
      "Content Placeholder 2\n",
      "Content Placeholder 2\n",
      "Content Placeholder 2\n",
      "Content Placeholder 2\n",
      "10, DATE (16)\n",
      "12, SLIDE_NUMBER (13)\n",
      "\n",
      "slide number12\n",
      "0, TITLE (1)\n",
      "Title 1\n",
      "1, OBJECT (7)\n",
      "Content Placeholder 2\n",
      "Content Placeholder 2\n",
      "Content Placeholder 2\n",
      "Content Placeholder 2\n",
      "Content Placeholder 2\n",
      "10, DATE (16)\n",
      "12, SLIDE_NUMBER (13)\n",
      "\n",
      "slide number13\n",
      "0, TITLE (1)\n",
      "Title 1\n",
      "1, OBJECT (7)\n",
      "Content Placeholder 2\n",
      "Content Placeholder 2\n",
      "Content Placeholder 2\n",
      "Content Placeholder 2\n",
      "Content Placeholder 2\n",
      "Content Placeholder 2\n",
      "Content Placeholder 2\n",
      "Content Placeholder 2\n",
      "Content Placeholder 2\n",
      "10, DATE (16)\n",
      "12, SLIDE_NUMBER (13)\n",
      "\n",
      "slide number14\n",
      "0, TITLE (1)\n",
      "Title 1\n",
      "1, OBJECT (7)\n",
      "Content Placeholder 2\n",
      "Content Placeholder 2\n",
      "Content Placeholder 2\n",
      "Content Placeholder 2\n",
      "Content Placeholder 2\n",
      "Content Placeholder 2\n",
      "10, DATE (16)\n",
      "12, SLIDE_NUMBER (13)\n",
      "\n",
      "slide number15\n",
      "0, TITLE (1)\n",
      "Title 1\n",
      "Title 1\n"
     ]
    },
    {
     "data": {
      "text/plain": [
       "32.0"
      ]
     },
     "metadata": {},
     "output_type": "display_data"
    },
    {
     "name": "stdout",
     "output_type": "stream",
     "text": [
      "Title 1\n",
      "1, OBJECT (7)\n",
      "Content Placeholder 2\n",
      "Content Placeholder 2\n",
      "Content Placeholder 2\n",
      "10, DATE (16)\n",
      "12, SLIDE_NUMBER (13)\n",
      "\n",
      "slide number16\n",
      "0, TITLE (1)\n",
      "Title 1\n",
      "1, OBJECT (7)\n",
      "Content Placeholder 2\n",
      "Content Placeholder 2\n",
      "Content Placeholder 2\n",
      "Content Placeholder 2\n",
      "10, DATE (16)\n",
      "12, SLIDE_NUMBER (13)\n",
      "\n",
      "slide number17\n",
      "0, TITLE (1)\n",
      "Title 1\n",
      "Title 1\n",
      "Title 1\n",
      "Title 1\n",
      "10, DATE (16)\n",
      "12, SLIDE_NUMBER (13)\n",
      "\n",
      "slide number18\n",
      "10, DATE (16)\n",
      "12, SLIDE_NUMBER (13)\n",
      "\n",
      "font name\n",
      "['Bodoni MT', 'Calibri']\n",
      "\n",
      "font size\n",
      "[24.0, 44.0, 40.0, 53.0, 48.0, 32.0]\n",
      "\n",
      "hyperlink\n",
      "[]\n",
      "\n",
      "color\n",
      "[]\n",
      "\n",
      "number of font name\n",
      "3\n",
      "\n",
      "number of font size\n",
      "7\n",
      "\n",
      " number of hyperlink\n",
      "0\n",
      "\n",
      " number of color\n",
      "1\n",
      "\n",
      " number of pictures\n",
      "20\n",
      "\n",
      " number of chart\n",
      "0\n",
      "\n",
      " number of tables\n",
      "0\n",
      "\n",
      " maximum font size\n",
      "53.0\n",
      "\n",
      " minimum font size\n",
      "24.0\n",
      "e:\\ppt\\74.pptx\n",
      "\n",
      "slide number1\n",
      "0, CENTER_TITLE (3)\n",
      "Title 1\n"
     ]
    },
    {
     "data": {
      "text/plain": [
       "40.0"
      ]
     },
     "metadata": {},
     "output_type": "display_data"
    },
    {
     "name": "stdout",
     "output_type": "stream",
     "text": [
      "1, SUBTITLE (4)\n",
      "Subtitle 2\n",
      "10, DATE (16)\n",
      "12, SLIDE_NUMBER (13)\n",
      "\n",
      "slide number2\n",
      "0, TITLE (1)\n",
      "Title 1\n",
      "1, BODY (2)\n",
      "Text Placeholder 2\n",
      "Text Placeholder 2\n",
      "Text Placeholder 2\n",
      "Text Placeholder 2\n",
      "Text Placeholder 2\n",
      "Text Placeholder 2\n",
      "Text Placeholder 2\n",
      "Text Placeholder 2\n",
      "Text Placeholder 2\n",
      "Text Placeholder 2\n",
      "10, DATE (16)\n",
      "12, SLIDE_NUMBER (13)\n",
      "\n",
      "slide number3\n",
      "0, TITLE (1)\n",
      "Title 3\n"
     ]
    },
    {
     "data": {
      "text/plain": [
       "28.0"
      ]
     },
     "metadata": {},
     "output_type": "display_data"
    },
    {
     "name": "stdout",
     "output_type": "stream",
     "text": [
      "1, OBJECT (7)\n",
      "Content Placeholder 2\n"
     ]
    },
    {
     "data": {
      "text/plain": [
       "38.0"
      ]
     },
     "metadata": {},
     "output_type": "display_data"
    },
    {
     "name": "stdout",
     "output_type": "stream",
     "text": [
      "Content Placeholder 2\n"
     ]
    },
    {
     "data": {
      "text/plain": [
       "72.0"
      ]
     },
     "metadata": {},
     "output_type": "display_data"
    },
    {
     "name": "stdout",
     "output_type": "stream",
     "text": [
      "Content Placeholder 2\n",
      "Content Placeholder 2\n",
      "Content Placeholder 2\n",
      "10, DATE (16)\n",
      "12, SLIDE_NUMBER (13)\n",
      "\n",
      "slide number4\n",
      "0, TITLE (1)\n",
      "Title 1\n",
      "1, OBJECT (7)\n",
      "Content Placeholder 2\n",
      "Content Placeholder 2\n",
      "Content Placeholder 2\n",
      "Content Placeholder 2\n",
      "Content Placeholder 2\n",
      "Content Placeholder 2\n",
      "Content Placeholder 2\n",
      "Content Placeholder 2\n",
      "Content Placeholder 2\n",
      "Content Placeholder 2\n",
      "Content Placeholder 2\n",
      "10, DATE (16)\n",
      "12, SLIDE_NUMBER (13)\n",
      "\n",
      "slide number5\n",
      "0, TITLE (1)\n",
      "Title 1\n",
      "1, OBJECT (7)\n",
      "Content Placeholder 2\n"
     ]
    },
    {
     "data": {
      "text/plain": [
       "20.0"
      ]
     },
     "metadata": {},
     "output_type": "display_data"
    },
    {
     "name": "stdout",
     "output_type": "stream",
     "text": [
      "Content Placeholder 2\n",
      "Content Placeholder 2\n",
      "Content Placeholder 2\n",
      "Content Placeholder 2\n",
      "Content Placeholder 2\n",
      "Content Placeholder 2\n",
      "Content Placeholder 2\n",
      "Content Placeholder 2\n",
      "10, DATE (16)\n",
      "12, SLIDE_NUMBER (13)\n",
      "\n",
      "slide number6\n",
      "0, TITLE (1)\n",
      "Title 1\n",
      "1, OBJECT (7)\n",
      "Content Placeholder 2\n",
      "Content Placeholder 2\n",
      "Content Placeholder 2\n",
      "Content Placeholder 2\n",
      "Content Placeholder 2\n",
      "Content Placeholder 2\n",
      "Content Placeholder 2\n",
      "Content Placeholder 2\n",
      "Content Placeholder 2\n",
      "Content Placeholder 2\n",
      "Content Placeholder 2\n",
      "Content Placeholder 2\n",
      "Content Placeholder 2\n",
      "Content Placeholder 2\n",
      "Content Placeholder 2\n",
      "10, DATE (16)\n",
      "12, SLIDE_NUMBER (13)\n",
      "\n",
      "slide number7\n",
      "0, TITLE (1)\n",
      "Title 1\n"
     ]
    },
    {
     "data": {
      "text/plain": [
       "36.0"
      ]
     },
     "metadata": {},
     "output_type": "display_data"
    },
    {
     "name": "stdout",
     "output_type": "stream",
     "text": [
      "1, OBJECT (7)\n",
      "Content Placeholder 2\n",
      "Content Placeholder 2\n",
      "Content Placeholder 2\n",
      "Content Placeholder 2\n",
      "Content Placeholder 2\n",
      "Content Placeholder 2\n",
      "Content Placeholder 2\n",
      "Content Placeholder 2\n",
      "Content Placeholder 2\n",
      "Content Placeholder 2\n",
      "Content Placeholder 2\n",
      "Content Placeholder 2\n",
      "Content Placeholder 2\n",
      "10, DATE (16)\n",
      "12, SLIDE_NUMBER (13)\n",
      "\n",
      "slide number8\n",
      "0, TITLE (1)\n",
      "Title 1\n",
      "1, BODY (2)\n",
      "Text Placeholder 2\n",
      "2, OBJECT (7)\n",
      "Content Placeholder 3\n"
     ]
    },
    {
     "data": {
      "text/plain": [
       "'Bahnschrift Condensed'"
      ]
     },
     "metadata": {},
     "output_type": "display_data"
    },
    {
     "data": {
      "text/plain": [
       "21.0"
      ]
     },
     "metadata": {},
     "output_type": "display_data"
    },
    {
     "name": "stdout",
     "output_type": "stream",
     "text": [
      "Content Placeholder 3\n"
     ]
    },
    {
     "data": {
      "text/plain": [
       "'Arial Narrow'"
      ]
     },
     "metadata": {},
     "output_type": "display_data"
    },
    {
     "data": {
      "text/plain": [
       "18.0"
      ]
     },
     "metadata": {},
     "output_type": "display_data"
    },
    {
     "name": "stdout",
     "output_type": "stream",
     "text": [
      "Content Placeholder 3\n",
      "Content Placeholder 3\n",
      "Content Placeholder 3\n",
      "Content Placeholder 3\n",
      "Content Placeholder 3\n",
      "Content Placeholder 3\n",
      "Content Placeholder 3\n",
      "Content Placeholder 3\n",
      "Content Placeholder 3\n",
      "Content Placeholder 3\n",
      "3, BODY (2)\n",
      "Text Placeholder 4\n",
      "4, OBJECT (7)\n",
      "Content Placeholder 5\n",
      "Content Placeholder 5\n",
      "Content Placeholder 5\n",
      "Content Placeholder 5\n",
      "Content Placeholder 5\n",
      "Content Placeholder 5\n",
      "Content Placeholder 5\n",
      "Content Placeholder 5\n",
      "Content Placeholder 5\n",
      "Content Placeholder 5\n",
      "10, DATE (16)\n",
      "12, SLIDE_NUMBER (13)\n",
      "\n",
      "slide number9\n",
      "0, TITLE (1)\n",
      "Title 6\n",
      "1, BODY (2)\n",
      "Text Placeholder 2\n",
      "2, OBJECT (7)\n",
      "Content Placeholder 3\n"
     ]
    },
    {
     "data": {
      "text/plain": [
       "34.0"
      ]
     },
     "metadata": {},
     "output_type": "display_data"
    },
    {
     "name": "stdout",
     "output_type": "stream",
     "text": [
      "Content Placeholder 3\n",
      "Content Placeholder 3\n",
      "Content Placeholder 3\n",
      "Content Placeholder 3\n",
      "Content Placeholder 3\n",
      "Content Placeholder 3\n",
      "Content Placeholder 3\n",
      "3, BODY (2)\n",
      "Text Placeholder 4\n",
      "4, OBJECT (7)\n",
      "Content Placeholder 5\n"
     ]
    },
    {
     "data": {
      "text/plain": [
       "29.0"
      ]
     },
     "metadata": {},
     "output_type": "display_data"
    },
    {
     "name": "stdout",
     "output_type": "stream",
     "text": [
      "Content Placeholder 5\n",
      "Content Placeholder 5\n",
      "Content Placeholder 5\n",
      "Content Placeholder 5\n",
      "Content Placeholder 5\n",
      "Content Placeholder 5\n",
      "Content Placeholder 5\n",
      "Content Placeholder 5\n",
      "Content Placeholder 5\n"
     ]
    },
    {
     "data": {
      "text/plain": [
       "25.0"
      ]
     },
     "metadata": {},
     "output_type": "display_data"
    },
    {
     "name": "stdout",
     "output_type": "stream",
     "text": [
      "Content Placeholder 5\n",
      "10, DATE (16)\n",
      "12, SLIDE_NUMBER (13)\n",
      "\n",
      "slide number10\n",
      "0, TITLE (1)\n",
      "Title 1\n"
     ]
    },
    {
     "data": {
      "text/plain": [
       "32.0"
      ]
     },
     "metadata": {},
     "output_type": "display_data"
    },
    {
     "name": "stdout",
     "output_type": "stream",
     "text": [
      "1, BODY (2)\n",
      "Text Placeholder 2\n",
      "2, OBJECT (7)\n",
      "3, BODY (2)\n",
      "Text Placeholder 3\n",
      "4, OBJECT (7)\n",
      "10, DATE (16)\n",
      "12, SLIDE_NUMBER (13)\n",
      "\n",
      "slide number11\n",
      "0, TITLE (1)\n",
      "Title 1\n",
      "1, OBJECT (7)\n",
      "no textframe\n",
      "10, DATE (16)\n",
      "12, SLIDE_NUMBER (13)\n",
      "\n",
      "slide number12\n",
      "10, DATE (16)\n",
      "12, SLIDE_NUMBER (13)\n",
      "\n",
      "slide number13\n",
      "10, DATE (16)\n",
      "12, SLIDE_NUMBER (13)\n",
      "\n",
      "slide number14\n",
      "10, DATE (16)\n",
      "12, SLIDE_NUMBER (13)\n",
      "\n",
      "slide number15\n",
      "10, DATE (16)\n",
      "12, SLIDE_NUMBER (13)\n",
      "\n",
      "slide number16\n",
      "0, TITLE (1)\n",
      "Title 1\n"
     ]
    },
    {
     "data": {
      "text/plain": [
       "22.0"
      ]
     },
     "metadata": {},
     "output_type": "display_data"
    },
    {
     "name": "stdout",
     "output_type": "stream",
     "text": [
      "Title 1\n",
      "1, OBJECT (7)\n",
      "Content Placeholder 2\n",
      "Content Placeholder 2\n",
      "Content Placeholder 2\n",
      "Content Placeholder 2\n",
      "Content Placeholder 2\n",
      "Content Placeholder 2\n",
      "Content Placeholder 2\n",
      "Content Placeholder 2\n",
      "Content Placeholder 2\n",
      "Content Placeholder 2\n",
      "Content Placeholder 2\n",
      "10, DATE (16)\n",
      "12, SLIDE_NUMBER (13)\n",
      "\n",
      "slide number17\n",
      "0, TITLE (1)\n",
      "Title 1\n",
      "1, OBJECT (7)\n",
      "Content Placeholder 2\n",
      "Content Placeholder 2\n",
      "Content Placeholder 2\n",
      "Content Placeholder 2\n",
      "Content Placeholder 2\n",
      "Content Placeholder 2\n",
      "Content Placeholder 2\n",
      "Content Placeholder 2\n",
      "Content Placeholder 2\n",
      "10, DATE (16)\n",
      "12, SLIDE_NUMBER (13)\n",
      "\n",
      "slide number18\n",
      "0, TITLE (1)\n",
      "Title 1\n",
      "10, DATE (16)\n",
      "12, SLIDE_NUMBER (13)\n",
      "\n",
      "font name\n",
      "['Bahnschrift Condensed', 'Arial Narrow']\n",
      "\n",
      "font size\n",
      "[40.0, 28.0, 38.0, 72.0, 20.0, 36.0, 21.0, 18.0, 34.0, 29.0, 25.0, 32.0, 22.0]\n",
      "\n",
      "hyperlink\n",
      "[]\n",
      "\n",
      "color\n",
      "[(0, 112, 192), (112, 48, 160), (0, 176, 80), (192, 0, 0)]\n",
      "\n",
      "number of font name\n",
      "3\n",
      "\n",
      "number of font size\n",
      "14\n",
      "\n",
      " number of hyperlink\n",
      "0\n",
      "\n",
      " number of color\n",
      "5\n",
      "\n",
      " number of pictures\n",
      "12\n",
      "\n",
      " number of chart\n",
      "0\n",
      "\n",
      " number of tables\n",
      "2\n",
      "\n",
      " maximum font size\n",
      "72.0\n",
      "\n",
      " minimum font size\n",
      "18.0\n",
      "e:\\ppt\\75.pptx\n",
      "\n",
      "slide number1\n",
      "Text Box 9\n"
     ]
    },
    {
     "data": {
      "text/plain": [
       "16.0"
      ]
     },
     "metadata": {},
     "output_type": "display_data"
    },
    {
     "name": "stdout",
     "output_type": "stream",
     "text": [
      "Text Box 9\n",
      "Text Box 9\n",
      "Text Box 9\n",
      "Text Box 9\n",
      "Text Box 9\n",
      "Text Box 9\n",
      "TextBox 1\n"
     ]
    },
    {
     "data": {
      "text/plain": [
       "28.0"
      ]
     },
     "metadata": {},
     "output_type": "display_data"
    },
    {
     "name": "stdout",
     "output_type": "stream",
     "text": [
      "TextBox 1\n",
      "TextBox 1\n",
      "TextBox 1\n",
      "TextBox 1\n",
      "\n",
      "slide number2\n",
      "0, TITLE (1)\n",
      "Title 1\n",
      "1, OBJECT (7)\n",
      "Content Placeholder 3\n"
     ]
    },
    {
     "data": {
      "text/plain": [
       "'Arial'"
      ]
     },
     "metadata": {},
     "output_type": "display_data"
    },
    {
     "name": "stdout",
     "output_type": "stream",
     "text": [
      "Content Placeholder 3\n",
      "Content Placeholder 3\n",
      "Content Placeholder 3\n",
      "Content Placeholder 3\n",
      "Content Placeholder 3\n",
      "Content Placeholder 3\n",
      "\n",
      "slide number3\n",
      "0, TITLE (1)\n",
      "Title 2\n"
     ]
    },
    {
     "data": {
      "text/plain": [
       "'Times New Roman'"
      ]
     },
     "metadata": {},
     "output_type": "display_data"
    },
    {
     "name": "stdout",
     "output_type": "stream",
     "text": [
      "2, BODY (2)\n",
      "Text Placeholder 4\n"
     ]
    },
    {
     "data": {
      "text/plain": [
       "'Arial Black'"
      ]
     },
     "metadata": {},
     "output_type": "display_data"
    },
    {
     "name": "stdout",
     "output_type": "stream",
     "text": [
      "Text Placeholder 4\n",
      "Text Placeholder 4\n"
     ]
    },
    {
     "data": {
      "text/plain": [
       "32.0"
      ]
     },
     "metadata": {},
     "output_type": "display_data"
    },
    {
     "name": "stdout",
     "output_type": "stream",
     "text": [
      "Text Placeholder 4\n",
      "1, OBJECT (7)\n",
      "no textframe\n",
      "\n",
      "slide number4\n",
      "\n",
      "slide number5\n",
      "0, TITLE (1)\n",
      "Title 1\n"
     ]
    },
    {
     "data": {
      "text/plain": [
       "40.0"
      ]
     },
     "metadata": {},
     "output_type": "display_data"
    },
    {
     "name": "stdout",
     "output_type": "stream",
     "text": [
      "2, BODY (2)\n",
      "Text Placeholder 2\n",
      "Text Placeholder 2\n",
      "Text Placeholder 2\n",
      "Text Placeholder 2\n"
     ]
    },
    {
     "data": {
      "text/plain": [
       "24.0"
      ]
     },
     "metadata": {},
     "output_type": "display_data"
    },
    {
     "name": "stdout",
     "output_type": "stream",
     "text": [
      "Text Placeholder 2\n",
      "Text Placeholder 2\n",
      "Text Placeholder 2\n",
      "Text Placeholder 2\n",
      "Text Placeholder 2\n",
      "Text Placeholder 2\n",
      "Text Placeholder 2\n",
      "Text Placeholder 2\n",
      "Text Placeholder 2\n",
      "Text Placeholder 2\n",
      "1, OBJECT (7)\n",
      "no textframe\n",
      "\n",
      "slide number6\n",
      "0, TITLE (1)\n",
      "Title 1\n",
      "2, BODY (2)\n",
      "Text Placeholder 2\n",
      "Text Placeholder 2\n",
      "Text Placeholder 2\n",
      "Text Placeholder 2\n",
      "Text Placeholder 2\n",
      "Text Placeholder 2\n",
      "Text Placeholder 2\n",
      "Text Placeholder 2\n",
      "1, OBJECT (7)\n",
      "no textframe\n",
      "\n",
      "slide number7\n",
      "4294967295, TITLE (1)\n",
      "Title 1\n",
      "Title 1\n",
      "\n",
      "slide number8\n",
      "\n",
      "slide number9\n",
      "0, TITLE (1)\n",
      "Title 1\n",
      "2, BODY (2)\n",
      "Text Placeholder 2\n",
      "Text Placeholder 2\n",
      "Text Placeholder 2\n",
      "Text Placeholder 2\n",
      "Text Placeholder 2\n",
      "Text Placeholder 2\n",
      "Text Placeholder 2\n",
      "Text Placeholder 2\n",
      "Text Placeholder 2\n",
      "Text Placeholder 2\n",
      "Text Placeholder 2\n",
      "Text Placeholder 2\n",
      "Text Placeholder 2\n",
      "Text Placeholder 2\n",
      "Text Placeholder 2\n",
      "Text Placeholder 2\n",
      "Text Placeholder 2\n",
      "Text Placeholder 2\n",
      "1, OBJECT (7)\n",
      "no textframe\n",
      "\n",
      "slide number10\n",
      "\n",
      "slide number11\n",
      "0, TITLE (1)\n",
      "Title 1\n",
      "Title 1\n",
      "2, BODY (2)\n",
      "Text Placeholder 3\n",
      "Text Placeholder 3\n",
      "Text Placeholder 3\n",
      "Text Placeholder 3\n",
      "\n",
      "slide number12\n",
      "0, TITLE (1)\n",
      "Title 1\n",
      "2, BODY (2)\n",
      "Text Placeholder 2\n",
      "\n",
      "slide number13\n",
      "0, TITLE (1)\n",
      "Title 1\n",
      "1, OBJECT (7)\n",
      "Content Placeholder 2\n",
      "Content Placeholder 2\n",
      "Content Placeholder 2\n",
      "Content Placeholder 2\n",
      "Content Placeholder 2\n",
      "Content Placeholder 2\n",
      "Content Placeholder 2\n",
      "Content Placeholder 2\n",
      "\n",
      "slide number14\n",
      "0, CENTER_TITLE (3)\n",
      "Title 4\n",
      "\n",
      "slide number15\n",
      "0, TITLE (1)\n",
      "Title 1\n"
     ]
    },
    {
     "data": {
      "text/plain": [
       "96.0"
      ]
     },
     "metadata": {},
     "output_type": "display_data"
    },
    {
     "name": "stdout",
     "output_type": "stream",
     "text": [
      "\n",
      "font name\n",
      "['Arial', 'Times New Roman', 'Arial Black']\n",
      "\n",
      "font size\n",
      "[16.0, 28.0, 32.0, 40.0, 24.0, 96.0]\n",
      "\n",
      "hyperlink\n",
      "['http://www.google.com/', 'http://www.wikipedia.org/', 'http://www.physicsoftheuniverse.org/', 'http://www.scientificamerican.org/', 'http://www.forbes.org/', 'http://www.w3school.org/', 'http://www.tutorialpoint.org/']\n",
      "\n",
      "color\n",
      "[(255, 192, 0)]\n",
      "\n",
      "number of font name\n",
      "4\n",
      "\n",
      "number of font size\n",
      "7\n",
      "\n",
      " number of hyperlink\n",
      "7\n",
      "\n",
      " number of color\n",
      "2\n",
      "\n",
      " number of pictures\n",
      "8\n",
      "\n",
      " number of chart\n",
      "0\n",
      "\n",
      " number of tables\n",
      "0\n",
      "\n",
      " maximum font size\n",
      "96.0\n",
      "\n",
      " minimum font size\n",
      "16.0\n",
      "e:\\ppt\\77.pptx\n",
      "\n",
      "slide number1\n",
      "TextBox 8\n"
     ]
    },
    {
     "data": {
      "text/plain": [
       "44.0"
      ]
     },
     "metadata": {},
     "output_type": "display_data"
    },
    {
     "name": "stdout",
     "output_type": "stream",
     "text": [
      "TextBox 8\n",
      "TextBox 8\n",
      "TextBox 8\n",
      "TextBox 8\n",
      "TextBox 8\n",
      "TextBox 8\n",
      "TextBox 9\n",
      "TextBox 10\n"
     ]
    },
    {
     "data": {
      "text/plain": [
       "24.0"
      ]
     },
     "metadata": {},
     "output_type": "display_data"
    },
    {
     "name": "stdout",
     "output_type": "stream",
     "text": [
      "TextBox 10\n",
      "TextBox 10\n",
      "TextBox 10\n",
      "TextBox 10\n",
      "TextBox 11\n"
     ]
    },
    {
     "data": {
      "text/plain": [
       "16.0"
      ]
     },
     "metadata": {},
     "output_type": "display_data"
    },
    {
     "name": "stdout",
     "output_type": "stream",
     "text": [
      "TextBox 12\n",
      "TextBox 12\n",
      "TextBox 12\n",
      "TextBox 12\n",
      "TextBox 12\n",
      "10, DATE (16)\n",
      "12, SLIDE_NUMBER (13)\n",
      "\n",
      "slide number2\n",
      "TextBox 12\n"
     ]
    },
    {
     "data": {
      "text/plain": [
       "54.0"
      ]
     },
     "metadata": {},
     "output_type": "display_data"
    },
    {
     "name": "stdout",
     "output_type": "stream",
     "text": [
      "TextBox 13\n",
      "TextBox 13\n",
      "TextBox 13\n",
      "TextBox 13\n",
      "TextBox 14\n",
      "TextBox 14\n",
      "TextBox 14\n",
      "TextBox 14\n",
      "10, DATE (16)\n",
      "12, SLIDE_NUMBER (13)\n",
      "\n",
      "slide number3\n",
      "TextBox 3\n"
     ]
    },
    {
     "data": {
      "text/plain": [
       "40.0"
      ]
     },
     "metadata": {},
     "output_type": "display_data"
    },
    {
     "name": "stdout",
     "output_type": "stream",
     "text": [
      "TextBox 8\n"
     ]
    },
    {
     "data": {
      "text/plain": [
       "28.0"
      ]
     },
     "metadata": {},
     "output_type": "display_data"
    },
    {
     "name": "stdout",
     "output_type": "stream",
     "text": [
      "TextBox 8\n",
      "10, DATE (16)\n",
      "12, SLIDE_NUMBER (13)\n",
      "\n",
      "slide number4\n",
      "TextBox 5\n"
     ]
    },
    {
     "data": {
      "text/plain": [
       "20.0"
      ]
     },
     "metadata": {},
     "output_type": "display_data"
    },
    {
     "name": "stdout",
     "output_type": "stream",
     "text": [
      "TextBox 5\n",
      "TextBox 5\n",
      "TextBox 7\n",
      "TextBox 7\n",
      "10, DATE (16)\n",
      "12, SLIDE_NUMBER (13)\n",
      "\n",
      "slide number5\n",
      "TextBox 4\n",
      "TextBox 5\n",
      "TextBox 5\n",
      "TextBox 5\n",
      "TextBox 5\n",
      "TextBox 5\n",
      "TextBox 5\n",
      "10, DATE (16)\n",
      "12, SLIDE_NUMBER (13)\n",
      "\n",
      "slide number6\n",
      "TextBox 4\n"
     ]
    },
    {
     "data": {
      "text/plain": [
       "48.0"
      ]
     },
     "metadata": {},
     "output_type": "display_data"
    },
    {
     "name": "stdout",
     "output_type": "stream",
     "text": [
      "TextBox 4\n",
      "TextBox 4\n",
      "TextBox 5\n",
      "TextBox 5\n",
      "TextBox 5\n",
      "10, DATE (16)\n",
      "12, SLIDE_NUMBER (13)\n",
      "\n",
      "slide number7\n",
      "TextBox 4\n"
     ]
    },
    {
     "data": {
      "text/plain": [
       "36.0"
      ]
     },
     "metadata": {},
     "output_type": "display_data"
    },
    {
     "name": "stdout",
     "output_type": "stream",
     "text": [
      "TextBox 5\n",
      "TextBox 5\n",
      "TextBox 5\n",
      "TextBox 5\n",
      "TextBox 5\n",
      "TextBox 5\n",
      "10, DATE (16)\n",
      "12, SLIDE_NUMBER (13)\n",
      "\n",
      "slide number8\n",
      "TextBox 4\n",
      "TextBox 5\n",
      "TextBox 5\n",
      "TextBox 5\n",
      "TextBox 5\n",
      "TextBox 5\n",
      "TextBox 5\n",
      "10, DATE (16)\n",
      "12, SLIDE_NUMBER (13)\n",
      "\n",
      "slide number9\n",
      "TextBox 4\n",
      "TextBox 5\n",
      "TextBox 5\n",
      "TextBox 5\n",
      "TextBox 5\n",
      "TextBox 5\n",
      "TextBox 5\n",
      "TextBox 5\n",
      "TextBox 5\n",
      "TextBox 5\n",
      "TextBox 5\n",
      "TextBox 5\n",
      "10, DATE (16)\n",
      "12, SLIDE_NUMBER (13)\n",
      "\n",
      "slide number10\n",
      "TextBox 4\n",
      "TextBox 5\n",
      "TextBox 5\n",
      "TextBox 5\n",
      "10, DATE (16)\n",
      "12, SLIDE_NUMBER (13)\n",
      "\n",
      "slide number11\n",
      "TextBox 5\n"
     ]
    },
    {
     "data": {
      "text/plain": [
       "32.0"
      ]
     },
     "metadata": {},
     "output_type": "display_data"
    },
    {
     "name": "stdout",
     "output_type": "stream",
     "text": [
      "10, DATE (16)\n",
      "12, SLIDE_NUMBER (13)\n",
      "\n",
      "slide number12\n",
      "TextBox 1\n",
      "TextBox 1\n",
      "TextBox 1\n",
      "TextBox 1\n",
      "TextBox 1\n",
      "TextBox 1\n",
      "10, DATE (16)\n",
      "12, SLIDE_NUMBER (13)\n",
      "\n",
      "slide number13\n",
      "TextBox 3\n",
      "TextBox 3\n",
      "TextBox 3\n",
      "TextBox 3\n",
      "TextBox 3\n",
      "TextBox 3\n",
      "TextBox 3\n",
      "TextBox 3\n",
      "TextBox 3\n",
      "TextBox 4\n",
      "10, DATE (16)\n",
      "12, SLIDE_NUMBER (13)\n",
      "\n",
      "slide number14\n",
      "TextBox 6\n",
      "TextBox 8\n",
      "TextBox 8\n",
      "TextBox 8\n",
      "TextBox 8\n",
      "TextBox 8\n",
      "TextBox 8\n",
      "TextBox 8\n",
      "TextBox 8\n",
      "TextBox 8\n",
      "10, DATE (16)\n",
      "12, SLIDE_NUMBER (13)\n",
      "\n",
      "slide number15\n",
      "TextBox 9\n"
     ]
    },
    {
     "data": {
      "text/plain": [
       "96.0"
      ]
     },
     "metadata": {},
     "output_type": "display_data"
    },
    {
     "name": "stdout",
     "output_type": "stream",
     "text": [
      "TextBox 9\n",
      "TextBox 9\n",
      "TextBox 9\n",
      "TextBox 9\n",
      "TextBox 9\n",
      "10, DATE (16)\n",
      "12, SLIDE_NUMBER (13)\n",
      "\n",
      "font name\n",
      "[]\n",
      "\n",
      "font size\n",
      "[44.0, 24.0, 16.0, 54.0, 40.0, 28.0, 20.0, 48.0, 36.0, 32.0, 96.0]\n",
      "\n",
      "hyperlink\n",
      "[]\n",
      "\n",
      "color\n",
      "[(255, 0, 0), (0, 112, 192), (0, 176, 80)]\n",
      "\n",
      "number of font name\n",
      "1\n",
      "\n",
      "number of font size\n",
      "12\n",
      "\n",
      " number of hyperlink\n",
      "0\n",
      "\n",
      " number of color\n",
      "4\n",
      "\n",
      " number of pictures\n",
      "19\n",
      "\n",
      " number of chart\n",
      "0\n",
      "\n",
      " number of tables\n",
      "0\n",
      "\n",
      " maximum font size\n",
      "96.0\n",
      "\n",
      " minimum font size\n",
      "16.0\n",
      "e:\\ppt\\78.pptx\n",
      "\n",
      "slide number1\n",
      "0, TITLE (1)\n",
      "1, OBJECT (7)\n",
      "no textframe\n",
      "10, DATE (16)\n",
      "12, SLIDE_NUMBER (13)\n",
      "\n",
      "slide number2\n",
      "0, TITLE (1)\n",
      "1, OBJECT (7)\n",
      "no textframe\n",
      "10, DATE (16)\n",
      "12, SLIDE_NUMBER (13)\n",
      "\n",
      "slide number3\n",
      "0, TITLE (1)\n",
      "Title 1\n"
     ]
    },
    {
     "data": {
      "text/plain": [
       "'Copperplate Gothic Bold'"
      ]
     },
     "metadata": {},
     "output_type": "display_data"
    },
    {
     "data": {
      "text/plain": [
       "48.0"
      ]
     },
     "metadata": {},
     "output_type": "display_data"
    },
    {
     "name": "stdout",
     "output_type": "stream",
     "text": [
      "Title 1\n",
      "Title 1\n",
      "1, OBJECT (7)\n",
      "Content Placeholder 4\n",
      "Content Placeholder 4\n",
      "Content Placeholder 4\n",
      "Content Placeholder 4\n",
      "Content Placeholder 4\n",
      "Content Placeholder 4\n",
      "Content Placeholder 4\n",
      "Content Placeholder 4\n",
      "Content Placeholder 4\n",
      "Content Placeholder 4\n",
      "10, DATE (16)\n",
      "12, SLIDE_NUMBER (13)\n",
      "\n",
      "slide number4\n",
      "0, TITLE (1)\n",
      "Title 1\n"
     ]
    },
    {
     "data": {
      "text/plain": [
       "53.0"
      ]
     },
     "metadata": {},
     "output_type": "display_data"
    },
    {
     "name": "stdout",
     "output_type": "stream",
     "text": [
      "Title 1\n"
     ]
    },
    {
     "data": {
      "text/plain": [
       "40.0"
      ]
     },
     "metadata": {},
     "output_type": "display_data"
    },
    {
     "name": "stdout",
     "output_type": "stream",
     "text": [
      "1, OBJECT (7)\n",
      "no textframe\n",
      "10, DATE (16)\n",
      "12, SLIDE_NUMBER (13)\n",
      "\n",
      "slide number5\n",
      "0, TITLE (1)\n",
      "Title 1\n",
      "1, OBJECT (7)\n",
      "Content Placeholder 2\n"
     ]
    },
    {
     "data": {
      "text/plain": [
       "36.0"
      ]
     },
     "metadata": {},
     "output_type": "display_data"
    },
    {
     "name": "stdout",
     "output_type": "stream",
     "text": [
      "Content Placeholder 2\n",
      "10, DATE (16)\n",
      "12, SLIDE_NUMBER (13)\n",
      "\n",
      "slide number6\n",
      "0, TITLE (1)\n",
      "Title 1\n",
      "1, OBJECT (7)\n",
      "10, DATE (16)\n",
      "12, SLIDE_NUMBER (13)\n",
      "\n",
      "slide number7\n",
      "0, TITLE (1)\n",
      "Title 1\n",
      "1, OBJECT (7)\n",
      "Content Placeholder 2\n"
     ]
    },
    {
     "data": {
      "text/plain": [
       "20.0"
      ]
     },
     "metadata": {},
     "output_type": "display_data"
    },
    {
     "name": "stdout",
     "output_type": "stream",
     "text": [
      "Content Placeholder 2\n",
      "Content Placeholder 2\n",
      "Content Placeholder 2\n",
      "Content Placeholder 2\n",
      "Content Placeholder 2\n",
      "Content Placeholder 2\n",
      "Content Placeholder 2\n",
      "Content Placeholder 2\n",
      "Content Placeholder 2\n"
     ]
    },
    {
     "data": {
      "text/plain": [
       "'arial'"
      ]
     },
     "metadata": {},
     "output_type": "display_data"
    },
    {
     "name": "stdout",
     "output_type": "stream",
     "text": [
      "10, DATE (16)\n",
      "12, SLIDE_NUMBER (13)\n",
      "\n",
      "slide number8\n",
      "0, TITLE (1)\n",
      "Title 1\n",
      "1, OBJECT (7)\n",
      "10, DATE (16)\n",
      "12, SLIDE_NUMBER (13)\n",
      "\n",
      "slide number9\n",
      "0, TITLE (1)\n",
      "Title 1\n",
      "1, OBJECT (7)\n",
      "Content Placeholder 2\n",
      "Content Placeholder 2\n",
      "Content Placeholder 2\n",
      "Content Placeholder 2\n",
      "Content Placeholder 2\n",
      "10, DATE (16)\n",
      "12, SLIDE_NUMBER (13)\n",
      "\n",
      "slide number10\n",
      "0, TITLE (1)\n",
      "Title 1\n",
      "1, OBJECT (7)\n",
      "Content Placeholder 2\n",
      "Content Placeholder 2\n",
      "Content Placeholder 2\n",
      "Content Placeholder 2\n",
      "10, DATE (16)\n",
      "12, SLIDE_NUMBER (13)\n",
      "\n",
      "slide number11\n",
      "0, TITLE (1)\n",
      "Title 1\n",
      "1, OBJECT (7)\n",
      "Content Placeholder 2\n",
      "Content Placeholder 2\n",
      "Content Placeholder 2\n",
      "10, DATE (16)\n",
      "12, SLIDE_NUMBER (13)\n",
      "\n",
      "slide number12\n",
      "0, TITLE (1)\n",
      "Title 1\n",
      "1, OBJECT (7)\n",
      "Content Placeholder 2\n",
      "Content Placeholder 2\n",
      "Content Placeholder 2\n",
      "10, DATE (16)\n",
      "12, SLIDE_NUMBER (13)\n",
      "\n",
      "slide number13\n",
      "0, TITLE (1)\n",
      "Title 1\n",
      "1, OBJECT (7)\n",
      "Content Placeholder 2\n",
      "Content Placeholder 2\n",
      "Content Placeholder 2\n",
      "10, DATE (16)\n",
      "12, SLIDE_NUMBER (13)\n",
      "\n",
      "slide number14\n",
      "0, TITLE (1)\n",
      "1, OBJECT (7)\n",
      "no textframe\n",
      "10, DATE (16)\n",
      "12, SLIDE_NUMBER (13)\n",
      "\n",
      "slide number15\n",
      "0, TITLE (1)\n",
      "Title 1\n",
      "1, OBJECT (7)\n",
      "Content Placeholder 2\n",
      "Content Placeholder 2\n",
      "Content Placeholder 2\n",
      "Content Placeholder 2\n",
      "Content Placeholder 2\n",
      "10, DATE (16)\n",
      "12, SLIDE_NUMBER (13)\n",
      "\n",
      "slide number16\n",
      "0, TITLE (1)\n",
      "Title 1\n",
      "Title 1\n",
      "1, OBJECT (7)\n",
      "Content Placeholder 3\n",
      "Content Placeholder 3\n",
      "Content Placeholder 3\n",
      "Content Placeholder 3\n",
      "Content Placeholder 3\n",
      "Content Placeholder 3\n",
      "Content Placeholder 3\n",
      "Content Placeholder 3\n",
      "Content Placeholder 3\n",
      "Content Placeholder 3\n",
      "Content Placeholder 3\n"
     ]
    },
    {
     "data": {
      "text/plain": [
       "'Aharoni'"
      ]
     },
     "metadata": {},
     "output_type": "display_data"
    },
    {
     "name": "stdout",
     "output_type": "stream",
     "text": [
      "10, DATE (16)\n",
      "12, SLIDE_NUMBER (13)\n",
      "\n",
      "slide number17\n",
      "0, TITLE (1)\n",
      "Title 3\n"
     ]
    },
    {
     "data": {
      "text/plain": [
       "49.0"
      ]
     },
     "metadata": {},
     "output_type": "display_data"
    },
    {
     "name": "stdout",
     "output_type": "stream",
     "text": [
      "10, DATE (16)\n",
      "12, SLIDE_NUMBER (13)\n",
      "\n",
      "font name\n",
      "['Copperplate Gothic Bold', 'arial', 'Aharoni']\n",
      "\n",
      "font size\n",
      "[48.0, 53.0, 40.0, 36.0, 20.0, 49.0]\n",
      "\n",
      "hyperlink\n",
      "['http://smartcitydehradun.uk.gov.in/']\n",
      "\n",
      "color\n",
      "[(32, 33, 36), (112, 48, 160), (0, 176, 80), (0, 176, 240), (255, 0, 0)]\n",
      "\n",
      "number of font name\n",
      "4\n",
      "\n",
      "number of font size\n",
      "7\n",
      "\n",
      " number of hyperlink\n",
      "1\n",
      "\n",
      " number of color\n",
      "6\n",
      "\n",
      " number of pictures\n",
      "2\n",
      "\n",
      " number of chart\n",
      "0\n",
      "\n",
      " number of tables\n",
      "0\n",
      "\n",
      " maximum font size\n",
      "53.0\n",
      "\n",
      " minimum font size\n",
      "20.0\n",
      "e:\\ppt\\79.pptx\n",
      "\n",
      "slide number1\n",
      "0, CENTER_TITLE (3)\n",
      "Title 1\n",
      "1, SUBTITLE (4)\n",
      "Subtitle 2\n",
      "Subtitle 2\n",
      "Subtitle 2\n"
     ]
    },
    {
     "data": {
      "text/plain": [
       "23.0"
      ]
     },
     "metadata": {},
     "output_type": "display_data"
    },
    {
     "name": "stdout",
     "output_type": "stream",
     "text": [
      "Subtitle 2\n",
      "10, DATE (16)\n",
      "12, SLIDE_NUMBER (13)\n",
      "\n",
      "slide number2\n",
      "Title 1\n"
     ]
    },
    {
     "data": {
      "text/plain": [
       "'Impact'"
      ]
     },
     "metadata": {},
     "output_type": "display_data"
    },
    {
     "data": {
      "text/plain": [
       "48.0"
      ]
     },
     "metadata": {},
     "output_type": "display_data"
    },
    {
     "name": "stdout",
     "output_type": "stream",
     "text": [
      "1, SUBTITLE (4)\n",
      "Subtitle 2\n"
     ]
    },
    {
     "data": {
      "text/plain": [
       "20.0"
      ]
     },
     "metadata": {},
     "output_type": "display_data"
    },
    {
     "name": "stdout",
     "output_type": "stream",
     "text": [
      "Subtitle 2\n",
      "Subtitle 2\n",
      "Subtitle 2\n",
      "Subtitle 2\n",
      "Subtitle 2\n",
      "Subtitle 2\n",
      "Subtitle 2\n",
      "Subtitle 2\n",
      "Subtitle 2\n",
      "Subtitle 2\n",
      "10, DATE (16)\n",
      "12, SLIDE_NUMBER (13)\n",
      "\n",
      "slide number3\n",
      "0, TITLE (1)\n",
      "Title 1\n"
     ]
    },
    {
     "data": {
      "text/plain": [
       "44.0"
      ]
     },
     "metadata": {},
     "output_type": "display_data"
    },
    {
     "name": "stdout",
     "output_type": "stream",
     "text": [
      "1, OBJECT (7)\n",
      "Content Placeholder 2\n",
      "Content Placeholder 2\n",
      "Content Placeholder 2\n"
     ]
    },
    {
     "data": {
      "text/plain": [
       "22.0"
      ]
     },
     "metadata": {},
     "output_type": "display_data"
    },
    {
     "name": "stdout",
     "output_type": "stream",
     "text": [
      "Content Placeholder 2\n"
     ]
    },
    {
     "data": {
      "text/plain": [
       "19.0"
      ]
     },
     "metadata": {},
     "output_type": "display_data"
    },
    {
     "name": "stdout",
     "output_type": "stream",
     "text": [
      "Content Placeholder 2\n",
      "Content Placeholder 2\n",
      "Content Placeholder 2\n",
      "Content Placeholder 2\n",
      "Content Placeholder 2\n",
      "Content Placeholder 2\n",
      "10, DATE (16)\n",
      "12, SLIDE_NUMBER (13)\n",
      "\n",
      "slide number4\n",
      "0, TITLE (1)\n",
      "Title 1\n",
      "1, OBJECT (7)\n",
      "Content Placeholder 2\n",
      "Content Placeholder 2\n",
      "Content Placeholder 2\n",
      "Content Placeholder 2\n",
      "Content Placeholder 2\n",
      "Content Placeholder 2\n",
      "10, DATE (16)\n",
      "12, SLIDE_NUMBER (13)\n",
      "\n",
      "slide number5\n",
      "0, TITLE (1)\n",
      "Title 1\n",
      "1, OBJECT (7)\n",
      "Content Placeholder 2\n",
      "Content Placeholder 2\n",
      "Content Placeholder 2\n",
      "Content Placeholder 2\n",
      "Content Placeholder 2\n",
      "Content Placeholder 2\n",
      "Content Placeholder 2\n",
      "Content Placeholder 2\n",
      "Content Placeholder 2\n",
      "10, DATE (16)\n",
      "12, SLIDE_NUMBER (13)\n",
      "\n",
      "slide number6\n",
      "0, TITLE (1)\n",
      "Title 1\n",
      "1, OBJECT (7)\n",
      "Content Placeholder 2\n",
      "Content Placeholder 2\n",
      "Content Placeholder 2\n",
      "10, DATE (16)\n",
      "12, SLIDE_NUMBER (13)\n",
      "\n",
      "slide number7\n",
      "0, TITLE (1)\n",
      "Title 1\n",
      "1, OBJECT (7)\n",
      "Content Placeholder 2\n",
      "Content Placeholder 2\n",
      "Content Placeholder 2\n",
      "Content Placeholder 2\n",
      "Content Placeholder 2\n",
      "Content Placeholder 2\n",
      "Content Placeholder 2\n",
      "Content Placeholder 2\n",
      "Content Placeholder 2\n",
      "10, DATE (16)\n",
      "12, SLIDE_NUMBER (13)\n",
      "\n",
      "slide number8\n",
      "0, TITLE (1)\n",
      "Title 1\n",
      "1, OBJECT (7)\n",
      "Content Placeholder 2\n",
      "Content Placeholder 2\n",
      "Content Placeholder 2\n",
      "Content Placeholder 2\n",
      "Content Placeholder 2\n",
      "Content Placeholder 2\n",
      "10, DATE (16)\n",
      "12, SLIDE_NUMBER (13)\n",
      "\n",
      "slide number9\n",
      "0, TITLE (1)\n",
      "Title 1\n",
      "1, OBJECT (7)\n",
      "Content Placeholder 2\n",
      "Content Placeholder 2\n",
      "Content Placeholder 2\n",
      "Content Placeholder 2\n",
      "Content Placeholder 2\n",
      "Content Placeholder 2\n",
      "Content Placeholder 2\n",
      "Content Placeholder 2\n",
      "Content Placeholder 2\n",
      "Content Placeholder 2\n",
      "Content Placeholder 2\n",
      "Content Placeholder 2\n",
      "10, DATE (16)\n",
      "12, SLIDE_NUMBER (13)\n",
      "\n",
      "slide number10\n",
      "0, TITLE (1)\n",
      "Title 1\n",
      "1, OBJECT (7)\n",
      "Content Placeholder 2\n",
      "Content Placeholder 2\n",
      "Content Placeholder 2\n",
      "Content Placeholder 2\n",
      "10, DATE (16)\n",
      "12, SLIDE_NUMBER (13)\n",
      "\n",
      "slide number11\n",
      "0, TITLE (1)\n",
      "Title 1\n",
      "1, OBJECT (7)\n",
      "Content Placeholder 2\n",
      "Content Placeholder 2\n",
      "Content Placeholder 2\n",
      "Content Placeholder 2\n",
      "10, DATE (16)\n",
      "12, SLIDE_NUMBER (13)\n",
      "\n",
      "slide number12\n",
      "0, TITLE (1)\n",
      "Title 1\n",
      "1, OBJECT (7)\n",
      "Content Placeholder 2\n",
      "Content Placeholder 2\n",
      "Content Placeholder 2\n",
      "10, DATE (16)\n",
      "12, SLIDE_NUMBER (13)\n",
      "\n",
      "slide number13\n",
      "0, TITLE (1)\n",
      "Title 1\n",
      "1, OBJECT (7)\n",
      "Content Placeholder 2\n",
      "Content Placeholder 2\n",
      "Content Placeholder 2\n",
      "Content Placeholder 2\n",
      "Content Placeholder 2\n",
      "10, DATE (16)\n",
      "12, SLIDE_NUMBER (13)\n",
      "\n",
      "slide number14\n",
      "0, TITLE (1)\n",
      "Title 1\n"
     ]
    },
    {
     "data": {
      "text/plain": [
       "77.0"
      ]
     },
     "metadata": {},
     "output_type": "display_data"
    },
    {
     "name": "stdout",
     "output_type": "stream",
     "text": [
      "10, DATE (16)\n",
      "12, SLIDE_NUMBER (13)\n",
      "\n",
      "font name\n",
      "['Impact']\n",
      "\n",
      "font size\n",
      "[23.0, 48.0, 20.0, 44.0, 22.0, 19.0, 77.0]\n",
      "\n",
      "hyperlink\n",
      "['https://aws.amazon.com/architecture/?icmpid=link_from_docs_website', 'https://aws.amazon.com/blogs/architecture/?icmpid=link_from_docs_website', 'https://docs.aws.amazon.com/index.html', 'https://awsdocs.s3.amazonaws.com/gettingstarted/latest/awsgsg-intro.pdf']\n",
      "\n",
      "color\n",
      "[(255, 0, 0), (0, 176, 80), (0, 176, 240), (112, 48, 160), (255, 192, 0)]\n",
      "\n",
      "number of font name\n",
      "2\n",
      "\n",
      "number of font size\n",
      "8\n",
      "\n",
      " number of hyperlink\n",
      "4\n",
      "\n",
      " number of color\n",
      "6\n",
      "\n",
      " number of pictures\n",
      "13\n",
      "\n",
      " number of chart\n",
      "0\n",
      "\n",
      " number of tables\n",
      "0\n",
      "\n",
      " maximum font size\n",
      "77.0\n",
      "\n",
      " minimum font size\n",
      "19.0\n",
      "e:\\ppt\\80.pptx\n",
      "\n",
      "slide number1\n",
      "TextBox 2\n"
     ]
    },
    {
     "data": {
      "text/plain": [
       "'Muli Black Bold'"
      ]
     },
     "metadata": {},
     "output_type": "display_data"
    },
    {
     "data": {
      "text/plain": [
       "121.99"
      ]
     },
     "metadata": {},
     "output_type": "display_data"
    },
    {
     "name": "stdout",
     "output_type": "stream",
     "text": [
      "TextBox 2\n",
      "TextBox 4\n"
     ]
    },
    {
     "data": {
      "text/plain": [
       "'Roboto Mono Regular'"
      ]
     },
     "metadata": {},
     "output_type": "display_data"
    },
    {
     "data": {
      "text/plain": [
       "30.0"
      ]
     },
     "metadata": {},
     "output_type": "display_data"
    },
    {
     "name": "stdout",
     "output_type": "stream",
     "text": [
      "TextBox 4\n"
     ]
    },
    {
     "data": {
      "text/plain": [
       "29.99"
      ]
     },
     "metadata": {},
     "output_type": "display_data"
    },
    {
     "name": "stdout",
     "output_type": "stream",
     "text": [
      "10, DATE (16)\n",
      "12, SLIDE_NUMBER (13)\n",
      "\n",
      "slide number2\n",
      "TextBox 5\n"
     ]
    },
    {
     "data": {
      "text/plain": [
       "'Horta Bold'"
      ]
     },
     "metadata": {},
     "output_type": "display_data"
    },
    {
     "data": {
      "text/plain": [
       "127.2"
      ]
     },
     "metadata": {},
     "output_type": "display_data"
    },
    {
     "name": "stdout",
     "output_type": "stream",
     "text": [
      "10, DATE (16)\n",
      "12, SLIDE_NUMBER (13)\n",
      "\n",
      "slide number3\n",
      "TextBox 3\n"
     ]
    },
    {
     "data": {
      "text/plain": [
       "'Barlow Condensed Bold Bold Italics'"
      ]
     },
     "metadata": {},
     "output_type": "display_data"
    },
    {
     "data": {
      "text/plain": [
       "87.09"
      ]
     },
     "metadata": {},
     "output_type": "display_data"
    },
    {
     "name": "stdout",
     "output_type": "stream",
     "text": [
      "TextBox 3\n",
      "TextBox 4\n"
     ]
    },
    {
     "data": {
      "text/plain": [
       "'Muli Bold Bold'"
      ]
     },
     "metadata": {},
     "output_type": "display_data"
    },
    {
     "data": {
      "text/plain": [
       "33.95"
      ]
     },
     "metadata": {},
     "output_type": "display_data"
    },
    {
     "name": "stdout",
     "output_type": "stream",
     "text": [
      "TextBox 4\n",
      "TextBox 4\n"
     ]
    },
    {
     "data": {
      "text/plain": [
       "'Muli Bold'"
      ]
     },
     "metadata": {},
     "output_type": "display_data"
    },
    {
     "name": "stdout",
     "output_type": "stream",
     "text": [
      "TextBox 4\n",
      "10, DATE (16)\n",
      "12, SLIDE_NUMBER (13)\n",
      "\n",
      "slide number4\n",
      "TextBox 5\n"
     ]
    },
    {
     "data": {
      "text/plain": [
       "72.0"
      ]
     },
     "metadata": {},
     "output_type": "display_data"
    },
    {
     "name": "stdout",
     "output_type": "stream",
     "text": [
      "10, DATE (16)\n",
      "12, SLIDE_NUMBER (13)\n",
      "\n",
      "slide number5\n",
      "TextBox 3\n"
     ]
    },
    {
     "data": {
      "text/plain": [
       "'Open Sans Extra Bold'"
      ]
     },
     "metadata": {},
     "output_type": "display_data"
    },
    {
     "data": {
      "text/plain": [
       "90.0"
      ]
     },
     "metadata": {},
     "output_type": "display_data"
    },
    {
     "name": "stdout",
     "output_type": "stream",
     "text": [
      "10, DATE (16)\n",
      "12, SLIDE_NUMBER (13)\n",
      "\n",
      "slide number6\n",
      "TextBox 2\n"
     ]
    },
    {
     "data": {
      "text/plain": [
       "71.99"
      ]
     },
     "metadata": {},
     "output_type": "display_data"
    },
    {
     "name": "stdout",
     "output_type": "stream",
     "text": [
      "10, DATE (16)\n",
      "12, SLIDE_NUMBER (13)\n",
      "\n",
      "slide number7\n",
      "10, DATE (16)\n",
      "12, SLIDE_NUMBER (13)\n",
      "\n",
      "slide number8\n",
      "TextBox 2\n",
      "TextBox 3\n"
     ]
    },
    {
     "data": {
      "text/plain": [
       "24.97"
      ]
     },
     "metadata": {},
     "output_type": "display_data"
    },
    {
     "name": "stdout",
     "output_type": "stream",
     "text": [
      "TextBox 3\n",
      "TextBox 3\n",
      "TextBox 3\n",
      "TextBox 3\n",
      "TextBox 3\n",
      "TextBox 4\n"
     ]
    },
    {
     "data": {
      "text/plain": [
       "'Open Sans'"
      ]
     },
     "metadata": {},
     "output_type": "display_data"
    },
    {
     "data": {
      "text/plain": [
       "52.0"
      ]
     },
     "metadata": {},
     "output_type": "display_data"
    },
    {
     "name": "stdout",
     "output_type": "stream",
     "text": [
      "TextBox 5\n",
      "TextBox 6\n"
     ]
    },
    {
     "data": {
      "text/plain": [
       "24.51"
      ]
     },
     "metadata": {},
     "output_type": "display_data"
    },
    {
     "name": "stdout",
     "output_type": "stream",
     "text": [
      "10, DATE (16)\n",
      "12, SLIDE_NUMBER (13)\n",
      "\n",
      "slide number9\n",
      "TextBox 2\n",
      "10, DATE (16)\n",
      "12, SLIDE_NUMBER (13)\n",
      "\n",
      "slide number10\n",
      "TextBox 2\n"
     ]
    },
    {
     "data": {
      "text/plain": [
       "'Raleway Bold'"
      ]
     },
     "metadata": {},
     "output_type": "display_data"
    },
    {
     "data": {
      "text/plain": [
       "48.0"
      ]
     },
     "metadata": {},
     "output_type": "display_data"
    },
    {
     "name": "stdout",
     "output_type": "stream",
     "text": [
      "10, DATE (16)\n",
      "12, SLIDE_NUMBER (13)\n",
      "\n",
      "slide number11\n",
      "TextBox 2\n",
      "TextBox 3\n"
     ]
    },
    {
     "data": {
      "text/plain": [
       "25.86"
      ]
     },
     "metadata": {},
     "output_type": "display_data"
    },
    {
     "name": "stdout",
     "output_type": "stream",
     "text": [
      "TextBox 3\n",
      "TextBox 3\n",
      "TextBox 3\n",
      "10, DATE (16)\n",
      "12, SLIDE_NUMBER (13)\n",
      "\n",
      "slide number12\n",
      "TextBox 2\n",
      "TextBox 3\n",
      "TextBox 3\n",
      "10, DATE (16)\n",
      "12, SLIDE_NUMBER (13)\n",
      "\n",
      "slide number13\n",
      "10, DATE (16)\n",
      "12, SLIDE_NUMBER (13)\n",
      "\n",
      "font name\n",
      "['Muli Black Bold', 'Roboto Mono Regular', 'Horta Bold', 'Barlow Condensed Bold Bold Italics', 'Muli Bold Bold', 'Muli Bold', 'Open Sans Extra Bold', 'Open Sans', 'Raleway Bold']\n",
      "\n",
      "font size\n",
      "[121.99, 30.0, 29.99, 127.2, 87.09, 33.95, 72.0, 90.0, 71.99, 24.97, 52.0, 24.51, 48.0, 25.86]\n",
      "\n",
      "hyperlink\n",
      "[]\n",
      "\n",
      "color\n",
      "[(255, 255, 255), (40, 255, 13), (255, 22, 22), (255, 222, 89), (125, 54, 228), (49, 18, 246), (0, 0, 0), (251, 251, 245)]\n",
      "\n",
      "number of font name\n",
      "10\n",
      "\n",
      "number of font size\n",
      "15\n",
      "\n",
      " number of hyperlink\n",
      "0\n",
      "\n",
      " number of color\n",
      "9\n",
      "\n",
      " number of pictures\n",
      "9\n",
      "\n",
      " number of chart\n",
      "0\n",
      "\n",
      " number of tables\n",
      "0\n",
      "\n",
      " maximum font size\n",
      "127.2\n",
      "\n",
      " minimum font size\n",
      "24.51\n",
      "e:\\ppt\\81.pptx\n",
      "\n",
      "slide number1\n",
      "0, CENTER_TITLE (3)\n",
      "Title 1\n"
     ]
    },
    {
     "data": {
      "text/plain": [
       "'Franklin Gothic Book'"
      ]
     },
     "metadata": {},
     "output_type": "display_data"
    },
    {
     "data": {
      "text/plain": [
       "40.0"
      ]
     },
     "metadata": {},
     "output_type": "display_data"
    },
    {
     "name": "stdout",
     "output_type": "stream",
     "text": [
      "1, SUBTITLE (4)\n",
      "Subtitle 2\n"
     ]
    },
    {
     "data": {
      "text/plain": [
       "16.0"
      ]
     },
     "metadata": {},
     "output_type": "display_data"
    },
    {
     "name": "stdout",
     "output_type": "stream",
     "text": [
      "Subtitle 2\n",
      "Subtitle 2\n",
      "10, DATE (16)\n",
      "12, SLIDE_NUMBER (13)\n",
      "\n",
      "slide number2\n",
      "0, TITLE (1)\n",
      "Title 1\n"
     ]
    },
    {
     "data": {
      "text/plain": [
       "36.0"
      ]
     },
     "metadata": {},
     "output_type": "display_data"
    },
    {
     "name": "stdout",
     "output_type": "stream",
     "text": [
      "Title 1\n",
      "Title 1\n",
      "1, OBJECT (7)\n",
      "Content Placeholder 2\n"
     ]
    },
    {
     "data": {
      "text/plain": [
       "18.0"
      ]
     },
     "metadata": {},
     "output_type": "display_data"
    },
    {
     "name": "stdout",
     "output_type": "stream",
     "text": [
      "Content Placeholder 2\n",
      "10, DATE (16)\n",
      "12, SLIDE_NUMBER (13)\n",
      "\n",
      "slide number3\n",
      "0, TITLE (1)\n",
      "Title 1\n",
      "1, OBJECT (7)\n",
      "Content Placeholder 2\n",
      "Content Placeholder 2\n",
      "Content Placeholder 2\n",
      "Content Placeholder 2\n",
      "Content Placeholder 2\n",
      "Content Placeholder 2\n",
      "10, DATE (16)\n",
      "12, SLIDE_NUMBER (13)\n",
      "\n",
      "slide number4\n",
      "0, TITLE (1)\n",
      "Title 1\n",
      "1, OBJECT (7)\n",
      "Content Placeholder 2\n",
      "Content Placeholder 2\n",
      "10, DATE (16)\n",
      "12, SLIDE_NUMBER (13)\n",
      "\n",
      "slide number5\n",
      "0, TITLE (1)\n",
      "Title 1\n",
      "2, OBJECT (7)\n",
      "Content Placeholder 3\n",
      "Content Placeholder 3\n",
      "Content Placeholder 3\n",
      "Content Placeholder 3\n",
      "1, BODY (2)\n",
      "Text Placeholder 2\n"
     ]
    },
    {
     "data": {
      "text/plain": [
       "'Arial Black'"
      ]
     },
     "metadata": {},
     "output_type": "display_data"
    },
    {
     "name": "stdout",
     "output_type": "stream",
     "text": [
      "3, BODY (2)\n",
      "Text Placeholder 4\n",
      "4, OBJECT (7)\n",
      "Content Placeholder 5\n",
      "Content Placeholder 5\n",
      "Content Placeholder 5\n",
      "Content Placeholder 5\n",
      "10, DATE (16)\n",
      "12, SLIDE_NUMBER (13)\n",
      "\n",
      "slide number6\n",
      "0, CENTER_TITLE (3)\n",
      "Title 1\n"
     ]
    },
    {
     "data": {
      "text/plain": [
       "52.0"
      ]
     },
     "metadata": {},
     "output_type": "display_data"
    },
    {
     "name": "stdout",
     "output_type": "stream",
     "text": [
      "1, SUBTITLE (4)\n",
      "Subtitle 7\n",
      "Subtitle 7\n",
      "Subtitle 7\n",
      "Subtitle 7\n",
      "Subtitle 7\n",
      "Subtitle 7\n",
      "Subtitle 7\n",
      "10, DATE (16)\n",
      "12, SLIDE_NUMBER (13)\n",
      "\n",
      "slide number7\n",
      "0, CENTER_TITLE (3)\n",
      "Title 1\n"
     ]
    },
    {
     "data": {
      "text/plain": [
       "48.0"
      ]
     },
     "metadata": {},
     "output_type": "display_data"
    },
    {
     "name": "stdout",
     "output_type": "stream",
     "text": [
      "1, SUBTITLE (4)\n",
      "Subtitle 2\n"
     ]
    },
    {
     "data": {
      "text/plain": [
       "20.0"
      ]
     },
     "metadata": {},
     "output_type": "display_data"
    },
    {
     "name": "stdout",
     "output_type": "stream",
     "text": [
      "Subtitle 2\n",
      "Subtitle 2\n",
      "Subtitle 2\n",
      "Subtitle 2\n",
      "10, DATE (16)\n",
      "12, SLIDE_NUMBER (13)\n",
      "\n",
      "slide number8\n",
      "0, TITLE (1)\n",
      "Title 1\n"
     ]
    },
    {
     "data": {
      "text/plain": [
       "34.0"
      ]
     },
     "metadata": {},
     "output_type": "display_data"
    },
    {
     "name": "stdout",
     "output_type": "stream",
     "text": [
      "1, OBJECT (7)\n",
      "no textframe\n",
      "10, DATE (16)\n",
      "12, SLIDE_NUMBER (13)\n",
      "\n",
      "slide number9\n",
      "0, TITLE (1)\n",
      "Title 1\n",
      "TextBox 2\n",
      "TextBox 2\n",
      "TextBox 2\n",
      "10, DATE (16)\n",
      "12, SLIDE_NUMBER (13)\n",
      "\n",
      "slide number10\n",
      "1, OBJECT (7)\n",
      "no textframe\n",
      "0, TITLE (1)\n",
      "Title 1\n"
     ]
    },
    {
     "data": {
      "text/plain": [
       "'Comic Sans MS'"
      ]
     },
     "metadata": {},
     "output_type": "display_data"
    },
    {
     "name": "stdout",
     "output_type": "stream",
     "text": [
      "Title 1\n",
      "10, DATE (16)\n",
      "12, SLIDE_NUMBER (13)\n",
      "\n",
      "slide number11\n",
      "0, TITLE (1)\n",
      "Title 1\n",
      "1, OBJECT (7)\n",
      "Content Placeholder 2\n",
      "Content Placeholder 2\n",
      "Content Placeholder 2\n",
      "Content Placeholder 2\n",
      "10, DATE (16)\n",
      "12, SLIDE_NUMBER (13)\n",
      "\n",
      "slide number12\n",
      "0, TITLE (1)\n",
      "Title 1\n"
     ]
    },
    {
     "data": {
      "text/plain": [
       "66.0"
      ]
     },
     "metadata": {},
     "output_type": "display_data"
    },
    {
     "name": "stdout",
     "output_type": "stream",
     "text": [
      "1, OBJECT (7)\n",
      "Content Placeholder 2\n",
      "Content Placeholder 2\n",
      "Content Placeholder 2\n",
      "Content Placeholder 2\n",
      "10, DATE (16)\n",
      "12, SLIDE_NUMBER (13)\n",
      "\n",
      "slide number13\n",
      "0, TITLE (1)\n",
      "Title 1\n"
     ]
    },
    {
     "data": {
      "text/plain": [
       "60.0"
      ]
     },
     "metadata": {},
     "output_type": "display_data"
    },
    {
     "name": "stdout",
     "output_type": "stream",
     "text": [
      "1, OBJECT (7)\n",
      "no textframe\n",
      "TextBox 4\n"
     ]
    },
    {
     "data": {
      "text/plain": [
       "24.0"
      ]
     },
     "metadata": {},
     "output_type": "display_data"
    },
    {
     "name": "stdout",
     "output_type": "stream",
     "text": [
      "10, DATE (16)\n",
      "12, SLIDE_NUMBER (13)\n",
      "\n",
      "slide number14\n",
      "0, TITLE (1)\n",
      "Title 1\n"
     ]
    },
    {
     "data": {
      "text/plain": [
       "54.0"
      ]
     },
     "metadata": {},
     "output_type": "display_data"
    },
    {
     "name": "stdout",
     "output_type": "stream",
     "text": [
      "1, OBJECT (7)\n",
      "no textframe\n",
      "10, DATE (16)\n",
      "12, SLIDE_NUMBER (13)\n",
      "\n",
      "slide number15\n",
      "0, TITLE (1)\n",
      "Title 1\n",
      "1, OBJECT (7)\n",
      "Content Placeholder 2\n",
      "Content Placeholder 2\n",
      "Content Placeholder 2\n",
      "Content Placeholder 2\n",
      "Content Placeholder 2\n",
      "10, DATE (16)\n",
      "12, SLIDE_NUMBER (13)\n",
      "\n",
      "slide number16\n",
      "1, OBJECT (7)\n",
      "no textframe\n",
      "0, TITLE (1)\n",
      "Title 1\n",
      "TextBox 4\n"
     ]
    },
    {
     "data": {
      "text/plain": [
       "28.0"
      ]
     },
     "metadata": {},
     "output_type": "display_data"
    },
    {
     "name": "stdout",
     "output_type": "stream",
     "text": [
      "TextBox 4\n",
      "TextBox 4\n",
      "TextBox 4\n",
      "10, DATE (16)\n",
      "12, SLIDE_NUMBER (13)\n",
      "\n",
      "slide number17\n",
      "1, OBJECT (7)\n",
      "no textframe\n",
      "0, TITLE (1)\n",
      "Title 1\n",
      "10, DATE (16)\n",
      "12, SLIDE_NUMBER (13)\n",
      "\n",
      "font name\n",
      "['Franklin Gothic Book', 'Arial Black', 'Comic Sans MS']\n",
      "\n",
      "font size\n",
      "[40.0, 16.0, 36.0, 18.0, 52.0, 48.0, 20.0, 34.0, 66.0, 60.0, 24.0, 54.0, 28.0]\n",
      "\n",
      "hyperlink\n",
      "[]\n",
      "\n",
      "color\n",
      "[(255, 0, 0), (0, 176, 80), (0, 176, 240), (255, 255, 0), (255, 255, 255)]\n",
      "\n",
      "number of font name\n",
      "4\n",
      "\n",
      "number of font size\n",
      "14\n",
      "\n",
      " number of hyperlink\n",
      "0\n",
      "\n",
      " number of color\n",
      "6\n",
      "\n",
      " number of pictures\n",
      "11\n",
      "\n",
      " number of chart\n",
      "0\n",
      "\n",
      " number of tables\n",
      "0\n",
      "\n",
      " maximum font size\n",
      "66.0\n",
      "\n",
      " minimum font size\n",
      "16.0\n",
      "e:\\ppt\\82.pptx\n",
      "\n",
      "slide number1\n",
      "TextBox 1\n"
     ]
    },
    {
     "data": {
      "text/plain": [
       "20.0"
      ]
     },
     "metadata": {},
     "output_type": "display_data"
    },
    {
     "name": "stdout",
     "output_type": "stream",
     "text": [
      "TextBox 1\n",
      "TextBox 1\n",
      "TextBox 1\n",
      "TextBox 1\n",
      "TextBox 1\n",
      "TextBox 1\n",
      "\n",
      "slide number2\n",
      "object 3\n"
     ]
    },
    {
     "data": {
      "text/plain": [
       "'Times New Roman'"
      ]
     },
     "metadata": {},
     "output_type": "display_data"
    },
    {
     "data": {
      "text/plain": [
       "10.0"
      ]
     },
     "metadata": {},
     "output_type": "display_data"
    },
    {
     "name": "stdout",
     "output_type": "stream",
     "text": [
      "object 3\n"
     ]
    },
    {
     "data": {
      "text/plain": [
       "8.0"
      ]
     },
     "metadata": {},
     "output_type": "display_data"
    },
    {
     "name": "stdout",
     "output_type": "stream",
     "text": [
      "object 3\n",
      "object 3\n",
      "object 3\n",
      "object 3\n",
      "object 3\n",
      "object 3\n",
      "object 3\n"
     ]
    },
    {
     "data": {
      "text/plain": [
       "9.0"
      ]
     },
     "metadata": {},
     "output_type": "display_data"
    },
    {
     "name": "stdout",
     "output_type": "stream",
     "text": [
      "object 3\n",
      "object 3\n",
      "object 3\n",
      "object 3\n",
      "object 3\n",
      "object 3\n",
      "object 3\n",
      "object 3\n",
      "object 3\n",
      "object 3\n",
      "object 3\n",
      "object 3\n",
      "object 3\n",
      "object 3\n",
      "object 3\n",
      "object 3\n",
      "object 3\n",
      "object 3\n",
      "object 3\n",
      "object 3\n",
      "object 3\n",
      "object 3\n",
      "object 3\n",
      "object 3\n",
      "object 3\n",
      "object 3\n",
      "object 8\n",
      "object 8\n",
      "object 8\n",
      "object 8\n",
      "object 8\n",
      "object 8\n",
      "object 8\n",
      "object 8\n",
      "\n",
      "slide number3\n",
      "object 5\n",
      "object 5\n",
      "object 5\n",
      "object 5\n",
      "object 5\n",
      "object 5\n",
      "object 5\n",
      "object 5\n",
      "object 5\n",
      "object 5\n",
      "object 5\n",
      "object 5\n",
      "object 5\n",
      "object 5\n",
      "object 5\n",
      "object 5\n",
      "object 5\n",
      "object 5\n",
      "object 5\n",
      "object 5\n",
      "object 5\n",
      "object 5\n",
      "object 5\n",
      "object 5\n",
      "object 5\n",
      "object 5\n",
      "object 5\n",
      "object 5\n",
      "object 5\n",
      "object 5\n",
      "object 5\n",
      "object 5\n",
      "object 5\n",
      "object 5\n",
      "object 5\n",
      "object 5\n",
      "object 5\n",
      "object 5\n",
      "object 5\n",
      "object 5\n",
      "object 5\n",
      "object 5\n",
      "object 5\n",
      "object 5\n",
      "object 5\n",
      "object 10\n",
      "object 10\n",
      "object 10\n",
      "object 10\n",
      "object 10\n",
      "object 10\n",
      "object 10\n",
      "object 10\n",
      "object 12\n",
      "object 12\n",
      "object 12\n",
      "object 13\n",
      "object 13\n",
      "object 13\n",
      "object 13\n",
      "object 13\n",
      "object 14\n",
      "object 14\n",
      "object 14\n",
      "object 15\n",
      "object 15\n",
      "object 15\n",
      "object 15\n",
      "object 15\n",
      "object 15\n",
      "object 15\n",
      "object 15\n",
      "object 16\n",
      "object 16\n",
      "object 16\n",
      "object 16\n",
      "object 16\n",
      "object 16\n",
      "object 17\n",
      "object 17\n",
      "object 17\n",
      "object 17\n",
      "object 17\n",
      "object 17\n",
      "object 17\n",
      "object 17\n",
      "object 17\n",
      "object 17\n",
      "object 17\n",
      "object 17\n",
      "object 17\n",
      "object 17\n",
      "object 18\n",
      "object 18\n",
      "object 18\n",
      "object 18\n",
      "object 18\n",
      "object 18\n",
      "object 19\n",
      "object 19\n",
      "object 19\n",
      "object 19\n",
      "object 19\n",
      "object 19\n",
      "object 19\n",
      "object 19\n",
      "object 19\n",
      "object 19\n",
      "object 19\n",
      "object 20\n",
      "object 20\n",
      "object 20\n",
      "object 20\n",
      "object 20\n",
      "object 20\n",
      "\n",
      "slide number4\n",
      "object 2\n",
      "object 2\n",
      "object 2\n",
      "object 2\n",
      "object 2\n",
      "object 2\n",
      "object 2\n",
      "object 2\n",
      "object 4\n",
      "object 4\n",
      "object 4\n",
      "object 5\n",
      "object 5\n",
      "object 5\n",
      "object 6\n",
      "object 6\n",
      "object 6\n",
      "object 7\n",
      "object 7\n",
      "object 7\n",
      "object 8\n",
      "object 8\n",
      "object 8\n",
      "object 9\n",
      "object 9\n",
      "object 9\n",
      "object 10\n",
      "object 10\n",
      "object 10\n",
      "object 11\n",
      "object 11\n",
      "object 12\n",
      "object 12\n",
      "object 12\n",
      "object 13\n",
      "object 13\n",
      "object 13\n",
      "object 13\n",
      "object 14\n",
      "object 14\n",
      "object 14\n",
      "object 15\n",
      "object 15\n",
      "object 15\n",
      "object 21\n",
      "object 21\n",
      "object 21\n",
      "object 21\n",
      "object 21\n",
      "object 21\n",
      "object 21\n",
      "object 21\n",
      "object 21\n",
      "object 21\n",
      "object 21\n",
      "object 21\n",
      "object 21\n",
      "object 21\n",
      "object 21\n",
      "object 21\n",
      "object 21\n",
      "object 21\n",
      "object 21\n",
      "object 21\n",
      "object 21\n",
      "object 21\n",
      "object 21\n",
      "object 21\n",
      "object 21\n",
      "object 21\n",
      "object 21\n",
      "object 21\n",
      "object 21\n",
      "object 21\n",
      "object 21\n",
      "object 21\n",
      "object 21\n",
      "object 21\n",
      "object 21\n",
      "object 21\n",
      "object 21\n",
      "object 21\n",
      "object 21\n",
      "object 21\n",
      "object 21\n",
      "object 21\n",
      "object 21\n",
      "object 21\n",
      "object 21\n",
      "object 21\n",
      "object 21\n",
      "object 21\n",
      "object 21\n",
      "object 21\n",
      "object 21\n",
      "object 21\n",
      "object 21\n",
      "\n",
      "slide number5\n",
      "object 3\n",
      "object 3\n",
      "object 3\n",
      "object 3\n",
      "object 3\n",
      "object 3\n",
      "object 3\n",
      "object 3\n",
      "object 3\n",
      "object 3\n",
      "object 3\n",
      "object 3\n",
      "object 3\n",
      "object 3\n",
      "object 3\n",
      "object 3\n",
      "object 3\n",
      "object 3\n",
      "object 3\n",
      "object 3\n",
      "object 3\n",
      "object 9\n",
      "object 9\n",
      "object 9\n",
      "object 9\n",
      "object 9\n",
      "object 9\n",
      "object 40\n",
      "\n",
      "slide number6\n",
      "object 3\n",
      "object 3\n",
      "object 3\n",
      "object 3\n",
      "object 3\n",
      "object 5\n",
      "object 6\n",
      "object 7\n",
      "object 8\n",
      "object 9\n",
      "object 10\n",
      "object 11\n",
      "object 12\n",
      "object 16\n",
      "object 16\n",
      "object 16\n",
      "object 16\n",
      "object 16\n",
      "object 17\n",
      "object 17\n",
      "object 17\n",
      "object 17\n",
      "object 19\n",
      "object 19\n",
      "object 19\n",
      "object 19\n",
      "object 19\n",
      "object 19\n",
      "object 20\n",
      "object 20\n",
      "object 20\n",
      "object 22\n",
      "object 22\n",
      "object 22\n",
      "object 22\n",
      "object 22\n",
      "object 23\n",
      "object 23\n",
      "object 24\n",
      "object 25\n",
      "object 25\n",
      "object 25\n",
      "object 25\n",
      "object 25\n",
      "object 25\n",
      "object 25\n",
      "object 25\n",
      "object 25\n",
      "object 25\n",
      "object 25\n",
      "object 25\n",
      "object 25\n",
      "object 25\n",
      "object 26\n",
      "object 27\n",
      "object 33\n",
      "object 33\n",
      "object 33\n",
      "object 33\n",
      "object 33\n",
      "object 33\n",
      "object 37\n",
      "object 37\n",
      "object 37\n",
      "object 49\n",
      "object 49\n",
      "object 49\n",
      "object 49\n",
      "object 49\n",
      "object 49\n",
      "object 49\n",
      "object 49\n",
      "object 49\n",
      "object 49\n",
      "object 51\n",
      "object 51\n",
      "object 51\n",
      "object 53\n",
      "object 53\n",
      "object 53\n",
      "object 53\n",
      "object 55\n",
      "object 55\n",
      "object 55\n",
      "object 55\n",
      "object 55\n",
      "object 55\n",
      "object 57\n",
      "object 57\n",
      "object 57\n",
      "object 57\n",
      "object 59\n",
      "object 59\n",
      "object 59\n",
      "object 59\n",
      "object 61\n",
      "\n",
      "slide number7\n",
      "object 2\n",
      "object 2\n",
      "object 2\n",
      "object 2\n",
      "object 2\n",
      "object 2\n",
      "object 2\n",
      "object 2\n",
      "object 2\n",
      "object 2\n",
      "object 2\n",
      "object 2\n",
      "object 2\n",
      "object 2\n",
      "object 2\n",
      "object 2\n",
      "object 2\n",
      "object 2\n",
      "object 2\n",
      "object 2\n",
      "object 2\n",
      "object 2\n",
      "object 2\n",
      "object 2\n",
      "object 2\n",
      "object 2\n",
      "object 2\n",
      "object 2\n",
      "object 2\n",
      "object 2\n",
      "object 2\n",
      "object 2\n",
      "object 2\n",
      "object 2\n",
      "object 2\n",
      "object 2\n",
      "object 2\n",
      "object 2\n",
      "object 2\n",
      "object 2\n",
      "object 2\n",
      "object 2\n",
      "object 2\n",
      "object 2\n",
      "object 2\n",
      "object 2\n",
      "object 2\n",
      "object 2\n",
      "object 2\n",
      "object 2\n",
      "object 7\n",
      "object 7\n",
      "object 7\n",
      "object 7\n",
      "object 7\n",
      "object 7\n",
      "object 7\n",
      "object 7\n",
      "object 7\n",
      "object 7\n",
      "object 7\n",
      "object 7\n",
      "object 7\n",
      "object 7\n",
      "object 7\n",
      "object 7\n",
      "object 7\n",
      "object 7\n",
      "object 7\n",
      "object 7\n",
      "object 7\n",
      "object 7\n",
      "object 7\n",
      "object 7\n",
      "object 7\n",
      "object 7\n",
      "object 7\n",
      "object 7\n",
      "object 7\n",
      "object 7\n",
      "object 7\n",
      "object 7\n",
      "object 7\n",
      "object 7\n",
      "object 7\n",
      "object 7\n",
      "object 7\n",
      "object 7\n",
      "object 7\n",
      "object 7\n",
      "object 7\n",
      "object 7\n",
      "object 7\n",
      "object 7\n",
      "object 7\n",
      "object 7\n",
      "object 7\n",
      "object 7\n",
      "object 7\n",
      "object 7\n",
      "object 7\n",
      "object 7\n",
      "object 7\n",
      "object 7\n",
      "object 7\n",
      "object 7\n",
      "object 7\n",
      "object 7\n",
      "object 7\n",
      "object 7\n",
      "object 7\n",
      "object 7\n",
      "object 7\n",
      "object 7\n",
      "object 7\n",
      "object 7\n",
      "object 7\n",
      "object 7\n",
      "object 7\n",
      "object 7\n",
      "object 7\n",
      "object 7\n",
      "object 7\n",
      "object 7\n",
      "object 7\n",
      "object 7\n",
      "\n",
      "slide number8\n",
      "object 2\n",
      "object 2\n",
      "object 2\n",
      "object 2\n",
      "object 2\n",
      "object 2\n",
      "object 2\n",
      "object 2\n",
      "object 2\n",
      "object 2\n",
      "object 2\n",
      "object 2\n",
      "object 2\n",
      "object 2\n",
      "object 2\n",
      "object 2\n",
      "object 2\n",
      "object 2\n",
      "object 2\n",
      "object 2\n",
      "object 2\n",
      "object 2\n",
      "object 2\n",
      "object 2\n",
      "object 2\n",
      "object 2\n",
      "object 2\n",
      "object 2\n",
      "object 2\n",
      "object 2\n",
      "object 2\n",
      "object 2\n",
      "object 2\n",
      "object 2\n",
      "object 2\n",
      "object 2\n",
      "object 2\n",
      "object 2\n",
      "object 2\n",
      "object 2\n",
      "object 2\n",
      "object 2\n",
      "object 2\n",
      "object 2\n",
      "object 2\n",
      "object 2\n",
      "object 2\n",
      "object 2\n",
      "object 2\n",
      "object 2\n",
      "object 2\n",
      "object 2\n",
      "object 2\n",
      "object 2\n",
      "object 2\n",
      "object 2\n",
      "object 2\n",
      "object 2\n",
      "object 2\n",
      "object 2\n",
      "object 2\n",
      "object 2\n",
      "object 7\n",
      "object 7\n",
      "object 7\n",
      "object 7\n",
      "object 7\n",
      "object 7\n",
      "object 7\n",
      "object 7\n",
      "object 9\n",
      "object 9\n",
      "object 9\n",
      "object 9\n",
      "object 9\n",
      "object 9\n",
      "object 9\n",
      "object 9\n",
      "object 9\n",
      "object 9\n",
      "object 9\n",
      "\n",
      "slide number9\n",
      "object 3\n",
      "object 3\n",
      "object 3\n",
      "object 3\n",
      "object 3\n",
      "object 3\n",
      "object 3\n",
      "object 3\n",
      "object 3\n",
      "object 3\n",
      "object 3\n",
      "object 3\n",
      "object 4\n",
      "object 4\n",
      "object 4\n",
      "object 5\n",
      "object 5\n",
      "object 5\n",
      "object 6\n",
      "object 6\n",
      "object 6\n",
      "object 7\n",
      "object 7\n",
      "object 7\n",
      "object 11\n",
      "object 11\n",
      "object 11\n",
      "object 11\n",
      "object 11\n",
      "object 11\n",
      "object 11\n",
      "object 11\n",
      "object 11\n",
      "object 11\n",
      "object 11\n",
      "object 11\n",
      "object 11\n",
      "object 11\n",
      "object 11\n",
      "object 11\n",
      "object 11\n",
      "object 11\n",
      "object 11\n",
      "object 11\n",
      "object 11\n",
      "object 11\n",
      "object 11\n",
      "object 11\n",
      "object 11\n",
      "object 11\n",
      "object 11\n",
      "object 13\n",
      "object 13\n",
      "object 13\n",
      "object 13\n",
      "object 13\n",
      "object 13\n",
      "object 13\n",
      "object 13\n",
      "object 13\n",
      "object 13\n",
      "object 13\n",
      "object 13\n",
      "object 13\n",
      "object 13\n",
      "object 13\n",
      "object 13\n",
      "object 13\n",
      "object 13\n",
      "object 13\n",
      "object 13\n",
      "object 13\n",
      "object 13\n",
      "object 13\n",
      "object 13\n",
      "object 13\n",
      "object 13\n",
      "object 13\n",
      "object 13\n",
      "object 13\n",
      "object 13\n",
      "object 15\n",
      "object 15\n",
      "object 15\n",
      "object 15\n",
      "object 15\n",
      "object 15\n",
      "object 15\n",
      "object 15\n",
      "object 15\n",
      "object 15\n",
      "object 15\n",
      "object 15\n",
      "object 15\n",
      "object 15\n",
      "object 15\n",
      "object 15\n",
      "object 15\n",
      "object 15\n",
      "object 15\n",
      "object 15\n",
      "object 15\n",
      "object 15\n",
      "object 15\n",
      "object 15\n",
      "object 15\n",
      "object 15\n",
      "object 15\n",
      "object 15\n",
      "object 15\n",
      "object 15\n",
      "object 15\n",
      "object 15\n",
      "object 15\n",
      "object 15\n",
      "object 15\n",
      "object 15\n",
      "object 15\n",
      "object 15\n",
      "object 15\n",
      "object 21\n",
      "object 21\n",
      "object 21\n",
      "object 21\n",
      "object 21\n",
      "object 21\n",
      "object 21\n",
      "object 21\n",
      "object 3\n",
      "object 3\n",
      "object 3\n",
      "object 3\n",
      "object 3\n",
      "object 3\n",
      "object 3\n",
      "object 3\n",
      "object 3\n",
      "object 3\n",
      "object 3\n",
      "object 3\n",
      "object 4\n",
      "object 4\n",
      "object 4\n",
      "object 5\n",
      "object 5\n",
      "object 5\n",
      "object 6\n",
      "object 6\n",
      "object 6\n",
      "object 7\n",
      "object 7\n",
      "object 7\n",
      "object 11\n",
      "object 11\n",
      "object 11\n",
      "object 11\n",
      "object 11\n",
      "object 11\n",
      "object 11\n",
      "object 11\n",
      "object 11\n",
      "object 11\n",
      "object 11\n",
      "object 11\n",
      "object 11\n",
      "object 11\n",
      "object 11\n",
      "object 11\n",
      "object 11\n",
      "object 11\n",
      "object 11\n",
      "object 11\n",
      "object 11\n",
      "object 11\n",
      "object 11\n",
      "object 11\n",
      "object 11\n",
      "object 11\n",
      "object 11\n",
      "object 13\n",
      "object 13\n",
      "object 13\n",
      "object 13\n",
      "object 13\n",
      "object 13\n",
      "object 13\n",
      "object 13\n",
      "object 13\n",
      "object 13\n",
      "object 13\n",
      "object 13\n",
      "object 13\n",
      "object 13\n",
      "object 13\n",
      "object 13\n",
      "object 13\n",
      "object 13\n",
      "object 13\n",
      "object 13\n",
      "object 13\n",
      "object 13\n",
      "object 13\n",
      "object 13\n",
      "object 13\n",
      "object 13\n",
      "object 13\n",
      "object 13\n",
      "object 13\n",
      "object 13\n",
      "object 15\n",
      "object 15\n",
      "object 15\n",
      "object 15\n",
      "object 15\n",
      "object 15\n",
      "object 15\n",
      "object 15\n",
      "object 15\n",
      "object 15\n",
      "object 15\n",
      "object 15\n",
      "object 15\n",
      "object 15\n",
      "object 15\n",
      "object 15\n",
      "object 15\n",
      "object 15\n",
      "object 15\n",
      "object 15\n",
      "object 15\n",
      "object 15\n",
      "object 15\n",
      "object 15\n",
      "object 15\n",
      "object 15\n",
      "object 15\n",
      "object 15\n",
      "object 15\n",
      "object 15\n",
      "object 15\n",
      "object 15\n",
      "object 15\n",
      "object 15\n",
      "object 15\n",
      "object 15\n",
      "object 15\n",
      "object 15\n",
      "object 15\n",
      "object 21\n",
      "object 21\n",
      "object 21\n",
      "object 21\n",
      "object 21\n",
      "object 21\n",
      "object 21\n",
      "object 21\n",
      "object 24\n",
      "object 24\n",
      "object 24\n",
      "object 24\n",
      "object 24\n",
      "object 24\n",
      "object 24\n",
      "object 24\n",
      "object 24\n",
      "object 24\n",
      "object 24\n",
      "object 24\n",
      "object 24\n",
      "object 24\n",
      "object 24\n",
      "object 24\n",
      "object 24\n",
      "object 24\n",
      "object 24\n",
      "object 24\n",
      "object 24\n",
      "\n",
      "slide number10\n",
      "object 3\n",
      "object 3\n",
      "object 3\n",
      "object 3\n",
      "object 3\n",
      "object 3\n",
      "object 3\n",
      "object 3\n",
      "object 3\n",
      "object 3\n",
      "object 3\n",
      "object 15\n",
      "object 15\n",
      "object 15\n",
      "object 15\n",
      "object 15\n",
      "object 15\n",
      "object 15\n",
      "object 15\n",
      "object 15\n",
      "object 15\n",
      "object 15\n",
      "object 15\n",
      "object 15\n",
      "object 15\n",
      "object 15\n",
      "object 15\n",
      "object 15\n",
      "object 15\n",
      "object 15\n",
      "object 15\n",
      "object 15\n",
      "object 15\n",
      "object 15\n",
      "object 15\n",
      "object 15\n",
      "object 15\n",
      "object 15\n",
      "object 15\n",
      "object 15\n",
      "object 15\n",
      "object 15\n",
      "object 15\n",
      "object 15\n",
      "object 15\n",
      "object 15\n",
      "object 15\n",
      "object 15\n",
      "object 15\n",
      "object 15\n",
      "object 15\n",
      "object 15\n",
      "\n",
      "slide number11\n",
      "object 2\n",
      "object 2\n",
      "object 2\n",
      "object 2\n",
      "object 2\n",
      "object 2\n"
     ]
    },
    {
     "data": {
      "text/plain": [
       "'Arial'"
      ]
     },
     "metadata": {},
     "output_type": "display_data"
    },
    {
     "data": {
      "text/plain": [
       "12.0"
      ]
     },
     "metadata": {},
     "output_type": "display_data"
    },
    {
     "name": "stdout",
     "output_type": "stream",
     "text": [
      "object 2\n",
      "object 2\n",
      "object 2\n",
      "object 2\n",
      "object 2\n",
      "object 2\n",
      "object 2\n",
      "object 8\n",
      "object 8\n",
      "object 8\n",
      "object 8\n",
      "object 8\n",
      "\n",
      "slide number12\n",
      "object 2\n",
      "object 2\n",
      "object 2\n",
      "object 2\n",
      "object 2\n",
      "object 2\n",
      "object 2\n",
      "object 8\n",
      "object 8\n",
      "object 8\n",
      "object 8\n",
      "object 8\n",
      "object 8\n",
      "object 8\n",
      "\n",
      "slide number13\n",
      "object 3\n",
      "object 3\n",
      "object 3\n",
      "object 3\n",
      "object 3\n",
      "object 3\n",
      "object 3\n",
      "object 10\n",
      "object 10\n",
      "object 10\n",
      "object 10\n",
      "object 10\n",
      "object 10\n",
      "object 10\n",
      "object 3\n",
      "object 3\n",
      "object 3\n",
      "object 3\n",
      "object 3\n",
      "object 3\n",
      "object 3\n",
      "\n",
      "slide number14\n",
      "object 11\n",
      "object 11\n",
      "object 11\n",
      "object 11\n",
      "object 11\n",
      "object 11\n",
      "object 11\n",
      "object 11\n",
      "object 11\n",
      "object 11\n",
      "object 11\n",
      "object 11\n",
      "object 11\n",
      "object 11\n",
      "object 11\n",
      "object 11\n",
      "object 11\n",
      "object 11\n",
      "object 11\n",
      "object 11\n",
      "\n",
      "slide number15\n",
      "object 3\n",
      "object 3\n",
      "object 3\n",
      "object 3\n",
      "object 3\n",
      "object 3\n",
      "object 3\n",
      "object 10\n",
      "object 10\n",
      "object 10\n",
      "object 10\n",
      "object 10\n",
      "object 10\n",
      "object 10\n",
      "object 3\n",
      "object 3\n",
      "object 3\n",
      "object 3\n",
      "object 3\n",
      "object 3\n",
      "object 3\n",
      "\n",
      "slide number16\n",
      "object 2\n",
      "object 2\n",
      "object 2\n",
      "object 2\n",
      "object 2\n",
      "object 2\n",
      "object 2\n",
      "object 2\n",
      "object 2\n",
      "object 2\n",
      "object 2\n",
      "object 2\n",
      "object 2\n",
      "object 2\n",
      "object 2\n",
      "object 2\n",
      "object 2\n",
      "object 2\n",
      "object 2\n",
      "object 2\n",
      "object 2\n",
      "object 2\n",
      "object 2\n",
      "object 2\n",
      "object 2\n",
      "object 2\n",
      "object 2\n",
      "object 2\n",
      "object 2\n",
      "object 2\n",
      "object 2\n",
      "object 2\n",
      "object 2\n",
      "object 2\n",
      "object 2\n",
      "object 2\n",
      "object 2\n",
      "object 2\n",
      "object 2\n",
      "object 2\n",
      "object 2\n",
      "object 2\n",
      "object 2\n",
      "object 2\n",
      "object 2\n",
      "object 2\n",
      "object 2\n",
      "object 2\n",
      "object 2\n",
      "object 2\n",
      "object 2\n",
      "object 2\n",
      "object 2\n",
      "object 2\n",
      "object 2\n",
      "object 2\n",
      "object 2\n",
      "object 2\n",
      "object 2\n",
      "object 2\n",
      "object 2\n",
      "object 2\n",
      "object 2\n",
      "object 2\n",
      "object 2\n",
      "object 2\n",
      "object 2\n",
      "object 2\n",
      "object 2\n",
      "object 2\n",
      "object 2\n",
      "object 2\n",
      "object 2\n",
      "object 7\n",
      "object 7\n",
      "object 7\n",
      "object 7\n",
      "object 7\n",
      "object 7\n",
      "object 7\n",
      "object 7\n",
      "object 7\n",
      "object 7\n",
      "object 7\n",
      "object 7\n",
      "object 7\n",
      "object 7\n",
      "object 7\n",
      "object 7\n",
      "object 7\n",
      "object 7\n",
      "object 7\n",
      "object 7\n",
      "object 7\n",
      "object 7\n",
      "object 7\n",
      "object 7\n",
      "object 7\n",
      "object 7\n",
      "object 7\n",
      "object 7\n",
      "\n",
      "slide number17\n",
      "object 3\n",
      "object 3\n",
      "object 3\n",
      "object 3\n",
      "object 3\n",
      "object 3\n",
      "object 3\n",
      "object 3\n",
      "object 3\n",
      "object 3\n",
      "object 3\n",
      "object 3\n",
      "object 3\n",
      "object 3\n",
      "object 3\n",
      "object 3\n",
      "object 3\n",
      "object 3\n",
      "object 3\n",
      "object 3\n",
      "object 3\n",
      "object 3\n",
      "object 3\n",
      "object 9\n",
      "object 9\n",
      "object 9\n",
      "object 9\n",
      "object 9\n",
      "object 9\n",
      "object 9\n",
      "object 9\n",
      "object 9\n",
      "object 9\n",
      "object 9\n",
      "object 9\n",
      "object 9\n",
      "object 9\n",
      "object 9\n",
      "object 9\n",
      "object 9\n",
      "object 9\n",
      "object 9\n",
      "object 9\n",
      "object 9\n",
      "object 9\n",
      "object 9\n",
      "object 9\n",
      "object 9\n",
      "object 9\n",
      "object 9\n",
      "object 9\n",
      "object 9\n",
      "object 9\n",
      "object 9\n",
      "object 9\n",
      "object 9\n",
      "object 9\n",
      "object 9\n",
      "object 9\n",
      "object 9\n",
      "object 9\n",
      "object 9\n",
      "object 9\n",
      "object 9\n",
      "object 9\n",
      "object 9\n",
      "object 9\n",
      "object 9\n",
      "object 9\n",
      "object 9\n",
      "object 9\n",
      "object 9\n",
      "object 9\n",
      "object 9\n",
      "object 9\n",
      "object 9\n",
      "object 9\n",
      "object 9\n",
      "object 9\n",
      "object 9\n",
      "object 9\n",
      "object 9\n",
      "object 9\n",
      "object 9\n",
      "object 9\n",
      "object 9\n",
      "object 9\n",
      "object 9\n",
      "object 9\n",
      "object 9\n",
      "object 9\n",
      "object 9\n",
      "object 9\n",
      "object 9\n",
      "object 9\n",
      "object 9\n",
      "object 9\n",
      "\n",
      "slide number18\n",
      "object 5\n",
      "object 5\n",
      "object 5\n",
      "object 5\n",
      "object 5\n",
      "object 5\n",
      "object 5\n",
      "object 5\n",
      "object 5\n",
      "object 5\n",
      "object 5\n",
      "object 5\n",
      "object 5\n",
      "object 5\n",
      "object 5\n",
      "object 5\n",
      "object 5\n",
      "object 5\n",
      "object 5\n",
      "object 5\n",
      "object 5\n",
      "object 5\n",
      "object 5\n",
      "object 5\n",
      "object 5\n",
      "object 5\n",
      "object 5\n",
      "object 5\n",
      "object 5\n",
      "object 5\n",
      "object 5\n",
      "object 5\n",
      "object 5\n",
      "object 5\n",
      "object 5\n",
      "object 5\n",
      "object 5\n",
      "object 5\n",
      "object 5\n",
      "object 5\n",
      "object 5\n",
      "object 5\n",
      "object 5\n",
      "object 5\n",
      "object 5\n",
      "object 5\n",
      "object 11\n",
      "object 11\n",
      "object 11\n",
      "object 11\n",
      "object 11\n",
      "object 11\n",
      "object 11\n",
      "object 11\n",
      "object 11\n",
      "object 11\n",
      "object 11\n",
      "object 11\n",
      "object 11\n",
      "object 11\n",
      "object 11\n",
      "object 11\n",
      "object 11\n",
      "object 11\n",
      "object 11\n",
      "object 11\n",
      "object 11\n",
      "object 11\n",
      "object 11\n",
      "object 11\n",
      "object 11\n",
      "object 11\n",
      "object 11\n",
      "object 11\n",
      "object 11\n",
      "object 11\n",
      "object 11\n",
      "object 11\n",
      "object 11\n",
      "object 11\n",
      "object 11\n",
      "object 11\n",
      "\n",
      "slide number19\n",
      "object 2\n",
      "object 2\n",
      "object 2\n",
      "object 2\n",
      "object 2\n",
      "object 2\n",
      "object 2\n",
      "object 2\n",
      "object 2\n",
      "object 2\n",
      "object 2\n",
      "object 2\n",
      "object 2\n",
      "object 8\n",
      "object 8\n",
      "object 8\n",
      "object 12\n",
      "object 12\n",
      "object 12\n",
      "object 18\n",
      "object 18\n",
      "object 18\n",
      "object 18\n",
      "object 18\n",
      "object 18\n",
      "object 18\n",
      "object 18\n",
      "object 18\n",
      "object 18\n",
      "object 18\n",
      "object 18\n",
      "object 18\n",
      "object 18\n",
      "object 18\n",
      "object 18\n",
      "object 18\n",
      "object 18\n",
      "object 18\n",
      "object 18\n",
      "object 18\n",
      "object 18\n",
      "object 18\n",
      "object 18\n",
      "object 18\n",
      "object 18\n",
      "object 18\n",
      "object 18\n",
      "object 18\n",
      "object 18\n",
      "object 18\n",
      "object 18\n",
      "object 18\n",
      "object 18\n",
      "\n",
      "slide number20\n",
      "object 5\n",
      "object 5\n",
      "object 5\n",
      "object 5\n",
      "object 5\n",
      "object 5\n",
      "object 5\n",
      "object 5\n",
      "object 5\n",
      "object 5\n",
      "object 5\n",
      "object 5\n",
      "object 5\n",
      "object 5\n",
      "object 5\n",
      "object 5\n",
      "object 5\n",
      "object 5\n",
      "object 5\n",
      "object 5\n",
      "object 5\n",
      "object 5\n",
      "object 5\n",
      "object 5\n",
      "object 5\n",
      "object 5\n",
      "object 5\n",
      "object 5\n",
      "object 5\n",
      "object 5\n",
      "object 5\n",
      "object 5\n",
      "object 5\n",
      "object 5\n",
      "object 5\n",
      "object 5\n",
      "object 5\n",
      "object 5\n",
      "object 5\n",
      "object 5\n",
      "object 5\n",
      "object 5\n",
      "object 5\n",
      "object 5\n",
      "object 5\n",
      "object 5\n",
      "object 5\n",
      "object 5\n",
      "object 5\n",
      "object 5\n",
      "object 5\n",
      "object 5\n",
      "object 5\n",
      "object 5\n",
      "object 5\n",
      "object 5\n",
      "object 5\n",
      "object 5\n",
      "object 5\n",
      "object 5\n",
      "object 5\n",
      "object 5\n",
      "object 5\n",
      "object 5\n",
      "object 5\n",
      "object 5\n",
      "object 5\n",
      "object 5\n",
      "object 5\n",
      "object 5\n",
      "object 5\n",
      "object 5\n",
      "object 5\n",
      "object 5\n",
      "object 5\n",
      "object 5\n",
      "object 5\n",
      "object 5\n",
      "object 5\n",
      "object 5\n",
      "object 5\n",
      "object 5\n",
      "object 5\n",
      "object 5\n",
      "object 5\n",
      "object 5\n",
      "object 5\n",
      "object 5\n",
      "object 5\n",
      "object 5\n",
      "object 5\n",
      "object 5\n",
      "object 5\n",
      "object 5\n",
      "object 5\n",
      "object 5\n",
      "object 5\n",
      "object 5\n",
      "object 5\n",
      "object 5\n",
      "object 5\n",
      "object 5\n",
      "object 5\n",
      "object 5\n",
      "object 5\n",
      "object 5\n",
      "object 14\n",
      "object 14\n",
      "object 14\n",
      "object 14\n",
      "object 14\n",
      "object 14\n",
      "object 14\n",
      "object 14\n",
      "object 14\n",
      "object 14\n",
      "object 14\n",
      "object 14\n",
      "object 14\n",
      "object 14\n",
      "object 14\n",
      "object 14\n",
      "object 14\n",
      "object 14\n",
      "object 14\n",
      "object 14\n",
      "object 14\n",
      "object 14\n",
      "object 14\n",
      "object 14\n",
      "object 14\n",
      "object 14\n",
      "object 14\n",
      "object 14\n",
      "object 14\n",
      "object 14\n",
      "object 14\n",
      "object 14\n",
      "object 14\n",
      "object 14\n",
      "object 14\n",
      "object 14\n",
      "object 14\n",
      "object 14\n",
      "object 14\n",
      "object 14\n",
      "object 14\n",
      "object 14\n",
      "object 14\n",
      "object 14\n",
      "object 14\n",
      "object 14\n",
      "object 14\n",
      "object 14\n",
      "object 14\n",
      "object 14\n",
      "object 14\n",
      "object 14\n",
      "object 14\n",
      "object 14\n",
      "object 14\n",
      "object 14\n",
      "object 14\n",
      "\n",
      "slide number21\n",
      "object 3\n",
      "object 3\n",
      "object 3\n",
      "object 3\n",
      "object 3\n",
      "object 3\n",
      "object 3\n",
      "object 3\n",
      "object 3\n",
      "object 3\n",
      "object 3\n",
      "object 3\n",
      "object 3\n",
      "object 3\n",
      "object 3\n",
      "object 3\n",
      "object 3\n",
      "object 3\n",
      "object 3\n",
      "object 9\n",
      "object 9\n",
      "object 9\n",
      "object 9\n",
      "object 9\n",
      "object 9\n",
      "object 9\n",
      "object 9\n",
      "object 9\n",
      "object 9\n",
      "object 9\n",
      "object 9\n",
      "object 9\n",
      "object 9\n",
      "object 9\n",
      "object 9\n",
      "object 9\n",
      "object 9\n",
      "object 9\n",
      "object 9\n",
      "object 9\n",
      "object 9\n",
      "object 9\n",
      "object 9\n",
      "object 9\n",
      "object 9\n",
      "object 9\n",
      "object 9\n",
      "object 9\n",
      "object 9\n",
      "object 9\n",
      "object 9\n",
      "object 9\n",
      "object 9\n",
      "object 9\n",
      "object 9\n",
      "object 9\n",
      "object 9\n",
      "object 9\n",
      "object 9\n",
      "object 9\n",
      "object 9\n",
      "object 9\n",
      "object 9\n",
      "object 9\n",
      "object 9\n",
      "object 9\n",
      "object 9\n",
      "object 9\n",
      "object 9\n",
      "object 9\n",
      "object 9\n",
      "object 9\n",
      "object 9\n",
      "object 9\n",
      "object 9\n",
      "object 9\n",
      "object 9\n",
      "object 9\n",
      "object 9\n",
      "object 9\n",
      "object 9\n",
      "object 9\n",
      "object 9\n",
      "object 9\n",
      "object 9\n",
      "object 9\n",
      "object 9\n",
      "object 9\n",
      "object 9\n",
      "object 9\n",
      "object 9\n",
      "object 9\n",
      "object 9\n",
      "object 9\n",
      "object 9\n",
      "object 9\n",
      "object 9\n",
      "object 9\n",
      "object 9\n",
      "object 9\n",
      "object 9\n",
      "object 9\n",
      "object 9\n",
      "object 9\n",
      "object 9\n",
      "object 9\n",
      "object 9\n",
      "object 9\n",
      "object 9\n",
      "object 9\n",
      "object 9\n",
      "object 9\n",
      "object 9\n",
      "object 9\n",
      "object 9\n",
      "object 9\n",
      "object 9\n",
      "object 9\n",
      "object 9\n",
      "object 9\n",
      "object 9\n",
      "object 9\n",
      "\n",
      "slide number22\n",
      "\n",
      "font name\n",
      "['Times New Roman', 'Arial']\n",
      "\n",
      "font size\n",
      "[20.0, 10.0, 8.0, 9.0, 12.0]\n",
      "\n",
      "hyperlink\n",
      "['http://www.bustabit.com/play']\n",
      "\n",
      "color\n",
      "[(50, 50, 50), (255, 0, 0), (255, 255, 255)]\n",
      "\n",
      "number of font name\n",
      "3\n",
      "\n",
      "number of font size\n",
      "6\n",
      "\n",
      " number of hyperlink\n",
      "1\n",
      "\n",
      " number of color\n",
      "4\n",
      "\n",
      " number of pictures\n",
      "1\n",
      "\n",
      " number of chart\n",
      "0\n",
      "\n",
      " number of tables\n",
      "10\n",
      "\n",
      " maximum font size\n",
      "20.0\n",
      "\n",
      " minimum font size\n",
      "8.0\n",
      "e:\\ppt\\83.pptx\n",
      "\n",
      "slide number1\n",
      "0, TITLE (1)\n",
      "Title 3\n"
     ]
    },
    {
     "data": {
      "text/plain": [
       "'Algerian'"
      ]
     },
     "metadata": {},
     "output_type": "display_data"
    },
    {
     "data": {
      "text/plain": [
       "66.0"
      ]
     },
     "metadata": {},
     "output_type": "display_data"
    },
    {
     "name": "stdout",
     "output_type": "stream",
     "text": [
      "TextBox 7\n"
     ]
    },
    {
     "data": {
      "text/plain": [
       "'Calibri'"
      ]
     },
     "metadata": {},
     "output_type": "display_data"
    },
    {
     "data": {
      "text/plain": [
       "32.0"
      ]
     },
     "metadata": {},
     "output_type": "display_data"
    },
    {
     "name": "stdout",
     "output_type": "stream",
     "text": [
      "TextBox 9\n"
     ]
    },
    {
     "data": {
      "text/plain": [
       "24.0"
      ]
     },
     "metadata": {},
     "output_type": "display_data"
    },
    {
     "name": "stdout",
     "output_type": "stream",
     "text": [
      "TextBox 9\n",
      "TextBox 9\n",
      "TextBox 9\n",
      "TextBox 11\n"
     ]
    },
    {
     "data": {
      "text/plain": [
       "18.0"
      ]
     },
     "metadata": {},
     "output_type": "display_data"
    },
    {
     "name": "stdout",
     "output_type": "stream",
     "text": [
      "TextBox 11\n",
      "TextBox 11\n",
      "TextBox 11\n",
      "TextBox 11\n",
      "10, DATE (16)\n",
      "12, SLIDE_NUMBER (13)\n",
      "\n",
      "slide number2\n",
      "TextBox 4\n"
     ]
    },
    {
     "data": {
      "text/plain": [
       "'+mj-lt'"
      ]
     },
     "metadata": {},
     "output_type": "display_data"
    },
    {
     "data": {
      "text/plain": [
       "29.0"
      ]
     },
     "metadata": {},
     "output_type": "display_data"
    },
    {
     "name": "stdout",
     "output_type": "stream",
     "text": [
      "TextBox 4\n",
      "TextBox 4\n",
      "TextBox 4\n",
      "TextBox 4\n",
      "TextBox 4\n",
      "10, DATE (16)\n",
      "12, SLIDE_NUMBER (13)\n",
      "\n",
      "slide number3\n",
      "0, TITLE (1)\n",
      "Title 1\n",
      "1, OBJECT (7)\n",
      "Content Placeholder 2\n",
      "10, DATE (16)\n",
      "12, SLIDE_NUMBER (13)\n",
      "\n",
      "slide number4\n",
      "0, TITLE (1)\n",
      "Title 1\n",
      "Title 1\n",
      "1, OBJECT (7)\n",
      "Content Placeholder 2\n",
      "Content Placeholder 2\n",
      "Content Placeholder 2\n",
      "Content Placeholder 2\n",
      "Content Placeholder 2\n",
      "Content Placeholder 2\n",
      "Content Placeholder 2\n",
      "Content Placeholder 2\n",
      "Content Placeholder 2\n",
      "Content Placeholder 2\n",
      "10, DATE (16)\n",
      "12, SLIDE_NUMBER (13)\n",
      "\n",
      "slide number5\n",
      "0, TITLE (1)\n",
      "Title 1\n",
      "1, OBJECT (7)\n",
      "Content Placeholder 2\n",
      "Content Placeholder 2\n",
      "Content Placeholder 2\n",
      "Content Placeholder 2\n",
      "10, DATE (16)\n",
      "12, SLIDE_NUMBER (13)\n",
      "\n",
      "slide number6\n",
      "0, TITLE (1)\n",
      "Title 1\n",
      "1, OBJECT (7)\n",
      "Content Placeholder 2\n",
      "10, DATE (16)\n",
      "12, SLIDE_NUMBER (13)\n",
      "\n",
      "slide number7\n",
      "0, TITLE (1)\n",
      "Title 1\n",
      "1, OBJECT (7)\n",
      "Content Placeholder 2\n",
      "Content Placeholder 2\n",
      "Content Placeholder 2\n",
      "Content Placeholder 2\n",
      "10, DATE (16)\n",
      "12, SLIDE_NUMBER (13)\n",
      "\n",
      "slide number8\n",
      "0, TITLE (1)\n",
      "Title 1\n",
      "1, OBJECT (7)\n",
      "Content Placeholder 2\n",
      "Content Placeholder 2\n",
      "10, DATE (16)\n",
      "12, SLIDE_NUMBER (13)\n",
      "\n",
      "slide number9\n",
      "0, TITLE (1)\n",
      "Title 1\n",
      "1, OBJECT (7)\n",
      "Content Placeholder 2\n",
      "Content Placeholder 2\n",
      "Content Placeholder 2\n",
      "10, DATE (16)\n",
      "12, SLIDE_NUMBER (13)\n",
      "\n",
      "slide number10\n",
      "0, TITLE (1)\n",
      "Title 1\n",
      "1, OBJECT (7)\n",
      "Content Placeholder 2\n",
      "Content Placeholder 2\n",
      "Content Placeholder 2\n",
      "Content Placeholder 2\n",
      "Content Placeholder 2\n",
      "Content Placeholder 2\n",
      "Content Placeholder 2\n",
      "10, DATE (16)\n",
      "12, SLIDE_NUMBER (13)\n",
      "\n",
      "slide number11\n",
      "0, TITLE (1)\n",
      "Title 1\n",
      "1, OBJECT (7)\n",
      "Content Placeholder 2\n"
     ]
    },
    {
     "data": {
      "text/plain": [
       "28.0"
      ]
     },
     "metadata": {},
     "output_type": "display_data"
    },
    {
     "name": "stdout",
     "output_type": "stream",
     "text": [
      "Content Placeholder 2\n",
      "Content Placeholder 2\n",
      "Content Placeholder 2\n",
      "Content Placeholder 2\n",
      "Content Placeholder 2\n",
      "10, DATE (16)\n",
      "12, SLIDE_NUMBER (13)\n",
      "\n",
      "slide number12\n",
      "0, TITLE (1)\n",
      "Title 1\n",
      "1, OBJECT (7)\n",
      "Content Placeholder 2\n"
     ]
    },
    {
     "data": {
      "text/plain": [
       "26.0"
      ]
     },
     "metadata": {},
     "output_type": "display_data"
    },
    {
     "name": "stdout",
     "output_type": "stream",
     "text": [
      "Content Placeholder 2\n",
      "Content Placeholder 2\n",
      "10, DATE (16)\n",
      "12, SLIDE_NUMBER (13)\n",
      "\n",
      "font name\n",
      "['Algerian', 'Calibri', '+mj-lt']\n",
      "\n",
      "font size\n",
      "[66.0, 32.0, 24.0, 18.0, 29.0, 28.0, 26.0]\n",
      "\n",
      "hyperlink\n",
      "[]\n",
      "\n",
      "color\n",
      "[(0, 112, 192), (0, 0, 0), (192, 0, 0), (0, 176, 240), (0, 176, 80), (112, 48, 160), (0, 32, 96)]\n",
      "\n",
      "number of font name\n",
      "4\n",
      "\n",
      "number of font size\n",
      "8\n",
      "\n",
      " number of hyperlink\n",
      "0\n",
      "\n",
      " number of color\n",
      "8\n",
      "\n",
      " number of pictures\n",
      "1\n",
      "\n",
      " number of chart\n",
      "0\n",
      "\n",
      " number of tables\n",
      "0\n",
      "\n",
      " maximum font size\n",
      "66.0\n",
      "\n",
      " minimum font size\n",
      "18.0\n",
      "e:\\ppt\\84.pptx\n",
      "\n",
      "slide number1\n",
      "0, CENTER_TITLE (3)\n",
      "Title 1\n"
     ]
    },
    {
     "data": {
      "text/plain": [
       "52.0"
      ]
     },
     "metadata": {},
     "output_type": "display_data"
    },
    {
     "name": "stdout",
     "output_type": "stream",
     "text": [
      "1, SUBTITLE (4)\n",
      "Subtitle 2\n"
     ]
    },
    {
     "data": {
      "text/plain": [
       "20.0"
      ]
     },
     "metadata": {},
     "output_type": "display_data"
    },
    {
     "name": "stdout",
     "output_type": "stream",
     "text": [
      "Subtitle 2\n",
      "10, DATE (16)\n",
      "12, SLIDE_NUMBER (13)\n",
      "\n",
      "slide number2\n",
      "TextBox 1\n"
     ]
    },
    {
     "data": {
      "text/plain": [
       "'+mj-lt'"
      ]
     },
     "metadata": {},
     "output_type": "display_data"
    },
    {
     "data": {
      "text/plain": [
       "44.0"
      ]
     },
     "metadata": {},
     "output_type": "display_data"
    },
    {
     "name": "stdout",
     "output_type": "stream",
     "text": [
      "TextBox 8\n",
      "TextBox 8\n",
      "TextBox 8\n",
      "TextBox 8\n",
      "TextBox 8\n",
      "TextBox 8\n",
      "TextBox 8\n",
      "TextBox 8\n",
      "TextBox 8\n",
      "TextBox 8\n",
      "10, DATE (16)\n",
      "12, SLIDE_NUMBER (13)\n",
      "\n",
      "slide number3\n",
      "TextBox 9\n"
     ]
    },
    {
     "data": {
      "text/plain": [
       "48.0"
      ]
     },
     "metadata": {},
     "output_type": "display_data"
    },
    {
     "name": "stdout",
     "output_type": "stream",
     "text": [
      "TextBox 19\n",
      "10, DATE (16)\n",
      "12, SLIDE_NUMBER (13)\n",
      "\n",
      "slide number4\n",
      "TextBox 1\n",
      "TextBox 1\n",
      "TextBox 1\n",
      "TextBox 1\n",
      "TextBox 1\n",
      "10, DATE (16)\n",
      "12, SLIDE_NUMBER (13)\n",
      "\n",
      "slide number5\n",
      "TextBox 1\n"
     ]
    },
    {
     "data": {
      "text/plain": [
       "24.0"
      ]
     },
     "metadata": {},
     "output_type": "display_data"
    },
    {
     "name": "stdout",
     "output_type": "stream",
     "text": [
      "TextBox 1\n",
      "10, DATE (16)\n",
      "12, SLIDE_NUMBER (13)\n",
      "\n",
      "slide number6\n",
      "TextBox 1\n",
      "TextBox 1\n",
      "TextBox 1\n",
      "TextBox 1\n",
      "TextBox 1\n",
      "TextBox 1\n",
      "TextBox 1\n",
      "TextBox 1\n",
      "TextBox 10\n",
      "10, DATE (16)\n",
      "12, SLIDE_NUMBER (13)\n",
      "\n",
      "slide number7\n",
      "TextBox 2\n",
      "TextBox 2\n",
      "TextBox 2\n",
      "TextBox 2\n",
      "TextBox 2\n",
      "TextBox 2\n",
      "TextBox 2\n",
      "10, DATE (16)\n",
      "12, SLIDE_NUMBER (13)\n",
      "\n",
      "slide number8\n",
      "TextBox 2\n",
      "TextBox 2\n",
      "10, DATE (16)\n",
      "12, SLIDE_NUMBER (13)\n",
      "\n",
      "slide number9\n",
      "10, DATE (16)\n",
      "12, SLIDE_NUMBER (13)\n",
      "\n",
      "slide number10\n",
      "10, DATE (16)\n",
      "12, SLIDE_NUMBER (13)\n",
      "\n",
      "slide number11\n",
      "TextBox 2\n"
     ]
    },
    {
     "data": {
      "text/plain": [
       "36.0"
      ]
     },
     "metadata": {},
     "output_type": "display_data"
    },
    {
     "name": "stdout",
     "output_type": "stream",
     "text": [
      "10, DATE (16)\n",
      "12, SLIDE_NUMBER (13)\n",
      "\n",
      "slide number12\n",
      "TextBox 3\n"
     ]
    },
    {
     "data": {
      "text/plain": [
       "'Calibri'"
      ]
     },
     "metadata": {},
     "output_type": "display_data"
    },
    {
     "name": "stdout",
     "output_type": "stream",
     "text": [
      "TextBox 3\n",
      "TextBox 3\n",
      "TextBox 3\n",
      "TextBox 3\n",
      "TextBox 3\n",
      "10, DATE (16)\n",
      "12, SLIDE_NUMBER (13)\n",
      "\n",
      "slide number13\n",
      "TextBox 355\n"
     ]
    },
    {
     "data": {
      "text/plain": [
       "40.0"
      ]
     },
     "metadata": {},
     "output_type": "display_data"
    },
    {
     "name": "stdout",
     "output_type": "stream",
     "text": [
      "10, DATE (16)\n",
      "12, SLIDE_NUMBER (13)\n",
      "\n",
      "slide number14\n",
      "TextBox 2\n",
      "TextBox 5\n",
      "TextBox 5\n",
      "TextBox 5\n",
      "TextBox 5\n",
      "TextBox 5\n",
      "TextBox 5\n",
      "TextBox 5\n",
      "TextBox 5\n",
      "10, DATE (16)\n",
      "12, SLIDE_NUMBER (13)\n",
      "\n",
      "slide number15\n",
      "TextBox 4\n"
     ]
    },
    {
     "data": {
      "text/plain": [
       "42.0"
      ]
     },
     "metadata": {},
     "output_type": "display_data"
    },
    {
     "name": "stdout",
     "output_type": "stream",
     "text": [
      "10, DATE (16)\n",
      "12, SLIDE_NUMBER (13)\n",
      "\n",
      "slide number16\n",
      "TextBox 3\n",
      "10, DATE (16)\n",
      "12, SLIDE_NUMBER (13)\n",
      "\n",
      "slide number17\n",
      "TextBox 2\n",
      "10, DATE (16)\n",
      "12, SLIDE_NUMBER (13)\n",
      "\n",
      "slide number18\n",
      "TextBox 2\n",
      "TextBox 2\n",
      "TextBox 2\n",
      "TextBox 2\n",
      "TextBox 2\n",
      "TextBox 2\n",
      "TextBox 2\n",
      "10, DATE (16)\n",
      "12, SLIDE_NUMBER (13)\n",
      "\n",
      "slide number19\n",
      "TextBox 4\n"
     ]
    },
    {
     "data": {
      "text/plain": [
       "60.0"
      ]
     },
     "metadata": {},
     "output_type": "display_data"
    },
    {
     "name": "stdout",
     "output_type": "stream",
     "text": [
      "10, DATE (16)\n",
      "12, SLIDE_NUMBER (13)\n",
      "\n",
      "font name\n",
      "['+mj-lt', 'Calibri']\n",
      "\n",
      "font size\n",
      "[52.0, 20.0, 44.0, 48.0, 24.0, 36.0, 40.0, 42.0, 60.0]\n",
      "\n",
      "hyperlink\n",
      "[]\n",
      "\n",
      "color\n",
      "[(255, 255, 0), (255, 255, 255), (255, 0, 0)]\n",
      "\n",
      "number of font name\n",
      "3\n",
      "\n",
      "number of font size\n",
      "10\n",
      "\n",
      " number of hyperlink\n",
      "0\n",
      "\n",
      " number of color\n",
      "4\n",
      "\n",
      " number of pictures\n",
      "16\n",
      "\n",
      " number of chart\n",
      "0\n",
      "\n",
      " number of tables\n",
      "1\n",
      "\n",
      " maximum font size\n",
      "60.0\n",
      "\n",
      " minimum font size\n",
      "20.0\n",
      "e:\\ppt\\85.pptx\n",
      "\n",
      "slide number1\n",
      "\n",
      "slide number2\n",
      "0, TITLE (1)\n",
      "Title 1\n"
     ]
    },
    {
     "data": {
      "text/plain": [
       "'Times New Roman'"
      ]
     },
     "metadata": {},
     "output_type": "display_data"
    },
    {
     "data": {
      "text/plain": [
       "24.0"
      ]
     },
     "metadata": {},
     "output_type": "display_data"
    },
    {
     "name": "stdout",
     "output_type": "stream",
     "text": [
      "Title 1\n",
      "Title 1\n",
      "Title 1\n",
      "Title 1\n",
      "Title 1\n",
      "Title 1\n",
      "Title 1\n",
      "1, OBJECT (7)\n",
      "Content Placeholder 2\n",
      "Content Placeholder 2\n",
      "Content Placeholder 2\n",
      "Content Placeholder 2\n",
      "Content Placeholder 2\n",
      "Content Placeholder 2\n",
      "Content Placeholder 2\n",
      "\n",
      "slide number3\n",
      "0, TITLE (1)\n",
      "Title 1\n"
     ]
    },
    {
     "data": {
      "text/plain": [
       "22.0"
      ]
     },
     "metadata": {},
     "output_type": "display_data"
    },
    {
     "name": "stdout",
     "output_type": "stream",
     "text": [
      "1, OBJECT (7)\n",
      "Content Placeholder 2\n",
      "Content Placeholder 2\n",
      "Content Placeholder 2\n",
      "Content Placeholder 2\n",
      "Content Placeholder 2\n",
      "\n",
      "slide number4\n",
      "0, TITLE (1)\n",
      "Title 1\n",
      "1, OBJECT (7)\n",
      "Content Placeholder 2\n",
      "Content Placeholder 2\n",
      "Content Placeholder 2\n",
      "Content Placeholder 2\n",
      "Content Placeholder 2\n",
      "Content Placeholder 2\n",
      "Content Placeholder 2\n",
      "Content Placeholder 2\n",
      "\n",
      "slide number5\n",
      "0, TITLE (1)\n",
      "Title 1\n"
     ]
    },
    {
     "data": {
      "text/plain": [
       "20.0"
      ]
     },
     "metadata": {},
     "output_type": "display_data"
    },
    {
     "name": "stdout",
     "output_type": "stream",
     "text": [
      "Title 1\n",
      "1, OBJECT (7)\n",
      "Content Placeholder 2\n",
      "Content Placeholder 2\n",
      "Content Placeholder 2\n",
      "Content Placeholder 2\n",
      "Content Placeholder 2\n",
      "Content Placeholder 2\n",
      "\n",
      "slide number6\n",
      "\n",
      "slide number7\n",
      "\n",
      "slide number8\n",
      "0, TITLE (1)\n",
      "Title 1\n",
      "1, OBJECT (7)\n",
      "Content Placeholder 2\n",
      "Content Placeholder 2\n",
      "Content Placeholder 2\n",
      "Content Placeholder 2\n",
      "Content Placeholder 2\n",
      "Content Placeholder 2\n",
      "Content Placeholder 2\n",
      "Content Placeholder 2\n",
      "\n",
      "slide number9\n",
      "0, TITLE (1)\n",
      "Title 1\n",
      "Title 1\n",
      "1, OBJECT (7)\n",
      "Content Placeholder 2\n",
      "Content Placeholder 2\n",
      "Content Placeholder 2\n",
      "Content Placeholder 2\n",
      "Content Placeholder 2\n",
      "Content Placeholder 2\n",
      "Content Placeholder 2\n",
      "Content Placeholder 2\n",
      "Content Placeholder 2\n",
      "Content Placeholder 2\n",
      "Content Placeholder 2\n",
      "Content Placeholder 2\n",
      "\n",
      "slide number10\n",
      "0, TITLE (1)\n",
      "Title 1\n",
      "1, OBJECT (7)\n",
      "Content Placeholder 2\n",
      "Content Placeholder 2\n"
     ]
    },
    {
     "data": {
      "text/plain": [
       "12.0"
      ]
     },
     "metadata": {},
     "output_type": "display_data"
    },
    {
     "name": "stdout",
     "output_type": "stream",
     "text": [
      "Content Placeholder 2\n",
      "Content Placeholder 2\n",
      "Content Placeholder 2\n",
      "Content Placeholder 2\n",
      "Content Placeholder 2\n",
      "\n",
      "slide number11\n",
      "0, TITLE (1)\n",
      "Title 1\n",
      "1, OBJECT (7)\n",
      "Content Placeholder 2\n",
      "Content Placeholder 2\n",
      "Content Placeholder 2\n",
      "Content Placeholder 2\n",
      "Content Placeholder 2\n",
      "Content Placeholder 2\n",
      "Content Placeholder 2\n",
      "Content Placeholder 2\n"
     ]
    },
    {
     "data": {
      "text/plain": [
       "30.0"
      ]
     },
     "metadata": {},
     "output_type": "display_data"
    },
    {
     "name": "stdout",
     "output_type": "stream",
     "text": [
      "\n",
      "font name\n",
      "['Times New Roman']\n",
      "\n",
      "font size\n",
      "[24.0, 22.0, 20.0, 12.0, 30.0]\n",
      "\n",
      "hyperlink\n",
      "[]\n",
      "\n",
      "color\n",
      "[]\n",
      "\n",
      "number of font name\n",
      "2\n",
      "\n",
      "number of font size\n",
      "6\n",
      "\n",
      " number of hyperlink\n",
      "0\n",
      "\n",
      " number of color\n",
      "1\n",
      "\n",
      " number of pictures\n",
      "3\n",
      "\n",
      " number of chart\n",
      "0\n",
      "\n",
      " number of tables\n",
      "0\n",
      "\n",
      " maximum font size\n",
      "30.0\n",
      "\n",
      " minimum font size\n",
      "12.0\n",
      "e:\\ppt\\86.pptx\n",
      "\n",
      "slide number1\n",
      "0, CENTER_TITLE (3)\n",
      "Title 1\n"
     ]
    },
    {
     "data": {
      "text/plain": [
       "'Times New Roman'"
      ]
     },
     "metadata": {},
     "output_type": "display_data"
    },
    {
     "data": {
      "text/plain": [
       "48.0"
      ]
     },
     "metadata": {},
     "output_type": "display_data"
    },
    {
     "name": "stdout",
     "output_type": "stream",
     "text": [
      "1, SUBTITLE (4)\n",
      "Subtitle 2\n",
      "Subtitle 2\n",
      "Subtitle 2\n",
      "Subtitle 2\n",
      "Subtitle 2\n",
      "10, DATE (16)\n",
      "12, SLIDE_NUMBER (13)\n",
      "\n",
      "slide number2\n",
      "0, TITLE (1)\n",
      "Title 1\n",
      "1, OBJECT (7)\n",
      "no textframe\n",
      "10, DATE (16)\n",
      "12, SLIDE_NUMBER (13)\n",
      "\n",
      "slide number3\n",
      "0, TITLE (1)\n",
      "Title 1\n",
      "1, OBJECT (7)\n",
      "Content Placeholder 2\n",
      "Content Placeholder 2\n",
      "Content Placeholder 2\n",
      "Content Placeholder 2\n",
      "Content Placeholder 2\n",
      "10, DATE (16)\n",
      "12, SLIDE_NUMBER (13)\n",
      "\n",
      "slide number4\n",
      "0, TITLE (1)\n",
      "Title 1\n",
      "Title 1\n",
      "1, OBJECT (7)\n",
      "Content Placeholder 2\n",
      "Content Placeholder 2\n",
      "Content Placeholder 2\n",
      "10, DATE (16)\n",
      "12, SLIDE_NUMBER (13)\n",
      "\n",
      "slide number5\n",
      "0, TITLE (1)\n",
      "Title 1\n",
      "1, OBJECT (7)\n",
      "Content Placeholder 2\n",
      "Content Placeholder 2\n",
      "10, DATE (16)\n",
      "12, SLIDE_NUMBER (13)\n",
      "\n",
      "slide number6\n",
      "0, TITLE (1)\n",
      "Title 1\n",
      "1, OBJECT (7)\n",
      "Content Placeholder 2\n",
      "10, DATE (16)\n",
      "12, SLIDE_NUMBER (13)\n",
      "\n",
      "slide number7\n",
      "1, OBJECT (7)\n",
      "Content Placeholder 2\n",
      "Content Placeholder 2\n",
      "10, DATE (16)\n",
      "12, SLIDE_NUMBER (13)\n",
      "\n",
      "slide number8\n",
      "0, TITLE (1)\n",
      "Title 1\n",
      "1, OBJECT (7)\n",
      "Content Placeholder 2\n",
      "Content Placeholder 2\n",
      "Content Placeholder 2\n",
      "Content Placeholder 2\n",
      "10, DATE (16)\n",
      "12, SLIDE_NUMBER (13)\n",
      "\n",
      "slide number9\n",
      "0, TITLE (1)\n",
      "Title 1\n",
      "1, OBJECT (7)\n",
      "Content Placeholder 2\n",
      "Content Placeholder 2\n",
      "Content Placeholder 2\n",
      "Content Placeholder 2\n",
      "Content Placeholder 2\n",
      "10, DATE (16)\n",
      "12, SLIDE_NUMBER (13)\n",
      "\n",
      "slide number10\n",
      "0, TITLE (1)\n",
      "Title 1\n",
      "1, OBJECT (7)\n",
      "Content Placeholder 2\n",
      "Content Placeholder 2\n",
      "Content Placeholder 2\n",
      "10, DATE (16)\n",
      "12, SLIDE_NUMBER (13)\n",
      "\n",
      "slide number11\n",
      "0, TITLE (1)\n",
      "Title 1\n",
      "1, OBJECT (7)\n",
      "Content Placeholder 2\n",
      "Content Placeholder 2\n",
      "Content Placeholder 2\n",
      "10, DATE (16)\n",
      "12, SLIDE_NUMBER (13)\n",
      "\n",
      "slide number12\n",
      "0, TITLE (1)\n",
      "Title 1\n",
      "1, OBJECT (7)\n",
      "Content Placeholder 2\n",
      "Content Placeholder 2\n",
      "Content Placeholder 2\n",
      "Content Placeholder 2\n",
      "Content Placeholder 2\n",
      "10, DATE (16)\n",
      "12, SLIDE_NUMBER (13)\n",
      "\n",
      "slide number13\n",
      "0, TITLE (1)\n",
      "Title 1\n",
      "10, DATE (16)\n",
      "12, SLIDE_NUMBER (13)\n",
      "\n",
      "font name\n",
      "['Times New Roman']\n",
      "\n",
      "font size\n",
      "[48.0]\n",
      "\n",
      "hyperlink\n",
      "[]\n",
      "\n",
      "color\n",
      "[(255, 0, 0)]\n",
      "\n",
      "number of font name\n",
      "2\n",
      "\n",
      "number of font size\n",
      "2\n",
      "\n",
      " number of hyperlink\n",
      "0\n",
      "\n",
      " number of color\n",
      "2\n",
      "\n",
      " number of pictures\n",
      "4\n",
      "\n",
      " number of chart\n",
      "0\n",
      "\n",
      " number of tables\n",
      "0\n",
      "\n",
      " maximum font size\n",
      "48.0\n",
      "\n",
      " minimum font size\n",
      "48.0\n",
      "e:\\ppt\\87.pptx\n",
      "\n",
      "slide number1\n",
      "0, CENTER_TITLE (3)\n",
      "Title 1\n",
      "1, SUBTITLE (4)\n",
      "11, FOOTER (15)\n",
      "Footer Placeholder 4\n",
      "12, SLIDE_NUMBER (13)\n",
      "\n",
      "slide number2\n",
      "0, TITLE (1)\n",
      "Title 1\n",
      "Title 1\n"
     ]
    },
    {
     "data": {
      "text/plain": [
       "'Bradley Hand ITC'"
      ]
     },
     "metadata": {},
     "output_type": "display_data"
    },
    {
     "name": "stdout",
     "output_type": "stream",
     "text": [
      "1, OBJECT (7)\n",
      "no textframe\n",
      "11, FOOTER (15)\n",
      "Footer Placeholder 11\n",
      "12, SLIDE_NUMBER (13)\n",
      "\n",
      "slide number3\n",
      "TextBox 44\n"
     ]
    },
    {
     "data": {
      "text/plain": [
       "'Arial Rounded MT Bold'"
      ]
     },
     "metadata": {},
     "output_type": "display_data"
    },
    {
     "data": {
      "text/plain": [
       "32.0"
      ]
     },
     "metadata": {},
     "output_type": "display_data"
    },
    {
     "name": "stdout",
     "output_type": "stream",
     "text": [
      "11, FOOTER (15)\n",
      "Footer Placeholder 1\n",
      "12, SLIDE_NUMBER (13)\n",
      "\n",
      "slide number4\n",
      "TextBox 1\n"
     ]
    },
    {
     "data": {
      "text/plain": [
       "28.0"
      ]
     },
     "metadata": {},
     "output_type": "display_data"
    },
    {
     "name": "stdout",
     "output_type": "stream",
     "text": [
      "11, FOOTER (15)\n",
      "Footer Placeholder 7\n",
      "12, SLIDE_NUMBER (13)\n",
      "\n",
      "slide number5\n",
      "TextBox 4\n"
     ]
    },
    {
     "data": {
      "text/plain": [
       "'Castellar'"
      ]
     },
     "metadata": {},
     "output_type": "display_data"
    },
    {
     "name": "stdout",
     "output_type": "stream",
     "text": [
      "TextBox 6\n"
     ]
    },
    {
     "data": {
      "text/plain": [
       "'Berlin Sans FB'"
      ]
     },
     "metadata": {},
     "output_type": "display_data"
    },
    {
     "data": {
      "text/plain": [
       "24.0"
      ]
     },
     "metadata": {},
     "output_type": "display_data"
    },
    {
     "name": "stdout",
     "output_type": "stream",
     "text": [
      "TextBox 6\n",
      "TextBox 6\n",
      "TextBox 6\n"
     ]
    },
    {
     "data": {
      "text/plain": [
       "'Berlin Sans FB Demi'"
      ]
     },
     "metadata": {},
     "output_type": "display_data"
    },
    {
     "name": "stdout",
     "output_type": "stream",
     "text": [
      "TextBox 6\n",
      "TextBox 6\n",
      "TextBox 6\n",
      "11, FOOTER (15)\n",
      "Footer Placeholder 1\n",
      "12, SLIDE_NUMBER (13)\n",
      "\n",
      "slide number6\n",
      "TextBox 4\n",
      "TextBox 4\n"
     ]
    },
    {
     "data": {
      "text/plain": [
       "'Britannic Bold'"
      ]
     },
     "metadata": {},
     "output_type": "display_data"
    },
    {
     "name": "stdout",
     "output_type": "stream",
     "text": [
      "TextBox 5\n"
     ]
    },
    {
     "data": {
      "text/plain": [
       "'Bodoni MT'"
      ]
     },
     "metadata": {},
     "output_type": "display_data"
    },
    {
     "data": {
      "text/plain": [
       "36.0"
      ]
     },
     "metadata": {},
     "output_type": "display_data"
    },
    {
     "name": "stdout",
     "output_type": "stream",
     "text": [
      "TextBox 5\n"
     ]
    },
    {
     "data": {
      "text/plain": [
       "'Arial Black'"
      ]
     },
     "metadata": {},
     "output_type": "display_data"
    },
    {
     "name": "stdout",
     "output_type": "stream",
     "text": [
      "TextBox 5\n",
      "11, FOOTER (15)\n",
      "Footer Placeholder 1\n",
      "12, SLIDE_NUMBER (13)\n",
      "\n",
      "slide number7\n",
      "TextBox 3\n"
     ]
    },
    {
     "data": {
      "text/plain": [
       "'Algerian'"
      ]
     },
     "metadata": {},
     "output_type": "display_data"
    },
    {
     "name": "stdout",
     "output_type": "stream",
     "text": [
      "TextBox 4\n",
      "TextBox 4\n",
      "TextBox 4\n",
      "TextBox 4\n",
      "TextBox 4\n",
      "TextBox 4\n",
      "TextBox 4\n",
      "TextBox 4\n",
      "TextBox 4\n",
      "TextBox 4\n",
      "TextBox 4\n",
      "TextBox 4\n",
      "TextBox 4\n",
      "TextBox 4\n",
      "TextBox 4\n",
      "TextBox 4\n",
      "TextBox 4\n",
      "11, FOOTER (15)\n",
      "Footer Placeholder 1\n",
      "12, SLIDE_NUMBER (13)\n",
      "\n",
      "slide number8\n",
      "TextBox 2\n",
      "TextBox 2\n"
     ]
    },
    {
     "data": {
      "text/plain": [
       "'Papyrus'"
      ]
     },
     "metadata": {},
     "output_type": "display_data"
    },
    {
     "name": "stdout",
     "output_type": "stream",
     "text": [
      "TextBox 2\n",
      "TextBox 2\n"
     ]
    },
    {
     "data": {
      "text/plain": [
       "40.0"
      ]
     },
     "metadata": {},
     "output_type": "display_data"
    },
    {
     "name": "stdout",
     "output_type": "stream",
     "text": [
      "TextBox 2\n",
      "TextBox 2\n",
      "TextBox 2\n",
      "11, FOOTER (15)\n",
      "Footer Placeholder 1\n",
      "12, SLIDE_NUMBER (13)\n",
      "\n",
      "slide number9\n",
      "TextBox 19\n"
     ]
    },
    {
     "data": {
      "text/plain": [
       "'Matura MT Script Capitals'"
      ]
     },
     "metadata": {},
     "output_type": "display_data"
    },
    {
     "name": "stdout",
     "output_type": "stream",
     "text": [
      "TextBox 19\n",
      "TextBox 1\n"
     ]
    },
    {
     "data": {
      "text/plain": [
       "'Times New Roman'"
      ]
     },
     "metadata": {},
     "output_type": "display_data"
    },
    {
     "name": "stdout",
     "output_type": "stream",
     "text": [
      "TextBox 1\n"
     ]
    },
    {
     "data": {
      "text/plain": [
       "20.0"
      ]
     },
     "metadata": {},
     "output_type": "display_data"
    },
    {
     "name": "stdout",
     "output_type": "stream",
     "text": [
      "TextBox 1\n",
      "TextBox 1\n",
      "TextBox 1\n",
      "TextBox 1\n",
      "TextBox 1\n",
      "TextBox 1\n",
      "TextBox 1\n",
      "11, FOOTER (15)\n",
      "Footer Placeholder 2\n",
      "12, SLIDE_NUMBER (13)\n",
      "\n",
      "slide number10\n",
      "TextBox 2\n"
     ]
    },
    {
     "data": {
      "text/plain": [
       "'French Script MT'"
      ]
     },
     "metadata": {},
     "output_type": "display_data"
    },
    {
     "data": {
      "text/plain": [
       "44.0"
      ]
     },
     "metadata": {},
     "output_type": "display_data"
    },
    {
     "name": "stdout",
     "output_type": "stream",
     "text": [
      "TextBox 2\n"
     ]
    },
    {
     "data": {
      "text/plain": [
       "'Eras Demi ITC'"
      ]
     },
     "metadata": {},
     "output_type": "display_data"
    },
    {
     "name": "stdout",
     "output_type": "stream",
     "text": [
      "TextBox 4\n"
     ]
    },
    {
     "data": {
      "text/plain": [
       "'Arial'"
      ]
     },
     "metadata": {},
     "output_type": "display_data"
    },
    {
     "name": "stdout",
     "output_type": "stream",
     "text": [
      "11, FOOTER (15)\n",
      "Footer Placeholder 1\n",
      "12, SLIDE_NUMBER (13)\n",
      "\n",
      "slide number11\n",
      "TextBox 3\n",
      "TextBox 3\n",
      "TextBox 6\n",
      "11, FOOTER (15)\n",
      "Footer Placeholder 1\n",
      "12, SLIDE_NUMBER (13)\n",
      "\n",
      "slide number12\n",
      "TextBox 1\n",
      "TextBox 6\n",
      "TextBox 6\n",
      "TextBox 6\n",
      "TextBox 6\n",
      "TextBox 6\n",
      "TextBox 6\n",
      "TextBox 6\n",
      "11, FOOTER (15)\n",
      "Footer Placeholder 2\n",
      "12, SLIDE_NUMBER (13)\n",
      "\n",
      "slide number13\n",
      "TextBox 1\n",
      "TextBox 2\n",
      "TextBox 2\n",
      "TextBox 2\n",
      "TextBox 2\n",
      "TextBox 2\n",
      "TextBox 2\n",
      "TextBox 2\n",
      "TextBox 2\n",
      "11, FOOTER (15)\n",
      "Footer Placeholder 3\n",
      "12, SLIDE_NUMBER (13)\n",
      "\n",
      "slide number14\n",
      "TextBox 1\n",
      "TextBox 6\n",
      "TextBox 6\n",
      "TextBox 6\n",
      "TextBox 6\n",
      "11, FOOTER (15)\n",
      "Footer Placeholder 4\n",
      "12, SLIDE_NUMBER (13)\n",
      "\n",
      "slide number15\n",
      "TextBox 1\n"
     ]
    },
    {
     "data": {
      "text/plain": [
       "'Bernard MT Condensed'"
      ]
     },
     "metadata": {},
     "output_type": "display_data"
    },
    {
     "name": "stdout",
     "output_type": "stream",
     "text": [
      "TextBox 1\n",
      "TextBox 2\n",
      "TextBox 2\n",
      "TextBox 2\n",
      "TextBox 2\n",
      "TextBox 2\n",
      "TextBox 2\n",
      "TextBox 2\n",
      "TextBox 2\n",
      "TextBox 2\n",
      "11, FOOTER (15)\n",
      "Footer Placeholder 3\n",
      "12, SLIDE_NUMBER (13)\n",
      "\n",
      "slide number16\n",
      "TextBox 1\n",
      "TextBox 3\n",
      "TextBox 3\n",
      "TextBox 3\n",
      "TextBox 3\n",
      "TextBox 3\n",
      "TextBox 3\n",
      "TextBox 3\n",
      "TextBox 3\n",
      "11, FOOTER (15)\n",
      "Footer Placeholder 2\n",
      "12, SLIDE_NUMBER (13)\n",
      "\n",
      "slide number17\n",
      "TextBox 1\n",
      "11, FOOTER (15)\n",
      "Footer Placeholder 3\n",
      "12, SLIDE_NUMBER (13)\n",
      "\n",
      "slide number18\n",
      "11, FOOTER (15)\n",
      "Footer Placeholder 1\n",
      "12, SLIDE_NUMBER (13)\n",
      "TextBox 4\n",
      "TextBox 4\n",
      "TextBox 4\n",
      "TextBox 4\n",
      "\n",
      "slide number19\n",
      "11, FOOTER (15)\n",
      "Footer Placeholder 1\n",
      "12, SLIDE_NUMBER (13)\n",
      "TextBox 4\n",
      "TextBox 4\n",
      "TextBox 4\n"
     ]
    },
    {
     "data": {
      "text/plain": [
       "18.0"
      ]
     },
     "metadata": {},
     "output_type": "display_data"
    },
    {
     "name": "stdout",
     "output_type": "stream",
     "text": [
      "TextBox 4\n",
      "\n",
      "slide number20\n",
      "TextBox 15\n"
     ]
    },
    {
     "data": {
      "text/plain": [
       "'Bodoni MT Black'"
      ]
     },
     "metadata": {},
     "output_type": "display_data"
    },
    {
     "name": "stdout",
     "output_type": "stream",
     "text": [
      "11, FOOTER (15)\n",
      "Footer Placeholder 1\n",
      "12, SLIDE_NUMBER (13)\n",
      "\n",
      "font name\n",
      "['Bradley Hand ITC', 'Arial Rounded MT Bold', 'Castellar', 'Berlin Sans FB', 'Berlin Sans FB Demi', 'Britannic Bold', 'Bodoni MT', 'Arial Black', 'Algerian', 'Papyrus', 'Matura MT Script Capitals', 'Times New Roman', 'French Script MT', 'Eras Demi ITC', 'Arial', 'Bernard MT Condensed', 'Bodoni MT Black']\n",
      "\n",
      "font size\n",
      "[32.0, 28.0, 24.0, 36.0, 40.0, 20.0, 44.0, 18.0]\n",
      "\n",
      "hyperlink\n",
      "[]\n",
      "\n",
      "color\n",
      "[(255, 0, 0), (0, 176, 240), (255, 255, 0), (32, 33, 34)]\n",
      "\n",
      "number of font name\n",
      "18\n",
      "\n",
      "number of font size\n",
      "9\n",
      "\n",
      " number of hyperlink\n",
      "0\n",
      "\n",
      " number of color\n",
      "5\n",
      "\n",
      " number of pictures\n",
      "31\n",
      "\n",
      " number of chart\n",
      "0\n",
      "\n",
      " number of tables\n",
      "0\n",
      "\n",
      " maximum font size\n",
      "44.0\n",
      "\n",
      " minimum font size\n",
      "18.0\n",
      "e:\\ppt\\88.pptx\n",
      "\n",
      "slide number1\n",
      "0, TITLE (1)\n",
      "Title 1\n",
      "Title 1\n"
     ]
    },
    {
     "data": {
      "text/plain": [
       "'Calibri'"
      ]
     },
     "metadata": {},
     "output_type": "display_data"
    },
    {
     "data": {
      "text/plain": [
       "44.0"
      ]
     },
     "metadata": {},
     "output_type": "display_data"
    },
    {
     "name": "stdout",
     "output_type": "stream",
     "text": [
      "Title 1\n",
      "\n",
      "slide number2\n",
      "0, TITLE (1)\n",
      "Title 1\n",
      "1, OBJECT (7)\n",
      "Content Placeholder 2\n",
      "Content Placeholder 2\n",
      "Content Placeholder 2\n",
      "Content Placeholder 2\n",
      "Content Placeholder 2\n",
      "Content Placeholder 2\n",
      "Content Placeholder 2\n",
      "Content Placeholder 2\n",
      "Content Placeholder 2\n",
      "Content Placeholder 2\n",
      "Content Placeholder 2\n",
      "Content Placeholder 2\n",
      "\n",
      "slide number3\n",
      "0, TITLE (1)\n",
      "Title 1\n",
      "1, OBJECT (7)\n",
      "no textframe\n",
      "\n",
      "slide number4\n",
      "0, TITLE (1)\n",
      "Title 1\n",
      "1, OBJECT (7)\n",
      "no textframe\n",
      "\n",
      "slide number5\n",
      "0, TITLE (1)\n",
      "1, OBJECT (7)\n",
      "no textframe\n",
      "\n",
      "slide number6\n",
      "1, OBJECT (7)\n",
      "Content Placeholder 2\n",
      "Content Placeholder 2\n",
      "Content Placeholder 2\n",
      "Content Placeholder 2\n",
      "Content Placeholder 2\n",
      "Content Placeholder 2\n",
      "Content Placeholder 2\n",
      "Content Placeholder 2\n",
      "Content Placeholder 2\n",
      "Content Placeholder 2\n",
      "Content Placeholder 2\n",
      "Content Placeholder 2\n",
      "Content Placeholder 2\n",
      "Content Placeholder 2\n",
      "Content Placeholder 2\n",
      "Content Placeholder 2\n",
      "Content Placeholder 2\n",
      "Content Placeholder 2\n",
      "Content Placeholder 2\n",
      "Content Placeholder 2\n",
      "Content Placeholder 2\n",
      "Content Placeholder 2\n",
      "\n",
      "slide number7\n",
      "0, CENTER_TITLE (3)\n",
      "4294967295, OBJECT (7)\n",
      "no textframe\n",
      "1, SUBTITLE (4)\n",
      "\n",
      "slide number8\n",
      "0, TITLE (1)\n",
      "Title 1\n"
     ]
    },
    {
     "data": {
      "text/plain": [
       "'Arial'"
      ]
     },
     "metadata": {},
     "output_type": "display_data"
    },
    {
     "data": {
      "text/plain": [
       "18.0"
      ]
     },
     "metadata": {},
     "output_type": "display_data"
    },
    {
     "name": "stdout",
     "output_type": "stream",
     "text": [
      "Title 1\n",
      "Title 1\n",
      "Title 1\n",
      "Title 1\n",
      "Title 1\n",
      "Title 1\n",
      "Title 1\n",
      "Title 1\n",
      "Title 1\n",
      "Title 1\n",
      "Title 1\n",
      "Title 1\n",
      "Title 1\n",
      "Title 1\n",
      "Title 1\n",
      "Title 1\n",
      "Title 1\n",
      "Title 1\n",
      "Title 1\n",
      "Title 1\n",
      "Title 1\n",
      "Title 1\n",
      "Title 1\n",
      "Title 1\n",
      "Title 1\n",
      "Title 1\n",
      "Title 1\n",
      "Title 1\n",
      "Title 1\n",
      "Title 1\n",
      "Title 1\n",
      "Title 1\n",
      "Title 1\n",
      "Title 1\n",
      "Title 1\n",
      "Title 1\n",
      "Title 1\n",
      "\n",
      "slide number9\n",
      "0, TITLE (1)\n",
      "Title 1\n",
      "1, OBJECT (7)\n",
      "Content Placeholder 2\n",
      "Content Placeholder 2\n",
      "Content Placeholder 2\n",
      "\n",
      "slide number10\n",
      "0, TITLE (1)\n",
      "Title 1\n",
      "1, OBJECT (7)\n",
      "Content Placeholder 2\n",
      "Content Placeholder 2\n",
      "Content Placeholder 2\n",
      "Content Placeholder 2\n",
      "Content Placeholder 2\n",
      "\n",
      "slide number11\n",
      "0, TITLE (1)\n",
      "Title 1\n",
      "1, OBJECT (7)\n",
      "Content Placeholder 2\n",
      "Content Placeholder 2\n",
      "Content Placeholder 2\n",
      "Content Placeholder 2\n",
      "Content Placeholder 2\n",
      "\n",
      "slide number12\n",
      "0, TITLE (1)\n",
      "Title 1\n",
      "1, OBJECT (7)\n",
      "Content Placeholder 2\n",
      "Content Placeholder 2\n",
      "Content Placeholder 2\n",
      "Content Placeholder 2\n",
      "Content Placeholder 2\n",
      "\n",
      "slide number13\n",
      "1, OBJECT (7)\n",
      "Content Placeholder 2\n"
     ]
    },
    {
     "data": {
      "text/plain": [
       "66.0"
      ]
     },
     "metadata": {},
     "output_type": "display_data"
    },
    {
     "name": "stdout",
     "output_type": "stream",
     "text": [
      "Content Placeholder 2\n",
      "\n",
      "font name\n",
      "['Calibri', 'Arial']\n",
      "\n",
      "font size\n",
      "[44.0, 18.0, 66.0]\n",
      "\n",
      "hyperlink\n",
      "['http://www.researchgate.net', 'http://www.ncbi.nlm.nih.gov', 'http://www.saguna.net']\n",
      "\n",
      "color\n",
      "[(255, 0, 0), (255, 192, 0), (0, 176, 240), (146, 208, 80)]\n",
      "\n",
      "number of font name\n",
      "3\n",
      "\n",
      "number of font size\n",
      "4\n",
      "\n",
      " number of hyperlink\n",
      "3\n",
      "\n",
      " number of color\n",
      "5\n",
      "\n",
      " number of pictures\n",
      "1\n",
      "\n",
      " number of chart\n",
      "0\n",
      "\n",
      " number of tables\n",
      "0\n",
      "\n",
      " maximum font size\n",
      "66.0\n",
      "\n",
      " minimum font size\n",
      "18.0\n",
      "e:\\ppt\\89.pptx\n",
      "\n",
      "slide number1\n",
      "0, CENTER_TITLE (3)\n",
      "Title 1\n"
     ]
    },
    {
     "data": {
      "text/plain": [
       "'Algerian'"
      ]
     },
     "metadata": {},
     "output_type": "display_data"
    },
    {
     "data": {
      "text/plain": [
       "89.0"
      ]
     },
     "metadata": {},
     "output_type": "display_data"
    },
    {
     "name": "stdout",
     "output_type": "stream",
     "text": [
      "Title 1\n",
      "10, DATE (16)\n",
      "12, SLIDE_NUMBER (13)\n",
      "\n",
      "slide number2\n",
      "TextBox 1\n"
     ]
    },
    {
     "data": {
      "text/plain": [
       "'Times New Roman'"
      ]
     },
     "metadata": {},
     "output_type": "display_data"
    },
    {
     "data": {
      "text/plain": [
       "24.0"
      ]
     },
     "metadata": {},
     "output_type": "display_data"
    },
    {
     "name": "stdout",
     "output_type": "stream",
     "text": [
      "TextBox 2\n"
     ]
    },
    {
     "data": {
      "text/plain": [
       "32.0"
      ]
     },
     "metadata": {},
     "output_type": "display_data"
    },
    {
     "name": "stdout",
     "output_type": "stream",
     "text": [
      "TextBox 3\n"
     ]
    },
    {
     "data": {
      "text/plain": [
       "20.0"
      ]
     },
     "metadata": {},
     "output_type": "display_data"
    },
    {
     "name": "stdout",
     "output_type": "stream",
     "text": [
      "TextBox 3\n",
      "TextBox 3\n",
      "TextBox 4\n",
      "TextBox 4\n",
      "TextBox 4\n",
      "10, DATE (16)\n",
      "12, SLIDE_NUMBER (13)\n",
      "\n",
      "slide number3\n",
      "TextBox 1\n",
      "TextBox 3\n",
      "TextBox 3\n",
      "TextBox 3\n",
      "TextBox 3\n",
      "TextBox 3\n",
      "TextBox 3\n",
      "TextBox 3\n",
      "TextBox 3\n",
      "TextBox 3\n",
      "TextBox 3\n",
      "TextBox 3\n",
      "TextBox 3\n",
      "TextBox 3\n",
      "TextBox 3\n",
      "10, DATE (16)\n",
      "12, SLIDE_NUMBER (13)\n",
      "\n",
      "slide number4\n",
      "0, TITLE (1)\n",
      "Title 1\n"
     ]
    },
    {
     "data": {
      "text/plain": [
       "44.0"
      ]
     },
     "metadata": {},
     "output_type": "display_data"
    },
    {
     "name": "stdout",
     "output_type": "stream",
     "text": [
      "TextBox 2\n",
      "TextBox 2\n",
      "TextBox 2\n",
      "TextBox 2\n",
      "TextBox 2\n",
      "TextBox 2\n",
      "TextBox 2\n",
      "TextBox 2\n",
      "TextBox 2\n",
      "10, DATE (16)\n",
      "12, SLIDE_NUMBER (13)\n",
      "\n",
      "slide number5\n",
      "0, TITLE (1)\n",
      "Title 1\n"
     ]
    },
    {
     "data": {
      "text/plain": [
       "54.0"
      ]
     },
     "metadata": {},
     "output_type": "display_data"
    },
    {
     "name": "stdout",
     "output_type": "stream",
     "text": [
      "TextBox 2\n",
      "TextBox 2\n",
      "TextBox 2\n",
      "TextBox 2\n",
      "TextBox 2\n",
      "10, DATE (16)\n",
      "12, SLIDE_NUMBER (13)\n",
      "\n",
      "slide number6\n",
      "0, TITLE (1)\n",
      "Title 1\n"
     ]
    },
    {
     "data": {
      "text/plain": [
       "48.0"
      ]
     },
     "metadata": {},
     "output_type": "display_data"
    },
    {
     "name": "stdout",
     "output_type": "stream",
     "text": [
      "10, DATE (16)\n",
      "12, SLIDE_NUMBER (13)\n",
      "\n",
      "slide number7\n",
      "0, TITLE (1)\n",
      "Title 1\n",
      "TextBox 2\n",
      "TextBox 2\n"
     ]
    },
    {
     "data": {
      "text/plain": [
       "28.0"
      ]
     },
     "metadata": {},
     "output_type": "display_data"
    },
    {
     "name": "stdout",
     "output_type": "stream",
     "text": [
      "TextBox 2\n",
      "TextBox 2\n",
      "TextBox 2\n",
      "TextBox 2\n",
      "TextBox 2\n",
      "TextBox 2\n",
      "TextBox 2\n",
      "10, DATE (16)\n",
      "12, SLIDE_NUMBER (13)\n",
      "\n",
      "slide number8\n",
      "0, TITLE (1)\n",
      "Title 1\n",
      "TextBox 2\n",
      "TextBox 2\n",
      "TextBox 2\n",
      "TextBox 2\n",
      "TextBox 2\n",
      "TextBox 2\n",
      "TextBox 2\n",
      "TextBox 2\n",
      "TextBox 2\n",
      "TextBox 2\n",
      "10, DATE (16)\n",
      "12, SLIDE_NUMBER (13)\n",
      "\n",
      "slide number9\n",
      "0, TITLE (1)\n",
      "Title 1\n",
      "TextBox 7\n",
      "TextBox 8\n",
      "10, DATE (16)\n",
      "12, SLIDE_NUMBER (13)\n",
      "\n",
      "slide number10\n",
      "0, TITLE (1)\n",
      "Title 1\n",
      "TextBox 2\n",
      "TextBox 2\n",
      "TextBox 2\n",
      "TextBox 2\n",
      "TextBox 2\n",
      "TextBox 2\n",
      "TextBox 2\n",
      "10, DATE (16)\n",
      "12, SLIDE_NUMBER (13)\n",
      "\n",
      "slide number11\n",
      "0, TITLE (1)\n",
      "Title 1\n",
      "TextBox 2\n",
      "TextBox 2\n",
      "TextBox 2\n",
      "TextBox 2\n",
      "TextBox 2\n",
      "TextBox 2\n",
      "TextBox 2\n",
      "TextBox 2\n",
      "TextBox 2\n",
      "10, DATE (16)\n",
      "12, SLIDE_NUMBER (13)\n",
      "\n",
      "slide number12\n",
      "0, TITLE (1)\n",
      "Title 1\n",
      "TextBox 2\n",
      "TextBox 3\n",
      "TextBox 4\n",
      "TextBox 4\n",
      "TextBox 5\n",
      "TextBox 6\n",
      "TextBox 6\n",
      "TextBox 6\n",
      "TextBox 6\n",
      "TextBox 6\n",
      "10, DATE (16)\n",
      "12, SLIDE_NUMBER (13)\n",
      "\n",
      "slide number13\n",
      "0, TITLE (1)\n",
      "Title 1\n"
     ]
    },
    {
     "data": {
      "text/plain": [
       "60.0"
      ]
     },
     "metadata": {},
     "output_type": "display_data"
    },
    {
     "name": "stdout",
     "output_type": "stream",
     "text": [
      "10, DATE (16)\n",
      "12, SLIDE_NUMBER (13)\n",
      "\n",
      "slide number14\n",
      "0, TITLE (1)\n",
      "Title 1\n",
      "TextBox 3\n",
      "TextBox 3\n",
      "TextBox 4\n",
      "TextBox 6\n",
      "10, DATE (16)\n",
      "12, SLIDE_NUMBER (13)\n",
      "\n",
      "slide number15\n",
      "0, TITLE (1)\n",
      "Title 1\n",
      "TextBox 2\n",
      "TextBox 3\n",
      "TextBox 4\n",
      "TextBox 4\n",
      "TextBox 4\n",
      "10, DATE (16)\n",
      "12, SLIDE_NUMBER (13)\n",
      "\n",
      "slide number16\n",
      "0, TITLE (1)\n",
      "Title 1\n",
      "TextBox 2\n",
      "TextBox 2\n",
      "10, DATE (16)\n",
      "12, SLIDE_NUMBER (13)\n",
      "\n",
      "slide number17\n",
      "0, TITLE (1)\n",
      "Title 1\n",
      "TextBox 2\n",
      "TextBox 2\n",
      "TextBox 2\n",
      "TextBox 2\n",
      "10, DATE (16)\n",
      "12, SLIDE_NUMBER (13)\n",
      "\n",
      "slide number18\n",
      "0, TITLE (1)\n",
      "Title 1\n",
      "TextBox 2\n",
      "TextBox 2\n",
      "TextBox 2\n",
      "TextBox 2\n",
      "10, DATE (16)\n",
      "12, SLIDE_NUMBER (13)\n",
      "\n",
      "slide number19\n",
      "0, TITLE (1)\n",
      "Title 1\n",
      "TextBox 2\n",
      "TextBox 2\n",
      "TextBox 2\n",
      "TextBox 2\n",
      "TextBox 2\n",
      "10, DATE (16)\n",
      "12, SLIDE_NUMBER (13)\n",
      "\n",
      "slide number20\n",
      "0, TITLE (1)\n",
      "Title 1\n",
      "TextBox 2\n",
      "TextBox 2\n",
      "TextBox 2\n",
      "TextBox 2\n",
      "TextBox 2\n",
      "TextBox 2\n",
      "TextBox 2\n",
      "TextBox 2\n",
      "TextBox 2\n",
      "TextBox 2\n",
      "TextBox 2\n",
      "TextBox 2\n",
      "TextBox 2\n",
      "TextBox 2\n",
      "TextBox 2\n",
      "TextBox 2\n",
      "TextBox 2\n",
      "TextBox 2\n",
      "10, DATE (16)\n",
      "12, SLIDE_NUMBER (13)\n",
      "\n",
      "slide number21\n",
      "0, TITLE (1)\n",
      "Title 1\n",
      "TextBox 2\n",
      "TextBox 2\n",
      "TextBox 2\n",
      "TextBox 2\n",
      "TextBox 2\n",
      "TextBox 2\n",
      "TextBox 2\n",
      "10, DATE (16)\n",
      "12, SLIDE_NUMBER (13)\n",
      "\n",
      "slide number22\n",
      "TextBox 2\n"
     ]
    },
    {
     "data": {
      "text/plain": [
       "88.0"
      ]
     },
     "metadata": {},
     "output_type": "display_data"
    },
    {
     "name": "stdout",
     "output_type": "stream",
     "text": [
      "10, DATE (16)\n",
      "12, SLIDE_NUMBER (13)\n",
      "\n",
      "font name\n",
      "['Algerian', 'Times New Roman']\n",
      "\n",
      "font size\n",
      "[89.0, 24.0, 32.0, 20.0, 44.0, 54.0, 48.0, 28.0, 60.0, 88.0]\n",
      "\n",
      "hyperlink\n",
      "[]\n",
      "\n",
      "color\n",
      "[(255, 192, 0), (0, 176, 240), (0, 176, 80), (112, 48, 160)]\n",
      "\n",
      "number of font name\n",
      "3\n",
      "\n",
      "number of font size\n",
      "11\n",
      "\n",
      " number of hyperlink\n",
      "0\n",
      "\n",
      " number of color\n",
      "5\n",
      "\n",
      " number of pictures\n",
      "10\n",
      "\n",
      " number of chart\n",
      "0\n",
      "\n",
      " number of tables\n",
      "0\n",
      "\n",
      " maximum font size\n",
      "89.0\n",
      "\n",
      " minimum font size\n",
      "20.0\n",
      "e:\\ppt\\90.pptx\n",
      "\n",
      "slide number1\n",
      "0, CENTER_TITLE (3)\n",
      "Title 1\n"
     ]
    },
    {
     "data": {
      "text/plain": [
       "'Cooper Black'"
      ]
     },
     "metadata": {},
     "output_type": "display_data"
    },
    {
     "data": {
      "text/plain": [
       "72.0"
      ]
     },
     "metadata": {},
     "output_type": "display_data"
    },
    {
     "name": "stdout",
     "output_type": "stream",
     "text": [
      "TextBox 2\n"
     ]
    },
    {
     "data": {
      "text/plain": [
       "'Times New Roman'"
      ]
     },
     "metadata": {},
     "output_type": "display_data"
    },
    {
     "name": "stdout",
     "output_type": "stream",
     "text": [
      "TextBox 2\n",
      "TextBox 2\n",
      "TextBox 2\n"
     ]
    },
    {
     "data": {
      "text/plain": [
       "16.0"
      ]
     },
     "metadata": {},
     "output_type": "display_data"
    },
    {
     "name": "stdout",
     "output_type": "stream",
     "text": [
      "TextBox 2\n",
      "TextBox 2\n",
      "10, DATE (16)\n",
      "12, SLIDE_NUMBER (13)\n",
      "\n",
      "slide number2\n",
      "0, TITLE (1)\n",
      "Title 1\n",
      "Title 1\n",
      "1, OBJECT (7)\n",
      "Content Placeholder 2\n"
     ]
    },
    {
     "data": {
      "text/plain": [
       "28.0"
      ]
     },
     "metadata": {},
     "output_type": "display_data"
    },
    {
     "name": "stdout",
     "output_type": "stream",
     "text": [
      "Content Placeholder 2\n",
      "Content Placeholder 2\n",
      "Content Placeholder 2\n",
      "Content Placeholder 2\n",
      "Content Placeholder 2\n",
      "Content Placeholder 2\n",
      "Content Placeholder 2\n",
      "Content Placeholder 2\n",
      "Content Placeholder 2\n",
      "Content Placeholder 2\n",
      "10, DATE (16)\n",
      "12, SLIDE_NUMBER (13)\n",
      "\n",
      "slide number3\n",
      "0, TITLE (1)\n",
      "Title 1\n",
      "Title 1\n",
      "1, OBJECT (7)\n",
      "Content Placeholder 2\n",
      "Content Placeholder 2\n",
      "Content Placeholder 2\n",
      "Content Placeholder 2\n",
      "10, DATE (16)\n",
      "12, SLIDE_NUMBER (13)\n",
      "\n",
      "slide number4\n",
      "0, TITLE (1)\n",
      "Title 1\n"
     ]
    },
    {
     "data": {
      "text/plain": [
       "46.0"
      ]
     },
     "metadata": {},
     "output_type": "display_data"
    },
    {
     "name": "stdout",
     "output_type": "stream",
     "text": [
      "1, OBJECT (7)\n",
      "Content Placeholder 2\n"
     ]
    },
    {
     "data": {
      "text/plain": [
       "32.0"
      ]
     },
     "metadata": {},
     "output_type": "display_data"
    },
    {
     "name": "stdout",
     "output_type": "stream",
     "text": [
      "Content Placeholder 2\n"
     ]
    },
    {
     "data": {
      "text/plain": [
       "24.0"
      ]
     },
     "metadata": {},
     "output_type": "display_data"
    },
    {
     "name": "stdout",
     "output_type": "stream",
     "text": [
      "Content Placeholder 2\n",
      "Content Placeholder 2\n",
      "Content Placeholder 2\n",
      "2, OBJECT (7)\n",
      "Content Placeholder 15\n",
      "Content Placeholder 15\n"
     ]
    },
    {
     "data": {
      "text/plain": [
       "26.0"
      ]
     },
     "metadata": {},
     "output_type": "display_data"
    },
    {
     "name": "stdout",
     "output_type": "stream",
     "text": [
      "10, DATE (16)\n",
      "12, SLIDE_NUMBER (13)\n",
      "\n",
      "slide number5\n",
      "0, TITLE (1)\n",
      "Title 1\n",
      "1, OBJECT (7)\n",
      "Content Placeholder 4\n"
     ]
    },
    {
     "data": {
      "text/plain": [
       "'Modern No. 20'"
      ]
     },
     "metadata": {},
     "output_type": "display_data"
    },
    {
     "data": {
      "text/plain": [
       "20.0"
      ]
     },
     "metadata": {},
     "output_type": "display_data"
    },
    {
     "name": "stdout",
     "output_type": "stream",
     "text": [
      "Content Placeholder 4\n",
      "Content Placeholder 4\n",
      "10, DATE (16)\n",
      "12, SLIDE_NUMBER (13)\n",
      "\n",
      "slide number6\n",
      "0, TITLE (1)\n",
      "Title 1\n",
      "1, OBJECT (7)\n",
      "no textframe\n",
      "TextBox 4\n"
     ]
    },
    {
     "data": {
      "text/plain": [
       "'Broadway'"
      ]
     },
     "metadata": {},
     "output_type": "display_data"
    },
    {
     "data": {
      "text/plain": [
       "30.0"
      ]
     },
     "metadata": {},
     "output_type": "display_data"
    },
    {
     "name": "stdout",
     "output_type": "stream",
     "text": [
      "TextBox 5\n",
      "TextBox 5\n",
      "TextBox 5\n",
      "TextBox 5\n",
      "TextBox 5\n",
      "TextBox 5\n",
      "TextBox 5\n",
      "TextBox 5\n",
      "TextBox 5\n",
      "TextBox 5\n",
      "TextBox 5\n",
      "10, DATE (16)\n",
      "12, SLIDE_NUMBER (13)\n",
      "\n",
      "slide number7\n",
      "0, TITLE (1)\n",
      "Title 1\n",
      "1, OBJECT (7)\n",
      "Content Placeholder 2\n",
      "Content Placeholder 2\n",
      "Content Placeholder 2\n",
      "Content Placeholder 2\n",
      "Content Placeholder 2\n",
      "Content Placeholder 2\n",
      "10, DATE (16)\n",
      "12, SLIDE_NUMBER (13)\n",
      "\n",
      "slide number8\n",
      "0, TITLE (1)\n",
      "Title 1\n",
      "1, OBJECT (7)\n",
      "Content Placeholder 2\n",
      "Content Placeholder 2\n",
      "Content Placeholder 2\n",
      "Content Placeholder 2\n",
      "Content Placeholder 2\n",
      "10, DATE (16)\n",
      "12, SLIDE_NUMBER (13)\n",
      "\n",
      "slide number9\n",
      "0, TITLE (1)\n",
      "Title 1\n",
      "1, OBJECT (7)\n",
      "Content Placeholder 2\n",
      "Content Placeholder 2\n",
      "Content Placeholder 2\n",
      "Content Placeholder 2\n",
      "Content Placeholder 2\n",
      "Content Placeholder 2\n",
      "Content Placeholder 2\n",
      "Content Placeholder 2\n",
      "Content Placeholder 2\n",
      "Content Placeholder 2\n",
      "Content Placeholder 2\n",
      "Content Placeholder 2\n",
      "Content Placeholder 2\n",
      "10, DATE (16)\n",
      "12, SLIDE_NUMBER (13)\n",
      "\n",
      "slide number10\n",
      "0, TITLE (1)\n",
      "Title 1\n",
      "10, DATE (16)\n",
      "12, SLIDE_NUMBER (13)\n",
      "\n",
      "slide number11\n",
      "0, TITLE (1)\n",
      "10, DATE (16)\n",
      "12, SLIDE_NUMBER (13)\n",
      "\n",
      "slide number12\n",
      "0, TITLE (1)\n",
      "Title 1\n",
      "1, OBJECT (7)\n",
      "Content Placeholder 2\n",
      "Content Placeholder 2\n",
      "Content Placeholder 2\n",
      "Content Placeholder 2\n",
      "Content Placeholder 2\n",
      "Content Placeholder 2\n",
      "10, DATE (16)\n",
      "12, SLIDE_NUMBER (13)\n",
      "\n",
      "slide number13\n",
      "0, TITLE (1)\n",
      "Title 1\n",
      "1, OBJECT (7)\n",
      "Content Placeholder 2\n",
      "Content Placeholder 2\n",
      "Content Placeholder 2\n",
      "Content Placeholder 2\n",
      "10, DATE (16)\n",
      "12, SLIDE_NUMBER (13)\n",
      "\n",
      "slide number14\n",
      "0, TITLE (1)\n",
      "Title 1\n"
     ]
    },
    {
     "data": {
      "text/plain": [
       "66.0"
      ]
     },
     "metadata": {},
     "output_type": "display_data"
    },
    {
     "name": "stdout",
     "output_type": "stream",
     "text": [
      "Title 1\n",
      "10, DATE (16)\n",
      "12, SLIDE_NUMBER (13)\n",
      "\n",
      "font name\n",
      "['Cooper Black', 'Times New Roman', 'Modern No. 20', 'Broadway']\n",
      "\n",
      "font size\n",
      "[72.0, 16.0, 28.0, 46.0, 32.0, 24.0, 26.0, 20.0, 30.0, 66.0]\n",
      "\n",
      "hyperlink\n",
      "['https://capacity.com/cloud-drive', 'http://www.google.com/', 'http://www.wikipedia.com/', 'http://www.studymafia.org/', 'http://www.pptplanet.com/']\n",
      "\n",
      "color\n",
      "[(0, 112, 192), (0, 176, 80), (255, 192, 0), (112, 48, 160), (0, 176, 240), (0, 32, 96)]\n",
      "\n",
      "number of font name\n",
      "5\n",
      "\n",
      "number of font size\n",
      "11\n",
      "\n",
      " number of hyperlink\n",
      "5\n",
      "\n",
      " number of color\n",
      "7\n",
      "\n",
      " number of pictures\n",
      "7\n",
      "\n",
      " number of chart\n",
      "0\n",
      "\n",
      " number of tables\n",
      "0\n",
      "\n",
      " maximum font size\n",
      "72.0\n",
      "\n",
      " minimum font size\n",
      "16.0\n",
      "e:\\ppt\\91.pptx\n",
      "\n",
      "slide number1\n",
      "0, CENTER_TITLE (3)\n",
      "1, SUBTITLE (4)\n",
      "Subtitle 2\n"
     ]
    },
    {
     "data": {
      "text/plain": [
       "'Times New Roman'"
      ]
     },
     "metadata": {},
     "output_type": "display_data"
    },
    {
     "data": {
      "text/plain": [
       "40.0"
      ]
     },
     "metadata": {},
     "output_type": "display_data"
    },
    {
     "name": "stdout",
     "output_type": "stream",
     "text": [
      "TextBox 5\n"
     ]
    },
    {
     "data": {
      "text/plain": [
       "20.0"
      ]
     },
     "metadata": {},
     "output_type": "display_data"
    },
    {
     "name": "stdout",
     "output_type": "stream",
     "text": [
      "TextBox 5\n",
      "TextBox 5\n",
      "TextBox 5\n",
      "TextBox 5\n",
      "TextBox 7\n",
      "TextBox 7\n",
      "TextBox 7\n",
      "TextBox 7\n",
      "TextBox 7\n",
      "TextBox 7\n",
      "TextBox 7\n",
      "TextBox 9\n"
     ]
    },
    {
     "data": {
      "text/plain": [
       "24.0"
      ]
     },
     "metadata": {},
     "output_type": "display_data"
    },
    {
     "name": "stdout",
     "output_type": "stream",
     "text": [
      "10, DATE (16)\n",
      "12, SLIDE_NUMBER (13)\n",
      "\n",
      "slide number2\n",
      "0, CENTER_TITLE (3)\n",
      "Title 1\n"
     ]
    },
    {
     "data": {
      "text/plain": [
       "36.0"
      ]
     },
     "metadata": {},
     "output_type": "display_data"
    },
    {
     "name": "stdout",
     "output_type": "stream",
     "text": [
      "1, SUBTITLE (4)\n",
      "Subtitle 2\n"
     ]
    },
    {
     "data": {
      "text/plain": [
       "28.0"
      ]
     },
     "metadata": {},
     "output_type": "display_data"
    },
    {
     "name": "stdout",
     "output_type": "stream",
     "text": [
      "Subtitle 2\n",
      "Subtitle 2\n",
      "Subtitle 2\n",
      "Subtitle 2\n",
      "Subtitle 2\n",
      "10, DATE (16)\n",
      "12, SLIDE_NUMBER (13)\n",
      "\n",
      "slide number3\n",
      "10, DATE (16)\n",
      "12, SLIDE_NUMBER (13)\n",
      "\n",
      "slide number4\n",
      "0, CENTER_TITLE (3)\n",
      "Title 1\n",
      "1, SUBTITLE (4)\n",
      "Subtitle 2\n",
      "Subtitle 2\n"
     ]
    },
    {
     "data": {
      "text/plain": [
       "19.0"
      ]
     },
     "metadata": {},
     "output_type": "display_data"
    },
    {
     "name": "stdout",
     "output_type": "stream",
     "text": [
      "Subtitle 2\n",
      "Subtitle 2\n",
      "Subtitle 2\n",
      "Subtitle 2\n",
      "Subtitle 2\n"
     ]
    },
    {
     "data": {
      "text/plain": [
       "18.0"
      ]
     },
     "metadata": {},
     "output_type": "display_data"
    },
    {
     "name": "stdout",
     "output_type": "stream",
     "text": [
      "Subtitle 2\n",
      "10, DATE (16)\n",
      "12, SLIDE_NUMBER (13)\n",
      "\n",
      "slide number5\n",
      "0, CENTER_TITLE (3)\n",
      "Title 1\n",
      "1, SUBTITLE (4)\n",
      "Subtitle 2\n",
      "Subtitle 2\n",
      "Subtitle 2\n",
      "Subtitle 2\n",
      "10, DATE (16)\n",
      "12, SLIDE_NUMBER (13)\n",
      "\n",
      "slide number6\n",
      "0, CENTER_TITLE (3)\n",
      "Title 1\n",
      "1, SUBTITLE (4)\n",
      "Subtitle 2\n",
      "Subtitle 2\n",
      "Subtitle 2\n",
      "Subtitle 2\n",
      "Subtitle 2\n",
      "Subtitle 2\n",
      "Subtitle 2\n",
      "Subtitle 2\n",
      "Subtitle 2\n",
      "Subtitle 2\n",
      "10, DATE (16)\n",
      "12, SLIDE_NUMBER (13)\n",
      "\n",
      "slide number7\n",
      "0, TITLE (1)\n",
      "Title 1\n",
      "1, OBJECT (7)\n",
      "Content Placeholder 2\n",
      "Content Placeholder 2\n",
      "Content Placeholder 2\n",
      "10, DATE (16)\n",
      "12, SLIDE_NUMBER (13)\n",
      "\n",
      "slide number8\n",
      "0, CENTER_TITLE (3)\n",
      "Title 1\n",
      "1, SUBTITLE (4)\n",
      "10, DATE (16)\n",
      "12, SLIDE_NUMBER (13)\n",
      "\n",
      "slide number9\n",
      "0, CENTER_TITLE (3)\n",
      "Title 1\n",
      "1, SUBTITLE (4)\n",
      "Subtitle 2\n",
      "Subtitle 2\n",
      "Subtitle 2\n",
      "Subtitle 2\n",
      "Subtitle 2\n",
      "Subtitle 2\n",
      "Subtitle 2\n",
      "Subtitle 2\n",
      "Subtitle 2\n",
      "Subtitle 2\n",
      "Subtitle 2\n",
      "Subtitle 2\n",
      "Subtitle 2\n",
      "Subtitle 2\n",
      "Subtitle 2\n",
      "Subtitle 2\n",
      "10, DATE (16)\n",
      "12, SLIDE_NUMBER (13)\n",
      "\n",
      "slide number10\n",
      "0, CENTER_TITLE (3)\n",
      "Title 1\n",
      "1, SUBTITLE (4)\n",
      "Subtitle 2\n",
      "Subtitle 2\n",
      "Subtitle 2\n",
      "Subtitle 2\n",
      "Subtitle 2\n",
      "Subtitle 2\n",
      "10, DATE (16)\n",
      "12, SLIDE_NUMBER (13)\n",
      "\n",
      "slide number11\n",
      "0, CENTER_TITLE (3)\n",
      "Title 1\n",
      "1, SUBTITLE (4)\n",
      "Subtitle 2\n",
      "Subtitle 2\n",
      "Subtitle 2\n",
      "Subtitle 2\n",
      "Subtitle 2\n",
      "10, DATE (16)\n",
      "12, SLIDE_NUMBER (13)\n",
      "\n",
      "slide number12\n",
      "0, CENTER_TITLE (3)\n",
      "Title 1\n",
      "1, SUBTITLE (4)\n",
      "Subtitle 2\n",
      "Subtitle 2\n",
      "Subtitle 2\n",
      "Subtitle 2\n",
      "Subtitle 2\n",
      "Subtitle 2\n",
      "10, DATE (16)\n",
      "12, SLIDE_NUMBER (13)\n",
      "\n",
      "slide number13\n",
      "0, CENTER_TITLE (3)\n",
      "Title 1\n",
      "1, SUBTITLE (4)\n",
      "Subtitle 2\n",
      "Subtitle 2\n",
      "Subtitle 2\n",
      "Subtitle 2\n",
      "Subtitle 2\n",
      "Subtitle 2\n",
      "Subtitle 2\n",
      "Subtitle 2\n",
      "10, DATE (16)\n",
      "12, SLIDE_NUMBER (13)\n",
      "\n",
      "slide number14\n",
      "0, CENTER_TITLE (3)\n",
      "Title 1\n",
      "1, SUBTITLE (4)\n",
      "Subtitle 2\n",
      "Subtitle 2\n",
      "Subtitle 2\n",
      "Subtitle 2\n",
      "10, DATE (16)\n",
      "12, SLIDE_NUMBER (13)\n",
      "\n",
      "slide number15\n",
      "10, DATE (16)\n",
      "12, SLIDE_NUMBER (13)\n",
      "\n",
      "slide number16\n",
      "0, CENTER_TITLE (3)\n",
      "Title 1\n",
      "1, SUBTITLE (4)\n",
      "Subtitle 2\n",
      "Subtitle 2\n",
      "Subtitle 2\n",
      "TextBox 7\n",
      "TextBox 7\n"
     ]
    },
    {
     "data": {
      "text/plain": [
       "14.0"
      ]
     },
     "metadata": {},
     "output_type": "display_data"
    },
    {
     "name": "stdout",
     "output_type": "stream",
     "text": [
      "TextBox 7\n"
     ]
    },
    {
     "data": {
      "text/plain": [
       "16.0"
      ]
     },
     "metadata": {},
     "output_type": "display_data"
    },
    {
     "name": "stdout",
     "output_type": "stream",
     "text": [
      "TextBox 10\n",
      "TextBox 10\n",
      "10, DATE (16)\n",
      "12, SLIDE_NUMBER (13)\n",
      "\n",
      "slide number17\n",
      "0, CENTER_TITLE (3)\n",
      "Title 1\n",
      "1, SUBTITLE (4)\n",
      "Subtitle 2\n",
      "Subtitle 2\n",
      "Subtitle 2\n",
      "Subtitle 2\n",
      "Subtitle 2\n",
      "Subtitle 2\n",
      "Subtitle 2\n",
      "Subtitle 2\n",
      "Subtitle 2\n",
      "Subtitle 2\n",
      "10, DATE (16)\n",
      "12, SLIDE_NUMBER (13)\n",
      "\n",
      "slide number18\n",
      "10, DATE (16)\n",
      "12, SLIDE_NUMBER (13)\n",
      "\n",
      "font name\n",
      "['Times New Roman']\n",
      "\n",
      "font size\n",
      "[40.0, 20.0, 24.0, 36.0, 28.0, 19.0, 18.0, 14.0, 16.0]\n",
      "\n",
      "hyperlink\n",
      "[]\n",
      "\n",
      "color\n",
      "[(255, 0, 0), (32, 33, 34), (255, 192, 0), (0, 176, 240), (0, 112, 192), (0, 176, 80), (112, 48, 160), (0, 0, 0), (41, 41, 41)]\n",
      "\n",
      "number of font name\n",
      "2\n",
      "\n",
      "number of font size\n",
      "10\n",
      "\n",
      " number of hyperlink\n",
      "0\n",
      "\n",
      " number of color\n",
      "10\n",
      "\n",
      " number of pictures\n",
      "18\n",
      "\n",
      " number of chart\n",
      "0\n",
      "\n",
      " number of tables\n",
      "0\n",
      "\n",
      " maximum font size\n",
      "40.0\n",
      "\n",
      " minimum font size\n",
      "14.0\n",
      "e:\\ppt\\92.pptx\n",
      "\n",
      "slide number1\n",
      "0, CENTER_TITLE (3)\n",
      "Title 1\n",
      "1, SUBTITLE (4)\n",
      "Subtitle 2\n",
      "10, DATE (16)\n",
      "12, SLIDE_NUMBER (13)\n",
      "\n",
      "slide number2\n",
      "0, TITLE (1)\n",
      "Title 1\n"
     ]
    },
    {
     "data": {
      "text/plain": [
       "'Times New Roman'"
      ]
     },
     "metadata": {},
     "output_type": "display_data"
    },
    {
     "data": {
      "text/plain": [
       "20.0"
      ]
     },
     "metadata": {},
     "output_type": "display_data"
    },
    {
     "name": "stdout",
     "output_type": "stream",
     "text": [
      "Title 1\n"
     ]
    },
    {
     "data": {
      "text/plain": [
       "28.0"
      ]
     },
     "metadata": {},
     "output_type": "display_data"
    },
    {
     "name": "stdout",
     "output_type": "stream",
     "text": [
      "Title 1\n",
      "Title 1\n"
     ]
    },
    {
     "data": {
      "text/plain": [
       "24.0"
      ]
     },
     "metadata": {},
     "output_type": "display_data"
    },
    {
     "name": "stdout",
     "output_type": "stream",
     "text": [
      "Title 1\n",
      "Title 1\n",
      "Title 1\n",
      "Title 1\n",
      "Title 1\n",
      "Title 1\n",
      "Title 1\n",
      "Title 1\n",
      "Title 1\n",
      "10, DATE (16)\n",
      "12, SLIDE_NUMBER (13)\n",
      "\n",
      "slide number3\n",
      "0, TITLE (1)\n",
      "Title 1\n",
      "1, OBJECT (7)\n",
      "Content Placeholder 5\n",
      "Content Placeholder 5\n",
      "10, DATE (16)\n",
      "12, SLIDE_NUMBER (13)\n",
      "\n",
      "slide number4\n",
      "0, TITLE (1)\n",
      "Title 1\n",
      "1, OBJECT (7)\n",
      "Content Placeholder 2\n"
     ]
    },
    {
     "data": {
      "text/plain": [
       "17.0"
      ]
     },
     "metadata": {},
     "output_type": "display_data"
    },
    {
     "name": "stdout",
     "output_type": "stream",
     "text": [
      "Content Placeholder 2\n",
      "Content Placeholder 2\n",
      "Content Placeholder 2\n",
      "Content Placeholder 2\n",
      "Content Placeholder 2\n",
      "Content Placeholder 2\n",
      "Content Placeholder 2\n",
      "Content Placeholder 2\n",
      "Content Placeholder 2\n",
      "Content Placeholder 2\n",
      "Content Placeholder 2\n",
      "Content Placeholder 2\n",
      "Content Placeholder 2\n",
      "10, DATE (16)\n",
      "12, SLIDE_NUMBER (13)\n",
      "\n",
      "slide number5\n",
      "0, TITLE (1)\n",
      "Title 1\n",
      "1, OBJECT (7)\n",
      "Content Placeholder 2\n",
      "Content Placeholder 2\n",
      "Content Placeholder 2\n",
      "Content Placeholder 2\n",
      "Content Placeholder 2\n",
      "10, DATE (16)\n",
      "12, SLIDE_NUMBER (13)\n",
      "\n",
      "slide number6\n",
      "0, TITLE (1)\n",
      "Title 1\n",
      "1, OBJECT (7)\n",
      "Content Placeholder 6\n",
      "Content Placeholder 6\n",
      "Content Placeholder 6\n",
      "10, DATE (16)\n",
      "12, SLIDE_NUMBER (13)\n",
      "\n",
      "slide number7\n",
      "0, TITLE (1)\n",
      "Title 1\n",
      "1, OBJECT (7)\n",
      "Content Placeholder 2\n",
      "Content Placeholder 2\n",
      "Content Placeholder 2\n",
      "Content Placeholder 2\n",
      "10, DATE (16)\n",
      "12, SLIDE_NUMBER (13)\n",
      "\n",
      "slide number8\n",
      "0, TITLE (1)\n",
      "Title 1\n",
      "Title 1\n",
      "Title 1\n"
     ]
    },
    {
     "data": {
      "text/plain": [
       "22.0"
      ]
     },
     "metadata": {},
     "output_type": "display_data"
    },
    {
     "name": "stdout",
     "output_type": "stream",
     "text": [
      "1, OBJECT (7)\n",
      "no textframe\n",
      "10, DATE (16)\n",
      "12, SLIDE_NUMBER (13)\n",
      "\n",
      "slide number9\n",
      "0, TITLE (1)\n",
      "Title 1\n",
      "1, OBJECT (7)\n",
      "Content Placeholder 2\n",
      "Content Placeholder 2\n",
      "Content Placeholder 2\n",
      "Content Placeholder 2\n",
      "Content Placeholder 2\n",
      "Content Placeholder 2\n",
      "10, DATE (16)\n",
      "12, SLIDE_NUMBER (13)\n",
      "\n",
      "slide number10\n",
      "0, TITLE (1)\n",
      "Title 1\n",
      "1, OBJECT (7)\n",
      "Content Placeholder 2\n",
      "Content Placeholder 2\n",
      "Content Placeholder 2\n",
      "Content Placeholder 2\n",
      "10, DATE (16)\n",
      "12, SLIDE_NUMBER (13)\n",
      "\n",
      "slide number11\n",
      "0, TITLE (1)\n",
      "Title 1\n",
      "Title 1\n",
      "1, OBJECT (7)\n",
      "no textframe\n",
      "10, DATE (16)\n",
      "12, SLIDE_NUMBER (13)\n",
      "\n",
      "slide number12\n",
      "0, TITLE (1)\n",
      "Title 1\n",
      "1, OBJECT (7)\n",
      "Content Placeholder 2\n",
      "Content Placeholder 2\n",
      "Content Placeholder 2\n",
      "Content Placeholder 2\n",
      "Content Placeholder 2\n",
      "Content Placeholder 2\n",
      "Content Placeholder 2\n",
      "Content Placeholder 2\n",
      "Content Placeholder 2\n",
      "10, DATE (16)\n",
      "12, SLIDE_NUMBER (13)\n",
      "\n",
      "slide number13\n",
      "0, TITLE (1)\n",
      "Title 1\n",
      "Title 1\n",
      "Title 1\n"
     ]
    },
    {
     "data": {
      "text/plain": [
       "14.0"
      ]
     },
     "metadata": {},
     "output_type": "display_data"
    },
    {
     "name": "stdout",
     "output_type": "stream",
     "text": [
      "Title 1\n"
     ]
    },
    {
     "data": {
      "text/plain": [
       "16.0"
      ]
     },
     "metadata": {},
     "output_type": "display_data"
    },
    {
     "name": "stdout",
     "output_type": "stream",
     "text": [
      "Title 1\n",
      "1, OBJECT (7)\n",
      "no textframe\n",
      "10, DATE (16)\n",
      "12, SLIDE_NUMBER (13)\n",
      "\n",
      "slide number14\n",
      "0, TITLE (1)\n",
      "Title 1\n",
      "1, OBJECT (7)\n",
      "Content Placeholder 2\n",
      "Content Placeholder 2\n",
      "Content Placeholder 2\n",
      "Content Placeholder 2\n",
      "10, DATE (16)\n",
      "12, SLIDE_NUMBER (13)\n",
      "\n",
      "slide number15\n",
      "0, TITLE (1)\n",
      "Title 1\n",
      "1, OBJECT (7)\n",
      "Content Placeholder 2\n",
      "Content Placeholder 2\n",
      "10, DATE (16)\n",
      "12, SLIDE_NUMBER (13)\n",
      "\n",
      "slide number16\n",
      "0, TITLE (1)\n",
      "Title 1\n",
      "1, OBJECT (7)\n",
      "Content Placeholder 2\n",
      "Content Placeholder 2\n",
      "Content Placeholder 2\n",
      "Content Placeholder 2\n",
      "10, DATE (16)\n",
      "12, SLIDE_NUMBER (13)\n",
      "\n",
      "slide number17\n",
      "0, TITLE (1)\n",
      "Title 1\n",
      "1, OBJECT (7)\n",
      "Content Placeholder 2\n",
      "Content Placeholder 2\n",
      "Content Placeholder 2\n",
      "Content Placeholder 2\n",
      "10, DATE (16)\n",
      "12, SLIDE_NUMBER (13)\n",
      "\n",
      "slide number18\n",
      "0, TITLE (1)\n",
      "Title 1\n",
      "1, OBJECT (7)\n",
      "Content Placeholder 2\n",
      "Content Placeholder 2\n",
      "Content Placeholder 2\n",
      "Content Placeholder 2\n",
      "Content Placeholder 2\n",
      "Content Placeholder 2\n",
      "10, DATE (16)\n",
      "12, SLIDE_NUMBER (13)\n",
      "\n",
      "slide number19\n",
      "0, TITLE (1)\n",
      "Title 1\n",
      "Title 1\n",
      "Title 1\n"
     ]
    },
    {
     "data": {
      "text/plain": [
       "18.0"
      ]
     },
     "metadata": {},
     "output_type": "display_data"
    },
    {
     "name": "stdout",
     "output_type": "stream",
     "text": [
      "1, OBJECT (7)\n",
      "Content Placeholder 2\n",
      "Content Placeholder 2\n",
      "Content Placeholder 2\n",
      "Content Placeholder 2\n",
      "Content Placeholder 2\n",
      "Content Placeholder 2\n",
      "10, DATE (16)\n",
      "12, SLIDE_NUMBER (13)\n",
      "\n",
      "slide number20\n",
      "0, TITLE (1)\n",
      "Title 1\n",
      "1, OBJECT (7)\n",
      "Content Placeholder 2\n",
      "Content Placeholder 2\n",
      "10, DATE (16)\n",
      "12, SLIDE_NUMBER (13)\n",
      "\n",
      "slide number21\n",
      "0, TITLE (1)\n",
      "Title 1\n",
      "1, OBJECT (7)\n",
      "Content Placeholder 2\n",
      "Content Placeholder 2\n",
      "Content Placeholder 2\n",
      "Content Placeholder 2\n",
      "10, DATE (16)\n",
      "12, SLIDE_NUMBER (13)\n",
      "\n",
      "slide number22\n",
      "10, DATE (16)\n",
      "12, SLIDE_NUMBER (13)\n",
      "\n",
      "slide number23\n",
      "10, DATE (16)\n",
      "12, SLIDE_NUMBER (13)\n",
      "\n",
      "font name\n",
      "['Times New Roman']\n",
      "\n",
      "font size\n",
      "[20.0, 28.0, 24.0, 17.0, 22.0, 14.0, 16.0, 18.0]\n",
      "\n",
      "hyperlink\n",
      "[]\n",
      "\n",
      "color\n",
      "[(0, 32, 96), (32, 33, 36)]\n",
      "\n",
      "number of font name\n",
      "2\n",
      "\n",
      "number of font size\n",
      "9\n",
      "\n",
      " number of hyperlink\n",
      "0\n",
      "\n",
      " number of color\n",
      "3\n",
      "\n",
      " number of pictures\n",
      "4\n",
      "\n",
      " number of chart\n",
      "0\n",
      "\n",
      " number of tables\n",
      "0\n",
      "\n",
      " maximum font size\n",
      "28.0\n",
      "\n",
      " minimum font size\n",
      "14.0\n",
      "e:\\ppt\\93.pptx\n",
      "\n",
      "slide number1\n",
      "0, TITLE (1)\n",
      "Title 9\n"
     ]
    },
    {
     "data": {
      "text/plain": [
       "'Arial'"
      ]
     },
     "metadata": {},
     "output_type": "display_data"
    },
    {
     "name": "stdout",
     "output_type": "stream",
     "text": [
      "Title 9\n",
      "Title 9\n",
      "Title 9\n",
      "1, BODY (2)\n",
      "Text Placeholder 10\n",
      "Text Placeholder 10\n",
      "Text Placeholder 10\n",
      "Text Placeholder 10\n",
      "10, DATE (16)\n",
      "12, SLIDE_NUMBER (13)\n",
      "\n",
      "slide number2\n",
      "0, TITLE (1)\n",
      "Title 3\n"
     ]
    },
    {
     "data": {
      "text/plain": [
       "28.0"
      ]
     },
     "metadata": {},
     "output_type": "display_data"
    },
    {
     "name": "stdout",
     "output_type": "stream",
     "text": [
      "Title 3\n",
      "Title 3\n",
      "1, OBJECT (7)\n",
      "Content Placeholder 4\n"
     ]
    },
    {
     "data": {
      "text/plain": [
       "20.0"
      ]
     },
     "metadata": {},
     "output_type": "display_data"
    },
    {
     "name": "stdout",
     "output_type": "stream",
     "text": [
      "Content Placeholder 4\n",
      "Content Placeholder 4\n",
      "Content Placeholder 4\n",
      "Content Placeholder 4\n",
      "Content Placeholder 4\n",
      "Content Placeholder 4\n",
      "Content Placeholder 4\n",
      "Content Placeholder 4\n",
      "10, DATE (16)\n",
      "12, SLIDE_NUMBER (13)\n",
      "\n",
      "slide number3\n",
      "0, TITLE (1)\n",
      "Title 1\n",
      "1, OBJECT (7)\n",
      "Content Placeholder 4\n"
     ]
    },
    {
     "data": {
      "text/plain": [
       "29.0"
      ]
     },
     "metadata": {},
     "output_type": "display_data"
    },
    {
     "name": "stdout",
     "output_type": "stream",
     "text": [
      "Content Placeholder 4\n",
      "Content Placeholder 4\n",
      "Content Placeholder 4\n",
      "10, DATE (16)\n",
      "12, SLIDE_NUMBER (13)\n",
      "\n",
      "slide number4\n",
      "0, TITLE (1)\n",
      "Title 1\n",
      "1, OBJECT (7)\n",
      "Content Placeholder 3\n"
     ]
    },
    {
     "data": {
      "text/plain": [
       "'+mj-lt'"
      ]
     },
     "metadata": {},
     "output_type": "display_data"
    },
    {
     "name": "stdout",
     "output_type": "stream",
     "text": [
      "Content Placeholder 3\n",
      "Content Placeholder 3\n",
      "Content Placeholder 3\n",
      "Content Placeholder 3\n",
      "Content Placeholder 3\n",
      "10, DATE (16)\n",
      "12, SLIDE_NUMBER (13)\n",
      "\n",
      "slide number5\n",
      "0, TITLE (1)\n",
      "Title 1\n",
      "1, OBJECT (7)\n",
      "Content Placeholder 3\n",
      "Content Placeholder 3\n",
      "Content Placeholder 3\n",
      "Content Placeholder 3\n",
      "Content Placeholder 3\n",
      "Content Placeholder 3\n",
      "Content Placeholder 3\n",
      "10, DATE (16)\n",
      "12, SLIDE_NUMBER (13)\n",
      "\n",
      "slide number6\n",
      "0, TITLE (1)\n",
      "Title 1\n",
      "10, DATE (16)\n",
      "12, SLIDE_NUMBER (13)\n",
      "\n",
      "slide number7\n",
      "0, TITLE (1)\n",
      "Title 1\n",
      "10, DATE (16)\n",
      "12, SLIDE_NUMBER (13)\n",
      "\n",
      "slide number8\n",
      "0, TITLE (1)\n",
      "Title 1\n",
      "1, OBJECT (7)\n",
      "Content Placeholder 3\n",
      "Content Placeholder 3\n",
      "Content Placeholder 3\n",
      "Content Placeholder 3\n",
      "Content Placeholder 3\n",
      "10, DATE (16)\n",
      "12, SLIDE_NUMBER (13)\n",
      "\n",
      "slide number9\n",
      "10, DATE (16)\n",
      "12, SLIDE_NUMBER (13)\n",
      "\n",
      "slide number10\n",
      "0, TITLE (1)\n",
      "Title 1\n",
      "1, OBJECT (7)\n",
      "Content Placeholder 3\n",
      "Content Placeholder 3\n",
      "10, DATE (16)\n",
      "12, SLIDE_NUMBER (13)\n",
      "\n",
      "slide number11\n",
      "0, TITLE (1)\n",
      "Title 1\n",
      "1, OBJECT (7)\n",
      "Content Placeholder 3\n"
     ]
    },
    {
     "data": {
      "text/plain": [
       "24.0"
      ]
     },
     "metadata": {},
     "output_type": "display_data"
    },
    {
     "name": "stdout",
     "output_type": "stream",
     "text": [
      "Content Placeholder 3\n",
      "Content Placeholder 3\n",
      "Content Placeholder 3\n",
      "Content Placeholder 3\n",
      "Content Placeholder 3\n",
      "Content Placeholder 3\n",
      "Content Placeholder 3\n",
      "Content Placeholder 3\n",
      "Content Placeholder 3\n",
      "Content Placeholder 3\n",
      "Content Placeholder 3\n",
      "Content Placeholder 3\n",
      "10, DATE (16)\n",
      "12, SLIDE_NUMBER (13)\n",
      "\n",
      "slide number12\n",
      "10, DATE (16)\n",
      "12, SLIDE_NUMBER (13)\n",
      "\n",
      "slide number13\n",
      "10, DATE (16)\n",
      "12, SLIDE_NUMBER (13)\n",
      "\n",
      "font name\n",
      "['Arial', '+mj-lt']\n",
      "\n",
      "font size\n",
      "[28.0, 20.0, 29.0, 24.0]\n",
      "\n",
      "hyperlink\n",
      "['http://www.networkcomputing.com/cloud-infrastructure/iot-out-cloud-fog/345618829', 'http://www.wsj.com/articles/SB10001424052702304908304579566662320279406', 'https://techradar.cisco.com/technology/fog-computing']\n",
      "\n",
      "color\n",
      "[(192, 0, 0), (255, 0, 0), (0, 176, 80), (0, 176, 240), (255, 192, 0)]\n",
      "\n",
      "number of font name\n",
      "3\n",
      "\n",
      "number of font size\n",
      "5\n",
      "\n",
      " number of hyperlink\n",
      "3\n",
      "\n",
      " number of color\n",
      "6\n",
      "\n",
      " number of pictures\n",
      "5\n",
      "\n",
      " number of chart\n",
      "0\n",
      "\n",
      " number of tables\n",
      "0\n",
      "\n",
      " maximum font size\n",
      "29.0\n",
      "\n",
      " minimum font size\n",
      "20.0\n",
      "e:\\ppt\\94.pptx\n",
      "\n",
      "slide number1\n",
      "0, CENTER_TITLE (3)\n",
      "Title 1\n",
      "Title 1\n",
      "Title 1\n"
     ]
    },
    {
     "data": {
      "text/plain": [
       "49.0"
      ]
     },
     "metadata": {},
     "output_type": "display_data"
    },
    {
     "name": "stdout",
     "output_type": "stream",
     "text": [
      "Title 1\n",
      "1, SUBTITLE (4)\n",
      "Subtitle 2\n",
      "Subtitle 2\n",
      "Subtitle 2\n",
      "Subtitle 2\n",
      "Subtitle 2\n",
      "Subtitle 2\n",
      "Subtitle 2\n",
      "Subtitle 2\n",
      "10, DATE (16)\n",
      "12, SLIDE_NUMBER (13)\n",
      "\n",
      "slide number2\n",
      "0, TITLE (1)\n",
      "Title 1\n",
      "1, OBJECT (7)\n",
      "Content Placeholder 2\n"
     ]
    },
    {
     "data": {
      "text/plain": [
       "'Times New Roman'"
      ]
     },
     "metadata": {},
     "output_type": "display_data"
    },
    {
     "data": {
      "text/plain": [
       "96.0"
      ]
     },
     "metadata": {},
     "output_type": "display_data"
    },
    {
     "name": "stdout",
     "output_type": "stream",
     "text": [
      "Content Placeholder 2\n",
      "Content Placeholder 2\n",
      "Content Placeholder 2\n",
      "Content Placeholder 2\n",
      "Content Placeholder 2\n",
      "Content Placeholder 2\n",
      "Content Placeholder 2\n",
      "Content Placeholder 2\n",
      "Content Placeholder 2\n",
      "Content Placeholder 2\n",
      "Content Placeholder 2\n",
      "Content Placeholder 2\n",
      "Content Placeholder 2\n",
      "Content Placeholder 2\n",
      "Content Placeholder 2\n",
      "Content Placeholder 2\n",
      "10, DATE (16)\n",
      "12, SLIDE_NUMBER (13)\n",
      "\n",
      "slide number3\n",
      "0, TITLE (1)\n",
      "Title 1\n",
      "1, OBJECT (7)\n",
      "Content Placeholder 2\n",
      "Content Placeholder 2\n",
      "Content Placeholder 2\n",
      "Content Placeholder 2\n",
      "10, DATE (16)\n",
      "12, SLIDE_NUMBER (13)\n",
      "\n",
      "slide number4\n",
      "0, TITLE (1)\n",
      "Title 1\n",
      "1, OBJECT (7)\n",
      "Content Placeholder 2\n",
      "Content Placeholder 2\n",
      "Content Placeholder 2\n",
      "Content Placeholder 2\n",
      "Content Placeholder 2\n",
      "Content Placeholder 2\n",
      "Content Placeholder 2\n",
      "Content Placeholder 2\n",
      "Content Placeholder 2\n",
      "Content Placeholder 2\n",
      "Content Placeholder 2\n",
      "Content Placeholder 2\n",
      "10, DATE (16)\n",
      "12, SLIDE_NUMBER (13)\n",
      "\n",
      "slide number5\n",
      "0, TITLE (1)\n",
      "Title 1\n",
      "Title 1\n",
      "1, OBJECT (7)\n",
      "no textframe\n",
      "10, DATE (16)\n",
      "12, SLIDE_NUMBER (13)\n",
      "\n",
      "slide number6\n",
      "0, TITLE (1)\n",
      "Title 1\n",
      "Title 1\n",
      "1, OBJECT (7)\n",
      "10, DATE (16)\n",
      "12, SLIDE_NUMBER (13)\n",
      "\n",
      "slide number7\n",
      "0, TITLE (1)\n",
      "Title 1\n",
      "1, OBJECT (7)\n",
      "Content Placeholder 2\n"
     ]
    },
    {
     "data": {
      "text/plain": [
       "24.0"
      ]
     },
     "metadata": {},
     "output_type": "display_data"
    },
    {
     "name": "stdout",
     "output_type": "stream",
     "text": [
      "Content Placeholder 2\n",
      "Content Placeholder 2\n",
      "Content Placeholder 2\n",
      "Content Placeholder 2\n",
      "10, DATE (16)\n",
      "12, SLIDE_NUMBER (13)\n",
      "\n",
      "slide number8\n",
      "0, TITLE (1)\n",
      "Title 1\n",
      "Title 1\n",
      "1, OBJECT (7)\n",
      "no textframe\n",
      "10, DATE (16)\n",
      "12, SLIDE_NUMBER (13)\n",
      "\n",
      "slide number9\n",
      "0, TITLE (1)\n",
      "Title 1\n",
      "Title 1\n",
      "Title 1\n",
      "1, OBJECT (7)\n",
      "Content Placeholder 2\n",
      "Content Placeholder 2\n",
      "Content Placeholder 2\n",
      "Content Placeholder 2\n",
      "Content Placeholder 2\n",
      "Content Placeholder 2\n",
      "Content Placeholder 2\n",
      "Content Placeholder 2\n",
      "Content Placeholder 2\n",
      "Content Placeholder 2\n",
      "10, DATE (16)\n",
      "12, SLIDE_NUMBER (13)\n",
      "\n",
      "slide number10\n",
      "0, TITLE (1)\n",
      "Title 1\n",
      "1, OBJECT (7)\n",
      "Content Placeholder 2\n",
      "Content Placeholder 2\n",
      "Content Placeholder 2\n",
      "10, DATE (16)\n",
      "12, SLIDE_NUMBER (13)\n",
      "\n",
      "slide number11\n",
      "0, TITLE (1)\n",
      "1, OBJECT (7)\n",
      "Content Placeholder 2\n",
      "Content Placeholder 2\n",
      "Content Placeholder 2\n",
      "Content Placeholder 2\n",
      "Content Placeholder 2\n",
      "Content Placeholder 2\n",
      "Content Placeholder 2\n",
      "Content Placeholder 2\n",
      "10, DATE (16)\n",
      "12, SLIDE_NUMBER (13)\n",
      "\n",
      "slide number12\n",
      "0, TITLE (1)\n",
      "Title 1\n",
      "1, OBJECT (7)\n",
      "Content Placeholder 2\n",
      "Content Placeholder 2\n",
      "10, DATE (16)\n",
      "12, SLIDE_NUMBER (13)\n",
      "\n",
      "slide number13\n",
      "0, TITLE (1)\n",
      "Title 1\n",
      "1, OBJECT (7)\n",
      "Content Placeholder 2\n"
     ]
    },
    {
     "data": {
      "text/plain": [
       "28.0"
      ]
     },
     "metadata": {},
     "output_type": "display_data"
    },
    {
     "name": "stdout",
     "output_type": "stream",
     "text": [
      "Content Placeholder 2\n",
      "Content Placeholder 2\n",
      "10, DATE (16)\n",
      "12, SLIDE_NUMBER (13)\n",
      "\n",
      "slide number14\n",
      "0, TITLE (1)\n",
      "Title 1\n",
      "1, OBJECT (7)\n",
      "Content Placeholder 2\n",
      "Content Placeholder 2\n",
      "Content Placeholder 2\n",
      "Content Placeholder 2\n",
      "10, DATE (16)\n",
      "12, SLIDE_NUMBER (13)\n",
      "\n",
      "slide number15\n",
      "0, TITLE (1)\n",
      "Title 1\n",
      "1, OBJECT (7)\n",
      "Content Placeholder 2\n",
      "Content Placeholder 2\n",
      "Content Placeholder 2\n",
      "Content Placeholder 2\n",
      "Content Placeholder 2\n",
      "Content Placeholder 2\n",
      "Content Placeholder 2\n",
      "Content Placeholder 2\n",
      "Content Placeholder 2\n",
      "Content Placeholder 2\n",
      "Content Placeholder 2\n",
      "10, DATE (16)\n",
      "12, SLIDE_NUMBER (13)\n",
      "\n",
      "font name\n",
      "['Times New Roman']\n",
      "\n",
      "font size\n",
      "[49.0, 96.0, 24.0, 28.0]\n",
      "\n",
      "hyperlink\n",
      "['http://teleinfobd.blogspot.in/2012/01/what-is-lifi.html']\n",
      "\n",
      "color\n",
      "[(0, 176, 80), (0, 176, 240), (146, 208, 80), (255, 0, 0), (112, 48, 160)]\n",
      "\n",
      "number of font name\n",
      "2\n",
      "\n",
      "number of font size\n",
      "5\n",
      "\n",
      " number of hyperlink\n",
      "1\n",
      "\n",
      " number of color\n",
      "6\n",
      "\n",
      " number of pictures\n",
      "1\n",
      "\n",
      " number of chart\n",
      "0\n",
      "\n",
      " number of tables\n",
      "3\n",
      "\n",
      " maximum font size\n",
      "96.0\n",
      "\n",
      " minimum font size\n",
      "24.0\n",
      "e:\\ppt\\95.pptx\n",
      "\n",
      "slide number1\n",
      "Text Box 9\n"
     ]
    },
    {
     "data": {
      "text/plain": [
       "16.0"
      ]
     },
     "metadata": {},
     "output_type": "display_data"
    },
    {
     "name": "stdout",
     "output_type": "stream",
     "text": [
      "Text Box 9\n",
      "Text Box 9\n",
      "Text Box 9\n",
      "Text Box 9\n",
      "Text Box 9\n",
      "Text Box 9\n",
      "TextBox 1\n"
     ]
    },
    {
     "data": {
      "text/plain": [
       "28.0"
      ]
     },
     "metadata": {},
     "output_type": "display_data"
    },
    {
     "name": "stdout",
     "output_type": "stream",
     "text": [
      "TextBox 1\n",
      "TextBox 1\n",
      "TextBox 1\n",
      "TextBox 1\n",
      "\n",
      "slide number2\n",
      "0, TITLE (1)\n",
      "Title 1\n",
      "1, OBJECT (7)\n",
      "Content Placeholder 3\n"
     ]
    },
    {
     "data": {
      "text/plain": [
       "'Arial'"
      ]
     },
     "metadata": {},
     "output_type": "display_data"
    },
    {
     "name": "stdout",
     "output_type": "stream",
     "text": [
      "Content Placeholder 3\n",
      "Content Placeholder 3\n",
      "Content Placeholder 3\n",
      "Content Placeholder 3\n",
      "Content Placeholder 3\n",
      "Content Placeholder 3\n",
      "\n",
      "slide number3\n",
      "0, TITLE (1)\n",
      "Title 2\n"
     ]
    },
    {
     "data": {
      "text/plain": [
       "'Times New Roman'"
      ]
     },
     "metadata": {},
     "output_type": "display_data"
    },
    {
     "name": "stdout",
     "output_type": "stream",
     "text": [
      "2, BODY (2)\n",
      "Text Placeholder 4\n"
     ]
    },
    {
     "data": {
      "text/plain": [
       "'Arial Black'"
      ]
     },
     "metadata": {},
     "output_type": "display_data"
    },
    {
     "data": {
      "text/plain": [
       "12.0"
      ]
     },
     "metadata": {},
     "output_type": "display_data"
    },
    {
     "name": "stdout",
     "output_type": "stream",
     "text": [
      "Text Placeholder 4\n",
      "Text Placeholder 4\n"
     ]
    },
    {
     "data": {
      "text/plain": [
       "20.0"
      ]
     },
     "metadata": {},
     "output_type": "display_data"
    },
    {
     "name": "stdout",
     "output_type": "stream",
     "text": [
      "Text Placeholder 4\n",
      "1, OBJECT (7)\n",
      "no textframe\n",
      "\n",
      "slide number4\n",
      "\n",
      "slide number5\n",
      "0, TITLE (1)\n",
      "Title 1\n"
     ]
    },
    {
     "data": {
      "text/plain": [
       "40.0"
      ]
     },
     "metadata": {},
     "output_type": "display_data"
    },
    {
     "name": "stdout",
     "output_type": "stream",
     "text": [
      "2, BODY (2)\n",
      "Text Placeholder 2\n",
      "Text Placeholder 2\n"
     ]
    },
    {
     "data": {
      "text/plain": [
       "32.0"
      ]
     },
     "metadata": {},
     "output_type": "display_data"
    },
    {
     "name": "stdout",
     "output_type": "stream",
     "text": [
      "Text Placeholder 2\n",
      "Text Placeholder 2\n"
     ]
    },
    {
     "data": {
      "text/plain": [
       "24.0"
      ]
     },
     "metadata": {},
     "output_type": "display_data"
    },
    {
     "name": "stdout",
     "output_type": "stream",
     "text": [
      "Text Placeholder 2\n",
      "Text Placeholder 2\n",
      "Text Placeholder 2\n",
      "Text Placeholder 2\n",
      "Text Placeholder 2\n",
      "Text Placeholder 2\n",
      "Text Placeholder 2\n",
      "Text Placeholder 2\n",
      "Text Placeholder 2\n",
      "Text Placeholder 2\n",
      "1, OBJECT (7)\n",
      "no textframe\n",
      "\n",
      "slide number6\n",
      "0, TITLE (1)\n",
      "Title 1\n",
      "2, BODY (2)\n",
      "Text Placeholder 2\n",
      "Text Placeholder 2\n",
      "Text Placeholder 2\n",
      "Text Placeholder 2\n",
      "Text Placeholder 2\n",
      "Text Placeholder 2\n",
      "1, OBJECT (7)\n",
      "no textframe\n",
      "\n",
      "slide number7\n",
      "4294967295, TITLE (1)\n",
      "Title 1\n",
      "Title 1\n",
      "\n",
      "slide number8\n",
      "\n",
      "slide number9\n",
      "0, TITLE (1)\n",
      "Title 1\n",
      "2, BODY (2)\n",
      "Text Placeholder 2\n",
      "Text Placeholder 2\n",
      "Text Placeholder 2\n",
      "Text Placeholder 2\n",
      "Text Placeholder 2\n",
      "Text Placeholder 2\n",
      "Text Placeholder 2\n",
      "Text Placeholder 2\n",
      "Text Placeholder 2\n",
      "Text Placeholder 2\n",
      "Text Placeholder 2\n",
      "Text Placeholder 2\n",
      "Text Placeholder 2\n",
      "1, OBJECT (7)\n",
      "no textframe\n",
      "\n",
      "slide number10\n",
      "\n",
      "slide number11\n",
      "0, TITLE (1)\n",
      "Title 1\n",
      "Title 1\n",
      "2, BODY (2)\n",
      "Text Placeholder 3\n",
      "Text Placeholder 3\n",
      "Text Placeholder 3\n",
      "Text Placeholder 3\n",
      "\n",
      "slide number12\n",
      "0, TITLE (1)\n",
      "Title 1\n",
      "2, BODY (2)\n",
      "Text Placeholder 2\n",
      "\n",
      "slide number13\n",
      "0, CENTER_TITLE (3)\n",
      "Title 4\n",
      "\n",
      "slide number14\n",
      "0, TITLE (1)\n",
      "Title 1\n"
     ]
    },
    {
     "data": {
      "text/plain": [
       "96.0"
      ]
     },
     "metadata": {},
     "output_type": "display_data"
    },
    {
     "name": "stdout",
     "output_type": "stream",
     "text": [
      "\n",
      "font name\n",
      "['Arial', 'Times New Roman', 'Arial Black']\n",
      "\n",
      "font size\n",
      "[16.0, 28.0, 12.0, 20.0, 40.0, 32.0, 24.0, 96.0]\n",
      "\n",
      "hyperlink\n",
      "[]\n",
      "\n",
      "color\n",
      "[]\n",
      "\n",
      "number of font name\n",
      "4\n",
      "\n",
      "number of font size\n",
      "9\n",
      "\n",
      " number of hyperlink\n",
      "0\n",
      "\n",
      " number of color\n",
      "1\n",
      "\n",
      " number of pictures\n",
      "7\n",
      "\n",
      " number of chart\n",
      "0\n",
      "\n",
      " number of tables\n",
      "0\n",
      "\n",
      " maximum font size\n",
      "96.0\n",
      "\n",
      " minimum font size\n",
      "12.0\n",
      "e:\\ppt\\96.pptx\n",
      "\n",
      "slide number1\n",
      "0, CENTER_TITLE (3)\n",
      "Google Shape;179;p18\n",
      "Google Shape;179;p18\n",
      "Google Shape;179;p18\n",
      "1, SUBTITLE (4)\n",
      "Google Shape;180;p18\n"
     ]
    },
    {
     "data": {
      "text/plain": [
       "'Cambria'"
      ]
     },
     "metadata": {},
     "output_type": "display_data"
    },
    {
     "name": "stdout",
     "output_type": "stream",
     "text": [
      "Google Shape;180;p18\n",
      "\n",
      "slide number2\n",
      "12, SLIDE_NUMBER (13)\n",
      "\n",
      "slide number3\n",
      "0, TITLE (1)\n",
      "Google Shape;191;p20\n"
     ]
    },
    {
     "data": {
      "text/plain": [
       "36.0"
      ]
     },
     "metadata": {},
     "output_type": "display_data"
    },
    {
     "name": "stdout",
     "output_type": "stream",
     "text": [
      "1, BODY (2)\n",
      "Google Shape;192;p20\n"
     ]
    },
    {
     "data": {
      "text/plain": [
       "20.0"
      ]
     },
     "metadata": {},
     "output_type": "display_data"
    },
    {
     "name": "stdout",
     "output_type": "stream",
     "text": [
      "Google Shape;192;p20\n",
      "Google Shape;192;p20\n",
      "Google Shape;192;p20\n",
      "Google Shape;192;p20\n",
      "Google Shape;192;p20\n",
      "Google Shape;192;p20\n",
      "Google Shape;192;p20\n",
      "12, SLIDE_NUMBER (13)\n",
      "\n",
      "slide number4\n",
      "1, BODY (2)\n",
      "Google Shape;185;p19\n",
      "Google Shape;185;p19\n",
      "Google Shape;185;p19\n",
      "Google Shape;185;p19\n",
      "Google Shape;185;p19\n",
      "Google Shape;185;p19\n",
      "Google Shape;185;p19\n",
      "Google Shape;185;p19\n",
      "12, SLIDE_NUMBER (13)\n",
      "\n",
      "slide number5\n",
      "1, BODY (2)\n",
      "Google Shape;218;p22\n",
      "Google Shape;218;p22\n"
     ]
    },
    {
     "data": {
      "text/plain": [
       "16.0"
      ]
     },
     "metadata": {},
     "output_type": "display_data"
    },
    {
     "name": "stdout",
     "output_type": "stream",
     "text": [
      "Google Shape;218;p22\n",
      "0, TITLE (1)\n",
      "Google Shape;219;p22\n"
     ]
    },
    {
     "data": {
      "text/plain": [
       "'Merriweather'"
      ]
     },
     "metadata": {},
     "output_type": "display_data"
    },
    {
     "name": "stdout",
     "output_type": "stream",
     "text": [
      "2, BODY (2)\n",
      "Google Shape;220;p22\n",
      "Google Shape;220;p22\n",
      "12, SLIDE_NUMBER (13)\n",
      "\n",
      "slide number6\n",
      "0, TITLE (1)\n",
      "Title 1\n",
      "12, SLIDE_NUMBER (13)\n",
      "TextBox 4\n",
      "TextBox 4\n",
      "TextBox 4\n",
      "TextBox 4\n",
      "TextBox 4\n",
      "TextBox 4\n",
      "TextBox 4\n",
      "TextBox 4\n",
      "TextBox 4\n",
      "TextBox 4\n",
      "TextBox 4\n",
      "TextBox 4\n",
      "TextBox 4\n",
      "TextBox 4\n",
      "TextBox 4\n",
      "\n",
      "slide number7\n",
      "1, BODY (2)\n",
      "Google Shape;218;p22\n",
      "Google Shape;218;p22\n",
      "Google Shape;218;p22\n",
      "Google Shape;218;p22\n",
      "0, TITLE (1)\n",
      "Google Shape;219;p22\n",
      "2, BODY (2)\n",
      "Google Shape;220;p22\n",
      "Google Shape;220;p22\n",
      "Google Shape;220;p22\n",
      "Google Shape;220;p22\n",
      "12, SLIDE_NUMBER (13)\n",
      "\n",
      "slide number8\n",
      "0, TITLE (1)\n",
      "Title 1\n",
      "12, SLIDE_NUMBER (13)\n",
      "TextBox 3\n",
      "TextBox 3\n",
      "TextBox 3\n",
      "TextBox 3\n",
      "TextBox 3\n",
      "TextBox 3\n",
      "TextBox 3\n",
      "\n",
      "slide number9\n",
      "0, TITLE (1)\n",
      "Title 1\n",
      "12, SLIDE_NUMBER (13)\n",
      "TextBox 3\n",
      "TextBox 3\n",
      "TextBox 3\n",
      "TextBox 3\n",
      "TextBox 3\n",
      "\n",
      "slide number10\n",
      "1, BODY (2)\n",
      "Google Shape;218;p22\n",
      "Google Shape;218;p22\n"
     ]
    },
    {
     "data": {
      "text/plain": [
       "18.0"
      ]
     },
     "metadata": {},
     "output_type": "display_data"
    },
    {
     "name": "stdout",
     "output_type": "stream",
     "text": [
      "Google Shape;218;p22\n",
      "0, TITLE (1)\n",
      "Google Shape;219;p22\n"
     ]
    },
    {
     "data": {
      "text/plain": [
       "28.0"
      ]
     },
     "metadata": {},
     "output_type": "display_data"
    },
    {
     "name": "stdout",
     "output_type": "stream",
     "text": [
      "2, BODY (2)\n",
      "Google Shape;220;p22\n",
      "Google Shape;220;p22\n",
      "Google Shape;220;p22\n",
      "12, SLIDE_NUMBER (13)\n",
      "\n",
      "slide number11\n",
      "0, TITLE (1)\n",
      "Title 1\n",
      "12, SLIDE_NUMBER (13)\n",
      "TextBox 3\n",
      "TextBox 3\n",
      "\n",
      "slide number12\n",
      "0, TITLE (1)\n",
      "Title 1\n",
      "12, SLIDE_NUMBER (13)\n",
      "TextBox 4\n"
     ]
    },
    {
     "data": {
      "text/plain": [
       "'Times New Roman'"
      ]
     },
     "metadata": {},
     "output_type": "display_data"
    },
    {
     "name": "stdout",
     "output_type": "stream",
     "text": [
      "TextBox 4\n",
      "TextBox 4\n",
      "TextBox 4\n",
      "TextBox 4\n",
      "\n",
      "slide number13\n",
      "4294967295, CENTER_TITLE (3)\n",
      "Google Shape;171;p17\n"
     ]
    },
    {
     "data": {
      "text/plain": [
       "48.0"
      ]
     },
     "metadata": {},
     "output_type": "display_data"
    },
    {
     "name": "stdout",
     "output_type": "stream",
     "text": [
      "4294967295, SUBTITLE (4)\n",
      "Google Shape;172;p17\n",
      "Google Shape;172;p17\n",
      "Google Shape;172;p17\n",
      "12, SLIDE_NUMBER (13)\n",
      "\n",
      "font name\n",
      "['Cambria', 'Merriweather', 'Times New Roman']\n",
      "\n",
      "font size\n",
      "[36.0, 20.0, 16.0, 18.0, 28.0, 48.0]\n",
      "\n",
      "hyperlink\n",
      "['http://www.google.com/', 'http://www.wikipedia.com/', 'http://www.studymafia.org/']\n",
      "\n",
      "color\n",
      "[(255, 192, 0), (255, 0, 0), (0, 176, 80), (0, 176, 240)]\n",
      "\n",
      "number of font name\n",
      "4\n",
      "\n",
      "number of font size\n",
      "7\n",
      "\n",
      " number of hyperlink\n",
      "3\n",
      "\n",
      " number of color\n",
      "5\n",
      "\n",
      " number of pictures\n",
      "11\n",
      "\n",
      " number of chart\n",
      "0\n",
      "\n",
      " number of tables\n",
      "0\n",
      "\n",
      " maximum font size\n",
      "48.0\n",
      "\n",
      " minimum font size\n",
      "16.0\n",
      "e:\\ppt\\97.pptx\n",
      "\n",
      "slide number1\n",
      "Text Box 9\n"
     ]
    },
    {
     "data": {
      "text/plain": [
       "'Times New Roman'"
      ]
     },
     "metadata": {},
     "output_type": "display_data"
    },
    {
     "data": {
      "text/plain": [
       "20.0"
      ]
     },
     "metadata": {},
     "output_type": "display_data"
    },
    {
     "name": "stdout",
     "output_type": "stream",
     "text": [
      "Text Box 9\n",
      "Text Box 9\n",
      "Text Box 9\n",
      "Text Box 9\n",
      "Text Box 9\n",
      "10, DATE (16)\n",
      "12, SLIDE_NUMBER (13)\n",
      "\n",
      "slide number2\n",
      "0, TITLE (1)\n",
      "Title 1\n"
     ]
    },
    {
     "data": {
      "text/plain": [
       "32.0"
      ]
     },
     "metadata": {},
     "output_type": "display_data"
    },
    {
     "name": "stdout",
     "output_type": "stream",
     "text": [
      "12, SLIDE_NUMBER (13)\n",
      "1, OBJECT (7)\n",
      "Content Placeholder 2\n"
     ]
    },
    {
     "data": {
      "text/plain": [
       "28.0"
      ]
     },
     "metadata": {},
     "output_type": "display_data"
    },
    {
     "name": "stdout",
     "output_type": "stream",
     "text": [
      "Content Placeholder 2\n",
      "Content Placeholder 2\n",
      "Content Placeholder 2\n",
      "Content Placeholder 2\n",
      "Content Placeholder 2\n",
      "Content Placeholder 2\n",
      "Content Placeholder 2\n",
      "Content Placeholder 2\n",
      "Content Placeholder 2\n",
      "Content Placeholder 2\n",
      "Content Placeholder 2\n",
      "Content Placeholder 2\n",
      "Content Placeholder 2\n",
      "Content Placeholder 2\n",
      "10, DATE (16)\n",
      "\n",
      "slide number3\n",
      "0, TITLE (1)\n",
      "Rectangle 2\n",
      "1, OBJECT (7)\n",
      "Rectangle 3\n"
     ]
    },
    {
     "data": {
      "text/plain": [
       "24.0"
      ]
     },
     "metadata": {},
     "output_type": "display_data"
    },
    {
     "name": "stdout",
     "output_type": "stream",
     "text": [
      "Rectangle 3\n",
      "Rectangle 3\n",
      "10, DATE (16)\n",
      "12, SLIDE_NUMBER (13)\n",
      "\n",
      "slide number4\n",
      "0, TITLE (1)\n",
      "Title 1\n"
     ]
    },
    {
     "data": {
      "text/plain": [
       "36.0"
      ]
     },
     "metadata": {},
     "output_type": "display_data"
    },
    {
     "name": "stdout",
     "output_type": "stream",
     "text": [
      "12, SLIDE_NUMBER (13)\n",
      "1, OBJECT (7)\n",
      "Content Placeholder 2\n",
      "Content Placeholder 2\n",
      "Content Placeholder 2\n",
      "10, DATE (16)\n",
      "\n",
      "slide number5\n",
      "0, TITLE (1)\n",
      "Title 1\n",
      "12, SLIDE_NUMBER (13)\n",
      "1, OBJECT (7)\n",
      "Content Placeholder 2\n",
      "Content Placeholder 2\n",
      "Content Placeholder 2\n",
      "Content Placeholder 2\n",
      "10, DATE (16)\n",
      "\n",
      "slide number6\n",
      "0, TITLE (1)\n",
      "Title 1\n",
      "12, SLIDE_NUMBER (13)\n",
      "1, OBJECT (7)\n",
      "Content Placeholder 2\n",
      "Content Placeholder 2\n",
      "Content Placeholder 2\n",
      "10, DATE (16)\n",
      "\n",
      "slide number7\n",
      "0, TITLE (1)\n",
      "Title 1\n",
      "12, SLIDE_NUMBER (13)\n",
      "1, OBJECT (7)\n",
      "Content Placeholder 2\n",
      "Content Placeholder 2\n",
      "Content Placeholder 2\n",
      "10, DATE (16)\n",
      "\n",
      "slide number8\n",
      "0, TITLE (1)\n",
      "Title 1\n",
      "12, SLIDE_NUMBER (13)\n",
      "1, OBJECT (7)\n",
      "Content Placeholder 2\n",
      "10, DATE (16)\n",
      "\n",
      "slide number9\n",
      "0, TITLE (1)\n",
      "Title 1\n",
      "12, SLIDE_NUMBER (13)\n",
      "1, OBJECT (7)\n",
      "Content Placeholder 2\n",
      "Content Placeholder 2\n",
      "10, DATE (16)\n",
      "\n",
      "slide number10\n",
      "0, TITLE (1)\n",
      "Title 1\n",
      "12, SLIDE_NUMBER (13)\n",
      "1, OBJECT (7)\n",
      "Content Placeholder 2\n"
     ]
    },
    {
     "data": {
      "text/plain": [
       "26.0"
      ]
     },
     "metadata": {},
     "output_type": "display_data"
    },
    {
     "name": "stdout",
     "output_type": "stream",
     "text": [
      "Content Placeholder 2\n",
      "Content Placeholder 2\n",
      "Content Placeholder 2\n",
      "Content Placeholder 2\n",
      "Content Placeholder 2\n",
      "Content Placeholder 2\n",
      "Content Placeholder 2\n",
      "Content Placeholder 2\n",
      "Content Placeholder 2\n",
      "Content Placeholder 2\n",
      "Content Placeholder 2\n",
      "10, DATE (16)\n",
      "\n",
      "slide number11\n",
      "12, SLIDE_NUMBER (13)\n",
      "10, DATE (16)\n",
      "\n",
      "slide number12\n",
      "0, TITLE (1)\n",
      "Title 1\n",
      "12, SLIDE_NUMBER (13)\n",
      "10, DATE (16)\n",
      "\n",
      "slide number13\n",
      "0, TITLE (1)\n",
      "Title 1\n",
      "12, SLIDE_NUMBER (13)\n",
      "1, OBJECT (7)\n",
      "Content Placeholder 2\n",
      "Content Placeholder 2\n",
      "10, DATE (16)\n",
      "\n",
      "slide number14\n",
      "0, TITLE (1)\n",
      "Title 1\n",
      "12, SLIDE_NUMBER (13)\n",
      "1, OBJECT (7)\n",
      "Content Placeholder 2\n",
      "10, DATE (16)\n",
      "\n",
      "slide number15\n",
      "0, TITLE (1)\n",
      "Title 1\n",
      "12, SLIDE_NUMBER (13)\n",
      "1, OBJECT (7)\n",
      "Content Placeholder 2\n",
      "Content Placeholder 2\n",
      "Content Placeholder 2\n",
      "Content Placeholder 2\n",
      "Content Placeholder 2\n",
      "Content Placeholder 2\n",
      "10, DATE (16)\n",
      "\n",
      "slide number16\n",
      "0, TITLE (1)\n",
      "Title 1\n",
      "12, SLIDE_NUMBER (13)\n",
      "1, OBJECT (7)\n",
      "Content Placeholder 2\n",
      "Content Placeholder 2\n",
      "Content Placeholder 2\n",
      "Content Placeholder 2\n",
      "Content Placeholder 2\n",
      "Content Placeholder 2\n",
      "Content Placeholder 2\n",
      "Content Placeholder 2\n",
      "Content Placeholder 2\n",
      "Content Placeholder 2\n",
      "10, DATE (16)\n",
      "\n",
      "slide number17\n",
      "0, TITLE (1)\n",
      "Title 1\n",
      "12, SLIDE_NUMBER (13)\n",
      "1, OBJECT (7)\n",
      "Content Placeholder 2\n",
      "Content Placeholder 2\n",
      "Content Placeholder 2\n",
      "Content Placeholder 2\n",
      "Content Placeholder 2\n",
      "Content Placeholder 2\n",
      "Content Placeholder 2\n",
      "Content Placeholder 2\n",
      "Content Placeholder 2\n",
      "Content Placeholder 2\n",
      "10, DATE (16)\n",
      "\n",
      "slide number18\n",
      "0, TITLE (1)\n",
      "Title 1\n",
      "12, SLIDE_NUMBER (13)\n",
      "1, OBJECT (7)\n",
      "Content Placeholder 2\n",
      "Content Placeholder 2\n",
      "Content Placeholder 2\n",
      "Content Placeholder 2\n",
      "Content Placeholder 2\n",
      "Content Placeholder 2\n",
      "Content Placeholder 2\n",
      "10, DATE (16)\n",
      "\n",
      "slide number19\n",
      "0, TITLE (1)\n",
      "Title 1\n",
      "Title 1\n",
      "1, OBJECT (7)\n",
      "Content Placeholder 2\n",
      "Content Placeholder 2\n",
      "Content Placeholder 2\n",
      "Content Placeholder 2\n",
      "Content Placeholder 2\n",
      "Content Placeholder 2\n",
      "Content Placeholder 2\n",
      "Content Placeholder 2\n",
      "10, DATE (16)\n",
      "12, SLIDE_NUMBER (13)\n",
      "\n",
      "slide number20\n",
      "0, TITLE (1)\n",
      "Title 1\n",
      "12, SLIDE_NUMBER (13)\n",
      "1, OBJECT (7)\n",
      "Content Placeholder 2\n",
      "Content Placeholder 2\n",
      "Content Placeholder 2\n",
      "Content Placeholder 2\n",
      "10, DATE (16)\n",
      "\n",
      "slide number21\n",
      "0, TITLE (1)\n",
      "Title 1\n",
      "12, SLIDE_NUMBER (13)\n",
      "1, OBJECT (7)\n",
      "Content Placeholder 2\n",
      "Content Placeholder 2\n",
      "Content Placeholder 2\n",
      "Content Placeholder 2\n",
      "Content Placeholder 2\n",
      "Content Placeholder 2\n",
      "10, DATE (16)\n",
      "\n",
      "slide number22\n",
      "0, TITLE (1)\n",
      "Title 1\n",
      "12, SLIDE_NUMBER (13)\n",
      "1, OBJECT (7)\n",
      "Content Placeholder 2\n",
      "Content Placeholder 2\n",
      "Content Placeholder 2\n",
      "Content Placeholder 2\n",
      "10, DATE (16)\n",
      "\n",
      "slide number23\n",
      "0, TITLE (1)\n",
      "Title 1\n",
      "Title 1\n",
      "12, SLIDE_NUMBER (13)\n",
      "1, OBJECT (7)\n",
      "Content Placeholder 2\n",
      "Content Placeholder 2\n",
      "Content Placeholder 2\n",
      "Content Placeholder 2\n",
      "Content Placeholder 2\n",
      "Content Placeholder 2\n",
      "Content Placeholder 2\n",
      "Content Placeholder 2\n",
      "Content Placeholder 2\n",
      "10, DATE (16)\n",
      "\n",
      "slide number24\n",
      "0, TITLE (1)\n",
      "Title 1\n",
      "1, OBJECT (7)\n",
      "Content Placeholder 2\n",
      "Content Placeholder 2\n",
      "10, DATE (16)\n",
      "12, SLIDE_NUMBER (13)\n",
      "\n",
      "slide number25\n",
      "0, TITLE (1)\n",
      "Title 1\n",
      "1, OBJECT (7)\n",
      "Content Placeholder 2\n",
      "Content Placeholder 2\n",
      "Content Placeholder 2\n",
      "Content Placeholder 2\n",
      "Content Placeholder 2\n",
      "10, DATE (16)\n",
      "12, SLIDE_NUMBER (13)\n",
      "\n",
      "slide number26\n",
      "0, TITLE (1)\n",
      "Title 1\n"
     ]
    },
    {
     "data": {
      "text/plain": [
       "80.0"
      ]
     },
     "metadata": {},
     "output_type": "display_data"
    },
    {
     "name": "stdout",
     "output_type": "stream",
     "text": [
      "Title 1\n",
      "12, SLIDE_NUMBER (13)\n",
      "10, DATE (16)\n",
      "\n",
      "font name\n",
      "['Times New Roman']\n",
      "\n",
      "font size\n",
      "[20.0, 32.0, 28.0, 24.0, 36.0, 26.0, 80.0]\n",
      "\n",
      "hyperlink\n",
      "['http://www.google.com/', 'http://www.wikipedia.com/', 'http://www.studymafia.org/']\n",
      "\n",
      "color\n",
      "[(192, 0, 0)]\n",
      "\n",
      "number of font name\n",
      "2\n",
      "\n",
      "number of font size\n",
      "8\n",
      "\n",
      " number of hyperlink\n",
      "3\n",
      "\n",
      " number of color\n",
      "2\n",
      "\n",
      " number of pictures\n",
      "6\n",
      "\n",
      " number of chart\n",
      "0\n",
      "\n",
      " number of tables\n",
      "0\n",
      "\n",
      " maximum font size\n",
      "80.0\n",
      "\n",
      " minimum font size\n",
      "20.0\n",
      "e:\\ppt\\98.pptx\n",
      "\n",
      "slide number1\n",
      "0, CENTER_TITLE (3)\n",
      "1, SUBTITLE (4)\n",
      "TextBox 5\n"
     ]
    },
    {
     "data": {
      "text/plain": [
       "44.0"
      ]
     },
     "metadata": {},
     "output_type": "display_data"
    },
    {
     "name": "stdout",
     "output_type": "stream",
     "text": [
      "TextBox 5\n"
     ]
    },
    {
     "data": {
      "text/plain": [
       "60.0"
      ]
     },
     "metadata": {},
     "output_type": "display_data"
    },
    {
     "name": "stdout",
     "output_type": "stream",
     "text": [
      "TextBox 5\n",
      "TextBox 5\n",
      "TextBox 5\n",
      "TextBox 5\n"
     ]
    },
    {
     "data": {
      "text/plain": [
       "40.0"
      ]
     },
     "metadata": {},
     "output_type": "display_data"
    },
    {
     "name": "stdout",
     "output_type": "stream",
     "text": [
      "TextBox 6\n"
     ]
    },
    {
     "data": {
      "text/plain": [
       "24.0"
      ]
     },
     "metadata": {},
     "output_type": "display_data"
    },
    {
     "name": "stdout",
     "output_type": "stream",
     "text": [
      "TextBox 6\n",
      "TextBox 7\n",
      "TextBox 7\n",
      "\n",
      "slide number2\n",
      "0, TITLE (1)\n",
      "Title 1\n"
     ]
    },
    {
     "data": {
      "text/plain": [
       "54.0"
      ]
     },
     "metadata": {},
     "output_type": "display_data"
    },
    {
     "name": "stdout",
     "output_type": "stream",
     "text": [
      "1, OBJECT (7)\n",
      "Content Placeholder 2\n"
     ]
    },
    {
     "data": {
      "text/plain": [
       "'Calibri'"
      ]
     },
     "metadata": {},
     "output_type": "display_data"
    },
    {
     "data": {
      "text/plain": [
       "22.0"
      ]
     },
     "metadata": {},
     "output_type": "display_data"
    },
    {
     "name": "stdout",
     "output_type": "stream",
     "text": [
      "Content Placeholder 2\n"
     ]
    },
    {
     "data": {
      "text/plain": [
       "26.0"
      ]
     },
     "metadata": {},
     "output_type": "display_data"
    },
    {
     "name": "stdout",
     "output_type": "stream",
     "text": [
      "Content Placeholder 2\n",
      "Content Placeholder 2\n",
      "Content Placeholder 2\n",
      "Content Placeholder 2\n",
      "Content Placeholder 2\n",
      "Content Placeholder 2\n",
      "Content Placeholder 2\n",
      "Content Placeholder 2\n",
      "Content Placeholder 2\n",
      "Content Placeholder 2\n",
      "Content Placeholder 2\n",
      "Content Placeholder 2\n",
      "Content Placeholder 2\n",
      "\n",
      "slide number3\n",
      "0, TITLE (1)\n",
      "Title 1\n",
      "1, OBJECT (7)\n",
      "Content Placeholder 2\n",
      "Content Placeholder 2\n",
      "Content Placeholder 2\n",
      "Content Placeholder 2\n",
      "Content Placeholder 2\n",
      "Content Placeholder 2\n",
      "Content Placeholder 2\n",
      "Content Placeholder 2\n",
      "Content Placeholder 2\n",
      "Content Placeholder 2\n",
      "Content Placeholder 2\n",
      "Content Placeholder 2\n",
      "\n",
      "slide number4\n",
      "1, OBJECT (7)\n",
      "Content Placeholder 2\n"
     ]
    },
    {
     "data": {
      "text/plain": [
       "20.0"
      ]
     },
     "metadata": {},
     "output_type": "display_data"
    },
    {
     "name": "stdout",
     "output_type": "stream",
     "text": [
      "Content Placeholder 2\n",
      "Content Placeholder 2\n",
      "Content Placeholder 2\n",
      "Content Placeholder 2\n",
      "Content Placeholder 2\n",
      "Content Placeholder 2\n",
      "Content Placeholder 2\n",
      "Content Placeholder 2\n",
      "Content Placeholder 2\n",
      "\n",
      "slide number5\n",
      "0, TITLE (1)\n",
      "Title 1\n"
     ]
    },
    {
     "data": {
      "text/plain": [
       "67.0"
      ]
     },
     "metadata": {},
     "output_type": "display_data"
    },
    {
     "name": "stdout",
     "output_type": "stream",
     "text": [
      "Title 1\n",
      "1, OBJECT (7)\n",
      "Content Placeholder 2\n",
      "Content Placeholder 2\n",
      "Content Placeholder 2\n"
     ]
    },
    {
     "data": {
      "text/plain": [
       "18.0"
      ]
     },
     "metadata": {},
     "output_type": "display_data"
    },
    {
     "name": "stdout",
     "output_type": "stream",
     "text": [
      "Content Placeholder 2\n",
      "Content Placeholder 2\n",
      "Content Placeholder 2\n",
      "Content Placeholder 2\n",
      "Content Placeholder 2\n",
      "Content Placeholder 2\n",
      "Content Placeholder 2\n",
      "Content Placeholder 2\n",
      "Content Placeholder 2\n",
      "Content Placeholder 2\n",
      "Content Placeholder 2\n",
      "Content Placeholder 2\n",
      "Content Placeholder 2\n",
      "Content Placeholder 2\n",
      "Content Placeholder 2\n",
      "\n",
      "slide number6\n",
      "0, TITLE (1)\n",
      "Title 1\n",
      "Title 1\n",
      "Title 1\n",
      "Title 1\n",
      "Title 1\n",
      "\n",
      "slide number7\n",
      "0, TITLE (1)\n",
      "1, OBJECT (7)\n",
      "Content Placeholder 2\n",
      "Content Placeholder 2\n",
      "Content Placeholder 2\n",
      "Content Placeholder 2\n",
      "Content Placeholder 2\n",
      "Content Placeholder 2\n",
      "Content Placeholder 2\n",
      "Content Placeholder 2\n",
      "Content Placeholder 2\n",
      "Content Placeholder 2\n",
      "Content Placeholder 2\n",
      "\n",
      "slide number8\n",
      "0, TITLE (1)\n",
      "Title 1\n",
      "Title 1\n",
      "1, OBJECT (7)\n",
      "Content Placeholder 2\n",
      "Content Placeholder 2\n",
      "Content Placeholder 2\n",
      "Content Placeholder 2\n",
      "Content Placeholder 2\n",
      "Content Placeholder 2\n",
      "Content Placeholder 2\n",
      "Content Placeholder 2\n",
      "Content Placeholder 2\n",
      "Content Placeholder 2\n",
      "Content Placeholder 2\n",
      "Content Placeholder 2\n",
      "Content Placeholder 2\n",
      "Content Placeholder 2\n",
      "Content Placeholder 2\n",
      "Content Placeholder 2\n",
      "\n",
      "slide number9\n",
      "0, TITLE (1)\n",
      "Title 1\n",
      "1, OBJECT (7)\n",
      "no textframe\n",
      "\n",
      "slide number10\n",
      "0, TITLE (1)\n",
      "1, OBJECT (7)\n",
      "Content Placeholder 2\n",
      "Content Placeholder 2\n",
      "Content Placeholder 2\n",
      "Content Placeholder 2\n",
      "Content Placeholder 2\n",
      "Content Placeholder 2\n",
      "Content Placeholder 2\n",
      "Content Placeholder 2\n",
      "Content Placeholder 2\n",
      "Content Placeholder 2\n",
      "Content Placeholder 2\n",
      "Content Placeholder 2\n",
      "Content Placeholder 2\n",
      "Content Placeholder 2\n",
      "\n",
      "slide number11\n",
      "0, TITLE (1)\n",
      "Title 1\n",
      "1, OBJECT (7)\n",
      "Content Placeholder 2\n",
      "Content Placeholder 2\n",
      "Content Placeholder 2\n",
      "Content Placeholder 2\n",
      "Content Placeholder 2\n",
      "Content Placeholder 2\n",
      "Content Placeholder 2\n",
      "Content Placeholder 2\n",
      "Content Placeholder 2\n",
      "Content Placeholder 2\n",
      "Content Placeholder 2\n",
      "Content Placeholder 2\n",
      "Content Placeholder 2\n",
      "Content Placeholder 2\n",
      "Content Placeholder 2\n",
      "Content Placeholder 2\n",
      "Content Placeholder 2\n",
      "\n",
      "slide number12\n",
      "0, TITLE (1)\n",
      "1, OBJECT (7)\n",
      "Content Placeholder 2\n"
     ]
    },
    {
     "data": {
      "text/plain": [
       "35.0"
      ]
     },
     "metadata": {},
     "output_type": "display_data"
    },
    {
     "name": "stdout",
     "output_type": "stream",
     "text": [
      "Content Placeholder 2\n",
      "Content Placeholder 2\n",
      "Content Placeholder 2\n",
      "Content Placeholder 2\n",
      "Content Placeholder 2\n",
      "Content Placeholder 2\n",
      "Content Placeholder 2\n",
      "Content Placeholder 2\n",
      "Content Placeholder 2\n",
      "Content Placeholder 2\n",
      "Content Placeholder 2\n"
     ]
    },
    {
     "data": {
      "text/plain": [
       "36.0"
      ]
     },
     "metadata": {},
     "output_type": "display_data"
    },
    {
     "name": "stdout",
     "output_type": "stream",
     "text": [
      "Content Placeholder 2\n",
      "Content Placeholder 2\n",
      "Content Placeholder 2\n",
      "Content Placeholder 2\n",
      "\n",
      "slide number13\n",
      "0, TITLE (1)\n",
      "1, OBJECT (7)\n",
      "Content Placeholder 2\n",
      "Content Placeholder 2\n",
      "Content Placeholder 2\n"
     ]
    },
    {
     "data": {
      "text/plain": [
       "28.0"
      ]
     },
     "metadata": {},
     "output_type": "display_data"
    },
    {
     "name": "stdout",
     "output_type": "stream",
     "text": [
      "Content Placeholder 2\n",
      "Content Placeholder 2\n",
      "Content Placeholder 2\n",
      "Content Placeholder 2\n",
      "Content Placeholder 2\n",
      "Content Placeholder 2\n",
      "Content Placeholder 2\n"
     ]
    },
    {
     "data": {
      "text/plain": [
       "'Times New Roman'"
      ]
     },
     "metadata": {},
     "output_type": "display_data"
    },
    {
     "name": "stdout",
     "output_type": "stream",
     "text": [
      "Content Placeholder 2\n",
      "Content Placeholder 2\n",
      "Content Placeholder 2\n",
      "Content Placeholder 2\n",
      "Content Placeholder 2\n",
      "Content Placeholder 2\n",
      "Content Placeholder 2\n",
      "Content Placeholder 2\n",
      "Content Placeholder 2\n",
      "Content Placeholder 2\n",
      "\n",
      "slide number14\n",
      "0, TITLE (1)\n",
      "Title 1\n",
      "Title 1\n",
      "Title 1\n",
      "1, OBJECT (7)\n",
      "no textframe\n",
      "\n",
      "slide number15\n",
      "0, TITLE (1)\n",
      "Title 1\n",
      "1, OBJECT (7)\n",
      "Content Placeholder 2\n"
     ]
    },
    {
     "data": {
      "text/plain": [
       "32.0"
      ]
     },
     "metadata": {},
     "output_type": "display_data"
    },
    {
     "name": "stdout",
     "output_type": "stream",
     "text": [
      "Content Placeholder 2\n",
      "Content Placeholder 2\n",
      "Content Placeholder 2\n",
      "Content Placeholder 2\n",
      "Content Placeholder 2\n",
      "Content Placeholder 2\n",
      "Content Placeholder 2\n",
      "Content Placeholder 2\n",
      "Content Placeholder 2\n",
      "Content Placeholder 2\n",
      "Content Placeholder 2\n",
      "Content Placeholder 2\n",
      "Content Placeholder 2\n",
      "Content Placeholder 2\n",
      "Content Placeholder 2\n",
      "\n",
      "slide number16\n",
      "0, TITLE (1)\n",
      "Title 1\n",
      "1, OBJECT (7)\n",
      "Content Placeholder 2\n",
      "Content Placeholder 2\n",
      "\n",
      "font name\n",
      "['Calibri', 'Times New Roman']\n",
      "\n",
      "font size\n",
      "[44.0, 60.0, 40.0, 24.0, 54.0, 22.0, 26.0, 20.0, 67.0, 18.0, 35.0, 36.0, 28.0, 32.0]\n",
      "\n",
      "hyperlink\n",
      "[]\n",
      "\n",
      "color\n",
      "[(255, 0, 0), (255, 255, 0), (255, 192, 0), (0, 0, 0)]\n",
      "\n",
      "number of font name\n",
      "3\n",
      "\n",
      "number of font size\n",
      "15\n",
      "\n",
      " number of hyperlink\n",
      "0\n",
      "\n",
      " number of color\n",
      "5\n",
      "\n",
      " number of pictures\n",
      "6\n",
      "\n",
      " number of chart\n",
      "0\n",
      "\n",
      " number of tables\n",
      "0\n",
      "\n",
      " maximum font size\n",
      "67.0\n",
      "\n",
      " minimum font size\n",
      "18.0\n",
      "e:\\ppt\\99.pptx\n",
      "\n",
      "slide number1\n",
      "Text Box 9\n"
     ]
    },
    {
     "data": {
      "text/plain": [
       "20.0"
      ]
     },
     "metadata": {},
     "output_type": "display_data"
    },
    {
     "name": "stdout",
     "output_type": "stream",
     "text": [
      "Text Box 9\n",
      "Text Box 9\n",
      "Text Box 9\n",
      "Text Box 9\n",
      "Text Box 1\n"
     ]
    },
    {
     "data": {
      "text/plain": [
       "32.0"
      ]
     },
     "metadata": {},
     "output_type": "display_data"
    },
    {
     "name": "stdout",
     "output_type": "stream",
     "text": [
      "Text Box 1\n"
     ]
    },
    {
     "data": {
      "text/plain": [
       "28.0"
      ]
     },
     "metadata": {},
     "output_type": "display_data"
    },
    {
     "name": "stdout",
     "output_type": "stream",
     "text": [
      "Text Box 1\n",
      "Text Box 1\n",
      "10, DATE (16)\n",
      "12, SLIDE_NUMBER (13)\n",
      "\n",
      "slide number2\n",
      "0, TITLE (1)\n",
      "Rectangle 2\n"
     ]
    },
    {
     "data": {
      "text/plain": [
       "'Times New Roman'"
      ]
     },
     "metadata": {},
     "output_type": "display_data"
    },
    {
     "name": "stdout",
     "output_type": "stream",
     "text": [
      "Rectangle 2\n",
      "1, OBJECT (7)\n",
      "Rectangle 3\n"
     ]
    },
    {
     "data": {
      "text/plain": [
       "'Tahoma'"
      ]
     },
     "metadata": {},
     "output_type": "display_data"
    },
    {
     "data": {
      "text/plain": [
       "64.0"
      ]
     },
     "metadata": {},
     "output_type": "display_data"
    },
    {
     "name": "stdout",
     "output_type": "stream",
     "text": [
      "Rectangle 3\n",
      "Rectangle 3\n",
      "Rectangle 3\n",
      "Rectangle 3\n",
      "Rectangle 3\n",
      "Rectangle 3\n",
      "Rectangle 3\n",
      "Rectangle 3\n",
      "Rectangle 3\n",
      "Rectangle 3\n",
      "Rectangle 3\n",
      "Rectangle 3\n",
      "Rectangle 3\n",
      "Rectangle 3\n"
     ]
    },
    {
     "data": {
      "text/plain": [
       "56.0"
      ]
     },
     "metadata": {},
     "output_type": "display_data"
    },
    {
     "name": "stdout",
     "output_type": "stream",
     "text": [
      "10, DATE (16)\n",
      "11, SLIDE_NUMBER (13)\n",
      "\n",
      "slide number3\n",
      "0, TITLE (1)\n",
      "Rectangle 2\n",
      "1, OBJECT (7)\n",
      "Rectangle 3\n",
      "Rectangle 3\n",
      "Rectangle 3\n",
      "Rectangle 3\n",
      "10, DATE (16)\n",
      "11, SLIDE_NUMBER (13)\n",
      "\n",
      "slide number4\n",
      "0, TITLE (1)\n",
      "Rectangle 2\n",
      "1, OBJECT (7)\n",
      "Rectangle 3\n",
      "Rectangle 3\n",
      "Rectangle 3\n",
      "10, DATE (16)\n",
      "11, SLIDE_NUMBER (13)\n",
      "\n",
      "slide number5\n",
      "0, TITLE (1)\n",
      "Rectangle 2\n",
      "10, DATE (16)\n",
      "11, SLIDE_NUMBER (13)\n",
      "\n",
      "slide number6\n",
      "0, TITLE (1)\n",
      "Rectangle 2\n",
      "Text Box 12\n",
      "Text Box 36\n",
      "Text Box 37\n",
      "Text Box 41\n",
      "Text Box 42\n",
      "Text Box 43\n",
      "Text Box 48\n",
      "10, DATE (16)\n",
      "11, SLIDE_NUMBER (13)\n",
      "\n",
      "slide number7\n",
      "0, TITLE (1)\n",
      "Rectangle 1026\n",
      "1, OBJECT (7)\n",
      "Rectangle 1027\n",
      "Rectangle 1027\n",
      "Rectangle 1027\n",
      "Rectangle 1027\n",
      "Rectangle 1027\n",
      "Rectangle 1027\n",
      "Rectangle 1027\n",
      "10, DATE (16)\n",
      "11, SLIDE_NUMBER (13)\n",
      "\n",
      "slide number8\n",
      "0, TITLE (1)\n",
      "Rectangle 1026\n",
      "1, OBJECT (7)\n",
      "no textframe\n",
      "Text Box 1035\n"
     ]
    },
    {
     "data": {
      "text/plain": [
       "'Arial'"
      ]
     },
     "metadata": {},
     "output_type": "display_data"
    },
    {
     "data": {
      "text/plain": [
       "14.0"
      ]
     },
     "metadata": {},
     "output_type": "display_data"
    },
    {
     "name": "stdout",
     "output_type": "stream",
     "text": [
      "Text Box 1035\n",
      "Text Box 1046\n",
      "Text Box 1046\n",
      "Text Box 1046\n",
      "Text Box 1046\n",
      "Text Box 1046\n",
      "Text Box 1046\n",
      "Text Box 1046\n",
      "10, DATE (16)\n",
      "11, SLIDE_NUMBER (13)\n",
      "\n",
      "slide number9\n",
      "0, TITLE (1)\n",
      "Rectangle 2\n",
      "1, OBJECT (7)\n",
      "no textframe\n",
      "Text Box 5\n",
      "Text Box 6\n",
      "Text Box 9\n",
      "10, DATE (16)\n",
      "11, SLIDE_NUMBER (13)\n",
      "\n",
      "slide number10\n",
      "0, TITLE (1)\n",
      "Rectangle 2\n",
      "1, OBJECT (7)\n",
      "no textframe\n",
      "Text Box 7\n",
      "Text Box 8\n",
      "Text Box 9\n",
      "Text Box 11\n",
      "Text Box 12\n",
      "Text Box 13\n",
      "10, DATE (16)\n",
      "11, SLIDE_NUMBER (13)\n",
      "\n",
      "slide number11\n",
      "0, TITLE (1)\n",
      "Rectangle 2\n",
      "Rectangle 2\n",
      "1, OBJECT (7)\n",
      "Rectangle 3\n",
      "Rectangle 3\n",
      "Rectangle 3\n",
      "Rectangle 3\n",
      "Rectangle 3\n",
      "Rectangle 3\n",
      "Rectangle 3\n",
      "10, DATE (16)\n",
      "11, SLIDE_NUMBER (13)\n",
      "\n",
      "slide number12\n",
      "0, TITLE (1)\n",
      "Rectangle 2\n",
      "1, OBJECT (7)\n",
      "Rectangle 3\n",
      "Rectangle 3\n",
      "Rectangle 3\n",
      "Rectangle 3\n",
      "10, DATE (16)\n",
      "11, SLIDE_NUMBER (13)\n",
      "\n",
      "slide number13\n",
      "0, TITLE (1)\n",
      "Rectangle 2\n",
      "1, OBJECT (7)\n",
      "Rectangle 3\n",
      "Rectangle 3\n",
      "10, DATE (16)\n",
      "11, SLIDE_NUMBER (13)\n",
      "\n",
      "slide number14\n",
      "0, TITLE (1)\n",
      "Rectangle 2\n",
      "Rectangle 2\n",
      "Rectangle 2\n",
      "10, DATE (16)\n",
      "11, SLIDE_NUMBER (13)\n",
      "\n",
      "slide number15\n",
      "0, TITLE (1)\n",
      "Rectangle 2\n",
      "1, OBJECT (7)\n",
      "Rectangle 3\n",
      "Rectangle 3\n",
      "Rectangle 3\n",
      "Rectangle 3\n",
      "10, DATE (16)\n",
      "11, SLIDE_NUMBER (13)\n",
      "\n",
      "slide number16\n",
      "0, TITLE (1)\n",
      "Title 1\n",
      "1, OBJECT (7)\n",
      "Content Placeholder 2\n",
      "Content Placeholder 2\n",
      "Content Placeholder 2\n",
      "Content Placeholder 2\n",
      "Content Placeholder 2\n",
      "Content Placeholder 2\n",
      "10, DATE (16)\n",
      "11, SLIDE_NUMBER (13)\n",
      "\n",
      "slide number17\n",
      "0, TITLE (1)\n",
      "Title 1\n"
     ]
    },
    {
     "data": {
      "text/plain": [
       "36.0"
      ]
     },
     "metadata": {},
     "output_type": "display_data"
    },
    {
     "name": "stdout",
     "output_type": "stream",
     "text": [
      "1, OBJECT (7)\n",
      "Content Placeholder 2\n"
     ]
    },
    {
     "data": {
      "text/plain": [
       "'Calibri'"
      ]
     },
     "metadata": {},
     "output_type": "display_data"
    },
    {
     "name": "stdout",
     "output_type": "stream",
     "text": [
      "Content Placeholder 2\n",
      "Content Placeholder 2\n",
      "Content Placeholder 2\n",
      "10, DATE (16)\n",
      "11, SLIDE_NUMBER (13)\n",
      "\n",
      "font name\n",
      "['Times New Roman', 'Tahoma', 'Arial', 'Calibri']\n",
      "\n",
      "font size\n",
      "[20.0, 32.0, 28.0, 64.0, 56.0, 14.0, 36.0]\n",
      "\n",
      "hyperlink\n",
      "['http://www.google.com/', 'http://www.wikipedia.com/']\n",
      "\n",
      "color\n",
      "[(255, 0, 0), (112, 48, 160), (0, 176, 80), (0, 112, 192), (0, 0, 0)]\n",
      "\n",
      "number of font name\n",
      "5\n",
      "\n",
      "number of font size\n",
      "8\n",
      "\n",
      " number of hyperlink\n",
      "2\n",
      "\n",
      " number of color\n",
      "6\n",
      "\n",
      " number of pictures\n",
      "9\n",
      "\n",
      " number of chart\n",
      "0\n",
      "\n",
      " number of tables\n",
      "1\n",
      "\n",
      " maximum font size\n",
      "64.0\n",
      "\n",
      " minimum font size\n",
      "14.0\n"
     ]
    }
   ],
   "source": [
    "from pptx import Presentation\n",
    "import xlwt \n",
    "from xlwt import Workbook \n",
    "import glob  \n",
    "# Workbook is created \n",
    "wb = Workbook() \n",
    "  \n",
    "# add_sheet is used to create sheet. \n",
    "sheet1 = wb.add_sheet('Sheet 1',cell_overwrite_ok=True) \n",
    "#sheet1.write(1, 0, 1) \n",
    "#sheet1.write(2, 0, 2) \n",
    "#sheet1.write(0, 0, 'slide number') \n",
    "#sheet1.write(0,1,'shapetype')\n",
    "#sheet1.write(0,2,'id')\n",
    "#sheet1.write(0,3,'type')\n",
    "\n",
    "#local_pptxFileList = [\"ppt25\"]\n",
    "\n",
    "p=0\n",
    "q=0\n",
    "sheet1.write(p, q, 'no_slides') \n",
    "sheet1.write(p, q+1, 'no_Table')\n",
    "sheet1.write(p, q+2, 'no_Picture')\n",
    "sheet1.write(p, q+3, 'No_fonttypes')\n",
    "sheet1.write(p, q+4, 'No_fontsizes')\n",
    "sheet1.write(p, q+5, 'No_fontcolor')\n",
    "sheet1.write(p, q+6, 'Bold')\n",
    "sheet1.write(p, q+7,'Underline')\n",
    "sheet1.write(p, q+8, 'Italic')\n",
    "sheet1.write(p, q+9, 'Max_font_size')\n",
    "sheet1.write(p, q+10, 'Min_font_size')\n",
    "sheet1.write(p, q+11, 'no_of_hlink')\n",
    "sheet1.write(p, q+12, 'footer')\n",
    "sheet1.write(p, q+13, 'Date')\n",
    "sheet1.write(p, q+14, 'Slide number')\n",
    "\n",
    "#for i in local_pptxFileList:\n",
    "for i in glob.glob(\"e:\\ppt\\\\*.pptx\"):\n",
    "            fontx=[] #font name\n",
    "            fonts2=[]# font size\n",
    "            fonts3=[] #hyperlink\n",
    "            color1=[] #font color\n",
    "           \n",
    "            #fonty=[] # font size\n",
    "            c=1\n",
    "            c1=1\n",
    "            c2=0\n",
    "            c4=1\n",
    "            max=1\n",
    "            min=200\n",
    "            table=0\n",
    "            chart=0\n",
    "            picture=0\n",
    "            p=p+1\n",
    "            sheet1.write(p, q, 0) \n",
    "            sheet1.write(p, q+1, 0)\n",
    "            sheet1.write(p, q+2, 0)\n",
    "            sheet1.write(p, q+3, 0)\n",
    "            sheet1.write(p, q+4, 0)\n",
    "            sheet1.write(p, q+5, 0)\n",
    "            sheet1.write(p, q+6, 0)\n",
    "            sheet1.write(p, q+7, 0)\n",
    "            sheet1.write(p, q+8, 0)\n",
    "            sheet1.write(p, q+9, 0)\n",
    "            sheet1.write(p, q+10, 0)\n",
    "            sheet1.write(p, q+11, 0)\n",
    "            sheet1.write(p, q+12, 0)\n",
    "            sheet1.write(p, q+13, 0)\n",
    "            sheet1.write(p, q+14, 0)\n",
    "            print(i) \n",
    "            sheet1.write(p,q+16,i)\n",
    "            count=0\n",
    "            ppt = Presentation(i)\n",
    "            #print(ppt.slide_layouts)\n",
    "            for slide in ppt.slides:\n",
    "                count=count+1 \n",
    "                print('\\nslide number'+str(count))\n",
    "                 \n",
    "                for shape in slide.shapes:\n",
    "                #    print(\"shpae name is\")\n",
    "                 #   print(shape.shape_type)\n",
    "                    if(shape.shape_type==13): #picture\n",
    "                        #sheet1.write(p, q+9, 1)  \n",
    "                        picture=picture+1\n",
    "                        #print(\"picture\")\n",
    "                    if(shape.shape_type==3): # chart\n",
    "                        #sheet1.write(p, q+8, 1)\n",
    "                        chart=chart+1\n",
    "                    if(shape.shape_type==19): #table\n",
    "                        #sheet1.write(p, q+7, 1) \n",
    "                        table=table+1\n",
    "                        \n",
    "                                  \n",
    "                    \n",
    "                        \n",
    "                    if shape.is_placeholder:\n",
    "                        phf = shape.placeholder_format\n",
    "                        print('%d, %s' % (phf.idx, phf.type))\n",
    "                        if(phf.type==15):             #footer \n",
    "                                sheet1.write(p,q+12,2)\n",
    "                        if(phf.type==16):             #date\n",
    "                                sheet1.write(p,q+13,2)\n",
    "                        if(phf.type==13):            #slide number\n",
    "                                sheet1.write(p,q+14,2)\n",
    "                        \n",
    "                    if (shape.shape_type==17 or shape.shape_type==14): \n",
    "                            if not shape.has_text_frame:\n",
    "                                print(\"no textframe\")\n",
    "                                continue\n",
    "                            for paragraph in shape.text_frame.paragraphs:  \n",
    "                                for run in paragraph.runs:  \n",
    "                                    #display(shape.text)\n",
    "                                    font = run.font\n",
    "                                    print(shape.name)\n",
    "                                    #display(font.size.pt)\n",
    "                                    font_name= font.name\n",
    "                                    if font_name!=None and font_name not in fontx and font_name!='hvb':                                                \n",
    "                                            fontx.append(font_name)\n",
    "                                            c=c+1  \n",
    "                                            display(font_name)                                             \n",
    "                                    if font.size!=None:\n",
    "                                        font_size=font.size.pt\n",
    "                                        if font.size.pt not in fonts2:\n",
    "                                                display(font_size)\n",
    "                                                fonts2.append(font_size)\n",
    "                                                if(max<font_size):\n",
    "                                                       max=font_size\n",
    "                                                if(min>font_size):\n",
    "                                                       min=font_size \n",
    "                                                c1=c1+1   \n",
    "                                     \n",
    "                                    hlink=run.hyperlink\n",
    "                                    if hlink.address not in fonts3 and  hlink.address !=None:\n",
    "                                              #sheet1.write(p,q+18,1)\n",
    "                                              fonts3.append(hlink.address)\n",
    "                                              c2=c2+1  \n",
    "                                                           \n",
    "                                    if font.bold != None:\n",
    "                                        sheet1.write(p, q+6,1)\n",
    "                                            \n",
    "                                    if font.underline !=None:\n",
    "                                               sheet1.write(p, q+7,1)\n",
    "                                    if font.italic!=None:\n",
    "                                               sheet1.write(p, q+8,1)\n",
    "                                  \n",
    "                                    try:\n",
    "                                         if font.color.rgb not in color1 and font.color!=None:\n",
    "                                                color1.append(font.color.rgb)\n",
    "                                                c4=c4+1\n",
    "                                    except:\n",
    "                                             pass\n",
    "                            #for shape in slide.placeholders:\n",
    "                             #       print('shape id %d shape name%s' % (shape.placeholder_format.idx, shape.name))\n",
    "               \n",
    "            if(count>=10 and count<=22):\n",
    "                sheet1.write(p,q,2)  \n",
    "            elif(count<10 or count>35):\n",
    "                sheet1.write(p,q,0)\n",
    "            else:\n",
    "                sheet1.write(p,q,1)\n",
    "            if(max>=24):\n",
    "                sheet1.write(p,q+9,2)\n",
    "            else:\n",
    "                sheet1.write(p,q+9,1)\n",
    "            if(min<12):\n",
    "                sheet1.write(p,q+10,0)\n",
    "            elif (min>18 or min<30):\n",
    "                sheet1.write(p,q+10,2)\n",
    "            else:\n",
    "                sheet1.write(p,q+10,1)\n",
    "            if(c>=2 and c<=3):\n",
    "                sheet1.write(p,q+3,2) \n",
    "            elif(c==1):\n",
    "                sheet1.write(p,q+3,1)\n",
    "            else:\n",
    "                 sheet1.write(p,q+3,0)\n",
    "            if(c2>=1):\n",
    "                sheet1.write(p,q+11,1)\n",
    "           # sheet1.write(p,q+4,c1)\n",
    "            #sheet1.write(p,q+11,c2)\n",
    "            if(c4>=2 and c4<=4):\n",
    "                sheet1.write(p,q+5,2)\n",
    "            elif(c4>4 and c4<7):\n",
    "                sheet1.write(p,q+5,1)\n",
    "            else:\n",
    "                sheet1.write(p,q+5,0)\n",
    "            if(table==0):\n",
    "                sheet1.write(p,q+1,0)\n",
    "            elif (table<2 or table>5):\n",
    "                sheet1.write(p,q+1,1)\n",
    "            else:\n",
    "                sheet1.write(p,q+1,3)\n",
    "            #sheet1.write(p,q+1,table)\n",
    "            if(picture==0):\n",
    "                sheet1.write(p,q+2,0)\n",
    "            elif (picture<2 or picture>5):\n",
    "                sheet1.write(p,q+2,1)\n",
    "            else:\n",
    "                sheet1.write(p,q+2,3)\n",
    "            #sheet1.write(p,q+2,picture)\n",
    "            \n",
    "            print(\"\\nfont name\")\n",
    "            print(fontx)\n",
    "            print(\"\\nfont size\")\n",
    "            print(fonts2)\n",
    "            print(\"\\nhyperlink\")\n",
    "            print(fonts3)\n",
    "            print(\"\\ncolor\")\n",
    "            print(color1)\n",
    "            print(\"\\nnumber of font name\")\n",
    "            print(c)\n",
    "            print(\"\\nnumber of font size\")\n",
    "            print(c1)\n",
    "            print(\"\\n number of hyperlink\")\n",
    "            print(c2)\n",
    "            print(\"\\n number of color\")\n",
    "            print(c4)\n",
    "            print(\"\\n number of pictures\")\n",
    "            print(picture)\n",
    "            print(\"\\n number of chart\")\n",
    "            print(chart)\n",
    "            print(\"\\n number of tables\")\n",
    "            print(table)\n",
    "            print(\"\\n maximum font size\")\n",
    "            print(max)\n",
    "            print(\"\\n minimum font size\")\n",
    "            print(min)\n",
    "\n",
    "p=p+1\n",
    "wb.save('xxx.xls')                \n",
    "\n",
    "\n",
    "\n"
   ]
  },
  {
   "cell_type": "code",
   "execution_count": 98,
   "metadata": {},
   "outputs": [],
   "source": [
    "import pandas as pd\n",
    "import numpy as np\n",
    "\n",
    "df=pd.read_csv(\"d:/xxx_15.csv\")\n",
    "x=df.iloc[:,:13]\n",
    "y=df.iloc[:,13:14]\n"
   ]
  },
  {
   "cell_type": "code",
   "execution_count": 184,
   "metadata": {},
   "outputs": [
    {
     "data": {
      "text/plain": [
       "(18, 15)"
      ]
     },
     "execution_count": 184,
     "metadata": {},
     "output_type": "execute_result"
    }
   ],
   "source": [
    "import pandas as pd\n",
    "import numpy as np\n",
    "from sklearn.neighbors import KNeighborsClassifier\n",
    "from sklearn.model_selection import train_test_split\n",
    "from sklearn.metrics import accuracy_score\n",
    "df=pd.read_csv(\"d:/xxx.csv\")\n",
    "x=df.iloc[:,:15]\n",
    "y=df.iloc[:,15:16]\n",
    "x_train,x_test,y_train,y_test=train_test_split(x,y,test_size=0.2)\n",
    "neigh = KNeighborsClassifier(n_neighbors=3)\n",
    "x_test.shape"
   ]
  },
  {
   "cell_type": "code",
   "execution_count": 185,
   "metadata": {},
   "outputs": [
    {
     "name": "stderr",
     "output_type": "stream",
     "text": [
      "<ipython-input-185-7de7e8d2ba5a>:1: DataConversionWarning: A column-vector y was passed when a 1d array was expected. Please change the shape of y to (n_samples, ), for example using ravel().\n",
      "  neigh.fit(x_train, y_train)\n"
     ]
    },
    {
     "data": {
      "text/plain": [
       "0.8888888888888888"
      ]
     },
     "execution_count": 185,
     "metadata": {},
     "output_type": "execute_result"
    }
   ],
   "source": [
    "neigh.fit(x_train, y_train)\n",
    "y_pred=neigh.predict(x_test)\n",
    "\n",
    "accuracy_score(y_pred,y_test)"
   ]
  },
  {
   "cell_type": "code",
   "execution_count": 201,
   "metadata": {},
   "outputs": [
    {
     "data": {
      "image/png": "[encoded data removed]",
      "text/plain": [
       "<Figure size 432x288 with 1 Axes>"
      ]
     },
     "metadata": {
      "needs_background": "light"
     },
     "output_type": "display_data"
    }
   ],
   "source": [
    "from matplotlib import pyplot as plt\n",
    "from sklearn.metrics import confusion_matrix\n",
    "import seaborn as sns\n",
    "#plt.figure(figsize=(10,7))\n",
    "mat = confusion_matrix(y_test,y_pred)\n",
    "sns.heatmap(mat.T, square=True, annot=True, fmt='d', cbar=False)\n",
    "plt.xlabel('true label')\n",
    "plt.ylabel('predicted label');"
   ]
  },
  {
   "cell_type": "code",
   "execution_count": 187,
   "metadata": {},
   "outputs": [
    {
     "name": "stdout",
     "output_type": "stream",
     "text": [
      "              precision    recall  f1-score   support\n",
      "\n",
      "           1       1.00      1.00      1.00         4\n",
      "           2       1.00      0.80      0.89        10\n",
      "           3       0.67      1.00      0.80         4\n",
      "\n",
      "    accuracy                           0.89        18\n",
      "   macro avg       0.89      0.93      0.90        18\n",
      "weighted avg       0.93      0.89      0.89        18\n",
      "\n"
     ]
    }
   ],
   "source": [
    "print(classification_report(y_test,y_pred))"
   ]
  },
  {
   "cell_type": "code",
   "execution_count": 5,
   "metadata": {},
   "outputs": [
    {
     "name": "stdout",
     "output_type": "stream",
     "text": [
      "[0.4 0.4 0.6 0.  0.8 0.4 0.4 0.4 0.4 0.8 0.4 0.  0.4 0.4 0.4 0.4 0.2 0.\n",
      " 0.6 0.8]\n",
      "Accuracy: 41.000 (23.216)\n"
     ]
    }
   ],
   "source": [
    "from numpy import mean\n",
    "from numpy import std\n",
    "import pandas as pd\n",
    "from sklearn import tree\n",
    "from matplotlib import pyplot as plt\n",
    "from sklearn import linear_model\n",
    "from sklearn.model_selection import train_test_split\n",
    "from sklearn.metrics import confusion_matrix,classification_report\n",
    "%matplotlib inline\n",
    "from sklearn.model_selection import RepeatedKFold\n",
    "from sklearn.model_selection import cross_val_score\n",
    "\n",
    "# prepare the cross-validation procedure\n",
    "cv = RepeatedKFold(n_splits=5, n_repeats=4, random_state=1)\n",
    "# create model\n",
    "model=tree.DecisionTreeClassifier(criterion='entropy')\n",
    "# evaluate model\n",
    "scores = cross_val_score(model, x, y, scoring='accuracy', cv=cv, n_jobs=-1)\n",
    "print(scores)\n",
    "# report performance\n",
    "print('Accuracy: %.3f (%.3f)' % (100*mean(scores), 100*std(scores)))"
   ]
  },
  {
   "cell_type": "code",
   "execution_count": 12,
   "metadata": {},
   "outputs": [],
   "source": [
    "df[\"y\"] = y.iloc[:,0]"
   ]
  },
  {
   "cell_type": "code",
   "execution_count": 13,
   "metadata": {},
   "outputs": [],
   "source": [
    "import numpy as np\n",
    "np.random.seed(42)\n",
    "rndperm = np.random.permutation(df.shape[0])"
   ]
  },
  {
   "cell_type": "code",
   "execution_count": null,
   "metadata": {},
   "outputs": [],
   "source": [
    "##################for Thesis#############################################"
   ]
  },
  {
   "cell_type": "code",
   "execution_count": 1,
   "metadata": {},
   "outputs": [
    {
     "data": {
      "text/plain": [
       "15"
      ]
     },
     "execution_count": 1,
     "metadata": {},
     "output_type": "execute_result"
    }
   ],
   "source": [
    "import pandas as pd\n",
    "import numpy as np\n",
    "df=pd.read_csv(\"d:/xxx.csv\")\n",
    "x=df.iloc[:,:15]\n",
    "y=df.iloc[:,15:16]\n",
    "A=x.T\n",
    "A.shape\n",
    "A.shape[0]\n"
   ]
  },
  {
   "cell_type": "code",
   "execution_count": 4,
   "metadata": {},
   "outputs": [],
   "source": [
    "U, s, VT = svd(A)"
   ]
  },
  {
   "cell_type": "code",
   "execution_count": 3,
   "metadata": {},
   "outputs": [],
   "source": [
    "from numpy import array\n",
    "from numpy import diag\n",
    "from numpy import dot\n",
    "from numpy import zeros\n",
    "from scipy.linalg import svd\n",
    "import numpy as np\n",
    "from sklearn.model_selection import train_test_split\n",
    "from sklearn.metrics.pairwise import cosine_similarity\n",
    "U, s, VT = svd(A)\n",
    "# reciprocals of s\n",
    "d = 1.0 / s\n",
    "Sigma = zeros((A.shape[0], A.shape[1]))\n",
    "# populate Sigma with n x n diagonal matrix\n",
    "Sigma[:A.shape[0], :A.shape[0]] = diag(d)\n",
    "n_elements = 6\n",
    "Sigma = Sigma[:n_elements, :n_elements]\n",
    "VT = VT[:n_elements, :]\n",
    "U=U[:, :n_elements]\n"
   ]
  },
  {
   "cell_type": "code",
   "execution_count": 342,
   "metadata": {
    "scrolled": true
   },
   "outputs": [],
   "source": [
    "ref=[]\n",
    "student=[]\n",
    "\n",
    "for i in range(0,75):\n",
    "    ref.append(np.array((x.iloc[i])))\n",
    "    \n",
    "for i in range(75,86):\n",
    "    student.append(np.array((x.iloc[i])))\n",
    "\n",
    "\n"
   ]
  },
  {
   "cell_type": "code",
   "execution_count": 343,
   "metadata": {},
   "outputs": [],
   "source": [
    "ref1=[]\n",
    "student1=[]\n",
    "for i in range(0,75):\n",
    "    ref1.append(ref[i].dot(U.dot(Sigma)))\n",
    "    \n",
    "for i in range(0,11):\n",
    "    student1.append(student[i].dot(U.dot(Sigma)))\n",
    "    \n",
    "\n",
    "y_train=y.iloc[0:75,0]\n",
    "y_test=y.iloc[75:86,0]\n"
   ]
  },
  {
   "cell_type": "code",
   "execution_count": 344,
   "metadata": {},
   "outputs": [],
   "source": []
  },
  {
   "cell_type": "code",
   "execution_count": 323,
   "metadata": {},
   "outputs": [
    {
     "data": {
      "text/plain": [
       "0.9090909090909091"
      ]
     },
     "execution_count": 323,
     "metadata": {},
     "output_type": "execute_result"
    }
   ],
   "source": [
    "import pandas as pd\n",
    "import numpy as np\n",
    "\n",
    "\n",
    "from sklearn.neighbors import KNeighborsClassifier\n",
    "from sklearn.model_selection import train_test_split\n",
    "from sklearn.metrics import accuracy_score\n",
    "#x_train,x_test,y_train,y_test=train_test_split(x,y,test_size=0.2)\n",
    "neigh = KNeighborsClassifier(n_neighbors=3)\n",
    "#x_test.shape\n",
    "\n",
    "neigh.fit(ref1, y_train)\n",
    "y_pred=neigh.predict(student1)\n",
    "\n",
    "accuracy_score(y_pred,y_test)\n",
    "\n",
    "\n"
   ]
  },
  {
   "cell_type": "code",
   "execution_count": 324,
   "metadata": {},
   "outputs": [
    {
     "data": {
      "image/png": "[encoded data removed]",
      "text/plain": [
       "<Figure size 432x288 with 1 Axes>"
      ]
     },
     "metadata": {
      "needs_background": "light"
     },
     "output_type": "display_data"
    }
   ],
   "source": [
    "\n",
    "from matplotlib import pyplot as plt\n",
    "from sklearn.metrics import confusion_matrix\n",
    "import seaborn as sns\n",
    "#plt.figure(figsize=(10,7))\n",
    "mat = confusion_matrix(y_test,y_pred)\n",
    "sns.heatmap(mat.T, square=True, annot=True, fmt='d', cbar=False)\n",
    "plt.xlabel('true label')\n",
    "plt.ylabel('predicted label');\n",
    "\n",
    "\n",
    "\n"
   ]
  },
  {
   "cell_type": "code",
   "execution_count": 325,
   "metadata": {},
   "outputs": [
    {
     "name": "stdout",
     "output_type": "stream",
     "text": [
      "              precision    recall  f1-score   support\n",
      "\n",
      "           1       1.00      0.83      0.91         6\n",
      "           2       0.67      1.00      0.80         2\n",
      "           3       1.00      1.00      1.00         3\n",
      "\n",
      "    accuracy                           0.91        11\n",
      "   macro avg       0.89      0.94      0.90        11\n",
      "weighted avg       0.94      0.91      0.91        11\n",
      "\n"
     ]
    }
   ],
   "source": [
    "print(classification_report(y_test,y_pred))"
   ]
  },
  {
   "cell_type": "code",
   "execution_count": 356,
   "metadata": {},
   "outputs": [
    {
     "data": {
      "text/plain": [
       "15"
      ]
     },
     "execution_count": 356,
     "metadata": {},
     "output_type": "execute_result"
    }
   ],
   "source": [
    "import pandas as pd\n",
    "import numpy as np\n",
    "df=pd.read_csv(\"d:/xxx.csv\")\n",
    "x=df.iloc[:,:15]\n",
    "y=df.iloc[:,15:16]\n",
    "A=x.T\n",
    "A.shape\n",
    "A.shape[0]\n"
   ]
  },
  {
   "cell_type": "code",
   "execution_count": 412,
   "metadata": {},
   "outputs": [],
   "source": [
    "from numpy import array\n",
    "from numpy import diag\n",
    "from numpy import dot\n",
    "from numpy import zeros\n",
    "from scipy.linalg import svd\n",
    "import numpy as np\n",
    "from sklearn.model_selection import train_test_split\n",
    "from sklearn.metrics.pairwise import cosine_similarity\n",
    "U, s, VT = svd(A)\n",
    "# reciprocals of s\n",
    "d = 1.0 / s\n",
    "Sigma = zeros((A.shape[0], A.shape[1]))\n",
    "# populate Sigma with n x n diagonal matrix\n",
    "Sigma[:A.shape[0], :A.shape[0]] = diag(d)\n",
    "n_elements = 8\n",
    "Sigma = Sigma[:n_elements, :n_elements]\n",
    "VT = VT[:n_elements, :]\n",
    "U=U[:, :n_elements]\n"
   ]
  },
  {
   "cell_type": "code",
   "execution_count": 413,
   "metadata": {},
   "outputs": [],
   "source": [
    "ref=[]\n",
    "student=[]\n",
    "\n",
    "for i in range(0,75):\n",
    "    ref.append(np.array((x.iloc[i])))\n",
    "    \n",
    "for i in range(75,86):\n",
    "    student.append(np.array((x.iloc[i])))\n"
   ]
  },
  {
   "cell_type": "code",
   "execution_count": 414,
   "metadata": {},
   "outputs": [],
   "source": [
    "ref1=[]\n",
    "student1=[]\n",
    "for i in range(0,75):\n",
    "    ref1.append(ref[i].dot(U.dot(Sigma)))\n",
    "    \n",
    "for i in range(0,11):\n",
    "    student1.append(student[i].dot(U.dot(Sigma)))\n",
    "    \n",
    "\n",
    "y_train=y.iloc[0:75,0]\n",
    "y_test=y.iloc[75:86,0]\n"
   ]
  },
  {
   "cell_type": "code",
   "execution_count": 415,
   "metadata": {},
   "outputs": [
    {
     "name": "stdout",
     "output_type": "stream",
     "text": [
      "cosine similarityis = [[0.85317448]]\n",
      "output albel is= output    1\n",
      "Name: 63, dtype: int64\n",
      "cosine similarityis = [[0.97894907]]\n",
      "output albel is= output    1\n",
      "Name: 70, dtype: int64\n",
      "cosine similarityis = [[0.87701471]]\n",
      "output albel is= output    1\n",
      "Name: 70, dtype: int64\n",
      "cosine similarityis = [[0.82688964]]\n",
      "output albel is= output    1\n",
      "Name: 59, dtype: int64\n",
      "cosine similarityis = [[0.95435021]]\n",
      "output albel is= output    3\n",
      "Name: 45, dtype: int64\n",
      "cosine similarityis = [[0.892005]]\n",
      "output albel is= output    2\n",
      "Name: 51, dtype: int64\n",
      "cosine similarityis = [[0.91505065]]\n",
      "output albel is= output    1\n",
      "Name: 68, dtype: int64\n",
      "cosine similarityis = [[0.96452927]]\n",
      "output albel is= output    2\n",
      "Name: 72, dtype: int64\n",
      "cosine similarityis = [[0.8349052]]\n",
      "output albel is= output    2\n",
      "Name: 74, dtype: int64\n",
      "cosine similarityis = [[0.95273342]]\n",
      "output albel is= output    2\n",
      "Name: 60, dtype: int64\n",
      "cosine similarityis = [[0.82125765]]\n",
      "output albel is= output    3\n",
      "Name: 48, dtype: int64\n"
     ]
    }
   ],
   "source": [
    "a=0\n",
    "#output=8\n",
    "for i in range (0,11):\n",
    "    for j in range(0,75):\n",
    "        x1=student1[i].reshape(1,-1)\n",
    "        x2=ref1[j].reshape(1,-1)\n",
    "        if(cosine_similarity(x1,x2)>0.80):\n",
    "            output=y.iloc[j]\n",
    "            a=cosine_similarity(x1,x2)\n",
    "        #else:\n",
    "         #   if(cosine_similarity(x1,x2)>a):\n",
    "          #      a=cosine_similarity(x1,x2)\n",
    "           #     output=y.iloc[j]\n",
    "                #print(y.iloc[j])\n",
    "    print(\"cosine similarityis =\",a)\n",
    "    print(\"output albel is=\",output)   \n",
    "    y_pred[i]=output\n"
   ]
  },
  {
   "cell_type": "code",
   "execution_count": 416,
   "metadata": {},
   "outputs": [
    {
     "data": {
      "text/plain": [
       "0.8181818181818182"
      ]
     },
     "execution_count": 416,
     "metadata": {},
     "output_type": "execute_result"
    },
    {
     "data": {
      "image/png": "[encoded data removed]",
      "text/plain": [
       "<Figure size 432x288 with 1 Axes>"
      ]
     },
     "metadata": {
      "needs_background": "light"
     },
     "output_type": "display_data"
    }
   ],
   "source": [
    "from matplotlib import pyplot as plt\n",
    "from sklearn.metrics import confusion_matrix\n",
    "import seaborn as sns\n",
    "#plt.figure(figsize=(10,7))\n",
    "mat = confusion_matrix(y_test,y_pred)\n",
    "sns.heatmap(mat.T, square=True, annot=True, fmt='d', cbar=False)\n",
    "plt.xlabel('true label')\n",
    "plt.ylabel('predicted label');\n",
    "accuracy_score(y_pred,y_test)"
   ]
  },
  {
   "cell_type": "code",
   "execution_count": 419,
   "metadata": {},
   "outputs": [
    {
     "name": "stdout",
     "output_type": "stream",
     "text": [
      "              precision    recall  f1-score   support\n",
      "\n",
      "           1       1.00      0.83      0.91         6\n",
      "           2       0.50      1.00      0.67         2\n",
      "           3       1.00      0.67      0.80         3\n",
      "\n",
      "    accuracy                           0.82        11\n",
      "   macro avg       0.83      0.83      0.79        11\n",
      "weighted avg       0.91      0.82      0.84        11\n",
      "\n"
     ]
    }
   ],
   "source": [
    "print(classification_report(y_test,y_pred))"
   ]
  },
  {
   "cell_type": "code",
   "execution_count": 19,
   "metadata": {},
   "outputs": [
    {
     "name": "stdout",
     "output_type": "stream",
     "text": [
      "[[0.99312374]]\n",
      "[[0.25915479]]\n",
      "[[0.91853336]]\n",
      "[[-0.27126122]]\n",
      "[[-0.42997787]]\n",
      "[[-0.1377701]]\n",
      "[[-0.03518626]]\n",
      "[[0.552559]]\n",
      "[[0.99867885]]\n"
     ]
    }
   ],
   "source": [
    "print(cosine_similarity(x2,y1))\n",
    "\n",
    "print(cosine_similarity(x2,y2))\n",
    "print(cosine_similarity(x2,y3))\n",
    "print(cosine_similarity(x2,y4))\n",
    "print(cosine_similarity(x2,y5))\n",
    "print(cosine_similarity(x2,y6))\n",
    "print(cosine_similarity(x2,y7))\n",
    "print(cosine_similarity(x2,y8))\n",
    "print(cosine_similarity(x2,y9))"
   ]
  },
  {
   "cell_type": "code",
   "execution_count": null,
   "metadata": {},
   "outputs": [],
   "source": [
    "\n"
   ]
  },
  {
   "cell_type": "code",
   "execution_count": 18,
   "metadata": {
    "scrolled": true
   },
   "outputs": [
    {
     "name": "stdout",
     "output_type": "stream",
     "text": [
      "[[-5.43292142 -1.41443146]\n",
      " [-3.56792447  3.58647229]\n",
      " [-3.10789822 -1.31452503]\n",
      " [-2.9910326   0.62852012]\n",
      " [-3.11488412  1.26334101]\n",
      " [-2.68087304 -0.23583232]\n",
      " [-1.83677144 -0.13276713]\n",
      " [-1.83677144 -0.13276713]\n",
      " [-5.36417609 -0.52352878]\n",
      " [-5.74668158 -1.06478259]\n",
      " [-1.08650715  0.39299528]\n",
      " [-1.50876936  0.48022246]\n",
      " [-3.26859698  0.57462039]\n",
      " [-3.91169445  0.04500543]]\n",
      "                      0         1\n",
      "no_slides     -5.432921 -1.414431\n",
      "no_Table      -3.567924  3.586472\n",
      "no_Picture    -3.107898 -1.314525\n",
      "No_fonttypes  -2.991033  0.628520\n",
      "No_fontcolor  -3.114884  1.263341\n",
      "Bold          -2.680873 -0.235832\n",
      "Underline     -1.836771 -0.132767\n",
      "Italic        -1.836771 -0.132767\n",
      "Max_font_size -5.364176 -0.523529\n",
      "Min_font_size -5.746682 -1.064783\n",
      "no_of_hlink   -1.086507  0.392995\n",
      "footer        -1.508769  0.480222\n",
      "Date          -3.268597  0.574620\n",
      "Slide number  -3.911694  0.045005\n"
     ]
    }
   ],
   "source": [
    "\n",
    "from numpy import array\n",
    "from numpy import diag\n",
    "from numpy import dot\n",
    "from numpy import zeros\n",
    "from scipy.linalg import svd\n",
    "# define a matrix\n",
    "\n",
    "'''\n",
    "# Singular-value decomposition\n",
    "U, s, VT = svd(A)\n",
    "# create m x n Sigma matrix\n",
    "Sigma = zeros((A.shape[0], A.shape[1]))\n",
    "# populate Sigma with n x n diagonal matrix\n",
    "Sigma[:A.shape[0], :A.shape[0]] = diag(s)\n",
    "# reconstruct matrix\n",
    "B = U.dot(Sigma.dot(VT))\n",
    "B\n",
    "\n",
    "'''\n",
    "#print(A)\n",
    "# Singular-value decomposition\n",
    "U, s, VT = svd(A)\n",
    "# create m x n Sigma matrix\n",
    "Sigma = zeros((A.shape[0], A.shape[1]))\n",
    "# populate Sigma with n x n diagonal matrix\n",
    "Sigma[:A.shape[1], :A.shape[1]] = diag(s)\n",
    "# select\n",
    "n_elements = 2\n",
    "Sigma = Sigma[:, :n_elements]\n",
    "VT = VT[:n_elements, :]\n",
    "# reconstruct\n",
    "#B = U.dot(Sigma.dot(VT))\n",
    "#print(B)\n",
    "# transform\n",
    "T = U.dot(Sigma)\n",
    "print(T)\n",
    "T = A.dot(VT.T)\n",
    "\n",
    "\n",
    "\n",
    "\n",
    "\n",
    "\n",
    "\n",
    "\n"
   ]
  },
  {
   "cell_type": "code",
   "execution_count": 19,
   "metadata": {},
   "outputs": [
    {
     "data": {
      "text/plain": [
       "array([[-0.43283595, -0.42871556, -0.31376016, -0.19246775, -0.22122791,\n",
       "        -0.19003774, -0.32154873, -0.33003494, -0.44271205],\n",
       "       [ 0.50491871, -0.26095493,  0.34964887, -0.29655898, -0.36328906,\n",
       "        -0.24469484, -0.26480748, -0.29757677,  0.34092318]])"
      ]
     },
     "execution_count": 19,
     "metadata": {},
     "output_type": "execute_result"
    }
   ],
   "source": [
    "#Sigma[:A.shape[0], :A.shape[0]]\n",
    "U1=U[:,:2]\n",
    "Sigma1=Sigma[:2,:2]\n",
    "VT1=VT[:2,:]\n",
    "B1 = U1.dot(Sigma1.dot(VT1))\n",
    "VT1"
   ]
  },
  {
   "cell_type": "code",
   "execution_count": 20,
   "metadata": {},
   "outputs": [
    {
     "data": {
      "text/plain": [
       "(2, 9)"
      ]
     },
     "execution_count": 20,
     "metadata": {},
     "output_type": "execute_result"
    }
   ],
   "source": [
    "VT.shape"
   ]
  },
  {
   "cell_type": "code",
   "execution_count": 21,
   "metadata": {},
   "outputs": [],
   "source": [
    "x1=[-0.40372668,-0.36072329]\n",
    "x2=[-0.20845189,0.06183574]\n",
    "x3=[-0.43250535,0.54504857]\n",
    "x4=[-0.43842524,-0.25291924]\n",
    "x5=[-0.34537217,-0.46299475]\n",
    "x6=[-0.33751,-0.14762436]\n",
    "x7=[-0.27068834,0.39128387]\n",
    "x8=[-0.32834113,0.34021876]"
   ]
  }
 ],
 "metadata": {
  "kernelspec": {
   "display_name": "Python 3",
   "language": "python",
   "name": "python3"
  },
  "language_info": {
   "codemirror_mode": {
    "name": "ipython",
    "version": 3
   },
   "file_extension": ".py",
   "mimetype": "text/x-python",
   "name": "python",
   "nbconvert_exporter": "python",
   "pygments_lexer": "ipython3",
   "version": "3.8.5"
  }
 },
 "nbformat": 4,
 "nbformat_minor": 4
}
